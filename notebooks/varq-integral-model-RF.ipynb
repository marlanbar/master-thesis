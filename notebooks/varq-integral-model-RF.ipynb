{
 "cells": [
  {
   "cell_type": "code",
   "execution_count": 1,
   "metadata": {
    "ExecuteTime": {
     "end_time": "2019-01-27T18:52:13.975107Z",
     "start_time": "2019-01-27T18:52:13.188394Z"
    },
    "collapsed": true
   },
   "outputs": [],
   "source": [
    "import operator\n",
    "import pandas as pd\n",
    "import matplotlib.pyplot as plt\n",
    "import seaborn as sns\n",
    "import numpy as np\n",
    "\n",
    "from sklearn import feature_selection\n",
    "from sklearn.base import BaseEstimator, TransformerMixin\n",
    "from sklearn.ensemble import RandomForestClassifier, AdaBoostClassifier\n",
    "from sklearn.ensemble import GradientBoostingClassifier\n",
    "from sklearn.linear_model import LogisticRegression\n",
    "from sklearn.svm import SVC\n",
    "\n",
    "from sklearn.pipeline import Pipeline, make_pipeline\n",
    "from sklearn.pipeline import FeatureUnion\n",
    "from sklearn.preprocessing import StandardScaler, RobustScaler, Imputer, LabelEncoder\n",
    "from sklearn.model_selection import GridSearchCV, RandomizedSearchCV, train_test_split, StratifiedKFold\n",
    "from sklearn.metrics import confusion_matrix, classification_report, roc_curve, auc\n",
    "from sklearn.metrics import accuracy_score, f1_score, roc_auc_score\n",
    "\n",
    "from IPython.core.pylabtools import figsize \n",
    "%matplotlib inline"
   ]
  },
  {
   "cell_type": "code",
   "execution_count": 2,
   "metadata": {
    "ExecuteTime": {
     "end_time": "2019-01-27T18:52:13.995261Z",
     "start_time": "2019-01-27T18:52:13.989265Z"
    },
    "collapsed": true
   },
   "outputs": [],
   "source": [
    "class ItemSelector(BaseEstimator, TransformerMixin):\n",
    "    def __init__(self, key):\n",
    "        self.key = key\n",
    "\n",
    "    def fit(self, x, y=None):\n",
    "        return self\n",
    "\n",
    "    def transform(self, data_dict):\n",
    "        return data_dict[self.key]"
   ]
  },
  {
   "cell_type": "code",
   "execution_count": 3,
   "metadata": {
    "ExecuteTime": {
     "end_time": "2019-01-27T18:52:14.035401Z",
     "start_time": "2019-01-27T18:52:14.014230Z"
    },
    "collapsed": true
   },
   "outputs": [],
   "source": [
    "RANDOM_STATE = 42"
   ]
  },
  {
   "cell_type": "code",
   "execution_count": 32,
   "metadata": {
    "ExecuteTime": {
     "end_time": "2018-09-08T16:49:18.072261Z",
     "start_time": "2018-09-08T16:49:17.327678Z"
    },
    "collapsed": true,
    "deletable": false,
    "editable": false,
    "run_control": {
     "frozen": true
    }
   },
   "outputs": [],
   "source": [
    "integral = pd.read_csv(\"../data/processed/integral/dataset.csv.gz\", index_col=\"MUTANT\").drop(\"TYPE\", 1)\n",
    "\n",
    "# genomic = pd.read_csv(\"../data/processed/genomic/dataset.csv.gz\", index_col='MUTANT').drop(\"TYPE\", 1)\n",
    "varq = pd.read_csv(\"../data/processed/varq/dataset.csv.gz\", index_col=\"MUTANT\")\n",
    "\n",
    "full = varq.merge(integral, right_index=True, left_index=True, how=\"left\")"
   ]
  },
  {
   "cell_type": "code",
   "execution_count": 33,
   "metadata": {
    "ExecuteTime": {
     "end_time": "2018-09-08T16:49:24.240025Z",
     "start_time": "2018-09-08T16:49:23.306441Z"
    },
    "collapsed": true,
    "deletable": false,
    "editable": false,
    "run_control": {
     "frozen": true
    }
   },
   "outputs": [],
   "source": [
    "full.to_csv(\"../data/processed/varq_integral/dataset.csv.gz\", index=True, index_label=\"MUTANT\", compression=\"gzip\")"
   ]
  },
  {
   "cell_type": "code",
   "execution_count": 4,
   "metadata": {
    "ExecuteTime": {
     "end_time": "2019-01-27T18:52:14.240218Z",
     "start_time": "2019-01-27T18:52:14.078790Z"
    },
    "collapsed": true
   },
   "outputs": [],
   "source": [
    "full = pd.read_csv(\"../data/processed/varq_integral/dataset.csv.gz\", index_col=\"MUTANT\")"
   ]
  },
  {
   "cell_type": "code",
   "execution_count": 5,
   "metadata": {
    "ExecuteTime": {
     "end_time": "2019-01-27T18:52:14.358384Z",
     "start_time": "2019-01-27T18:52:14.353055Z"
    }
   },
   "outputs": [
    {
     "data": {
      "text/plain": [
       "(7418, 73)"
      ]
     },
     "execution_count": 5,
     "metadata": {},
     "output_type": "execute_result"
    }
   ],
   "source": [
    "full.shape"
   ]
  },
  {
   "cell_type": "code",
   "execution_count": 6,
   "metadata": {
    "ExecuteTime": {
     "end_time": "2019-01-27T18:52:14.556558Z",
     "start_time": "2019-01-27T18:52:14.545205Z"
    }
   },
   "outputs": [
    {
     "data": {
      "text/plain": [
       "Pathogenic    0.724858\n",
       "Benign        0.275142\n",
       "Name: TYPE, dtype: float64"
      ]
     },
     "execution_count": 6,
     "metadata": {},
     "output_type": "execute_result"
    }
   ],
   "source": [
    "full.TYPE.value_counts(normalize=True)"
   ]
  },
  {
   "cell_type": "code",
   "execution_count": 7,
   "metadata": {
    "ExecuteTime": {
     "end_time": "2019-01-27T18:52:15.081678Z",
     "start_time": "2019-01-27T18:52:14.823911Z"
    }
   },
   "outputs": [
    {
     "data": {
      "text/html": [
       "<div>\n",
       "<table border=\"1\" class=\"dataframe\">\n",
       "  <thead>\n",
       "    <tr style=\"text-align: right;\">\n",
       "      <th></th>\n",
       "      <th>SASA</th>\n",
       "      <th>SASA_PERCENTAGE</th>\n",
       "      <th>BFACTOR</th>\n",
       "      <th>SWITCHBILITY</th>\n",
       "      <th>AGGREGABILITY</th>\n",
       "      <th>CONSERVATION</th>\n",
       "      <th>VARIATION_ENERGY</th>\n",
       "      <th>CONS</th>\n",
       "      <th>SNP_DEN</th>\n",
       "      <th>HAPMAP_SNP_DEN</th>\n",
       "      <th>...</th>\n",
       "      <th>AROMATICITY_DIFF</th>\n",
       "      <th>AROMATICITY_LOG_RATIO</th>\n",
       "      <th>ISOELECTRIC_POINT_DIFF</th>\n",
       "      <th>ISOELECTRIC_POINT_LOG_RATIO</th>\n",
       "      <th>GRAVY_DIFF</th>\n",
       "      <th>GRAVY_LOG_RATIO</th>\n",
       "      <th>INSTABILITY_INDEX_DIFF</th>\n",
       "      <th>INSTABILITY_INDEX_LOG_RATIO</th>\n",
       "      <th>FLEXIBILITY_DIFF</th>\n",
       "      <th>FLEXIBILITY_LOG_RATIO</th>\n",
       "    </tr>\n",
       "  </thead>\n",
       "  <tbody>\n",
       "    <tr>\n",
       "      <th>count</th>\n",
       "      <td>7070.000000</td>\n",
       "      <td>7070.000000</td>\n",
       "      <td>7070.000000</td>\n",
       "      <td>6704.000000</td>\n",
       "      <td>5335.000000</td>\n",
       "      <td>2742.000000</td>\n",
       "      <td>7418.000000</td>\n",
       "      <td>4744.000000</td>\n",
       "      <td>4744.000000</td>\n",
       "      <td>4744.000000</td>\n",
       "      <td>...</td>\n",
       "      <td>6644.000000</td>\n",
       "      <td>5118.000000</td>\n",
       "      <td>6644.000000</td>\n",
       "      <td>6644.000000</td>\n",
       "      <td>6644.000000</td>\n",
       "      <td>5.435000e+03</td>\n",
       "      <td>6644.000000</td>\n",
       "      <td>5846.000000</td>\n",
       "      <td>6613.000000</td>\n",
       "      <td>6613.000000</td>\n",
       "    </tr>\n",
       "    <tr>\n",
       "      <th>mean</th>\n",
       "      <td>32.105675</td>\n",
       "      <td>0.150610</td>\n",
       "      <td>56.445569</td>\n",
       "      <td>0.384835</td>\n",
       "      <td>5.017957</td>\n",
       "      <td>0.330460</td>\n",
       "      <td>2.914977</td>\n",
       "      <td>0.686224</td>\n",
       "      <td>0.076982</td>\n",
       "      <td>0.000110</td>\n",
       "      <td>...</td>\n",
       "      <td>0.019433</td>\n",
       "      <td>1.985775</td>\n",
       "      <td>0.735431</td>\n",
       "      <td>2.005113</td>\n",
       "      <td>0.234660</td>\n",
       "      <td>2.364199e+12</td>\n",
       "      <td>13.451748</td>\n",
       "      <td>2.040824</td>\n",
       "      <td>0.009634</td>\n",
       "      <td>2.000381</td>\n",
       "    </tr>\n",
       "    <tr>\n",
       "      <th>std</th>\n",
       "      <td>39.148405</td>\n",
       "      <td>0.176877</td>\n",
       "      <td>71.760154</td>\n",
       "      <td>0.890387</td>\n",
       "      <td>17.607171</td>\n",
       "      <td>0.188785</td>\n",
       "      <td>4.842729</td>\n",
       "      <td>0.089664</td>\n",
       "      <td>0.087754</td>\n",
       "      <td>0.000839</td>\n",
       "      <td>...</td>\n",
       "      <td>0.026050</td>\n",
       "      <td>0.326575</td>\n",
       "      <td>0.981368</td>\n",
       "      <td>0.077378</td>\n",
       "      <td>0.173779</td>\n",
       "      <td>1.094083e+14</td>\n",
       "      <td>12.849963</td>\n",
       "      <td>1.012928</td>\n",
       "      <td>0.006929</td>\n",
       "      <td>0.008591</td>\n",
       "    </tr>\n",
       "    <tr>\n",
       "      <th>min</th>\n",
       "      <td>0.000000</td>\n",
       "      <td>0.000000</td>\n",
       "      <td>0.000000</td>\n",
       "      <td>0.000000</td>\n",
       "      <td>0.000000</td>\n",
       "      <td>0.130000</td>\n",
       "      <td>-12.642100</td>\n",
       "      <td>0.388350</td>\n",
       "      <td>0.000000</td>\n",
       "      <td>0.000000</td>\n",
       "      <td>...</td>\n",
       "      <td>0.000000</td>\n",
       "      <td>1.000000</td>\n",
       "      <td>0.000000</td>\n",
       "      <td>1.706712</td>\n",
       "      <td>0.000000</td>\n",
       "      <td>-1.416794e+02</td>\n",
       "      <td>0.001250</td>\n",
       "      <td>-35.097991</td>\n",
       "      <td>0.000003</td>\n",
       "      <td>1.972809</td>\n",
       "    </tr>\n",
       "    <tr>\n",
       "      <th>25%</th>\n",
       "      <td>0.670000</td>\n",
       "      <td>0.000000</td>\n",
       "      <td>19.765000</td>\n",
       "      <td>0.000000</td>\n",
       "      <td>0.000000</td>\n",
       "      <td>0.250000</td>\n",
       "      <td>0.257785</td>\n",
       "      <td>0.623586</td>\n",
       "      <td>0.032110</td>\n",
       "      <td>0.000000</td>\n",
       "      <td>...</td>\n",
       "      <td>0.004167</td>\n",
       "      <td>1.939356</td>\n",
       "      <td>0.000000</td>\n",
       "      <td>1.986984</td>\n",
       "      <td>0.093333</td>\n",
       "      <td>1.368368e+00</td>\n",
       "      <td>3.778750</td>\n",
       "      <td>1.958330</td>\n",
       "      <td>0.004088</td>\n",
       "      <td>1.994288</td>\n",
       "    </tr>\n",
       "    <tr>\n",
       "      <th>50%</th>\n",
       "      <td>15.208000</td>\n",
       "      <td>0.070000</td>\n",
       "      <td>37.342500</td>\n",
       "      <td>0.009150</td>\n",
       "      <td>0.000000</td>\n",
       "      <td>0.300000</td>\n",
       "      <td>1.512550</td>\n",
       "      <td>0.700991</td>\n",
       "      <td>0.049020</td>\n",
       "      <td>0.000000</td>\n",
       "      <td>...</td>\n",
       "      <td>0.008333</td>\n",
       "      <td>1.941036</td>\n",
       "      <td>0.237854</td>\n",
       "      <td>2.000000</td>\n",
       "      <td>0.202500</td>\n",
       "      <td>1.908269e+00</td>\n",
       "      <td>9.599583</td>\n",
       "      <td>2.006283</td>\n",
       "      <td>0.008247</td>\n",
       "      <td>2.000324</td>\n",
       "    </tr>\n",
       "    <tr>\n",
       "      <th>75%</th>\n",
       "      <td>52.149250</td>\n",
       "      <td>0.270000</td>\n",
       "      <td>61.138125</td>\n",
       "      <td>0.277000</td>\n",
       "      <td>0.163000</td>\n",
       "      <td>0.370000</td>\n",
       "      <td>3.885900</td>\n",
       "      <td>0.757558</td>\n",
       "      <td>0.075804</td>\n",
       "      <td>0.000000</td>\n",
       "      <td>...</td>\n",
       "      <td>0.020833</td>\n",
       "      <td>1.942567</td>\n",
       "      <td>1.341888</td>\n",
       "      <td>2.023071</td>\n",
       "      <td>0.341250</td>\n",
       "      <td>2.423760e+00</td>\n",
       "      <td>19.269896</td>\n",
       "      <td>2.092317</td>\n",
       "      <td>0.013802</td>\n",
       "      <td>2.006216</td>\n",
       "    </tr>\n",
       "    <tr>\n",
       "      <th>max</th>\n",
       "      <td>246.410000</td>\n",
       "      <td>0.750000</td>\n",
       "      <td>755.610000</td>\n",
       "      <td>8.720000</td>\n",
       "      <td>100.000000</td>\n",
       "      <td>4.770000</td>\n",
       "      <td>57.513400</td>\n",
       "      <td>0.892079</td>\n",
       "      <td>0.536765</td>\n",
       "      <td>0.014085</td>\n",
       "      <td>...</td>\n",
       "      <td>0.222222</td>\n",
       "      <td>3.662755</td>\n",
       "      <td>6.305908</td>\n",
       "      <td>2.445119</td>\n",
       "      <td>1.272222</td>\n",
       "      <td>7.318295e+15</td>\n",
       "      <td>105.402778</td>\n",
       "      <td>20.143583</td>\n",
       "      <td>0.038935</td>\n",
       "      <td>2.025499</td>\n",
       "    </tr>\n",
       "  </tbody>\n",
       "</table>\n",
       "<p>8 rows × 70 columns</p>\n",
       "</div>"
      ],
      "text/plain": [
       "              SASA  SASA_PERCENTAGE      BFACTOR  SWITCHBILITY  AGGREGABILITY  \\\n",
       "count  7070.000000      7070.000000  7070.000000   6704.000000    5335.000000   \n",
       "mean     32.105675         0.150610    56.445569      0.384835       5.017957   \n",
       "std      39.148405         0.176877    71.760154      0.890387      17.607171   \n",
       "min       0.000000         0.000000     0.000000      0.000000       0.000000   \n",
       "25%       0.670000         0.000000    19.765000      0.000000       0.000000   \n",
       "50%      15.208000         0.070000    37.342500      0.009150       0.000000   \n",
       "75%      52.149250         0.270000    61.138125      0.277000       0.163000   \n",
       "max     246.410000         0.750000   755.610000      8.720000     100.000000   \n",
       "\n",
       "       CONSERVATION  VARIATION_ENERGY         CONS      SNP_DEN  \\\n",
       "count   2742.000000       7418.000000  4744.000000  4744.000000   \n",
       "mean       0.330460          2.914977     0.686224     0.076982   \n",
       "std        0.188785          4.842729     0.089664     0.087754   \n",
       "min        0.130000        -12.642100     0.388350     0.000000   \n",
       "25%        0.250000          0.257785     0.623586     0.032110   \n",
       "50%        0.300000          1.512550     0.700991     0.049020   \n",
       "75%        0.370000          3.885900     0.757558     0.075804   \n",
       "max        4.770000         57.513400     0.892079     0.536765   \n",
       "\n",
       "       HAPMAP_SNP_DEN          ...            AROMATICITY_DIFF  \\\n",
       "count     4744.000000          ...                 6644.000000   \n",
       "mean         0.000110          ...                    0.019433   \n",
       "std          0.000839          ...                    0.026050   \n",
       "min          0.000000          ...                    0.000000   \n",
       "25%          0.000000          ...                    0.004167   \n",
       "50%          0.000000          ...                    0.008333   \n",
       "75%          0.000000          ...                    0.020833   \n",
       "max          0.014085          ...                    0.222222   \n",
       "\n",
       "       AROMATICITY_LOG_RATIO  ISOELECTRIC_POINT_DIFF  \\\n",
       "count            5118.000000             6644.000000   \n",
       "mean                1.985775                0.735431   \n",
       "std                 0.326575                0.981368   \n",
       "min                 1.000000                0.000000   \n",
       "25%                 1.939356                0.000000   \n",
       "50%                 1.941036                0.237854   \n",
       "75%                 1.942567                1.341888   \n",
       "max                 3.662755                6.305908   \n",
       "\n",
       "       ISOELECTRIC_POINT_LOG_RATIO   GRAVY_DIFF  GRAVY_LOG_RATIO  \\\n",
       "count                  6644.000000  6644.000000     5.435000e+03   \n",
       "mean                      2.005113     0.234660     2.364199e+12   \n",
       "std                       0.077378     0.173779     1.094083e+14   \n",
       "min                       1.706712     0.000000    -1.416794e+02   \n",
       "25%                       1.986984     0.093333     1.368368e+00   \n",
       "50%                       2.000000     0.202500     1.908269e+00   \n",
       "75%                       2.023071     0.341250     2.423760e+00   \n",
       "max                       2.445119     1.272222     7.318295e+15   \n",
       "\n",
       "       INSTABILITY_INDEX_DIFF  INSTABILITY_INDEX_LOG_RATIO  FLEXIBILITY_DIFF  \\\n",
       "count             6644.000000                  5846.000000       6613.000000   \n",
       "mean                13.451748                     2.040824          0.009634   \n",
       "std                 12.849963                     1.012928          0.006929   \n",
       "min                  0.001250                   -35.097991          0.000003   \n",
       "25%                  3.778750                     1.958330          0.004088   \n",
       "50%                  9.599583                     2.006283          0.008247   \n",
       "75%                 19.269896                     2.092317          0.013802   \n",
       "max                105.402778                    20.143583          0.038935   \n",
       "\n",
       "       FLEXIBILITY_LOG_RATIO  \n",
       "count            6613.000000  \n",
       "mean                2.000381  \n",
       "std                 0.008591  \n",
       "min                 1.972809  \n",
       "25%                 1.994288  \n",
       "50%                 2.000324  \n",
       "75%                 2.006216  \n",
       "max                 2.025499  \n",
       "\n",
       "[8 rows x 70 columns]"
      ]
     },
     "execution_count": 7,
     "metadata": {},
     "output_type": "execute_result"
    }
   ],
   "source": [
    "full.describe()"
   ]
  },
  {
   "cell_type": "code",
   "execution_count": 8,
   "metadata": {
    "ExecuteTime": {
     "end_time": "2019-01-27T18:52:15.200041Z",
     "start_time": "2019-01-27T18:52:15.170079Z"
    },
    "collapsed": true
   },
   "outputs": [],
   "source": [
    "le = LabelEncoder()\n",
    "X = full[~full.TYPE.isnull()].drop(['TYPE'], 1)\n",
    "y = le.fit_transform(full[~full.TYPE.isnull()].TYPE)\n",
    "\n",
    "X_train, X_test, y_train, y_test = train_test_split(X, y, test_size=0.33, random_state=42, stratify=y)\n",
    "\n",
    "cat_vars_genomic = ['INTRON','MISSENSE', 'NEAR-GENE', 'NCRNA', 'CODING-SYNON', 'UNTRANSLATED',\n",
    "       'NONSENSE', 'SPLICE', 'STOP-LOSS']\n",
    "\n",
    "cat_vars_structural = ['BINDING','ACT_SITE','SITE','LIPID','METAL','CARBOHYD',\n",
    "                       'DNA_BIND','NP_BIND','CA_BIND','DISULFID','SE_CYS','MOD_RES','PROPEP','SIGNALP',\n",
    "                       'TRANSMEM','COMPBIAS','REP','MOTIF','ZN_FING','REGIONS','PPI','RNABD','TF','LOC',\n",
    "                       'MMBRBD','CHROM','POSTMODREC','POSTMODENZ']\n",
    "\n",
    "cat_vars_varq = [\"PDB\", \"3DID\"]\n",
    "\n",
    "cat_vars  = cat_vars_genomic + cat_vars_structural + cat_vars_varq\n",
    "cont_vars = X.columns.drop(cat_vars, 1).tolist()\n",
    "\n"
   ]
  },
  {
   "cell_type": "code",
   "execution_count": 9,
   "metadata": {
    "ExecuteTime": {
     "end_time": "2019-01-27T18:52:15.482346Z",
     "start_time": "2019-01-27T18:52:15.458420Z"
    },
    "collapsed": true
   },
   "outputs": [],
   "source": [
    "impute = ('union', \n",
    "          FeatureUnion(\n",
    "              transformer_list=[\n",
    "                  ('continuous', Pipeline([\n",
    "                      ('selector', ItemSelector(key=cont_vars)),\n",
    "                      ('imputer', Imputer(missing_values=\"NaN\", strategy=\"median\"))\n",
    "                  ])),\n",
    "                  ('categorical', Pipeline([\n",
    "                      ('selector', ItemSelector(key=cat_vars)),\n",
    "                      ('imputer', Imputer(missing_values=\"NaN\", strategy=\"most_frequent\"))\n",
    "                      \n",
    "                  ]))\n",
    "              ]))\n",
    "                  \n",
    "\n",
    "# impute = ('imputer', Imputer(missing_values=\"NaN\", strategy=\"median\"))\n",
    "scale = ('scaler', RobustScaler())\n",
    "\n",
    "model_dict = {\n",
    "    'lr':{'pipe':[impute, scale, ('lr', LogisticRegression())],\n",
    "        'params':[{'lr__C' : [.001, .01, .1, 1, 10, 100, 1000], 'lr__class_weight':[None, 'balanced']}],\n",
    "        'name':'LogisticRegression'\n",
    "    },\n",
    "    'rf':{'pipe':[impute, ('rf', RandomForestClassifier(random_state=RANDOM_STATE))],\n",
    "        'params':[{'rf__max_depth':[3,5,7], 'rf__n_estimators':[10,50,100], 'rf__max_features':[4,'sqrt',0.2]}],\n",
    "        'name':'Random Forest'\n",
    "    },\n",
    "    'svc':{'pipe': [impute, scale, ('svc', SVC(kernel='rbf'))],\n",
    "           'params':[{'svc__kernel': ['rbf'], 'svc__gamma': [1e-2, 1e-3, 1e-4, 1e-5],\n",
    "                'svc__C': [0.001, 0.10, 0.1, 10, 25, 50, 100, 1000]}]\n",
    "        \n",
    "    },\n",
    "}"
   ]
  },
  {
   "cell_type": "code",
   "execution_count": 10,
   "metadata": {
    "ExecuteTime": {
     "end_time": "2019-01-27T18:52:15.760813Z",
     "start_time": "2019-01-27T18:52:15.752995Z"
    },
    "collapsed": true
   },
   "outputs": [],
   "source": [
    "folds = 3\n",
    "skf = StratifiedKFold(n_splits=folds, shuffle=True, random_state=1001)\n",
    "algorithm = 'rf'\n",
    "model = Pipeline(model_dict[algorithm]['pipe'])\n",
    "param_list = [model_dict[algorithm]['params']][0]\n",
    "gs = GridSearchCV(model, param_list, cv=skf.split(X_train, y_train), n_jobs=3, \n",
    "                  scoring='roc_auc', verbose=1, refit=True)\n"
   ]
  },
  {
   "cell_type": "code",
   "execution_count": 11,
   "metadata": {
    "ExecuteTime": {
     "end_time": "2019-01-27T18:52:16.840047Z",
     "start_time": "2019-01-27T18:52:16.834439Z"
    }
   },
   "outputs": [
    {
     "data": {
      "text/plain": [
       "(7418, 72)"
      ]
     },
     "execution_count": 11,
     "metadata": {},
     "output_type": "execute_result"
    }
   ],
   "source": [
    "X.shape"
   ]
  },
  {
   "cell_type": "code",
   "execution_count": 12,
   "metadata": {
    "ExecuteTime": {
     "end_time": "2019-01-27T18:52:17.186158Z",
     "start_time": "2019-01-27T18:52:17.183098Z"
    }
   },
   "outputs": [
    {
     "name": "stdout",
     "output_type": "stream",
     "text": [
      "4970\n",
      "0.66999191156646\n"
     ]
    }
   ],
   "source": [
    "print (X_train.shape[0])\n",
    "print (X_train.shape[0] / X.shape[0])"
   ]
  },
  {
   "cell_type": "code",
   "execution_count": 13,
   "metadata": {
    "ExecuteTime": {
     "end_time": "2019-01-27T18:52:30.365291Z",
     "start_time": "2019-01-27T18:52:17.990863Z"
    }
   },
   "outputs": [
    {
     "name": "stdout",
     "output_type": "stream",
     "text": [
      "Fitting 3 folds for each of 27 candidates, totalling 81 fits\n"
     ]
    },
    {
     "name": "stderr",
     "output_type": "stream",
     "text": [
      "[Parallel(n_jobs=3)]: Done  76 out of  81 | elapsed:    9.6s remaining:    0.6s\n",
      "[Parallel(n_jobs=3)]: Done  81 out of  81 | elapsed:   11.1s finished\n"
     ]
    },
    {
     "data": {
      "text/plain": [
       "GridSearchCV(cv=<generator object _BaseKFold.split at 0x7f4085d21db0>,\n",
       "       error_score='raise',\n",
       "       estimator=Pipeline(memory=None,\n",
       "     steps=[('union', FeatureUnion(n_jobs=1,\n",
       "       transformer_list=[('continuous', Pipeline(memory=None,\n",
       "     steps=[('selector', ItemSelector(key=['SASA', 'SASA_PERCENTAGE', 'BFACTOR', 'SWITCHBILITY', 'AGGREGABILITY', 'CONSERVATION', 'VARIATION_ENERGY', 'CONS', 'SNP_DEN', 'HAPMAP_SNP_DEN', 'PHYLOP46WA...stimators=10, n_jobs=1,\n",
       "            oob_score=False, random_state=42, verbose=0, warm_start=False))]),\n",
       "       fit_params=None, iid=True, n_jobs=3,\n",
       "       param_grid=[{'rf__max_depth': [3, 5, 7], 'rf__n_estimators': [10, 50, 100], 'rf__max_features': [4, 'sqrt', 0.2]}],\n",
       "       pre_dispatch='2*n_jobs', refit=True, return_train_score='warn',\n",
       "       scoring='roc_auc', verbose=1)"
      ]
     },
     "execution_count": 13,
     "metadata": {},
     "output_type": "execute_result"
    }
   ],
   "source": [
    "gs.fit(X_train, y_train)"
   ]
  },
  {
   "cell_type": "code",
   "execution_count": 15,
   "metadata": {
    "ExecuteTime": {
     "end_time": "2019-01-27T18:52:31.037513Z",
     "start_time": "2019-01-27T18:52:31.031585Z"
    }
   },
   "outputs": [
    {
     "data": {
      "text/plain": [
       "{'rf__max_depth': 7, 'rf__max_features': 0.2, 'rf__n_estimators': 100}"
      ]
     },
     "execution_count": 15,
     "metadata": {},
     "output_type": "execute_result"
    }
   ],
   "source": [
    "gs.best_params_"
   ]
  },
  {
   "cell_type": "code",
   "execution_count": 14,
   "metadata": {
    "ExecuteTime": {
     "end_time": "2019-01-27T18:52:30.689566Z",
     "start_time": "2019-01-27T18:52:30.685275Z"
    },
    "collapsed": true
   },
   "outputs": [],
   "source": [
    "rf = gs.best_estimator_"
   ]
  },
  {
   "cell_type": "code",
   "execution_count": null,
   "metadata": {
    "collapsed": true
   },
   "outputs": [],
   "source": []
  },
  {
   "cell_type": "code",
   "execution_count": 16,
   "metadata": {
    "ExecuteTime": {
     "end_time": "2019-01-13T22:27:34.353594Z",
     "start_time": "2019-01-13T22:27:34.286693Z"
    },
    "collapsed": true
   },
   "outputs": [],
   "source": [
    "_ = rf.predict_proba(X_test)[:, 1]"
   ]
  },
  {
   "cell_type": "code",
   "execution_count": 16,
   "metadata": {
    "ExecuteTime": {
     "end_time": "2018-10-21T17:50:53.656653Z",
     "start_time": "2018-10-21T17:50:53.435941Z"
    }
   },
   "outputs": [
    {
     "data": {
      "image/png": "[encoded data removed]",
      "text/plain": [
       "<matplotlib.figure.Figure at 0x7f4c1b7d8b38>"
      ]
     },
     "metadata": {},
     "output_type": "display_data"
    }
   ],
   "source": [
    "# cols = (cont_vars + cat_vars)\n",
    "# ranking_size = 10\n",
    "# forest = rf.steps[1][1]\n",
    "\n",
    "# importances = [(cols[e], x) for e, x in enumerate(forest.feature_importances_)]\n",
    "# importances.sort(key=operator.itemgetter(1), reverse=True)\n",
    "# indices = np.argsort(forest.feature_importances_)[:ranking_size]\n",
    "# importances = importances[:ranking_size][::-1]\n",
    "# std = np.std([tree.feature_importances_ for tree in forest.estimators_],axis=0)\n",
    "# plt.figure(figsize=(8,6))\n",
    "# plt.barh(np.arange(len(importances)), [y for x, y in importances], 0.6, color=\"green\", align=\"center\", \n",
    "#          xerr=std[indices], ecolor=\"black\", error_kw={\"capthick\":2, \"capsize\":2})\n",
    "# plt.yticks(range(len(importances)), [x for x, y in importances], rotation='horizontal', fontsize=16)\n",
    "# plt.xlabel(\"Score\",fontsize=16)\n",
    "# plt.xticks(fontsize=14)\n",
    "# plt.tight_layout()\n",
    "\n",
    "cols = (cont_vars + cat_vars)\n",
    "ranking_size = 10\n",
    "forest = rf.steps[1][1]\n",
    "\n",
    "importances = [(cols[e], x) for e, x in enumerate(forest.feature_importances_)]\n",
    "importances.sort(key=operator.itemgetter(1), reverse=True)\n",
    "indices = np.argsort(forest.feature_importances_)[:ranking_size]\n",
    "importances = importances[:ranking_size][::-1]\n",
    "std = np.std([tree.feature_importances_ for tree in forest.estimators_],axis=0)\n",
    "plt.figure(figsize=(8,6))\n",
    "plt.barh(np.arange(len(importances)), [y for x, y in importances], 0.6, color=\"green\", align=\"center\", \n",
    "         xerr=std[indices], ecolor=\"black\", error_kw={\"capthick\":2, \"capsize\":2})\n",
    "plt.yticks(range(len(importances)), [x for x, y in importances], rotation='horizontal', fontsize=16)\n",
    "plt.xlabel(\"Score\",fontsize=16)\n",
    "plt.xticks(fontsize=16)\n",
    "plt.tight_layout()\n",
    "\n",
    "# plt.savefig(\"/home/marlan/Desktop/importances_varq_integral.pdf\", bbox_inches='tight', pad_inches=0.1)"
   ]
  },
  {
   "cell_type": "code",
   "execution_count": 22,
   "metadata": {
    "ExecuteTime": {
     "end_time": "2018-09-08T16:45:21.144551Z",
     "start_time": "2018-09-08T16:45:17.441918Z"
    },
    "collapsed": true
   },
   "outputs": [],
   "source": [
    "from rfpimp import importances, plot_importances\n",
    "imp = importances(rf, X_test, y_test) # permutation"
   ]
  },
  {
   "cell_type": "code",
   "execution_count": 20,
   "metadata": {
    "ExecuteTime": {
     "end_time": "2018-09-02T14:24:40.499566Z",
     "start_time": "2018-09-02T14:24:40.324288Z"
    }
   },
   "outputs": [
    {
     "data": {
      "image/png": "[encoded data removed]",
      "text/plain": [
       "<matplotlib.figure.Figure at 0x7f7df2268da0>"
      ]
     },
     "metadata": {},
     "output_type": "display_data"
    }
   ],
   "source": [
    "plot_importances(imp[:15])"
   ]
  },
  {
   "cell_type": "code",
   "execution_count": 17,
   "metadata": {
    "ExecuteTime": {
     "end_time": "2018-10-21T18:31:25.405980Z",
     "start_time": "2018-10-21T18:31:25.336423Z"
    },
    "collapsed": true
   },
   "outputs": [],
   "source": [
    "fpr, tpr, _ = roc_curve(y_test, rf.predict_proba(X_test)[:, 1])\n",
    "roc_auc = auc(fpr, tpr)"
   ]
  },
  {
   "cell_type": "code",
   "execution_count": 18,
   "metadata": {
    "ExecuteTime": {
     "end_time": "2018-10-21T18:31:30.435648Z",
     "start_time": "2018-10-21T18:31:30.412581Z"
    },
    "collapsed": true
   },
   "outputs": [],
   "source": [
    "roc_curve = pd.concat([pd.Series(fpr,name=\"fpr\"), pd.Series(tpr, name=\"tpr\")], axis=1)\n",
    "roc_curve.to_csv(\"../results/varq_integral/auc_rf.csv\", index=False)"
   ]
  },
  {
   "cell_type": "code",
   "execution_count": 48,
   "metadata": {
    "ExecuteTime": {
     "end_time": "2018-09-08T16:50:21.761068Z",
     "start_time": "2018-09-08T16:50:21.525302Z"
    }
   },
   "outputs": [
    {
     "data": {
      "text/plain": [
       "<matplotlib.legend.Legend at 0x7f970c83a438>"
      ]
     },
     "execution_count": 48,
     "metadata": {},
     "output_type": "execute_result"
    },
    {
     "data": {
      "image/png": "[encoded data removed]",
      "text/plain": [
       "<matplotlib.figure.Figure at 0x7f97127778d0>"
      ]
     },
     "metadata": {},
     "output_type": "display_data"
    }
   ],
   "source": [
    "figsize(7,7)\n",
    "\n",
    "lw = 2\n",
    "plt.plot(fpr, tpr, color='darkorange',\n",
    "         lw=lw, label='Curva ROC (area = %0.2f)' % roc_auc)\n",
    "plt.plot([0, 1], [0, 1], color='navy', lw=lw, linestyle='--', label='Random')\n",
    "plt.xlim([0.0, 1.0])\n",
    "plt.ylim([0.0, 1.05])\n",
    "plt.xlabel('False Positive Rate', fontsize=16)\n",
    "plt.ylabel('True Positive Rate', fontsize=16)\n",
    "plt.xticks(fontsize=16)\n",
    "plt.yticks(fontsize=16)\n",
    "# plt.title('AUC Curve')\n",
    "plt.legend(loc=\"lower right\", prop={'size': 16})"
   ]
  },
  {
   "cell_type": "code",
   "execution_count": 21,
   "metadata": {
    "ExecuteTime": {
     "end_time": "2018-09-02T14:24:52.787918Z",
     "start_time": "2018-09-02T14:24:52.457838Z"
    }
   },
   "outputs": [
    {
     "data": {
      "image/png": "[encoded data removed]",
      "text/plain": [
       "<matplotlib.figure.Figure at 0x7f7df0665ef0>"
      ]
     },
     "metadata": {},
     "output_type": "display_data"
    }
   ],
   "source": [
    "fpr, tpr, _ = roc_curve(y_test, rf.predict_proba(X_test)[:, 1])\n",
    "roc_auc = auc(fpr, tpr)\n",
    "\n",
    "figsize(7,7)\n",
    "\n",
    "lw = 2\n",
    "plt.plot(fpr, tpr, color='darkorange',\n",
    "         lw=lw, label='Curva ROC (area = %0.2f)' % roc_auc)\n",
    "plt.plot([0, 1], [0, 1], color='navy', lw=lw, linestyle='--', label='Random')\n",
    "plt.xlim([0.0, 1.0])\n",
    "plt.ylim([0.0, 1.05])\n",
    "plt.xlabel('False Positive Rate', fontsize=16)\n",
    "plt.ylabel('True Positive Rate', fontsize=16)\n",
    "plt.xticks(fontsize=16)\n",
    "plt.yticks(fontsize=16)\n",
    "# plt.title('AUC Curve')\n",
    "plt.legend(loc=\"lower right\", prop={'size': 16})\n",
    "\n",
    "plt.savefig(\"/home/marlan/Desktop/auc_varq_integral.pdf\", bbox_inches='tight', pad_inches=0.1)"
   ]
  },
  {
   "cell_type": "code",
   "execution_count": 49,
   "metadata": {
    "ExecuteTime": {
     "end_time": "2018-09-08T17:10:11.729741Z",
     "start_time": "2018-09-08T17:10:11.631056Z"
    },
    "scrolled": true
   },
   "outputs": [
    {
     "name": "stdout",
     "output_type": "stream",
     "text": [
      "             precision    recall  f1-score   support\n",
      "\n",
      "     Benign       0.81      0.53      0.64       674\n",
      " Pathogenic       0.84      0.95      0.89      1774\n",
      "\n",
      "avg / total       0.83      0.83      0.82      2448\n",
      "\n"
     ]
    },
    {
     "name": "stderr",
     "output_type": "stream",
     "text": [
      "/home/marlan/anaconda3/lib/python3.6/site-packages/sklearn/preprocessing/label.py:151: DeprecationWarning: The truth value of an empty array is ambiguous. Returning False, but in future this will result in an error. Use `array.size > 0` to check that an array is not empty.\n",
      "  if diff:\n",
      "/home/marlan/anaconda3/lib/python3.6/site-packages/sklearn/preprocessing/label.py:151: DeprecationWarning: The truth value of an empty array is ambiguous. Returning False, but in future this will result in an error. Use `array.size > 0` to check that an array is not empty.\n",
      "  if diff:\n"
     ]
    }
   ],
   "source": [
    "print(classification_report(le.inverse_transform(y_test), le.inverse_transform(rf.predict(X_test))))"
   ]
  },
  {
   "cell_type": "code",
   "execution_count": 66,
   "metadata": {
    "ExecuteTime": {
     "end_time": "2018-09-09T00:38:02.749263Z",
     "start_time": "2018-09-09T00:38:02.738752Z"
    },
    "collapsed": true
   },
   "outputs": [],
   "source": [
    "features1 = [\"GRANTHAM\", \"EX\", \"PAM250\", \"BLOSUM\", \"JM\", \"VB\"] \n",
    "features2 = [\"HYDROPHOBICITY\", \"POLARITY\"]\n",
    "features3 = [\"CHARGE\", \"ISOELECTRIC_POINT_LOG_RATIO\"]\n",
    "features4 = ['PHYLOP46WAY', 'PHASTCONS46WAY']\n",
    "features5 = ['SASA', 'SASA_PERCENTAGE']\n",
    "\n",
    "features = X.drop(features1+features2+features3+features4+features5, axis=1).columns.tolist() + [features1] + [features2] + [features3] + [features4] + [features5]"
   ]
  },
  {
   "cell_type": "code",
   "execution_count": 67,
   "metadata": {
    "ExecuteTime": {
     "end_time": "2018-09-09T00:38:05.887042Z",
     "start_time": "2018-09-09T00:38:03.290321Z"
    },
    "collapsed": true
   },
   "outputs": [],
   "source": [
    "import rfpimp\n",
    "I = rfpimp.importances(rf, X_test, y_test, n_samples=-1, features=features)"
   ]
  },
  {
   "cell_type": "code",
   "execution_count": 68,
   "metadata": {
    "ExecuteTime": {
     "end_time": "2018-09-09T00:38:06.609072Z",
     "start_time": "2018-09-09T00:38:06.311132Z"
    }
   },
   "outputs": [
    {
     "data": {
      "image/png": "[encoded data removed]",
      "text/plain": [
       "<matplotlib.figure.Figure at 0x7f970c8bd710>"
      ]
     },
     "metadata": {},
     "output_type": "display_data"
    }
   ],
   "source": [
    "rfpimp.plot_importances(I.iloc[:7], label_fontsize=10, figsize=(8,8), tickstep=1, save=\"/home/marlan/Desktop/integral_varq_importance_cluster.pdf\")"
   ]
  },
  {
   "cell_type": "code",
   "execution_count": null,
   "metadata": {
    "collapsed": true
   },
   "outputs": [],
   "source": []
  }
 ],
 "metadata": {
  "kernelspec": {
   "display_name": "Python 3",
   "language": "python",
   "name": "python3"
  },
  "language_info": {
   "codemirror_mode": {
    "name": "ipython",
    "version": 3
   },
   "file_extension": ".py",
   "mimetype": "text/x-python",
   "name": "python",
   "nbconvert_exporter": "python",
   "pygments_lexer": "ipython3",
   "version": "3.6.6"
  },
  "varInspector": {
   "cols": {
    "lenName": 16,
    "lenType": 16,
    "lenVar": 40
   },
   "kernels_config": {
    "python": {
     "delete_cmd_postfix": "",
     "delete_cmd_prefix": "del ",
     "library": "var_list.py",
     "varRefreshCmd": "print(var_dic_list())"
    },
    "r": {
     "delete_cmd_postfix": ") ",
     "delete_cmd_prefix": "rm(",
     "library": "var_list.r",
     "varRefreshCmd": "cat(var_dic_list()) "
    }
   },
   "types_to_exclude": [
    "module",
    "function",
    "builtin_function_or_method",
    "instance",
    "_Feature"
   ],
   "window_display": false
  }
 },
 "nbformat": 4,
 "nbformat_minor": 2
}
