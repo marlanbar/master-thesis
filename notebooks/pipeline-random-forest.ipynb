{
 "cells": [
  {
   "cell_type": "code",
   "execution_count": 1,
   "metadata": {
    "ExecuteTime": {
     "end_time": "2018-04-08T15:51:21.316945Z",
     "start_time": "2018-04-08T15:51:19.888636Z"
    },
    "collapsed": true
   },
   "outputs": [],
   "source": [
    "import operator\n",
    "import pandas as pd\n",
    "import matplotlib.pyplot as plt\n",
    "import seaborn as sns\n",
    "import numpy as np\n",
    "\n",
    "from sklearn import feature_selection\n",
    "from sklearn.ensemble import RandomForestClassifier, AdaBoostClassifier\n",
    "from sklearn.ensemble import GradientBoostingClassifier\n",
    "from sklearn.linear_model import LogisticRegression\n",
    "from sklearn.svm import SVC\n",
    "\n",
    "from sklearn.pipeline import Pipeline, make_pipeline\n",
    "from sklearn.pipeline import FeatureUnion\n",
    "from sklearn.preprocessing import StandardScaler, RobustScaler, Imputer, LabelEncoder\n",
    "from sklearn.model_selection import GridSearchCV, RandomizedSearchCV, train_test_split, StratifiedKFold\n",
    "from sklearn.metrics import confusion_matrix, classification_report, roc_curve, auc\n",
    "from sklearn.metrics import accuracy_score, f1_score, roc_auc_score\n",
    "\n",
    "from IPython.core.pylabtools import figsize \n",
    "%matplotlib inline"
   ]
  },
  {
   "cell_type": "code",
   "execution_count": 6,
   "metadata": {
    "ExecuteTime": {
     "end_time": "2018-04-08T15:51:57.469706Z",
     "start_time": "2018-04-08T15:51:57.456852Z"
    },
    "collapsed": true
   },
   "outputs": [],
   "source": [
    "RANDOM_STATE = 42\n",
    "DATA_EXTERNAL = \"../data/external/\"\n",
    "DATA_PROCESSED = \"../data/processed/\"\n",
    "DATA_INTERIM = \"../data/interim/\""
   ]
  },
  {
   "cell_type": "code",
   "execution_count": 7,
   "metadata": {
    "ExecuteTime": {
     "end_time": "2018-04-08T15:51:58.320542Z",
     "start_time": "2018-04-08T15:51:58.281166Z"
    },
    "collapsed": true
   },
   "outputs": [],
   "source": [
    "model_dict = {\n",
    "    'rf':{'pipe':('rf', RandomForestClassifier(random_state=RANDOM_STATE)),\n",
    "          'params':[{'rf__max_depth':[2, 3, 5, 10, 15], 'rf__n_estimators':[3, 5, 7, 10, 50], 'rf__max_features':[1,2]}],\n",
    "          'name':'RandomForest'\n",
    "    },\n",
    "    'lr':{'pipe':('lr', LogisticRegression()),\n",
    "        'params':[{'lr__C': [.001, .01, .1, 1, 10, 100, 1000], 'lr__class_weight': [None, 'balanced']}],\n",
    "        'name':'LogisticRegression'\n",
    "    },\n",
    "    'svc':{'pipe':('svc', SVC(kernel='rbf')), \n",
    "        'params':[{'svc__C': [1,10,100,1000], 'svc__gamma': [1,0.1,0.001,0.0001]}],\n",
    "        'name': 'SupportVectorClassifier(RBF)'\n",
    "    }\n",
    "}"
   ]
  },
  {
   "cell_type": "markdown",
   "metadata": {},
   "source": [
    "#### Random Forest"
   ]
  },
  {
   "cell_type": "code",
   "execution_count": 8,
   "metadata": {
    "ExecuteTime": {
     "end_time": "2018-04-08T15:52:01.025345Z",
     "start_time": "2018-04-08T15:52:01.008331Z"
    },
    "collapsed": true
   },
   "outputs": [],
   "source": [
    "algorithm = 'rf'\n",
    "model = Pipeline([('imputer', Imputer(missing_values=\"NaN\", strategy=\"median\")), \n",
    "                  model_dict[algorithm]['pipe']])\n",
    "# model = Pipeline([('imputer', Imputer(missing_values=\"NaN\", strategy=\"median\")), ('scaler', StandardScaler()),\n",
    "#                   model_dict[algorithm]['pipe']])\n",
    "param_list = [model_dict[algorithm]['params']][0]\n",
    "\n",
    "folds = 3\n",
    "skf = StratifiedKFold(n_splits=folds, shuffle=True, random_state=RANDOM_STATE)"
   ]
  },
  {
   "cell_type": "code",
   "execution_count": 11,
   "metadata": {
    "ExecuteTime": {
     "end_time": "2018-04-08T16:07:37.559567Z",
     "start_time": "2018-04-08T15:53:48.431820Z"
    }
   },
   "outputs": [
    {
     "name": "stdout",
     "output_type": "stream",
     "text": [
      "Fitting 3 folds for each of 50 candidates, totalling 150 fits\n"
     ]
    },
    {
     "name": "stderr",
     "output_type": "stream",
     "text": [
      "[Parallel(n_jobs=3)]: Done  44 tasks      | elapsed:    7.7s\n",
      "[Parallel(n_jobs=3)]: Done 150 out of 150 | elapsed:   36.7s finished\n"
     ]
    },
    {
     "name": "stdout",
     "output_type": "stream",
     "text": [
      "Parameters (0): {'rf__max_depth': 15, 'rf__max_features': 2, 'rf__n_estimators': 50}\n",
      "Score train (0): 0.7130060351223263\n",
      "Score test (0): 0.7078467794052523\n",
      "Fitting 3 folds for each of 50 candidates, totalling 150 fits\n"
     ]
    },
    {
     "name": "stderr",
     "output_type": "stream",
     "text": [
      "[Parallel(n_jobs=3)]: Done  44 tasks      | elapsed:    7.3s\n",
      "[Parallel(n_jobs=3)]: Done 150 out of 150 | elapsed:   37.7s finished\n"
     ]
    },
    {
     "name": "stdout",
     "output_type": "stream",
     "text": [
      "Parameters (1): {'rf__max_depth': 10, 'rf__max_features': 2, 'rf__n_estimators': 50}\n",
      "Score train (1): 0.7117158169819953\n",
      "Score test (1): 0.7129141825912596\n",
      "Fitting 3 folds for each of 50 candidates, totalling 150 fits\n"
     ]
    },
    {
     "name": "stderr",
     "output_type": "stream",
     "text": [
      "[Parallel(n_jobs=3)]: Done  44 tasks      | elapsed:    7.1s\n",
      "[Parallel(n_jobs=3)]: Done 150 out of 150 | elapsed:   37.0s finished\n"
     ]
    },
    {
     "name": "stdout",
     "output_type": "stream",
     "text": [
      "Parameters (2): {'rf__max_depth': 10, 'rf__max_features': 2, 'rf__n_estimators': 50}\n",
      "Score train (2): 0.708970324878078\n",
      "Score test (2): 0.7282071912959573\n",
      "Fitting 3 folds for each of 50 candidates, totalling 150 fits\n"
     ]
    },
    {
     "name": "stderr",
     "output_type": "stream",
     "text": [
      "[Parallel(n_jobs=3)]: Done  44 tasks      | elapsed:    7.3s\n",
      "[Parallel(n_jobs=3)]: Done 150 out of 150 | elapsed:   35.0s finished\n"
     ]
    },
    {
     "name": "stdout",
     "output_type": "stream",
     "text": [
      "Parameters (3): {'rf__max_depth': 10, 'rf__max_features': 2, 'rf__n_estimators': 50}\n",
      "Score train (3): 0.7111875921046922\n",
      "Score test (3): 0.7120328431259302\n",
      "Fitting 3 folds for each of 50 candidates, totalling 150 fits\n"
     ]
    },
    {
     "name": "stderr",
     "output_type": "stream",
     "text": [
      "[Parallel(n_jobs=3)]: Done  44 tasks      | elapsed:    7.6s\n",
      "[Parallel(n_jobs=3)]: Done 150 out of 150 | elapsed:   35.6s finished\n"
     ]
    },
    {
     "name": "stdout",
     "output_type": "stream",
     "text": [
      "Parameters (4): {'rf__max_depth': 10, 'rf__max_features': 2, 'rf__n_estimators': 50}\n",
      "Score train (4): 0.7116085499394058\n",
      "Score test (4): 0.7150816869238695\n",
      "Fitting 3 folds for each of 50 candidates, totalling 150 fits\n"
     ]
    },
    {
     "name": "stderr",
     "output_type": "stream",
     "text": [
      "[Parallel(n_jobs=3)]: Done  44 tasks      | elapsed:    6.6s\n",
      "[Parallel(n_jobs=3)]: Done 150 out of 150 | elapsed:   34.5s finished\n"
     ]
    },
    {
     "name": "stdout",
     "output_type": "stream",
     "text": [
      "Parameters (5): {'rf__max_depth': 10, 'rf__max_features': 2, 'rf__n_estimators': 50}\n",
      "Score train (5): 0.7110525589582258\n",
      "Score test (5): 0.7159469077260976\n",
      "Fitting 3 folds for each of 50 candidates, totalling 150 fits\n"
     ]
    },
    {
     "name": "stderr",
     "output_type": "stream",
     "text": [
      "[Parallel(n_jobs=3)]: Done  44 tasks      | elapsed:    7.2s\n",
      "[Parallel(n_jobs=3)]: Done 150 out of 150 | elapsed:   35.9s finished\n"
     ]
    },
    {
     "name": "stdout",
     "output_type": "stream",
     "text": [
      "Parameters (6): {'rf__max_depth': 10, 'rf__max_features': 2, 'rf__n_estimators': 50}\n",
      "Score train (6): 0.7142102605333874\n",
      "Score test (6): 0.7059026172513245\n",
      "Fitting 3 folds for each of 50 candidates, totalling 150 fits\n"
     ]
    },
    {
     "name": "stderr",
     "output_type": "stream",
     "text": [
      "[Parallel(n_jobs=3)]: Done  44 tasks      | elapsed:    7.6s\n",
      "[Parallel(n_jobs=3)]: Done 150 out of 150 | elapsed:   40.6s finished\n"
     ]
    },
    {
     "name": "stdout",
     "output_type": "stream",
     "text": [
      "Parameters (7): {'rf__max_depth': 10, 'rf__max_features': 2, 'rf__n_estimators': 50}\n",
      "Score train (7): 0.7106372631705845\n",
      "Score test (7): 0.7105247611786824\n",
      "Fitting 3 folds for each of 50 candidates, totalling 150 fits\n"
     ]
    },
    {
     "name": "stderr",
     "output_type": "stream",
     "text": [
      "[Parallel(n_jobs=3)]: Done  44 tasks      | elapsed:    6.9s\n",
      "[Parallel(n_jobs=3)]: Done 150 out of 150 | elapsed:   36.1s finished\n"
     ]
    },
    {
     "name": "stdout",
     "output_type": "stream",
     "text": [
      "Parameters (8): {'rf__max_depth': 15, 'rf__max_features': 1, 'rf__n_estimators': 50}\n",
      "Score train (8): 0.7108901350573822\n",
      "Score test (8): 0.7172785429790742\n",
      "Fitting 3 folds for each of 50 candidates, totalling 150 fits\n"
     ]
    },
    {
     "name": "stderr",
     "output_type": "stream",
     "text": [
      "[Parallel(n_jobs=3)]: Done  44 tasks      | elapsed:    7.3s\n",
      "[Parallel(n_jobs=3)]: Done 150 out of 150 | elapsed:   37.5s finished\n"
     ]
    },
    {
     "name": "stdout",
     "output_type": "stream",
     "text": [
      "Parameters (9): {'rf__max_depth': 15, 'rf__max_features': 2, 'rf__n_estimators': 50}\n",
      "Score train (9): 0.7119939586444508\n",
      "Score test (9): 0.7175814959517901\n",
      "Fitting 3 folds for each of 50 candidates, totalling 150 fits\n"
     ]
    },
    {
     "name": "stderr",
     "output_type": "stream",
     "text": [
      "[Parallel(n_jobs=3)]: Done  44 tasks      | elapsed:    7.1s\n",
      "[Parallel(n_jobs=3)]: Done 150 out of 150 | elapsed:   35.5s finished\n"
     ]
    },
    {
     "name": "stdout",
     "output_type": "stream",
     "text": [
      "Parameters (10): {'rf__max_depth': 15, 'rf__max_features': 1, 'rf__n_estimators': 50}\n",
      "Score train (10): 0.7131586910592334\n",
      "Score test (10): 0.7175556317378513\n",
      "Fitting 3 folds for each of 50 candidates, totalling 150 fits\n"
     ]
    },
    {
     "name": "stderr",
     "output_type": "stream",
     "text": [
      "[Parallel(n_jobs=3)]: Done  44 tasks      | elapsed:    6.7s\n",
      "[Parallel(n_jobs=3)]: Done 150 out of 150 | elapsed:   36.1s finished\n"
     ]
    },
    {
     "name": "stdout",
     "output_type": "stream",
     "text": [
      "Parameters (11): {'rf__max_depth': 15, 'rf__max_features': 2, 'rf__n_estimators': 50}\n",
      "Score train (11): 0.7111951855853932\n",
      "Score test (11): 0.7133977247812185\n",
      "Fitting 3 folds for each of 50 candidates, totalling 150 fits\n"
     ]
    },
    {
     "name": "stderr",
     "output_type": "stream",
     "text": [
      "[Parallel(n_jobs=3)]: Done  44 tasks      | elapsed:    7.5s\n",
      "[Parallel(n_jobs=3)]: Done 150 out of 150 | elapsed:   36.6s finished\n"
     ]
    },
    {
     "name": "stdout",
     "output_type": "stream",
     "text": [
      "Parameters (12): {'rf__max_depth': 10, 'rf__max_features': 2, 'rf__n_estimators': 50}\n",
      "Score train (12): 0.7113283997752999\n",
      "Score test (12): 0.711740591670891\n",
      "Fitting 3 folds for each of 50 candidates, totalling 150 fits\n"
     ]
    },
    {
     "name": "stderr",
     "output_type": "stream",
     "text": [
      "[Parallel(n_jobs=3)]: Done  44 tasks      | elapsed:    9.8s\n",
      "[Parallel(n_jobs=3)]: Done 150 out of 150 | elapsed:   54.8s finished\n"
     ]
    },
    {
     "name": "stdout",
     "output_type": "stream",
     "text": [
      "Parameters (13): {'rf__max_depth': 10, 'rf__max_features': 2, 'rf__n_estimators': 50}\n",
      "Score train (13): 0.7108191614086449\n",
      "Score test (13): 0.7120855717783718\n",
      "Fitting 3 folds for each of 50 candidates, totalling 150 fits\n"
     ]
    },
    {
     "name": "stderr",
     "output_type": "stream",
     "text": [
      "[Parallel(n_jobs=3)]: Done  44 tasks      | elapsed:   11.1s\n",
      "[Parallel(n_jobs=3)]: Done 150 out of 150 | elapsed:   44.9s finished\n"
     ]
    },
    {
     "name": "stdout",
     "output_type": "stream",
     "text": [
      "Parameters (14): {'rf__max_depth': 15, 'rf__max_features': 2, 'rf__n_estimators': 50}\n",
      "Score train (14): 0.7125442985886463\n",
      "Score test (14): 0.7177146585919334\n",
      "Fitting 3 folds for each of 50 candidates, totalling 150 fits\n"
     ]
    },
    {
     "name": "stderr",
     "output_type": "stream",
     "text": [
      "[Parallel(n_jobs=3)]: Done  44 tasks      | elapsed:    7.5s\n",
      "[Parallel(n_jobs=3)]: Done 150 out of 150 | elapsed:   37.5s finished\n"
     ]
    },
    {
     "name": "stdout",
     "output_type": "stream",
     "text": [
      "Parameters (15): {'rf__max_depth': 10, 'rf__max_features': 2, 'rf__n_estimators': 50}\n",
      "Score train (15): 0.7124744005233211\n",
      "Score test (15): 0.7095700512584109\n",
      "Fitting 3 folds for each of 50 candidates, totalling 150 fits\n"
     ]
    },
    {
     "name": "stderr",
     "output_type": "stream",
     "text": [
      "[Parallel(n_jobs=3)]: Done  44 tasks      | elapsed:    8.4s\n",
      "[Parallel(n_jobs=3)]: Done 150 out of 150 | elapsed:   37.8s finished\n"
     ]
    },
    {
     "name": "stdout",
     "output_type": "stream",
     "text": [
      "Parameters (16): {'rf__max_depth': 10, 'rf__max_features': 2, 'rf__n_estimators': 50}\n",
      "Score train (16): 0.7089517212417797\n",
      "Score test (16): 0.7179545266047784\n",
      "Fitting 3 folds for each of 50 candidates, totalling 150 fits\n"
     ]
    },
    {
     "name": "stderr",
     "output_type": "stream",
     "text": [
      "[Parallel(n_jobs=3)]: Done  44 tasks      | elapsed:    7.5s\n",
      "[Parallel(n_jobs=3)]: Done 150 out of 150 | elapsed:   40.2s finished\n"
     ]
    },
    {
     "name": "stdout",
     "output_type": "stream",
     "text": [
      "Parameters (17): {'rf__max_depth': 10, 'rf__max_features': 2, 'rf__n_estimators': 50}\n",
      "Score train (17): 0.7125718835244409\n",
      "Score test (17): 0.7088605999417745\n",
      "Fitting 3 folds for each of 50 candidates, totalling 150 fits\n"
     ]
    },
    {
     "name": "stderr",
     "output_type": "stream",
     "text": [
      "[Parallel(n_jobs=3)]: Done  44 tasks      | elapsed:    9.6s\n",
      "[Parallel(n_jobs=3)]: Done 150 out of 150 | elapsed:   40.1s finished\n"
     ]
    },
    {
     "name": "stdout",
     "output_type": "stream",
     "text": [
      "Parameters (18): {'rf__max_depth': 10, 'rf__max_features': 2, 'rf__n_estimators': 50}\n",
      "Score train (18): 0.7100746498274618\n",
      "Score test (18): 0.7139023690540081\n",
      "Fitting 3 folds for each of 50 candidates, totalling 150 fits\n"
     ]
    },
    {
     "name": "stderr",
     "output_type": "stream",
     "text": [
      "[Parallel(n_jobs=3)]: Done  44 tasks      | elapsed:    6.9s\n",
      "[Parallel(n_jobs=3)]: Done 150 out of 150 | elapsed:   33.7s finished\n"
     ]
    },
    {
     "name": "stdout",
     "output_type": "stream",
     "text": [
      "Parameters (19): {'rf__max_depth': 10, 'rf__max_features': 2, 'rf__n_estimators': 50}\n",
      "Score train (19): 0.7124690248678343\n",
      "Score test (19): 0.7081516885693717\n"
     ]
    }
   ],
   "source": [
    "rf_train_scores = []\n",
    "rf_test_scores = []\n",
    "tprs = []\n",
    "aucs = []\n",
    "mean_fpr = np.linspace(0, 1, 100)\n",
    "\n",
    "for i in range(20):\n",
    "    train = pd.read_csv(DATA_PROCESSED + \"1/train_test_sets/train_{}.csv\".format(i), index_col=\"MUTANT\")\n",
    "    test = pd.read_csv(DATA_PROCESSED + \"1/train_test_sets/test_{}.csv\".format(i), index_col=\"MUTANT\")\n",
    "    X_train = train.drop(\"TYPE\", 1)\n",
    "    y_train = train.TYPE\n",
    "    X_test = test.drop(\"TYPE\", 1)\n",
    "    y_test = test.TYPE\n",
    "    le = LabelEncoder().fit(y_train)\n",
    "    gs = GridSearchCV(model, param_list, cv=skf.split(X_train, y_train), \n",
    "                      n_jobs=3, scoring='roc_auc', verbose=1, refit=True)\n",
    "    \n",
    "    gs.fit(X_train, le.transform(y_train))\n",
    "    \n",
    "    \n",
    "    print(\"Parameters ({}): {}\".format(i, gs.best_params_))\n",
    "    print(\"Score train ({}): {}\".format(i, gs.best_score_))\n",
    "    \n",
    "    \n",
    "    rf = gs.best_estimator_\n",
    "    y_pred = rf.predict_proba(X_test)\n",
    "    \n",
    "    fpr, tpr, thresholds = roc_curve(le.transform(y_test), y_pred[:, 1])\n",
    "    tprs.append(np.interp(mean_fpr, fpr, tpr))\n",
    "    tprs[-1][0] = 0.0\n",
    "    roc_auc = auc(fpr, tpr)\n",
    "    aucs.append(roc_auc)\n",
    "    \n",
    "    test_score = roc_auc_score(le.transform(y_test), y_pred[:, 1])\n",
    "    \n",
    "    \n",
    "    print(\"Score test ({}): {}\".format(i, test_score))\n",
    "    rf_test_scores.append(test_score)\n",
    "    rf_train_scores.append(gs.best_score_)\n",
    "    \n"
   ]
  },
  {
   "cell_type": "code",
   "execution_count": 12,
   "metadata": {
    "ExecuteTime": {
     "end_time": "2018-04-08T16:23:51.308931Z",
     "start_time": "2018-04-08T16:23:51.278886Z"
    },
    "collapsed": true
   },
   "outputs": [],
   "source": [
    "pd.DataFrame(tprs).to_csv(\"../results/1/rf_cons_only_tprs.csv\", index=False)\n",
    "pd.Series(aucs).to_csv(\"../results/1/rf_cons_only_aucs.csv\", index=False)"
   ]
  },
  {
   "cell_type": "code",
   "execution_count": 13,
   "metadata": {
    "ExecuteTime": {
     "end_time": "2018-04-08T16:24:40.514871Z",
     "start_time": "2018-04-08T16:24:40.495947Z"
    },
    "collapsed": true
   },
   "outputs": [],
   "source": [
    "pd.DataFrame(tprs).to_csv(\"../results/1/rf_tprs.csv\", index=False)\n",
    "pd.Series(aucs).to_csv(\"../results/1/rf_aucs.csv\", index=False)"
   ]
  },
  {
   "cell_type": "code",
   "execution_count": 14,
   "metadata": {
    "ExecuteTime": {
     "end_time": "2018-04-08T16:24:41.808465Z",
     "start_time": "2018-04-08T16:24:41.785513Z"
    }
   },
   "outputs": [
    {
     "name": "stdout",
     "output_type": "stream",
     "text": [
      "MEAN TRAIN:  0.71154299559\n",
      "STDDEV TRAIN:  0.00129774435183\n",
      "MEAN TEST:  0.713712521121\n",
      "STDDEV TEST:  0.00490278450369\n"
     ]
    }
   ],
   "source": [
    "print(\"MEAN TRAIN: \", np.mean(rf_train_scores))\n",
    "print(\"STDDEV TRAIN: \", np.std(rf_train_scores))\n",
    "print(\"MEAN TEST: \", np.mean(rf_test_scores))\n",
    "print(\"STDDEV TEST: \", np.std(rf_test_scores))"
   ]
  },
  {
   "cell_type": "code",
   "execution_count": 23,
   "metadata": {
    "ExecuteTime": {
     "end_time": "2018-04-08T16:53:16.327817Z",
     "start_time": "2018-04-08T16:53:16.080744Z"
    }
   },
   "outputs": [
    {
     "data": {
      "image/png": "[encoded data removed]",
      "text/plain": [
       "<matplotlib.figure.Figure at 0x7fa6f12db048>"
      ]
     },
     "metadata": {},
     "output_type": "display_data"
    }
   ],
   "source": [
    "importances = [(X_train.columns[e], x) for e, x in enumerate(rf.steps[1][1].feature_importances_)]\n",
    "importances.sort(key=operator.itemgetter(1), reverse=True)\n",
    "figsize(10,4)\n",
    "# plt.title(\"Importancia\", fontsize=16)\n",
    "plt.bar(np.arange(len(importances)), [y for x, y in importances], color=\"g\", align=\"center\")\n",
    "plt.xticks(range(len(importances)), [x for x, y in importances], rotation='vertical', fontsize=12)\n",
    "# plt.xlim([0, range(len(importances))])\n",
    "plt.show()"
   ]
  },
  {
   "cell_type": "code",
   "execution_count": 21,
   "metadata": {
    "ExecuteTime": {
     "end_time": "2018-04-08T16:51:52.036219Z",
     "start_time": "2018-04-08T16:51:51.841454Z"
    }
   },
   "outputs": [
    {
     "data": {
      "image/png": "[encoded data removed]",
      "text/plain": [
       "<matplotlib.figure.Figure at 0x7fa6eca6d5f8>"
      ]
     },
     "metadata": {},
     "output_type": "display_data"
    }
   ],
   "source": [
    "figsize(7,7)\n",
    "\n",
    "rf_tprs = pd.read_csv(\"../results/1/rf_tprs.csv\")\n",
    "rf_aucs = pd.read_csv(\"../results/1/rf_aucs.csv\")\n",
    "\n",
    "# lr_tprs = pd.read_csv(\"../results/humsavar/rf_cons_only_tprs.csv\")\n",
    "# lr_aucs = pd.read_csv(\"../results/humsavar/rf_cons_only_aucs.csv\")\n",
    "\n",
    "def plot_auc_curve(tprs, aucs, color, label):\n",
    "    mean_fpr = np.linspace(0, 1, 100)\n",
    "    mean_tpr = np.mean(tprs, axis=0)\n",
    "    mean_tpr[-1] = 1.0\n",
    "    mean_auc = auc(mean_fpr, mean_tpr)\n",
    "    std_auc = np.std(aucs)\n",
    "    \n",
    "    plt.plot(mean_fpr, mean_tpr, color=color,\n",
    "             label=label % (mean_auc, std_auc),\n",
    "             lw=2, alpha=.8)\n",
    "    \n",
    "plot_auc_curve(rf_tprs, rf_aucs, 'darkorange', r'AA + ProtParam = %0.2f $\\pm$ %0.2f')\n",
    "# plot_auc_curve(lr_tprs, lr_aucs, 'darkgreen', r'PhastCons/phyloP = %0.2f $\\pm$ %0.2f)')\n",
    "plt.plot([0, 1], [0, 1], color='navy', lw=2, linestyle='--')\n",
    "plt.xlim([-0.05, 1.05])\n",
    "plt.ylim([-0.05, 1.05])\n",
    "plt.xlabel('Tasa de Falsos Positivos (FPR)')\n",
    "plt.ylabel('Tasa de Verdaderos Positivos (TPR)')\n",
    "# plt.title('AUC Curve')\n",
    "plt.legend(loc=\"lower right\")\n",
    "\n",
    "plt.show()"
   ]
  },
  {
   "cell_type": "code",
   "execution_count": null,
   "metadata": {
    "collapsed": true
   },
   "outputs": [],
   "source": []
  }
 ],
 "metadata": {
  "kernelspec": {
   "display_name": "Python 3",
   "language": "python",
   "name": "python3"
  },
  "language_info": {
   "codemirror_mode": {
    "name": "ipython",
    "version": 3
   },
   "file_extension": ".py",
   "mimetype": "text/x-python",
   "name": "python",
   "nbconvert_exporter": "python",
   "pygments_lexer": "ipython3",
   "version": "3.6.3"
  },
  "varInspector": {
   "cols": {
    "lenName": 16,
    "lenType": 16,
    "lenVar": 40
   },
   "kernels_config": {
    "python": {
     "delete_cmd_postfix": "",
     "delete_cmd_prefix": "del ",
     "library": "var_list.py",
     "varRefreshCmd": "print(var_dic_list())"
    },
    "r": {
     "delete_cmd_postfix": ") ",
     "delete_cmd_prefix": "rm(",
     "library": "var_list.r",
     "varRefreshCmd": "cat(var_dic_list()) "
    }
   },
   "position": {
    "height": "439px",
    "left": "1107.7px",
    "right": "20px",
    "top": "120px",
    "width": "350px"
   },
   "types_to_exclude": [
    "module",
    "function",
    "builtin_function_or_method",
    "instance",
    "_Feature"
   ],
   "window_display": false
  }
 },
 "nbformat": 4,
 "nbformat_minor": 2
}
