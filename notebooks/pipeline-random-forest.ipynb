{
 "cells": [
  {
   "cell_type": "code",
   "execution_count": 2,
   "metadata": {
    "ExecuteTime": {
     "end_time": "2018-05-01T11:40:44.788551Z",
     "start_time": "2018-05-01T11:40:42.479359Z"
    },
    "collapsed": true
   },
   "outputs": [],
   "source": [
    "import operator\n",
    "import pandas as pd\n",
    "import matplotlib.pyplot as plt\n",
    "import seaborn as sns\n",
    "import numpy as np\n",
    "\n",
    "from sklearn import feature_selection\n",
    "from sklearn.ensemble import RandomForestClassifier, AdaBoostClassifier\n",
    "from sklearn.ensemble import GradientBoostingClassifier\n",
    "from sklearn.linear_model import LogisticRegression\n",
    "from sklearn.svm import SVC\n",
    "\n",
    "from sklearn.pipeline import Pipeline, make_pipeline\n",
    "from sklearn.pipeline import FeatureUnion\n",
    "from sklearn.preprocessing import StandardScaler, RobustScaler, Imputer, LabelEncoder\n",
    "from sklearn.model_selection import GridSearchCV, RandomizedSearchCV, train_test_split, StratifiedKFold\n",
    "from sklearn.metrics import confusion_matrix, classification_report, roc_curve, auc\n",
    "from sklearn.metrics import accuracy_score, f1_score, roc_auc_score\n",
    "\n",
    "from IPython.core.pylabtools import figsize \n",
    "%matplotlib inline"
   ]
  },
  {
   "cell_type": "code",
   "execution_count": 3,
   "metadata": {
    "ExecuteTime": {
     "end_time": "2018-05-01T11:40:44.794381Z",
     "start_time": "2018-05-01T11:40:44.790342Z"
    },
    "collapsed": true
   },
   "outputs": [],
   "source": [
    "RANDOM_STATE = 42\n",
    "DATA_EXTERNAL = \"../data/external/\"\n",
    "DATA_PROCESSED = \"../data/processed/\"\n",
    "DATA_INTERIM = \"../data/interim/\""
   ]
  },
  {
   "cell_type": "code",
   "execution_count": 4,
   "metadata": {
    "ExecuteTime": {
     "end_time": "2018-05-01T11:40:44.941515Z",
     "start_time": "2018-05-01T11:40:44.797398Z"
    },
    "collapsed": true
   },
   "outputs": [],
   "source": [
    "model_dict = {\n",
    "    'rf':{'pipe':('rf', RandomForestClassifier(random_state=RANDOM_STATE)),\n",
    "          'params':[{'rf__max_depth':[2, 3, 5, 10, 15], 'rf__n_estimators':[3, 5, 7, 10, 50], 'rf__max_features':[1,2]}],\n",
    "          'name':'RandomForest'\n",
    "    },\n",
    "    'lr':{'pipe':('lr', LogisticRegression()),\n",
    "        'params':[{'lr__C': [.001, .01, .1, 1, 10, 100, 1000], 'lr__class_weight': [None, 'balanced']}],\n",
    "        'name':'LogisticRegression'\n",
    "    },\n",
    "    'svc':{'pipe':('svc', SVC(kernel='rbf')), \n",
    "        'params':[{'svc__C': [1,10,100,1000], 'svc__gamma': [1,0.1,0.001,0.0001]}],\n",
    "        'name': 'SupportVectorClassifier(RBF)'\n",
    "    }\n",
    "}"
   ]
  },
  {
   "cell_type": "markdown",
   "metadata": {},
   "source": [
    "#### Random Forest"
   ]
  },
  {
   "cell_type": "code",
   "execution_count": 5,
   "metadata": {
    "ExecuteTime": {
     "end_time": "2018-05-01T11:40:44.983494Z",
     "start_time": "2018-05-01T11:40:44.950582Z"
    },
    "collapsed": true
   },
   "outputs": [],
   "source": [
    "algorithm = 'rf'\n",
    "model = Pipeline([('imputer', Imputer(missing_values=\"NaN\", strategy=\"median\")), \n",
    "                  model_dict[algorithm]['pipe']])\n",
    "# model = Pipeline([('imputer', Imputer(missing_values=\"NaN\", strategy=\"median\")), ('scaler', StandardScaler()),\n",
    "#                   model_dict[algorithm]['pipe']])\n",
    "param_list = [model_dict[algorithm]['params']][0]\n",
    "\n",
    "folds = 3\n",
    "skf = StratifiedKFold(n_splits=folds, shuffle=True, random_state=RANDOM_STATE)"
   ]
  },
  {
   "cell_type": "code",
   "execution_count": 6,
   "metadata": {
    "ExecuteTime": {
     "end_time": "2018-05-01T11:55:40.306645Z",
     "start_time": "2018-05-01T11:40:44.993035Z"
    }
   },
   "outputs": [
    {
     "name": "stdout",
     "output_type": "stream",
     "text": [
      "Fitting 3 folds for each of 50 candidates, totalling 150 fits\n"
     ]
    },
    {
     "name": "stderr",
     "output_type": "stream",
     "text": [
      "[Parallel(n_jobs=3)]: Done  44 tasks      | elapsed:   11.7s\n",
      "[Parallel(n_jobs=3)]: Done 150 out of 150 | elapsed:   43.7s finished\n"
     ]
    },
    {
     "name": "stdout",
     "output_type": "stream",
     "text": [
      "Parameters (0): {'rf__max_depth': 15, 'rf__max_features': 2, 'rf__n_estimators': 50}\n",
      "Score train (0): 0.7262359900748802\n",
      "Score test (0): 0.7155921201069657\n",
      "Fitting 3 folds for each of 50 candidates, totalling 150 fits\n"
     ]
    },
    {
     "name": "stderr",
     "output_type": "stream",
     "text": [
      "[Parallel(n_jobs=3)]: Done  44 tasks      | elapsed:   10.6s\n",
      "[Parallel(n_jobs=3)]: Done 150 out of 150 | elapsed:   42.9s finished\n"
     ]
    },
    {
     "name": "stdout",
     "output_type": "stream",
     "text": [
      "Parameters (1): {'rf__max_depth': 15, 'rf__max_features': 2, 'rf__n_estimators': 50}\n",
      "Score train (1): 0.7254948918575892\n",
      "Score test (1): 0.7255648192873037\n",
      "Fitting 3 folds for each of 50 candidates, totalling 150 fits\n"
     ]
    },
    {
     "name": "stderr",
     "output_type": "stream",
     "text": [
      "[Parallel(n_jobs=3)]: Done  44 tasks      | elapsed:    9.4s\n",
      "[Parallel(n_jobs=3)]: Done 150 out of 150 | elapsed:   41.6s finished\n"
     ]
    },
    {
     "name": "stdout",
     "output_type": "stream",
     "text": [
      "Parameters (2): {'rf__max_depth': 15, 'rf__max_features': 2, 'rf__n_estimators': 50}\n",
      "Score train (2): 0.7209451889505386\n",
      "Score test (2): 0.7411966828304727\n",
      "Fitting 3 folds for each of 50 candidates, totalling 150 fits\n"
     ]
    },
    {
     "name": "stderr",
     "output_type": "stream",
     "text": [
      "[Parallel(n_jobs=3)]: Done  44 tasks      | elapsed:   10.2s\n",
      "[Parallel(n_jobs=3)]: Done 150 out of 150 | elapsed:   46.2s finished\n"
     ]
    },
    {
     "name": "stdout",
     "output_type": "stream",
     "text": [
      "Parameters (3): {'rf__max_depth': 15, 'rf__max_features': 2, 'rf__n_estimators': 50}\n",
      "Score train (3): 0.7236743954964822\n",
      "Score test (3): 0.7247781028360084\n",
      "Fitting 3 folds for each of 50 candidates, totalling 150 fits\n"
     ]
    },
    {
     "name": "stderr",
     "output_type": "stream",
     "text": [
      "[Parallel(n_jobs=3)]: Done  44 tasks      | elapsed:   10.0s\n",
      "[Parallel(n_jobs=3)]: Done 150 out of 150 | elapsed:   41.4s finished\n"
     ]
    },
    {
     "name": "stdout",
     "output_type": "stream",
     "text": [
      "Parameters (4): {'rf__max_depth': 15, 'rf__max_features': 2, 'rf__n_estimators': 50}\n",
      "Score train (4): 0.7252478010201762\n",
      "Score test (4): 0.7258788632456685\n",
      "Fitting 3 folds for each of 50 candidates, totalling 150 fits\n"
     ]
    },
    {
     "name": "stderr",
     "output_type": "stream",
     "text": [
      "[Parallel(n_jobs=3)]: Done  44 tasks      | elapsed:    9.7s\n",
      "[Parallel(n_jobs=3)]: Done 150 out of 150 | elapsed:   40.1s finished\n"
     ]
    },
    {
     "name": "stdout",
     "output_type": "stream",
     "text": [
      "Parameters (5): {'rf__max_depth': 15, 'rf__max_features': 2, 'rf__n_estimators': 50}\n",
      "Score train (5): 0.7236093909708872\n",
      "Score test (5): 0.7303382538185785\n",
      "Fitting 3 folds for each of 50 candidates, totalling 150 fits\n"
     ]
    },
    {
     "name": "stderr",
     "output_type": "stream",
     "text": [
      "[Parallel(n_jobs=3)]: Done  44 tasks      | elapsed:    9.7s\n",
      "[Parallel(n_jobs=3)]: Done 150 out of 150 | elapsed:   42.5s finished\n"
     ]
    },
    {
     "name": "stdout",
     "output_type": "stream",
     "text": [
      "Parameters (6): {'rf__max_depth': 15, 'rf__max_features': 2, 'rf__n_estimators': 50}\n",
      "Score train (6): 0.7266887396091957\n",
      "Score test (6): 0.7193352436737346\n",
      "Fitting 3 folds for each of 50 candidates, totalling 150 fits\n"
     ]
    },
    {
     "name": "stderr",
     "output_type": "stream",
     "text": [
      "[Parallel(n_jobs=3)]: Done  44 tasks      | elapsed:   11.6s\n",
      "[Parallel(n_jobs=3)]: Done 150 out of 150 | elapsed:   44.8s finished\n"
     ]
    },
    {
     "name": "stdout",
     "output_type": "stream",
     "text": [
      "Parameters (7): {'rf__max_depth': 15, 'rf__max_features': 2, 'rf__n_estimators': 50}\n",
      "Score train (7): 0.7232133303503485\n",
      "Score test (7): 0.7241674701656469\n",
      "Fitting 3 folds for each of 50 candidates, totalling 150 fits\n"
     ]
    },
    {
     "name": "stderr",
     "output_type": "stream",
     "text": [
      "[Parallel(n_jobs=3)]: Done  44 tasks      | elapsed:   10.0s\n",
      "[Parallel(n_jobs=3)]: Done 150 out of 150 | elapsed:   39.4s finished\n"
     ]
    },
    {
     "name": "stdout",
     "output_type": "stream",
     "text": [
      "Parameters (8): {'rf__max_depth': 15, 'rf__max_features': 2, 'rf__n_estimators': 50}\n",
      "Score train (8): 0.7239716462507312\n",
      "Score test (8): 0.7265241585655116\n",
      "Fitting 3 folds for each of 50 candidates, totalling 150 fits\n"
     ]
    },
    {
     "name": "stderr",
     "output_type": "stream",
     "text": [
      "[Parallel(n_jobs=3)]: Done  44 tasks      | elapsed:    9.0s\n",
      "[Parallel(n_jobs=3)]: Done 150 out of 150 | elapsed:   38.7s finished\n"
     ]
    },
    {
     "name": "stdout",
     "output_type": "stream",
     "text": [
      "Parameters (9): {'rf__max_depth': 15, 'rf__max_features': 2, 'rf__n_estimators': 50}\n",
      "Score train (9): 0.723990571922085\n",
      "Score test (9): 0.7256575834769274\n",
      "Fitting 3 folds for each of 50 candidates, totalling 150 fits\n"
     ]
    },
    {
     "name": "stderr",
     "output_type": "stream",
     "text": [
      "[Parallel(n_jobs=3)]: Done  44 tasks      | elapsed:    9.7s\n",
      "[Parallel(n_jobs=3)]: Done 150 out of 150 | elapsed:   39.7s finished\n"
     ]
    },
    {
     "name": "stdout",
     "output_type": "stream",
     "text": [
      "Parameters (10): {'rf__max_depth': 15, 'rf__max_features': 2, 'rf__n_estimators': 50}\n",
      "Score train (10): 0.7261433573682761\n",
      "Score test (10): 0.7277390773486048\n",
      "Fitting 3 folds for each of 50 candidates, totalling 150 fits\n"
     ]
    },
    {
     "name": "stderr",
     "output_type": "stream",
     "text": [
      "[Parallel(n_jobs=3)]: Done  44 tasks      | elapsed:    9.5s\n",
      "[Parallel(n_jobs=3)]: Done 150 out of 150 | elapsed:   40.8s finished\n"
     ]
    },
    {
     "name": "stdout",
     "output_type": "stream",
     "text": [
      "Parameters (11): {'rf__max_depth': 15, 'rf__max_features': 2, 'rf__n_estimators': 50}\n",
      "Score train (11): 0.7243807255979223\n",
      "Score test (11): 0.7257023722936733\n",
      "Fitting 3 folds for each of 50 candidates, totalling 150 fits\n"
     ]
    },
    {
     "name": "stderr",
     "output_type": "stream",
     "text": [
      "[Parallel(n_jobs=3)]: Done  44 tasks      | elapsed:    9.5s\n",
      "[Parallel(n_jobs=3)]: Done 150 out of 150 | elapsed:   39.3s finished\n"
     ]
    },
    {
     "name": "stdout",
     "output_type": "stream",
     "text": [
      "Parameters (12): {'rf__max_depth': 15, 'rf__max_features': 2, 'rf__n_estimators': 50}\n",
      "Score train (12): 0.7248897627458734\n",
      "Score test (12): 0.7249039718032271\n",
      "Fitting 3 folds for each of 50 candidates, totalling 150 fits\n"
     ]
    },
    {
     "name": "stderr",
     "output_type": "stream",
     "text": [
      "[Parallel(n_jobs=3)]: Done  44 tasks      | elapsed:    8.9s\n",
      "[Parallel(n_jobs=3)]: Done 150 out of 150 | elapsed:   39.7s finished\n"
     ]
    },
    {
     "name": "stdout",
     "output_type": "stream",
     "text": [
      "Parameters (13): {'rf__max_depth': 15, 'rf__max_features': 2, 'rf__n_estimators': 50}\n",
      "Score train (13): 0.7242019589221295\n",
      "Score test (13): 0.7239553251911512\n",
      "Fitting 3 folds for each of 50 candidates, totalling 150 fits\n"
     ]
    },
    {
     "name": "stderr",
     "output_type": "stream",
     "text": [
      "[Parallel(n_jobs=3)]: Done  44 tasks      | elapsed:   11.5s\n",
      "[Parallel(n_jobs=3)]: Done 150 out of 150 | elapsed:   43.3s finished\n"
     ]
    },
    {
     "name": "stdout",
     "output_type": "stream",
     "text": [
      "Parameters (14): {'rf__max_depth': 15, 'rf__max_features': 2, 'rf__n_estimators': 50}\n",
      "Score train (14): 0.7236221361430412\n",
      "Score test (14): 0.728868366287192\n",
      "Fitting 3 folds for each of 50 candidates, totalling 150 fits\n"
     ]
    },
    {
     "name": "stderr",
     "output_type": "stream",
     "text": [
      "[Parallel(n_jobs=3)]: Done  44 tasks      | elapsed:    9.6s\n",
      "[Parallel(n_jobs=3)]: Done 150 out of 150 | elapsed:   39.1s finished\n"
     ]
    },
    {
     "name": "stdout",
     "output_type": "stream",
     "text": [
      "Parameters (15): {'rf__max_depth': 15, 'rf__max_features': 2, 'rf__n_estimators': 50}\n",
      "Score train (15): 0.7242738307660457\n",
      "Score test (15): 0.7257775042060328\n",
      "Fitting 3 folds for each of 50 candidates, totalling 150 fits\n"
     ]
    },
    {
     "name": "stderr",
     "output_type": "stream",
     "text": [
      "[Parallel(n_jobs=3)]: Done  44 tasks      | elapsed:    9.6s\n",
      "[Parallel(n_jobs=3)]: Done 150 out of 150 | elapsed:   42.0s finished\n"
     ]
    },
    {
     "name": "stdout",
     "output_type": "stream",
     "text": [
      "Parameters (16): {'rf__max_depth': 15, 'rf__max_features': 2, 'rf__n_estimators': 50}\n",
      "Score train (16): 0.7219762799877005\n",
      "Score test (16): 0.7299082015139151\n",
      "Fitting 3 folds for each of 50 candidates, totalling 150 fits\n"
     ]
    },
    {
     "name": "stderr",
     "output_type": "stream",
     "text": [
      "[Parallel(n_jobs=3)]: Done  44 tasks      | elapsed:    9.4s\n",
      "[Parallel(n_jobs=3)]: Done 150 out of 150 | elapsed:   40.0s finished\n"
     ]
    },
    {
     "name": "stdout",
     "output_type": "stream",
     "text": [
      "Parameters (17): {'rf__max_depth': 15, 'rf__max_features': 2, 'rf__n_estimators': 50}\n",
      "Score train (17): 0.7235123736145991\n",
      "Score test (17): 0.721577685184718\n",
      "Fitting 3 folds for each of 50 candidates, totalling 150 fits\n"
     ]
    },
    {
     "name": "stderr",
     "output_type": "stream",
     "text": [
      "[Parallel(n_jobs=3)]: Done  44 tasks      | elapsed:    9.5s\n",
      "[Parallel(n_jobs=3)]: Done 150 out of 150 | elapsed:   41.1s finished\n"
     ]
    },
    {
     "name": "stdout",
     "output_type": "stream",
     "text": [
      "Parameters (18): {'rf__max_depth': 15, 'rf__max_features': 2, 'rf__n_estimators': 50}\n",
      "Score train (18): 0.7222530467191329\n",
      "Score test (18): 0.7277331822197604\n",
      "Fitting 3 folds for each of 50 candidates, totalling 150 fits\n"
     ]
    },
    {
     "name": "stderr",
     "output_type": "stream",
     "text": [
      "[Parallel(n_jobs=3)]: Done  44 tasks      | elapsed:    9.7s\n",
      "[Parallel(n_jobs=3)]: Done 150 out of 150 | elapsed:   40.3s finished\n"
     ]
    },
    {
     "name": "stdout",
     "output_type": "stream",
     "text": [
      "Parameters (19): {'rf__max_depth': 15, 'rf__max_features': 2, 'rf__n_estimators': 50}\n",
      "Score train (19): 0.7258004760057933\n",
      "Score test (19): 0.7205156591351527\n"
     ]
    }
   ],
   "source": [
    "rf_train_scores = []\n",
    "rf_test_scores = []\n",
    "tprs = []\n",
    "aucs = []\n",
    "mean_fpr = np.linspace(0, 1, 100)\n",
    "\n",
    "for i in range(20):\n",
    "    train = pd.read_csv(DATA_PROCESSED + \"1/train_test_sets/train_{}.csv\".format(i), index_col=\"MUTANT\")\n",
    "    test = pd.read_csv(DATA_PROCESSED + \"1/train_test_sets/test_{}.csv\".format(i), index_col=\"MUTANT\")\n",
    "    X_train = train.drop(\"TYPE\", 1)\n",
    "    y_train = train.TYPE\n",
    "    X_test = test.drop(\"TYPE\", 1)\n",
    "    y_test = test.TYPE\n",
    "    le = LabelEncoder().fit(y_train)\n",
    "    gs = GridSearchCV(model, param_list, cv=skf.split(X_train, y_train), \n",
    "                      n_jobs=3, scoring='roc_auc', verbose=1, refit=True)\n",
    "    \n",
    "    gs.fit(X_train, le.transform(y_train))\n",
    "    \n",
    "    \n",
    "    print(\"Parameters ({}): {}\".format(i, gs.best_params_))\n",
    "    print(\"Score train ({}): {}\".format(i, gs.best_score_))\n",
    "    \n",
    "    \n",
    "    rf = gs.best_estimator_\n",
    "    y_pred = rf.predict_proba(X_test)\n",
    "    \n",
    "    fpr, tpr, thresholds = roc_curve(le.transform(y_test), y_pred[:, 1])\n",
    "    tprs.append(np.interp(mean_fpr, fpr, tpr))\n",
    "    tprs[-1][0] = 0.0\n",
    "    roc_auc = auc(fpr, tpr)\n",
    "    aucs.append(roc_auc)\n",
    "    \n",
    "    test_score = roc_auc_score(le.transform(y_test), y_pred[:, 1])\n",
    "    \n",
    "    \n",
    "    print(\"Score test ({}): {}\".format(i, test_score))\n",
    "    rf_test_scores.append(test_score)\n",
    "    rf_train_scores.append(gs.best_score_)\n",
    "    \n"
   ]
  },
  {
   "cell_type": "code",
   "execution_count": 7,
   "metadata": {
    "ExecuteTime": {
     "end_time": "2018-05-01T11:55:40.541027Z",
     "start_time": "2018-05-01T11:55:40.308331Z"
    }
   },
   "outputs": [
    {
     "name": "stdout",
     "output_type": "stream",
     "text": [
      "             precision    recall  f1-score   support\n",
      "\n",
      "          0       0.35      0.64      0.45      3855\n",
      "          1       0.88      0.69      0.77     14653\n",
      "\n",
      "avg / total       0.77      0.68      0.70     18508\n",
      "\n"
     ]
    }
   ],
   "source": [
    "print(classification_report(le.transform(y_test), rf.predict(X_test)))"
   ]
  },
  {
   "cell_type": "code",
   "execution_count": 8,
   "metadata": {
    "ExecuteTime": {
     "end_time": "2018-05-01T11:55:40.558201Z",
     "start_time": "2018-05-01T11:55:40.542959Z"
    },
    "collapsed": true
   },
   "outputs": [],
   "source": [
    "pd.DataFrame(tprs).to_csv(\"../results/1/rf_tprs.csv\", index=False)\n",
    "pd.Series(aucs).to_csv(\"../results/1/rf_aucs.csv\", index=False)"
   ]
  },
  {
   "cell_type": "code",
   "execution_count": 9,
   "metadata": {
    "ExecuteTime": {
     "end_time": "2018-05-01T11:55:40.587610Z",
     "start_time": "2018-05-01T11:55:40.560004Z"
    }
   },
   "outputs": [
    {
     "name": "stdout",
     "output_type": "stream",
     "text": [
      "MEAN TRAIN:  0.724206294719\n",
      "STDDEV TRAIN:  0.00144560854771\n",
      "MEAN TEST:  0.72578573216\n",
      "STDDEV TEST:  0.00495840894435\n"
     ]
    }
   ],
   "source": [
    "print(\"MEAN TRAIN: \", np.mean(rf_train_scores))\n",
    "print(\"STDDEV TRAIN: \", np.std(rf_train_scores))\n",
    "print(\"MEAN TEST: \", np.mean(rf_test_scores))\n",
    "print(\"STDDEV TEST: \", np.std(rf_test_scores))"
   ]
  },
  {
   "cell_type": "code",
   "execution_count": 13,
   "metadata": {
    "ExecuteTime": {
     "end_time": "2018-05-01T12:03:08.972075Z",
     "start_time": "2018-05-01T12:03:08.749749Z"
    }
   },
   "outputs": [
    {
     "data": {
      "image/png": "[encoded data removed]",
      "text/plain": [
       "<matplotlib.figure.Figure at 0x7f6a08613c18>"
      ]
     },
     "metadata": {},
     "output_type": "display_data"
    }
   ],
   "source": [
    "importances = [(X_train.columns[e], x) for e, x in enumerate(rf.steps[1][1].feature_importances_)][:10]\n",
    "importances.sort(key=operator.itemgetter(1), reverse=False)\n",
    "figsize(8, 5)\n",
    "# plt.title(\"Importancia\", fontsize=16)\n",
    "plt.barh(np.arange(len(importances)), [y for x, y in importances], 0.3, color=\"g\", align=\"center\")\n",
    "plt.yticks(range(len(importances)), [x for x, y in importances], rotation='horizontal', fontsize=10, fontweight='bold')\n",
    "plt.xticks(fontweight='bold')\n",
    "# plt.xlim([0, range(len(importances))])\n",
    "# plt.show()\n",
    "plt.tight_layout()\n",
    "\n",
    "plt.savefig(\"../documents/resources/importance_1.pdf\")"
   ]
  },
  {
   "cell_type": "code",
   "execution_count": 14,
   "metadata": {
    "ExecuteTime": {
     "end_time": "2018-05-01T12:03:16.788919Z",
     "start_time": "2018-05-01T12:03:16.395468Z"
    }
   },
   "outputs": [
    {
     "data": {
      "text/plain": [
       "<matplotlib.legend.Legend at 0x7f6a078a51d0>"
      ]
     },
     "execution_count": 14,
     "metadata": {},
     "output_type": "execute_result"
    },
    {
     "data": {
      "image/png": "[encoded data removed]",
      "text/plain": [
       "<matplotlib.figure.Figure at 0x7f6a078fd668>"
      ]
     },
     "metadata": {},
     "output_type": "display_data"
    }
   ],
   "source": [
    "figsize(7,7)\n",
    "\n",
    "rf_tprs = pd.read_csv(\"../results/1/rf_tprs.csv\")\n",
    "rf_aucs = pd.read_csv(\"../results/1/rf_aucs.csv\")\n",
    "\n",
    "# lr_tprs = pd.read_csv(\"../results/humsavar/rf_cons_only_tprs.csv\")\n",
    "# lr_aucs = pd.read_csv(\"../results/humsavar/rf_cons_only_aucs.csv\")\n",
    "\n",
    "def plot_auc_curve(tprs, aucs, color, label):\n",
    "    mean_fpr = np.linspace(0, 1, 100)\n",
    "    mean_tpr = np.mean(tprs, axis=0)\n",
    "    mean_tpr[-1] = 1.0\n",
    "    mean_auc = auc(mean_fpr, mean_tpr)\n",
    "    std_auc = np.std(aucs)\n",
    "    \n",
    "    plt.plot(mean_fprpo de Bomberos, Marcos Palumbo, quien informó que al menos un hombre murió cuando estaba por ser rescatado y la estructura del edificio de 24 pisos se derrumbó a las 2.30.\n",
    "\n",
    "Toda la zona fue cerrada al tránsito. Hubo correrías mientras los residentes de otros edificios eran evacuados y lo, mean_tpr, color=color,\n",
    "             label=label % (mean_auc, std_auc),\n",
    "             lw=2, alpha=.8)\n",
    "    \n",
    "plot_auc_curve(rf_tprs, rf_aucs, 'darkorange', r'AA + ProtParam = %0.2f $\\pm$ %0.2f')\n",
    "# plot_auc_curve(lr_tprs, lr_aucs, 'darkgreen', r'PhastCons/phyloP = %0.2f $\\pm$ %0.2f)')\n",
    "plt.plot([0, 1], [0, 1], color='navy', lw=2, linestyle='--')\n",
    "plt.xlim([-0.05, 1.05])\n",
    "plt.ylim([-0.05, 1.05])\n",
    "plt.xlabel('Tasa de Falsos Positivos (FPR)')\n",
    "plt.ylabel('Tasa de Verdaderos Positivos (TPR)')\n",
    "# plt.title('AUC Curve')\n",
    "plt.legend(loc=\"lower right\")\n",
    "# plt.figure(frameon=False)\n",
    "# plt.savefig(\"../documents/resources/auc_1.pdf\", bbox_inches='tight', pad_inches=0.1)\n"
   ]
  }
 ],
 "metadata": {
  "kernelspec": {
   "display_name": "Python 3",
   "language": "python",
   "name": "python3"
  },
  "language_info": {
   "codemirror_mode": {
    "name": "ipython",
    "version": 3
   },
   "file_extension": ".py",
   "mimetype": "text/x-python",
   "name": "python",
   "nbconvert_exporter": "python",
   "pygments_lexer": "ipython3",
   "version": "3.6.3"
  },
  "varInspector": {
   "cols": {
    "lenName": 16,
    "lenType": 16,
    "lenVar": 40
   },
   "kernels_config": {
    "python": {
     "delete_cmd_postfix": "",
     "delete_cmd_prefix": "del ",
     "library": "var_list.py",
     "varRefreshCmd": "print(var_dic_list())"
    },
    "r": {
     "delete_cmd_postfix": ") ",
     "delete_cmd_prefix": "rm(",
     "library": "var_list.r",
     "varRefreshCmd": "cat(var_dic_list()) "
    }
   },
   "position": {
    "height": "439px",
    "left": "1107.7px",
    "right": "20px",
    "top": "120px",
    "width": "350px"
   },
   "types_to_exclude": [
    "module",
    "function",
    "builtin_function_or_method",
    "instance",
    "_Feature"
   ],
   "window_display": false
  }
 },
 "nbformat": 4,
 "nbformat_minor": 2
}
