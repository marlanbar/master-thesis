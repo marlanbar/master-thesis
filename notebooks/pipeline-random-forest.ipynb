{
 "cells": [
  {
   "cell_type": "code",
   "execution_count": 1,
   "metadata": {
    "ExecuteTime": {
     "end_time": "2018-05-13T19:04:49.453609Z",
     "start_time": "2018-05-13T19:04:46.629425Z"
    },
    "collapsed": true
   },
   "outputs": [],
   "source": [
    "import operator\n",
    "import pandas as pd\n",
    "import matplotlib.pyplot as plt\n",
    "import seaborn as sns\n",
    "import numpy as np\n",
    "\n",
    "from sklearn import feature_selection\n",
    "from sklearn.ensemble import RandomForestClassifier, AdaBoostClassifier\n",
    "from sklearn.ensemble import GradientBoostingClassifier\n",
    "from sklearn.linear_model import LogisticRegression\n",
    "from sklearn.svm import SVC\n",
    "\n",
    "from sklearn.pipeline import Pipeline, make_pipeline\n",
    "from sklearn.pipeline import FeatureUnion\n",
    "from sklearn.preprocessing import StandardScaler, RobustScaler, Imputer, LabelEncoder\n",
    "from sklearn.model_selection import GridSearchCV, RandomizedSearchCV, train_test_split, StratifiedKFold\n",
    "from sklearn.metrics import confusion_matrix, classification_report, roc_curve, auc\n",
    "from sklearn.metrics import accuracy_score, f1_score, roc_auc_score\n",
    "\n",
    "from IPython.core.pylabtools import figsize \n",
    "%matplotlib inline"
   ]
  },
  {
   "cell_type": "code",
   "execution_count": 6,
   "metadata": {
    "ExecuteTime": {
     "end_time": "2018-05-13T19:05:49.905831Z",
     "start_time": "2018-05-13T19:05:49.892451Z"
    },
    "collapsed": true
   },
   "outputs": [],
   "source": [
    "RANDOM_STATE = 42\n",
    "DATA_EXTERNAL = \"../data/external/\"\n",
    "DATA_PROCESSED = \"../data/processed/\"\n",
    "DATA_INTERIM = \"../data/interim/\"\n",
    "FEATURE_SET = \"1\""
   ]
  },
  {
   "cell_type": "code",
   "execution_count": 10,
   "metadata": {
    "ExecuteTime": {
     "end_time": "2018-05-13T19:06:45.106059Z",
     "start_time": "2018-05-13T19:06:45.073975Z"
    },
    "collapsed": true
   },
   "outputs": [],
   "source": [
    "model_dict = {\n",
    "    'rf':{'pipe':('rf', RandomForestClassifier(random_state=RANDOM_STATE)),\n",
    "          'params':[{'rf__max_depth':[2, 3, 5, 10, 15], 'rf__n_estimators':[3, 5, 7, 10, 50], 'rf__max_features':[1,3,5,7,10]}],\n",
    "          'name':'RandomForest'\n",
    "    },\n",
    "    'lr':{'pipe':('lr', LogisticRegression()),\n",
    "        'params':[{'lr__C': [.001, .01, .1, 1, 10, 100, 1000], 'lr__class_weight': [None, 'balanced']}],\n",
    "        'name':'LogisticRegression'\n",
    "    },\n",
    "    'svc':{'pipe':('svc', SVC(kernel='rbf')), \n",
    "        'params':[{'svc__C': [1,10,100,1000], 'svc__gamma': [1,0.1,0.001,0.0001]}],\n",
    "        'name': 'SupportVectorClassifier(RBF)'\n",
    "    }\n",
    "}"
   ]
  },
  {
   "cell_type": "markdown",
   "metadata": {},
   "source": [
    "#### Random Forest"
   ]
  },
  {
   "cell_type": "code",
   "execution_count": 11,
   "metadata": {
    "ExecuteTime": {
     "end_time": "2018-05-13T19:06:47.746256Z",
     "start_time": "2018-05-13T19:06:47.738853Z"
    },
    "collapsed": true
   },
   "outputs": [],
   "source": [
    "algorithm = 'rf'\n",
    "model = Pipeline([('imputer', Imputer(missing_values=\"NaN\", strategy=\"median\")), \n",
    "                  model_dict[algorithm]['pipe']])\n",
    "# model = Pipeline([('imputer', Imputer(missing_values=\"NaN\", strategy=\"median\")), ('scaler', StandardScaler()),\n",
    "#                   model_dict[algorithm]['pipe']])\n",
    "\n",
    "param_list = [model_dict[algorithm]['params']][0]\n",
    "\n",
    "folds = 3\n",
    "skf = StratifiedKFold(n_splits=folds, shuffle=True, random_state=RANDOM_STATE)"
   ]
  },
  {
   "cell_type": "code",
   "execution_count": 12,
   "metadata": {
    "ExecuteTime": {
     "end_time": "2018-05-13T19:09:22.207844Z",
     "start_time": "2018-05-13T19:06:48.500778Z"
    }
   },
   "outputs": [
    {
     "name": "stdout",
     "output_type": "stream",
     "text": [
      "Fitting 3 folds for each of 125 candidates, totalling 375 fits\n"
     ]
    },
    {
     "name": "stderr",
     "output_type": "stream",
     "text": [
      "[Parallel(n_jobs=3)]: Done  44 tasks      | elapsed:   10.4s\n",
      "[Parallel(n_jobs=3)]: Done 194 tasks      | elapsed:   53.9s\n",
      "[Parallel(n_jobs=3)]: Done 375 out of 375 | elapsed:  2.5min finished\n"
     ]
    },
    {
     "name": "stdout",
     "output_type": "stream",
     "text": [
      "Parameters (0): {'rf__max_depth': 15, 'rf__max_features': 3, 'rf__n_estimators': 50}\n",
      "Score train (0): 0.726099119405525\n",
      "Score test (0): 0.7185768079081117\n"
     ]
    }
   ],
   "source": [
    "rf_train_scores = []\n",
    "rf_test_scores = []\n",
    "tprs = []\n",
    "aucs = []\n",
    "mean_fpr = np.linspace(0, 1, 100)\n",
    "\n",
    "for i in range(1):\n",
    "    train = pd.read_csv(DATA_PROCESSED + FEATURE_SET + \"/train_test_sets/train_{}.csv\".format(i), index_col=\"MUTANT\")\n",
    "    test = pd.read_csv(DATA_PROCESSED + FEATURE_SET + \"/train_test_sets/test_{}.csv\".format(i), index_col=\"MUTANT\")\n",
    "    X_train = train.drop(\"TYPE\", 1)\n",
    "    y_train = train.TYPE\n",
    "    X_test = test.drop(\"TYPE\", 1)\n",
    "    y_test = test.TYPE\n",
    "    le = LabelEncoder().fit(y_train)\n",
    "    gs = GridSearchCV(model, param_list, cv=skf.split(X_train, y_train), \n",
    "                      n_jobs=3, scoring='roc_auc', verbose=1, refit=True)\n",
    "    \n",
    "    gs.fit(X_train, le.transform(y_train))\n",
    "    \n",
    "    \n",
    "    print(\"Parameters ({}): {}\".format(i, gs.best_params_))\n",
    "    print(\"Score train ({}): {}\".format(i, gs.best_score_))\n",
    "    \n",
    "    \n",
    "    rf = gs.best_estimator_\n",
    "    y_pred = rf.predict_proba(X_test)\n",
    "    \n",
    "    fpr, tpr, thresholds = roc_curve(le.transform(y_test), y_pred[:, 1])\n",
    "    tprs.append(np.interp(mean_fpr, fpr, tpr))\n",
    "    tprs[-1][0] = 0.0\n",
    "    roc_auc = auc(fpr, tpr)\n",
    "    aucs.append(roc_auc)\n",
    "    \n",
    "    test_score = roc_auc_score(le.transform(y_test), y_pred[:, 1])\n",
    "    \n",
    "    \n",
    "    print(\"Score test ({}): {}\".format(i, test_score))\n",
    "    rf_test_scores.append(test_score)\n",
    "    rf_train_scores.append(gs.best_score_)\n",
    "    \n"
   ]
  },
  {
   "cell_type": "code",
   "execution_count": 13,
   "metadata": {
    "ExecuteTime": {
     "end_time": "2018-05-13T19:12:17.007869Z",
     "start_time": "2018-05-13T19:12:16.773784Z"
    }
   },
   "outputs": [
    {
     "name": "stdout",
     "output_type": "stream",
     "text": [
      "             precision    recall  f1-score   support\n",
      "\n",
      "          0       0.35      0.64      0.45      3855\n",
      "          1       0.88      0.68      0.77     14653\n",
      "\n",
      "avg / total       0.77      0.67      0.70     18508\n",
      "\n"
     ]
    }
   ],
   "source": [
    "print(classification_report(le.transform(y_test), rf.predict(X_test)))"
   ]
  },
  {
   "cell_type": "code",
   "execution_count": 14,
   "metadata": {
    "ExecuteTime": {
     "end_time": "2018-05-13T19:12:22.232573Z",
     "start_time": "2018-05-13T19:12:22.219090Z"
    },
    "collapsed": true
   },
   "outputs": [],
   "source": [
    "pd.DataFrame(tprs).to_csv(\"../results/\" + FEATURE_SET + \"/rf_tprs.csv\", index=False)\n",
    "pd.Series(aucs).to_csv(\"../results/\" + FEATURE_SET + \"/rf_aucs.csv\", index=False)"
   ]
  },
  {
   "cell_type": "code",
   "execution_count": 15,
   "metadata": {
    "ExecuteTime": {
     "end_time": "2018-05-13T19:12:24.363316Z",
     "start_time": "2018-05-13T19:12:24.354465Z"
    }
   },
   "outputs": [
    {
     "name": "stdout",
     "output_type": "stream",
     "text": [
      "MEAN TRAIN:  0.726099119406\n",
      "STDDEV TRAIN:  0.0\n",
      "MEAN TEST:  0.718576807908\n",
      "STDDEV TEST:  0.0\n"
     ]
    }
   ],
   "source": [
    "print(\"MEAN TRAIN: \", np.mean(rf_train_scores))\n",
    "print(\"STDDEV TRAIN: \", np.std(rf_train_scores))\n",
    "print(\"MEAN TEST: \", np.mean(rf_test_scores))\n",
    "print(\"STDDEV TEST: \", np.std(rf_test_scores))"
   ]
  },
  {
   "cell_type": "code",
   "execution_count": 17,
   "metadata": {
    "ExecuteTime": {
     "end_time": "2018-05-13T19:12:57.838586Z",
     "start_time": "2018-05-13T19:12:57.494341Z"
    }
   },
   "outputs": [
    {
     "data": {
      "image/png": "[encoded data removed]",
      "text/plain": [
       "<matplotlib.figure.Figure at 0x7fedd25fd630>"
      ]
     },
     "metadata": {},
     "output_type": "display_data"
    }
   ],
   "source": [
    "importances = [(X_train.columns[e], x) for e, x in enumerate(rf.steps[1][1].feature_importances_)]\n",
    "importances.sort(key=operator.itemgetter(1), reverse=False)\n",
    "importances = importances[-10:]\n",
    "figsize(8, 6)\n",
    "# plt.title(\"Importancia\", fontsize=16)\n",
    "plt.barh(np.arange(len(importances)), [y for x, y in importances], 0.3, color=\"g\", align=\"center\")\n",
    "plt.yticks(range(len(importances)), [x for x, y in importances], rotation='horizontal', fontsize=10, fontweight='bold')\n",
    "plt.xticks(fontweight='bold')\n",
    "# plt.xlim([0, range(len(importances))])\n",
    "# plt.show()\n",
    "plt.tight_layout()\n",
    "\n",
    "plt.savefig(\"../documents/latex/figures/1/importance_\" + FEATURE_SET + \".pdf\")"
   ]
  },
  {
   "cell_type": "code",
   "execution_count": 20,
   "metadata": {
    "ExecuteTime": {
     "end_time": "2018-05-13T19:14:26.121373Z",
     "start_time": "2018-05-13T19:14:25.933864Z"
    }
   },
   "outputs": [
    {
     "data": {
      "text/plain": [
       "<matplotlib.legend.Legend at 0x7fedd1a0dbe0>"
      ]
     },
     "execution_count": 20,
     "metadata": {},
     "output_type": "execute_result"
    },
    {
     "data": {
      "image/png": "[encoded data removed]",
      "text/plain": [
       "<matplotlib.figure.Figure at 0x7fedd1a33a90>"
      ]
     },
     "metadata": {},
     "output_type": "display_data"
    }
   ],
   "source": [
    "figsize(7,7)\n",
    "\n",
    "rf_tprs = pd.read_csv(\"../results/\" + FEATURE_SET + \"/rf_tprs.csv\")\n",
    "rf_aucs = pd.read_csv(\"../results/\" + FEATURE_SET + \"/rf_aucs.csv\")\n",
    "\n",
    "# rf_tprs_2 = pd.read_csv(\"../results/\" + \"2\" + \"/rf_tprs.csv\")\n",
    "# rf_aucs_2 = pd.read_csv(\"../results/\" + \"2\" + \"/rf_aucs.csv\")\n",
    "\n",
    "def plot_auc_curve(tprs, aucs, color, label):\n",
    "    mean_fpr = np.linspace(0, 1, 100)\n",
    "    mean_tpr = np.mean(tprs, axis=0)\n",
    "    mean_tpr[-1] = 1.0\n",
    "    mean_auc = auc(mean_fpr, mean_tpr)\n",
    "#     std_auc = np.std(aucs)\n",
    "    \n",
    "    plt.plot(mean_fpr, mean_tpr, color=color,\n",
    "             label=label % (mean_auc),\n",
    "             lw=2, alpha=.8)\n",
    "\n",
    "plt.plot([0, 1], [0, 1], color='navy', lw=2, linestyle='--', label='Modelo Random')\n",
    "plot_auc_curve(rf_tprs, rf_aucs, 'darkorange', r'Dataset Proteico = %0.2f')\n",
    "# plot_auc_curve(rf_tprs_2, rf_aucs_2, 'darkgreen', r'Dataset Genomico = %0.2f $\\pm$ %0.2f')\n",
    "plt.xlim([-0.05, 1.05])\n",
    "plt.ylim([-0.05, 1.05])\n",
    "plt.xlabel('Tasa de Falsos Positivos (FPR)')\n",
    "plt.ylabel('Tasa de Verdaderos Positivos (TPR)')\n",
    "# plt.title('AUC Curve')\n",
    "plt.legend(loc=\"lower right\")\n",
    "# plt.figure(frameon=False)\n",
    "# plt.savefig(\"../documents/latex/figures/3/auc_\" + FEATURE_SET + \".pdf\", bbox_inches='tight', pad_inches=0.1)\n"
   ]
  }
 ],
 "metadata": {
  "kernelspec": {
   "display_name": "Python 3",
   "language": "python",
   "name": "python3"
  },
  "language_info": {
   "codemirror_mode": {
    "name": "ipython",
    "version": 3
   },
   "file_extension": ".py",
   "mimetype": "text/x-python",
   "name": "python",
   "nbconvert_exporter": "python",
   "pygments_lexer": "ipython3",
   "version": "3.6.3"
  },
  "varInspector": {
   "cols": {
    "lenName": 16,
    "lenType": 16,
    "lenVar": 40
   },
   "kernels_config": {
    "python": {
     "delete_cmd_postfix": "",
     "delete_cmd_prefix": "del ",
     "library": "var_list.py",
     "varRefreshCmd": "print(var_dic_list())"
    },
    "r": {
     "delete_cmd_postfix": ") ",
     "delete_cmd_prefix": "rm(",
     "library": "var_list.r",
     "varRefreshCmd": "cat(var_dic_list()) "
    }
   },
   "position": {
    "height": "439px",
    "left": "1107.7px",
    "right": "20px",
    "top": "120px",
    "width": "350px"
   },
   "types_to_exclude": [
    "module",
    "function",
    "builtin_function_or_method",
    "instance",
    "_Feature"
   ],
   "window_display": false
  }
 },
 "nbformat": 4,
 "nbformat_minor": 2
}
