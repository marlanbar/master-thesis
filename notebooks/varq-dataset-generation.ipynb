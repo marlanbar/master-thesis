{
 "cells": [
  {
   "cell_type": "code",
   "execution_count": 594,
   "metadata": {
    "ExecuteTime": {
     "end_time": "2018-07-20T09:05:46.612545Z",
     "start_time": "2018-07-20T09:05:44.947589Z"
    },
    "collapsed": true
   },
   "outputs": [],
   "source": [
    "import pandas as pd\n",
    "import numpy as np\n",
    "from matplotlib import pyplot as plt\n",
    "import seaborn as sns\n",
    "\n",
    "%matplotlib inline"
   ]
  },
  {
   "cell_type": "markdown",
   "metadata": {},
   "source": [
    "### Levanto la tabla de la pagina Humsavar sin el prologo y la coda"
   ]
  },
  {
   "cell_type": "code",
   "execution_count": 71,
   "metadata": {
    "ExecuteTime": {
     "end_time": "2018-07-09T23:30:45.368455Z",
     "start_time": "2018-07-09T23:30:45.127112Z"
    },
    "collapsed": true
   },
   "outputs": [],
   "source": [
    "hum = pd.read_csv(\"../data/interim/humsavar_clean_201711.csv.gz\", sep=\",\")"
   ]
  },
  {
   "cell_type": "code",
   "execution_count": 72,
   "metadata": {
    "ExecuteTime": {
     "end_time": "2018-07-09T23:30:45.439078Z",
     "start_time": "2018-07-09T23:30:45.435689Z"
    },
    "collapsed": true
   },
   "outputs": [],
   "source": [
    "hum.columns = hum.columns.str.replace(\" \", \"_\")"
   ]
  },
  {
   "cell_type": "code",
   "execution_count": 73,
   "metadata": {
    "ExecuteTime": {
     "end_time": "2018-07-09T23:30:45.526733Z",
     "start_time": "2018-07-09T23:30:45.523215Z"
    }
   },
   "outputs": [
    {
     "data": {
      "text/plain": [
       "(76730, 7)"
      ]
     },
     "execution_count": 73,
     "metadata": {},
     "output_type": "execute_result"
    }
   ],
   "source": [
    "hum.shape"
   ]
  },
  {
   "cell_type": "code",
   "execution_count": 74,
   "metadata": {
    "ExecuteTime": {
     "end_time": "2018-07-09T23:30:45.654319Z",
     "start_time": "2018-07-09T23:30:45.643878Z"
    }
   },
   "outputs": [
    {
     "data": {
      "text/plain": [
       "Polymorphism    39655\n",
       "Disease         29726\n",
       "Unclassified     7349\n",
       "Name: Type_of_variant, dtype: int64"
      ]
     },
     "execution_count": 74,
     "metadata": {},
     "output_type": "execute_result"
    }
   ],
   "source": [
    "hum.Type_of_variant.value_counts()"
   ]
  },
  {
   "cell_type": "code",
   "execution_count": 75,
   "metadata": {
    "ExecuteTime": {
     "end_time": "2018-07-09T23:30:45.803277Z",
     "start_time": "2018-07-09T23:30:45.797483Z"
    }
   },
   "outputs": [
    {
     "data": {
      "text/plain": [
       "Index(['Main_gene_name', 'Swiss_Prot_AC', 'FTId', 'AA_Change',\n",
       "       'Type_of_variant', 'dbSNP', 'Disease_Name'],\n",
       "      dtype='object')"
      ]
     },
     "execution_count": 75,
     "metadata": {},
     "output_type": "execute_result"
    }
   ],
   "source": [
    "hum.columns"
   ]
  },
  {
   "cell_type": "markdown",
   "metadata": {},
   "source": [
    "### Los duplicados de la tabla humsaVar varian solo en su Disease Name"
   ]
  },
  {
   "cell_type": "code",
   "execution_count": 76,
   "metadata": {
    "ExecuteTime": {
     "end_time": "2018-07-09T23:30:46.250650Z",
     "start_time": "2018-07-09T23:30:46.158079Z"
    },
    "scrolled": true
   },
   "outputs": [
    {
     "data": {
      "text/html": [
       "<div>\n",
       "<table border=\"1\" class=\"dataframe\">\n",
       "  <thead>\n",
       "    <tr style=\"text-align: right;\">\n",
       "      <th></th>\n",
       "      <th>Main_gene_name</th>\n",
       "      <th>Swiss_Prot_AC</th>\n",
       "      <th>FTId</th>\n",
       "      <th>AA_Change</th>\n",
       "      <th>Type_of_variant</th>\n",
       "      <th>dbSNP</th>\n",
       "      <th>Disease_Name</th>\n",
       "    </tr>\n",
       "  </thead>\n",
       "  <tbody>\n",
       "    <tr>\n",
       "      <th>228</th>\n",
       "      <td>ABCA4</td>\n",
       "      <td>P78363</td>\n",
       "      <td>VAR_008401</td>\n",
       "      <td>p.Gly65Glu</td>\n",
       "      <td>Disease</td>\n",
       "      <td>rs62654395</td>\n",
       "      <td>Cone-rod dystrophy 3 (CORD3) [MIM:604116]</td>\n",
       "    </tr>\n",
       "    <tr>\n",
       "      <th>229</th>\n",
       "      <td>ABCA4</td>\n",
       "      <td>P78363</td>\n",
       "      <td>VAR_008401</td>\n",
       "      <td>p.Gly65Glu</td>\n",
       "      <td>Disease</td>\n",
       "      <td>rs62654395</td>\n",
       "      <td>Stargardt disease 1 (STGD1) [MIM:248200]</td>\n",
       "    </tr>\n",
       "    <tr>\n",
       "      <th>234</th>\n",
       "      <td>ABCA4</td>\n",
       "      <td>P78363</td>\n",
       "      <td>VAR_008406</td>\n",
       "      <td>p.Arg212Cys</td>\n",
       "      <td>Disease</td>\n",
       "      <td>rs61750200</td>\n",
       "      <td>Cone-rod dystrophy 3 (CORD3) [MIM:604116]</td>\n",
       "    </tr>\n",
       "    <tr>\n",
       "      <th>235</th>\n",
       "      <td>ABCA4</td>\n",
       "      <td>P78363</td>\n",
       "      <td>VAR_008406</td>\n",
       "      <td>p.Arg212Cys</td>\n",
       "      <td>Disease</td>\n",
       "      <td>rs61750200</td>\n",
       "      <td>Stargardt disease 1 (STGD1) [MIM:248200]</td>\n",
       "    </tr>\n",
       "    <tr>\n",
       "      <th>240</th>\n",
       "      <td>ABCA4</td>\n",
       "      <td>P78363</td>\n",
       "      <td>VAR_008411</td>\n",
       "      <td>p.Ala407Val</td>\n",
       "      <td>Disease</td>\n",
       "      <td>rs61751264</td>\n",
       "      <td>Cone-rod dystrophy 3 (CORD3) [MIM:604116]</td>\n",
       "    </tr>\n",
       "  </tbody>\n",
       "</table>\n",
       "</div>"
      ],
      "text/plain": [
       "    Main_gene_name Swiss_Prot_AC        FTId    AA_Change Type_of_variant  \\\n",
       "228          ABCA4        P78363  VAR_008401   p.Gly65Glu         Disease   \n",
       "229          ABCA4        P78363  VAR_008401   p.Gly65Glu         Disease   \n",
       "234          ABCA4        P78363  VAR_008406  p.Arg212Cys         Disease   \n",
       "235          ABCA4        P78363  VAR_008406  p.Arg212Cys         Disease   \n",
       "240          ABCA4        P78363  VAR_008411  p.Ala407Val         Disease   \n",
       "\n",
       "          dbSNP                               Disease_Name  \n",
       "228  rs62654395  Cone-rod dystrophy 3 (CORD3) [MIM:604116]  \n",
       "229  rs62654395   Stargardt disease 1 (STGD1) [MIM:248200]  \n",
       "234  rs61750200  Cone-rod dystrophy 3 (CORD3) [MIM:604116]  \n",
       "235  rs61750200   Stargardt disease 1 (STGD1) [MIM:248200]  \n",
       "240  rs61751264  Cone-rod dystrophy 3 (CORD3) [MIM:604116]  "
      ]
     },
     "execution_count": 76,
     "metadata": {},
     "output_type": "execute_result"
    }
   ],
   "source": [
    "hum[hum[[\"Main_gene_name\", \"Swiss_Prot_AC\", \"AA_Change\"]].duplicated(keep=False)].head()"
   ]
  },
  {
   "cell_type": "code",
   "execution_count": 77,
   "metadata": {
    "ExecuteTime": {
     "end_time": "2018-07-09T23:30:46.378026Z",
     "start_time": "2018-07-09T23:30:46.373336Z"
    },
    "collapsed": true
   },
   "outputs": [],
   "source": [
    "#Correspondencia hecha por Santi\n",
    "AMINO_CODE = {\"Ala\": \"A\",\\\n",
    "              \"Arg\": \"R\",\\\n",
    "              \"Asn\": \"N\",\\\n",
    "              \"Asp\": \"D\",\\\n",
    "              \"Cys\": \"C\",\\\n",
    "              \"Gln\": \"Q\",\\\n",
    "              \"Glu\": \"E\",\\\n",
    "              \"Gly\": \"G\",\\\n",
    "              \"His\": \"H\",\\\n",
    "              \"Ile\": \"I\",\\\n",
    "              \"Leu\": \"L\",\\\n",
    "              \"Lys\": \"K\",\\\n",
    "              \"Met\": \"M\",\\\n",
    "              \"Phe\": \"F\",\\\n",
    "              \"Pro\": \"P\",\\\n",
    "              \"Ser\": \"S\",\\\n",
    "              \"Thr\": \"T\",\\\n",
    "              \"Trp\": \"W\",\\\n",
    "              \"Tyr\": \"Y\",\\\n",
    "              \"Val\": \"V\",\\\n",
    "              \"Sec\": \"U\"\n",
    "             }"
   ]
  },
  {
   "cell_type": "markdown",
   "metadata": {},
   "source": [
    "Formateo la tabla para coincidir con formato Uniprot-Pos-Amino1-Amino2"
   ]
  },
  {
   "cell_type": "code",
   "execution_count": 78,
   "metadata": {
    "ExecuteTime": {
     "end_time": "2018-07-09T23:30:46.887551Z",
     "start_time": "2018-07-09T23:30:46.856178Z"
    }
   },
   "outputs": [
    {
     "data": {
      "text/html": [
       "<div>\n",
       "<table border=\"1\" class=\"dataframe\">\n",
       "  <thead>\n",
       "    <tr style=\"text-align: right;\">\n",
       "      <th></th>\n",
       "      <th>Main_gene_name</th>\n",
       "      <th>Swiss_Prot_AC</th>\n",
       "      <th>FTId</th>\n",
       "      <th>AA_Change</th>\n",
       "      <th>Type_of_variant</th>\n",
       "      <th>dbSNP</th>\n",
       "      <th>Disease_Name</th>\n",
       "    </tr>\n",
       "  </thead>\n",
       "  <tbody>\n",
       "    <tr>\n",
       "      <th>0</th>\n",
       "      <td>A1BG</td>\n",
       "      <td>P04217</td>\n",
       "      <td>VAR_018369</td>\n",
       "      <td>p.His52Arg</td>\n",
       "      <td>Polymorphism</td>\n",
       "      <td>rs893184</td>\n",
       "      <td>NaN</td>\n",
       "    </tr>\n",
       "    <tr>\n",
       "      <th>1</th>\n",
       "      <td>A1BG</td>\n",
       "      <td>P04217</td>\n",
       "      <td>VAR_018370</td>\n",
       "      <td>p.His395Arg</td>\n",
       "      <td>Polymorphism</td>\n",
       "      <td>rs2241788</td>\n",
       "      <td>NaN</td>\n",
       "    </tr>\n",
       "    <tr>\n",
       "      <th>2</th>\n",
       "      <td>A1CF</td>\n",
       "      <td>Q9NQ94</td>\n",
       "      <td>VAR_052201</td>\n",
       "      <td>p.Val555Met</td>\n",
       "      <td>Polymorphism</td>\n",
       "      <td>rs9073</td>\n",
       "      <td>NaN</td>\n",
       "    </tr>\n",
       "    <tr>\n",
       "      <th>3</th>\n",
       "      <td>A1CF</td>\n",
       "      <td>Q9NQ94</td>\n",
       "      <td>VAR_059821</td>\n",
       "      <td>p.Ala558Ser</td>\n",
       "      <td>Polymorphism</td>\n",
       "      <td>rs11817448</td>\n",
       "      <td>NaN</td>\n",
       "    </tr>\n",
       "    <tr>\n",
       "      <th>4</th>\n",
       "      <td>A2ML1</td>\n",
       "      <td>A8K2U0</td>\n",
       "      <td>VAR_055463</td>\n",
       "      <td>p.Gly207Arg</td>\n",
       "      <td>Polymorphism</td>\n",
       "      <td>rs11047499</td>\n",
       "      <td>NaN</td>\n",
       "    </tr>\n",
       "  </tbody>\n",
       "</table>\n",
       "</div>"
      ],
      "text/plain": [
       "  Main_gene_name Swiss_Prot_AC        FTId    AA_Change Type_of_variant  \\\n",
       "0           A1BG        P04217  VAR_018369   p.His52Arg    Polymorphism   \n",
       "1           A1BG        P04217  VAR_018370  p.His395Arg    Polymorphism   \n",
       "2           A1CF        Q9NQ94  VAR_052201  p.Val555Met    Polymorphism   \n",
       "3           A1CF        Q9NQ94  VAR_059821  p.Ala558Ser    Polymorphism   \n",
       "4          A2ML1        A8K2U0  VAR_055463  p.Gly207Arg    Polymorphism   \n",
       "\n",
       "        dbSNP Disease_Name  \n",
       "0    rs893184          NaN  \n",
       "1   rs2241788          NaN  \n",
       "2      rs9073          NaN  \n",
       "3  rs11817448          NaN  \n",
       "4  rs11047499          NaN  "
      ]
     },
     "execution_count": 78,
     "metadata": {},
     "output_type": "execute_result"
    }
   ],
   "source": [
    "hum.head()"
   ]
  },
  {
   "cell_type": "code",
   "execution_count": 79,
   "metadata": {
    "ExecuteTime": {
     "end_time": "2018-07-09T23:30:47.354910Z",
     "start_time": "2018-07-09T23:30:47.078670Z"
    },
    "collapsed": true
   },
   "outputs": [],
   "source": [
    "df = pd.DataFrame(data=(hum[\"AA_Change\"].str[2:].str.split(r\"([0-9]+)\")).tolist(), columns=[\"C1\", \"C2\", \"C3\"])\n",
    "df[\"C1\"] = df.C1.map(AMINO_CODE)\n",
    "df[\"C3\"] = df.C3.map(AMINO_CODE)\n",
    "mutant = pd.Series(data=(hum[\"Swiss_Prot_AC\"] + \"-\" + df.C2 + \"-\" + df.C1 + \"-\" + df.C3).tolist(), name=\"MUTANT\")"
   ]
  },
  {
   "cell_type": "code",
   "execution_count": 80,
   "metadata": {
    "ExecuteTime": {
     "end_time": "2018-07-09T23:30:47.465484Z",
     "start_time": "2018-07-09T23:30:47.427493Z"
    },
    "collapsed": true
   },
   "outputs": [],
   "source": [
    "hum_final = pd.concat([hum, mutant], 1)[[\"Swiss_Prot_AC\", \"Main_gene_name\", \"Type_of_variant\", \"MUTANT\", \"AA_Change\", \"dbSNP\"]]"
   ]
  },
  {
   "cell_type": "code",
   "execution_count": 81,
   "metadata": {
    "ExecuteTime": {
     "end_time": "2018-07-09T23:30:47.588175Z",
     "start_time": "2018-07-09T23:30:47.566483Z"
    }
   },
   "outputs": [
    {
     "data": {
      "text/html": [
       "<div>\n",
       "<table border=\"1\" class=\"dataframe\">\n",
       "  <thead>\n",
       "    <tr style=\"text-align: right;\">\n",
       "      <th></th>\n",
       "      <th>Swiss_Prot_AC</th>\n",
       "      <th>Main_gene_name</th>\n",
       "      <th>Type_of_variant</th>\n",
       "      <th>MUTANT</th>\n",
       "      <th>AA_Change</th>\n",
       "      <th>dbSNP</th>\n",
       "    </tr>\n",
       "  </thead>\n",
       "  <tbody>\n",
       "    <tr>\n",
       "      <th>0</th>\n",
       "      <td>P04217</td>\n",
       "      <td>A1BG</td>\n",
       "      <td>Polymorphism</td>\n",
       "      <td>P04217-52-H-R</td>\n",
       "      <td>p.His52Arg</td>\n",
       "      <td>rs893184</td>\n",
       "    </tr>\n",
       "    <tr>\n",
       "      <th>1</th>\n",
       "      <td>P04217</td>\n",
       "      <td>A1BG</td>\n",
       "      <td>Polymorphism</td>\n",
       "      <td>P04217-395-H-R</td>\n",
       "      <td>p.His395Arg</td>\n",
       "      <td>rs2241788</td>\n",
       "    </tr>\n",
       "    <tr>\n",
       "      <th>2</th>\n",
       "      <td>Q9NQ94</td>\n",
       "      <td>A1CF</td>\n",
       "      <td>Polymorphism</td>\n",
       "      <td>Q9NQ94-555-V-M</td>\n",
       "      <td>p.Val555Met</td>\n",
       "      <td>rs9073</td>\n",
       "    </tr>\n",
       "    <tr>\n",
       "      <th>3</th>\n",
       "      <td>Q9NQ94</td>\n",
       "      <td>A1CF</td>\n",
       "      <td>Polymorphism</td>\n",
       "      <td>Q9NQ94-558-A-S</td>\n",
       "      <td>p.Ala558Ser</td>\n",
       "      <td>rs11817448</td>\n",
       "    </tr>\n",
       "    <tr>\n",
       "      <th>4</th>\n",
       "      <td>A8K2U0</td>\n",
       "      <td>A2ML1</td>\n",
       "      <td>Polymorphism</td>\n",
       "      <td>A8K2U0-207-G-R</td>\n",
       "      <td>p.Gly207Arg</td>\n",
       "      <td>rs11047499</td>\n",
       "    </tr>\n",
       "  </tbody>\n",
       "</table>\n",
       "</div>"
      ],
      "text/plain": [
       "  Swiss_Prot_AC Main_gene_name Type_of_variant          MUTANT    AA_Change  \\\n",
       "0        P04217           A1BG    Polymorphism   P04217-52-H-R   p.His52Arg   \n",
       "1        P04217           A1BG    Polymorphism  P04217-395-H-R  p.His395Arg   \n",
       "2        Q9NQ94           A1CF    Polymorphism  Q9NQ94-555-V-M  p.Val555Met   \n",
       "3        Q9NQ94           A1CF    Polymorphism  Q9NQ94-558-A-S  p.Ala558Ser   \n",
       "4        A8K2U0          A2ML1    Polymorphism  A8K2U0-207-G-R  p.Gly207Arg   \n",
       "\n",
       "        dbSNP  \n",
       "0    rs893184  \n",
       "1   rs2241788  \n",
       "2      rs9073  \n",
       "3  rs11817448  \n",
       "4  rs11047499  "
      ]
     },
     "execution_count": 81,
     "metadata": {},
     "output_type": "execute_result"
    }
   ],
   "source": [
    "hum_final.head()"
   ]
  },
  {
   "cell_type": "code",
   "execution_count": 82,
   "metadata": {
    "ExecuteTime": {
     "end_time": "2018-07-09T23:30:47.909504Z",
     "start_time": "2018-07-09T23:30:47.900038Z"
    }
   },
   "outputs": [
    {
     "data": {
      "text/plain": [
       "(76730, 6)"
      ]
     },
     "execution_count": 82,
     "metadata": {},
     "output_type": "execute_result"
    }
   ],
   "source": [
    "hum_final.shape"
   ]
  },
  {
   "cell_type": "code",
   "execution_count": 83,
   "metadata": {
    "ExecuteTime": {
     "end_time": "2018-07-09T23:30:48.657559Z",
     "start_time": "2018-07-09T23:30:48.164118Z"
    },
    "collapsed": true
   },
   "outputs": [],
   "source": [
    "for e, group in enumerate(hum_final[hum_final.duplicated(keep=False)].groupby(\"MUTANT\")[\"dbSNP\"]):\n",
    "    if group[1].value_counts().shape[0] > 1:\n",
    "        print(group[1].value_counts())\n",
    "        print(\"ERROR!\")"
   ]
  },
  {
   "cell_type": "code",
   "execution_count": 84,
   "metadata": {
    "ExecuteTime": {
     "end_time": "2018-07-09T23:30:48.992123Z",
     "start_time": "2018-07-09T23:30:48.975469Z"
    },
    "scrolled": true
   },
   "outputs": [
    {
     "data": {
      "text/plain": [
       "0"
      ]
     },
     "execution_count": 84,
     "metadata": {},
     "output_type": "execute_result"
    }
   ],
   "source": [
    "hum_final.Type_of_variant.isnull().sum()"
   ]
  },
  {
   "cell_type": "code",
   "execution_count": 286,
   "metadata": {
    "ExecuteTime": {
     "end_time": "2018-07-15T16:10:44.390101Z",
     "start_time": "2018-07-15T16:10:44.018579Z"
    },
    "collapsed": true
   },
   "outputs": [],
   "source": [
    "hum_final.drop_duplicates(inplace=True)"
   ]
  },
  {
   "cell_type": "code",
   "execution_count": 287,
   "metadata": {
    "ExecuteTime": {
     "end_time": "2018-07-15T16:10:44.887817Z",
     "start_time": "2018-07-15T16:10:44.869847Z"
    },
    "collapsed": true
   },
   "outputs": [],
   "source": [
    "hum_final.rename(columns={\"Type_of_variant\": \"TYPE\"}, inplace=True)"
   ]
  },
  {
   "cell_type": "code",
   "execution_count": 288,
   "metadata": {
    "ExecuteTime": {
     "end_time": "2018-07-15T16:10:45.160551Z",
     "start_time": "2018-07-15T16:10:45.141275Z"
    },
    "collapsed": true
   },
   "outputs": [],
   "source": [
    "hum_final = hum_final[hum_final.TYPE != \"Unclassified\"]"
   ]
  },
  {
   "cell_type": "code",
   "execution_count": 289,
   "metadata": {
    "ExecuteTime": {
     "end_time": "2018-07-15T16:10:45.595966Z",
     "start_time": "2018-07-15T16:10:45.589054Z"
    }
   },
   "outputs": [
    {
     "data": {
      "text/plain": [
       "(68523, 6)"
      ]
     },
     "execution_count": 289,
     "metadata": {},
     "output_type": "execute_result"
    }
   ],
   "source": [
    "hum_final.shape"
   ]
  },
  {
   "cell_type": "code",
   "execution_count": 290,
   "metadata": {
    "ExecuteTime": {
     "end_time": "2018-07-15T16:10:46.704409Z",
     "start_time": "2018-07-15T16:10:46.664893Z"
    }
   },
   "outputs": [
    {
     "data": {
      "text/plain": [
       "(12438,)"
      ]
     },
     "execution_count": 290,
     "metadata": {},
     "output_type": "execute_result"
    }
   ],
   "source": [
    "hum_final.Swiss_Prot_AC.drop_duplicates().shape"
   ]
  },
  {
   "cell_type": "code",
   "execution_count": 291,
   "metadata": {
    "ExecuteTime": {
     "end_time": "2018-07-15T17:34:19.193253Z",
     "start_time": "2018-07-15T17:34:19.154589Z"
    },
    "scrolled": true
   },
   "outputs": [
    {
     "data": {
      "text/plain": [
       "Polymorphism    39655\n",
       "Disease         28868\n",
       "Name: TYPE, dtype: int64"
      ]
     },
     "execution_count": 291,
     "metadata": {},
     "output_type": "execute_result"
    }
   ],
   "source": [
    "hum_final.TYPE.value_counts()"
   ]
  },
  {
   "cell_type": "code",
   "execution_count": 292,
   "metadata": {
    "ExecuteTime": {
     "end_time": "2018-07-15T17:34:20.160525Z",
     "start_time": "2018-07-15T17:34:20.119505Z"
    }
   },
   "outputs": [
    {
     "data": {
      "text/html": [
       "<div>\n",
       "<table border=\"1\" class=\"dataframe\">\n",
       "  <thead>\n",
       "    <tr style=\"text-align: right;\">\n",
       "      <th></th>\n",
       "      <th>Swiss_Prot_AC</th>\n",
       "      <th>Main_gene_name</th>\n",
       "      <th>TYPE</th>\n",
       "      <th>MUTANT</th>\n",
       "      <th>AA_Change</th>\n",
       "      <th>dbSNP</th>\n",
       "    </tr>\n",
       "  </thead>\n",
       "  <tbody>\n",
       "    <tr>\n",
       "      <th>0</th>\n",
       "      <td>P04217</td>\n",
       "      <td>A1BG</td>\n",
       "      <td>Polymorphism</td>\n",
       "      <td>P04217-52-H-R</td>\n",
       "      <td>p.His52Arg</td>\n",
       "      <td>rs893184</td>\n",
       "    </tr>\n",
       "    <tr>\n",
       "      <th>1</th>\n",
       "      <td>P04217</td>\n",
       "      <td>A1BG</td>\n",
       "      <td>Polymorphism</td>\n",
       "      <td>P04217-395-H-R</td>\n",
       "      <td>p.His395Arg</td>\n",
       "      <td>rs2241788</td>\n",
       "    </tr>\n",
       "    <tr>\n",
       "      <th>2</th>\n",
       "      <td>Q9NQ94</td>\n",
       "      <td>A1CF</td>\n",
       "      <td>Polymorphism</td>\n",
       "      <td>Q9NQ94-555-V-M</td>\n",
       "      <td>p.Val555Met</td>\n",
       "      <td>rs9073</td>\n",
       "    </tr>\n",
       "    <tr>\n",
       "      <th>3</th>\n",
       "      <td>Q9NQ94</td>\n",
       "      <td>A1CF</td>\n",
       "      <td>Polymorphism</td>\n",
       "      <td>Q9NQ94-558-A-S</td>\n",
       "      <td>p.Ala558Ser</td>\n",
       "      <td>rs11817448</td>\n",
       "    </tr>\n",
       "    <tr>\n",
       "      <th>4</th>\n",
       "      <td>A8K2U0</td>\n",
       "      <td>A2ML1</td>\n",
       "      <td>Polymorphism</td>\n",
       "      <td>A8K2U0-207-G-R</td>\n",
       "      <td>p.Gly207Arg</td>\n",
       "      <td>rs11047499</td>\n",
       "    </tr>\n",
       "  </tbody>\n",
       "</table>\n",
       "</div>"
      ],
      "text/plain": [
       "  Swiss_Prot_AC Main_gene_name          TYPE          MUTANT    AA_Change  \\\n",
       "0  P04217        A1BG           Polymorphism  P04217-52-H-R   p.His52Arg    \n",
       "1  P04217        A1BG           Polymorphism  P04217-395-H-R  p.His395Arg   \n",
       "2  Q9NQ94        A1CF           Polymorphism  Q9NQ94-555-V-M  p.Val555Met   \n",
       "3  Q9NQ94        A1CF           Polymorphism  Q9NQ94-558-A-S  p.Ala558Ser   \n",
       "4  A8K2U0        A2ML1          Polymorphism  A8K2U0-207-G-R  p.Gly207Arg   \n",
       "\n",
       "        dbSNP  \n",
       "0  rs893184    \n",
       "1  rs2241788   \n",
       "2  rs9073      \n",
       "3  rs11817448  \n",
       "4  rs11047499  "
      ]
     },
     "execution_count": 292,
     "metadata": {},
     "output_type": "execute_result"
    }
   ],
   "source": [
    "hum_final.head()"
   ]
  },
  {
   "cell_type": "markdown",
   "metadata": {},
   "source": [
    "### Levanto tabla clinvar de Santi"
   ]
  },
  {
   "cell_type": "code",
   "execution_count": 606,
   "metadata": {
    "ExecuteTime": {
     "end_time": "2018-07-20T09:59:27.933565Z",
     "start_time": "2018-07-20T09:59:27.847781Z"
    },
    "collapsed": true
   },
   "outputs": [],
   "source": [
    "clinvar = pd.read_csv(\"../data/interim/mutations.tsv\", sep=\"\\t\", header=None, names=[\"MUTANT\", \"TYPE\"])"
   ]
  },
  {
   "cell_type": "code",
   "execution_count": 607,
   "metadata": {
    "ExecuteTime": {
     "end_time": "2018-07-20T09:59:28.716411Z",
     "start_time": "2018-07-20T09:59:28.705075Z"
    }
   },
   "outputs": [
    {
     "data": {
      "text/plain": [
       "(66474, 2)"
      ]
     },
     "execution_count": 607,
     "metadata": {},
     "output_type": "execute_result"
    }
   ],
   "source": [
    "clinvar.shape"
   ]
  },
  {
   "cell_type": "code",
   "execution_count": 608,
   "metadata": {
    "ExecuteTime": {
     "end_time": "2018-07-20T09:59:30.083686Z",
     "start_time": "2018-07-20T09:59:30.062054Z"
    }
   },
   "outputs": [
    {
     "data": {
      "text/html": [
       "<div>\n",
       "<table border=\"1\" class=\"dataframe\">\n",
       "  <thead>\n",
       "    <tr style=\"text-align: right;\">\n",
       "      <th></th>\n",
       "      <th>MUTANT</th>\n",
       "      <th>TYPE</th>\n",
       "    </tr>\n",
       "  </thead>\n",
       "  <tbody>\n",
       "    <tr>\n",
       "      <th>0</th>\n",
       "      <td>Q92610-1046-G-R</td>\n",
       "      <td>Uncertain significance</td>\n",
       "    </tr>\n",
       "    <tr>\n",
       "      <th>1</th>\n",
       "      <td>Q96CU9-430-N-S</td>\n",
       "      <td>Pathogenic</td>\n",
       "    </tr>\n",
       "    <tr>\n",
       "      <th>2</th>\n",
       "      <td>Q8TB37-56-G-R</td>\n",
       "      <td>Pathogenic;Uncertain significance</td>\n",
       "    </tr>\n",
       "    <tr>\n",
       "      <th>3</th>\n",
       "      <td>Q30201-282-C-Y</td>\n",
       "      <td>Benign;Pathogenic;association;risk factor</td>\n",
       "    </tr>\n",
       "    <tr>\n",
       "      <th>4</th>\n",
       "      <td>Q30201-63-H-D</td>\n",
       "      <td>Likely benign;Pathogenic;risk factor</td>\n",
       "    </tr>\n",
       "  </tbody>\n",
       "</table>\n",
       "</div>"
      ],
      "text/plain": [
       "            MUTANT                                       TYPE\n",
       "0  Q92610-1046-G-R  Uncertain significance                   \n",
       "1  Q96CU9-430-N-S   Pathogenic                               \n",
       "2  Q8TB37-56-G-R    Pathogenic;Uncertain significance        \n",
       "3  Q30201-282-C-Y   Benign;Pathogenic;association;risk factor\n",
       "4  Q30201-63-H-D    Likely benign;Pathogenic;risk factor     "
      ]
     },
     "execution_count": 608,
     "metadata": {},
     "output_type": "execute_result"
    }
   ],
   "source": [
    "clinvar.head()"
   ]
  },
  {
   "cell_type": "code",
   "execution_count": 610,
   "metadata": {
    "ExecuteTime": {
     "end_time": "2018-07-20T09:59:35.778930Z",
     "start_time": "2018-07-20T09:59:35.752989Z"
    },
    "scrolled": true
   },
   "outputs": [
    {
     "data": {
      "text/plain": [
       "Uncertain significance                  27659\n",
       "Pathogenic                              16160\n",
       "not provided                            6735 \n",
       "Likely pathogenic                       3613 \n",
       "Benign                                  3576 \n",
       "Likely benign                           3256 \n",
       "Likely benign;Uncertain significance    932  \n",
       "Name: TYPE, dtype: int64"
      ]
     },
     "execution_count": 610,
     "metadata": {},
     "output_type": "execute_result"
    }
   ],
   "source": [
    "clinvar.TYPE.value_counts().head(7)"
   ]
  },
  {
   "cell_type": "code",
   "execution_count": 611,
   "metadata": {
    "ExecuteTime": {
     "end_time": "2018-07-20T09:59:36.266803Z",
     "start_time": "2018-07-20T09:59:36.235680Z"
    },
    "collapsed": true
   },
   "outputs": [],
   "source": [
    "clinvar.drop_duplicates(inplace=True)"
   ]
  },
  {
   "cell_type": "code",
   "execution_count": 612,
   "metadata": {
    "ExecuteTime": {
     "end_time": "2018-07-20T09:59:36.611197Z",
     "start_time": "2018-07-20T09:59:36.607519Z"
    }
   },
   "outputs": [
    {
     "data": {
      "text/plain": [
       "(66217, 2)"
      ]
     },
     "execution_count": 612,
     "metadata": {},
     "output_type": "execute_result"
    }
   ],
   "source": [
    "clinvar.shape"
   ]
  },
  {
   "cell_type": "code",
   "execution_count": 613,
   "metadata": {
    "ExecuteTime": {
     "end_time": "2018-07-20T09:59:37.006635Z",
     "start_time": "2018-07-20T09:59:36.996610Z"
    }
   },
   "outputs": [
    {
     "data": {
      "text/plain": [
       "0"
      ]
     },
     "execution_count": 613,
     "metadata": {},
     "output_type": "execute_result"
    }
   ],
   "source": [
    "clinvar.TYPE.isnull().sum()"
   ]
  },
  {
   "cell_type": "code",
   "execution_count": 614,
   "metadata": {
    "ExecuteTime": {
     "end_time": "2018-07-20T09:59:37.431976Z",
     "start_time": "2018-07-20T09:59:37.408614Z"
    },
    "collapsed": true
   },
   "outputs": [],
   "source": [
    "clinvar = clinvar[(clinvar.TYPE == \"Benign\") | (clinvar.TYPE == \"Pathogenic\")]"
   ]
  },
  {
   "cell_type": "code",
   "execution_count": 615,
   "metadata": {
    "ExecuteTime": {
     "end_time": "2018-07-20T09:59:37.829961Z",
     "start_time": "2018-07-20T09:59:37.824252Z"
    }
   },
   "outputs": [
    {
     "data": {
      "text/plain": [
       "(19566, 2)"
      ]
     },
     "execution_count": 615,
     "metadata": {},
     "output_type": "execute_result"
    }
   ],
   "source": [
    "clinvar.shape"
   ]
  },
  {
   "cell_type": "code",
   "execution_count": 281,
   "metadata": {
    "ExecuteTime": {
     "end_time": "2018-07-15T16:09:25.722219Z",
     "start_time": "2018-07-15T16:09:25.687501Z"
    }
   },
   "outputs": [
    {
     "data": {
      "text/plain": [
       "Pathogenic    15993\n",
       "Benign        3573 \n",
       "Name: TYPE, dtype: int64"
      ]
     },
     "execution_count": 281,
     "metadata": {},
     "output_type": "execute_result"
    }
   ],
   "source": [
    "clinvar.TYPE.value_counts()"
   ]
  },
  {
   "cell_type": "markdown",
   "metadata": {},
   "source": [
    "### Combino la tabla humsavar y clinvar para ver clasificaciones"
   ]
  },
  {
   "cell_type": "code",
   "execution_count": 293,
   "metadata": {
    "ExecuteTime": {
     "end_time": "2018-07-15T17:34:25.767083Z",
     "start_time": "2018-07-15T17:34:25.752247Z"
    },
    "scrolled": true
   },
   "outputs": [
    {
     "data": {
      "text/plain": [
       "(68523, 6)"
      ]
     },
     "execution_count": 293,
     "metadata": {},
     "output_type": "execute_result"
    }
   ],
   "source": [
    "hum_final.shape"
   ]
  },
  {
   "cell_type": "code",
   "execution_count": 294,
   "metadata": {
    "ExecuteTime": {
     "end_time": "2018-07-15T17:34:26.247883Z",
     "start_time": "2018-07-15T17:34:26.242959Z"
    }
   },
   "outputs": [
    {
     "data": {
      "text/plain": [
       "(19566, 2)"
      ]
     },
     "execution_count": 294,
     "metadata": {},
     "output_type": "execute_result"
    }
   ],
   "source": [
    "clinvar.shape"
   ]
  },
  {
   "cell_type": "code",
   "execution_count": 297,
   "metadata": {
    "ExecuteTime": {
     "end_time": "2018-07-15T17:34:33.997814Z",
     "start_time": "2018-07-15T17:34:33.918859Z"
    },
    "collapsed": true
   },
   "outputs": [],
   "source": [
    "combined = clinvar.merge(hum_final, right_on=\"MUTANT\", left_on=\"MUTANT\", suffixes=[\"_clinvar\", \"_humsavar\"], how=\"outer\")"
   ]
  },
  {
   "cell_type": "code",
   "execution_count": 299,
   "metadata": {
    "ExecuteTime": {
     "end_time": "2018-07-15T17:34:40.197434Z",
     "start_time": "2018-07-15T17:34:40.145610Z"
    },
    "collapsed": true
   },
   "outputs": [],
   "source": [
    "combined = combined.drop_duplicates(\"MUTANT\")"
   ]
  },
  {
   "cell_type": "markdown",
   "metadata": {},
   "source": [
    "#### Interseccion"
   ]
  },
  {
   "cell_type": "code",
   "execution_count": 302,
   "metadata": {
    "ExecuteTime": {
     "end_time": "2018-07-15T17:34:58.826490Z",
     "start_time": "2018-07-15T17:34:58.805077Z"
    }
   },
   "outputs": [
    {
     "data": {
      "text/plain": [
       "(11780, 7)"
      ]
     },
     "execution_count": 302,
     "metadata": {},
     "output_type": "execute_result"
    }
   ],
   "source": [
    "combined[~combined.TYPE_clinvar.isnull() & ~combined.TYPE_humsavar.isnull()].shape"
   ]
  },
  {
   "cell_type": "markdown",
   "metadata": {},
   "source": [
    "### Merge con tabla VarQ"
   ]
  },
  {
   "cell_type": "code",
   "execution_count": 694,
   "metadata": {
    "ExecuteTime": {
     "end_time": "2018-07-21T16:33:45.608220Z",
     "start_time": "2018-07-21T16:33:45.548148Z"
    },
    "collapsed": true
   },
   "outputs": [],
   "source": [
    "varq_new = pd.read_csv(\"/home/marlan/Documents/Tesis/properties-varq.tab\", \"\\t\")"
   ]
  },
  {
   "cell_type": "code",
   "execution_count": 787,
   "metadata": {
    "ExecuteTime": {
     "end_time": "2018-07-21T19:20:52.397818Z",
     "start_time": "2018-07-21T19:20:52.392178Z"
    }
   },
   "outputs": [
    {
     "data": {
      "text/plain": [
       "0.94788034501743434"
      ]
     },
     "execution_count": 787,
     "metadata": {},
     "output_type": "execute_result"
    }
   ],
   "source": [
    "varq_new.ACTIVE_SITE.isnull().sum() / varq_new.shape[0]"
   ]
  },
  {
   "cell_type": "code",
   "execution_count": 707,
   "metadata": {
    "ExecuteTime": {
     "end_time": "2018-07-21T16:37:30.522307Z",
     "start_time": "2018-07-21T16:37:30.477435Z"
    }
   },
   "outputs": [
    {
     "data": {
      "text/plain": [
       "Pathogenic    5636\n",
       "Benign        874 \n",
       "Name: TYPE, dtype: int64"
      ]
     },
     "execution_count": 707,
     "metadata": {},
     "output_type": "execute_result"
    }
   ],
   "source": [
    "varq_new = varq_new[~varq_new.TYPE.isnull()]\n",
    "varq_new.merge(combined, on=\"MUTANT\").TYPE.value_counts()"
   ]
  },
  {
   "cell_type": "code",
   "execution_count": 702,
   "metadata": {
    "ExecuteTime": {
     "end_time": "2018-07-21T16:35:15.404929Z",
     "start_time": "2018-07-21T16:35:15.360124Z"
    }
   },
   "outputs": [
    {
     "data": {
      "text/html": [
       "<div>\n",
       "<table border=\"1\" class=\"dataframe\">\n",
       "  <thead>\n",
       "    <tr style=\"text-align: right;\">\n",
       "      <th></th>\n",
       "      <th>SASA</th>\n",
       "      <th>SASA_PERCENTAGE</th>\n",
       "      <th>BFACTOR</th>\n",
       "      <th>SWITCHBILITY</th>\n",
       "      <th>AGGREGABILITY</th>\n",
       "      <th>CONSERVATION</th>\n",
       "      <th>VARIATION_ENERGY</th>\n",
       "      <th>PROBABILITY</th>\n",
       "    </tr>\n",
       "  </thead>\n",
       "  <tbody>\n",
       "    <tr>\n",
       "      <th>count</th>\n",
       "      <td>10388.000000</td>\n",
       "      <td>10388.000000</td>\n",
       "      <td>10388.000000</td>\n",
       "      <td>9687.000000</td>\n",
       "      <td>7719.000000</td>\n",
       "      <td>3542.000000</td>\n",
       "      <td>10898.000000</td>\n",
       "      <td>10898.000000</td>\n",
       "    </tr>\n",
       "    <tr>\n",
       "      <th>mean</th>\n",
       "      <td>32.420731</td>\n",
       "      <td>0.152184</td>\n",
       "      <td>61.610823</td>\n",
       "      <td>0.400149</td>\n",
       "      <td>5.127920</td>\n",
       "      <td>0.335940</td>\n",
       "      <td>2.743701</td>\n",
       "      <td>57.505964</td>\n",
       "    </tr>\n",
       "    <tr>\n",
       "      <th>std</th>\n",
       "      <td>38.955250</td>\n",
       "      <td>0.175307</td>\n",
       "      <td>74.634135</td>\n",
       "      <td>0.922928</td>\n",
       "      <td>17.923692</td>\n",
       "      <td>0.288565</td>\n",
       "      <td>4.585165</td>\n",
       "      <td>49.435663</td>\n",
       "    </tr>\n",
       "    <tr>\n",
       "      <th>min</th>\n",
       "      <td>0.000000</td>\n",
       "      <td>0.000000</td>\n",
       "      <td>0.000000</td>\n",
       "      <td>0.000000</td>\n",
       "      <td>0.000000</td>\n",
       "      <td>0.130000</td>\n",
       "      <td>-13.530900</td>\n",
       "      <td>0.000000</td>\n",
       "    </tr>\n",
       "    <tr>\n",
       "      <th>25%</th>\n",
       "      <td>0.966000</td>\n",
       "      <td>0.000000</td>\n",
       "      <td>21.066250</td>\n",
       "      <td>0.000000</td>\n",
       "      <td>0.000000</td>\n",
       "      <td>0.250000</td>\n",
       "      <td>0.256540</td>\n",
       "      <td>0.000000</td>\n",
       "    </tr>\n",
       "    <tr>\n",
       "      <th>50%</th>\n",
       "      <td>16.208000</td>\n",
       "      <td>0.080000</td>\n",
       "      <td>41.277500</td>\n",
       "      <td>0.011900</td>\n",
       "      <td>0.000000</td>\n",
       "      <td>0.300000</td>\n",
       "      <td>1.461145</td>\n",
       "      <td>100.000000</td>\n",
       "    </tr>\n",
       "    <tr>\n",
       "      <th>75%</th>\n",
       "      <td>52.411000</td>\n",
       "      <td>0.270000</td>\n",
       "      <td>66.005000</td>\n",
       "      <td>0.309000</td>\n",
       "      <td>0.166000</td>\n",
       "      <td>0.370000</td>\n",
       "      <td>3.691327</td>\n",
       "      <td>100.000000</td>\n",
       "    </tr>\n",
       "    <tr>\n",
       "      <th>max</th>\n",
       "      <td>254.526000</td>\n",
       "      <td>0.750000</td>\n",
       "      <td>580.680000</td>\n",
       "      <td>9.720000</td>\n",
       "      <td>100.000000</td>\n",
       "      <td>11.700000</td>\n",
       "      <td>73.294400</td>\n",
       "      <td>100.000000</td>\n",
       "    </tr>\n",
       "  </tbody>\n",
       "</table>\n",
       "</div>"
      ],
      "text/plain": [
       "               SASA  SASA_PERCENTAGE       BFACTOR  SWITCHBILITY  \\\n",
       "count  10388.000000  10388.000000     10388.000000  9687.000000    \n",
       "mean   32.420731     0.152184         61.610823     0.400149       \n",
       "std    38.955250     0.175307         74.634135     0.922928       \n",
       "min    0.000000      0.000000         0.000000      0.000000       \n",
       "25%    0.966000      0.000000         21.066250     0.000000       \n",
       "50%    16.208000     0.080000         41.277500     0.011900       \n",
       "75%    52.411000     0.270000         66.005000     0.309000       \n",
       "max    254.526000    0.750000         580.680000    9.720000       \n",
       "\n",
       "       AGGREGABILITY  CONSERVATION  VARIATION_ENERGY   PROBABILITY  \n",
       "count  7719.000000    3542.000000   10898.000000      10898.000000  \n",
       "mean   5.127920       0.335940      2.743701          57.505964     \n",
       "std    17.923692      0.288565      4.585165          49.435663     \n",
       "min    0.000000       0.130000     -13.530900         0.000000      \n",
       "25%    0.000000       0.250000      0.256540          0.000000      \n",
       "50%    0.000000       0.300000      1.461145          100.000000    \n",
       "75%    0.166000       0.370000      3.691327          100.000000    \n",
       "max    100.000000     11.700000     73.294400         100.000000    "
      ]
     },
     "execution_count": 702,
     "metadata": {},
     "output_type": "execute_result"
    }
   ],
   "source": [
    "varq_new.describe()"
   ]
  },
  {
   "cell_type": "code",
   "execution_count": 604,
   "metadata": {
    "ExecuteTime": {
     "end_time": "2018-07-20T09:57:18.553856Z",
     "start_time": "2018-07-20T09:57:18.488587Z"
    },
    "collapsed": true
   },
   "outputs": [],
   "source": [
    "varq = pd.read_csv(\"../data/processed/properties-varq.tab.gz\", sep=\"\\t\")\n",
    "# varq = varq[~varq.TYPE.isnull()]"
   ]
  },
  {
   "cell_type": "code",
   "execution_count": 605,
   "metadata": {
    "ExecuteTime": {
     "end_time": "2018-07-20T09:57:19.107446Z",
     "start_time": "2018-07-20T09:57:19.092462Z"
    }
   },
   "outputs": [
    {
     "data": {
      "text/plain": [
       "(17869, 12)"
      ]
     },
     "execution_count": 605,
     "metadata": {},
     "output_type": "execute_result"
    }
   ],
   "source": [
    "varq.shape"
   ]
  },
  {
   "cell_type": "code",
   "execution_count": 337,
   "metadata": {
    "ExecuteTime": {
     "end_time": "2018-07-16T21:34:15.908952Z",
     "start_time": "2018-07-16T21:34:15.884396Z"
    },
    "collapsed": true
   },
   "outputs": [],
   "source": [
    "clinvar_varq = varq.merge(clinvar, on=\"MUTANT\")"
   ]
  },
  {
   "cell_type": "code",
   "execution_count": 338,
   "metadata": {
    "ExecuteTime": {
     "end_time": "2018-07-16T21:34:29.653014Z",
     "start_time": "2018-07-16T21:34:29.643988Z"
    }
   },
   "outputs": [
    {
     "data": {
      "text/plain": [
       "Pathogenic    2397\n",
       "Benign        138 \n",
       "Name: TYPE_y, dtype: int64"
      ]
     },
     "execution_count": 338,
     "metadata": {},
     "output_type": "execute_result"
    }
   ],
   "source": [
    "clinvar_varq.TYPE_y.value_counts()"
   ]
  },
  {
   "cell_type": "code",
   "execution_count": 341,
   "metadata": {
    "ExecuteTime": {
     "end_time": "2018-07-16T21:35:32.798414Z",
     "start_time": "2018-07-16T21:35:32.755032Z"
    },
    "collapsed": true
   },
   "outputs": [],
   "source": [
    "hum_varq = varq.merge(hum_final, on=\"MUTANT\")"
   ]
  },
  {
   "cell_type": "code",
   "execution_count": 342,
   "metadata": {
    "ExecuteTime": {
     "end_time": "2018-07-16T21:35:43.099999Z",
     "start_time": "2018-07-16T21:35:43.084400Z"
    }
   },
   "outputs": [
    {
     "data": {
      "text/plain": [
       "Disease         4667\n",
       "Polymorphism    1983\n",
       "Name: TYPE_y, dtype: int64"
      ]
     },
     "execution_count": 342,
     "metadata": {},
     "output_type": "execute_result"
    }
   ],
   "source": [
    "hum_varq.TYPE_y.value_counts()"
   ]
  },
  {
   "cell_type": "code",
   "execution_count": 343,
   "metadata": {
    "ExecuteTime": {
     "end_time": "2018-07-16T22:05:56.777373Z",
     "start_time": "2018-07-16T22:05:56.719957Z"
    },
    "collapsed": true
   },
   "outputs": [],
   "source": [
    "with_type = varq.merge(combined, on=\"MUTANT\")\n",
    "# with_type = with_type[~with_type.TYPE_humsavar.isnull() | ~with_type.TYPE_clinvar.isnull()]"
   ]
  },
  {
   "cell_type": "code",
   "execution_count": 344,
   "metadata": {
    "ExecuteTime": {
     "end_time": "2018-07-16T22:05:57.479285Z",
     "start_time": "2018-07-16T22:05:57.450933Z"
    },
    "scrolled": true
   },
   "outputs": [
    {
     "data": {
      "text/html": [
       "<div>\n",
       "<table border=\"1\" class=\"dataframe\">\n",
       "  <thead>\n",
       "    <tr style=\"text-align: right;\">\n",
       "      <th></th>\n",
       "      <th>MUTANT</th>\n",
       "      <th>SASA</th>\n",
       "      <th>SASA_PERCENTAGE</th>\n",
       "      <th>BFACTOR</th>\n",
       "      <th>SWITCHBILITY</th>\n",
       "      <th>AGGREGABILITY</th>\n",
       "      <th>CONSERVATION</th>\n",
       "      <th>3DID</th>\n",
       "      <th>PDB</th>\n",
       "      <th>ACTIVE_SITE</th>\n",
       "      <th>VARIATION_ENERGY</th>\n",
       "      <th>TYPE</th>\n",
       "      <th>TYPE_clinvar</th>\n",
       "      <th>Swiss_Prot_AC</th>\n",
       "      <th>Main_gene_name</th>\n",
       "      <th>TYPE_humsavar</th>\n",
       "      <th>AA_Change</th>\n",
       "      <th>dbSNP</th>\n",
       "    </tr>\n",
       "  </thead>\n",
       "  <tbody>\n",
       "  </tbody>\n",
       "</table>\n",
       "</div>"
      ],
      "text/plain": [
       "Empty DataFrame\n",
       "Columns: [MUTANT, SASA, SASA_PERCENTAGE, BFACTOR, SWITCHBILITY, AGGREGABILITY, CONSERVATION, 3DID, PDB, ACTIVE_SITE, VARIATION_ENERGY, TYPE, TYPE_clinvar, Swiss_Prot_AC, Main_gene_name, TYPE_humsavar, AA_Change, dbSNP]\n",
       "Index: []"
      ]
     },
     "execution_count": 344,
     "metadata": {},
     "output_type": "execute_result"
    }
   ],
   "source": [
    "with_type[with_type.TYPE_humsavar.isnull() & with_type.TYPE_clinvar.isnull()]"
   ]
  },
  {
   "cell_type": "code",
   "execution_count": 345,
   "metadata": {
    "ExecuteTime": {
     "end_time": "2018-07-16T22:05:59.537828Z",
     "start_time": "2018-07-16T22:05:59.531938Z"
    }
   },
   "outputs": [
    {
     "data": {
      "text/plain": [
       "(7418, 18)"
      ]
     },
     "execution_count": 345,
     "metadata": {},
     "output_type": "execute_result"
    }
   ],
   "source": [
    "with_type.shape"
   ]
  },
  {
   "cell_type": "code",
   "execution_count": 346,
   "metadata": {
    "ExecuteTime": {
     "end_time": "2018-07-16T22:06:00.575521Z",
     "start_time": "2018-07-16T22:06:00.559995Z"
    }
   },
   "outputs": [
    {
     "data": {
      "text/plain": [
       "Disease         4667\n",
       "Polymorphism    1983\n",
       "Name: TYPE_humsavar, dtype: int64"
      ]
     },
     "execution_count": 346,
     "metadata": {},
     "output_type": "execute_result"
    }
   ],
   "source": [
    "with_type[~with_type.TYPE_humsavar.isnull()].TYPE_humsavar.value_counts()"
   ]
  },
  {
   "cell_type": "code",
   "execution_count": 347,
   "metadata": {
    "ExecuteTime": {
     "end_time": "2018-07-16T22:06:02.507991Z",
     "start_time": "2018-07-16T22:06:02.476979Z"
    }
   },
   "outputs": [
    {
     "data": {
      "text/plain": [
       "Pathogenic    710\n",
       "Benign        58 \n",
       "Name: TYPE_clinvar, dtype: int64"
      ]
     },
     "execution_count": 347,
     "metadata": {},
     "output_type": "execute_result"
    }
   ],
   "source": [
    "with_type[with_type.TYPE_humsavar.isnull()].TYPE_clinvar.value_counts()"
   ]
  },
  {
   "cell_type": "code",
   "execution_count": 348,
   "metadata": {
    "ExecuteTime": {
     "end_time": "2018-07-16T22:06:02.968241Z",
     "start_time": "2018-07-16T22:06:02.962273Z"
    }
   },
   "outputs": [
    {
     "data": {
      "text/plain": [
       "Pathogenic    2397\n",
       "Benign        138 \n",
       "Name: TYPE_clinvar, dtype: int64"
      ]
     },
     "execution_count": 348,
     "metadata": {},
     "output_type": "execute_result"
    }
   ],
   "source": [
    "with_type.TYPE_clinvar.value_counts()"
   ]
  },
  {
   "cell_type": "code",
   "execution_count": 391,
   "metadata": {
    "ExecuteTime": {
     "end_time": "2018-07-16T22:28:55.423504Z",
     "start_time": "2018-07-16T22:28:55.415090Z"
    }
   },
   "outputs": [],
   "source": [
    "with_type = with_type.replace({\"TYPE_humsavar\":{\"Disease\": \"Pathogenic\", \"Polymorphism\": \"Benign\"}})"
   ]
  },
  {
   "cell_type": "code",
   "execution_count": 401,
   "metadata": {
    "ExecuteTime": {
     "end_time": "2018-07-16T22:40:39.824643Z",
     "start_time": "2018-07-16T22:40:39.814400Z"
    }
   },
   "outputs": [],
   "source": [
    "with_type[\"TYPE\"] = np.where(with_type.TYPE_humsavar.isnull(), with_type.TYPE_clinvar, with_type.TYPE_humsavar)\n",
    "with_type.drop([\"TYPE_humsavar\", \"TYPE_clinvar\", \"Swiss_Prot_AC\", \"Main_gene_name\", \"AA_Change\", \"dbSNP\"], axis=1, inplace=True)"
   ]
  },
  {
   "cell_type": "code",
   "execution_count": 788,
   "metadata": {
    "ExecuteTime": {
     "end_time": "2018-07-21T22:46:21.182564Z",
     "start_time": "2018-07-21T22:46:20.867416Z"
    }
   },
   "outputs": [
    {
     "data": {
      "text/plain": [
       "Pathogenic    5377\n",
       "Benign        2041\n",
       "Name: TYPE, dtype: int64"
      ]
     },
     "execution_count": 788,
     "metadata": {},
     "output_type": "execute_result"
    }
   ],
   "source": [
    "with_type.TYPE.value_counts()"
   ]
  },
  {
   "cell_type": "code",
   "execution_count": 411,
   "metadata": {
    "ExecuteTime": {
     "end_time": "2018-07-16T22:41:58.596668Z",
     "start_time": "2018-07-16T22:41:58.590140Z"
    }
   },
   "outputs": [
    {
     "data": {
      "text/plain": [
       "Index(['MUTANT', 'SASA', 'SASA_PERCENTAGE', 'BFACTOR', 'SWITCHBILITY',\n",
       "       'AGGREGABILITY', 'CONSERVATION', '3DID', 'PDB', 'ACTIVE_SITE',\n",
       "       'VARIATION_ENERGY', 'TYPE'],\n",
       "      dtype='object')"
      ]
     },
     "execution_count": 411,
     "metadata": {},
     "output_type": "execute_result"
    }
   ],
   "source": [
    "with_type.columns"
   ]
  },
  {
   "cell_type": "code",
   "execution_count": 790,
   "metadata": {
    "ExecuteTime": {
     "end_time": "2018-07-21T22:54:36.015283Z",
     "start_time": "2018-07-21T22:54:35.690196Z"
    }
   },
   "outputs": [],
   "source": [
    "with_type.to_csv(\"../data/processed/varq_clean.csv.gz\", sep=\",\", compression=\"gzip\", index=False)"
   ]
  },
  {
   "cell_type": "code",
   "execution_count": 708,
   "metadata": {
    "ExecuteTime": {
     "end_time": "2018-07-21T17:33:12.341086Z",
     "start_time": "2018-07-21T17:33:12.289509Z"
    }
   },
   "outputs": [
    {
     "data": {
      "text/plain": [
       "3DID                0.000000\n",
       "PDB                 0.000000\n",
       "VARIATION_ENERGY    0.000000\n",
       "TYPE                0.000000\n",
       "SASA                0.046913\n",
       "SASA_PERCENTAGE     0.046913\n",
       "BFACTOR             0.046913\n",
       "SWITCHBILITY        0.096252\n",
       "AGGREGABILITY       0.280803\n",
       "CONSERVATION        0.630359\n",
       "ACTIVE_SITE         0.955514\n",
       "dtype: float64"
      ]
     },
     "execution_count": 708,
     "metadata": {},
     "output_type": "execute_result"
    }
   ],
   "source": [
    "nulcount"
   ]
  },
  {
   "cell_type": "code",
   "execution_count": 783,
   "metadata": {
    "ExecuteTime": {
     "end_time": "2018-07-21T18:12:38.437156Z",
     "start_time": "2018-07-21T18:12:38.090906Z"
    }
   },
   "outputs": [
    {
     "data": {
      "image/png": "[encoded data removed]",
      "text/plain": [
       "<matplotlib.figure.Figure at 0x7fb3a5f57240>"
      ]
     },
     "metadata": {},
     "output_type": "display_data"
    }
   ],
   "source": [
    "nulcount = (with_type.isnull().sum(axis=0) / with_type.shape[0]).sort_values(ascending=True).drop(\"MUTANT\", 0)\n",
    "plt.figure(figsize=(10,5))\n",
    "# plt.title(\"Cantidad de variantes con valor nulo\")\n",
    "plt.yticks(size=15)\n",
    "plt.xticks(np.arange(0, 2, 0.1), size=15)\n",
    "\n",
    "plt.xlabel(\"Proporción\", size=15)\n",
    "ax = nulcount.plot(kind=\"barh\")\n",
    "\n",
    "plt.savefig(\"proporcion_nulos.pdf\", bbox_inches='tight')\n"
   ]
  },
  {
   "cell_type": "code",
   "execution_count": 736,
   "metadata": {
    "ExecuteTime": {
     "end_time": "2018-07-21T17:56:23.380380Z",
     "start_time": "2018-07-21T17:56:23.366390Z"
    }
   },
   "outputs": [
    {
     "data": {
      "text/plain": [
       "1    0.355756\n",
       "2    0.345915\n",
       "3    0.191696\n",
       "7    0.046913\n",
       "4    0.038150\n",
       "0    0.021569\n",
       "dtype: float64"
      ]
     },
     "execution_count": 736,
     "metadata": {},
     "output_type": "execute_result"
    }
   ],
   "source": [
    "nulvars.value_counts(normalize=True)"
   ]
  },
  {
   "cell_type": "code",
   "execution_count": 730,
   "metadata": {
    "ExecuteTime": {
     "end_time": "2018-07-21T17:54:55.750048Z",
     "start_time": "2018-07-21T17:54:55.731190Z"
    },
    "collapsed": true
   },
   "outputs": [],
   "source": [
    "range?"
   ]
  },
  {
   "cell_type": "code",
   "execution_count": 731,
   "metadata": {
    "ExecuteTime": {
     "end_time": "2018-07-21T17:55:23.918926Z",
     "start_time": "2018-07-21T17:55:23.906038Z"
    }
   },
   "outputs": [
    {
     "data": {
      "text/plain": [
       "range(1, 11)"
      ]
     },
     "execution_count": 731,
     "metadata": {},
     "output_type": "execute_result"
    }
   ],
   "source": [
    "range(1, 11)"
   ]
  },
  {
   "cell_type": "code",
   "execution_count": 742,
   "metadata": {
    "ExecuteTime": {
     "end_time": "2018-07-21T17:57:33.258795Z",
     "start_time": "2018-07-21T17:57:33.239203Z"
    },
    "collapsed": true
   },
   "outputs": [],
   "source": [
    "plt.hist?"
   ]
  },
  {
   "cell_type": "code",
   "execution_count": 760,
   "metadata": {
    "ExecuteTime": {
     "end_time": "2018-07-21T18:08:59.905321Z",
     "start_time": "2018-07-21T18:08:59.602595Z"
    }
   },
   "outputs": [
    {
     "data": {
      "image/png": "[encoded data removed]",
      "text/plain": [
       "<matplotlib.figure.Figure at 0x7fb3a6822f28>"
      ]
     },
     "metadata": {},
     "output_type": "display_data"
    }
   ],
   "source": [
    "nulvars = with_type.isnull().sum(axis=1)\n",
    "plt.figure(figsize=(10,5))\n",
    "# plt.title(\"Cantidad de variables nulas\")\n",
    "plt.xlabel(\"Cantidad\", size=15)\n",
    "plt.ylabel(\"Proporción\", size=15)\n",
    "plt.xticks(np.arange(0,10,1), size=15)\n",
    "plt.yticks(size=15)\n",
    "plt.hist(nulvars, normed=True, align=\"left\", bins=range(0, 9), rwidth=0.5, color=\"green\", alpha=0.8)\n",
    "\n",
    "\n",
    "# plt.show()\n",
    "plt.savefig(\"foo.pdf\", bbox_inches='tight')\n"
   ]
  },
  {
   "cell_type": "code",
   "execution_count": 693,
   "metadata": {
    "ExecuteTime": {
     "end_time": "2018-07-21T16:32:09.008985Z",
     "start_time": "2018-07-21T16:32:08.972089Z"
    }
   },
   "outputs": [
    {
     "data": {
      "text/html": [
       "<div>\n",
       "<table border=\"1\" class=\"dataframe\">\n",
       "  <thead>\n",
       "    <tr style=\"text-align: right;\">\n",
       "      <th></th>\n",
       "      <th>ACTIVE_SITE</th>\n",
       "      <th>PDB</th>\n",
       "      <th>3DID</th>\n",
       "    </tr>\n",
       "  </thead>\n",
       "  <tbody>\n",
       "    <tr>\n",
       "      <th>count</th>\n",
       "      <td>330</td>\n",
       "      <td>7418</td>\n",
       "      <td>7418</td>\n",
       "    </tr>\n",
       "    <tr>\n",
       "      <th>unique</th>\n",
       "      <td>1</td>\n",
       "      <td>2</td>\n",
       "      <td>2</td>\n",
       "    </tr>\n",
       "    <tr>\n",
       "      <th>top</th>\n",
       "      <td>BINDING</td>\n",
       "      <td>False</td>\n",
       "      <td>False</td>\n",
       "    </tr>\n",
       "    <tr>\n",
       "      <th>freq</th>\n",
       "      <td>330</td>\n",
       "      <td>6696</td>\n",
       "      <td>5939</td>\n",
       "    </tr>\n",
       "  </tbody>\n",
       "</table>\n",
       "</div>"
      ],
      "text/plain": [
       "       ACTIVE_SITE    PDB   3DID\n",
       "count   330         7418   7418 \n",
       "unique  1           2      2    \n",
       "top     BINDING     False  False\n",
       "freq    330         6696   5939 "
      ]
     },
     "execution_count": 693,
     "metadata": {},
     "output_type": "execute_result"
    }
   ],
   "source": [
    "with_type[[\"ACTIVE_SITE\", \"PDB\", \"3DID\"]].describe()"
   ]
  },
  {
   "cell_type": "code",
   "execution_count": 476,
   "metadata": {
    "ExecuteTime": {
     "end_time": "2018-07-18T09:43:20.274742Z",
     "start_time": "2018-07-18T09:43:20.242810Z"
    }
   },
   "outputs": [],
   "source": [
    "with_type.describe().to_csv(\"/home/marlan/Desktop/describe.csv\", float_format=\"%.2f\", index=True)"
   ]
  },
  {
   "cell_type": "code",
   "execution_count": null,
   "metadata": {
    "collapsed": true
   },
   "outputs": [],
   "source": []
  },
  {
   "cell_type": "markdown",
   "metadata": {},
   "source": [
    "## Ver si los unlabeled aparecen en la tabla variants"
   ]
  },
  {
   "cell_type": "markdown",
   "metadata": {},
   "source": [
    "### Tabla de Variantes que encontre en el sitio ClinVar"
   ]
  },
  {
   "cell_type": "code",
   "execution_count": 358,
   "metadata": {
    "ExecuteTime": {
     "end_time": "2018-07-16T22:08:17.800046Z",
     "start_time": "2018-07-16T22:08:11.002966Z"
    },
    "scrolled": false
   },
   "outputs": [
    {
     "name": "stderr",
     "output_type": "stream",
     "text": [
      "/home/marlan/anaconda3/lib/python3.6/site-packages/IPython/core/interactiveshell.py:2717: DtypeWarning: Columns (18) have mixed types. Specify dtype option on import or set low_memory=False.\n",
      "  interactivity=interactivity, compiler=compiler, result=result)\n"
     ]
    }
   ],
   "source": [
    "variants = pd.read_csv(\"../data/external/variant_summary.txt.gz\", sep=\"\\t\")\n",
    "variants = variants[variants.Type == \"single nucleotide variant\"][[\"Name\", \"ClinicalSignificance\", \"OtherIDs\"]].reset_index().drop(\"index\", axis=1)"
   ]
  },
  {
   "cell_type": "code",
   "execution_count": 359,
   "metadata": {
    "ExecuteTime": {
     "end_time": "2018-07-16T22:08:18.256960Z",
     "start_time": "2018-07-16T22:08:18.230036Z"
    },
    "scrolled": true
   },
   "outputs": [
    {
     "data": {
      "text/html": [
       "<div>\n",
       "<table border=\"1\" class=\"dataframe\">\n",
       "  <thead>\n",
       "    <tr style=\"text-align: right;\">\n",
       "      <th></th>\n",
       "      <th>Name</th>\n",
       "      <th>ClinicalSignificance</th>\n",
       "      <th>OtherIDs</th>\n",
       "    </tr>\n",
       "  </thead>\n",
       "  <tbody>\n",
       "    <tr>\n",
       "      <th>0</th>\n",
       "      <td>NM_014630.2(ZNF592):c.3136G&gt;A (p.Gly1046Arg)</td>\n",
       "      <td>Uncertain significance</td>\n",
       "      <td>OMIM Allelic Variant:613624.0001,UniProtKB (protein):Q92610#VAR_064583</td>\n",
       "    </tr>\n",
       "    <tr>\n",
       "      <th>1</th>\n",
       "      <td>NM_014630.2(ZNF592):c.3136G&gt;A (p.Gly1046Arg)</td>\n",
       "      <td>Uncertain significance</td>\n",
       "      <td>OMIM Allelic Variant:613624.0001,UniProtKB (protein):Q92610#VAR_064583</td>\n",
       "    </tr>\n",
       "    <tr>\n",
       "      <th>2</th>\n",
       "      <td>NM_017547.3(FOXRED1):c.694C&gt;T (p.Gln232Ter)</td>\n",
       "      <td>Pathogenic</td>\n",
       "      <td>OMIM Allelic Variant:613622.0001</td>\n",
       "    </tr>\n",
       "    <tr>\n",
       "      <th>3</th>\n",
       "      <td>NM_017547.3(FOXRED1):c.694C&gt;T (p.Gln232Ter)</td>\n",
       "      <td>Pathogenic</td>\n",
       "      <td>OMIM Allelic Variant:613622.0001</td>\n",
       "    </tr>\n",
       "    <tr>\n",
       "      <th>4</th>\n",
       "      <td>NM_017547.3(FOXRED1):c.1289A&gt;G (p.Asn430Ser)</td>\n",
       "      <td>Pathogenic</td>\n",
       "      <td>OMIM Allelic Variant:613622.0002,UniProtKB (protein):Q96CU9#VAR_064571</td>\n",
       "    </tr>\n",
       "    <tr>\n",
       "      <th>5</th>\n",
       "      <td>NM_017547.3(FOXRED1):c.1289A&gt;G (p.Asn430Ser)</td>\n",
       "      <td>Pathogenic</td>\n",
       "      <td>OMIM Allelic Variant:613622.0002,UniProtKB (protein):Q96CU9#VAR_064571</td>\n",
       "    </tr>\n",
       "    <tr>\n",
       "      <th>6</th>\n",
       "      <td>NM_025152.2(NUBPL):c.166G&gt;A (p.Gly56Arg)</td>\n",
       "      <td>Uncertain significance</td>\n",
       "      <td>OMIM Allelic Variant:613621.0001,UniProtKB (protein):Q8TB37#VAR_064570</td>\n",
       "    </tr>\n",
       "    <tr>\n",
       "      <th>7</th>\n",
       "      <td>NM_025152.2(NUBPL):c.166G&gt;A (p.Gly56Arg)</td>\n",
       "      <td>Uncertain significance</td>\n",
       "      <td>OMIM Allelic Variant:613621.0001,UniProtKB (protein):Q8TB37#VAR_064570</td>\n",
       "    </tr>\n",
       "    <tr>\n",
       "      <th>8</th>\n",
       "      <td>NM_000410.3(HFE):c.892+48G&gt;A</td>\n",
       "      <td>Benign</td>\n",
       "      <td>OMIM Allelic Variant:613609.0004</td>\n",
       "    </tr>\n",
       "    <tr>\n",
       "      <th>9</th>\n",
       "      <td>NM_000410.3(HFE):c.892+48G&gt;A</td>\n",
       "      <td>Benign</td>\n",
       "      <td>OMIM Allelic Variant:613609.0004</td>\n",
       "    </tr>\n",
       "    <tr>\n",
       "      <th>10</th>\n",
       "      <td>NM_000410.3(HFE):c.157G&gt;A (p.Val53Met)</td>\n",
       "      <td>Benign</td>\n",
       "      <td>OMIM Allelic Variant:613609.0005,UniProtKB (protein):Q30201#VAR_008111</td>\n",
       "    </tr>\n",
       "    <tr>\n",
       "      <th>11</th>\n",
       "      <td>NM_000410.3(HFE):c.845G&gt;A (p.Cys282Tyr)</td>\n",
       "      <td>Conflicting interpretations of pathogenicity, association, other, risk factor</td>\n",
       "      <td>OMIM Allelic Variant:613609.0001,UniProtKB (protein):Q30201#VAR_004398</td>\n",
       "    </tr>\n",
       "    <tr>\n",
       "      <th>12</th>\n",
       "      <td>NM_000410.3(HFE):c.845G&gt;A (p.Cys282Tyr)</td>\n",
       "      <td>Conflicting interpretations of pathogenicity, association, other, risk factor</td>\n",
       "      <td>OMIM Allelic Variant:613609.0001,UniProtKB (protein):Q30201#VAR_004398</td>\n",
       "    </tr>\n",
       "    <tr>\n",
       "      <th>13</th>\n",
       "      <td>NM_000410.3(HFE):c.187C&gt;G (p.His63Asp)</td>\n",
       "      <td>Conflicting interpretations of pathogenicity, other, risk factor</td>\n",
       "      <td>OMIM Allelic Variant:613609.0002,UniProtKB (protein):Q30201#VAR_004396</td>\n",
       "    </tr>\n",
       "    <tr>\n",
       "      <th>14</th>\n",
       "      <td>NM_000410.3(HFE):c.187C&gt;G (p.His63Asp)</td>\n",
       "      <td>Conflicting interpretations of pathogenicity, other, risk factor</td>\n",
       "      <td>OMIM Allelic Variant:613609.0002,UniProtKB (protein):Q30201#VAR_004396</td>\n",
       "    </tr>\n",
       "    <tr>\n",
       "      <th>15</th>\n",
       "      <td>NM_000410.3(HFE):c.193A&gt;T (p.Ser65Cys)</td>\n",
       "      <td>Conflicting interpretations of pathogenicity</td>\n",
       "      <td>OMIM Allelic Variant:613609.0003,UniProtKB (protein):Q30201#VAR_004397</td>\n",
       "    </tr>\n",
       "    <tr>\n",
       "      <th>16</th>\n",
       "      <td>NM_000410.3(HFE):c.193A&gt;T (p.Ser65Cys)</td>\n",
       "      <td>Conflicting interpretations of pathogenicity</td>\n",
       "      <td>OMIM Allelic Variant:613609.0003,UniProtKB (protein):Q30201#VAR_004397</td>\n",
       "    </tr>\n",
       "    <tr>\n",
       "      <th>17</th>\n",
       "      <td>NM_000410.3(HFE):c.314T&gt;C (p.Ile105Thr)</td>\n",
       "      <td>Pathogenic</td>\n",
       "      <td>OMIM Allelic Variant:613609.0009,UniProtKB (protein):Q30201#VAR_008730</td>\n",
       "    </tr>\n",
       "    <tr>\n",
       "      <th>18</th>\n",
       "      <td>NM_000410.3(HFE):c.314T&gt;C (p.Ile105Thr)</td>\n",
       "      <td>Pathogenic</td>\n",
       "      <td>OMIM Allelic Variant:613609.0009,UniProtKB (protein):Q30201#VAR_008730</td>\n",
       "    </tr>\n",
       "    <tr>\n",
       "      <th>19</th>\n",
       "      <td>NM_000410.3(HFE):c.277G&gt;C (p.Gly93Arg)</td>\n",
       "      <td>Pathogenic</td>\n",
       "      <td>OMIM Allelic Variant:613609.0010,UniProtKB (protein):Q30201#VAR_008729</td>\n",
       "    </tr>\n",
       "    <tr>\n",
       "      <th>20</th>\n",
       "      <td>NM_000410.3(HFE):c.277G&gt;C (p.Gly93Arg)</td>\n",
       "      <td>Pathogenic</td>\n",
       "      <td>OMIM Allelic Variant:613609.0010,UniProtKB (protein):Q30201#VAR_008729</td>\n",
       "    </tr>\n",
       "    <tr>\n",
       "      <th>21</th>\n",
       "      <td>NM_000410.3(HFE):c.157G&gt;A (p.Val53Met)</td>\n",
       "      <td>Benign</td>\n",
       "      <td>OMIM Allelic Variant:613609.0005,UniProtKB (protein):Q30201#VAR_008111</td>\n",
       "    </tr>\n",
       "    <tr>\n",
       "      <th>22</th>\n",
       "      <td>NM_000410.3(HFE):c.175G&gt;A (p.Val59Met)</td>\n",
       "      <td>Benign</td>\n",
       "      <td>OMIM Allelic Variant:613609.0006,UniProtKB (protein):Q30201#VAR_008112</td>\n",
       "    </tr>\n",
       "    <tr>\n",
       "      <th>23</th>\n",
       "      <td>NM_000410.3(HFE):c.175G&gt;A (p.Val59Met)</td>\n",
       "      <td>Benign</td>\n",
       "      <td>OMIM Allelic Variant:613609.0006,UniProtKB (protein):Q30201#VAR_008112</td>\n",
       "    </tr>\n",
       "    <tr>\n",
       "      <th>24</th>\n",
       "      <td>NM_000410.3(HFE):c.381A&gt;C (p.Gln127His)</td>\n",
       "      <td>Pathogenic</td>\n",
       "      <td>OMIM Allelic Variant:613609.0007,UniProtKB (protein):Q30201#VAR_008113</td>\n",
       "    </tr>\n",
       "  </tbody>\n",
       "</table>\n",
       "</div>"
      ],
      "text/plain": [
       "                                            Name  \\\n",
       "0   NM_014630.2(ZNF592):c.3136G>A (p.Gly1046Arg)   \n",
       "1   NM_014630.2(ZNF592):c.3136G>A (p.Gly1046Arg)   \n",
       "2   NM_017547.3(FOXRED1):c.694C>T (p.Gln232Ter)    \n",
       "3   NM_017547.3(FOXRED1):c.694C>T (p.Gln232Ter)    \n",
       "4   NM_017547.3(FOXRED1):c.1289A>G (p.Asn430Ser)   \n",
       "5   NM_017547.3(FOXRED1):c.1289A>G (p.Asn430Ser)   \n",
       "6   NM_025152.2(NUBPL):c.166G>A (p.Gly56Arg)       \n",
       "7   NM_025152.2(NUBPL):c.166G>A (p.Gly56Arg)       \n",
       "8   NM_000410.3(HFE):c.892+48G>A                   \n",
       "9   NM_000410.3(HFE):c.892+48G>A                   \n",
       "10  NM_000410.3(HFE):c.157G>A (p.Val53Met)         \n",
       "11  NM_000410.3(HFE):c.845G>A (p.Cys282Tyr)        \n",
       "12  NM_000410.3(HFE):c.845G>A (p.Cys282Tyr)        \n",
       "13  NM_000410.3(HFE):c.187C>G (p.His63Asp)         \n",
       "14  NM_000410.3(HFE):c.187C>G (p.His63Asp)         \n",
       "15  NM_000410.3(HFE):c.193A>T (p.Ser65Cys)         \n",
       "16  NM_000410.3(HFE):c.193A>T (p.Ser65Cys)         \n",
       "17  NM_000410.3(HFE):c.314T>C (p.Ile105Thr)        \n",
       "18  NM_000410.3(HFE):c.314T>C (p.Ile105Thr)        \n",
       "19  NM_000410.3(HFE):c.277G>C (p.Gly93Arg)         \n",
       "20  NM_000410.3(HFE):c.277G>C (p.Gly93Arg)         \n",
       "21  NM_000410.3(HFE):c.157G>A (p.Val53Met)         \n",
       "22  NM_000410.3(HFE):c.175G>A (p.Val59Met)         \n",
       "23  NM_000410.3(HFE):c.175G>A (p.Val59Met)         \n",
       "24  NM_000410.3(HFE):c.381A>C (p.Gln127His)        \n",
       "\n",
       "                                                             ClinicalSignificance  \\\n",
       "0   Uncertain significance                                                          \n",
       "1   Uncertain significance                                                          \n",
       "2   Pathogenic                                                                      \n",
       "3   Pathogenic                                                                      \n",
       "4   Pathogenic                                                                      \n",
       "5   Pathogenic                                                                      \n",
       "6   Uncertain significance                                                          \n",
       "7   Uncertain significance                                                          \n",
       "8   Benign                                                                          \n",
       "9   Benign                                                                          \n",
       "10  Benign                                                                          \n",
       "11  Conflicting interpretations of pathogenicity, association, other, risk factor   \n",
       "12  Conflicting interpretations of pathogenicity, association, other, risk factor   \n",
       "13  Conflicting interpretations of pathogenicity, other, risk factor                \n",
       "14  Conflicting interpretations of pathogenicity, other, risk factor                \n",
       "15  Conflicting interpretations of pathogenicity                                    \n",
       "16  Conflicting interpretations of pathogenicity                                    \n",
       "17  Pathogenic                                                                      \n",
       "18  Pathogenic                                                                      \n",
       "19  Pathogenic                                                                      \n",
       "20  Pathogenic                                                                      \n",
       "21  Benign                                                                          \n",
       "22  Benign                                                                          \n",
       "23  Benign                                                                          \n",
       "24  Pathogenic                                                                      \n",
       "\n",
       "                                                                  OtherIDs  \n",
       "0   OMIM Allelic Variant:613624.0001,UniProtKB (protein):Q92610#VAR_064583  \n",
       "1   OMIM Allelic Variant:613624.0001,UniProtKB (protein):Q92610#VAR_064583  \n",
       "2   OMIM Allelic Variant:613622.0001                                        \n",
       "3   OMIM Allelic Variant:613622.0001                                        \n",
       "4   OMIM Allelic Variant:613622.0002,UniProtKB (protein):Q96CU9#VAR_064571  \n",
       "5   OMIM Allelic Variant:613622.0002,UniProtKB (protein):Q96CU9#VAR_064571  \n",
       "6   OMIM Allelic Variant:613621.0001,UniProtKB (protein):Q8TB37#VAR_064570  \n",
       "7   OMIM Allelic Variant:613621.0001,UniProtKB (protein):Q8TB37#VAR_064570  \n",
       "8   OMIM Allelic Variant:613609.0004                                        \n",
       "9   OMIM Allelic Variant:613609.0004                                        \n",
       "10  OMIM Allelic Variant:613609.0005,UniProtKB (protein):Q30201#VAR_008111  \n",
       "11  OMIM Allelic Variant:613609.0001,UniProtKB (protein):Q30201#VAR_004398  \n",
       "12  OMIM Allelic Variant:613609.0001,UniProtKB (protein):Q30201#VAR_004398  \n",
       "13  OMIM Allelic Variant:613609.0002,UniProtKB (protein):Q30201#VAR_004396  \n",
       "14  OMIM Allelic Variant:613609.0002,UniProtKB (protein):Q30201#VAR_004396  \n",
       "15  OMIM Allelic Variant:613609.0003,UniProtKB (protein):Q30201#VAR_004397  \n",
       "16  OMIM Allelic Variant:613609.0003,UniProtKB (protein):Q30201#VAR_004397  \n",
       "17  OMIM Allelic Variant:613609.0009,UniProtKB (protein):Q30201#VAR_008730  \n",
       "18  OMIM Allelic Variant:613609.0009,UniProtKB (protein):Q30201#VAR_008730  \n",
       "19  OMIM Allelic Variant:613609.0010,UniProtKB (protein):Q30201#VAR_008729  \n",
       "20  OMIM Allelic Variant:613609.0010,UniProtKB (protein):Q30201#VAR_008729  \n",
       "21  OMIM Allelic Variant:613609.0005,UniProtKB (protein):Q30201#VAR_008111  \n",
       "22  OMIM Allelic Variant:613609.0006,UniProtKB (protein):Q30201#VAR_008112  \n",
       "23  OMIM Allelic Variant:613609.0006,UniProtKB (protein):Q30201#VAR_008112  \n",
       "24  OMIM Allelic Variant:613609.0007,UniProtKB (protein):Q30201#VAR_008113  "
      ]
     },
     "execution_count": 359,
     "metadata": {},
     "output_type": "execute_result"
    }
   ],
   "source": [
    "pd.set_option('display.max_colwidth', -1)\n",
    "variants.head(25)"
   ]
  },
  {
   "cell_type": "code",
   "execution_count": 360,
   "metadata": {
    "ExecuteTime": {
     "end_time": "2018-07-16T22:08:18.746767Z",
     "start_time": "2018-07-16T22:08:18.739596Z"
    }
   },
   "outputs": [
    {
     "data": {
      "text/plain": [
       "(617055, 3)"
      ]
     },
     "execution_count": 360,
     "metadata": {},
     "output_type": "execute_result"
    }
   ],
   "source": [
    "variants.shape"
   ]
  },
  {
   "cell_type": "code",
   "execution_count": 361,
   "metadata": {
    "ExecuteTime": {
     "end_time": "2018-07-16T22:08:19.175142Z",
     "start_time": "2018-07-16T22:08:19.118749Z"
    }
   },
   "outputs": [
    {
     "data": {
      "text/plain": [
       "Uncertain significance                          271194\n",
       "Likely benign                                   118245\n",
       "Pathogenic                                      66105 \n",
       "Benign                                          48776 \n",
       "Conflicting interpretations of pathogenicity    30462 \n",
       "Name: ClinicalSignificance, dtype: int64"
      ]
     },
     "execution_count": 361,
     "metadata": {},
     "output_type": "execute_result"
    }
   ],
   "source": [
    "variants.ClinicalSignificance.value_counts().head()"
   ]
  },
  {
   "cell_type": "code",
   "execution_count": 362,
   "metadata": {
    "ExecuteTime": {
     "end_time": "2018-07-16T22:08:19.635602Z",
     "start_time": "2018-07-16T22:08:19.627456Z"
    },
    "scrolled": true
   },
   "outputs": [
    {
     "data": {
      "text/plain": [
       "Index(['Name', 'ClinicalSignificance', 'OtherIDs'], dtype='object')"
      ]
     },
     "execution_count": 362,
     "metadata": {},
     "output_type": "execute_result"
    }
   ],
   "source": [
    "variants.columns"
   ]
  },
  {
   "cell_type": "code",
   "execution_count": 363,
   "metadata": {
    "ExecuteTime": {
     "end_time": "2018-07-16T22:08:23.155037Z",
     "start_time": "2018-07-16T22:08:20.066465Z"
    },
    "collapsed": true
   },
   "outputs": [],
   "source": [
    "amino = variants.Name.str.extract('(?P<C1>[A-Z]{1}[a-z]{2})(?P<C2>\\d+)(?P<C3>[A-Z]{1}[a-z]{2})', expand=True)\n",
    "protein = variants.OtherIDs.str.extract('\\(protein\\):(?P<Protein>[A-Z,\\d]+)#', expand=True)\n",
    "amino[\"C1\"] = amino.C1.map(AMINO_CODE)\n",
    "amino[\"C3\"] = amino.C3.map(AMINO_CODE)\n",
    "mutant = pd.Series(data=(protein.Protein + \"-\" + amino.C2 + \"-\" + amino.C1 + \"-\" + amino.C3).tolist(), name=\"MUTANT\")"
   ]
  },
  {
   "cell_type": "code",
   "execution_count": 364,
   "metadata": {
    "ExecuteTime": {
     "end_time": "2018-07-16T22:08:23.835593Z",
     "start_time": "2018-07-16T22:08:23.631915Z"
    },
    "collapsed": true
   },
   "outputs": [],
   "source": [
    "variants = pd.concat([variants, mutant], 1)\n",
    "variants = variants[~variants.MUTANT.isnull()][[\"MUTANT\", \"ClinicalSignificance\"]].drop_duplicates()\n",
    "variants.rename(columns={\"ClinicalSignificance\": \"TYPE\"}, inplace=True)\n",
    "variants = variants[(variants.TYPE == \"Pathogenic\") | (variants.TYPE == \"Benign\")]"
   ]
  },
  {
   "cell_type": "code",
   "execution_count": 366,
   "metadata": {
    "ExecuteTime": {
     "end_time": "2018-07-16T22:08:33.899549Z",
     "start_time": "2018-07-16T22:08:33.879686Z"
    }
   },
   "outputs": [
    {
     "data": {
      "text/html": [
       "<div>\n",
       "<table border=\"1\" class=\"dataframe\">\n",
       "  <thead>\n",
       "    <tr style=\"text-align: right;\">\n",
       "      <th></th>\n",
       "      <th>MUTANT</th>\n",
       "      <th>TYPE</th>\n",
       "    </tr>\n",
       "  </thead>\n",
       "  <tbody>\n",
       "    <tr>\n",
       "      <th>4</th>\n",
       "      <td>Q96CU9-430-N-S</td>\n",
       "      <td>Pathogenic</td>\n",
       "    </tr>\n",
       "    <tr>\n",
       "      <th>10</th>\n",
       "      <td>Q30201-53-V-M</td>\n",
       "      <td>Benign</td>\n",
       "    </tr>\n",
       "    <tr>\n",
       "      <th>17</th>\n",
       "      <td>Q30201-105-I-T</td>\n",
       "      <td>Pathogenic</td>\n",
       "    </tr>\n",
       "    <tr>\n",
       "      <th>19</th>\n",
       "      <td>Q30201-93-G-R</td>\n",
       "      <td>Pathogenic</td>\n",
       "    </tr>\n",
       "    <tr>\n",
       "      <th>22</th>\n",
       "      <td>Q30201-59-V-M</td>\n",
       "      <td>Benign</td>\n",
       "    </tr>\n",
       "  </tbody>\n",
       "</table>\n",
       "</div>"
      ],
      "text/plain": [
       "            MUTANT        TYPE\n",
       "4   Q96CU9-430-N-S  Pathogenic\n",
       "10  Q30201-53-V-M   Benign    \n",
       "17  Q30201-105-I-T  Pathogenic\n",
       "19  Q30201-93-G-R   Pathogenic\n",
       "22  Q30201-59-V-M   Benign    "
      ]
     },
     "execution_count": 366,
     "metadata": {},
     "output_type": "execute_result"
    }
   ],
   "source": [
    "variants.head()"
   ]
  },
  {
   "cell_type": "code",
   "execution_count": 368,
   "metadata": {
    "ExecuteTime": {
     "end_time": "2018-07-16T22:08:40.026742Z",
     "start_time": "2018-07-16T22:08:40.004661Z"
    }
   },
   "outputs": [
    {
     "data": {
      "text/plain": [
       "Pathogenic    9282\n",
       "Benign        1445\n",
       "Name: TYPE, dtype: int64"
      ]
     },
     "execution_count": 368,
     "metadata": {},
     "output_type": "execute_result"
    }
   ],
   "source": [
    "variants.TYPE.value_counts().head(7)"
   ]
  },
  {
   "cell_type": "code",
   "execution_count": 375,
   "metadata": {
    "ExecuteTime": {
     "end_time": "2018-07-16T22:09:23.196782Z",
     "start_time": "2018-07-16T22:09:23.170101Z"
    }
   },
   "outputs": [
    {
     "data": {
      "text/plain": [
       "(1622, 13)"
      ]
     },
     "execution_count": 375,
     "metadata": {},
     "output_type": "execute_result"
    }
   ],
   "source": [
    "variants.merge(varq, on=\"MUTANT\", suffixes=[\"clinvar\", \"santi\"]).shape"
   ]
  },
  {
   "cell_type": "code",
   "execution_count": 376,
   "metadata": {
    "ExecuteTime": {
     "end_time": "2018-07-16T22:09:24.890444Z",
     "start_time": "2018-07-16T22:09:24.868457Z"
    }
   },
   "outputs": [
    {
     "data": {
      "text/plain": [
       "Pathogenic    9282\n",
       "Benign        1445\n",
       "Name: TYPE, dtype: int64"
      ]
     },
     "execution_count": 376,
     "metadata": {},
     "output_type": "execute_result"
    }
   ],
   "source": [
    "variants.TYPE.value_counts()"
   ]
  },
  {
   "cell_type": "markdown",
   "metadata": {},
   "source": [
    "### No, no hay ni un unlabeled que podamos clasificar usando variants."
   ]
  }
 ],
 "metadata": {
  "kernelspec": {
   "display_name": "Python 3",
   "language": "python",
   "name": "python3"
  },
  "language_info": {
   "codemirror_mode": {
    "name": "ipython",
    "version": 3
   },
   "file_extension": ".py",
   "mimetype": "text/x-python",
   "name": "python",
   "nbconvert_exporter": "python",
   "pygments_lexer": "ipython3",
   "version": "3.6.3"
  },
  "varInspector": {
   "cols": {
    "lenName": 16,
    "lenType": 16,
    "lenVar": 40
   },
   "kernels_config": {
    "python": {
     "delete_cmd_postfix": "",
     "delete_cmd_prefix": "del ",
     "library": "var_list.py",
     "varRefreshCmd": "print(var_dic_list())"
    },
    "r": {
     "delete_cmd_postfix": ") ",
     "delete_cmd_prefix": "rm(",
     "library": "var_list.r",
     "varRefreshCmd": "cat(var_dic_list()) "
    }
   },
   "types_to_exclude": [
    "module",
    "function",
    "builtin_function_or_method",
    "instance",
    "_Feature"
   ],
   "window_display": false
  }
 },
 "nbformat": 4,
 "nbformat_minor": 2
}
