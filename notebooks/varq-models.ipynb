{
 "cells": [
  {
   "cell_type": "markdown",
   "metadata": {},
   "source": [
    "### Imports"
   ]
  },
  {
   "cell_type": "code",
   "execution_count": 19,
   "metadata": {
    "ExecuteTime": {
     "end_time": "2018-09-01T17:09:04.148390Z",
     "start_time": "2018-09-01T17:09:04.134115Z"
    },
    "collapsed": true
   },
   "outputs": [],
   "source": [
    "import operator\n",
    "import pandas as pd\n",
    "import matplotlib.pyplot as plt\n",
    "import seaborn as sns\n",
    "import numpy as np\n",
    "import rfpimp\n",
    "from sklearn.base import BaseEstimator, TransformerMixin\n",
    "from sklearn import feature_selection\n",
    "from sklearn.ensemble import GradientBoostingClassifier, RandomForestClassifier, AdaBoostClassifier\n",
    "from sklearn.svm import SVC\n",
    "from sklearn.linear_model import LogisticRegression\n",
    "from sklearn.pipeline import FeatureUnion, Pipeline, make_pipeline\n",
    "from sklearn.preprocessing import StandardScaler, RobustScaler, Imputer, LabelEncoder\n",
    "from sklearn.model_selection import GridSearchCV, RandomizedSearchCV, train_test_split, StratifiedKFold\n",
    "from sklearn.metrics import accuracy_score, f1_score, confusion_matrix, classification_report, roc_curve, auc, roc_auc_score\n",
    "%matplotlib inline\n",
    "# %load_ext autoreload\n",
    "# %autoreload 2"
   ]
  },
  {
   "cell_type": "markdown",
   "metadata": {},
   "source": [
    "### Aux Functions"
   ]
  },
  {
   "cell_type": "code",
   "execution_count": 20,
   "metadata": {
    "ExecuteTime": {
     "end_time": "2018-09-01T17:09:05.111471Z",
     "start_time": "2018-09-01T17:09:05.074161Z"
    },
    "collapsed": true
   },
   "outputs": [],
   "source": [
    "class ItemSelector(BaseEstimator, TransformerMixin):\n",
    "    def __init__(self, key):\n",
    "        self.key = key\n",
    "\n",
    "    def fit(self, x, y=None):\n",
    "        return self\n",
    "\n",
    "    def transform(self, data_dict):\n",
    "        return data_dict[self.key]\n",
    "    \n",
    "    \n",
    "def univariate_auc(dataset, variable_name):\n",
    "    sorted_dataset = dataset[[variable_name, \"TYPE\"]].sort_values(by=variable_name).dropna()\n",
    "    fpr, tpr, _ = roc_curve(le.fit_transform(sorted_dataset.TYPE), sorted_dataset[[variable_name]])\n",
    "    return auc(fpr, tpr)\n",
    "\n",
    "def balanced_accuracy(dataset, variable_name):\n",
    "    tp = dataset[(dataset.TYPE == \"Pathogenic\") & dataset[variable_name]].shape[0]\n",
    "    p = dataset[dataset.TYPE == \"Pathogenic\"].shape[0]\n",
    "    tn = dataset[(dataset.TYPE == \"Benign\") & (~dataset[variable_name])].shape[0]\n",
    "    n = dataset[dataset.TYPE == \"Benign\"].shape[0]\n",
    "    return (tp/p + tn/n) / 2"
   ]
  },
  {
   "cell_type": "code",
   "execution_count": 21,
   "metadata": {
    "ExecuteTime": {
     "end_time": "2018-09-01T17:09:05.835635Z",
     "start_time": "2018-09-01T17:09:05.737905Z"
    }
   },
   "outputs": [
    {
     "name": "stdout",
     "output_type": "stream",
     "text": [
      "SASA : 0.34141093759980334\n",
      "BFACTOR : 0.45893877338986594\n",
      "SWITCHBILITY : 0.4988704594020753\n",
      "AGGREGABILITY : 0.5127936444721555\n",
      "CONSERVATION : 0.4354685245310245\n",
      "VARIATION_ENERGY : 0.6836003366726937\n"
     ]
    }
   ],
   "source": [
    "for variable in cont_vars:\n",
    "    print(variable, \":\", univariate_auc(varq, variable))"
   ]
  },
  {
   "cell_type": "code",
   "execution_count": 22,
   "metadata": {
    "ExecuteTime": {
     "end_time": "2018-09-01T17:09:07.227993Z",
     "start_time": "2018-09-01T17:09:07.195983Z"
    }
   },
   "outputs": [
    {
     "name": "stdout",
     "output_type": "stream",
     "text": [
      "PDB : 0.4941370219957124\n",
      "3DID : 0.519917841948809\n"
     ]
    }
   ],
   "source": [
    "for variable in cat_vars:\n",
    "    print(variable, \":\", balanced_accuracy(varq, variable))"
   ]
  },
  {
   "cell_type": "markdown",
   "metadata": {},
   "source": [
    "### Analysis"
   ]
  },
  {
   "cell_type": "code",
   "execution_count": 76,
   "metadata": {
    "ExecuteTime": {
     "end_time": "2018-09-01T17:14:43.950507Z",
     "start_time": "2018-09-01T17:14:43.906583Z"
    },
    "collapsed": true
   },
   "outputs": [],
   "source": [
    "# varq = pd.read_csv(\"../data/processed/properties-varq.tab.gz\", sep=\"\\t\", index_col=\"MUTANT\")\n",
    "# varq = pd.read_csv(\"../data/processed/humsavar_varq_gt.csv.gz\", sep=\",\", index_col=\"MUTANT\").drop(\"dbSNP\", 1)\n",
    "varq = pd.read_csv(\"../data/processed/varq/varq_clean.csv.gz\", index_col=\"MUTANT\")\n",
    "varq = varq[varq.TYPE != \"Unclassified\"].drop([\"ACTIVE_SITE\"], 1)\n",
    "# varq['random'] = np.random.random(size=len(varq))\n"
   ]
  },
  {
   "cell_type": "code",
   "execution_count": 77,
   "metadata": {
    "ExecuteTime": {
     "end_time": "2018-09-01T17:14:44.888822Z",
     "start_time": "2018-09-01T17:14:44.664020Z"
    },
    "collapsed": true
   },
   "outputs": [],
   "source": [
    "varq.to_csv(\"../data/processed/varq/dataset.csv.gz\", compression=\"gzip\", index=True, index_label=\"MUTANT\")"
   ]
  },
  {
   "cell_type": "code",
   "execution_count": 78,
   "metadata": {
    "ExecuteTime": {
     "end_time": "2018-09-01T17:14:45.355482Z",
     "start_time": "2018-09-01T17:14:45.345372Z"
    },
    "scrolled": true
   },
   "outputs": [
    {
     "data": {
      "text/plain": [
       "Index(['SASA', 'SASA_PERCENTAGE', 'BFACTOR', 'SWITCHBILITY', 'AGGREGABILITY',\n",
       "       'CONSERVATION', '3DID', 'PDB', 'VARIATION_ENERGY', 'TYPE'],\n",
       "      dtype='object')"
      ]
     },
     "execution_count": 78,
     "metadata": {},
     "output_type": "execute_result"
    }
   ],
   "source": [
    "varq.columns"
   ]
  },
  {
   "cell_type": "code",
   "execution_count": 79,
   "metadata": {
    "ExecuteTime": {
     "end_time": "2018-09-01T17:14:45.765744Z",
     "start_time": "2018-09-01T17:14:45.752849Z"
    }
   },
   "outputs": [
    {
     "data": {
      "text/plain": [
       "(7418,)"
      ]
     },
     "execution_count": 79,
     "metadata": {},
     "output_type": "execute_result"
    }
   ],
   "source": [
    "varq.index.unique().shape"
   ]
  },
  {
   "cell_type": "code",
   "execution_count": 80,
   "metadata": {
    "ExecuteTime": {
     "end_time": "2018-09-01T17:14:46.044871Z",
     "start_time": "2018-09-01T17:14:46.038418Z"
    }
   },
   "outputs": [
    {
     "data": {
      "text/plain": [
       "Pathogenic    5377\n",
       "Benign        2041\n",
       "Name: TYPE, dtype: int64"
      ]
     },
     "execution_count": 80,
     "metadata": {},
     "output_type": "execute_result"
    }
   ],
   "source": [
    "varq.TYPE.value_counts()"
   ]
  },
  {
   "cell_type": "markdown",
   "metadata": {},
   "source": [
    "### Machine Learning"
   ]
  },
  {
   "cell_type": "code",
   "execution_count": 81,
   "metadata": {
    "ExecuteTime": {
     "end_time": "2018-09-01T17:14:46.780941Z",
     "start_time": "2018-09-01T17:14:46.733034Z"
    },
    "collapsed": true
   },
   "outputs": [],
   "source": [
    "# feature_union = \n",
    "cat_vars = [\"PDB\", \"3DID\"]\n",
    "cont_vars = varq.columns[~varq.columns.isin(cat_vars + [\"TYPE\"])].tolist()\n",
    "\n",
    "\n",
    "\n",
    "impute = ('union', \n",
    "          FeatureUnion(\n",
    "              transformer_list=[\n",
    "                  ('continuous', Pipeline([\n",
    "                      ('selector', ItemSelector(key=cont_vars)),\n",
    "                      ('imputer', Imputer(missing_values=\"NaN\", strategy=\"median\"))\n",
    "                  ])),\n",
    "                  ('categorical', Pipeline([\n",
    "                      ('selector', ItemSelector(key=cat_vars)),\n",
    "                      ('imputer', Imputer(missing_values=\"NaN\", strategy=\"most_frequent\"))\n",
    "                      \n",
    "                  ]))\n",
    "              ]))\n",
    "                  \n",
    "    \n",
    "scale = ('scaler', RobustScaler())\n",
    "\n",
    "model_dict = {\n",
    "    'lr':{'pipe':[impute, scale, ('lr', LogisticRegression())],\n",
    "        'params':[{'lr__C' : [.001, .01, .1, 1, 10, 100, 1000], 'lr__class_weight':[None, 'balanced']}],\n",
    "        'name':'LogisticRegression'\n",
    "    },\n",
    "    'rf':{'pipe':[impute, ('rf', RandomForestClassifier(random_state = 100, oob_score=False))],\n",
    "        'params':[{'rf__max_depth':[3,5,7], 'rf__n_estimators':[10,50,100], 'rf__max_features':[4,'sqrt',0.2]}],\n",
    "        'name':'Random Forest'\n",
    "    },\n",
    "    'svc':{'pipe': [impute, scale, ('svc', SVC(kernel='rbf'))],\n",
    "           'params':[{'svc__kernel': ['rbf'], 'svc__gamma': [1e-2, 1e-3, 1e-4, 1e-5],\n",
    "                'svc__C': [0.001, 0.10, 0.1, 10, 25, 50, 100, 1000]}]\n",
    "        \n",
    "    },\n",
    "}"
   ]
  },
  {
   "cell_type": "code",
   "execution_count": 82,
   "metadata": {
    "ExecuteTime": {
     "end_time": "2018-09-01T17:14:47.240688Z",
     "start_time": "2018-09-01T17:14:47.182136Z"
    },
    "collapsed": true
   },
   "outputs": [],
   "source": [
    "le = LabelEncoder()\n",
    "X = varq[~varq.TYPE.isnull()].drop(['TYPE'], 1)\n",
    "y = le.fit_transform(varq[~varq.TYPE.isnull()].TYPE)\n",
    "X_train, X_test, y_train, y_test = train_test_split(X, y, test_size=0.33, random_state=42, stratify=y)\n"
   ]
  },
  {
   "cell_type": "markdown",
   "metadata": {},
   "source": [
    "#### Random Forest"
   ]
  },
  {
   "cell_type": "code",
   "execution_count": 83,
   "metadata": {
    "ExecuteTime": {
     "end_time": "2018-09-01T17:14:47.990110Z",
     "start_time": "2018-09-01T17:14:47.959470Z"
    },
    "collapsed": true
   },
   "outputs": [],
   "source": [
    "folds = 3\n",
    "skf = StratifiedKFold(n_splits=folds, shuffle=True, random_state=1001)\n",
    "algorithm = 'rf'\n",
    "model = Pipeline(model_dict[algorithm]['pipe'])\n",
    "param_list = [model_dict[algorithm]['params']][0]\n",
    "gs = GridSearchCV(model, param_list, cv=skf.split(X_train, y_train), n_jobs=2, \n",
    "                  scoring='roc_auc', verbose=1, refit=True)"
   ]
  },
  {
   "cell_type": "code",
   "execution_count": 84,
   "metadata": {
    "ExecuteTime": {
     "end_time": "2018-09-01T17:14:57.186760Z",
     "start_time": "2018-09-01T17:14:48.429956Z"
    },
    "scrolled": true
   },
   "outputs": [
    {
     "name": "stdout",
     "output_type": "stream",
     "text": [
      "Fitting 3 folds for each of 27 candidates, totalling 81 fits\n"
     ]
    },
    {
     "name": "stderr",
     "output_type": "stream",
     "text": [
      "[Parallel(n_jobs=2)]: Done  81 out of  81 | elapsed:    7.9s finished\n"
     ]
    },
    {
     "data": {
      "text/plain": [
       "GridSearchCV(cv=<generator object _BaseKFold.split at 0x7f3cddc01b48>,\n",
       "       error_score='raise',\n",
       "       estimator=Pipeline(memory=None,\n",
       "     steps=[('union', FeatureUnion(n_jobs=1,\n",
       "       transformer_list=[('continuous', Pipeline(memory=None,\n",
       "     steps=[('selector', ItemSelector(key=['SASA', 'SASA_PERCENTAGE', 'BFACTOR', 'SWITCHBILITY', 'AGGREGABILITY', 'CONSERVATION', 'VARIATION_ENERGY'])), ('imputer', Imputer(axis=0, copy=True, missin...timators=10, n_jobs=1,\n",
       "            oob_score=False, random_state=100, verbose=0, warm_start=False))]),\n",
       "       fit_params=None, iid=True, n_jobs=2,\n",
       "       param_grid=[{'rf__max_depth': [3, 5, 7], 'rf__n_estimators': [10, 50, 100], 'rf__max_features': [4, 'sqrt', 0.2]}],\n",
       "       pre_dispatch='2*n_jobs', refit=True, return_train_score='warn',\n",
       "       scoring='roc_auc', verbose=1)"
      ]
     },
     "execution_count": 84,
     "metadata": {},
     "output_type": "execute_result"
    }
   ],
   "source": [
    "gs.fit(X_train, y_train)"
   ]
  },
  {
   "cell_type": "code",
   "execution_count": 85,
   "metadata": {
    "ExecuteTime": {
     "end_time": "2018-09-01T17:14:58.800661Z",
     "start_time": "2018-09-01T17:14:58.788173Z"
    },
    "collapsed": true
   },
   "outputs": [],
   "source": [
    "rf = gs.best_estimator_"
   ]
  },
  {
   "cell_type": "code",
   "execution_count": 86,
   "metadata": {
    "ExecuteTime": {
     "end_time": "2018-09-01T17:14:59.653686Z",
     "start_time": "2018-09-01T17:14:59.450735Z"
    },
    "scrolled": false
   },
   "outputs": [
    {
     "data": {
      "image/png": "[encoded data removed]",
      "text/plain": [
       "<matplotlib.figure.Figure at 0x7f3cddd0b978>"
      ]
     },
     "metadata": {},
     "output_type": "display_data"
    }
   ],
   "source": [
    "cols = (cont_vars + cat_vars)\n",
    "ranking_size = 10\n",
    "forest = rf.steps[1][1]\n",
    "\n",
    "importances = [(cols[e], x) for e, x in enumerate(forest.feature_importances_)]\n",
    "importances.sort(key=operator.itemgetter(1), reverse=True)\n",
    "indices = np.argsort(forest.feature_importances_)[:ranking_size]\n",
    "importances = importances[:ranking_size][::-1]\n",
    "std = np.std([tree.feature_importances_ for tree in forest.estimators_],axis=0)\n",
    "plt.figure(figsize=(8,6))\n",
    "plt.barh(np.arange(len(importances)), [y for x, y in importances], 0.6, color=\"green\", align=\"center\", \n",
    "         xerr=std[indices], ecolor=\"black\", error_kw={\"capthick\":2, \"capsize\":2})\n",
    "plt.yticks(range(len(importances)), [x for x, y in importances], rotation='horizontal', fontsize=16)\n",
    "plt.xlabel(\"Score\",fontsize=16)\n",
    "plt.xticks(fontsize=16)\n",
    "plt.tight_layout()\n",
    "\n",
    "# plt.savefig(\"/home/marlan/Desktop/importances_varq.pdf\", bbox_inches='tight', pad_inches=0.1)\n"
   ]
  },
  {
   "cell_type": "code",
   "execution_count": 114,
   "metadata": {
    "ExecuteTime": {
     "end_time": "2018-08-25T20:52:35.036480Z",
     "start_time": "2018-08-25T20:52:34.444569Z"
    },
    "scrolled": true
   },
   "outputs": [
    {
     "data": {
      "image/png": "[encoded data removed]",
      "text/plain": [
       "<matplotlib.figure.Figure at 0x7fdaf37c4630>"
      ]
     },
     "metadata": {},
     "output_type": "display_data"
    }
   ],
   "source": [
    "scaled_df = pd.DataFrame(scale[1].fit_transform(impute[1].fit_transform(X)), columns=(cont_vars+cat_vars))\n",
    "rfpimp.plot_corr_heatmap(scaled_df, figsize=(9,5), label_fontsize=12, value_fontsize=12, save=\"/home/marlan/Desktop/varq_corrplot.pdf\")"
   ]
  },
  {
   "cell_type": "code",
   "execution_count": 87,
   "metadata": {
    "ExecuteTime": {
     "end_time": "2018-09-01T17:15:04.340147Z",
     "start_time": "2018-09-01T17:15:04.268418Z"
    },
    "collapsed": true
   },
   "outputs": [],
   "source": [
    "fpr, tpr, _ = roc_curve(y_test, rf.predict_proba(X_test)[:, 1])\n",
    "roc_auc = auc(fpr, tpr)"
   ]
  },
  {
   "cell_type": "code",
   "execution_count": 108,
   "metadata": {
    "ExecuteTime": {
     "end_time": "2018-09-01T17:41:57.231613Z",
     "start_time": "2018-09-01T17:41:57.204163Z"
    }
   },
   "outputs": [],
   "source": [
    "roc_curve = pd.concat([pd.Series(fpr,name=\"fpr\"), pd.Series(tpr, name=\"tpr\")], axis=1)\n",
    "roc_curve.to_csv(\"../results/varq/auc_rf.csv\", index=False)"
   ]
  },
  {
   "cell_type": "code",
   "execution_count": 89,
   "metadata": {
    "ExecuteTime": {
     "end_time": "2018-09-01T17:15:06.664981Z",
     "start_time": "2018-09-01T17:15:06.460020Z"
    }
   },
   "outputs": [
    {
     "data": {
      "text/plain": [
       "<matplotlib.legend.Legend at 0x7f3cddd43c88>"
      ]
     },
     "execution_count": 89,
     "metadata": {},
     "output_type": "execute_result"
    },
    {
     "data": {
      "image/png": "[encoded data removed]",
      "text/plain": [
       "<matplotlib.figure.Figure at 0x7f3cddb6dd68>"
      ]
     },
     "metadata": {},
     "output_type": "display_data"
    }
   ],
   "source": [
    "plt.figure(figsize=(7,7))\n",
    "\n",
    "lw = 2\n",
    "plt.plot(fpr, tpr, color='darkorange',\n",
    "         lw=lw, label='Curva ROC (area = %0.2f)' % roc_auc)\n",
    "plt.plot([0, 1], [0, 1], color='navy', lw=lw, linestyle='--', label='Random')\n",
    "plt.xlim([0.0, 1.0])\n",
    "plt.ylim([0.0, 1.05])\n",
    "plt.xlabel('False Positive Rate', fontsize=16)\n",
    "plt.ylabel('True Positive Rate', fontsize=16)\n",
    "plt.xticks(fontsize=16)\n",
    "plt.yticks(fontsize=16)\n",
    "# plt.title('AUC Curve')\n",
    "plt.legend(loc=\"lower right\", prop={'size': 16})\n",
    "\n",
    "# plt.savefig(\"/home/marlan/Desktop/auc_varq.pdf\", bbox_inches='tight', pad_inches=0.1)"
   ]
  },
  {
   "cell_type": "markdown",
   "metadata": {},
   "source": [
    "#### Logistic Regression"
   ]
  },
  {
   "cell_type": "code",
   "execution_count": null,
   "metadata": {
    "ExecuteTime": {
     "end_time": "2018-07-22T16:19:35.044407Z",
     "start_time": "2018-07-22T16:19:35.021307Z"
    },
    "collapsed": true
   },
   "outputs": [],
   "source": [
    "folds = 3\n",
    "skf = StratifiedKFold(n_splits=folds, shuffle=True, random_state=1001)\n",
    "algorithm = 'lr'\n",
    "model = Pipeline(model_dict[algorithm]['pipe'])\n",
    "param_list = [model_dict[algorithm]['params']][0]\n",
    "gs = GridSearchCV(model, param_list, cv=skf.split(X_train, y_train), n_jobs=2, \n",
    "                  scoring='roc_auc', verbose=1, refit=True)"
   ]
  },
  {
   "cell_type": "code",
   "execution_count": null,
   "metadata": {
    "ExecuteTime": {
     "end_time": "2018-07-22T16:19:36.633349Z",
     "start_time": "2018-07-22T16:19:35.649366Z"
    },
    "collapsed": true,
    "scrolled": true
   },
   "outputs": [],
   "source": [
    "gs.fit(X_train, y_train)"
   ]
  },
  {
   "cell_type": "code",
   "execution_count": null,
   "metadata": {
    "ExecuteTime": {
     "end_time": "2018-07-22T16:19:38.427344Z",
     "start_time": "2018-07-22T16:19:38.418997Z"
    },
    "collapsed": true
   },
   "outputs": [],
   "source": [
    "lr = gs.best_estimator_"
   ]
  },
  {
   "cell_type": "code",
   "execution_count": null,
   "metadata": {
    "ExecuteTime": {
     "end_time": "2018-07-22T16:19:40.648642Z",
     "start_time": "2018-07-22T16:19:40.634768Z"
    },
    "collapsed": true
   },
   "outputs": [],
   "source": [
    "gs.best_score_"
   ]
  },
  {
   "cell_type": "code",
   "execution_count": null,
   "metadata": {
    "ExecuteTime": {
     "end_time": "2018-07-22T15:33:27.670492Z",
     "start_time": "2018-07-22T15:33:27.656778Z"
    },
    "collapsed": true
   },
   "outputs": [],
   "source": [
    "lr.steps[2]"
   ]
  },
  {
   "cell_type": "code",
   "execution_count": null,
   "metadata": {
    "ExecuteTime": {
     "end_time": "2018-07-22T16:19:56.037557Z",
     "start_time": "2018-07-22T16:19:56.034409Z"
    },
    "collapsed": true,
    "scrolled": false
   },
   "outputs": [],
   "source": [
    "importances = list(zip(X_train.columns.tolist(), lr.steps[2][1].coef_[0].tolist()))"
   ]
  },
  {
   "cell_type": "code",
   "execution_count": null,
   "metadata": {
    "ExecuteTime": {
     "end_time": "2018-07-22T16:20:01.147142Z",
     "start_time": "2018-07-22T16:20:00.940057Z"
    },
    "collapsed": true
   },
   "outputs": [],
   "source": [
    "figsize(20,6)\n",
    "# plt.title(\"Logistic Regression Coefficients\", fontsize=16)\n",
    "plt.barh(np.arange(len(importances)), [y for x, y in importances], color=\"g\", align=\"center\")\n",
    "plt.xlabel(\"Coeficientes\", fontsize=20)\n",
    "plt.xticks(fontsize=18)\n",
    "plt.yticks(range(len(importances)), [x for x, y in importances], rotation='horizontal', fontsize=16)\n",
    "# plt.xticks(np.arange(-1.1,.7,.05))\n",
    "plt.show()"
   ]
  },
  {
   "cell_type": "markdown",
   "metadata": {},
   "source": [
    "#### SVM"
   ]
  },
  {
   "cell_type": "code",
   "execution_count": null,
   "metadata": {
    "ExecuteTime": {
     "end_time": "2018-07-22T18:11:47.289362Z",
     "start_time": "2018-07-22T18:11:47.274805Z"
    },
    "collapsed": true
   },
   "outputs": [],
   "source": [
    "folds = 3\n",
    "skf = StratifiedKFold(n_splits=folds, shuffle=True, random_state=1001)\n",
    "algorithm = 'svc'\n",
    "model = Pipeline(model_dict[algorithm]['pipe'])\n",
    "param_list = [model_dict[algorithm]['params']][0]\n",
    "gs = GridSearchCV(model, param_list, cv=skf.split(X_train, y_train), n_jobs=2, \n",
    "                  scoring='roc_auc', verbose=1, refit=True)"
   ]
  },
  {
   "cell_type": "code",
   "execution_count": null,
   "metadata": {
    "ExecuteTime": {
     "end_time": "2018-07-22T18:11:49.339509Z",
     "start_time": "2018-07-22T18:11:49.324621Z"
    },
    "collapsed": true,
    "scrolled": true
   },
   "outputs": [],
   "source": [
    "X_test.shape"
   ]
  },
  {
   "cell_type": "code",
   "execution_count": null,
   "metadata": {
    "ExecuteTime": {
     "end_time": "2018-07-22T18:11:49.914479Z",
     "start_time": "2018-07-22T18:11:49.905217Z"
    },
    "collapsed": true
   },
   "outputs": [],
   "source": [
    "pd.Series(y_test).value_counts()"
   ]
  },
  {
   "cell_type": "code",
   "execution_count": null,
   "metadata": {
    "ExecuteTime": {
     "end_time": "2018-07-22T18:12:43.127118Z",
     "start_time": "2018-07-22T18:11:50.996742Z"
    },
    "collapsed": true,
    "scrolled": true
   },
   "outputs": [],
   "source": [
    "gs.fit(X_train, y_train)"
   ]
  },
  {
   "cell_type": "code",
   "execution_count": null,
   "metadata": {
    "ExecuteTime": {
     "end_time": "2018-07-22T18:12:46.851215Z",
     "start_time": "2018-07-22T18:12:46.841803Z"
    },
    "collapsed": true
   },
   "outputs": [],
   "source": [
    "svc = gs.best_estimator_"
   ]
  },
  {
   "cell_type": "code",
   "execution_count": null,
   "metadata": {
    "ExecuteTime": {
     "end_time": "2018-07-22T18:12:47.543779Z",
     "start_time": "2018-07-22T18:12:47.527056Z"
    },
    "collapsed": true
   },
   "outputs": [],
   "source": [
    "gs.best_score_"
   ]
  },
  {
   "cell_type": "code",
   "execution_count": null,
   "metadata": {
    "ExecuteTime": {
     "end_time": "2018-07-22T18:12:49.811379Z",
     "start_time": "2018-07-22T18:12:49.786258Z"
    },
    "collapsed": true
   },
   "outputs": [],
   "source": [
    "model"
   ]
  },
  {
   "cell_type": "code",
   "execution_count": null,
   "metadata": {
    "ExecuteTime": {
     "end_time": "2018-07-22T18:12:50.481427Z",
     "start_time": "2018-07-22T18:12:50.467005Z"
    },
    "collapsed": true
   },
   "outputs": [],
   "source": [
    "X_train.columns"
   ]
  },
  {
   "cell_type": "code",
   "execution_count": null,
   "metadata": {
    "ExecuteTime": {
     "end_time": "2018-07-22T18:12:58.408026Z",
     "start_time": "2018-07-22T18:12:58.336827Z"
    },
    "collapsed": true
   },
   "outputs": [],
   "source": [
    "print(classification_report(y_test, rf.predict(X_test)))"
   ]
  },
  {
   "cell_type": "code",
   "execution_count": null,
   "metadata": {
    "ExecuteTime": {
     "end_time": "2018-07-22T18:13:01.209006Z",
     "start_time": "2018-07-22T18:13:01.147946Z"
    },
    "collapsed": true
   },
   "outputs": [],
   "source": [
    "fpr, tpr, _ = roc_curve(y_test, rf.predict_proba(X_test)[:, 1])\n",
    "roc_auc = auc(fpr, tpr)"
   ]
  },
  {
   "cell_type": "code",
   "execution_count": null,
   "metadata": {
    "ExecuteTime": {
     "end_time": "2018-07-22T18:13:01.924093Z",
     "start_time": "2018-07-22T18:13:01.907571Z"
    },
    "collapsed": true
   },
   "outputs": [],
   "source": [
    "fpr.shape"
   ]
  },
  {
   "cell_type": "code",
   "execution_count": null,
   "metadata": {
    "ExecuteTime": {
     "end_time": "2018-07-22T18:13:06.328689Z",
     "start_time": "2018-07-22T18:13:06.024213Z"
    },
    "collapsed": true
   },
   "outputs": [],
   "source": [
    "figsize(7,7)\n",
    "\n",
    "lw = 2\n",
    "plt.plot(fpr, tpr, color='darkorange',\n",
    "         lw=lw, label='ROC curve (area = %0.2f)' % roc_auc)\n",
    "plt.plot([0, 1], [0, 1], color='navy', lw=lw, linestyle='--')\n",
    "plt.xlim([0.0, 1.0])\n",
    "plt.ylim([0.0, 1.05])\n",
    "plt.xlabel('False Positive Rate')\n",
    "plt.ylabel('True Positive Rate')\n",
    "plt.title('AUC Curve')\n",
    "plt.legend(loc=\"lower right\", prop={'size': 12})\n",
    "\n",
    "plt.savefig(\"../documents/latex/figures/3/auc_varq.pdf\", bbox_inches='tight', pad_inches=0.1)"
   ]
  },
  {
   "cell_type": "markdown",
   "metadata": {
    "collapsed": true
   },
   "source": [
    "## Algorithm Comparison"
   ]
  },
  {
   "cell_type": "code",
   "execution_count": null,
   "metadata": {
    "ExecuteTime": {
     "end_time": "2018-07-22T18:19:37.708468Z",
     "start_time": "2018-07-22T18:19:37.698172Z"
    },
    "collapsed": true
   },
   "outputs": [],
   "source": [
    "algos = [\"LR\", \"RF\", \"SVC\"]\n",
    "aucs = [0.71, 0.74, 0.70]"
   ]
  },
  {
   "cell_type": "code",
   "execution_count": null,
   "metadata": {
    "ExecuteTime": {
     "end_time": "2018-07-22T19:08:13.440620Z",
     "start_time": "2018-07-22T19:08:13.216016Z"
    },
    "collapsed": true
   },
   "outputs": [],
   "source": [
    "plt.rcParams[\"font.family\"] = \"DejaVu Sans\"\n",
    "\n",
    "plt.figure(figsize=(10, 4))\n",
    "\n",
    "barlist = plt.bar(algos, aucs, alpha=0.6)\n",
    "barlist[0].set_color('mediumaquamarine')\n",
    "barlist[1].set_color('forestgreen')\n",
    "barlist[2].set_color('darkmagenta')\n",
    "\n",
    "for i, rect in enumerate(barlist):\n",
    "    height = rect.get_height()\n",
    "    plt.gca().text(rect.get_x() + rect.get_width()/2., 1.05*height, aucs[i], ha='center', va='bottom', fontsize=18)\n",
    "\n",
    "\n",
    "plt.xticks(fontsize=16)\n",
    "plt.yticks(np.arange(0,1.1, 0.5), fontsize=18)\n",
    "\n",
    "# plt.show()\n",
    "# plt.legend([\"AUC\"], fontsize=16)\n",
    "\n",
    "plt.savefig(\"varq_results.pdf\", bbox_inches='tight', pad_inches=0.1)"
   ]
  }
 ],
 "metadata": {
  "kernelspec": {
   "display_name": "Python 3",
   "language": "python",
   "name": "python3"
  },
  "language_info": {
   "codemirror_mode": {
    "name": "ipython",
    "version": 3
   },
   "file_extension": ".py",
   "mimetype": "text/x-python",
   "name": "python",
   "nbconvert_exporter": "python",
   "pygments_lexer": "ipython3",
   "version": "3.6.3"
  },
  "varInspector": {
   "cols": {
    "lenName": 16,
    "lenType": 16,
    "lenVar": 40
   },
   "kernels_config": {
    "python": {
     "delete_cmd_postfix": "",
     "delete_cmd_prefix": "del ",
     "library": "var_list.py",
     "varRefreshCmd": "print(var_dic_list())"
    },
    "r": {
     "delete_cmd_postfix": ") ",
     "delete_cmd_prefix": "rm(",
     "library": "var_list.r",
     "varRefreshCmd": "cat(var_dic_list()) "
    }
   },
   "types_to_exclude": [
    "module",
    "function",
    "builtin_function_or_method",
    "instance",
    "_Feature"
   ],
   "window_display": false
  }
 },
 "nbformat": 4,
 "nbformat_minor": 2
}
