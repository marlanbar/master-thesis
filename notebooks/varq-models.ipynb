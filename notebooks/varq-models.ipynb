{
 "cells": [
  {
   "cell_type": "markdown",
   "metadata": {},
   "source": [
    "### Imports"
   ]
  },
  {
   "cell_type": "code",
   "execution_count": 2,
   "metadata": {
    "ExecuteTime": {
     "end_time": "2018-08-05T19:24:51.825888Z",
     "start_time": "2018-08-05T19:24:49.253278Z"
    },
    "collapsed": true
   },
   "outputs": [],
   "source": [
    "import operator\n",
    "import pandas as pd\n",
    "import matplotlib.pyplot as plt\n",
    "import seaborn as sns\n",
    "import numpy as np\n",
    "from sklearn.base import BaseEstimator, TransformerMixin\n",
    "from sklearn import feature_selection\n",
    "from sklearn.ensemble import GradientBoostingClassifier, RandomForestClassifier, AdaBoostClassifier\n",
    "from sklearn.svm import SVC\n",
    "from sklearn.linear_model import LogisticRegression\n",
    "from sklearn.pipeline import FeatureUnion, Pipeline, make_pipeline\n",
    "from sklearn.preprocessing import StandardScaler, RobustScaler, Imputer, LabelEncoder\n",
    "from sklearn.model_selection import GridSearchCV, RandomizedSearchCV, train_test_split, StratifiedKFold\n",
    "from sklearn.metrics import accuracy_score, f1_score, confusion_matrix, classification_report, roc_curve, auc\n",
    "from IPython.core.pylabtools import figsize \n",
    "%matplotlib inline"
   ]
  },
  {
   "cell_type": "markdown",
   "metadata": {},
   "source": [
    "### Aux Functions"
   ]
  },
  {
   "cell_type": "code",
   "execution_count": 3,
   "metadata": {
    "ExecuteTime": {
     "end_time": "2018-08-05T19:24:51.850353Z",
     "start_time": "2018-08-05T19:24:51.840239Z"
    },
    "collapsed": true
   },
   "outputs": [],
   "source": [
    "class ItemSelector(BaseEstimator, TransformerMixin):\n",
    "    \"\"\"For data grouped by feature, select subset of data at a provided key.\n",
    "\n",
    "    The data is expected to be stored in a 2D data structure, where the first\n",
    "    index is over features and the second is over samples.  i.e.\n",
    "\n",
    "    >> len(data[key]) == n_samples\n",
    "\n",
    "    Please note that this is the opposite convention to scikit-learn feature\n",
    "    matrixes (where the first index corresponds to sample).\n",
    "\n",
    "    ItemSelector only requires that the collection implement getitem\n",
    "    (data[key]).  Examples include: a dict of lists, 2D numpy array, Pandas\n",
    "    DataFrame, numpy record array, etc.\n",
    "\n",
    "    >> data = {'a': [1, 5, 2, 5, 2, 8],\n",
    "               'b': [9, 4, 1, 4, 1, 3]}\n",
    "    >> ds = ItemSelector(key='a')\n",
    "    >> data['a'] == ds.transform(data)\n",
    "\n",
    "    ItemSelector is not designed to handle data grouped by sample.  (e.g. a\n",
    "    list of dicts).  If your data is structured this way, consider a\n",
    "    transformer along the lines of `sklearn.feature_extraction.DictVectorizer`.\n",
    "\n",
    "    Parameters\n",
    "    ----------\n",
    "    key : hashable, required\n",
    "        The key corresponding to the desired value in a mappable.\n",
    "    \"\"\"\n",
    "    def __init__(self, key):\n",
    "        self.key = key\n",
    "\n",
    "    def fit(self, x, y=None):\n",
    "        return self\n",
    "\n",
    "    def transform(self, data_dict):\n",
    "        return data_dict[self.key]"
   ]
  },
  {
   "cell_type": "markdown",
   "metadata": {},
   "source": [
    "### Analysis"
   ]
  },
  {
   "cell_type": "code",
   "execution_count": 4,
   "metadata": {
    "ExecuteTime": {
     "end_time": "2018-08-05T19:24:51.960437Z",
     "start_time": "2018-08-05T19:24:51.858664Z"
    },
    "collapsed": true
   },
   "outputs": [],
   "source": [
    "# varq = pd.read_csv(\"../data/processed/properties-varq.tab.gz\", sep=\"\\t\", index_col=\"MUTANT\")\n",
    "# varq = pd.read_csv(\"../data/processed/humsavar_varq_gt.csv.gz\", sep=\",\", index_col=\"MUTANT\").drop(\"dbSNP\", 1)\n",
    "varq = pd.read_csv(\"../data/processed/varq/varq_clean.csv.gz\", index_col=\"MUTANT\")\n",
    "varq = varq[varq.TYPE != \"Unclassified\"].drop(\"ACTIVE_SITE\", 1)"
   ]
  },
  {
   "cell_type": "code",
   "execution_count": 5,
   "metadata": {
    "ExecuteTime": {
     "end_time": "2018-08-05T19:24:51.995298Z",
     "start_time": "2018-08-05T19:24:51.984990Z"
    },
    "scrolled": true
   },
   "outputs": [
    {
     "data": {
      "text/plain": [
       "Index(['SASA', 'SASA_PERCENTAGE', 'BFACTOR', 'SWITCHBILITY', 'AGGREGABILITY',\n",
       "       'CONSERVATION', '3DID', 'PDB', 'VARIATION_ENERGY', 'TYPE'],\n",
       "      dtype='object')"
      ]
     },
     "execution_count": 5,
     "metadata": {},
     "output_type": "execute_result"
    }
   ],
   "source": [
    "varq.columns"
   ]
  },
  {
   "cell_type": "code",
   "execution_count": 6,
   "metadata": {
    "ExecuteTime": {
     "end_time": "2018-08-05T19:24:52.052619Z",
     "start_time": "2018-08-05T19:24:52.043265Z"
    }
   },
   "outputs": [
    {
     "data": {
      "text/plain": [
       "(7418,)"
      ]
     },
     "execution_count": 6,
     "metadata": {},
     "output_type": "execute_result"
    }
   ],
   "source": [
    "varq.index.unique().shape"
   ]
  },
  {
   "cell_type": "code",
   "execution_count": 7,
   "metadata": {
    "ExecuteTime": {
     "end_time": "2018-08-05T19:24:52.098648Z",
     "start_time": "2018-08-05T19:24:52.091697Z"
    }
   },
   "outputs": [
    {
     "name": "stdout",
     "output_type": "stream",
     "text": [
      "Size: \n",
      " (7418, 10)\n",
      "\n",
      "Value counts of TYPE: \n",
      " Pathogenic    5377\n",
      "Benign        2041\n",
      "Name: TYPE, dtype: int64\n"
     ]
    }
   ],
   "source": [
    "print(\"Size: \\n\", varq.shape)\n",
    "print(\"\\nValue counts of TYPE: \\n\", varq.TYPE.value_counts())"
   ]
  },
  {
   "cell_type": "code",
   "execution_count": 8,
   "metadata": {
    "ExecuteTime": {
     "end_time": "2018-08-05T19:24:52.180420Z",
     "start_time": "2018-08-05T19:24:52.128916Z"
    }
   },
   "outputs": [
    {
     "data": {
      "text/html": [
       "<div>\n",
       "<table border=\"1\" class=\"dataframe\">\n",
       "  <thead>\n",
       "    <tr style=\"text-align: right;\">\n",
       "      <th></th>\n",
       "      <th>SASA</th>\n",
       "      <th>SASA_PERCENTAGE</th>\n",
       "      <th>BFACTOR</th>\n",
       "      <th>SWITCHBILITY</th>\n",
       "      <th>AGGREGABILITY</th>\n",
       "      <th>CONSERVATION</th>\n",
       "      <th>VARIATION_ENERGY</th>\n",
       "    </tr>\n",
       "  </thead>\n",
       "  <tbody>\n",
       "    <tr>\n",
       "      <th>count</th>\n",
       "      <td>7070.000000</td>\n",
       "      <td>7070.000000</td>\n",
       "      <td>7070.000000</td>\n",
       "      <td>6704.000000</td>\n",
       "      <td>5335.000000</td>\n",
       "      <td>2742.000000</td>\n",
       "      <td>7418.000000</td>\n",
       "    </tr>\n",
       "    <tr>\n",
       "      <th>mean</th>\n",
       "      <td>32.105675</td>\n",
       "      <td>0.150610</td>\n",
       "      <td>56.445569</td>\n",
       "      <td>0.384835</td>\n",
       "      <td>5.017957</td>\n",
       "      <td>0.330460</td>\n",
       "      <td>2.914977</td>\n",
       "    </tr>\n",
       "    <tr>\n",
       "      <th>std</th>\n",
       "      <td>39.148405</td>\n",
       "      <td>0.176877</td>\n",
       "      <td>71.760154</td>\n",
       "      <td>0.890387</td>\n",
       "      <td>17.607171</td>\n",
       "      <td>0.188785</td>\n",
       "      <td>4.842729</td>\n",
       "    </tr>\n",
       "    <tr>\n",
       "      <th>min</th>\n",
       "      <td>0.000000</td>\n",
       "      <td>0.000000</td>\n",
       "      <td>0.000000</td>\n",
       "      <td>0.000000</td>\n",
       "      <td>0.000000</td>\n",
       "      <td>0.130000</td>\n",
       "      <td>-12.642100</td>\n",
       "    </tr>\n",
       "    <tr>\n",
       "      <th>25%</th>\n",
       "      <td>0.670000</td>\n",
       "      <td>0.000000</td>\n",
       "      <td>19.765000</td>\n",
       "      <td>0.000000</td>\n",
       "      <td>0.000000</td>\n",
       "      <td>0.250000</td>\n",
       "      <td>0.257785</td>\n",
       "    </tr>\n",
       "    <tr>\n",
       "      <th>50%</th>\n",
       "      <td>15.208000</td>\n",
       "      <td>0.070000</td>\n",
       "      <td>37.342500</td>\n",
       "      <td>0.009150</td>\n",
       "      <td>0.000000</td>\n",
       "      <td>0.300000</td>\n",
       "      <td>1.512550</td>\n",
       "    </tr>\n",
       "    <tr>\n",
       "      <th>75%</th>\n",
       "      <td>52.149250</td>\n",
       "      <td>0.270000</td>\n",
       "      <td>61.138125</td>\n",
       "      <td>0.277000</td>\n",
       "      <td>0.163000</td>\n",
       "      <td>0.370000</td>\n",
       "      <td>3.885900</td>\n",
       "    </tr>\n",
       "    <tr>\n",
       "      <th>max</th>\n",
       "      <td>246.410000</td>\n",
       "      <td>0.750000</td>\n",
       "      <td>755.610000</td>\n",
       "      <td>8.720000</td>\n",
       "      <td>100.000000</td>\n",
       "      <td>4.770000</td>\n",
       "      <td>57.513400</td>\n",
       "    </tr>\n",
       "  </tbody>\n",
       "</table>\n",
       "</div>"
      ],
      "text/plain": [
       "              SASA  SASA_PERCENTAGE      BFACTOR  SWITCHBILITY  AGGREGABILITY  \\\n",
       "count  7070.000000      7070.000000  7070.000000   6704.000000    5335.000000   \n",
       "mean     32.105675         0.150610    56.445569      0.384835       5.017957   \n",
       "std      39.148405         0.176877    71.760154      0.890387      17.607171   \n",
       "min       0.000000         0.000000     0.000000      0.000000       0.000000   \n",
       "25%       0.670000         0.000000    19.765000      0.000000       0.000000   \n",
       "50%      15.208000         0.070000    37.342500      0.009150       0.000000   \n",
       "75%      52.149250         0.270000    61.138125      0.277000       0.163000   \n",
       "max     246.410000         0.750000   755.610000      8.720000     100.000000   \n",
       "\n",
       "       CONSERVATION  VARIATION_ENERGY  \n",
       "count   2742.000000       7418.000000  \n",
       "mean       0.330460          2.914977  \n",
       "std        0.188785          4.842729  \n",
       "min        0.130000        -12.642100  \n",
       "25%        0.250000          0.257785  \n",
       "50%        0.300000          1.512550  \n",
       "75%        0.370000          3.885900  \n",
       "max        4.770000         57.513400  "
      ]
     },
     "execution_count": 8,
     "metadata": {},
     "output_type": "execute_result"
    }
   ],
   "source": [
    "varq.describe()"
   ]
  },
  {
   "cell_type": "code",
   "execution_count": 9,
   "metadata": {
    "ExecuteTime": {
     "end_time": "2018-08-05T19:24:52.222315Z",
     "start_time": "2018-08-05T19:24:52.212730Z"
    },
    "collapsed": true
   },
   "outputs": [],
   "source": [
    "corr = varq.drop(['3DID', 'PDB'], axis=1).corr()"
   ]
  },
  {
   "cell_type": "code",
   "execution_count": 10,
   "metadata": {
    "ExecuteTime": {
     "end_time": "2018-08-05T19:24:52.294614Z",
     "start_time": "2018-08-05T19:24:52.271711Z"
    }
   },
   "outputs": [
    {
     "data": {
      "text/html": [
       "<div>\n",
       "<table border=\"1\" class=\"dataframe\">\n",
       "  <thead>\n",
       "    <tr style=\"text-align: right;\">\n",
       "      <th></th>\n",
       "      <th>SASA</th>\n",
       "      <th>SASA_PERCENTAGE</th>\n",
       "      <th>BFACTOR</th>\n",
       "      <th>SWITCHBILITY</th>\n",
       "      <th>AGGREGABILITY</th>\n",
       "      <th>CONSERVATION</th>\n",
       "      <th>VARIATION_ENERGY</th>\n",
       "    </tr>\n",
       "  </thead>\n",
       "  <tbody>\n",
       "    <tr>\n",
       "      <th>SASA</th>\n",
       "      <td>1.000000</td>\n",
       "      <td>0.963621</td>\n",
       "      <td>0.079879</td>\n",
       "      <td>-0.038746</td>\n",
       "      <td>0.014785</td>\n",
       "      <td>0.016618</td>\n",
       "      <td>-0.349207</td>\n",
       "    </tr>\n",
       "    <tr>\n",
       "      <th>SASA_PERCENTAGE</th>\n",
       "      <td>0.963621</td>\n",
       "      <td>1.000000</td>\n",
       "      <td>0.112154</td>\n",
       "      <td>-0.044397</td>\n",
       "      <td>0.019902</td>\n",
       "      <td>0.028529</td>\n",
       "      <td>-0.373402</td>\n",
       "    </tr>\n",
       "    <tr>\n",
       "      <th>BFACTOR</th>\n",
       "      <td>0.079879</td>\n",
       "      <td>0.112154</td>\n",
       "      <td>1.000000</td>\n",
       "      <td>0.055923</td>\n",
       "      <td>0.151166</td>\n",
       "      <td>-0.026455</td>\n",
       "      <td>-0.081219</td>\n",
       "    </tr>\n",
       "    <tr>\n",
       "      <th>SWITCHBILITY</th>\n",
       "      <td>-0.038746</td>\n",
       "      <td>-0.044397</td>\n",
       "      <td>0.055923</td>\n",
       "      <td>1.000000</td>\n",
       "      <td>0.032105</td>\n",
       "      <td>0.025763</td>\n",
       "      <td>-0.030136</td>\n",
       "    </tr>\n",
       "    <tr>\n",
       "      <th>AGGREGABILITY</th>\n",
       "      <td>0.014785</td>\n",
       "      <td>0.019902</td>\n",
       "      <td>0.151166</td>\n",
       "      <td>0.032105</td>\n",
       "      <td>1.000000</td>\n",
       "      <td>-0.009340</td>\n",
       "      <td>-0.041672</td>\n",
       "    </tr>\n",
       "    <tr>\n",
       "      <th>CONSERVATION</th>\n",
       "      <td>0.016618</td>\n",
       "      <td>0.028529</td>\n",
       "      <td>-0.026455</td>\n",
       "      <td>0.025763</td>\n",
       "      <td>-0.009340</td>\n",
       "      <td>1.000000</td>\n",
       "      <td>-0.033151</td>\n",
       "    </tr>\n",
       "    <tr>\n",
       "      <th>VARIATION_ENERGY</th>\n",
       "      <td>-0.349207</td>\n",
       "      <td>-0.373402</td>\n",
       "      <td>-0.081219</td>\n",
       "      <td>-0.030136</td>\n",
       "      <td>-0.041672</td>\n",
       "      <td>-0.033151</td>\n",
       "      <td>1.000000</td>\n",
       "    </tr>\n",
       "  </tbody>\n",
       "</table>\n",
       "</div>"
      ],
      "text/plain": [
       "                      SASA  SASA_PERCENTAGE   BFACTOR  SWITCHBILITY  \\\n",
       "SASA              1.000000         0.963621  0.079879     -0.038746   \n",
       "SASA_PERCENTAGE   0.963621         1.000000  0.112154     -0.044397   \n",
       "BFACTOR           0.079879         0.112154  1.000000      0.055923   \n",
       "SWITCHBILITY     -0.038746        -0.044397  0.055923      1.000000   \n",
       "AGGREGABILITY     0.014785         0.019902  0.151166      0.032105   \n",
       "CONSERVATION      0.016618         0.028529 -0.026455      0.025763   \n",
       "VARIATION_ENERGY -0.349207        -0.373402 -0.081219     -0.030136   \n",
       "\n",
       "                  AGGREGABILITY  CONSERVATION  VARIATION_ENERGY  \n",
       "SASA                   0.014785      0.016618         -0.349207  \n",
       "SASA_PERCENTAGE        0.019902      0.028529         -0.373402  \n",
       "BFACTOR                0.151166     -0.026455         -0.081219  \n",
       "SWITCHBILITY           0.032105      0.025763         -0.030136  \n",
       "AGGREGABILITY          1.000000     -0.009340         -0.041672  \n",
       "CONSERVATION          -0.009340      1.000000         -0.033151  \n",
       "VARIATION_ENERGY      -0.041672     -0.033151          1.000000  "
      ]
     },
     "execution_count": 10,
     "metadata": {},
     "output_type": "execute_result"
    }
   ],
   "source": [
    "corr"
   ]
  },
  {
   "cell_type": "code",
   "execution_count": 11,
   "metadata": {
    "ExecuteTime": {
     "end_time": "2018-08-05T19:24:53.081191Z",
     "start_time": "2018-08-05T19:24:52.831382Z"
    },
    "scrolled": true
   },
   "outputs": [
    {
     "data": {
      "image/png": "[encoded data removed]",
      "text/plain": [
       "<matplotlib.figure.Figure at 0x7fbd6bc1ce48>"
      ]
     },
     "metadata": {},
     "output_type": "display_data"
    }
   ],
   "source": [
    "plot = sns.heatmap(corr)\n",
    "figure = plot.get_figure()"
   ]
  },
  {
   "cell_type": "markdown",
   "metadata": {},
   "source": [
    "### Machine Learning"
   ]
  },
  {
   "cell_type": "code",
   "execution_count": 12,
   "metadata": {
    "ExecuteTime": {
     "end_time": "2018-08-05T19:24:53.787736Z",
     "start_time": "2018-08-05T19:24:53.750793Z"
    },
    "collapsed": true
   },
   "outputs": [],
   "source": [
    "# feature_union = \n",
    "cat_vars = [\"PDB\", \"3DID\"]\n",
    "cont_vars = varq.columns[~varq.columns.isin(cat_vars + [\"TYPE\"])]\n",
    "\n",
    "impute = ('union', \n",
    "          FeatureUnion(\n",
    "              transformer_list=[\n",
    "                  ('continuous', Pipeline([\n",
    "                      ('selector', ItemSelector(key=cont_vars)),\n",
    "                      ('imputer', Imputer(missing_values=\"NaN\", strategy=\"median\"))\n",
    "                  ])),\n",
    "                  ('categorical', Pipeline([\n",
    "                      ('selector', ItemSelector(key=cat_vars)),\n",
    "                      ('imputer', Imputer(missing_values=\"NaN\", strategy=\"most_frequent\"))\n",
    "                      \n",
    "                  ]))\n",
    "              ]))\n",
    "                  \n",
    "\n",
    "\n",
    "scale = ('scaler', RobustScaler())\n",
    "\n",
    "model_dict = {\n",
    "    'lr':{'pipe':[impute, scale, ('lr', LogisticRegression())],\n",
    "        'params':[{'lr__C' : [.001, .01, .1, 1, 10, 100, 1000], 'lr__class_weight':[None, 'balanced']}],\n",
    "        'name':'LogisticRegression'\n",
    "    },\n",
    "    'rf':{'pipe':[impute, ('rf', RandomForestClassifier(random_state = 100))],\n",
    "        'params':[{'rf__max_depth':[3,5,7], 'rf__n_estimators':[10,50,100], 'rf__max_features':[4,'sqrt',0.2]}],\n",
    "        'name':'Random Forest'\n",
    "    },\n",
    "    'svc':{'pipe': [impute, scale, ('svc', SVC(kernel='rbf'))],\n",
    "           'params':[{'svc__kernel': ['rbf'], 'svc__gamma': [1e-2, 1e-3, 1e-4, 1e-5],\n",
    "                'svc__C': [0.001, 0.10, 0.1, 10, 25, 50, 100, 1000]}]\n",
    "        \n",
    "    },\n",
    "}"
   ]
  },
  {
   "cell_type": "code",
   "execution_count": 13,
   "metadata": {
    "ExecuteTime": {
     "end_time": "2018-08-05T19:24:54.246351Z",
     "start_time": "2018-08-05T19:24:54.198012Z"
    },
    "collapsed": true
   },
   "outputs": [],
   "source": [
    "le = LabelEncoder()\n",
    "\n",
    "X = varq[~varq.TYPE.isnull()].drop(['TYPE'], 1)\n",
    "\n",
    "# .replace({\"ACTIVE_SITE\": {\"BINDING\": 1, np.nan: 0}})\n",
    "y = le.fit_transform(varq[~varq.TYPE.isnull()].TYPE)\n",
    "\n",
    "X_train, X_test, y_train, y_test = train_test_split(X, y, test_size=0.33, random_state=42, stratify=y)"
   ]
  },
  {
   "cell_type": "code",
   "execution_count": 14,
   "metadata": {
    "ExecuteTime": {
     "end_time": "2018-08-05T19:24:54.599570Z",
     "start_time": "2018-08-05T19:24:54.591851Z"
    }
   },
   "outputs": [
    {
     "data": {
      "text/plain": [
       "(2448,)"
      ]
     },
     "execution_count": 14,
     "metadata": {},
     "output_type": "execute_result"
    }
   ],
   "source": [
    "y_test.shape"
   ]
  },
  {
   "cell_type": "code",
   "execution_count": 15,
   "metadata": {
    "ExecuteTime": {
     "end_time": "2018-08-05T19:24:55.044240Z",
     "start_time": "2018-08-05T19:24:55.035493Z"
    }
   },
   "outputs": [
    {
     "data": {
      "text/plain": [
       "1774"
      ]
     },
     "execution_count": 15,
     "metadata": {},
     "output_type": "execute_result"
    }
   ],
   "source": [
    "y_test.sum()"
   ]
  },
  {
   "cell_type": "markdown",
   "metadata": {},
   "source": [
    "#### Random Forest"
   ]
  },
  {
   "cell_type": "code",
   "execution_count": 16,
   "metadata": {
    "ExecuteTime": {
     "end_time": "2018-08-05T19:24:56.247895Z",
     "start_time": "2018-08-05T19:24:56.240522Z"
    },
    "collapsed": true
   },
   "outputs": [],
   "source": [
    "folds = 3\n",
    "skf = StratifiedKFold(n_splits=folds, shuffle=True, random_state=1001)\n",
    "algorithm = 'rf'\n",
    "model = Pipeline(model_dict[algorithm]['pipe'])\n",
    "param_list = [model_dict[algorithm]['params']][0]\n",
    "gs = GridSearchCV(model, param_list, cv=skf.split(X_train, y_train), n_jobs=2, \n",
    "                  scoring='roc_auc', verbose=1, refit=True)"
   ]
  },
  {
   "cell_type": "code",
   "execution_count": 17,
   "metadata": {
    "ExecuteTime": {
     "end_time": "2018-08-05T19:24:56.959190Z",
     "start_time": "2018-08-05T19:24:56.944594Z"
    },
    "scrolled": true
   },
   "outputs": [
    {
     "data": {
      "text/plain": [
       "(2448, 9)"
      ]
     },
     "execution_count": 17,
     "metadata": {},
     "output_type": "execute_result"
    }
   ],
   "source": [
    "X_test.shape"
   ]
  },
  {
   "cell_type": "code",
   "execution_count": 18,
   "metadata": {
    "ExecuteTime": {
     "end_time": "2018-08-05T19:24:57.160579Z",
     "start_time": "2018-08-05T19:24:57.154310Z"
    }
   },
   "outputs": [
    {
     "data": {
      "text/plain": [
       "1    1774\n",
       "0     674\n",
       "dtype: int64"
      ]
     },
     "execution_count": 18,
     "metadata": {},
     "output_type": "execute_result"
    }
   ],
   "source": [
    "pd.Series(y_test).value_counts()"
   ]
  },
  {
   "cell_type": "code",
   "execution_count": 19,
   "metadata": {
    "ExecuteTime": {
     "end_time": "2018-08-05T19:25:05.999354Z",
     "start_time": "2018-08-05T19:24:57.284750Z"
    },
    "scrolled": true
   },
   "outputs": [
    {
     "name": "stdout",
     "output_type": "stream",
     "text": [
      "Fitting 3 folds for each of 27 candidates, totalling 81 fits\n"
     ]
    },
    {
     "name": "stderr",
     "output_type": "stream",
     "text": [
      "[Parallel(n_jobs=2)]: Done  81 out of  81 | elapsed:    8.0s finished\n"
     ]
    },
    {
     "data": {
      "text/plain": [
       "GridSearchCV(cv=<generator object _BaseKFold.split at 0x7fbd6bc53728>,\n",
       "       error_score='raise',\n",
       "       estimator=Pipeline(memory=None,\n",
       "     steps=[('union', FeatureUnion(n_jobs=1,\n",
       "       transformer_list=[('continuous', Pipeline(memory=None,\n",
       "     steps=[('selector', ItemSelector(key=Index(['SASA', 'SASA_PERCENTAGE', 'BFACTOR', 'SWITCHBILITY', 'AGGREGABILITY',\n",
       "       'CONSERVATION', 'VARIATION_ENERGY'],\n",
       "      dtype='object'))), ('imputer...timators=10, n_jobs=1,\n",
       "            oob_score=False, random_state=100, verbose=0, warm_start=False))]),\n",
       "       fit_params=None, iid=True, n_jobs=2,\n",
       "       param_grid=[{'rf__max_depth': [3, 5, 7], 'rf__n_estimators': [10, 50, 100], 'rf__max_features': [4, 'sqrt', 0.2]}],\n",
       "       pre_dispatch='2*n_jobs', refit=True, return_train_score='warn',\n",
       "       scoring='roc_auc', verbose=1)"
      ]
     },
     "execution_count": 19,
     "metadata": {},
     "output_type": "execute_result"
    }
   ],
   "source": [
    "gs.fit(X_train, y_train)"
   ]
  },
  {
   "cell_type": "code",
   "execution_count": 20,
   "metadata": {
    "ExecuteTime": {
     "end_time": "2018-08-05T19:25:06.096323Z",
     "start_time": "2018-08-05T19:25:06.092495Z"
    },
    "collapsed": true
   },
   "outputs": [],
   "source": [
    "rf = gs.best_estimator_"
   ]
  },
  {
   "cell_type": "code",
   "execution_count": 21,
   "metadata": {
    "ExecuteTime": {
     "end_time": "2018-08-05T19:25:06.187160Z",
     "start_time": "2018-08-05T19:25:06.183904Z"
    }
   },
   "outputs": [
    {
     "data": {
      "text/plain": [
       "0.7371636735901945"
      ]
     },
     "execution_count": 21,
     "metadata": {},
     "output_type": "execute_result"
    }
   ],
   "source": [
    "gs.best_score_"
   ]
  },
  {
   "cell_type": "code",
   "execution_count": 22,
   "metadata": {
    "ExecuteTime": {
     "end_time": "2018-08-05T19:25:06.304894Z",
     "start_time": "2018-08-05T19:25:06.297084Z"
    }
   },
   "outputs": [
    {
     "data": {
      "text/plain": [
       "Pipeline(memory=None,\n",
       "     steps=[('union', FeatureUnion(n_jobs=1,\n",
       "       transformer_list=[('continuous', Pipeline(memory=None,\n",
       "     steps=[('selector', ItemSelector(key=Index(['SASA', 'SASA_PERCENTAGE', 'BFACTOR', 'SWITCHBILITY', 'AGGREGABILITY',\n",
       "       'CONSERVATION', 'VARIATION_ENERGY'],\n",
       "      dtype='object'))), ('imputer...timators=10, n_jobs=1,\n",
       "            oob_score=False, random_state=100, verbose=0, warm_start=False))])"
      ]
     },
     "execution_count": 22,
     "metadata": {},
     "output_type": "execute_result"
    }
   ],
   "source": [
    "model"
   ]
  },
  {
   "cell_type": "code",
   "execution_count": 23,
   "metadata": {
    "ExecuteTime": {
     "end_time": "2018-08-05T19:25:06.400897Z",
     "start_time": "2018-08-05T19:25:06.395951Z"
    }
   },
   "outputs": [
    {
     "data": {
      "text/plain": [
       "Index(['SASA', 'SASA_PERCENTAGE', 'BFACTOR', 'SWITCHBILITY', 'AGGREGABILITY',\n",
       "       'CONSERVATION', '3DID', 'PDB', 'VARIATION_ENERGY'],\n",
       "      dtype='object')"
      ]
     },
     "execution_count": 23,
     "metadata": {},
     "output_type": "execute_result"
    }
   ],
   "source": [
    "X_train.columns"
   ]
  },
  {
   "cell_type": "code",
   "execution_count": 24,
   "metadata": {
    "ExecuteTime": {
     "end_time": "2018-08-05T19:25:06.905231Z",
     "start_time": "2018-08-05T19:25:06.500972Z"
    },
    "scrolled": false
   },
   "outputs": [
    {
     "data": {
      "image/png": "[encoded data removed]",
      "text/plain": [
       "<matplotlib.figure.Figure at 0x7fbd6bc1c828>"
      ]
     },
     "metadata": {},
     "output_type": "display_data"
    }
   ],
   "source": [
    "importances = [(X_train.columns[e], x) for e, x in enumerate(rf.steps[1][1].feature_importances_)]\n",
    "importances.sort(key=operator.itemgetter(1), reverse=False)\n",
    "figsize(8, 5)\n",
    "# plt.title(\"Importancia\", fontsize=16)\n",
    "plt.barh(np.arange(len(importances)), [y for x, y in importances], 0.3, color=\"g\", align=\"center\")\n",
    "plt.yticks(range(len(importances)), [x for x, y in importances], rotation='horizontal', fontsize=16)\n",
    "plt.xlabel(\"Score\",fontsize=16)\n",
    "plt.xticks(fontsize=16)\n",
    "# plt.xlim([0, range(len(importances))])\n",
    "# plt.show()\n",
    "plt.tight_layout()\n",
    "\n",
    "plt.savefig(\"importances_varq.pdf\", bbox_inches='tight', pad_inches=0.1)\n"
   ]
  },
  {
   "cell_type": "code",
   "execution_count": 25,
   "metadata": {
    "ExecuteTime": {
     "end_time": "2018-08-05T19:25:14.311954Z",
     "start_time": "2018-08-05T19:25:14.297625Z"
    }
   },
   "outputs": [
    {
     "name": "stderr",
     "output_type": "stream",
     "text": [
      "/home/marlan/anaconda3/lib/python3.6/site-packages/sklearn/preprocessing/label.py:151: DeprecationWarning: The truth value of an empty array is ambiguous. Returning False, but in future this will result in an error. Use `array.size > 0` to check that an array is not empty.\n",
      "  if diff:\n"
     ]
    },
    {
     "data": {
      "text/plain": [
       "array(['Pathogenic', 'Pathogenic', 'Pathogenic', ..., 'Pathogenic',\n",
       "       'Pathogenic', 'Pathogenic'], dtype=object)"
      ]
     },
     "execution_count": 25,
     "metadata": {},
     "output_type": "execute_result"
    }
   ],
   "source": [
    "le.inverse_transform(y_test)"
   ]
  },
  {
   "cell_type": "code",
   "execution_count": 26,
   "metadata": {
    "ExecuteTime": {
     "end_time": "2018-08-05T19:25:27.638643Z",
     "start_time": "2018-08-05T19:25:27.565558Z"
    }
   },
   "outputs": [
    {
     "name": "stdout",
     "output_type": "stream",
     "text": [
      "             precision    recall  f1-score   support\n",
      "\n",
      "     Benign       0.57      0.26      0.36       674\n",
      " Pathogenic       0.77      0.93      0.84      1774\n",
      "\n",
      "avg / total       0.71      0.74      0.71      2448\n",
      "\n"
     ]
    },
    {
     "name": "stderr",
     "output_type": "stream",
     "text": [
      "/home/marlan/anaconda3/lib/python3.6/site-packages/sklearn/preprocessing/label.py:151: DeprecationWarning: The truth value of an empty array is ambiguous. Returning False, but in future this will result in an error. Use `array.size > 0` to check that an array is not empty.\n",
      "  if diff:\n",
      "/home/marlan/anaconda3/lib/python3.6/site-packages/sklearn/preprocessing/label.py:151: DeprecationWarning: The truth value of an empty array is ambiguous. Returning False, but in future this will result in an error. Use `array.size > 0` to check that an array is not empty.\n",
      "  if diff:\n"
     ]
    }
   ],
   "source": [
    "print(classification_report(le.inverse_transform(y_test), le.inverse_transform(rf.predict(X_test))))"
   ]
  },
  {
   "cell_type": "code",
   "execution_count": 39,
   "metadata": {
    "ExecuteTime": {
     "end_time": "2018-07-22T22:21:08.877358Z",
     "start_time": "2018-07-22T22:21:08.808075Z"
    },
    "collapsed": true
   },
   "outputs": [],
   "source": [
    "fpr, tpr, _ = roc_curve(y_test, rf.predict_proba(X_test)[:, 1])\n",
    "roc_auc = auc(fpr, tpr)"
   ]
  },
  {
   "cell_type": "code",
   "execution_count": 40,
   "metadata": {
    "ExecuteTime": {
     "end_time": "2018-07-22T22:21:09.655197Z",
     "start_time": "2018-07-22T22:21:09.636344Z"
    }
   },
   "outputs": [
    {
     "data": {
      "text/plain": [
       "(852,)"
      ]
     },
     "execution_count": 40,
     "metadata": {},
     "output_type": "execute_result"
    }
   ],
   "source": [
    "fpr.shape"
   ]
  },
  {
   "cell_type": "code",
   "execution_count": 53,
   "metadata": {
    "ExecuteTime": {
     "end_time": "2018-07-22T22:23:30.040039Z",
     "start_time": "2018-07-22T22:23:29.760604Z"
    }
   },
   "outputs": [
    {
     "data": {
      "image/png": "[encoded data removed]",
      "text/plain": [
       "<matplotlib.figure.Figure at 0x7fa625516240>"
      ]
     },
     "metadata": {},
     "output_type": "display_data"
    }
   ],
   "source": [
    "figsize(7,7)\n",
    "\n",
    "lw = 2\n",
    "plt.plot(fpr, tpr, color='darkorange',\n",
    "         lw=lw, label='Curva ROC (area = %0.2f)' % roc_auc)\n",
    "plt.plot([0, 1], [0, 1], color='navy', lw=lw, linestyle='--', label='Random')\n",
    "plt.xlim([0.0, 1.0])\n",
    "plt.ylim([0.0, 1.05])\n",
    "plt.xlabel('False Positive Rate', fontsize=16)\n",
    "plt.ylabel('True Positive Rate', fontsize=16)\n",
    "plt.xticks(fontsize=16)\n",
    "plt.yticks(fontsize=16)\n",
    "# plt.title('AUC Curve')\n",
    "plt.legend(loc=\"lower right\", prop={'size': 16})\n",
    "\n",
    "plt.savefig(\"auc_varq.pdf\", bbox_inches='tight', pad_inches=0.1)"
   ]
  },
  {
   "cell_type": "markdown",
   "metadata": {},
   "source": [
    "#### Logistic Regression"
   ]
  },
  {
   "cell_type": "code",
   "execution_count": 137,
   "metadata": {
    "ExecuteTime": {
     "end_time": "2018-07-22T16:19:35.044407Z",
     "start_time": "2018-07-22T16:19:35.021307Z"
    },
    "collapsed": true
   },
   "outputs": [],
   "source": [
    "folds = 3\n",
    "skf = StratifiedKFold(n_splits=folds, shuffle=True, random_state=1001)\n",
    "algorithm = 'lr'\n",
    "model = Pipeline(model_dict[algorithm]['pipe'])\n",
    "param_list = [model_dict[algorithm]['params']][0]\n",
    "gs = GridSearchCV(model, param_list, cv=skf.split(X_train, y_train), n_jobs=2, \n",
    "                  scoring='roc_auc', verbose=1, refit=True)"
   ]
  },
  {
   "cell_type": "code",
   "execution_count": 138,
   "metadata": {
    "ExecuteTime": {
     "end_time": "2018-07-22T16:19:36.633349Z",
     "start_time": "2018-07-22T16:19:35.649366Z"
    },
    "scrolled": true
   },
   "outputs": [
    {
     "name": "stdout",
     "output_type": "stream",
     "text": [
      "Fitting 3 folds for each of 14 candidates, totalling 42 fits\n"
     ]
    },
    {
     "name": "stderr",
     "output_type": "stream",
     "text": [
      "[Parallel(n_jobs=2)]: Done  42 out of  42 | elapsed:    0.8s finished\n"
     ]
    },
    {
     "data": {
      "text/plain": [
       "GridSearchCV(cv=<generator object _BaseKFold.split at 0x7f6ea3cbabf8>,\n",
       "       error_score='raise',\n",
       "       estimator=Pipeline(steps=[('union', FeatureUnion(n_jobs=1,\n",
       "       transformer_list=[('continuous', Pipeline(steps=[('selector', ItemSelector(key=Index(['SASA', 'SASA_PERCENTAGE', 'BFACTOR', 'SWITCHBILITY', 'AGGREGABILITY',\n",
       "       'CONSERVATION', 'VARIATION_ENERGY'],\n",
       "      dtype='object'))), ('imputer', Imputer(axis=0,...ty='l2', random_state=None, solver='liblinear', tol=0.0001,\n",
       "          verbose=0, warm_start=False))]),\n",
       "       fit_params={}, iid=True, n_jobs=2,\n",
       "       param_grid=[{'lr__C': [0.001, 0.01, 0.1, 1, 10, 100, 1000], 'lr__class_weight': [None, 'balanced']}],\n",
       "       pre_dispatch='2*n_jobs', refit=True, return_train_score=True,\n",
       "       scoring='roc_auc', verbose=1)"
      ]
     },
     "execution_count": 138,
     "metadata": {},
     "output_type": "execute_result"
    }
   ],
   "source": [
    "gs.fit(X_train, y_train)"
   ]
  },
  {
   "cell_type": "code",
   "execution_count": 139,
   "metadata": {
    "ExecuteTime": {
     "end_time": "2018-07-22T16:19:38.427344Z",
     "start_time": "2018-07-22T16:19:38.418997Z"
    },
    "collapsed": true
   },
   "outputs": [],
   "source": [
    "lr = gs.best_estimator_"
   ]
  },
  {
   "cell_type": "code",
   "execution_count": 140,
   "metadata": {
    "ExecuteTime": {
     "end_time": "2018-07-22T16:19:40.648642Z",
     "start_time": "2018-07-22T16:19:40.634768Z"
    }
   },
   "outputs": [
    {
     "data": {
      "text/plain": [
       "0.7140964550085267"
      ]
     },
     "execution_count": 140,
     "metadata": {},
     "output_type": "execute_result"
    }
   ],
   "source": [
    "gs.best_score_"
   ]
  },
  {
   "cell_type": "code",
   "execution_count": 77,
   "metadata": {
    "ExecuteTime": {
     "end_time": "2018-07-22T15:33:27.670492Z",
     "start_time": "2018-07-22T15:33:27.656778Z"
    }
   },
   "outputs": [
    {
     "data": {
      "text/plain": [
       "('lr',\n",
       " LogisticRegression(C=1, class_weight=None, dual=False, fit_intercept=True,\n",
       "           intercept_scaling=1, max_iter=100, multi_class='ovr', n_jobs=1,\n",
       "           penalty='l2', random_state=None, solver='liblinear', tol=0.0001,\n",
       "           verbose=0, warm_start=False))"
      ]
     },
     "execution_count": 77,
     "metadata": {},
     "output_type": "execute_result"
    }
   ],
   "source": [
    "lr.steps[2]"
   ]
  },
  {
   "cell_type": "code",
   "execution_count": 141,
   "metadata": {
    "ExecuteTime": {
     "end_time": "2018-07-22T16:19:56.037557Z",
     "start_time": "2018-07-22T16:19:56.034409Z"
    },
    "collapsed": true,
    "scrolled": false
   },
   "outputs": [],
   "source": [
    "importances = list(zip(X_train.columns.tolist(), lr.steps[2][1].coef_[0].tolist()))"
   ]
  },
  {
   "cell_type": "code",
   "execution_count": 142,
   "metadata": {
    "ExecuteTime": {
     "end_time": "2018-07-22T16:20:01.147142Z",
     "start_time": "2018-07-22T16:20:00.940057Z"
    }
   },
   "outputs": [
    {
     "data": {
      "image/png": "[encoded data removed]",
      "text/plain": [
       "<matplotlib.figure.Figure at 0x7f6ebe928e80>"
      ]
     },
     "metadata": {},
     "output_type": "display_data"
    }
   ],
   "source": [
    "figsize(20,6)\n",
    "# plt.title(\"Logistic Regression Coefficients\", fontsize=16)\n",
    "plt.barh(np.arange(len(importances)), [y for x, y in importances], color=\"g\", align=\"center\")\n",
    "plt.xlabel(\"Coeficientes\", fontsize=20)\n",
    "plt.xticks(fontsize=18)\n",
    "plt.yticks(range(len(importances)), [x for x, y in importances], rotation='horizontal', fontsize=16)\n",
    "# plt.xticks(np.arange(-1.1,.7,.05))\n",
    "plt.show()"
   ]
  },
  {
   "cell_type": "markdown",
   "metadata": {},
   "source": [
    "#### SVM"
   ]
  },
  {
   "cell_type": "code",
   "execution_count": 25,
   "metadata": {
    "ExecuteTime": {
     "end_time": "2018-07-22T18:11:47.289362Z",
     "start_time": "2018-07-22T18:11:47.274805Z"
    },
    "collapsed": true
   },
   "outputs": [],
   "source": [
    "folds = 3\n",
    "skf = StratifiedKFold(n_splits=folds, shuffle=True, random_state=1001)\n",
    "algorithm = 'svc'\n",
    "model = Pipeline(model_dict[algorithm]['pipe'])\n",
    "param_list = [model_dict[algorithm]['params']][0]\n",
    "gs = GridSearchCV(model, param_list, cv=skf.split(X_train, y_train), n_jobs=2, \n",
    "                  scoring='roc_auc', verbose=1, refit=True)"
   ]
  },
  {
   "cell_type": "code",
   "execution_count": 26,
   "metadata": {
    "ExecuteTime": {
     "end_time": "2018-07-22T18:11:49.339509Z",
     "start_time": "2018-07-22T18:11:49.324621Z"
    },
    "scrolled": true
   },
   "outputs": [
    {
     "data": {
      "text/plain": [
       "(2448, 9)"
      ]
     },
     "execution_count": 26,
     "metadata": {},
     "output_type": "execute_result"
    }
   ],
   "source": [
    "X_test.shape"
   ]
  },
  {
   "cell_type": "code",
   "execution_count": 27,
   "metadata": {
    "ExecuteTime": {
     "end_time": "2018-07-22T18:11:49.914479Z",
     "start_time": "2018-07-22T18:11:49.905217Z"
    }
   },
   "outputs": [
    {
     "data": {
      "text/plain": [
       "1    1774\n",
       "0     674\n",
       "dtype: int64"
      ]
     },
     "execution_count": 27,
     "metadata": {},
     "output_type": "execute_result"
    }
   ],
   "source": [
    "pd.Series(y_test).value_counts()"
   ]
  },
  {
   "cell_type": "code",
   "execution_count": 28,
   "metadata": {
    "ExecuteTime": {
     "end_time": "2018-07-22T18:12:43.127118Z",
     "start_time": "2018-07-22T18:11:50.996742Z"
    },
    "scrolled": true
   },
   "outputs": [
    {
     "name": "stdout",
     "output_type": "stream",
     "text": [
      "Fitting 3 folds for each of 32 candidates, totalling 96 fits\n"
     ]
    },
    {
     "name": "stderr",
     "output_type": "stream",
     "text": [
      "[Parallel(n_jobs=2)]: Done  46 tasks      | elapsed:   18.8s\n",
      "[Parallel(n_jobs=2)]: Done  96 out of  96 | elapsed:   49.4s finished\n"
     ]
    },
    {
     "data": {
      "text/plain": [
       "GridSearchCV(cv=<generator object _BaseKFold.split at 0x7f00ab343f10>,\n",
       "       error_score='raise',\n",
       "       estimator=Pipeline(memory=None,\n",
       "     steps=[('union', FeatureUnion(n_jobs=1,\n",
       "       transformer_list=[('continuous', Pipeline(memory=None,\n",
       "     steps=[('selector', ItemSelector(key=Index(['SASA', 'SASA_PERCENTAGE', 'BFACTOR', 'SWITCHBILITY', 'AGGREGABILITY',\n",
       "       'CONSERVATION', 'VARIATION_ENERGY'],\n",
       "      dtype='object'))), ('imputer...,\n",
       "  max_iter=-1, probability=False, random_state=None, shrinking=True,\n",
       "  tol=0.001, verbose=False))]),\n",
       "       fit_params=None, iid=True, n_jobs=2,\n",
       "       param_grid=[{'svc__kernel': ['rbf'], 'svc__gamma': [0.01, 0.001, 0.0001, 1e-05], 'svc__C': [0.001, 0.1, 0.1, 10, 25, 50, 100, 1000]}],\n",
       "       pre_dispatch='2*n_jobs', refit=True, return_train_score='warn',\n",
       "       scoring='roc_auc', verbose=1)"
      ]
     },
     "execution_count": 28,
     "metadata": {},
     "output_type": "execute_result"
    }
   ],
   "source": [
    "gs.fit(X_train, y_train)"
   ]
  },
  {
   "cell_type": "code",
   "execution_count": 29,
   "metadata": {
    "ExecuteTime": {
     "end_time": "2018-07-22T18:12:46.851215Z",
     "start_time": "2018-07-22T18:12:46.841803Z"
    },
    "collapsed": true
   },
   "outputs": [],
   "source": [
    "svc = gs.best_estimator_"
   ]
  },
  {
   "cell_type": "code",
   "execution_count": 30,
   "metadata": {
    "ExecuteTime": {
     "end_time": "2018-07-22T18:12:47.543779Z",
     "start_time": "2018-07-22T18:12:47.527056Z"
    }
   },
   "outputs": [
    {
     "data": {
      "text/plain": [
       "0.6992159446523492"
      ]
     },
     "execution_count": 30,
     "metadata": {},
     "output_type": "execute_result"
    }
   ],
   "source": [
    "gs.best_score_"
   ]
  },
  {
   "cell_type": "code",
   "execution_count": 31,
   "metadata": {
    "ExecuteTime": {
     "end_time": "2018-07-22T18:12:49.811379Z",
     "start_time": "2018-07-22T18:12:49.786258Z"
    }
   },
   "outputs": [
    {
     "data": {
      "text/plain": [
       "Pipeline(memory=None,\n",
       "     steps=[('union', FeatureUnion(n_jobs=1,\n",
       "       transformer_list=[('continuous', Pipeline(memory=None,\n",
       "     steps=[('selector', ItemSelector(key=Index(['SASA', 'SASA_PERCENTAGE', 'BFACTOR', 'SWITCHBILITY', 'AGGREGABILITY',\n",
       "       'CONSERVATION', 'VARIATION_ENERGY'],\n",
       "      dtype='object'))), ('imputer...,\n",
       "  max_iter=-1, probability=False, random_state=None, shrinking=True,\n",
       "  tol=0.001, verbose=False))])"
      ]
     },
     "execution_count": 31,
     "metadata": {},
     "output_type": "execute_result"
    }
   ],
   "source": [
    "model"
   ]
  },
  {
   "cell_type": "code",
   "execution_count": 32,
   "metadata": {
    "ExecuteTime": {
     "end_time": "2018-07-22T18:12:50.481427Z",
     "start_time": "2018-07-22T18:12:50.467005Z"
    }
   },
   "outputs": [
    {
     "data": {
      "text/plain": [
       "Index(['SASA', 'SASA_PERCENTAGE', 'BFACTOR', 'SWITCHBILITY', 'AGGREGABILITY',\n",
       "       'CONSERVATION', '3DID', 'PDB', 'VARIATION_ENERGY'],\n",
       "      dtype='object')"
      ]
     },
     "execution_count": 32,
     "metadata": {},
     "output_type": "execute_result"
    }
   ],
   "source": [
    "X_train.columns"
   ]
  },
  {
   "cell_type": "code",
   "execution_count": 33,
   "metadata": {
    "ExecuteTime": {
     "end_time": "2018-07-22T18:12:58.408026Z",
     "start_time": "2018-07-22T18:12:58.336827Z"
    }
   },
   "outputs": [
    {
     "name": "stdout",
     "output_type": "stream",
     "text": [
      "             precision    recall  f1-score   support\n",
      "\n",
      "          0       0.57      0.26      0.36       674\n",
      "          1       0.77      0.93      0.84      1774\n",
      "\n",
      "avg / total       0.71      0.74      0.71      2448\n",
      "\n"
     ]
    }
   ],
   "source": [
    "print(classification_report(y_test, rf.predict(X_test)))"
   ]
  },
  {
   "cell_type": "code",
   "execution_count": 34,
   "metadata": {
    "ExecuteTime": {
     "end_time": "2018-07-22T18:13:01.209006Z",
     "start_time": "2018-07-22T18:13:01.147946Z"
    },
    "collapsed": true
   },
   "outputs": [],
   "source": [
    "fpr, tpr, _ = roc_curve(y_test, rf.predict_proba(X_test)[:, 1])\n",
    "roc_auc = auc(fpr, tpr)"
   ]
  },
  {
   "cell_type": "code",
   "execution_count": 35,
   "metadata": {
    "ExecuteTime": {
     "end_time": "2018-07-22T18:13:01.924093Z",
     "start_time": "2018-07-22T18:13:01.907571Z"
    }
   },
   "outputs": [
    {
     "data": {
      "text/plain": [
       "(852,)"
      ]
     },
     "execution_count": 35,
     "metadata": {},
     "output_type": "execute_result"
    }
   ],
   "source": [
    "fpr.shape"
   ]
  },
  {
   "cell_type": "code",
   "execution_count": 36,
   "metadata": {
    "ExecuteTime": {
     "end_time": "2018-07-22T18:13:06.328689Z",
     "start_time": "2018-07-22T18:13:06.024213Z"
    }
   },
   "outputs": [
    {
     "data": {
      "image/png": "[encoded data removed]",
      "text/plain": [
       "<matplotlib.figure.Figure at 0x7f00aaf4c908>"
      ]
     },
     "metadata": {},
     "output_type": "display_data"
    }
   ],
   "source": [
    "figsize(7,7)\n",
    "\n",
    "lw = 2\n",
    "plt.plot(fpr, tpr, color='darkorange',\n",
    "         lw=lw, label='ROC curve (area = %0.2f)' % roc_auc)\n",
    "plt.plot([0, 1], [0, 1], color='navy', lw=lw, linestyle='--')\n",
    "plt.xlim([0.0, 1.0])\n",
    "plt.ylim([0.0, 1.05])\n",
    "plt.xlabel('False Positive Rate')\n",
    "plt.ylabel('True Positive Rate')\n",
    "plt.title('AUC Curve')\n",
    "plt.legend(loc=\"lower right\", prop={'size': 12})\n",
    "\n",
    "plt.savefig(\"../documents/latex/figures/3/auc_varq.pdf\", bbox_inches='tight', pad_inches=0.1)"
   ]
  },
  {
   "cell_type": "markdown",
   "metadata": {
    "collapsed": true
   },
   "source": [
    "## Algorithm Comparison"
   ]
  },
  {
   "cell_type": "code",
   "execution_count": 58,
   "metadata": {
    "ExecuteTime": {
     "end_time": "2018-07-22T18:19:37.708468Z",
     "start_time": "2018-07-22T18:19:37.698172Z"
    },
    "collapsed": true
   },
   "outputs": [],
   "source": [
    "algos = [\"LR\", \"RF\", \"SVC\"]\n",
    "aucs = [0.71, 0.74, 0.70]"
   ]
  },
  {
   "cell_type": "code",
   "execution_count": 114,
   "metadata": {
    "ExecuteTime": {
     "end_time": "2018-07-22T19:08:13.440620Z",
     "start_time": "2018-07-22T19:08:13.216016Z"
    }
   },
   "outputs": [
    {
     "data": {
      "image/png": "[encoded data removed]",
      "text/plain": [
       "<matplotlib.figure.Figure at 0x7f009b92f518>"
      ]
     },
     "metadata": {},
     "output_type": "display_data"
    }
   ],
   "source": [
    "plt.rcParams[\"font.family\"] = \"DejaVu Sans\"\n",
    "\n",
    "plt.figure(figsize=(10, 4))\n",
    "\n",
    "barlist = plt.bar(algos, aucs, alpha=0.6)\n",
    "barlist[0].set_color('mediumaquamarine')\n",
    "barlist[1].set_color('forestgreen')\n",
    "barlist[2].set_color('darkmagenta')\n",
    "\n",
    "for i, rect in enumerate(barlist):\n",
    "    height = rect.get_height()\n",
    "    plt.gca().text(rect.get_x() + rect.get_width()/2., 1.05*height, aucs[i], ha='center', va='bottom', fontsize=18)\n",
    "\n",
    "\n",
    "plt.xticks(fontsize=16)\n",
    "plt.yticks(np.arange(0,1.1, 0.5), fontsize=18)\n",
    "\n",
    "# plt.show()\n",
    "# plt.legend([\"AUC\"], fontsize=16)\n",
    "\n",
    "plt.savefig(\"varq_results.pdf\", bbox_inches='tight', pad_inches=0.1)"
   ]
  }
 ],
 "metadata": {
  "kernelspec": {
   "display_name": "Python 3",
   "language": "python",
   "name": "python3"
  },
  "language_info": {
   "codemirror_mode": {
    "name": "ipython",
    "version": 3
   },
   "file_extension": ".py",
   "mimetype": "text/x-python",
   "name": "python",
   "nbconvert_exporter": "python",
   "pygments_lexer": "ipython3",
   "version": "3.6.3"
  },
  "varInspector": {
   "cols": {
    "lenName": 16,
    "lenType": 16,
    "lenVar": 40
   },
   "kernels_config": {
    "python": {
     "delete_cmd_postfix": "",
     "delete_cmd_prefix": "del ",
     "library": "var_list.py",
     "varRefreshCmd": "print(var_dic_list())"
    },
    "r": {
     "delete_cmd_postfix": ") ",
     "delete_cmd_prefix": "rm(",
     "library": "var_list.r",
     "varRefreshCmd": "cat(var_dic_list()) "
    }
   },
   "types_to_exclude": [
    "module",
    "function",
    "builtin_function_or_method",
    "instance",
    "_Feature"
   ],
   "window_display": false
  }
 },
 "nbformat": 4,
 "nbformat_minor": 2
}
