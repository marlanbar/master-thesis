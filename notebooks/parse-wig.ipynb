{
 "cells": [
  {
   "cell_type": "code",
   "execution_count": 8,
   "metadata": {},
   "outputs": [],
   "source": [
    "from __future__ import print_function\n",
    "from bx.wiggle import Reader\n",
    "import gzip"
   ]
  },
  {
   "cell_type": "code",
   "execution_count": 17,
   "metadata": {},
   "outputs": [
    {
     "name": "stdout",
     "output_type": "stream",
     "text": [
      "chr1,10917,0.254\n",
      "chr1,10918,0.253\n"
     ]
    }
   ],
   "source": [
    "f = gzip.open(\"../data/external/phastCons46Way/chr1.phastCons46way.wigFix.gz\")\n",
    "\n",
    "for e, l in enumerate(Reader(f)):\n",
    "    if e == 2:\n",
    "        break\n",
    "    print(\"{},{},{}\".format(l[0], l[1], l[2]))\n",
    "    "
   ]
  },
  {
   "cell_type": "code",
   "execution_count": null,
   "metadata": {},
   "outputs": [],
   "source": []
  }
 ],
 "metadata": {
  "kernelspec": {
   "display_name": "Python 2",
   "language": "python",
   "name": "python2"
  },
  "language_info": {
   "codemirror_mode": {
    "name": "ipython",
    "version": 2
   },
   "file_extension": ".py",
   "mimetype": "text/x-python",
   "name": "python",
   "nbconvert_exporter": "python",
   "pygments_lexer": "ipython2",
   "version": "2.7.6"
  }
 },
 "nbformat": 4,
 "nbformat_minor": 2
}
