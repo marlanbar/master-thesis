{
 "cells": [
  {
   "cell_type": "code",
   "execution_count": null,
   "metadata": {
    "ExecuteTime": {
     "end_time": "2018-08-05T14:29:04.522069Z",
     "start_time": "2018-08-05T14:29:03.665109Z"
    },
    "collapsed": true
   },
   "outputs": [],
   "source": [
    "import pandas as pd\n",
    "import numpy as np"
   ]
  },
  {
   "cell_type": "markdown",
   "metadata": {},
   "source": [
    "## Humsavar Table"
   ]
  },
  {
   "cell_type": "code",
   "execution_count": null,
   "metadata": {
    "ExecuteTime": {
     "end_time": "2018-08-05T14:29:04.829317Z",
     "start_time": "2018-08-05T14:29:04.536205Z"
    },
    "collapsed": true
   },
   "outputs": [],
   "source": [
    "hum = pd.read_csv(\"../data/interim/humsavar_clean_201711.csv.gz\", sep=\",\")\n",
    "hum.columns = hum.columns.str.replace(\" \", \"_\")"
   ]
  },
  {
   "cell_type": "code",
   "execution_count": null,
   "metadata": {
    "ExecuteTime": {
     "end_time": "2018-08-05T14:29:04.893893Z",
     "start_time": "2018-08-05T14:29:04.886117Z"
    },
    "collapsed": true
   },
   "outputs": [],
   "source": [
    "#Correspondencia hecha por Santi\n",
    "AMINO_CODE = {\"Ala\": \"A\",\\\n",
    "              \"Arg\": \"R\",\\\n",
    "              \"Asn\": \"N\",\\\n",
    "              \"Asp\": \"D\",\\\n",
    "              \"Cys\": \"C\",\\\n",
    "              \"Gln\": \"Q\",\\\n",
    "              \"Glu\": \"E\",\\\n",
    "              \"Gly\": \"G\",\\\n",
    "              \"His\": \"H\",\\\n",
    "              \"Ile\": \"I\",\\\n",
    "              \"Leu\": \"L\",\\\n",
    "              \"Lys\": \"K\",\\\n",
    "              \"Met\": \"M\",\\\n",
    "              \"Phe\": \"F\",\\\n",
    "              \"Pro\": \"P\",\\\n",
    "              \"Ser\": \"S\",\\\n",
    "              \"Thr\": \"T\",\\\n",
    "              \"Trp\": \"W\",\\\n",
    "              \"Tyr\": \"Y\",\\\n",
    "              \"Val\": \"V\",\\\n",
    "              \"Sec\": \"U\"\n",
    "             }"
   ]
  },
  {
   "cell_type": "code",
   "execution_count": null,
   "metadata": {
    "ExecuteTime": {
     "end_time": "2018-08-05T14:29:04.964222Z",
     "start_time": "2018-08-05T14:29:04.948875Z"
    }
   },
   "outputs": [],
   "source": [
    "hum.columns"
   ]
  },
  {
   "cell_type": "code",
   "execution_count": null,
   "metadata": {
    "ExecuteTime": {
     "end_time": "2018-08-05T14:29:05.315804Z",
     "start_time": "2018-08-05T14:29:05.013445Z"
    },
    "collapsed": true
   },
   "outputs": [],
   "source": [
    "df = pd.DataFrame(data=(hum[\"AA_Change\"].str[2:].str.split(r\"([0-9]+)\")).tolist(), columns=[\"C1\", \"C2\", \"C3\"])\n",
    "df[\"C1\"] = df.C1.map(AMINO_CODE)\n",
    "df[\"C3\"] = df.C3.map(AMINO_CODE)\n",
    "mutant = pd.Series(data=(hum[\"Swiss_Prot_AC\"] + \"-\"+ df.C2 + \"-\" + df.C1 + \"-\" + df.C3).tolist(), name=\"MUTANT\")\n",
    "# mutant = pd.Series(data=(df.C1 + df.C2 + df.C3).tolist(), name=\"MUTANT\")"
   ]
  },
  {
   "cell_type": "code",
   "execution_count": null,
   "metadata": {
    "ExecuteTime": {
     "end_time": "2018-08-05T14:29:05.587452Z",
     "start_time": "2018-08-05T14:29:05.402574Z"
    },
    "collapsed": true
   },
   "outputs": [],
   "source": [
    "hum_final = pd.concat([hum, mutant, df], 1)[[\"MUTANT\", \"Swiss_Prot_AC\", \"C2\", \"C1\", \"C3\",\"dbSNP\", \"Type_of_variant\"]]\n",
    "hum_final.rename(columns={\"C1\": \"WildType\", \"C3\": \"Mut\", \"Swiss_Prot_AC\": \"UID\", \"C2\": \"Pos\"}, inplace=True)\n",
    "# hum_final = pd.concat([hum, mutant], 1)[[\"FTId\", \"MUTANT\"]]"
   ]
  },
  {
   "cell_type": "code",
   "execution_count": null,
   "metadata": {
    "ExecuteTime": {
     "end_time": "2018-08-05T14:29:05.735307Z",
     "start_time": "2018-08-05T14:29:05.714968Z"
    }
   },
   "outputs": [],
   "source": [
    "hum_final.head()"
   ]
  },
  {
   "cell_type": "code",
   "execution_count": null,
   "metadata": {
    "ExecuteTime": {
     "end_time": "2018-08-05T14:29:05.885970Z",
     "start_time": "2018-08-05T14:29:05.880383Z"
    }
   },
   "outputs": [],
   "source": [
    "hum_final.shape"
   ]
  },
  {
   "cell_type": "code",
   "execution_count": null,
   "metadata": {
    "ExecuteTime": {
     "end_time": "2018-08-05T14:29:06.077392Z",
     "start_time": "2018-08-05T14:29:06.014627Z"
    },
    "collapsed": true
   },
   "outputs": [],
   "source": [
    "hum_final.drop_duplicates(\"MUTANT\", inplace=True)\n",
    "# hum_final.drop_duplicates(\"dbSNP\", inplace=True)\n",
    "hum_final.rename(columns={\"Type_of_variant\": \"TYPE\"}, inplace=True)"
   ]
  },
  {
   "cell_type": "code",
   "execution_count": null,
   "metadata": {
    "ExecuteTime": {
     "end_time": "2018-08-05T14:29:06.200669Z",
     "start_time": "2018-08-05T14:29:06.185635Z"
    }
   },
   "outputs": [],
   "source": [
    "hum_final.head(3)"
   ]
  },
  {
   "cell_type": "code",
   "execution_count": null,
   "metadata": {
    "ExecuteTime": {
     "end_time": "2018-08-05T14:29:06.411156Z",
     "start_time": "2018-08-05T14:29:06.323912Z"
    },
    "scrolled": true
   },
   "outputs": [],
   "source": [
    "hum_final[hum_final.dbSNP.duplicated(keep=False) & ~hum_final.dbSNP.isnull()]"
   ]
  },
  {
   "cell_type": "code",
   "execution_count": null,
   "metadata": {
    "ExecuteTime": {
     "end_time": "2018-08-05T14:29:07.183548Z",
     "start_time": "2018-08-05T14:29:06.533034Z"
    },
    "collapsed": true
   },
   "outputs": [],
   "source": [
    "hum_final.to_csv(\"../data/interim/humsavar_full.csv.gz\", index=False, compression=\"gzip\")\n",
    "# hum_final.to_csv(\"../data/interim/humsavar_VEST.csv.gz\", index=False, compression=\"gzip\")"
   ]
  },
  {
   "cell_type": "code",
   "execution_count": null,
   "metadata": {
    "ExecuteTime": {
     "end_time": "2018-08-05T14:29:09.387120Z",
     "start_time": "2018-08-05T14:29:09.239625Z"
    }
   },
   "outputs": [],
   "source": [
    "hum_final = pd.read_csv(\"../data/interim/humsavar_full.csv.gz\")"
   ]
  },
  {
   "cell_type": "code",
   "execution_count": null,
   "metadata": {
    "ExecuteTime": {
     "end_time": "2018-08-05T14:29:10.109874Z",
     "start_time": "2018-08-05T14:29:10.095003Z"
    }
   },
   "outputs": [],
   "source": [
    "hum_final.shape"
   ]
  },
  {
   "cell_type": "markdown",
   "metadata": {},
   "source": [
    "## SNVBox Features "
   ]
  },
  {
   "cell_type": "markdown",
   "metadata": {},
   "source": [
    "### AA Features (Protein)"
   ]
  },
  {
   "cell_type": "code",
   "execution_count": null,
   "metadata": {
    "ExecuteTime": {
     "end_time": "2018-08-05T14:29:11.868456Z",
     "start_time": "2018-08-05T14:29:11.858434Z"
    },
    "collapsed": true
   },
   "outputs": [],
   "source": [
    "AA_Features = pd.read_csv(\"../data/external/snvbox_features/AA_Features_snvbox.csv\")"
   ]
  },
  {
   "cell_type": "code",
   "execution_count": null,
   "metadata": {
    "ExecuteTime": {
     "end_time": "2018-08-05T14:29:12.089678Z",
     "start_time": "2018-08-05T14:29:12.083705Z"
    }
   },
   "outputs": [],
   "source": [
    "AA_Features.columns"
   ]
  },
  {
   "cell_type": "code",
   "execution_count": null,
   "metadata": {
    "ExecuteTime": {
     "end_time": "2018-08-05T14:29:12.334888Z",
     "start_time": "2018-08-05T14:29:12.307469Z"
    }
   },
   "outputs": [],
   "source": [
    "AA_Features.head()"
   ]
  },
  {
   "cell_type": "code",
   "execution_count": null,
   "metadata": {
    "ExecuteTime": {
     "end_time": "2018-08-05T14:29:12.600893Z",
     "start_time": "2018-08-05T14:29:12.539238Z"
    },
    "collapsed": true
   },
   "outputs": [],
   "source": [
    "hum_final = hum_final.merge(AA_Features, on=['WildType', 'Mut'], how='left')"
   ]
  },
  {
   "cell_type": "markdown",
   "metadata": {},
   "source": [
    "### Uniprot Features (Protein)"
   ]
  },
  {
   "cell_type": "code",
   "execution_count": null,
   "metadata": {
    "ExecuteTime": {
     "end_time": "2018-08-05T14:29:38.038534Z",
     "start_time": "2018-08-05T14:29:12.970597Z"
    },
    "collapsed": true
   },
   "outputs": [],
   "source": [
    "Uniprot_Features = pd.read_csv(\"../data/external/snvbox_features/uniprot_features.csv\")\n",
    "Uniprot_Features.rename(columns={\"Acc\": \"UID\"}, inplace=True)"
   ]
  },
  {
   "cell_type": "code",
   "execution_count": null,
   "metadata": {
    "ExecuteTime": {
     "end_time": "2018-08-05T14:29:49.013651Z",
     "start_time": "2018-08-05T14:29:42.393021Z"
    }
   },
   "outputs": [],
   "source": [
    "Uniprot_Features"
   ]
  },
  {
   "cell_type": "code",
   "execution_count": null,
   "metadata": {
    "ExecuteTime": {
     "end_time": "2018-08-05T14:29:50.445245Z",
     "start_time": "2018-08-05T14:29:50.439214Z"
    }
   },
   "outputs": [],
   "source": [
    "Uniprot_Features.shape"
   ]
  },
  {
   "cell_type": "code",
   "execution_count": null,
   "metadata": {
    "ExecuteTime": {
     "end_time": "2018-08-05T14:29:51.698959Z",
     "start_time": "2018-08-05T14:29:51.690895Z"
    }
   },
   "outputs": [],
   "source": [
    "Uniprot_Features.columns.str.upper()"
   ]
  },
  {
   "cell_type": "code",
   "execution_count": null,
   "metadata": {
    "ExecuteTime": {
     "end_time": "2018-08-05T14:29:54.246240Z",
     "start_time": "2018-08-05T14:29:52.970161Z"
    }
   },
   "outputs": [],
   "source": [
    "hum_final = hum_final.merge(Uniprot_Features, on=['UID', 'Pos'], how='left')"
   ]
  },
  {
   "cell_type": "markdown",
   "metadata": {},
   "source": [
    "## Protparam (Protein)"
   ]
  },
  {
   "cell_type": "code",
   "execution_count": null,
   "metadata": {
    "ExecuteTime": {
     "end_time": "2018-08-05T14:29:54.247482Z",
     "start_time": "2018-08-05T17:29:16.606Z"
    },
    "collapsed": true
   },
   "outputs": [],
   "source": [
    "protparam = pd.read_csv(\"../data/interim/protparam_features.csv.gz\")"
   ]
  },
  {
   "cell_type": "code",
   "execution_count": null,
   "metadata": {
    "ExecuteTime": {
     "end_time": "2018-08-05T14:29:54.248492Z",
     "start_time": "2018-08-05T17:29:17.086Z"
    },
    "collapsed": true
   },
   "outputs": [],
   "source": [
    "hum_final = hum_final.merge(protparam, on=\"MUTANT\", how=\"left\")"
   ]
  },
  {
   "cell_type": "markdown",
   "metadata": {},
   "source": [
    "## Create Structural Dataset"
   ]
  },
  {
   "cell_type": "code",
   "execution_count": null,
   "metadata": {
    "ExecuteTime": {
     "end_time": "2018-07-28T16:32:57.103754Z",
     "start_time": "2018-07-28T16:32:57.100159Z"
    },
    "collapsed": true
   },
   "outputs": [],
   "source": [
    "hum_final.columns = hum_final.columns.str.upper()"
   ]
  },
  {
   "cell_type": "code",
   "execution_count": null,
   "metadata": {
    "ExecuteTime": {
     "end_time": "2018-07-28T16:32:58.408563Z",
     "start_time": "2018-07-28T16:32:58.400470Z"
    }
   },
   "outputs": [],
   "source": [
    "hum_final.columns"
   ]
  },
  {
   "cell_type": "code",
   "execution_count": null,
   "metadata": {
    "ExecuteTime": {
     "end_time": "2018-07-28T16:33:01.417559Z",
     "start_time": "2018-07-28T16:33:01.382307Z"
    },
    "scrolled": true
   },
   "outputs": [],
   "source": [
    "hum_final.TYPE.value_counts()"
   ]
  },
  {
   "cell_type": "code",
   "execution_count": null,
   "metadata": {
    "ExecuteTime": {
     "end_time": "2018-07-28T16:33:55.324272Z",
     "start_time": "2018-07-28T16:33:48.042460Z"
    },
    "collapsed": true,
    "scrolled": true
   },
   "outputs": [],
   "source": [
    "hum_final.replace([np.inf,-np.inf], np.nan, inplace=True)\n",
    "hum_final.to_csv(\"../data/processed/structural/humsavar_full_gt.csv.gz\", index=False, compression=\"gzip\")"
   ]
  },
  {
   "cell_type": "code",
   "execution_count": null,
   "metadata": {
    "ExecuteTime": {
     "end_time": "2018-07-28T16:34:03.412513Z",
     "start_time": "2018-07-28T16:34:03.400672Z"
    }
   },
   "outputs": [],
   "source": [
    "hum_final.columns.shape"
   ]
  },
  {
   "cell_type": "code",
   "execution_count": null,
   "metadata": {
    "ExecuteTime": {
     "end_time": "2018-07-28T17:58:24.721360Z",
     "start_time": "2018-07-28T17:58:23.496553Z"
    },
    "collapsed": true
   },
   "outputs": [],
   "source": [
    "hum_final = pd.read_csv(\"../data/processed/structural/humsavar_full_gt.csv.gz\")"
   ]
  },
  {
   "cell_type": "code",
   "execution_count": null,
   "metadata": {
    "ExecuteTime": {
     "end_time": "2018-07-28T17:58:40.918984Z",
     "start_time": "2018-07-28T17:58:40.905486Z"
    }
   },
   "outputs": [],
   "source": [
    "hum_final.shape"
   ]
  },
  {
   "cell_type": "code",
   "execution_count": null,
   "metadata": {
    "ExecuteTime": {
     "end_time": "2018-07-28T17:58:43.053660Z",
     "start_time": "2018-07-28T17:58:42.934977Z"
    }
   },
   "outputs": [],
   "source": [
    "hum_final.isnull().sum()"
   ]
  },
  {
   "cell_type": "code",
   "execution_count": null,
   "metadata": {
    "ExecuteTime": {
     "end_time": "2018-07-28T17:59:44.802395Z",
     "start_time": "2018-07-28T17:59:44.753109Z"
    },
    "collapsed": true
   },
   "outputs": [],
   "source": [
    "hum_final.drop([\"UID\", \"POS\",\"DBSNP\", \"WILDTYPE\", \"MUT\"], axis=1, inplace=True)\n",
    "hum_final = hum_final[hum_final.TYPE != \"Unclassified\"]\n",
    "dataset = hum_final.set_index(\"MUTANT\")\n",
    "# unclassified_index = dataset[dataset.TYPE == \"Unclassified\"].index\n",
    "# dataset_disease_index = dataset[dataset.TYPE == \"Disease\"].index\n",
    "# dataset_poly_index = dataset[dataset.TYPE == \"Polymorphism\"].index"
   ]
  },
  {
   "cell_type": "code",
   "execution_count": null,
   "metadata": {
    "ExecuteTime": {
     "end_time": "2018-07-28T18:00:05.669674Z",
     "start_time": "2018-07-28T17:59:59.576325Z"
    },
    "collapsed": true
   },
   "outputs": [],
   "source": [
    "dataset.to_csv(\"../data/processed/structural/dataset.csv.gz\", index=True, compression=\"gzip\")"
   ]
  },
  {
   "cell_type": "code",
   "execution_count": null,
   "metadata": {
    "ExecuteTime": {
     "end_time": "2018-07-28T18:28:11.491519Z",
     "start_time": "2018-07-28T18:28:10.652252Z"
    },
    "collapsed": true
   },
   "outputs": [],
   "source": [
    "dataset = pd.read_csv(\"../data/processed/structural/dataset.csv.gz\", index_col=\"MUTANT\")"
   ]
  },
  {
   "cell_type": "code",
   "execution_count": null,
   "metadata": {
    "ExecuteTime": {
     "end_time": "2018-07-28T18:28:18.005182Z",
     "start_time": "2018-07-28T18:28:17.819603Z"
    }
   },
   "outputs": [],
   "source": [
    "dataset[Uniprot_Features.columns.str.upper().drop([\"UID\", \"POS\"],1 )].describe()"
   ]
  },
  {
   "cell_type": "code",
   "execution_count": null,
   "metadata": {
    "ExecuteTime": {
     "end_time": "2018-07-28T18:19:38.581297Z",
     "start_time": "2018-07-28T18:19:38.279013Z"
    },
    "collapsed": true
   },
   "outputs": [],
   "source": [
    "dataset.describe().to_csv(\"/home/marlan/workspace/master-thesis/results/estructural/describe.csv\", index=True)"
   ]
  },
  {
   "cell_type": "markdown",
   "metadata": {},
   "source": [
    "### Single Train Test"
   ]
  },
  {
   "cell_type": "code",
   "execution_count": null,
   "metadata": {
    "collapsed": true
   },
   "outputs": [],
   "source": []
  },
  {
   "cell_type": "markdown",
   "metadata": {},
   "source": [
    "### Multiple Train Tests"
   ]
  },
  {
   "cell_type": "code",
   "execution_count": null,
   "metadata": {
    "ExecuteTime": {
     "end_time": "2018-05-05T23:09:12.611142Z",
     "start_time": "2018-05-05T23:07:16.244111Z"
    },
    "collapsed": true,
    "deletable": false,
    "editable": false
   },
   "outputs": [],
   "source": [
    "for i in range(20):\n",
    "    train = pd.concat([\n",
    "        dataset.loc[dataset_disease_index].sample(n=25000, random_state=i),\n",
    "        dataset.loc[dataset_poly_index].sample(n=25000, random_state=i)\n",
    "    ]).sample(frac=1)\n",
    "    \n",
    "    test = pd.concat([\n",
    "        dataset.loc[dataset_disease_index.difference(train.index)].sample(n=3855, random_state=i),\n",
    "        dataset.loc[dataset_poly_index.difference(train.index)].sample(n=14653, random_state=i)\n",
    "    ]).sample(frac=1)\n",
    "    train.to_csv(\"../data/processed/3/train_test_sets/train_{}.csv\".format(i), index=True, index_label=\"MUTANT\")\n",
    "    test.to_csv(\"../data/processed/3/train_test_sets/test_{}.csv\".format(i), index=True, index_label=\"MUTANT\")"
   ]
  },
  {
   "cell_type": "code",
   "execution_count": null,
   "metadata": {
    "collapsed": true
   },
   "outputs": [],
   "source": []
  }
 ],
 "metadata": {
  "kernelspec": {
   "display_name": "Python 3",
   "language": "python",
   "name": "python3"
  },
  "language_info": {
   "codemirror_mode": {
    "name": "ipython",
    "version": 3
   },
   "file_extension": ".py",
   "mimetype": "text/x-python",
   "name": "python",
   "nbconvert_exporter": "python",
   "pygments_lexer": "ipython3",
   "version": "3.6.3"
  },
  "varInspector": {
   "cols": {
    "lenName": 16,
    "lenType": 16,
    "lenVar": 40
   },
   "kernels_config": {
    "python": {
     "delete_cmd_postfix": "",
     "delete_cmd_prefix": "del ",
     "library": "var_list.py",
     "varRefreshCmd": "print(var_dic_list())"
    },
    "r": {
     "delete_cmd_postfix": ") ",
     "delete_cmd_prefix": "rm(",
     "library": "var_list.r",
     "varRefreshCmd": "cat(var_dic_list()) "
    }
   },
   "oldHeight": 221,
   "position": {
    "height": "243px",
    "left": "1040px",
    "right": "20px",
    "top": "214px",
    "width": "414px"
   },
   "types_to_exclude": [
    "module",
    "function",
    "builtin_function_or_method",
    "instance",
    "_Feature"
   ],
   "varInspector_section_display": "block",
   "window_display": false
  }
 },
 "nbformat": 4,
 "nbformat_minor": 2
}
