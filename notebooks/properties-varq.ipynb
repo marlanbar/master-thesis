{
 "cells": [
  {
   "cell_type": "markdown",
   "metadata": {},
   "source": [
    "### Imports"
   ]
  },
  {
   "cell_type": "code",
   "execution_count": 23,
   "metadata": {
    "ExecuteTime": {
     "end_time": "2018-07-21T23:11:47.177247Z",
     "start_time": "2018-07-21T23:11:47.146345Z"
    },
    "collapsed": true
   },
   "outputs": [],
   "source": [
    "import operator\n",
    "import pandas as pd\n",
    "import matplotlib.pyplot as plt\n",
    "import seaborn as sns\n",
    "import numpy as np\n",
    "from sklearn import feature_selection\n",
    "from sklearn.ensemble import RandomForestClassifier, AdaBoostClassifier\n",
    "from sklearn.ensemble import GradientBoostingClassifier\n",
    "from sklearn.svm import SVC\n",
    "from sklearn.linear_model import LogisticRegression\n",
    "from sklearn.pipeline import Pipeline, make_pipeline\n",
    "from sklearn.pipeline import FeatureUnion\n",
    "from sklearn.preprocessing import StandardScaler, RobustScaler, Imputer, LabelEncoder\n",
    "from sklearn.model_selection import GridSearchCV, RandomizedSearchCV, train_test_split, StratifiedKFold\n",
    "from sklearn.metrics import accuracy_score, f1_score, confusion_matrix, classification_report, roc_curve, auc\n",
    "from IPython.core.pylabtools import figsize \n",
    "%matplotlib inline"
   ]
  },
  {
   "cell_type": "markdown",
   "metadata": {},
   "source": [
    "### Aux Functions"
   ]
  },
  {
   "cell_type": "markdown",
   "metadata": {},
   "source": [
    "### Analysis"
   ]
  },
  {
   "cell_type": "code",
   "execution_count": 9,
   "metadata": {
    "ExecuteTime": {
     "end_time": "2018-07-21T22:56:44.174690Z",
     "start_time": "2018-07-21T22:56:44.132556Z"
    }
   },
   "outputs": [],
   "source": [
    "# varq = pd.read_csv(\"../data/processed/properties-varq.tab.gz\", sep=\"\\t\", index_col=\"MUTANT\")\n",
    "# varq = pd.read_csv(\"../data/processed/humsavar_varq_gt.csv.gz\", sep=\",\", index_col=\"MUTANT\").drop(\"dbSNP\", 1)\n",
    "varq = pd.read_csv(\"../data/processed/varq_clean.csv.gz\", index_col=\"MUTANT\")\n",
    "varq = varq[varq.TYPE != \"Unclassified\"].drop(\"ACTIVE_SITE\", 1)"
   ]
  },
  {
   "cell_type": "code",
   "execution_count": 25,
   "metadata": {
    "ExecuteTime": {
     "end_time": "2018-07-22T15:03:03.628590Z",
     "start_time": "2018-07-22T15:03:03.311720Z"
    },
    "scrolled": true
   },
   "outputs": [
    {
     "data": {
      "text/plain": [
       "Index(['SASA', 'SASA_PERCENTAGE', 'BFACTOR', 'SWITCHBILITY', 'AGGREGABILITY',\n",
       "       'CONSERVATION', '3DID', 'PDB', 'VARIATION_ENERGY', 'TYPE'],\n",
       "      dtype='object')"
      ]
     },
     "execution_count": 25,
     "metadata": {},
     "output_type": "execute_result"
    }
   ],
   "source": [
    "varq.columns"
   ]
  },
  {
   "cell_type": "code",
   "execution_count": 26,
   "metadata": {
    "ExecuteTime": {
     "end_time": "2018-07-22T15:03:04.645901Z",
     "start_time": "2018-07-22T15:03:04.589168Z"
    }
   },
   "outputs": [
    {
     "data": {
      "text/plain": [
       "(7418,)"
      ]
     },
     "execution_count": 26,
     "metadata": {},
     "output_type": "execute_result"
    }
   ],
   "source": [
    "varq.index.unique().shape"
   ]
  },
  {
   "cell_type": "code",
   "execution_count": 27,
   "metadata": {
    "ExecuteTime": {
     "end_time": "2018-07-22T15:03:05.568045Z",
     "start_time": "2018-07-22T15:03:05.472694Z"
    }
   },
   "outputs": [
    {
     "name": "stdout",
     "output_type": "stream",
     "text": [
      "Size: \n",
      " (7418, 10)\n",
      "\n",
      "Value counts of TYPE: \n",
      " Pathogenic    5377\n",
      "Benign        2041\n",
      "Name: TYPE, dtype: int64\n"
     ]
    }
   ],
   "source": [
    "print(\"Size: \\n\", varq.shape)\n",
    "print(\"\\nValue counts of TYPE: \\n\", varq.TYPE.value_counts())"
   ]
  },
  {
   "cell_type": "code",
   "execution_count": 28,
   "metadata": {
    "ExecuteTime": {
     "end_time": "2018-07-22T15:03:07.904375Z",
     "start_time": "2018-07-22T15:03:07.691347Z"
    }
   },
   "outputs": [
    {
     "data": {
      "text/html": [
       "<div>\n",
       "<table border=\"1\" class=\"dataframe\">\n",
       "  <thead>\n",
       "    <tr style=\"text-align: right;\">\n",
       "      <th></th>\n",
       "      <th>SASA</th>\n",
       "      <th>SASA_PERCENTAGE</th>\n",
       "      <th>BFACTOR</th>\n",
       "      <th>SWITCHBILITY</th>\n",
       "      <th>AGGREGABILITY</th>\n",
       "      <th>CONSERVATION</th>\n",
       "      <th>VARIATION_ENERGY</th>\n",
       "    </tr>\n",
       "  </thead>\n",
       "  <tbody>\n",
       "    <tr>\n",
       "      <th>count</th>\n",
       "      <td>7070.000000</td>\n",
       "      <td>7070.000000</td>\n",
       "      <td>7070.000000</td>\n",
       "      <td>6704.000000</td>\n",
       "      <td>5335.000000</td>\n",
       "      <td>2742.000000</td>\n",
       "      <td>7418.000000</td>\n",
       "    </tr>\n",
       "    <tr>\n",
       "      <th>mean</th>\n",
       "      <td>32.105675</td>\n",
       "      <td>0.150610</td>\n",
       "      <td>56.445569</td>\n",
       "      <td>0.384835</td>\n",
       "      <td>5.017957</td>\n",
       "      <td>0.330460</td>\n",
       "      <td>2.914977</td>\n",
       "    </tr>\n",
       "    <tr>\n",
       "      <th>std</th>\n",
       "      <td>39.148405</td>\n",
       "      <td>0.176877</td>\n",
       "      <td>71.760154</td>\n",
       "      <td>0.890387</td>\n",
       "      <td>17.607171</td>\n",
       "      <td>0.188785</td>\n",
       "      <td>4.842729</td>\n",
       "    </tr>\n",
       "    <tr>\n",
       "      <th>min</th>\n",
       "      <td>0.000000</td>\n",
       "      <td>0.000000</td>\n",
       "      <td>0.000000</td>\n",
       "      <td>0.000000</td>\n",
       "      <td>0.000000</td>\n",
       "      <td>0.130000</td>\n",
       "      <td>-12.642100</td>\n",
       "    </tr>\n",
       "    <tr>\n",
       "      <th>25%</th>\n",
       "      <td>0.670000</td>\n",
       "      <td>0.000000</td>\n",
       "      <td>19.765000</td>\n",
       "      <td>0.000000</td>\n",
       "      <td>0.000000</td>\n",
       "      <td>0.250000</td>\n",
       "      <td>0.257785</td>\n",
       "    </tr>\n",
       "    <tr>\n",
       "      <th>50%</th>\n",
       "      <td>15.208000</td>\n",
       "      <td>0.070000</td>\n",
       "      <td>37.342500</td>\n",
       "      <td>0.009150</td>\n",
       "      <td>0.000000</td>\n",
       "      <td>0.300000</td>\n",
       "      <td>1.512550</td>\n",
       "    </tr>\n",
       "    <tr>\n",
       "      <th>75%</th>\n",
       "      <td>52.149250</td>\n",
       "      <td>0.270000</td>\n",
       "      <td>61.138125</td>\n",
       "      <td>0.277000</td>\n",
       "      <td>0.163000</td>\n",
       "      <td>0.370000</td>\n",
       "      <td>3.885900</td>\n",
       "    </tr>\n",
       "    <tr>\n",
       "      <th>max</th>\n",
       "      <td>246.410000</td>\n",
       "      <td>0.750000</td>\n",
       "      <td>755.610000</td>\n",
       "      <td>8.720000</td>\n",
       "      <td>100.000000</td>\n",
       "      <td>4.770000</td>\n",
       "      <td>57.513400</td>\n",
       "    </tr>\n",
       "  </tbody>\n",
       "</table>\n",
       "</div>"
      ],
      "text/plain": [
       "              SASA  SASA_PERCENTAGE      BFACTOR  SWITCHBILITY  AGGREGABILITY  \\\n",
       "count  7070.000000      7070.000000  7070.000000   6704.000000    5335.000000   \n",
       "mean     32.105675         0.150610    56.445569      0.384835       5.017957   \n",
       "std      39.148405         0.176877    71.760154      0.890387      17.607171   \n",
       "min       0.000000         0.000000     0.000000      0.000000       0.000000   \n",
       "25%       0.670000         0.000000    19.765000      0.000000       0.000000   \n",
       "50%      15.208000         0.070000    37.342500      0.009150       0.000000   \n",
       "75%      52.149250         0.270000    61.138125      0.277000       0.163000   \n",
       "max     246.410000         0.750000   755.610000      8.720000     100.000000   \n",
       "\n",
       "       CONSERVATION  VARIATION_ENERGY  \n",
       "count   2742.000000       7418.000000  \n",
       "mean       0.330460          2.914977  \n",
       "std        0.188785          4.842729  \n",
       "min        0.130000        -12.642100  \n",
       "25%        0.250000          0.257785  \n",
       "50%        0.300000          1.512550  \n",
       "75%        0.370000          3.885900  \n",
       "max        4.770000         57.513400  "
      ]
     },
     "execution_count": 28,
     "metadata": {},
     "output_type": "execute_result"
    }
   ],
   "source": [
    "varq.describe()"
   ]
  },
  {
   "cell_type": "code",
   "execution_count": 29,
   "metadata": {
    "ExecuteTime": {
     "end_time": "2018-07-22T15:03:08.878648Z",
     "start_time": "2018-07-22T15:03:08.799447Z"
    },
    "collapsed": true
   },
   "outputs": [],
   "source": [
    "corr = varq.drop(['3DID', 'PDB'], axis=1).corr()"
   ]
  },
  {
   "cell_type": "code",
   "execution_count": 30,
   "metadata": {
    "ExecuteTime": {
     "end_time": "2018-07-22T15:03:10.342078Z",
     "start_time": "2018-07-22T15:03:10.282515Z"
    }
   },
   "outputs": [
    {
     "data": {
      "text/html": [
       "<div>\n",
       "<table border=\"1\" class=\"dataframe\">\n",
       "  <thead>\n",
       "    <tr style=\"text-align: right;\">\n",
       "      <th></th>\n",
       "      <th>SASA</th>\n",
       "      <th>SASA_PERCENTAGE</th>\n",
       "      <th>BFACTOR</th>\n",
       "      <th>SWITCHBILITY</th>\n",
       "      <th>AGGREGABILITY</th>\n",
       "      <th>CONSERVATION</th>\n",
       "      <th>VARIATION_ENERGY</th>\n",
       "    </tr>\n",
       "  </thead>\n",
       "  <tbody>\n",
       "    <tr>\n",
       "      <th>SASA</th>\n",
       "      <td>1.000000</td>\n",
       "      <td>0.963621</td>\n",
       "      <td>0.079879</td>\n",
       "      <td>-0.038746</td>\n",
       "      <td>0.014785</td>\n",
       "      <td>0.016618</td>\n",
       "      <td>-0.349207</td>\n",
       "    </tr>\n",
       "    <tr>\n",
       "      <th>SASA_PERCENTAGE</th>\n",
       "      <td>0.963621</td>\n",
       "      <td>1.000000</td>\n",
       "      <td>0.112154</td>\n",
       "      <td>-0.044397</td>\n",
       "      <td>0.019902</td>\n",
       "      <td>0.028529</td>\n",
       "      <td>-0.373402</td>\n",
       "    </tr>\n",
       "    <tr>\n",
       "      <th>BFACTOR</th>\n",
       "      <td>0.079879</td>\n",
       "      <td>0.112154</td>\n",
       "      <td>1.000000</td>\n",
       "      <td>0.055923</td>\n",
       "      <td>0.151166</td>\n",
       "      <td>-0.026455</td>\n",
       "      <td>-0.081219</td>\n",
       "    </tr>\n",
       "    <tr>\n",
       "      <th>SWITCHBILITY</th>\n",
       "      <td>-0.038746</td>\n",
       "      <td>-0.044397</td>\n",
       "      <td>0.055923</td>\n",
       "      <td>1.000000</td>\n",
       "      <td>0.032105</td>\n",
       "      <td>0.025763</td>\n",
       "      <td>-0.030136</td>\n",
       "    </tr>\n",
       "    <tr>\n",
       "      <th>AGGREGABILITY</th>\n",
       "      <td>0.014785</td>\n",
       "      <td>0.019902</td>\n",
       "      <td>0.151166</td>\n",
       "      <td>0.032105</td>\n",
       "      <td>1.000000</td>\n",
       "      <td>-0.009340</td>\n",
       "      <td>-0.041672</td>\n",
       "    </tr>\n",
       "    <tr>\n",
       "      <th>CONSERVATION</th>\n",
       "      <td>0.016618</td>\n",
       "      <td>0.028529</td>\n",
       "      <td>-0.026455</td>\n",
       "      <td>0.025763</td>\n",
       "      <td>-0.009340</td>\n",
       "      <td>1.000000</td>\n",
       "      <td>-0.033151</td>\n",
       "    </tr>\n",
       "    <tr>\n",
       "      <th>VARIATION_ENERGY</th>\n",
       "      <td>-0.349207</td>\n",
       "      <td>-0.373402</td>\n",
       "      <td>-0.081219</td>\n",
       "      <td>-0.030136</td>\n",
       "      <td>-0.041672</td>\n",
       "      <td>-0.033151</td>\n",
       "      <td>1.000000</td>\n",
       "    </tr>\n",
       "  </tbody>\n",
       "</table>\n",
       "</div>"
      ],
      "text/plain": [
       "                      SASA  SASA_PERCENTAGE   BFACTOR  SWITCHBILITY  \\\n",
       "SASA              1.000000         0.963621  0.079879     -0.038746   \n",
       "SASA_PERCENTAGE   0.963621         1.000000  0.112154     -0.044397   \n",
       "BFACTOR           0.079879         0.112154  1.000000      0.055923   \n",
       "SWITCHBILITY     -0.038746        -0.044397  0.055923      1.000000   \n",
       "AGGREGABILITY     0.014785         0.019902  0.151166      0.032105   \n",
       "CONSERVATION      0.016618         0.028529 -0.026455      0.025763   \n",
       "VARIATION_ENERGY -0.349207        -0.373402 -0.081219     -0.030136   \n",
       "\n",
       "                  AGGREGABILITY  CONSERVATION  VARIATION_ENERGY  \n",
       "SASA                   0.014785      0.016618         -0.349207  \n",
       "SASA_PERCENTAGE        0.019902      0.028529         -0.373402  \n",
       "BFACTOR                0.151166     -0.026455         -0.081219  \n",
       "SWITCHBILITY           0.032105      0.025763         -0.030136  \n",
       "AGGREGABILITY          1.000000     -0.009340         -0.041672  \n",
       "CONSERVATION          -0.009340      1.000000         -0.033151  \n",
       "VARIATION_ENERGY      -0.041672     -0.033151          1.000000  "
      ]
     },
     "execution_count": 30,
     "metadata": {},
     "output_type": "execute_result"
    }
   ],
   "source": [
    "corr"
   ]
  },
  {
   "cell_type": "code",
   "execution_count": 31,
   "metadata": {
    "ExecuteTime": {
     "end_time": "2018-07-22T15:03:14.327357Z",
     "start_time": "2018-07-22T15:03:12.344456Z"
    },
    "scrolled": true
   },
   "outputs": [
    {
     "data": {
      "image/png": "[encoded data removed]",
      "text/plain": [
       "<matplotlib.figure.Figure at 0x7f6ebe458278>"
      ]
     },
     "metadata": {},
     "output_type": "display_data"
    }
   ],
   "source": [
    "plot = sns.heatmap(corr)\n",
    "figure = plot.get_figure()"
   ]
  },
  {
   "cell_type": "markdown",
   "metadata": {},
   "source": [
    "### Machine Learning"
   ]
  },
  {
   "cell_type": "code",
   "execution_count": 56,
   "metadata": {
    "ExecuteTime": {
     "end_time": "2018-07-22T15:30:20.034446Z",
     "start_time": "2018-07-22T15:30:20.006586Z"
    }
   },
   "outputs": [],
   "source": [
    "# feature_union = \n",
    "impute = ('imputer', Imputer(missing_values=\"NaN\", strategy=\"median\"))\n",
    "scale = ('scaler', StandardScaler())\n",
    "\n",
    "model_dict = {\n",
    "    'lr':{'pipe':[impute, scale, ('lr', LogisticRegression())],\n",
    "        'params':[{'lr__C' : [.001, .01, .1, 1, 10, 100, 1000], 'lr__class_weight':[None, 'balanced']}],\n",
    "        'name':'LogisticRegression'\n",
    "    },\n",
    "    'rf':{'pipe':[impute, ('rf', RandomForestClassifier(random_state = 100))],\n",
    "        'params':[{'rf__max_depth':[3,5,7], 'rf__n_estimators':[10,50,100], 'rf__max_features':[4,'sqrt',0.2]}],\n",
    "        'name':'Random Forest'\n",
    "    },\n",
    "    'svc':{'pipe': [impute, scale, ('svc', SVC(kernel='rbf'))],\n",
    "           'params':[{'svc__kernel': ['rbf'], 'svc__gamma': [1e-2, 1e-3, 1e-4, 1e-5],\n",
    "                'svc__C': [0.001, 0.10, 0.1, 10, 25, 50, 100, 1000]}]\n",
    "        \n",
    "    },\n",
    "}"
   ]
  },
  {
   "cell_type": "code",
   "execution_count": 57,
   "metadata": {
    "ExecuteTime": {
     "end_time": "2018-07-22T15:30:21.845407Z",
     "start_time": "2018-07-22T15:30:21.796946Z"
    },
    "collapsed": true
   },
   "outputs": [],
   "source": [
    "le = LabelEncoder()\n",
    "\n",
    "X = varq[~varq.TYPE.isnull()].drop(['3DID', 'PDB', 'TYPE'], 1)\n",
    "\n",
    "# .replace({\"ACTIVE_SITE\": {\"BINDING\": 1, np.nan: 0}})\n",
    "y = le.fit_transform(varq[~varq.TYPE.isnull()].TYPE)\n",
    "\n",
    "X_train, X_test, y_train, y_test = train_test_split(X, y, test_size=0.33, random_state=42, stratify=y)"
   ]
  },
  {
   "cell_type": "markdown",
   "metadata": {},
   "source": [
    "#### Random Forest"
   ]
  },
  {
   "cell_type": "code",
   "execution_count": 58,
   "metadata": {
    "ExecuteTime": {
     "end_time": "2018-07-22T15:30:22.796857Z",
     "start_time": "2018-07-22T15:30:22.773335Z"
    },
    "collapsed": true
   },
   "outputs": [],
   "source": [
    "folds = 3\n",
    "skf = StratifiedKFold(n_splits=folds, shuffle=True, random_state=1001)\n",
    "algorithm = 'rf'\n",
    "model = Pipeline(model_dict[algorithm]['pipe'])\n",
    "param_list = [model_dict[algorithm]['params']][0]\n",
    "gs = GridSearchCV(model, param_list, cv=skf.split(X_train, y_train), n_jobs=2, \n",
    "                  scoring='roc_auc', verbose=1, refit=True)"
   ]
  },
  {
   "cell_type": "code",
   "execution_count": 59,
   "metadata": {
    "ExecuteTime": {
     "end_time": "2018-07-22T15:30:23.441143Z",
     "start_time": "2018-07-22T15:30:23.421356Z"
    }
   },
   "outputs": [
    {
     "data": {
      "text/plain": [
       "(2448, 7)"
      ]
     },
     "execution_count": 59,
     "metadata": {},
     "output_type": "execute_result"
    }
   ],
   "source": [
    "X_test.shape"
   ]
  },
  {
   "cell_type": "code",
   "execution_count": 60,
   "metadata": {
    "ExecuteTime": {
     "end_time": "2018-07-22T15:30:23.939527Z",
     "start_time": "2018-07-22T15:30:23.911015Z"
    }
   },
   "outputs": [
    {
     "data": {
      "text/plain": [
       "1    1774\n",
       "0     674\n",
       "dtype: int64"
      ]
     },
     "execution_count": 60,
     "metadata": {},
     "output_type": "execute_result"
    }
   ],
   "source": [
    "pd.Series(y_test).value_counts()"
   ]
  },
  {
   "cell_type": "code",
   "execution_count": 61,
   "metadata": {
    "ExecuteTime": {
     "end_time": "2018-07-22T15:30:32.999942Z",
     "start_time": "2018-07-22T15:30:24.834704Z"
    },
    "scrolled": true
   },
   "outputs": [
    {
     "name": "stdout",
     "output_type": "stream",
     "text": [
      "Fitting 3 folds for each of 27 candidates, totalling 81 fits\n"
     ]
    },
    {
     "name": "stderr",
     "output_type": "stream",
     "text": [
      "[Parallel(n_jobs=2)]: Done  78 out of  81 | elapsed:    7.1s remaining:    0.3s\n",
      "[Parallel(n_jobs=2)]: Done  81 out of  81 | elapsed:    7.6s finished\n"
     ]
    },
    {
     "data": {
      "text/plain": [
       "GridSearchCV(cv=<generator object _BaseKFold.split at 0x7f6ebb244150>,\n",
       "       error_score='raise',\n",
       "       estimator=Pipeline(steps=[('imputer', Imputer(axis=0, copy=True, missing_values='NaN', strategy='median', verbose=0)), ('rf', RandomForestClassifier(bootstrap=True, class_weight=None, criterion='gini',\n",
       "            max_depth=None, max_features='auto', max_leaf_nodes=None,\n",
       "            min_impurity_spl...imators=10, n_jobs=1, oob_score=False, random_state=100,\n",
       "            verbose=0, warm_start=False))]),\n",
       "       fit_params={}, iid=True, n_jobs=2,\n",
       "       param_grid=[{'rf__max_depth': [3, 5, 7], 'rf__n_estimators': [10, 50, 100], 'rf__max_features': [4, 'sqrt', 0.2]}],\n",
       "       pre_dispatch='2*n_jobs', refit=True, return_train_score=True,\n",
       "       scoring='roc_auc', verbose=1)"
      ]
     },
     "execution_count": 61,
     "metadata": {},
     "output_type": "execute_result"
    }
   ],
   "source": [
    "gs.fit(X_train, y_train)"
   ]
  },
  {
   "cell_type": "code",
   "execution_count": 62,
   "metadata": {
    "ExecuteTime": {
     "end_time": "2018-07-22T15:31:40.870838Z",
     "start_time": "2018-07-22T15:31:40.858174Z"
    },
    "collapsed": true
   },
   "outputs": [],
   "source": [
    "rf = gs.best_estimator_"
   ]
  },
  {
   "cell_type": "code",
   "execution_count": 63,
   "metadata": {
    "ExecuteTime": {
     "end_time": "2018-07-22T15:31:41.809657Z",
     "start_time": "2018-07-22T15:31:41.788943Z"
    }
   },
   "outputs": [
    {
     "data": {
      "text/plain": [
       "0.73527168270566057"
      ]
     },
     "execution_count": 63,
     "metadata": {},
     "output_type": "execute_result"
    }
   ],
   "source": [
    "gs.best_score_"
   ]
  },
  {
   "cell_type": "code",
   "execution_count": 64,
   "metadata": {
    "ExecuteTime": {
     "end_time": "2018-07-22T15:31:48.338445Z",
     "start_time": "2018-07-22T15:31:48.075842Z"
    },
    "scrolled": false
   },
   "outputs": [
    {
     "data": {
      "image/png": "[encoded data removed]",
      "text/plain": [
       "<matplotlib.figure.Figure at 0x7f6ebe5de860>"
      ]
     },
     "metadata": {},
     "output_type": "display_data"
    }
   ],
   "source": [
    "# importances = [(x_train.columns[e], x) for e, x in enumerate(rf.steps[1][1].feature_importances_)]\n",
    "# importances.sort(key=operator.itemgetter(1), reverse=True)\n",
    "# figsize(8,5)\n",
    "# plt.title(\"Feature importances\", fontsize=16)\n",
    "# plt.bar(np.arange(len(importances)), [y for x, y in importances], color=\"g\", align=\"center\")\n",
    "# plt.xticks(range(len(importances)), [x for x, y in importances], rotation='vertical', fontsize=16)\n",
    "# # plt.xlim([0, range(len(importances))])\n",
    "# plt.show()\n",
    "\n",
    "\n",
    "importances = [(X_train.columns[e], x) for e, x in enumerate(rf.steps[1][1].feature_importances_)][:10]\n",
    "importances.sort(key=operator.itemgetter(1), reverse=False)\n",
    "figsize(8, 5)\n",
    "# plt.title(\"Importancia\", fontsize=16)\n",
    "plt.barh(np.arange(len(importances)), [y for x, y in importances], 0.3, color=\"g\", align=\"center\")\n",
    "plt.yticks(range(len(importances)), [x for x, y in importances], rotation='horizontal', fontsize=10, fontweight='bold')\n",
    "plt.xticks(fontweight='bold')\n",
    "# plt.xlim([0, range(len(importances))])\n",
    "# plt.show()\n",
    "plt.tight_layout()\n",
    "\n",
    "# plt.savefig(\"../documents/latex/figures/varq/importances_varq.pdf\", bbox_inches='tight', pad_inches=0.1)\n"
   ]
  },
  {
   "cell_type": "code",
   "execution_count": 65,
   "metadata": {
    "ExecuteTime": {
     "end_time": "2018-07-22T15:31:54.903211Z",
     "start_time": "2018-07-22T15:31:54.885171Z"
    }
   },
   "outputs": [
    {
     "data": {
      "text/plain": [
       "array([1, 1, 1, ..., 1, 1, 1])"
      ]
     },
     "execution_count": 65,
     "metadata": {},
     "output_type": "execute_result"
    }
   ],
   "source": [
    "y_test"
   ]
  },
  {
   "cell_type": "code",
   "execution_count": 66,
   "metadata": {
    "ExecuteTime": {
     "end_time": "2018-07-22T15:31:56.690247Z",
     "start_time": "2018-07-22T15:31:56.657805Z"
    }
   },
   "outputs": [
    {
     "name": "stdout",
     "output_type": "stream",
     "text": [
      "             precision    recall  f1-score   support\n",
      "\n",
      "          0       0.58      0.27      0.37       674\n",
      "          1       0.77      0.92      0.84      1774\n",
      "\n",
      "avg / total       0.72      0.74      0.71      2448\n",
      "\n"
     ]
    }
   ],
   "source": [
    "print(classification_report(y_test, rf.predict(X_test)))"
   ]
  },
  {
   "cell_type": "code",
   "execution_count": 67,
   "metadata": {
    "ExecuteTime": {
     "end_time": "2018-07-22T15:32:00.590455Z",
     "start_time": "2018-07-22T15:32:00.551986Z"
    },
    "collapsed": true
   },
   "outputs": [],
   "source": [
    "fpr, tpr, _ = roc_curve(y_test, rf.predict_proba(X_test)[:, 1])\n",
    "roc_auc = auc(fpr, tpr)"
   ]
  },
  {
   "cell_type": "code",
   "execution_count": 68,
   "metadata": {
    "ExecuteTime": {
     "end_time": "2018-07-22T15:32:01.001887Z",
     "start_time": "2018-07-22T15:32:00.989101Z"
    }
   },
   "outputs": [
    {
     "data": {
      "text/plain": [
       "(902,)"
      ]
     },
     "execution_count": 68,
     "metadata": {},
     "output_type": "execute_result"
    }
   ],
   "source": [
    "fpr.shape"
   ]
  },
  {
   "cell_type": "code",
   "execution_count": 69,
   "metadata": {
    "ExecuteTime": {
     "end_time": "2018-07-22T15:32:02.414736Z",
     "start_time": "2018-07-22T15:32:01.750444Z"
    }
   },
   "outputs": [
    {
     "data": {
      "image/png": "[encoded data removed]",
      "text/plain": [
       "<matplotlib.figure.Figure at 0x7f6ebe579668>"
      ]
     },
     "metadata": {},
     "output_type": "display_data"
    }
   ],
   "source": [
    "figsize(7,7)\n",
    "\n",
    "lw = 2\n",
    "plt.plot(fpr, tpr, color='darkorange',\n",
    "         lw=lw, label='ROC curve (area = %0.2f)' % roc_auc)\n",
    "plt.plot([0, 1], [0, 1], color='navy', lw=lw, linestyle='--')\n",
    "plt.xlim([0.0, 1.0])\n",
    "plt.ylim([0.0, 1.05])\n",
    "plt.xlabel('False Positive Rate')\n",
    "plt.ylabel('True Positive Rate')\n",
    "plt.title('AUC Curve')\n",
    "plt.legend(loc=\"lower right\", prop={'size': 12})\n",
    "\n",
    "plt.savefig(\"../documents/latex/figures/3/auc_varq.pdf\", bbox_inches='tight', pad_inches=0.1)"
   ]
  },
  {
   "cell_type": "markdown",
   "metadata": {},
   "source": [
    "#### Logistic Regression"
   ]
  },
  {
   "cell_type": "code",
   "execution_count": 70,
   "metadata": {
    "ExecuteTime": {
     "end_time": "2018-07-22T15:32:58.737364Z",
     "start_time": "2018-07-22T15:32:58.722288Z"
    },
    "collapsed": true
   },
   "outputs": [],
   "source": [
    "folds = 3\n",
    "skf = StratifiedKFold(n_splits=folds, shuffle=True, random_state=1001)\n",
    "algorithm = 'lr'\n",
    "model = Pipeline(model_dict[algorithm]['pipe'])\n",
    "param_list = [model_dict[algorithm]['params']][0]\n",
    "gs = GridSearchCV(model, param_list, cv=skf.split(X_train, y_train), n_jobs=2, \n",
    "                  scoring='roc_auc', verbose=1, refit=True)"
   ]
  },
  {
   "cell_type": "code",
   "execution_count": 71,
   "metadata": {
    "ExecuteTime": {
     "end_time": "2018-07-22T15:33:00.347035Z",
     "start_time": "2018-07-22T15:32:59.560976Z"
    },
    "scrolled": true
   },
   "outputs": [
    {
     "name": "stdout",
     "output_type": "stream",
     "text": [
      "Fitting 3 folds for each of 14 candidates, totalling 42 fits\n"
     ]
    },
    {
     "name": "stderr",
     "output_type": "stream",
     "text": [
      "[Parallel(n_jobs=2)]: Done  42 out of  42 | elapsed:    0.6s finished\n"
     ]
    },
    {
     "data": {
      "text/plain": [
       "GridSearchCV(cv=<generator object _BaseKFold.split at 0x7f6ebe985f10>,\n",
       "       error_score='raise',\n",
       "       estimator=Pipeline(steps=[('imputer', Imputer(axis=0, copy=True, missing_values='NaN', strategy='median', verbose=0)), ('scaler', StandardScaler(copy=True, with_mean=True, with_std=True)), ('lr', LogisticRegression(C=1.0, class_weight=None, dual=False, fit_intercept=True,\n",
       "          intercept_scaling=1, max_iter=100, multi_class='ovr', n_jobs=1,\n",
       "          penalty='l2', random_state=None, solver='liblinear', tol=0.0001,\n",
       "          verbose=0, warm_start=False))]),\n",
       "       fit_params={}, iid=True, n_jobs=2,\n",
       "       param_grid=[{'lr__C': [0.001, 0.01, 0.1, 1, 10, 100, 1000], 'lr__class_weight': [None, 'balanced']}],\n",
       "       pre_dispatch='2*n_jobs', refit=True, return_train_score=True,\n",
       "       scoring='roc_auc', verbose=1)"
      ]
     },
     "execution_count": 71,
     "metadata": {},
     "output_type": "execute_result"
    }
   ],
   "source": [
    "gs.fit(X_train, y_train)"
   ]
  },
  {
   "cell_type": "code",
   "execution_count": 72,
   "metadata": {
    "ExecuteTime": {
     "end_time": "2018-07-22T15:33:03.214013Z",
     "start_time": "2018-07-22T15:33:03.202906Z"
    },
    "collapsed": true
   },
   "outputs": [],
   "source": [
    "lr = gs.best_estimator_"
   ]
  },
  {
   "cell_type": "code",
   "execution_count": 73,
   "metadata": {
    "ExecuteTime": {
     "end_time": "2018-07-22T15:33:04.157462Z",
     "start_time": "2018-07-22T15:33:04.137159Z"
    }
   },
   "outputs": [
    {
     "data": {
      "text/plain": [
       "0.71280347074685968"
      ]
     },
     "execution_count": 73,
     "metadata": {},
     "output_type": "execute_result"
    }
   ],
   "source": [
    "gs.best_score_"
   ]
  },
  {
   "cell_type": "code",
   "execution_count": 77,
   "metadata": {
    "ExecuteTime": {
     "end_time": "2018-07-22T15:33:27.670492Z",
     "start_time": "2018-07-22T15:33:27.656778Z"
    }
   },
   "outputs": [
    {
     "data": {
      "text/plain": [
       "('lr',\n",
       " LogisticRegression(C=1, class_weight=None, dual=False, fit_intercept=True,\n",
       "           intercept_scaling=1, max_iter=100, multi_class='ovr', n_jobs=1,\n",
       "           penalty='l2', random_state=None, solver='liblinear', tol=0.0001,\n",
       "           verbose=0, warm_start=False))"
      ]
     },
     "execution_count": 77,
     "metadata": {},
     "output_type": "execute_result"
    }
   ],
   "source": [
    "lr.steps[2]"
   ]
  },
  {
   "cell_type": "code",
   "execution_count": 78,
   "metadata": {
    "ExecuteTime": {
     "end_time": "2018-07-22T15:33:31.240948Z",
     "start_time": "2018-07-22T15:33:31.234784Z"
    },
    "scrolled": false
   },
   "outputs": [],
   "source": [
    "importances = list(zip(X_train.columns.tolist(), lr.steps[2][1].coef_[0].tolist()))"
   ]
  },
  {
   "cell_type": "code",
   "execution_count": 86,
   "metadata": {
    "ExecuteTime": {
     "end_time": "2018-07-22T15:35:02.072801Z",
     "start_time": "2018-07-22T15:35:01.866982Z"
    }
   },
   "outputs": [
    {
     "data": {
      "image/png": "[encoded data removed]",
      "text/plain": [
       "<matplotlib.figure.Figure at 0x7f6ea3dd6198>"
      ]
     },
     "metadata": {},
     "output_type": "display_data"
    }
   ],
   "source": [
    "figsize(20,6)\n",
    "# plt.title(\"Logistic Regression Coefficients\", fontsize=16)\n",
    "plt.barh(np.arange(len(importances)), [y for x, y in importances], color=\"g\", align=\"center\")\n",
    "plt.xlabel(\"Coeficientes\", fontsize=20)\n",
    "plt.xticks(fontsize=18)\n",
    "plt.yticks(range(len(importances)), [x for x, y in importances], rotation='horizontal', fontsize=16)\n",
    "# plt.xticks(np.arange(-1.1,.7,.05))\n",
    "plt.show()"
   ]
  },
  {
   "cell_type": "code",
   "execution_count": null,
   "metadata": {
    "collapsed": true
   },
   "outputs": [],
   "source": []
  }
 ],
 "metadata": {
  "kernelspec": {
   "display_name": "Python 3",
   "language": "python",
   "name": "python3"
  },
  "language_info": {
   "codemirror_mode": {
    "name": "ipython",
    "version": 3
   },
   "file_extension": ".py",
   "mimetype": "text/x-python",
   "name": "python",
   "nbconvert_exporter": "python",
   "pygments_lexer": "ipython3",
   "version": "3.6.3"
  },
  "varInspector": {
   "cols": {
    "lenName": 16,
    "lenType": 16,
    "lenVar": 40
   },
   "kernels_config": {
    "python": {
     "delete_cmd_postfix": "",
     "delete_cmd_prefix": "del ",
     "library": "var_list.py",
     "varRefreshCmd": "print(var_dic_list())"
    },
    "r": {
     "delete_cmd_postfix": ") ",
     "delete_cmd_prefix": "rm(",
     "library": "var_list.r",
     "varRefreshCmd": "cat(var_dic_list()) "
    }
   },
   "types_to_exclude": [
    "module",
    "function",
    "builtin_function_or_method",
    "instance",
    "_Feature"
   ],
   "window_display": false
  }
 },
 "nbformat": 4,
 "nbformat_minor": 2
}
