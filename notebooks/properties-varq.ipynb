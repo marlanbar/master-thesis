{
 "cells": [
  {
   "cell_type": "markdown",
   "metadata": {},
   "source": [
    "### Imports"
   ]
  },
  {
   "cell_type": "code",
   "execution_count": 1,
   "metadata": {
    "ExecuteTime": {
     "end_time": "2018-05-01T12:03:39.458341Z",
     "start_time": "2018-05-01T12:03:38.733743Z"
    },
    "collapsed": true
   },
   "outputs": [],
   "source": [
    "import operator\n",
    "import pandas as pd\n",
    "import matplotlib.pyplot as plt\n",
    "import seaborn as sns\n",
    "import numpy as np\n",
    "from sklearn import feature_selection\n",
    "from sklearn.ensemble import RandomForestClassifier, AdaBoostClassifier\n",
    "from sklearn.ensemble import GradientBoostingClassifier\n",
    "from sklearn.linear_model import LogisticRegression\n",
    "from sklearn.pipeline import Pipeline, make_pipeline\n",
    "from sklearn.pipeline import FeatureUnion\n",
    "from sklearn.preprocessing import StandardScaler, RobustScaler, Imputer, LabelEncoder\n",
    "from sklearn.model_selection import GridSearchCV, RandomizedSearchCV, train_test_split, StratifiedKFold\n",
    "from sklearn.metrics import accuracy_score, f1_score, confusion_matrix, classification_report, roc_curve, auc\n",
    "from IPython.core.pylabtools import figsize \n",
    "%matplotlib inline"
   ]
  },
  {
   "cell_type": "markdown",
   "metadata": {},
   "source": [
    "### Aux Functions"
   ]
  },
  {
   "cell_type": "markdown",
   "metadata": {},
   "source": [
    "### Analysis"
   ]
  },
  {
   "cell_type": "code",
   "execution_count": 2,
   "metadata": {
    "ExecuteTime": {
     "end_time": "2018-05-01T12:03:39.877268Z",
     "start_time": "2018-05-01T12:03:39.812999Z"
    },
    "collapsed": true
   },
   "outputs": [],
   "source": [
    "varq = pd.read_csv(\"../data/processed/properties-varq.tab.gz\", sep=\"\\t\", index_col=\"MUTANT\")"
   ]
  },
  {
   "cell_type": "code",
   "execution_count": 3,
   "metadata": {
    "ExecuteTime": {
     "end_time": "2018-05-01T12:03:40.293467Z",
     "start_time": "2018-05-01T12:03:40.268156Z"
    }
   },
   "outputs": [
    {
     "data": {
      "text/plain": [
       "Index(['SASA', 'SASA_PERCENTAGE', 'BFACTOR', 'SWITCHBILITY', 'AGGREGABILITY',\n",
       "       'CONSERVATION', '3DID', 'PDB', 'ACTIVE_SITE', 'VARIATION_ENERGY',\n",
       "       'TYPE'],\n",
       "      dtype='object')"
      ]
     },
     "execution_count": 3,
     "metadata": {},
     "output_type": "execute_result"
    }
   ],
   "source": [
    "varq.columns"
   ]
  },
  {
   "cell_type": "code",
   "execution_count": 4,
   "metadata": {
    "ExecuteTime": {
     "end_time": "2018-05-01T12:03:40.742403Z",
     "start_time": "2018-05-01T12:03:40.730198Z"
    }
   },
   "outputs": [
    {
     "data": {
      "text/plain": [
       "(17869,)"
      ]
     },
     "execution_count": 4,
     "metadata": {},
     "output_type": "execute_result"
    }
   ],
   "source": [
    "varq.AGGREGABILITY.shape"
   ]
  },
  {
   "cell_type": "code",
   "execution_count": 5,
   "metadata": {
    "ExecuteTime": {
     "end_time": "2018-05-01T12:03:41.055402Z",
     "start_time": "2018-05-01T12:03:41.047288Z"
    }
   },
   "outputs": [
    {
     "data": {
      "text/plain": [
       "5570"
      ]
     },
     "execution_count": 5,
     "metadata": {},
     "output_type": "execute_result"
    }
   ],
   "source": [
    "varq.AGGREGABILITY.isnull().sum()"
   ]
  },
  {
   "cell_type": "code",
   "execution_count": 6,
   "metadata": {
    "ExecuteTime": {
     "end_time": "2018-05-01T12:03:41.377936Z",
     "start_time": "2018-05-01T12:03:41.351401Z"
    }
   },
   "outputs": [
    {
     "data": {
      "text/plain": [
       "0"
      ]
     },
     "execution_count": 6,
     "metadata": {},
     "output_type": "execute_result"
    }
   ],
   "source": [
    "varq.VARIATION_ENERGY.isnull().sum()"
   ]
  },
  {
   "cell_type": "code",
   "execution_count": 7,
   "metadata": {
    "ExecuteTime": {
     "end_time": "2018-05-01T12:03:41.590896Z",
     "start_time": "2018-05-01T12:03:41.579686Z"
    }
   },
   "outputs": [
    {
     "data": {
      "text/plain": [
       "(17869,)"
      ]
     },
     "execution_count": 7,
     "metadata": {},
     "output_type": "execute_result"
    }
   ],
   "source": [
    "varq.index.unique().shape"
   ]
  },
  {
   "cell_type": "code",
   "execution_count": 8,
   "metadata": {
    "ExecuteTime": {
     "end_time": "2018-05-01T12:03:41.807008Z",
     "start_time": "2018-05-01T12:03:41.793723Z"
    }
   },
   "outputs": [
    {
     "name": "stdout",
     "output_type": "stream",
     "text": [
      "Size: \n",
      " (17869, 11)\n",
      "\n",
      "Value counts of TYPE: \n",
      " Benign        11763\n",
      "Pathogenic     6106\n",
      "Name: TYPE, dtype: int64\n"
     ]
    }
   ],
   "source": [
    "print(\"Size: \\n\", varq.shape)\n",
    "print(\"\\nValue counts of TYPE: \\n\", varq.TYPE.value_counts())"
   ]
  },
  {
   "cell_type": "code",
   "execution_count": 9,
   "metadata": {
    "ExecuteTime": {
     "end_time": "2018-05-01T12:03:42.126749Z",
     "start_time": "2018-05-01T12:03:42.059995Z"
    },
    "scrolled": true
   },
   "outputs": [
    {
     "data": {
      "text/html": [
       "<div>\n",
       "<table border=\"1\" class=\"dataframe\">\n",
       "  <thead>\n",
       "    <tr style=\"text-align: right;\">\n",
       "      <th></th>\n",
       "      <th>PDB</th>\n",
       "      <th>ACTIVE_SITE</th>\n",
       "      <th>3DID</th>\n",
       "      <th>TYPE</th>\n",
       "    </tr>\n",
       "  </thead>\n",
       "  <tbody>\n",
       "    <tr>\n",
       "      <th>count</th>\n",
       "      <td>17869</td>\n",
       "      <td>981</td>\n",
       "      <td>17869</td>\n",
       "      <td>17869</td>\n",
       "    </tr>\n",
       "    <tr>\n",
       "      <th>unique</th>\n",
       "      <td>2</td>\n",
       "      <td>1</td>\n",
       "      <td>2</td>\n",
       "      <td>2</td>\n",
       "    </tr>\n",
       "    <tr>\n",
       "      <th>top</th>\n",
       "      <td>False</td>\n",
       "      <td>BINDING</td>\n",
       "      <td>False</td>\n",
       "      <td>Benign</td>\n",
       "    </tr>\n",
       "    <tr>\n",
       "      <th>freq</th>\n",
       "      <td>15502</td>\n",
       "      <td>981</td>\n",
       "      <td>14431</td>\n",
       "      <td>11763</td>\n",
       "    </tr>\n",
       "  </tbody>\n",
       "</table>\n",
       "</div>"
      ],
      "text/plain": [
       "          PDB ACTIVE_SITE   3DID    TYPE\n",
       "count   17869         981  17869   17869\n",
       "unique      2           1      2       2\n",
       "top     False     BINDING  False  Benign\n",
       "freq    15502         981  14431   11763"
      ]
     },
     "execution_count": 9,
     "metadata": {},
     "output_type": "execute_result"
    }
   ],
   "source": [
    "varq[[\"PDB\",\"ACTIVE_SITE\",\"3DID\",\"TYPE\"]].describe()"
   ]
  },
  {
   "cell_type": "code",
   "execution_count": 10,
   "metadata": {
    "ExecuteTime": {
     "end_time": "2018-05-01T12:03:42.456903Z",
     "start_time": "2018-05-01T12:03:42.368242Z"
    }
   },
   "outputs": [
    {
     "data": {
      "text/html": [
       "<div>\n",
       "<table border=\"1\" class=\"dataframe\">\n",
       "  <thead>\n",
       "    <tr style=\"text-align: right;\">\n",
       "      <th></th>\n",
       "      <th>SASA</th>\n",
       "      <th>SASA_PERCENTAGE</th>\n",
       "      <th>BFACTOR</th>\n",
       "      <th>SWITCHBILITY</th>\n",
       "      <th>AGGREGABILITY</th>\n",
       "      <th>CONSERVATION</th>\n",
       "      <th>VARIATION_ENERGY</th>\n",
       "    </tr>\n",
       "  </thead>\n",
       "  <tbody>\n",
       "    <tr>\n",
       "      <th>count</th>\n",
       "      <td>16798.000000</td>\n",
       "      <td>16798.000000</td>\n",
       "      <td>16798.000000</td>\n",
       "      <td>15651.000000</td>\n",
       "      <td>12299.000000</td>\n",
       "      <td>6099.000000</td>\n",
       "      <td>17869.000000</td>\n",
       "    </tr>\n",
       "    <tr>\n",
       "      <th>mean</th>\n",
       "      <td>36.869348</td>\n",
       "      <td>0.172637</td>\n",
       "      <td>54.651370</td>\n",
       "      <td>0.403744</td>\n",
       "      <td>4.983431</td>\n",
       "      <td>0.353983</td>\n",
       "      <td>2.250763</td>\n",
       "    </tr>\n",
       "    <tr>\n",
       "      <th>std</th>\n",
       "      <td>40.633632</td>\n",
       "      <td>0.181814</td>\n",
       "      <td>65.762465</td>\n",
       "      <td>0.935355</td>\n",
       "      <td>17.533670</td>\n",
       "      <td>0.359287</td>\n",
       "      <td>4.056646</td>\n",
       "    </tr>\n",
       "    <tr>\n",
       "      <th>min</th>\n",
       "      <td>0.000000</td>\n",
       "      <td>0.000000</td>\n",
       "      <td>0.000000</td>\n",
       "      <td>0.000000</td>\n",
       "      <td>0.000000</td>\n",
       "      <td>0.130000</td>\n",
       "      <td>-13.530900</td>\n",
       "    </tr>\n",
       "    <tr>\n",
       "      <th>25%</th>\n",
       "      <td>2.187000</td>\n",
       "      <td>0.010000</td>\n",
       "      <td>19.905625</td>\n",
       "      <td>0.000000</td>\n",
       "      <td>0.000000</td>\n",
       "      <td>0.250000</td>\n",
       "      <td>0.133057</td>\n",
       "    </tr>\n",
       "    <tr>\n",
       "      <th>50%</th>\n",
       "      <td>22.220000</td>\n",
       "      <td>0.110000</td>\n",
       "      <td>37.853750</td>\n",
       "      <td>0.008850</td>\n",
       "      <td>0.000000</td>\n",
       "      <td>0.300000</td>\n",
       "      <td>1.134230</td>\n",
       "    </tr>\n",
       "    <tr>\n",
       "      <th>75%</th>\n",
       "      <td>60.210250</td>\n",
       "      <td>0.300000</td>\n",
       "      <td>62.090000</td>\n",
       "      <td>0.303500</td>\n",
       "      <td>0.131000</td>\n",
       "      <td>0.370000</td>\n",
       "      <td>3.056210</td>\n",
       "    </tr>\n",
       "    <tr>\n",
       "      <th>max</th>\n",
       "      <td>254.526000</td>\n",
       "      <td>0.750000</td>\n",
       "      <td>755.610000</td>\n",
       "      <td>9.720000</td>\n",
       "      <td>100.000000</td>\n",
       "      <td>11.700000</td>\n",
       "      <td>57.513400</td>\n",
       "    </tr>\n",
       "  </tbody>\n",
       "</table>\n",
       "</div>"
      ],
      "text/plain": [
       "               SASA  SASA_PERCENTAGE       BFACTOR  SWITCHBILITY  \\\n",
       "count  16798.000000     16798.000000  16798.000000  15651.000000   \n",
       "mean      36.869348         0.172637     54.651370      0.403744   \n",
       "std       40.633632         0.181814     65.762465      0.935355   \n",
       "min        0.000000         0.000000      0.000000      0.000000   \n",
       "25%        2.187000         0.010000     19.905625      0.000000   \n",
       "50%       22.220000         0.110000     37.853750      0.008850   \n",
       "75%       60.210250         0.300000     62.090000      0.303500   \n",
       "max      254.526000         0.750000    755.610000      9.720000   \n",
       "\n",
       "       AGGREGABILITY  CONSERVATION  VARIATION_ENERGY  \n",
       "count   12299.000000   6099.000000      17869.000000  \n",
       "mean        4.983431      0.353983          2.250763  \n",
       "std        17.533670      0.359287          4.056646  \n",
       "min         0.000000      0.130000        -13.530900  \n",
       "25%         0.000000      0.250000          0.133057  \n",
       "50%         0.000000      0.300000          1.134230  \n",
       "75%         0.131000      0.370000          3.056210  \n",
       "max       100.000000     11.700000         57.513400  "
      ]
     },
     "execution_count": 10,
     "metadata": {},
     "output_type": "execute_result"
    }
   ],
   "source": [
    "varq.describe()"
   ]
  },
  {
   "cell_type": "code",
   "execution_count": 11,
   "metadata": {
    "ExecuteTime": {
     "end_time": "2018-05-01T12:03:42.956316Z",
     "start_time": "2018-05-01T12:03:42.917417Z"
    },
    "collapsed": true
   },
   "outputs": [],
   "source": [
    "corr = varq.drop(['3DID', 'PDB'], axis=1).corr()"
   ]
  },
  {
   "cell_type": "code",
   "execution_count": 12,
   "metadata": {
    "ExecuteTime": {
     "end_time": "2018-05-01T12:03:43.431455Z",
     "start_time": "2018-05-01T12:03:43.405195Z"
    }
   },
   "outputs": [
    {
     "data": {
      "text/html": [
       "<div>\n",
       "<table border=\"1\" class=\"dataframe\">\n",
       "  <thead>\n",
       "    <tr style=\"text-align: right;\">\n",
       "      <th></th>\n",
       "      <th>SASA</th>\n",
       "      <th>SASA_PERCENTAGE</th>\n",
       "      <th>BFACTOR</th>\n",
       "      <th>SWITCHBILITY</th>\n",
       "      <th>AGGREGABILITY</th>\n",
       "      <th>CONSERVATION</th>\n",
       "      <th>VARIATION_ENERGY</th>\n",
       "    </tr>\n",
       "  </thead>\n",
       "  <tbody>\n",
       "    <tr>\n",
       "      <th>SASA</th>\n",
       "      <td>1.000000</td>\n",
       "      <td>0.962449</td>\n",
       "      <td>0.060265</td>\n",
       "      <td>-0.042781</td>\n",
       "      <td>-0.017759</td>\n",
       "      <td>0.008619</td>\n",
       "      <td>-0.306423</td>\n",
       "    </tr>\n",
       "    <tr>\n",
       "      <th>SASA_PERCENTAGE</th>\n",
       "      <td>0.962449</td>\n",
       "      <td>1.000000</td>\n",
       "      <td>0.091254</td>\n",
       "      <td>-0.050652</td>\n",
       "      <td>-0.014159</td>\n",
       "      <td>0.015112</td>\n",
       "      <td>-0.329032</td>\n",
       "    </tr>\n",
       "    <tr>\n",
       "      <th>BFACTOR</th>\n",
       "      <td>0.060265</td>\n",
       "      <td>0.091254</td>\n",
       "      <td>1.000000</td>\n",
       "      <td>0.051770</td>\n",
       "      <td>0.106277</td>\n",
       "      <td>-0.030563</td>\n",
       "      <td>-0.067454</td>\n",
       "    </tr>\n",
       "    <tr>\n",
       "      <th>SWITCHBILITY</th>\n",
       "      <td>-0.042781</td>\n",
       "      <td>-0.050652</td>\n",
       "      <td>0.051770</td>\n",
       "      <td>1.000000</td>\n",
       "      <td>0.047975</td>\n",
       "      <td>-0.002319</td>\n",
       "      <td>-0.014635</td>\n",
       "    </tr>\n",
       "    <tr>\n",
       "      <th>AGGREGABILITY</th>\n",
       "      <td>-0.017759</td>\n",
       "      <td>-0.014159</td>\n",
       "      <td>0.106277</td>\n",
       "      <td>0.047975</td>\n",
       "      <td>1.000000</td>\n",
       "      <td>0.001127</td>\n",
       "      <td>-0.003761</td>\n",
       "    </tr>\n",
       "    <tr>\n",
       "      <th>CONSERVATION</th>\n",
       "      <td>0.008619</td>\n",
       "      <td>0.015112</td>\n",
       "      <td>-0.030563</td>\n",
       "      <td>-0.002319</td>\n",
       "      <td>0.001127</td>\n",
       "      <td>1.000000</td>\n",
       "      <td>0.027866</td>\n",
       "    </tr>\n",
       "    <tr>\n",
       "      <th>VARIATION_ENERGY</th>\n",
       "      <td>-0.306423</td>\n",
       "      <td>-0.329032</td>\n",
       "      <td>-0.067454</td>\n",
       "      <td>-0.014635</td>\n",
       "      <td>-0.003761</td>\n",
       "      <td>0.027866</td>\n",
       "      <td>1.000000</td>\n",
       "    </tr>\n",
       "  </tbody>\n",
       "</table>\n",
       "</div>"
      ],
      "text/plain": [
       "                      SASA  SASA_PERCENTAGE   BFACTOR  SWITCHBILITY  \\\n",
       "SASA              1.000000         0.962449  0.060265     -0.042781   \n",
       "SASA_PERCENTAGE   0.962449         1.000000  0.091254     -0.050652   \n",
       "BFACTOR           0.060265         0.091254  1.000000      0.051770   \n",
       "SWITCHBILITY     -0.042781        -0.050652  0.051770      1.000000   \n",
       "AGGREGABILITY    -0.017759        -0.014159  0.106277      0.047975   \n",
       "CONSERVATION      0.008619         0.015112 -0.030563     -0.002319   \n",
       "VARIATION_ENERGY -0.306423        -0.329032 -0.067454     -0.014635   \n",
       "\n",
       "                  AGGREGABILITY  CONSERVATION  VARIATION_ENERGY  \n",
       "SASA                  -0.017759      0.008619         -0.306423  \n",
       "SASA_PERCENTAGE       -0.014159      0.015112         -0.329032  \n",
       "BFACTOR                0.106277     -0.030563         -0.067454  \n",
       "SWITCHBILITY           0.047975     -0.002319         -0.014635  \n",
       "AGGREGABILITY          1.000000      0.001127         -0.003761  \n",
       "CONSERVATION           0.001127      1.000000          0.027866  \n",
       "VARIATION_ENERGY      -0.003761      0.027866          1.000000  "
      ]
     },
     "execution_count": 12,
     "metadata": {},
     "output_type": "execute_result"
    }
   ],
   "source": [
    "corr"
   ]
  },
  {
   "cell_type": "code",
   "execution_count": 13,
   "metadata": {
    "ExecuteTime": {
     "end_time": "2018-05-01T12:03:43.962049Z",
     "start_time": "2018-05-01T12:03:43.735014Z"
    },
    "scrolled": true
   },
   "outputs": [
    {
     "data": {
      "image/png": "[encoded data removed]",
      "text/plain": [
       "<matplotlib.figure.Figure at 0x7fec7d9637f0>"
      ]
     },
     "metadata": {},
     "output_type": "display_data"
    }
   ],
   "source": [
    "plot = sns.heatmap(corr)\n",
    "figure = plot.get_figure()"
   ]
  },
  {
   "cell_type": "markdown",
   "metadata": {},
   "source": [
    "### Machine Learning"
   ]
  },
  {
   "cell_type": "code",
   "execution_count": 14,
   "metadata": {
    "ExecuteTime": {
     "end_time": "2018-05-01T12:03:44.516504Z",
     "start_time": "2018-05-01T12:03:44.496464Z"
    },
    "collapsed": true
   },
   "outputs": [],
   "source": [
    "model_dict = {\n",
    "    'lr':{'pipe':('lr', LogisticRegression()),\n",
    "        'params':[{'lr__C' : [.001, .01, .1, 1, 10, 100, 1000], 'lr__class_weight':[None, 'balanced']}],\n",
    "        'name':'LogisticRegression'\n",
    "       },\n",
    "    'rf':{'pipe':('rf', RandomForestClassifier(random_state = 100)),\n",
    "        'params':[{'rf__max_depth':[3,5,7], 'rf__n_estimators':[10,50,100], 'rf__max_features':[4,'sqrt',0.2]}],\n",
    "        'name':'Random Forest'\n",
    "       },\n",
    "}"
   ]
  },
  {
   "cell_type": "code",
   "execution_count": 15,
   "metadata": {
    "ExecuteTime": {
     "end_time": "2018-05-01T12:03:46.150073Z",
     "start_time": "2018-05-01T12:03:46.105581Z"
    },
    "collapsed": true
   },
   "outputs": [],
   "source": [
    "le = LabelEncoder()\n",
    "\n",
    "X = varq[~varq.TYPE.isnull()].drop(['3DID', 'PDB', 'TYPE', 'ACTIVE_SITE'], 1)\n",
    "\n",
    "# .replace({\"ACTIVE_SITE\": {\"BINDING\": 1, np.nan: 0}})\n",
    "y = le.fit_transform(varq[~varq.TYPE.isnull()].TYPE)\n",
    "\n",
    "X_train, X_test, y_train, y_test = train_test_split(X, y, test_size=0.33, random_state=42, stratify=y)"
   ]
  },
  {
   "cell_type": "markdown",
   "metadata": {},
   "source": [
    "#### Random Forest"
   ]
  },
  {
   "cell_type": "code",
   "execution_count": 16,
   "metadata": {
    "ExecuteTime": {
     "end_time": "2018-05-01T12:03:48.511127Z",
     "start_time": "2018-05-01T12:03:48.503242Z"
    }
   },
   "outputs": [],
   "source": [
    "folds = 3\n",
    "skf = StratifiedKFold(n_splits=folds, shuffle = True, random_state = 1001)\n",
    "algorithm = 'rf'\n",
    "model = Pipeline([('imputer', Imputer(missing_values=\"NaN\", strategy=\"median\")),\n",
    "                  model_dict[algorithm]['pipe']])\n",
    "param_list = [model_dict[algorithm]['params']][0]\n",
    "gs = GridSearchCV(model, param_list, cv=skf.split(X_train, y_train), n_jobs=2, \n",
    "                  scoring='roc_auc', verbose=1, refit=True)"
   ]
  },
  {
   "cell_type": "code",
   "execution_count": 17,
   "metadata": {
    "ExecuteTime": {
     "end_time": "2018-05-01T12:03:50.695813Z",
     "start_time": "2018-05-01T12:03:50.688320Z"
    }
   },
   "outputs": [
    {
     "data": {
      "text/plain": [
       "(5897, 7)"
      ]
     },
     "execution_count": 17,
     "metadata": {},
     "output_type": "execute_result"
    }
   ],
   "source": [
    "X_test.shape"
   ]
  },
  {
   "cell_type": "code",
   "execution_count": 18,
   "metadata": {
    "ExecuteTime": {
     "end_time": "2018-05-01T12:03:51.264783Z",
     "start_time": "2018-05-01T12:03:51.237794Z"
    }
   },
   "outputs": [
    {
     "data": {
      "text/plain": [
       "0    3882\n",
       "1    2015\n",
       "dtype: int64"
      ]
     },
     "execution_count": 18,
     "metadata": {},
     "output_type": "execute_result"
    }
   ],
   "source": [
    "pd.Series(y_test).value_counts()"
   ]
  },
  {
   "cell_type": "code",
   "execution_count": 19,
   "metadata": {
    "ExecuteTime": {
     "end_time": "2018-05-01T12:04:12.058072Z",
     "start_time": "2018-05-01T12:03:54.640876Z"
    },
    "scrolled": true
   },
   "outputs": [
    {
     "name": "stdout",
     "output_type": "stream",
     "text": [
      "Fitting 3 folds for each of 27 candidates, totalling 81 fits\n"
     ]
    },
    {
     "name": "stderr",
     "output_type": "stream",
     "text": [
      "[Parallel(n_jobs=2)]: Done  81 out of  81 | elapsed:   15.7s finished\n"
     ]
    },
    {
     "data": {
      "text/plain": [
       "GridSearchCV(cv=<generator object _BaseKFold.split at 0x7fec7d953830>,\n",
       "       error_score='raise',\n",
       "       estimator=Pipeline(steps=[('imputer', Imputer(axis=0, copy=True, missing_values='NaN', strategy='median', verbose=0)), ('rf', RandomForestClassifier(bootstrap=True, class_weight=None, criterion='gini',\n",
       "            max_depth=None, max_features='auto', max_leaf_nodes=None,\n",
       "            min_impurity_spl...imators=10, n_jobs=1, oob_score=False, random_state=100,\n",
       "            verbose=0, warm_start=False))]),\n",
       "       fit_params={}, iid=True, n_jobs=2,\n",
       "       param_grid=[{'rf__max_depth': [3, 5, 7], 'rf__n_estimators': [10, 50, 100], 'rf__max_features': [4, 'sqrt', 0.2]}],\n",
       "       pre_dispatch='2*n_jobs', refit=True, return_train_score=True,\n",
       "       scoring='roc_auc', verbose=1)"
      ]
     },
     "execution_count": 19,
     "metadata": {},
     "output_type": "execute_result"
    }
   ],
   "source": [
    "gs.fit(X_train, y_train)"
   ]
  },
  {
   "cell_type": "code",
   "execution_count": 20,
   "metadata": {
    "ExecuteTime": {
     "end_time": "2018-05-01T12:04:12.129176Z",
     "start_time": "2018-05-01T12:04:12.126347Z"
    },
    "collapsed": true
   },
   "outputs": [],
   "source": [
    "rf = gs.best_estimator_"
   ]
  },
  {
   "cell_type": "code",
   "execution_count": 21,
   "metadata": {
    "ExecuteTime": {
     "end_time": "2018-05-01T12:04:12.207985Z",
     "start_time": "2018-05-01T12:04:12.202729Z"
    }
   },
   "outputs": [
    {
     "data": {
      "text/plain": [
       "0.67923260677748787"
      ]
     },
     "execution_count": 21,
     "metadata": {},
     "output_type": "execute_result"
    }
   ],
   "source": [
    "gs.best_score_"
   ]
  },
  {
   "cell_type": "code",
   "execution_count": 22,
   "metadata": {
    "ExecuteTime": {
     "end_time": "2018-05-01T12:04:14.533211Z",
     "start_time": "2018-05-01T12:04:14.360227Z"
    },
    "scrolled": false
   },
   "outputs": [
    {
     "data": {
      "image/png": "[encoded data removed]",
      "text/plain": [
       "<matplotlib.figure.Figure at 0x7fec7a536668>"
      ]
     },
     "metadata": {},
     "output_type": "display_data"
    }
   ],
   "source": [
    "# importances = [(x_train.columns[e], x) for e, x in enumerate(rf.steps[1][1].feature_importances_)]\n",
    "# importances.sort(key=operator.itemgetter(1), reverse=True)\n",
    "# figsize(8,5)\n",
    "# plt.title(\"Feature importances\", fontsize=16)\n",
    "# plt.bar(np.arange(len(importances)), [y for x, y in importances], color=\"g\", align=\"center\")\n",
    "# plt.xticks(range(len(importances)), [x for x, y in importances], rotation='vertical', fontsize=16)\n",
    "# # plt.xlim([0, range(len(importances))])\n",
    "# plt.show()\n",
    "\n",
    "\n",
    "importances = [(X_train.columns[e], x) for e, x in enumerate(rf.steps[1][1].feature_importances_)][:10]\n",
    "importances.sort(key=operator.itemgetter(1), reverse=False)\n",
    "figsize(8, 5)\n",
    "# plt.title(\"Importancia\", fontsize=16)\n",
    "plt.barh(np.arange(len(importances)), [y for x, y in importances], 0.3, color=\"g\", align=\"center\")\n",
    "plt.yticks(range(len(importances)), [x for x, y in importances], rotation='horizontal', fontsize=10, fontweight='bold')\n",
    "plt.xticks(fontweight='bold')\n",
    "# plt.xlim([0, range(len(importances))])\n",
    "# plt.show()\n",
    "plt.tight_layout()"
   ]
  },
  {
   "cell_type": "code",
   "execution_count": 24,
   "metadata": {
    "ExecuteTime": {
     "end_time": "2018-05-01T12:18:09.162442Z",
     "start_time": "2018-05-01T12:18:09.078819Z"
    }
   },
   "outputs": [
    {
     "name": "stdout",
     "output_type": "stream",
     "text": [
      "             precision    recall  f1-score   support\n",
      "\n",
      "          0       0.71      0.92      0.80      3882\n",
      "          1       0.62      0.27      0.38      2015\n",
      "\n",
      "avg / total       0.68      0.69      0.65      5897\n",
      "\n"
     ]
    }
   ],
   "source": [
    "print(classification_report(y_test, rf.predict(X_test)))"
   ]
  },
  {
   "cell_type": "code",
   "execution_count": 133,
   "metadata": {
    "ExecuteTime": {
     "end_time": "2018-02-17T17:08:20.321945Z",
     "start_time": "2018-02-17T17:08:20.227651Z"
    },
    "collapsed": true
   },
   "outputs": [],
   "source": [
    "fpr, tpr, _ = roc_curve(y_test, rf.predict_proba(X_test)[:, 1])\n",
    "roc_auc = auc(fpr, tpr)"
   ]
  },
  {
   "cell_type": "code",
   "execution_count": 134,
   "metadata": {
    "ExecuteTime": {
     "end_time": "2018-02-17T17:08:21.498004Z",
     "start_time": "2018-02-17T17:08:21.478446Z"
    }
   },
   "outputs": [
    {
     "data": {
      "text/plain": [
       "(2394,)"
      ]
     },
     "execution_count": 134,
     "metadata": {},
     "output_type": "execute_result"
    }
   ],
   "source": [
    "fpr.shape"
   ]
  },
  {
   "cell_type": "code",
   "execution_count": 23,
   "metadata": {
    "ExecuteTime": {
     "end_time": "2018-05-01T12:18:01.176490Z",
     "start_time": "2018-05-01T12:18:01.027720Z"
    }
   },
   "outputs": [
    {
     "ename": "NameError",
     "evalue": "name 'fpr' is not defined",
     "output_type": "error",
     "traceback": [
      "\u001b[0;31m---------------------------------------------------------------------------\u001b[0m",
      "\u001b[0;31mNameError\u001b[0m                                 Traceback (most recent call last)",
      "\u001b[0;32m<ipython-input-23-27df7b2448e7>\u001b[0m in \u001b[0;36m<module>\u001b[0;34m()\u001b[0m\n\u001b[1;32m      2\u001b[0m \u001b[0;34m\u001b[0m\u001b[0m\n\u001b[1;32m      3\u001b[0m \u001b[0mlw\u001b[0m \u001b[0;34m=\u001b[0m \u001b[0;36m2\u001b[0m\u001b[0;34m\u001b[0m\u001b[0m\n\u001b[0;32m----> 4\u001b[0;31m plt.plot(fpr, tpr, color='darkorange',\n\u001b[0m\u001b[1;32m      5\u001b[0m          lw=lw, label='ROC curve (area = %0.2f)' % roc_auc)\n\u001b[1;32m      6\u001b[0m \u001b[0mplt\u001b[0m\u001b[0;34m.\u001b[0m\u001b[0mplot\u001b[0m\u001b[0;34m(\u001b[0m\u001b[0;34m[\u001b[0m\u001b[0;36m0\u001b[0m\u001b[0;34m,\u001b[0m \u001b[0;36m1\u001b[0m\u001b[0;34m]\u001b[0m\u001b[0;34m,\u001b[0m \u001b[0;34m[\u001b[0m\u001b[0;36m0\u001b[0m\u001b[0;34m,\u001b[0m \u001b[0;36m1\u001b[0m\u001b[0;34m]\u001b[0m\u001b[0;34m,\u001b[0m \u001b[0mcolor\u001b[0m\u001b[0;34m=\u001b[0m\u001b[0;34m'navy'\u001b[0m\u001b[0;34m,\u001b[0m \u001b[0mlw\u001b[0m\u001b[0;34m=\u001b[0m\u001b[0mlw\u001b[0m\u001b[0;34m,\u001b[0m \u001b[0mlinestyle\u001b[0m\u001b[0;34m=\u001b[0m\u001b[0;34m'--'\u001b[0m\u001b[0;34m)\u001b[0m\u001b[0;34m\u001b[0m\u001b[0m\n",
      "\u001b[0;31mNameError\u001b[0m: name 'fpr' is not defined"
     ]
    }
   ],
   "source": [
    "figsize(7,7)\n",
    "\n",
    "lw = 2\n",
    "plt.plot(fpr, tpr, color='darkorange',\n",
    "         lw=lw, label='ROC curve (area = %0.2f)' % roc_auc)\n",
    "plt.plot([0, 1], [0, 1], color='navy', lw=lw, linestyle='--')\n",
    "plt.xlim([0.0, 1.0])\n",
    "plt.ylim([0.0, 1.05])\n",
    "plt.xlabel('False Positive Rate')\n",
    "plt.ylabel('True Positive Rate')\n",
    "plt.title('AUC Curve')\n",
    "plt.legend(loc=\"lower right\", prop={'size': 12})\n",
    "plt.show()\n",
    "\n",
    "plt.savefig(\"../documents/resources/auc_varq.pdf\", bbox_inches='tight', pad_inches=0.1)\n"
   ]
  },
  {
   "cell_type": "markdown",
   "metadata": {},
   "source": [
    "#### Logistic Regression"
   ]
  },
  {
   "cell_type": "code",
   "execution_count": 9,
   "metadata": {
    "ExecuteTime": {
     "end_time": "2018-03-10T16:27:59.245354Z",
     "start_time": "2018-03-10T16:27:59.236974Z"
    },
    "collapsed": true
   },
   "outputs": [],
   "source": [
    "folds = 3\n",
    "skf = StratifiedKFold(n_splits=folds, shuffle = True, random_state = 1001)\n",
    "algorithm = 'lr'\n",
    "model = Pipeline([('imputer', Imputer(missing_values=\"NaN\", strategy=\"median\")),\n",
    "                  model_dict[algorithm]['pipe']])\n",
    "param_list = [model_dict[algorithm]['params']][0]\n",
    "gs = GridSearchCV(model, param_list, cv=skf.split(X_train, y_train), n_jobs=2, \n",
    "                  scoring='roc_auc', verbose=1, refit=True)"
   ]
  },
  {
   "cell_type": "code",
   "execution_count": 10,
   "metadata": {
    "ExecuteTime": {
     "end_time": "2018-03-10T16:28:02.704321Z",
     "start_time": "2018-03-10T16:28:00.627327Z"
    },
    "scrolled": true
   },
   "outputs": [
    {
     "name": "stdout",
     "output_type": "stream",
     "text": [
      "Fitting 3 folds for each of 14 candidates, totalling 42 fits\n"
     ]
    },
    {
     "name": "stderr",
     "output_type": "stream",
     "text": [
      "[Parallel(n_jobs=2)]: Done  42 out of  42 | elapsed:    1.8s finished\n"
     ]
    },
    {
     "data": {
      "text/plain": [
       "GridSearchCV(cv=<generator object _BaseKFold.split at 0x7fe7cf1b44c0>,\n",
       "       error_score='raise',\n",
       "       estimator=Pipeline(steps=[('imputer', Imputer(axis=0, copy=True, missing_values='NaN', strategy='median', verbose=0)), ('lr', LogisticRegression(C=1.0, class_weight=None, dual=False, fit_intercept=True,\n",
       "          intercept_scaling=1, max_iter=100, multi_class='ovr', n_jobs=1,\n",
       "          penalty='l2', random_state=None, solver='liblinear', tol=0.0001,\n",
       "          verbose=0, warm_start=False))]),\n",
       "       fit_params={}, iid=True, n_jobs=2,\n",
       "       param_grid=[{'lr__C': [0.001, 0.01, 0.1, 1, 10, 100, 1000], 'lr__class_weight': [None, 'balanced']}],\n",
       "       pre_dispatch='2*n_jobs', refit=True, return_train_score=True,\n",
       "       scoring='roc_auc', verbose=1)"
      ]
     },
     "execution_count": 10,
     "metadata": {},
     "output_type": "execute_result"
    }
   ],
   "source": [
    "gs.fit(X_train, y_train)"
   ]
  },
  {
   "cell_type": "code",
   "execution_count": 11,
   "metadata": {
    "ExecuteTime": {
     "end_time": "2018-03-10T16:28:05.873618Z",
     "start_time": "2018-03-10T16:28:05.870047Z"
    },
    "collapsed": true
   },
   "outputs": [],
   "source": [
    "lr = gs.best_estimator_"
   ]
  },
  {
   "cell_type": "code",
   "execution_count": 12,
   "metadata": {
    "ExecuteTime": {
     "end_time": "2018-03-10T16:28:06.643800Z",
     "start_time": "2018-03-10T16:28:06.624299Z"
    }
   },
   "outputs": [
    {
     "data": {
      "text/plain": [
       "0.64881745421391313"
      ]
     },
     "execution_count": 12,
     "metadata": {},
     "output_type": "execute_result"
    }
   ],
   "source": [
    "gs.best_score_"
   ]
  },
  {
   "cell_type": "code",
   "execution_count": 14,
   "metadata": {
    "ExecuteTime": {
     "end_time": "2018-03-10T16:28:15.255257Z",
     "start_time": "2018-03-10T16:28:15.251334Z"
    },
    "collapsed": true,
    "scrolled": true
   },
   "outputs": [],
   "source": [
    "importances = list(zip(X_train.columns.tolist(), lr.steps[1][1].coef_[0].tolist()))"
   ]
  },
  {
   "cell_type": "code",
   "execution_count": 15,
   "metadata": {
    "ExecuteTime": {
     "end_time": "2018-03-10T16:28:16.342412Z",
     "start_time": "2018-03-10T16:28:16.072710Z"
    }
   },
   "outputs": [
    {
     "data": {
      "image/png": "[encoded data removed]",
      "text/plain": [
       "<matplotlib.figure.Figure at 0x7fe7cd40b748>"
      ]
     },
     "metadata": {},
     "output_type": "display_data"
    }
   ],
   "source": [
    "figsize(20,6)\n",
    "plt.title(\"Logistic Regression Coefficients\", fontsize=16)\n",
    "plt.barh(np.arange(len(importances)), [y for x, y in importances], color=\"g\", align=\"center\")\n",
    "plt.yticks(range(len(importances)), [x for x, y in importances], rotation='horizontal', fontsize=16)\n",
    "# plt.xticks(np.arange(-1.1,.7,.05))\n",
    "plt.show()"
   ]
  },
  {
   "cell_type": "code",
   "execution_count": null,
   "metadata": {
    "collapsed": true
   },
   "outputs": [],
   "source": []
  }
 ],
 "metadata": {
  "kernelspec": {
   "display_name": "Python 3",
   "language": "python",
   "name": "python3"
  },
  "language_info": {
   "codemirror_mode": {
    "name": "ipython",
    "version": 3
   },
   "file_extension": ".py",
   "mimetype": "text/x-python",
   "name": "python",
   "nbconvert_exporter": "python",
   "pygments_lexer": "ipython3",
   "version": "3.6.3"
  },
  "varInspector": {
   "cols": {
    "lenName": 16,
    "lenType": 16,
    "lenVar": 40
   },
   "kernels_config": {
    "python": {
     "delete_cmd_postfix": "",
     "delete_cmd_prefix": "del ",
     "library": "var_list.py",
     "varRefreshCmd": "print(var_dic_list())"
    },
    "r": {
     "delete_cmd_postfix": ") ",
     "delete_cmd_prefix": "rm(",
     "library": "var_list.r",
     "varRefreshCmd": "cat(var_dic_list()) "
    }
   },
   "types_to_exclude": [
    "module",
    "function",
    "builtin_function_or_method",
    "instance",
    "_Feature"
   ],
   "window_display": false
  }
 },
 "nbformat": 4,
 "nbformat_minor": 2
}
