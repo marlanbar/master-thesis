{
 "cells": [
  {
   "cell_type": "code",
   "execution_count": 9,
   "metadata": {
    "ExecuteTime": {
     "end_time": "2018-07-28T16:29:33.377762Z",
     "start_time": "2018-07-28T16:29:33.366861Z"
    },
    "collapsed": true
   },
   "outputs": [],
   "source": [
    "import pandas as pd\n",
    "import numpy as np"
   ]
  },
  {
   "cell_type": "markdown",
   "metadata": {},
   "source": [
    "## Humsavar Table"
   ]
  },
  {
   "cell_type": "code",
   "execution_count": 10,
   "metadata": {
    "ExecuteTime": {
     "end_time": "2018-07-28T16:29:34.255734Z",
     "start_time": "2018-07-28T16:29:34.034370Z"
    },
    "collapsed": true
   },
   "outputs": [],
   "source": [
    "hum = pd.read_csv(\"../data/interim/humsavar_clean_201711.csv.gz\", sep=\",\")\n",
    "hum.columns = hum.columns.str.replace(\" \", \"_\")"
   ]
  },
  {
   "cell_type": "code",
   "execution_count": 11,
   "metadata": {
    "ExecuteTime": {
     "end_time": "2018-07-28T16:29:34.513370Z",
     "start_time": "2018-07-28T16:29:34.506323Z"
    },
    "collapsed": true
   },
   "outputs": [],
   "source": [
    "#Correspondencia hecha por Santi\n",
    "AMINO_CODE = {\"Ala\": \"A\",\\\n",
    "              \"Arg\": \"R\",\\\n",
    "              \"Asn\": \"N\",\\\n",
    "              \"Asp\": \"D\",\\\n",
    "              \"Cys\": \"C\",\\\n",
    "              \"Gln\": \"Q\",\\\n",
    "              \"Glu\": \"E\",\\\n",
    "              \"Gly\": \"G\",\\\n",
    "              \"His\": \"H\",\\\n",
    "              \"Ile\": \"I\",\\\n",
    "              \"Leu\": \"L\",\\\n",
    "              \"Lys\": \"K\",\\\n",
    "              \"Met\": \"M\",\\\n",
    "              \"Phe\": \"F\",\\\n",
    "              \"Pro\": \"P\",\\\n",
    "              \"Ser\": \"S\",\\\n",
    "              \"Thr\": \"T\",\\\n",
    "              \"Trp\": \"W\",\\\n",
    "              \"Tyr\": \"Y\",\\\n",
    "              \"Val\": \"V\",\\\n",
    "              \"Sec\": \"U\"\n",
    "             }"
   ]
  },
  {
   "cell_type": "code",
   "execution_count": 12,
   "metadata": {
    "ExecuteTime": {
     "end_time": "2018-07-28T16:29:35.024372Z",
     "start_time": "2018-07-28T16:29:35.010866Z"
    }
   },
   "outputs": [
    {
     "data": {
      "text/plain": [
       "Index(['Main_gene_name', 'Swiss_Prot_AC', 'FTId', 'AA_Change',\n",
       "       'Type_of_variant', 'dbSNP', 'Disease_Name'],\n",
       "      dtype='object')"
      ]
     },
     "execution_count": 12,
     "metadata": {},
     "output_type": "execute_result"
    }
   ],
   "source": [
    "hum.columns"
   ]
  },
  {
   "cell_type": "code",
   "execution_count": 13,
   "metadata": {
    "ExecuteTime": {
     "end_time": "2018-07-28T16:29:35.796804Z",
     "start_time": "2018-07-28T16:29:35.496664Z"
    },
    "collapsed": true
   },
   "outputs": [],
   "source": [
    "df = pd.DataFrame(data=(hum[\"AA_Change\"].str[2:].str.split(r\"([0-9]+)\")).tolist(), columns=[\"C1\", \"C2\", \"C3\"])\n",
    "df[\"C1\"] = df.C1.map(AMINO_CODE)\n",
    "df[\"C3\"] = df.C3.map(AMINO_CODE)\n",
    "mutant = pd.Series(data=(hum[\"Swiss_Prot_AC\"] + \"-\"+ df.C2 + \"-\" + df.C1 + \"-\" + df.C3).tolist(), name=\"MUTANT\")\n",
    "# mutant = pd.Series(data=(df.C1 + df.C2 + df.C3).tolist(), name=\"MUTANT\")"
   ]
  },
  {
   "cell_type": "code",
   "execution_count": 14,
   "metadata": {
    "ExecuteTime": {
     "end_time": "2018-07-28T16:29:36.650471Z",
     "start_time": "2018-07-28T16:29:36.339157Z"
    },
    "collapsed": true
   },
   "outputs": [],
   "source": [
    "hum_final = pd.concat([hum, mutant, df], 1)[[\"MUTANT\", \"Swiss_Prot_AC\", \"C2\", \"C1\", \"C3\",\"dbSNP\", \"Type_of_variant\"]]\n",
    "hum_final.rename(columns={\"C1\": \"WildType\", \"C3\": \"Mut\", \"Swiss_Prot_AC\": \"UID\", \"C2\": \"Pos\"}, inplace=True)\n",
    "# hum_final = pd.concat([hum, mutant], 1)[[\"FTId\", \"MUTANT\"]]"
   ]
  },
  {
   "cell_type": "code",
   "execution_count": 15,
   "metadata": {
    "ExecuteTime": {
     "end_time": "2018-07-28T16:29:37.062897Z",
     "start_time": "2018-07-28T16:29:37.039857Z"
    }
   },
   "outputs": [
    {
     "data": {
      "text/html": [
       "<div>\n",
       "<table border=\"1\" class=\"dataframe\">\n",
       "  <thead>\n",
       "    <tr style=\"text-align: right;\">\n",
       "      <th></th>\n",
       "      <th>MUTANT</th>\n",
       "      <th>UID</th>\n",
       "      <th>Pos</th>\n",
       "      <th>WildType</th>\n",
       "      <th>Mut</th>\n",
       "      <th>dbSNP</th>\n",
       "      <th>Type_of_variant</th>\n",
       "    </tr>\n",
       "  </thead>\n",
       "  <tbody>\n",
       "    <tr>\n",
       "      <th>0</th>\n",
       "      <td>P04217-52-H-R</td>\n",
       "      <td>P04217</td>\n",
       "      <td>52</td>\n",
       "      <td>H</td>\n",
       "      <td>R</td>\n",
       "      <td>rs893184</td>\n",
       "      <td>Polymorphism</td>\n",
       "    </tr>\n",
       "    <tr>\n",
       "      <th>1</th>\n",
       "      <td>P04217-395-H-R</td>\n",
       "      <td>P04217</td>\n",
       "      <td>395</td>\n",
       "      <td>H</td>\n",
       "      <td>R</td>\n",
       "      <td>rs2241788</td>\n",
       "      <td>Polymorphism</td>\n",
       "    </tr>\n",
       "    <tr>\n",
       "      <th>2</th>\n",
       "      <td>Q9NQ94-555-V-M</td>\n",
       "      <td>Q9NQ94</td>\n",
       "      <td>555</td>\n",
       "      <td>V</td>\n",
       "      <td>M</td>\n",
       "      <td>rs9073</td>\n",
       "      <td>Polymorphism</td>\n",
       "    </tr>\n",
       "    <tr>\n",
       "      <th>3</th>\n",
       "      <td>Q9NQ94-558-A-S</td>\n",
       "      <td>Q9NQ94</td>\n",
       "      <td>558</td>\n",
       "      <td>A</td>\n",
       "      <td>S</td>\n",
       "      <td>rs11817448</td>\n",
       "      <td>Polymorphism</td>\n",
       "    </tr>\n",
       "    <tr>\n",
       "      <th>4</th>\n",
       "      <td>A8K2U0-207-G-R</td>\n",
       "      <td>A8K2U0</td>\n",
       "      <td>207</td>\n",
       "      <td>G</td>\n",
       "      <td>R</td>\n",
       "      <td>rs11047499</td>\n",
       "      <td>Polymorphism</td>\n",
       "    </tr>\n",
       "  </tbody>\n",
       "</table>\n",
       "</div>"
      ],
      "text/plain": [
       "           MUTANT     UID  Pos WildType Mut       dbSNP Type_of_variant\n",
       "0   P04217-52-H-R  P04217   52        H   R    rs893184    Polymorphism\n",
       "1  P04217-395-H-R  P04217  395        H   R   rs2241788    Polymorphism\n",
       "2  Q9NQ94-555-V-M  Q9NQ94  555        V   M      rs9073    Polymorphism\n",
       "3  Q9NQ94-558-A-S  Q9NQ94  558        A   S  rs11817448    Polymorphism\n",
       "4  A8K2U0-207-G-R  A8K2U0  207        G   R  rs11047499    Polymorphism"
      ]
     },
     "execution_count": 15,
     "metadata": {},
     "output_type": "execute_result"
    }
   ],
   "source": [
    "hum_final.head()"
   ]
  },
  {
   "cell_type": "code",
   "execution_count": 16,
   "metadata": {
    "ExecuteTime": {
     "end_time": "2018-07-28T16:29:37.647584Z",
     "start_time": "2018-07-28T16:29:37.633895Z"
    }
   },
   "outputs": [
    {
     "data": {
      "text/plain": [
       "(76730, 7)"
      ]
     },
     "execution_count": 16,
     "metadata": {},
     "output_type": "execute_result"
    }
   ],
   "source": [
    "hum_final.shape"
   ]
  },
  {
   "cell_type": "code",
   "execution_count": 17,
   "metadata": {
    "ExecuteTime": {
     "end_time": "2018-07-28T16:29:38.733658Z",
     "start_time": "2018-07-28T16:29:38.641453Z"
    },
    "collapsed": true
   },
   "outputs": [],
   "source": [
    "hum_final.drop_duplicates(\"MUTANT\", inplace=True)\n",
    "# hum_final.drop_duplicates(\"dbSNP\", inplace=True)\n",
    "hum_final.rename(columns={\"Type_of_variant\": \"TYPE\"}, inplace=True)"
   ]
  },
  {
   "cell_type": "code",
   "execution_count": 18,
   "metadata": {
    "ExecuteTime": {
     "end_time": "2018-07-28T16:29:38.954849Z",
     "start_time": "2018-07-28T16:29:38.931485Z"
    }
   },
   "outputs": [
    {
     "data": {
      "text/html": [
       "<div>\n",
       "<table border=\"1\" class=\"dataframe\">\n",
       "  <thead>\n",
       "    <tr style=\"text-align: right;\">\n",
       "      <th></th>\n",
       "      <th>MUTANT</th>\n",
       "      <th>UID</th>\n",
       "      <th>Pos</th>\n",
       "      <th>WildType</th>\n",
       "      <th>Mut</th>\n",
       "      <th>dbSNP</th>\n",
       "      <th>TYPE</th>\n",
       "    </tr>\n",
       "  </thead>\n",
       "  <tbody>\n",
       "    <tr>\n",
       "      <th>0</th>\n",
       "      <td>P04217-52-H-R</td>\n",
       "      <td>P04217</td>\n",
       "      <td>52</td>\n",
       "      <td>H</td>\n",
       "      <td>R</td>\n",
       "      <td>rs893184</td>\n",
       "      <td>Polymorphism</td>\n",
       "    </tr>\n",
       "    <tr>\n",
       "      <th>1</th>\n",
       "      <td>P04217-395-H-R</td>\n",
       "      <td>P04217</td>\n",
       "      <td>395</td>\n",
       "      <td>H</td>\n",
       "      <td>R</td>\n",
       "      <td>rs2241788</td>\n",
       "      <td>Polymorphism</td>\n",
       "    </tr>\n",
       "    <tr>\n",
       "      <th>2</th>\n",
       "      <td>Q9NQ94-555-V-M</td>\n",
       "      <td>Q9NQ94</td>\n",
       "      <td>555</td>\n",
       "      <td>V</td>\n",
       "      <td>M</td>\n",
       "      <td>rs9073</td>\n",
       "      <td>Polymorphism</td>\n",
       "    </tr>\n",
       "  </tbody>\n",
       "</table>\n",
       "</div>"
      ],
      "text/plain": [
       "           MUTANT     UID  Pos WildType Mut      dbSNP          TYPE\n",
       "0   P04217-52-H-R  P04217   52        H   R   rs893184  Polymorphism\n",
       "1  P04217-395-H-R  P04217  395        H   R  rs2241788  Polymorphism\n",
       "2  Q9NQ94-555-V-M  Q9NQ94  555        V   M     rs9073  Polymorphism"
      ]
     },
     "execution_count": 18,
     "metadata": {},
     "output_type": "execute_result"
    }
   ],
   "source": [
    "hum_final.head(3)"
   ]
  },
  {
   "cell_type": "code",
   "execution_count": 19,
   "metadata": {
    "ExecuteTime": {
     "end_time": "2018-07-28T16:29:39.283530Z",
     "start_time": "2018-07-28T16:29:39.201778Z"
    },
    "scrolled": true
   },
   "outputs": [
    {
     "data": {
      "text/html": [
       "<div>\n",
       "<table border=\"1\" class=\"dataframe\">\n",
       "  <thead>\n",
       "    <tr style=\"text-align: right;\">\n",
       "      <th></th>\n",
       "      <th>MUTANT</th>\n",
       "      <th>UID</th>\n",
       "      <th>Pos</th>\n",
       "      <th>WildType</th>\n",
       "      <th>Mut</th>\n",
       "      <th>dbSNP</th>\n",
       "      <th>TYPE</th>\n",
       "    </tr>\n",
       "  </thead>\n",
       "  <tbody>\n",
       "    <tr>\n",
       "      <th>97</th>\n",
       "      <td>Q86UK0-459-S-T</td>\n",
       "      <td>Q86UK0</td>\n",
       "      <td>459</td>\n",
       "      <td>S</td>\n",
       "      <td>T</td>\n",
       "      <td>rs7560008</td>\n",
       "      <td>Polymorphism</td>\n",
       "    </tr>\n",
       "    <tr>\n",
       "      <th>104</th>\n",
       "      <td>Q86UK0-777-S-T</td>\n",
       "      <td>Q86UK0</td>\n",
       "      <td>777</td>\n",
       "      <td>S</td>\n",
       "      <td>T</td>\n",
       "      <td>rs7560008</td>\n",
       "      <td>Polymorphism</td>\n",
       "    </tr>\n",
       "    <tr>\n",
       "      <th>145</th>\n",
       "      <td>O95477-590-W-S</td>\n",
       "      <td>O95477</td>\n",
       "      <td>590</td>\n",
       "      <td>W</td>\n",
       "      <td>S</td>\n",
       "      <td>rs137854496</td>\n",
       "      <td>Disease</td>\n",
       "    </tr>\n",
       "    <tr>\n",
       "      <th>191</th>\n",
       "      <td>O95477-590-W-L</td>\n",
       "      <td>O95477</td>\n",
       "      <td>590</td>\n",
       "      <td>W</td>\n",
       "      <td>L</td>\n",
       "      <td>rs137854496</td>\n",
       "      <td>Disease</td>\n",
       "    </tr>\n",
       "    <tr>\n",
       "      <th>231</th>\n",
       "      <td>P78363-96-N-D</td>\n",
       "      <td>P78363</td>\n",
       "      <td>96</td>\n",
       "      <td>N</td>\n",
       "      <td>D</td>\n",
       "      <td>rs61748529</td>\n",
       "      <td>Disease</td>\n",
       "    </tr>\n",
       "    <tr>\n",
       "      <th>232</th>\n",
       "      <td>P78363-96-N-H</td>\n",
       "      <td>P78363</td>\n",
       "      <td>96</td>\n",
       "      <td>N</td>\n",
       "      <td>H</td>\n",
       "      <td>rs61748529</td>\n",
       "      <td>Disease</td>\n",
       "    </tr>\n",
       "    <tr>\n",
       "      <th>249</th>\n",
       "      <td>P78363-572-R-P</td>\n",
       "      <td>P78363</td>\n",
       "      <td>572</td>\n",
       "      <td>R</td>\n",
       "      <td>P</td>\n",
       "      <td>rs61748559</td>\n",
       "      <td>Disease</td>\n",
       "    </tr>\n",
       "    <tr>\n",
       "      <th>250</th>\n",
       "      <td>P78363-572-R-Q</td>\n",
       "      <td>P78363</td>\n",
       "      <td>572</td>\n",
       "      <td>R</td>\n",
       "      <td>Q</td>\n",
       "      <td>rs61748559</td>\n",
       "      <td>Disease</td>\n",
       "    </tr>\n",
       "    <tr>\n",
       "      <th>332</th>\n",
       "      <td>P78363-2077-R-W</td>\n",
       "      <td>P78363</td>\n",
       "      <td>2077</td>\n",
       "      <td>R</td>\n",
       "      <td>W</td>\n",
       "      <td>rs61750645</td>\n",
       "      <td>Disease</td>\n",
       "    </tr>\n",
       "    <tr>\n",
       "      <th>353</th>\n",
       "      <td>P78363-68-P-L</td>\n",
       "      <td>P78363</td>\n",
       "      <td>68</td>\n",
       "      <td>P</td>\n",
       "      <td>L</td>\n",
       "      <td>rs62654397</td>\n",
       "      <td>Disease</td>\n",
       "    </tr>\n",
       "    <tr>\n",
       "      <th>354</th>\n",
       "      <td>P78363-68-P-R</td>\n",
       "      <td>P78363</td>\n",
       "      <td>68</td>\n",
       "      <td>P</td>\n",
       "      <td>R</td>\n",
       "      <td>rs62654397</td>\n",
       "      <td>Disease</td>\n",
       "    </tr>\n",
       "    <tr>\n",
       "      <th>379</th>\n",
       "      <td>P78363-607-G-R</td>\n",
       "      <td>P78363</td>\n",
       "      <td>607</td>\n",
       "      <td>G</td>\n",
       "      <td>R</td>\n",
       "      <td>rs61749412</td>\n",
       "      <td>Disease</td>\n",
       "    </tr>\n",
       "    <tr>\n",
       "      <th>380</th>\n",
       "      <td>P78363-607-G-W</td>\n",
       "      <td>P78363</td>\n",
       "      <td>607</td>\n",
       "      <td>G</td>\n",
       "      <td>W</td>\n",
       "      <td>rs61749412</td>\n",
       "      <td>Disease</td>\n",
       "    </tr>\n",
       "    <tr>\n",
       "      <th>419</th>\n",
       "      <td>P78363-1108-R-H</td>\n",
       "      <td>P78363</td>\n",
       "      <td>1108</td>\n",
       "      <td>R</td>\n",
       "      <td>H</td>\n",
       "      <td>rs61750121</td>\n",
       "      <td>Disease</td>\n",
       "    </tr>\n",
       "    <tr>\n",
       "      <th>420</th>\n",
       "      <td>P78363-1108-R-L</td>\n",
       "      <td>P78363</td>\n",
       "      <td>1108</td>\n",
       "      <td>R</td>\n",
       "      <td>L</td>\n",
       "      <td>rs61750121</td>\n",
       "      <td>Disease</td>\n",
       "    </tr>\n",
       "    <tr>\n",
       "      <th>431</th>\n",
       "      <td>P78363-1488-C-F</td>\n",
       "      <td>P78363</td>\n",
       "      <td>1488</td>\n",
       "      <td>C</td>\n",
       "      <td>F</td>\n",
       "      <td>rs61750147</td>\n",
       "      <td>Disease</td>\n",
       "    </tr>\n",
       "    <tr>\n",
       "      <th>432</th>\n",
       "      <td>P78363-1488-C-Y</td>\n",
       "      <td>P78363</td>\n",
       "      <td>1488</td>\n",
       "      <td>C</td>\n",
       "      <td>Y</td>\n",
       "      <td>rs61750147</td>\n",
       "      <td>Disease</td>\n",
       "    </tr>\n",
       "    <tr>\n",
       "      <th>466</th>\n",
       "      <td>P78363-2077-R-G</td>\n",
       "      <td>P78363</td>\n",
       "      <td>2077</td>\n",
       "      <td>R</td>\n",
       "      <td>G</td>\n",
       "      <td>rs61750645</td>\n",
       "      <td>Disease</td>\n",
       "    </tr>\n",
       "    <tr>\n",
       "      <th>521</th>\n",
       "      <td>O95342-444-V-A</td>\n",
       "      <td>O95342</td>\n",
       "      <td>444</td>\n",
       "      <td>V</td>\n",
       "      <td>A</td>\n",
       "      <td>rs2287622</td>\n",
       "      <td>Polymorphism</td>\n",
       "    </tr>\n",
       "    <tr>\n",
       "      <th>552</th>\n",
       "      <td>O95342-444-V-D</td>\n",
       "      <td>O95342</td>\n",
       "      <td>444</td>\n",
       "      <td>V</td>\n",
       "      <td>D</td>\n",
       "      <td>rs2287622</td>\n",
       "      <td>Polymorphism</td>\n",
       "    </tr>\n",
       "    <tr>\n",
       "      <th>553</th>\n",
       "      <td>O95342-444-V-G</td>\n",
       "      <td>O95342</td>\n",
       "      <td>444</td>\n",
       "      <td>V</td>\n",
       "      <td>G</td>\n",
       "      <td>rs2287622</td>\n",
       "      <td>Polymorphism</td>\n",
       "    </tr>\n",
       "    <tr>\n",
       "      <th>560</th>\n",
       "      <td>P08183-893-S-A</td>\n",
       "      <td>P08183</td>\n",
       "      <td>893</td>\n",
       "      <td>S</td>\n",
       "      <td>A</td>\n",
       "      <td>rs2032582</td>\n",
       "      <td>Polymorphism</td>\n",
       "    </tr>\n",
       "    <tr>\n",
       "      <th>561</th>\n",
       "      <td>P08183-893-S-T</td>\n",
       "      <td>P08183</td>\n",
       "      <td>893</td>\n",
       "      <td>S</td>\n",
       "      <td>T</td>\n",
       "      <td>rs2032582</td>\n",
       "      <td>Polymorphism</td>\n",
       "    </tr>\n",
       "    <tr>\n",
       "      <th>705</th>\n",
       "      <td>O75027-581-V-A</td>\n",
       "      <td>O75027</td>\n",
       "      <td>581</td>\n",
       "      <td>V</td>\n",
       "      <td>A</td>\n",
       "      <td>rs1340989</td>\n",
       "      <td>Polymorphism</td>\n",
       "    </tr>\n",
       "    <tr>\n",
       "      <th>706</th>\n",
       "      <td>O75027-580-A-V</td>\n",
       "      <td>O75027</td>\n",
       "      <td>580</td>\n",
       "      <td>A</td>\n",
       "      <td>V</td>\n",
       "      <td>rs1340989</td>\n",
       "      <td>Polymorphism</td>\n",
       "    </tr>\n",
       "    <tr>\n",
       "      <th>806</th>\n",
       "      <td>O95255-1138-R-Q</td>\n",
       "      <td>O95255</td>\n",
       "      <td>1138</td>\n",
       "      <td>R</td>\n",
       "      <td>Q</td>\n",
       "      <td>rs60791294</td>\n",
       "      <td>Disease</td>\n",
       "    </tr>\n",
       "    <tr>\n",
       "      <th>827</th>\n",
       "      <td>O95255-1121-S-W</td>\n",
       "      <td>O95255</td>\n",
       "      <td>1121</td>\n",
       "      <td>S</td>\n",
       "      <td>W</td>\n",
       "      <td>rs63750987</td>\n",
       "      <td>Disease</td>\n",
       "    </tr>\n",
       "    <tr>\n",
       "      <th>828</th>\n",
       "      <td>O95255-1138-R-P</td>\n",
       "      <td>O95255</td>\n",
       "      <td>1138</td>\n",
       "      <td>R</td>\n",
       "      <td>P</td>\n",
       "      <td>rs60791294</td>\n",
       "      <td>Disease</td>\n",
       "    </tr>\n",
       "    <tr>\n",
       "      <th>895</th>\n",
       "      <td>O95255-1121-S-L</td>\n",
       "      <td>O95255</td>\n",
       "      <td>1121</td>\n",
       "      <td>S</td>\n",
       "      <td>L</td>\n",
       "      <td>rs63750987</td>\n",
       "      <td>Disease</td>\n",
       "    </tr>\n",
       "    <tr>\n",
       "      <th>905</th>\n",
       "      <td>O95255-1335-L-P</td>\n",
       "      <td>O95255</td>\n",
       "      <td>1335</td>\n",
       "      <td>L</td>\n",
       "      <td>P</td>\n",
       "      <td>rs63750414</td>\n",
       "      <td>Disease</td>\n",
       "    </tr>\n",
       "    <tr>\n",
       "      <th>...</th>\n",
       "      <td>...</td>\n",
       "      <td>...</td>\n",
       "      <td>...</td>\n",
       "      <td>...</td>\n",
       "      <td>...</td>\n",
       "      <td>...</td>\n",
       "      <td>...</td>\n",
       "    </tr>\n",
       "    <tr>\n",
       "      <th>74291</th>\n",
       "      <td>P58304-200-R-Q</td>\n",
       "      <td>P58304</td>\n",
       "      <td>200</td>\n",
       "      <td>R</td>\n",
       "      <td>Q</td>\n",
       "      <td>rs121912543</td>\n",
       "      <td>Disease</td>\n",
       "    </tr>\n",
       "    <tr>\n",
       "      <th>74303</th>\n",
       "      <td>A6NCI4-657-T-I</td>\n",
       "      <td>A6NCI4</td>\n",
       "      <td>657</td>\n",
       "      <td>T</td>\n",
       "      <td>I</td>\n",
       "      <td>rs1105929</td>\n",
       "      <td>Polymorphism</td>\n",
       "    </tr>\n",
       "    <tr>\n",
       "      <th>74305</th>\n",
       "      <td>A6NCI4-464-T-I</td>\n",
       "      <td>A6NCI4</td>\n",
       "      <td>464</td>\n",
       "      <td>T</td>\n",
       "      <td>I</td>\n",
       "      <td>rs1105929</td>\n",
       "      <td>Polymorphism</td>\n",
       "    </tr>\n",
       "    <tr>\n",
       "      <th>74374</th>\n",
       "      <td>P04275-1597-R-G</td>\n",
       "      <td>P04275</td>\n",
       "      <td>1597</td>\n",
       "      <td>R</td>\n",
       "      <td>G</td>\n",
       "      <td>rs61750117</td>\n",
       "      <td>Disease</td>\n",
       "    </tr>\n",
       "    <tr>\n",
       "      <th>74376</th>\n",
       "      <td>P04275-1597-R-W</td>\n",
       "      <td>P04275</td>\n",
       "      <td>1597</td>\n",
       "      <td>R</td>\n",
       "      <td>W</td>\n",
       "      <td>rs61750117</td>\n",
       "      <td>Disease</td>\n",
       "    </tr>\n",
       "    <tr>\n",
       "      <th>74434</th>\n",
       "      <td>P42768-86-R-H</td>\n",
       "      <td>P42768</td>\n",
       "      <td>86</td>\n",
       "      <td>R</td>\n",
       "      <td>H</td>\n",
       "      <td>rs132630268</td>\n",
       "      <td>Disease</td>\n",
       "    </tr>\n",
       "    <tr>\n",
       "      <th>74435</th>\n",
       "      <td>P42768-86-R-L</td>\n",
       "      <td>P42768</td>\n",
       "      <td>86</td>\n",
       "      <td>R</td>\n",
       "      <td>L</td>\n",
       "      <td>rs132630268</td>\n",
       "      <td>Disease</td>\n",
       "    </tr>\n",
       "    <tr>\n",
       "      <th>74544</th>\n",
       "      <td>Q9P2L0-878-A-P</td>\n",
       "      <td>Q9P2L0</td>\n",
       "      <td>878</td>\n",
       "      <td>A</td>\n",
       "      <td>P</td>\n",
       "      <td>rs2293669</td>\n",
       "      <td>Polymorphism</td>\n",
       "    </tr>\n",
       "    <tr>\n",
       "      <th>74545</th>\n",
       "      <td>Q9P2L0-878-A-T</td>\n",
       "      <td>Q9P2L0</td>\n",
       "      <td>878</td>\n",
       "      <td>A</td>\n",
       "      <td>T</td>\n",
       "      <td>rs2293669</td>\n",
       "      <td>Polymorphism</td>\n",
       "    </tr>\n",
       "    <tr>\n",
       "      <th>74612</th>\n",
       "      <td>Q8TBY9-61-E-G</td>\n",
       "      <td>Q8TBY9</td>\n",
       "      <td>61</td>\n",
       "      <td>E</td>\n",
       "      <td>G</td>\n",
       "      <td>rs12824001</td>\n",
       "      <td>Polymorphism</td>\n",
       "    </tr>\n",
       "    <tr>\n",
       "      <th>74615</th>\n",
       "      <td>Q8TBY9-66-G-E</td>\n",
       "      <td>Q8TBY9</td>\n",
       "      <td>66</td>\n",
       "      <td>G</td>\n",
       "      <td>E</td>\n",
       "      <td>rs12824001</td>\n",
       "      <td>Polymorphism</td>\n",
       "    </tr>\n",
       "    <tr>\n",
       "      <th>74747</th>\n",
       "      <td>Q9P202-813-T-M</td>\n",
       "      <td>Q9P202</td>\n",
       "      <td>813</td>\n",
       "      <td>T</td>\n",
       "      <td>M</td>\n",
       "      <td>rs942519</td>\n",
       "      <td>Polymorphism</td>\n",
       "    </tr>\n",
       "    <tr>\n",
       "      <th>74751</th>\n",
       "      <td>Q9P202-613-M-T</td>\n",
       "      <td>Q9P202</td>\n",
       "      <td>613</td>\n",
       "      <td>M</td>\n",
       "      <td>T</td>\n",
       "      <td>rs942519</td>\n",
       "      <td>Polymorphism</td>\n",
       "    </tr>\n",
       "    <tr>\n",
       "      <th>75073</th>\n",
       "      <td>Q01831-513-M-I</td>\n",
       "      <td>Q01831</td>\n",
       "      <td>513</td>\n",
       "      <td>M</td>\n",
       "      <td>I</td>\n",
       "      <td>rs3731130</td>\n",
       "      <td>Polymorphism</td>\n",
       "    </tr>\n",
       "    <tr>\n",
       "      <th>75079</th>\n",
       "      <td>Q01831-514-C-S</td>\n",
       "      <td>Q01831</td>\n",
       "      <td>514</td>\n",
       "      <td>C</td>\n",
       "      <td>S</td>\n",
       "      <td>rs3731130</td>\n",
       "      <td>Polymorphism</td>\n",
       "    </tr>\n",
       "    <tr>\n",
       "      <th>75588</th>\n",
       "      <td>Q9NZV7-110-A-T</td>\n",
       "      <td>Q9NZV7</td>\n",
       "      <td>110</td>\n",
       "      <td>A</td>\n",
       "      <td>T</td>\n",
       "      <td>rs2191432</td>\n",
       "      <td>Polymorphism</td>\n",
       "    </tr>\n",
       "    <tr>\n",
       "      <th>75807</th>\n",
       "      <td>O75437-386-A-T</td>\n",
       "      <td>O75437</td>\n",
       "      <td>386</td>\n",
       "      <td>A</td>\n",
       "      <td>T</td>\n",
       "      <td>rs403356</td>\n",
       "      <td>Polymorphism</td>\n",
       "    </tr>\n",
       "    <tr>\n",
       "      <th>75857</th>\n",
       "      <td>Q2VY69-546-K-E</td>\n",
       "      <td>Q2VY69</td>\n",
       "      <td>546</td>\n",
       "      <td>K</td>\n",
       "      <td>E</td>\n",
       "      <td>rs8113249</td>\n",
       "      <td>Polymorphism</td>\n",
       "    </tr>\n",
       "    <tr>\n",
       "      <th>75858</th>\n",
       "      <td>Q2VY69-577-E-K</td>\n",
       "      <td>Q2VY69</td>\n",
       "      <td>577</td>\n",
       "      <td>E</td>\n",
       "      <td>K</td>\n",
       "      <td>rs8113249</td>\n",
       "      <td>Polymorphism</td>\n",
       "    </tr>\n",
       "    <tr>\n",
       "      <th>76147</th>\n",
       "      <td>Q6V9R5-205-K-E</td>\n",
       "      <td>Q6V9R5</td>\n",
       "      <td>205</td>\n",
       "      <td>K</td>\n",
       "      <td>E</td>\n",
       "      <td>rs1059199</td>\n",
       "      <td>Polymorphism</td>\n",
       "    </tr>\n",
       "    <tr>\n",
       "      <th>76148</th>\n",
       "      <td>Q6V9R5-260-E-K</td>\n",
       "      <td>Q6V9R5</td>\n",
       "      <td>260</td>\n",
       "      <td>E</td>\n",
       "      <td>K</td>\n",
       "      <td>rs1059199</td>\n",
       "      <td>Polymorphism</td>\n",
       "    </tr>\n",
       "    <tr>\n",
       "      <th>76164</th>\n",
       "      <td>Q86YE8-186-G-A</td>\n",
       "      <td>Q86YE8</td>\n",
       "      <td>186</td>\n",
       "      <td>G</td>\n",
       "      <td>A</td>\n",
       "      <td>rs3752365</td>\n",
       "      <td>Polymorphism</td>\n",
       "    </tr>\n",
       "    <tr>\n",
       "      <th>76165</th>\n",
       "      <td>Q86YE8-224-G-A</td>\n",
       "      <td>Q86YE8</td>\n",
       "      <td>224</td>\n",
       "      <td>G</td>\n",
       "      <td>A</td>\n",
       "      <td>rs3752365</td>\n",
       "      <td>Polymorphism</td>\n",
       "    </tr>\n",
       "    <tr>\n",
       "      <th>76212</th>\n",
       "      <td>Q96SK3-70-R-H</td>\n",
       "      <td>Q96SK3</td>\n",
       "      <td>70</td>\n",
       "      <td>R</td>\n",
       "      <td>H</td>\n",
       "      <td>rs2385006</td>\n",
       "      <td>Polymorphism</td>\n",
       "    </tr>\n",
       "    <tr>\n",
       "      <th>76216</th>\n",
       "      <td>Q96SK3-433-R-H</td>\n",
       "      <td>Q96SK3</td>\n",
       "      <td>433</td>\n",
       "      <td>R</td>\n",
       "      <td>H</td>\n",
       "      <td>rs2385006</td>\n",
       "      <td>Polymorphism</td>\n",
       "    </tr>\n",
       "    <tr>\n",
       "      <th>76388</th>\n",
       "      <td>Q96N38-473-I-V</td>\n",
       "      <td>Q96N38</td>\n",
       "      <td>473</td>\n",
       "      <td>I</td>\n",
       "      <td>V</td>\n",
       "      <td>rs10427116</td>\n",
       "      <td>Polymorphism</td>\n",
       "    </tr>\n",
       "    <tr>\n",
       "      <th>76389</th>\n",
       "      <td>Q96N38-472-I-V</td>\n",
       "      <td>Q96N38</td>\n",
       "      <td>472</td>\n",
       "      <td>I</td>\n",
       "      <td>V</td>\n",
       "      <td>rs10427116</td>\n",
       "      <td>Polymorphism</td>\n",
       "    </tr>\n",
       "    <tr>\n",
       "      <th>76415</th>\n",
       "      <td>Q0D2J5-327-Y-H</td>\n",
       "      <td>Q0D2J5</td>\n",
       "      <td>327</td>\n",
       "      <td>Y</td>\n",
       "      <td>H</td>\n",
       "      <td>rs7254529</td>\n",
       "      <td>Polymorphism</td>\n",
       "    </tr>\n",
       "    <tr>\n",
       "      <th>76416</th>\n",
       "      <td>Q0D2J5-324-Y-H</td>\n",
       "      <td>Q0D2J5</td>\n",
       "      <td>324</td>\n",
       "      <td>Y</td>\n",
       "      <td>H</td>\n",
       "      <td>rs7254529</td>\n",
       "      <td>Polymorphism</td>\n",
       "    </tr>\n",
       "    <tr>\n",
       "      <th>76579</th>\n",
       "      <td>Q05481-386-A-T</td>\n",
       "      <td>Q05481</td>\n",
       "      <td>386</td>\n",
       "      <td>A</td>\n",
       "      <td>T</td>\n",
       "      <td>rs403356</td>\n",
       "      <td>Polymorphism</td>\n",
       "    </tr>\n",
       "  </tbody>\n",
       "</table>\n",
       "<p>2871 rows × 7 columns</p>\n",
       "</div>"
      ],
      "text/plain": [
       "                MUTANT     UID   Pos WildType Mut        dbSNP          TYPE\n",
       "97      Q86UK0-459-S-T  Q86UK0   459        S   T    rs7560008  Polymorphism\n",
       "104     Q86UK0-777-S-T  Q86UK0   777        S   T    rs7560008  Polymorphism\n",
       "145     O95477-590-W-S  O95477   590        W   S  rs137854496       Disease\n",
       "191     O95477-590-W-L  O95477   590        W   L  rs137854496       Disease\n",
       "231      P78363-96-N-D  P78363    96        N   D   rs61748529       Disease\n",
       "232      P78363-96-N-H  P78363    96        N   H   rs61748529       Disease\n",
       "249     P78363-572-R-P  P78363   572        R   P   rs61748559       Disease\n",
       "250     P78363-572-R-Q  P78363   572        R   Q   rs61748559       Disease\n",
       "332    P78363-2077-R-W  P78363  2077        R   W   rs61750645       Disease\n",
       "353      P78363-68-P-L  P78363    68        P   L   rs62654397       Disease\n",
       "354      P78363-68-P-R  P78363    68        P   R   rs62654397       Disease\n",
       "379     P78363-607-G-R  P78363   607        G   R   rs61749412       Disease\n",
       "380     P78363-607-G-W  P78363   607        G   W   rs61749412       Disease\n",
       "419    P78363-1108-R-H  P78363  1108        R   H   rs61750121       Disease\n",
       "420    P78363-1108-R-L  P78363  1108        R   L   rs61750121       Disease\n",
       "431    P78363-1488-C-F  P78363  1488        C   F   rs61750147       Disease\n",
       "432    P78363-1488-C-Y  P78363  1488        C   Y   rs61750147       Disease\n",
       "466    P78363-2077-R-G  P78363  2077        R   G   rs61750645       Disease\n",
       "521     O95342-444-V-A  O95342   444        V   A    rs2287622  Polymorphism\n",
       "552     O95342-444-V-D  O95342   444        V   D    rs2287622  Polymorphism\n",
       "553     O95342-444-V-G  O95342   444        V   G    rs2287622  Polymorphism\n",
       "560     P08183-893-S-A  P08183   893        S   A    rs2032582  Polymorphism\n",
       "561     P08183-893-S-T  P08183   893        S   T    rs2032582  Polymorphism\n",
       "705     O75027-581-V-A  O75027   581        V   A    rs1340989  Polymorphism\n",
       "706     O75027-580-A-V  O75027   580        A   V    rs1340989  Polymorphism\n",
       "806    O95255-1138-R-Q  O95255  1138        R   Q   rs60791294       Disease\n",
       "827    O95255-1121-S-W  O95255  1121        S   W   rs63750987       Disease\n",
       "828    O95255-1138-R-P  O95255  1138        R   P   rs60791294       Disease\n",
       "895    O95255-1121-S-L  O95255  1121        S   L   rs63750987       Disease\n",
       "905    O95255-1335-L-P  O95255  1335        L   P   rs63750414       Disease\n",
       "...                ...     ...   ...      ...  ..          ...           ...\n",
       "74291   P58304-200-R-Q  P58304   200        R   Q  rs121912543       Disease\n",
       "74303   A6NCI4-657-T-I  A6NCI4   657        T   I    rs1105929  Polymorphism\n",
       "74305   A6NCI4-464-T-I  A6NCI4   464        T   I    rs1105929  Polymorphism\n",
       "74374  P04275-1597-R-G  P04275  1597        R   G   rs61750117       Disease\n",
       "74376  P04275-1597-R-W  P04275  1597        R   W   rs61750117       Disease\n",
       "74434    P42768-86-R-H  P42768    86        R   H  rs132630268       Disease\n",
       "74435    P42768-86-R-L  P42768    86        R   L  rs132630268       Disease\n",
       "74544   Q9P2L0-878-A-P  Q9P2L0   878        A   P    rs2293669  Polymorphism\n",
       "74545   Q9P2L0-878-A-T  Q9P2L0   878        A   T    rs2293669  Polymorphism\n",
       "74612    Q8TBY9-61-E-G  Q8TBY9    61        E   G   rs12824001  Polymorphism\n",
       "74615    Q8TBY9-66-G-E  Q8TBY9    66        G   E   rs12824001  Polymorphism\n",
       "74747   Q9P202-813-T-M  Q9P202   813        T   M     rs942519  Polymorphism\n",
       "74751   Q9P202-613-M-T  Q9P202   613        M   T     rs942519  Polymorphism\n",
       "75073   Q01831-513-M-I  Q01831   513        M   I    rs3731130  Polymorphism\n",
       "75079   Q01831-514-C-S  Q01831   514        C   S    rs3731130  Polymorphism\n",
       "75588   Q9NZV7-110-A-T  Q9NZV7   110        A   T    rs2191432  Polymorphism\n",
       "75807   O75437-386-A-T  O75437   386        A   T     rs403356  Polymorphism\n",
       "75857   Q2VY69-546-K-E  Q2VY69   546        K   E    rs8113249  Polymorphism\n",
       "75858   Q2VY69-577-E-K  Q2VY69   577        E   K    rs8113249  Polymorphism\n",
       "76147   Q6V9R5-205-K-E  Q6V9R5   205        K   E    rs1059199  Polymorphism\n",
       "76148   Q6V9R5-260-E-K  Q6V9R5   260        E   K    rs1059199  Polymorphism\n",
       "76164   Q86YE8-186-G-A  Q86YE8   186        G   A    rs3752365  Polymorphism\n",
       "76165   Q86YE8-224-G-A  Q86YE8   224        G   A    rs3752365  Polymorphism\n",
       "76212    Q96SK3-70-R-H  Q96SK3    70        R   H    rs2385006  Polymorphism\n",
       "76216   Q96SK3-433-R-H  Q96SK3   433        R   H    rs2385006  Polymorphism\n",
       "76388   Q96N38-473-I-V  Q96N38   473        I   V   rs10427116  Polymorphism\n",
       "76389   Q96N38-472-I-V  Q96N38   472        I   V   rs10427116  Polymorphism\n",
       "76415   Q0D2J5-327-Y-H  Q0D2J5   327        Y   H    rs7254529  Polymorphism\n",
       "76416   Q0D2J5-324-Y-H  Q0D2J5   324        Y   H    rs7254529  Polymorphism\n",
       "76579   Q05481-386-A-T  Q05481   386        A   T     rs403356  Polymorphism\n",
       "\n",
       "[2871 rows x 7 columns]"
      ]
     },
     "execution_count": 19,
     "metadata": {},
     "output_type": "execute_result"
    }
   ],
   "source": [
    "hum_final[hum_final.dbSNP.duplicated(keep=False) & ~hum_final.dbSNP.isnull()]"
   ]
  },
  {
   "cell_type": "code",
   "execution_count": 20,
   "metadata": {
    "ExecuteTime": {
     "end_time": "2018-07-28T16:29:40.805413Z",
     "start_time": "2018-07-28T16:29:40.124177Z"
    },
    "collapsed": true
   },
   "outputs": [],
   "source": [
    "hum_final.to_csv(\"../data/interim/humsavar_full.csv.gz\", index=False, compression=\"gzip\")\n",
    "# hum_final.to_csv(\"../data/interim/humsavar_VEST.csv.gz\", index=False, compression=\"gzip\")"
   ]
  },
  {
   "cell_type": "code",
   "execution_count": 55,
   "metadata": {
    "ExecuteTime": {
     "end_time": "2018-07-28T16:50:54.435724Z",
     "start_time": "2018-07-28T16:50:54.239759Z"
    },
    "collapsed": true
   },
   "outputs": [],
   "source": [
    "hum_final = pd.read_csv(\"../data/interim/humsavar_full.csv.gz\")"
   ]
  },
  {
   "cell_type": "code",
   "execution_count": 56,
   "metadata": {
    "ExecuteTime": {
     "end_time": "2018-07-28T16:50:55.748451Z",
     "start_time": "2018-07-28T16:50:55.744404Z"
    }
   },
   "outputs": [
    {
     "data": {
      "text/plain": [
       "(75769, 7)"
      ]
     },
     "execution_count": 56,
     "metadata": {},
     "output_type": "execute_result"
    }
   ],
   "source": [
    "hum_final.shape"
   ]
  },
  {
   "cell_type": "markdown",
   "metadata": {},
   "source": [
    "## SNVBox Features "
   ]
  },
  {
   "cell_type": "markdown",
   "metadata": {},
   "source": [
    "### AA Features (Protein)"
   ]
  },
  {
   "cell_type": "code",
   "execution_count": 57,
   "metadata": {
    "ExecuteTime": {
     "end_time": "2018-07-28T16:50:57.103709Z",
     "start_time": "2018-07-28T16:50:57.095008Z"
    },
    "collapsed": true
   },
   "outputs": [],
   "source": [
    "AA_Features = pd.read_csv(\"../data/external/snvbox_features/AA_Features_snvbox.csv\")"
   ]
  },
  {
   "cell_type": "code",
   "execution_count": 58,
   "metadata": {
    "ExecuteTime": {
     "end_time": "2018-07-28T16:50:58.412638Z",
     "start_time": "2018-07-28T16:50:58.406468Z"
    }
   },
   "outputs": [
    {
     "data": {
      "text/plain": [
       "Index(['WildType', 'Mut', 'Charge', 'Volume', 'Hydrophobicity', 'Grantham',\n",
       "       'Polarity', 'Ex', 'PAM250', 'BLOSUM', 'JM', 'HGMD2003', 'VB',\n",
       "       'Transition', 'COSMIC', 'COSMICvsSWISSPROT', 'HAPMAP',\n",
       "       'COSMICvsHAPMAP'],\n",
       "      dtype='object')"
      ]
     },
     "execution_count": 58,
     "metadata": {},
     "output_type": "execute_result"
    }
   ],
   "source": [
    "AA_Features.columns"
   ]
  },
  {
   "cell_type": "code",
   "execution_count": 59,
   "metadata": {
    "ExecuteTime": {
     "end_time": "2018-07-28T16:50:59.727002Z",
     "start_time": "2018-07-28T16:50:59.705186Z"
    }
   },
   "outputs": [
    {
     "data": {
      "text/html": [
       "<div>\n",
       "<table border=\"1\" class=\"dataframe\">\n",
       "  <thead>\n",
       "    <tr style=\"text-align: right;\">\n",
       "      <th></th>\n",
       "      <th>WildType</th>\n",
       "      <th>Mut</th>\n",
       "      <th>Charge</th>\n",
       "      <th>Volume</th>\n",
       "      <th>Hydrophobicity</th>\n",
       "      <th>Grantham</th>\n",
       "      <th>Polarity</th>\n",
       "      <th>Ex</th>\n",
       "      <th>PAM250</th>\n",
       "      <th>BLOSUM</th>\n",
       "      <th>JM</th>\n",
       "      <th>HGMD2003</th>\n",
       "      <th>VB</th>\n",
       "      <th>Transition</th>\n",
       "      <th>COSMIC</th>\n",
       "      <th>COSMICvsSWISSPROT</th>\n",
       "      <th>HAPMAP</th>\n",
       "      <th>COSMICvsHAPMAP</th>\n",
       "    </tr>\n",
       "  </thead>\n",
       "  <tbody>\n",
       "    <tr>\n",
       "      <th>0</th>\n",
       "      <td>A</td>\n",
       "      <td>C</td>\n",
       "      <td>0</td>\n",
       "      <td>-0.663333</td>\n",
       "      <td>-0.4</td>\n",
       "      <td>195</td>\n",
       "      <td>-2.6</td>\n",
       "      <td>39</td>\n",
       "      <td>0.3</td>\n",
       "      <td>0</td>\n",
       "      <td>-0.20</td>\n",
       "      <td>0</td>\n",
       "      <td>0</td>\n",
       "      <td>0.0014</td>\n",
       "      <td>-10.586231</td>\n",
       "      <td>-13.556968</td>\n",
       "      <td>-9.012255</td>\n",
       "      <td>-1.573976</td>\n",
       "    </tr>\n",
       "    <tr>\n",
       "      <th>1</th>\n",
       "      <td>A</td>\n",
       "      <td>D</td>\n",
       "      <td>1</td>\n",
       "      <td>-0.750000</td>\n",
       "      <td>10.8</td>\n",
       "      <td>126</td>\n",
       "      <td>4.9</td>\n",
       "      <td>19</td>\n",
       "      <td>-0.3</td>\n",
       "      <td>-2</td>\n",
       "      <td>0.22</td>\n",
       "      <td>111</td>\n",
       "      <td>5</td>\n",
       "      <td>0.0028</td>\n",
       "      <td>-7.408177</td>\n",
       "      <td>-10.378914</td>\n",
       "      <td>-5.183614</td>\n",
       "      <td>-2.224563</td>\n",
       "    </tr>\n",
       "    <tr>\n",
       "      <th>2</th>\n",
       "      <td>A</td>\n",
       "      <td>E</td>\n",
       "      <td>1</td>\n",
       "      <td>-1.660000</td>\n",
       "      <td>9.8</td>\n",
       "      <td>107</td>\n",
       "      <td>4.2</td>\n",
       "      <td>27</td>\n",
       "      <td>-0.1</td>\n",
       "      <td>-1</td>\n",
       "      <td>0.21</td>\n",
       "      <td>54</td>\n",
       "      <td>0</td>\n",
       "      <td>0.0047</td>\n",
       "      <td>-6.715030</td>\n",
       "      <td>-9.685767</td>\n",
       "      <td>-6.447306</td>\n",
       "      <td>-0.267724</td>\n",
       "    </tr>\n",
       "    <tr>\n",
       "      <th>3</th>\n",
       "      <td>A</td>\n",
       "      <td>F</td>\n",
       "      <td>0</td>\n",
       "      <td>-3.376667</td>\n",
       "      <td>-2.1</td>\n",
       "      <td>113</td>\n",
       "      <td>-2.9</td>\n",
       "      <td>31</td>\n",
       "      <td>-2.6</td>\n",
       "      <td>-2</td>\n",
       "      <td>-0.49</td>\n",
       "      <td>0</td>\n",
       "      <td>0</td>\n",
       "      <td>0.0028</td>\n",
       "      <td>-8.976793</td>\n",
       "      <td>-11.947530</td>\n",
       "      <td>-7.913643</td>\n",
       "      <td>-1.063150</td>\n",
       "    </tr>\n",
       "    <tr>\n",
       "      <th>4</th>\n",
       "      <td>A</td>\n",
       "      <td>G</td>\n",
       "      <td>0</td>\n",
       "      <td>0.950000</td>\n",
       "      <td>0.6</td>\n",
       "      <td>60</td>\n",
       "      <td>0.9</td>\n",
       "      <td>39</td>\n",
       "      <td>0.6</td>\n",
       "      <td>0</td>\n",
       "      <td>1.66</td>\n",
       "      <td>34</td>\n",
       "      <td>10</td>\n",
       "      <td>0.0049</td>\n",
       "      <td>-7.641792</td>\n",
       "      <td>-10.612529</td>\n",
       "      <td>-5.004922</td>\n",
       "      <td>-2.636870</td>\n",
       "    </tr>\n",
       "  </tbody>\n",
       "</table>\n",
       "</div>"
      ],
      "text/plain": [
       "  WildType Mut  Charge    Volume  Hydrophobicity  Grantham  Polarity  Ex  \\\n",
       "0        A   C       0 -0.663333            -0.4       195      -2.6  39   \n",
       "1        A   D       1 -0.750000            10.8       126       4.9  19   \n",
       "2        A   E       1 -1.660000             9.8       107       4.2  27   \n",
       "3        A   F       0 -3.376667            -2.1       113      -2.9  31   \n",
       "4        A   G       0  0.950000             0.6        60       0.9  39   \n",
       "\n",
       "   PAM250  BLOSUM    JM  HGMD2003  VB  Transition     COSMIC  \\\n",
       "0     0.3       0 -0.20         0   0      0.0014 -10.586231   \n",
       "1    -0.3      -2  0.22       111   5      0.0028  -7.408177   \n",
       "2    -0.1      -1  0.21        54   0      0.0047  -6.715030   \n",
       "3    -2.6      -2 -0.49         0   0      0.0028  -8.976793   \n",
       "4     0.6       0  1.66        34  10      0.0049  -7.641792   \n",
       "\n",
       "   COSMICvsSWISSPROT    HAPMAP  COSMICvsHAPMAP  \n",
       "0         -13.556968 -9.012255       -1.573976  \n",
       "1         -10.378914 -5.183614       -2.224563  \n",
       "2          -9.685767 -6.447306       -0.267724  \n",
       "3         -11.947530 -7.913643       -1.063150  \n",
       "4         -10.612529 -5.004922       -2.636870  "
      ]
     },
     "execution_count": 59,
     "metadata": {},
     "output_type": "execute_result"
    }
   ],
   "source": [
    "AA_Features.head()"
   ]
  },
  {
   "cell_type": "code",
   "execution_count": 60,
   "metadata": {
    "ExecuteTime": {
     "end_time": "2018-07-28T16:51:01.370133Z",
     "start_time": "2018-07-28T16:51:01.193463Z"
    },
    "collapsed": true
   },
   "outputs": [],
   "source": [
    "hum_final = hum_final.merge(AA_Features, on=['WildType', 'Mut'], how='left')"
   ]
  },
  {
   "cell_type": "markdown",
   "metadata": {},
   "source": [
    "### Uniprot Features (Protein)"
   ]
  },
  {
   "cell_type": "code",
   "execution_count": 87,
   "metadata": {
    "ExecuteTime": {
     "end_time": "2018-07-28T18:25:35.734585Z",
     "start_time": "2018-07-28T18:25:35.714695Z"
    },
    "collapsed": true
   },
   "outputs": [],
   "source": [
    "Uniprot_Features = pd.read_csv(\"../data/external/snvbox_features/uniprot_features.csv\")\n",
    "Uniprot_Features.rename(columns={\"Acc\": \"UID\"}, inplace=True)"
   ]
  },
  {
   "cell_type": "code",
   "execution_count": 99,
   "metadata": {
    "ExecuteTime": {
     "end_time": "2018-07-28T18:41:47.426828Z",
     "start_time": "2018-07-28T18:41:47.380665Z"
    }
   },
   "outputs": [
    {
     "data": {
      "text/html": [
       "<div>\n",
       "<table border=\"1\" class=\"dataframe\">\n",
       "  <thead>\n",
       "    <tr style=\"text-align: right;\">\n",
       "      <th></th>\n",
       "      <th>UID</th>\n",
       "      <th>Pos</th>\n",
       "      <th>BINDING</th>\n",
       "      <th>ACT_SITE</th>\n",
       "      <th>SITE</th>\n",
       "      <th>LIPID</th>\n",
       "      <th>METAL</th>\n",
       "      <th>CARBOHYD</th>\n",
       "      <th>DNA_BIND</th>\n",
       "      <th>NP_BIND</th>\n",
       "      <th>...</th>\n",
       "      <th>ZN_FING</th>\n",
       "      <th>REGIONS</th>\n",
       "      <th>PPI</th>\n",
       "      <th>RNABD</th>\n",
       "      <th>TF</th>\n",
       "      <th>LOC</th>\n",
       "      <th>MMBRBD</th>\n",
       "      <th>Chrom</th>\n",
       "      <th>PostModRec</th>\n",
       "      <th>PostModEnz</th>\n",
       "    </tr>\n",
       "  </thead>\n",
       "  <tbody>\n",
       "    <tr>\n",
       "      <th>0</th>\n",
       "      <td>P01023</td>\n",
       "      <td>991</td>\n",
       "      <td>0</td>\n",
       "      <td>0</td>\n",
       "      <td>0</td>\n",
       "      <td>0</td>\n",
       "      <td>0</td>\n",
       "      <td>1</td>\n",
       "      <td>0</td>\n",
       "      <td>0</td>\n",
       "      <td>...</td>\n",
       "      <td>0</td>\n",
       "      <td>0</td>\n",
       "      <td>0</td>\n",
       "      <td>0</td>\n",
       "      <td>0</td>\n",
       "      <td>0</td>\n",
       "      <td>0</td>\n",
       "      <td>0</td>\n",
       "      <td>0</td>\n",
       "      <td>0</td>\n",
       "    </tr>\n",
       "    <tr>\n",
       "      <th>1</th>\n",
       "      <td>P01023</td>\n",
       "      <td>396</td>\n",
       "      <td>0</td>\n",
       "      <td>0</td>\n",
       "      <td>0</td>\n",
       "      <td>0</td>\n",
       "      <td>0</td>\n",
       "      <td>1</td>\n",
       "      <td>0</td>\n",
       "      <td>0</td>\n",
       "      <td>...</td>\n",
       "      <td>0</td>\n",
       "      <td>0</td>\n",
       "      <td>0</td>\n",
       "      <td>0</td>\n",
       "      <td>0</td>\n",
       "      <td>0</td>\n",
       "      <td>0</td>\n",
       "      <td>0</td>\n",
       "      <td>0</td>\n",
       "      <td>0</td>\n",
       "    </tr>\n",
       "    <tr>\n",
       "      <th>2</th>\n",
       "      <td>P01023</td>\n",
       "      <td>1424</td>\n",
       "      <td>0</td>\n",
       "      <td>0</td>\n",
       "      <td>0</td>\n",
       "      <td>0</td>\n",
       "      <td>0</td>\n",
       "      <td>1</td>\n",
       "      <td>0</td>\n",
       "      <td>0</td>\n",
       "      <td>...</td>\n",
       "      <td>0</td>\n",
       "      <td>0</td>\n",
       "      <td>0</td>\n",
       "      <td>0</td>\n",
       "      <td>0</td>\n",
       "      <td>0</td>\n",
       "      <td>0</td>\n",
       "      <td>0</td>\n",
       "      <td>0</td>\n",
       "      <td>0</td>\n",
       "    </tr>\n",
       "    <tr>\n",
       "      <th>3</th>\n",
       "      <td>P01023</td>\n",
       "      <td>277</td>\n",
       "      <td>0</td>\n",
       "      <td>0</td>\n",
       "      <td>0</td>\n",
       "      <td>0</td>\n",
       "      <td>0</td>\n",
       "      <td>0</td>\n",
       "      <td>0</td>\n",
       "      <td>0</td>\n",
       "      <td>...</td>\n",
       "      <td>0</td>\n",
       "      <td>0</td>\n",
       "      <td>0</td>\n",
       "      <td>0</td>\n",
       "      <td>0</td>\n",
       "      <td>0</td>\n",
       "      <td>0</td>\n",
       "      <td>0</td>\n",
       "      <td>0</td>\n",
       "      <td>0</td>\n",
       "    </tr>\n",
       "    <tr>\n",
       "      <th>4</th>\n",
       "      <td>P01023</td>\n",
       "      <td>278</td>\n",
       "      <td>0</td>\n",
       "      <td>0</td>\n",
       "      <td>0</td>\n",
       "      <td>0</td>\n",
       "      <td>0</td>\n",
       "      <td>0</td>\n",
       "      <td>0</td>\n",
       "      <td>0</td>\n",
       "      <td>...</td>\n",
       "      <td>0</td>\n",
       "      <td>0</td>\n",
       "      <td>0</td>\n",
       "      <td>0</td>\n",
       "      <td>0</td>\n",
       "      <td>0</td>\n",
       "      <td>0</td>\n",
       "      <td>0</td>\n",
       "      <td>0</td>\n",
       "      <td>0</td>\n",
       "    </tr>\n",
       "    <tr>\n",
       "      <th>5</th>\n",
       "      <td>P01023</td>\n",
       "      <td>410</td>\n",
       "      <td>0</td>\n",
       "      <td>0</td>\n",
       "      <td>0</td>\n",
       "      <td>0</td>\n",
       "      <td>0</td>\n",
       "      <td>1</td>\n",
       "      <td>0</td>\n",
       "      <td>0</td>\n",
       "      <td>...</td>\n",
       "      <td>0</td>\n",
       "      <td>0</td>\n",
       "      <td>0</td>\n",
       "      <td>0</td>\n",
       "      <td>0</td>\n",
       "      <td>0</td>\n",
       "      <td>0</td>\n",
       "      <td>0</td>\n",
       "      <td>0</td>\n",
       "      <td>0</td>\n",
       "    </tr>\n",
       "    <tr>\n",
       "      <th>6</th>\n",
       "      <td>P01023</td>\n",
       "      <td>70</td>\n",
       "      <td>0</td>\n",
       "      <td>0</td>\n",
       "      <td>0</td>\n",
       "      <td>0</td>\n",
       "      <td>0</td>\n",
       "      <td>1</td>\n",
       "      <td>0</td>\n",
       "      <td>0</td>\n",
       "      <td>...</td>\n",
       "      <td>0</td>\n",
       "      <td>0</td>\n",
       "      <td>0</td>\n",
       "      <td>0</td>\n",
       "      <td>0</td>\n",
       "      <td>0</td>\n",
       "      <td>0</td>\n",
       "      <td>0</td>\n",
       "      <td>0</td>\n",
       "      <td>0</td>\n",
       "    </tr>\n",
       "    <tr>\n",
       "      <th>7</th>\n",
       "      <td>P01023</td>\n",
       "      <td>430</td>\n",
       "      <td>0</td>\n",
       "      <td>0</td>\n",
       "      <td>0</td>\n",
       "      <td>0</td>\n",
       "      <td>0</td>\n",
       "      <td>0</td>\n",
       "      <td>0</td>\n",
       "      <td>0</td>\n",
       "      <td>...</td>\n",
       "      <td>0</td>\n",
       "      <td>0</td>\n",
       "      <td>0</td>\n",
       "      <td>0</td>\n",
       "      <td>0</td>\n",
       "      <td>0</td>\n",
       "      <td>0</td>\n",
       "      <td>0</td>\n",
       "      <td>0</td>\n",
       "      <td>0</td>\n",
       "    </tr>\n",
       "    <tr>\n",
       "      <th>8</th>\n",
       "      <td>P01023</td>\n",
       "      <td>431</td>\n",
       "      <td>0</td>\n",
       "      <td>0</td>\n",
       "      <td>0</td>\n",
       "      <td>0</td>\n",
       "      <td>0</td>\n",
       "      <td>0</td>\n",
       "      <td>0</td>\n",
       "      <td>0</td>\n",
       "      <td>...</td>\n",
       "      <td>0</td>\n",
       "      <td>0</td>\n",
       "      <td>0</td>\n",
       "      <td>0</td>\n",
       "      <td>0</td>\n",
       "      <td>0</td>\n",
       "      <td>0</td>\n",
       "      <td>0</td>\n",
       "      <td>0</td>\n",
       "      <td>0</td>\n",
       "    </tr>\n",
       "    <tr>\n",
       "      <th>9</th>\n",
       "      <td>P01023</td>\n",
       "      <td>690</td>\n",
       "      <td>0</td>\n",
       "      <td>0</td>\n",
       "      <td>0</td>\n",
       "      <td>0</td>\n",
       "      <td>0</td>\n",
       "      <td>0</td>\n",
       "      <td>0</td>\n",
       "      <td>0</td>\n",
       "      <td>...</td>\n",
       "      <td>0</td>\n",
       "      <td>1</td>\n",
       "      <td>0</td>\n",
       "      <td>0</td>\n",
       "      <td>0</td>\n",
       "      <td>0</td>\n",
       "      <td>0</td>\n",
       "      <td>0</td>\n",
       "      <td>0</td>\n",
       "      <td>0</td>\n",
       "    </tr>\n",
       "  </tbody>\n",
       "</table>\n",
       "<p>10 rows × 30 columns</p>\n",
       "</div>"
      ],
      "text/plain": [
       "      UID   Pos  BINDING  ACT_SITE  SITE  LIPID  METAL  CARBOHYD  DNA_BIND  \\\n",
       "0  P01023   991        0         0     0      0      0         1         0   \n",
       "1  P01023   396        0         0     0      0      0         1         0   \n",
       "2  P01023  1424        0         0     0      0      0         1         0   \n",
       "3  P01023   277        0         0     0      0      0         0         0   \n",
       "4  P01023   278        0         0     0      0      0         0         0   \n",
       "5  P01023   410        0         0     0      0      0         1         0   \n",
       "6  P01023    70        0         0     0      0      0         1         0   \n",
       "7  P01023   430        0         0     0      0      0         0         0   \n",
       "8  P01023   431        0         0     0      0      0         0         0   \n",
       "9  P01023   690        0         0     0      0      0         0         0   \n",
       "\n",
       "   NP_BIND     ...      ZN_FING  REGIONS  PPI  RNABD  TF  LOC  MMBRBD  Chrom  \\\n",
       "0        0     ...            0        0    0      0   0    0       0      0   \n",
       "1        0     ...            0        0    0      0   0    0       0      0   \n",
       "2        0     ...            0        0    0      0   0    0       0      0   \n",
       "3        0     ...            0        0    0      0   0    0       0      0   \n",
       "4        0     ...            0        0    0      0   0    0       0      0   \n",
       "5        0     ...            0        0    0      0   0    0       0      0   \n",
       "6        0     ...            0        0    0      0   0    0       0      0   \n",
       "7        0     ...            0        0    0      0   0    0       0      0   \n",
       "8        0     ...            0        0    0      0   0    0       0      0   \n",
       "9        0     ...            0        1    0      0   0    0       0      0   \n",
       "\n",
       "   PostModRec  PostModEnz  \n",
       "0           0           0  \n",
       "1           0           0  \n",
       "2           0           0  \n",
       "3           0           0  \n",
       "4           0           0  \n",
       "5           0           0  \n",
       "6           0           0  \n",
       "7           0           0  \n",
       "8           0           0  \n",
       "9           0           0  \n",
       "\n",
       "[10 rows x 30 columns]"
      ]
     },
     "execution_count": 99,
     "metadata": {},
     "output_type": "execute_result"
    }
   ],
   "source": [
    "Uniprot_Features"
   ]
  },
  {
   "cell_type": "code",
   "execution_count": 88,
   "metadata": {
    "ExecuteTime": {
     "end_time": "2018-07-28T18:25:37.601576Z",
     "start_time": "2018-07-28T18:25:37.587362Z"
    }
   },
   "outputs": [
    {
     "data": {
      "text/plain": [
       "(10, 30)"
      ]
     },
     "execution_count": 88,
     "metadata": {},
     "output_type": "execute_result"
    }
   ],
   "source": [
    "Uniprot_Features.shape"
   ]
  },
  {
   "cell_type": "code",
   "execution_count": 92,
   "metadata": {
    "ExecuteTime": {
     "end_time": "2018-07-28T18:27:21.337725Z",
     "start_time": "2018-07-28T18:27:21.322713Z"
    }
   },
   "outputs": [
    {
     "data": {
      "text/plain": [
       "Index(['UID', 'POS', 'BINDING', 'ACT_SITE', 'SITE', 'LIPID', 'METAL',\n",
       "       'CARBOHYD', 'DNA_BIND', 'NP_BIND', 'CA_BIND', 'DISULFID', 'SE_CYS',\n",
       "       'MOD_RES', 'PROPEP', 'SIGNALP', 'TRANSMEM', 'COMPBIAS', 'REP', 'MOTIF',\n",
       "       'ZN_FING', 'REGIONS', 'PPI', 'RNABD', 'TF', 'LOC', 'MMBRBD', 'CHROM',\n",
       "       'POSTMODREC', 'POSTMODENZ'],\n",
       "      dtype='object')"
      ]
     },
     "execution_count": 92,
     "metadata": {},
     "output_type": "execute_result"
    }
   ],
   "source": [
    "Uniprot_Features.columns.str.upper()"
   ]
  },
  {
   "cell_type": "code",
   "execution_count": 64,
   "metadata": {
    "ExecuteTime": {
     "end_time": "2018-07-28T16:57:39.648326Z",
     "start_time": "2018-07-28T16:57:38.483957Z"
    },
    "collapsed": true
   },
   "outputs": [],
   "source": [
    "hum_final = hum_final.merge(Uniprot_Features, on=['UID', 'Pos'], how='left')"
   ]
  },
  {
   "cell_type": "markdown",
   "metadata": {},
   "source": [
    "## Protparam (Protein)"
   ]
  },
  {
   "cell_type": "code",
   "execution_count": 72,
   "metadata": {
    "ExecuteTime": {
     "end_time": "2018-07-28T17:58:13.091000Z",
     "start_time": "2018-07-28T17:58:12.745513Z"
    },
    "collapsed": true
   },
   "outputs": [],
   "source": [
    "protparam = pd.read_csv(\"../data/interim/protparam_features.csv.gz\")"
   ]
  },
  {
   "cell_type": "code",
   "execution_count": 73,
   "metadata": {
    "ExecuteTime": {
     "end_time": "2018-07-28T17:58:16.157131Z",
     "start_time": "2018-07-28T17:58:16.036596Z"
    },
    "collapsed": true
   },
   "outputs": [],
   "source": [
    "hum_final = hum_final.merge(protparam, on=\"MUTANT\", how=\"left\")"
   ]
  },
  {
   "cell_type": "markdown",
   "metadata": {},
   "source": [
    "## Create Structural Dataset"
   ]
  },
  {
   "cell_type": "code",
   "execution_count": 32,
   "metadata": {
    "ExecuteTime": {
     "end_time": "2018-07-28T16:32:57.103754Z",
     "start_time": "2018-07-28T16:32:57.100159Z"
    },
    "collapsed": true
   },
   "outputs": [],
   "source": [
    "hum_final.columns = hum_final.columns.str.upper()"
   ]
  },
  {
   "cell_type": "code",
   "execution_count": 33,
   "metadata": {
    "ExecuteTime": {
     "end_time": "2018-07-28T16:32:58.408563Z",
     "start_time": "2018-07-28T16:32:58.400470Z"
    }
   },
   "outputs": [
    {
     "data": {
      "text/plain": [
       "Index(['MUTANT', 'UID', 'POS', 'WILDTYPE', 'MUT', 'DBSNP', 'TYPE', 'CHARGE',\n",
       "       'VOLUME', 'HYDROPHOBICITY', 'GRANTHAM', 'POLARITY', 'EX', 'PAM250',\n",
       "       'BLOSUM', 'JM', 'HGMD2003', 'VB', 'TRANSITION', 'COSMIC',\n",
       "       'COSMICVSSWISSPROT', 'HAPMAP', 'COSMICVSHAPMAP', 'BINDING', 'ACT_SITE',\n",
       "       'SITE', 'LIPID', 'METAL', 'CARBOHYD', 'DNA_BIND', 'NP_BIND', 'CA_BIND',\n",
       "       'DISULFID', 'SE_CYS', 'MOD_RES', 'PROPEP', 'SIGNALP', 'TRANSMEM',\n",
       "       'COMPBIAS', 'REP', 'MOTIF', 'ZN_FING', 'REGIONS', 'PPI', 'RNABD', 'TF',\n",
       "       'LOC', 'MMBRBD', 'CHROM', 'POSTMODREC', 'POSTMODENZ',\n",
       "       'AROMATICITY_DIFF', 'AROMATICITY_LOG_RATIO', 'ISOELECTRIC_POINT_DIFF',\n",
       "       'ISOELECTRIC_POINT_LOG_RATIO', 'GRAVY_DIFF', 'GRAVY_LOG_RATIO',\n",
       "       'INSTABILITY_INDEX_DIFF', 'INSTABILITY_INDEX_LOG_RATIO',\n",
       "       'FLEXIBILITY_DIFF', 'FLEXIBILITY_LOG_RATIO'],\n",
       "      dtype='object')"
      ]
     },
     "execution_count": 33,
     "metadata": {},
     "output_type": "execute_result"
    }
   ],
   "source": [
    "hum_final.columns"
   ]
  },
  {
   "cell_type": "code",
   "execution_count": 34,
   "metadata": {
    "ExecuteTime": {
     "end_time": "2018-07-28T16:33:01.417559Z",
     "start_time": "2018-07-28T16:33:01.382307Z"
    },
    "scrolled": true
   },
   "outputs": [
    {
     "data": {
      "text/plain": [
       "Polymorphism    39653\n",
       "Disease         28855\n",
       "Unclassified     7261\n",
       "Name: TYPE, dtype: int64"
      ]
     },
     "execution_count": 34,
     "metadata": {},
     "output_type": "execute_result"
    }
   ],
   "source": [
    "hum_final.TYPE.value_counts()"
   ]
  },
  {
   "cell_type": "code",
   "execution_count": 36,
   "metadata": {
    "ExecuteTime": {
     "end_time": "2018-07-28T16:33:55.324272Z",
     "start_time": "2018-07-28T16:33:48.042460Z"
    },
    "scrolled": true
   },
   "outputs": [],
   "source": [
    "hum_final.replace([np.inf,-np.inf], np.nan, inplace=True)\n",
    "hum_final.to_csv(\"../data/processed/structural/humsavar_full_gt.csv.gz\", index=False, compression=\"gzip\")"
   ]
  },
  {
   "cell_type": "code",
   "execution_count": 37,
   "metadata": {
    "ExecuteTime": {
     "end_time": "2018-07-28T16:34:03.412513Z",
     "start_time": "2018-07-28T16:34:03.400672Z"
    }
   },
   "outputs": [
    {
     "data": {
      "text/plain": [
       "(61,)"
      ]
     },
     "execution_count": 37,
     "metadata": {},
     "output_type": "execute_result"
    }
   ],
   "source": [
    "hum_final.columns.shape"
   ]
  },
  {
   "cell_type": "code",
   "execution_count": 74,
   "metadata": {
    "ExecuteTime": {
     "end_time": "2018-07-28T17:58:24.721360Z",
     "start_time": "2018-07-28T17:58:23.496553Z"
    }
   },
   "outputs": [],
   "source": [
    "hum_final = pd.read_csv(\"../data/processed/structural/humsavar_full_gt.csv.gz\")"
   ]
  },
  {
   "cell_type": "code",
   "execution_count": 75,
   "metadata": {
    "ExecuteTime": {
     "end_time": "2018-07-28T17:58:40.918984Z",
     "start_time": "2018-07-28T17:58:40.905486Z"
    }
   },
   "outputs": [
    {
     "data": {
      "text/plain": [
       "(75769, 61)"
      ]
     },
     "execution_count": 75,
     "metadata": {},
     "output_type": "execute_result"
    }
   ],
   "source": [
    "hum_final.shape"
   ]
  },
  {
   "cell_type": "code",
   "execution_count": 76,
   "metadata": {
    "ExecuteTime": {
     "end_time": "2018-07-28T17:58:43.053660Z",
     "start_time": "2018-07-28T17:58:42.934977Z"
    }
   },
   "outputs": [
    {
     "data": {
      "text/plain": [
       "MUTANT                             0\n",
       "UID                                0\n",
       "POS                                0\n",
       "WILDTYPE                           0\n",
       "MUT                                0\n",
       "DBSNP                          17590\n",
       "TYPE                               0\n",
       "CHARGE                             1\n",
       "VOLUME                             1\n",
       "HYDROPHOBICITY                     1\n",
       "GRANTHAM                           1\n",
       "POLARITY                           1\n",
       "EX                                 1\n",
       "PAM250                             1\n",
       "BLOSUM                             1\n",
       "JM                                 1\n",
       "HGMD2003                           1\n",
       "VB                                 1\n",
       "TRANSITION                         1\n",
       "COSMIC                             1\n",
       "COSMICVSSWISSPROT                  1\n",
       "HAPMAP                             1\n",
       "COSMICVSHAPMAP                     1\n",
       "BINDING                        50638\n",
       "ACT_SITE                       50638\n",
       "SITE                           50638\n",
       "LIPID                          50638\n",
       "METAL                          50638\n",
       "CARBOHYD                       50638\n",
       "DNA_BIND                       50638\n",
       "                               ...  \n",
       "CA_BIND                        50638\n",
       "DISULFID                       50638\n",
       "SE_CYS                         50638\n",
       "MOD_RES                        50638\n",
       "PROPEP                         50638\n",
       "SIGNALP                        50638\n",
       "TRANSMEM                       50638\n",
       "COMPBIAS                       50638\n",
       "REP                            50638\n",
       "MOTIF                          50638\n",
       "ZN_FING                        50638\n",
       "REGIONS                        50638\n",
       "PPI                            50638\n",
       "RNABD                          50638\n",
       "TF                             50638\n",
       "LOC                            50638\n",
       "MMBRBD                         50638\n",
       "CHROM                          50638\n",
       "POSTMODREC                     50638\n",
       "POSTMODENZ                     50638\n",
       "AROMATICITY_DIFF                   9\n",
       "AROMATICITY_LOG_RATIO          25325\n",
       "ISOELECTRIC_POINT_DIFF             9\n",
       "ISOELECTRIC_POINT_LOG_RATIO        9\n",
       "GRAVY_DIFF                        18\n",
       "GRAVY_LOG_RATIO                 7704\n",
       "INSTABILITY_INDEX_DIFF            18\n",
       "INSTABILITY_INDEX_LOG_RATIO     4275\n",
       "FLEXIBILITY_DIFF                 942\n",
       "FLEXIBILITY_LOG_RATIO            942\n",
       "dtype: int64"
      ]
     },
     "execution_count": 76,
     "metadata": {},
     "output_type": "execute_result"
    }
   ],
   "source": [
    "hum_final.isnull().sum()"
   ]
  },
  {
   "cell_type": "code",
   "execution_count": 80,
   "metadata": {
    "ExecuteTime": {
     "end_time": "2018-07-28T17:59:44.802395Z",
     "start_time": "2018-07-28T17:59:44.753109Z"
    }
   },
   "outputs": [],
   "source": [
    "hum_final.drop([\"UID\", \"POS\",\"DBSNP\", \"WILDTYPE\", \"MUT\"], axis=1, inplace=True)\n",
    "hum_final = hum_final[hum_final.TYPE != \"Unclassified\"]\n",
    "dataset = hum_final.set_index(\"MUTANT\")\n",
    "# unclassified_index = dataset[dataset.TYPE == \"Unclassified\"].index\n",
    "# dataset_disease_index = dataset[dataset.TYPE == \"Disease\"].index\n",
    "# dataset_poly_index = dataset[dataset.TYPE == \"Polymorphism\"].index"
   ]
  },
  {
   "cell_type": "code",
   "execution_count": 82,
   "metadata": {
    "ExecuteTime": {
     "end_time": "2018-07-28T18:00:05.669674Z",
     "start_time": "2018-07-28T17:59:59.576325Z"
    }
   },
   "outputs": [],
   "source": [
    "dataset.to_csv(\"../data/processed/structural/dataset.csv.gz\", index=True, compression=\"gzip\")"
   ]
  },
  {
   "cell_type": "code",
   "execution_count": 96,
   "metadata": {
    "ExecuteTime": {
     "end_time": "2018-07-28T18:28:11.491519Z",
     "start_time": "2018-07-28T18:28:10.652252Z"
    },
    "collapsed": true
   },
   "outputs": [],
   "source": [
    "dataset = pd.read_csv(\"../data/processed/structural/dataset.csv.gz\", index_col=\"MUTANT\")"
   ]
  },
  {
   "cell_type": "code",
   "execution_count": 98,
   "metadata": {
    "ExecuteTime": {
     "end_time": "2018-07-28T18:28:18.005182Z",
     "start_time": "2018-07-28T18:28:17.819603Z"
    }
   },
   "outputs": [
    {
     "data": {
      "text/html": [
       "<div>\n",
       "<table border=\"1\" class=\"dataframe\">\n",
       "  <thead>\n",
       "    <tr style=\"text-align: right;\">\n",
       "      <th></th>\n",
       "      <th>BINDING</th>\n",
       "      <th>ACT_SITE</th>\n",
       "      <th>SITE</th>\n",
       "      <th>LIPID</th>\n",
       "      <th>METAL</th>\n",
       "      <th>CARBOHYD</th>\n",
       "      <th>DNA_BIND</th>\n",
       "      <th>NP_BIND</th>\n",
       "      <th>CA_BIND</th>\n",
       "      <th>DISULFID</th>\n",
       "      <th>...</th>\n",
       "      <th>ZN_FING</th>\n",
       "      <th>REGIONS</th>\n",
       "      <th>PPI</th>\n",
       "      <th>RNABD</th>\n",
       "      <th>TF</th>\n",
       "      <th>LOC</th>\n",
       "      <th>MMBRBD</th>\n",
       "      <th>CHROM</th>\n",
       "      <th>POSTMODREC</th>\n",
       "      <th>POSTMODENZ</th>\n",
       "    </tr>\n",
       "  </thead>\n",
       "  <tbody>\n",
       "    <tr>\n",
       "      <th>count</th>\n",
       "      <td>21621.000000</td>\n",
       "      <td>21621.000000</td>\n",
       "      <td>21621.000000</td>\n",
       "      <td>21621.000000</td>\n",
       "      <td>21621.000000</td>\n",
       "      <td>21621.000000</td>\n",
       "      <td>21621.000000</td>\n",
       "      <td>21621.000000</td>\n",
       "      <td>21621.000000</td>\n",
       "      <td>21621.000000</td>\n",
       "      <td>...</td>\n",
       "      <td>21621.000000</td>\n",
       "      <td>21621.000000</td>\n",
       "      <td>21621.000000</td>\n",
       "      <td>21621.000000</td>\n",
       "      <td>21621.000000</td>\n",
       "      <td>21621.000000</td>\n",
       "      <td>21621.000000</td>\n",
       "      <td>21621.000000</td>\n",
       "      <td>21621.000000</td>\n",
       "      <td>21621.000000</td>\n",
       "    </tr>\n",
       "    <tr>\n",
       "      <th>mean</th>\n",
       "      <td>0.005689</td>\n",
       "      <td>0.002313</td>\n",
       "      <td>0.003515</td>\n",
       "      <td>0.000139</td>\n",
       "      <td>0.005596</td>\n",
       "      <td>0.005643</td>\n",
       "      <td>0.024189</td>\n",
       "      <td>0.014292</td>\n",
       "      <td>0.001804</td>\n",
       "      <td>0.017622</td>\n",
       "      <td>...</td>\n",
       "      <td>0.032746</td>\n",
       "      <td>0.299616</td>\n",
       "      <td>0.120531</td>\n",
       "      <td>0.027196</td>\n",
       "      <td>0.008788</td>\n",
       "      <td>0.008279</td>\n",
       "      <td>0.013459</td>\n",
       "      <td>0.000601</td>\n",
       "      <td>0.004440</td>\n",
       "      <td>0.079090</td>\n",
       "    </tr>\n",
       "    <tr>\n",
       "      <th>std</th>\n",
       "      <td>0.075212</td>\n",
       "      <td>0.048035</td>\n",
       "      <td>0.059185</td>\n",
       "      <td>0.011779</td>\n",
       "      <td>0.074601</td>\n",
       "      <td>0.074907</td>\n",
       "      <td>0.153641</td>\n",
       "      <td>0.118693</td>\n",
       "      <td>0.042434</td>\n",
       "      <td>0.131575</td>\n",
       "      <td>...</td>\n",
       "      <td>0.177975</td>\n",
       "      <td>0.458100</td>\n",
       "      <td>0.325589</td>\n",
       "      <td>0.162657</td>\n",
       "      <td>0.093332</td>\n",
       "      <td>0.090614</td>\n",
       "      <td>0.115233</td>\n",
       "      <td>0.024514</td>\n",
       "      <td>0.066488</td>\n",
       "      <td>0.269885</td>\n",
       "    </tr>\n",
       "    <tr>\n",
       "      <th>min</th>\n",
       "      <td>0.000000</td>\n",
       "      <td>0.000000</td>\n",
       "      <td>0.000000</td>\n",
       "      <td>0.000000</td>\n",
       "      <td>0.000000</td>\n",
       "      <td>0.000000</td>\n",
       "      <td>0.000000</td>\n",
       "      <td>0.000000</td>\n",
       "      <td>0.000000</td>\n",
       "      <td>0.000000</td>\n",
       "      <td>...</td>\n",
       "      <td>0.000000</td>\n",
       "      <td>0.000000</td>\n",
       "      <td>0.000000</td>\n",
       "      <td>0.000000</td>\n",
       "      <td>0.000000</td>\n",
       "      <td>0.000000</td>\n",
       "      <td>0.000000</td>\n",
       "      <td>0.000000</td>\n",
       "      <td>0.000000</td>\n",
       "      <td>0.000000</td>\n",
       "    </tr>\n",
       "    <tr>\n",
       "      <th>25%</th>\n",
       "      <td>0.000000</td>\n",
       "      <td>0.000000</td>\n",
       "      <td>0.000000</td>\n",
       "      <td>0.000000</td>\n",
       "      <td>0.000000</td>\n",
       "      <td>0.000000</td>\n",
       "      <td>0.000000</td>\n",
       "      <td>0.000000</td>\n",
       "      <td>0.000000</td>\n",
       "      <td>0.000000</td>\n",
       "      <td>...</td>\n",
       "      <td>0.000000</td>\n",
       "      <td>0.000000</td>\n",
       "      <td>0.000000</td>\n",
       "      <td>0.000000</td>\n",
       "      <td>0.000000</td>\n",
       "      <td>0.000000</td>\n",
       "      <td>0.000000</td>\n",
       "      <td>0.000000</td>\n",
       "      <td>0.000000</td>\n",
       "      <td>0.000000</td>\n",
       "    </tr>\n",
       "    <tr>\n",
       "      <th>50%</th>\n",
       "      <td>0.000000</td>\n",
       "      <td>0.000000</td>\n",
       "      <td>0.000000</td>\n",
       "      <td>0.000000</td>\n",
       "      <td>0.000000</td>\n",
       "      <td>0.000000</td>\n",
       "      <td>0.000000</td>\n",
       "      <td>0.000000</td>\n",
       "      <td>0.000000</td>\n",
       "      <td>0.000000</td>\n",
       "      <td>...</td>\n",
       "      <td>0.000000</td>\n",
       "      <td>0.000000</td>\n",
       "      <td>0.000000</td>\n",
       "      <td>0.000000</td>\n",
       "      <td>0.000000</td>\n",
       "      <td>0.000000</td>\n",
       "      <td>0.000000</td>\n",
       "      <td>0.000000</td>\n",
       "      <td>0.000000</td>\n",
       "      <td>0.000000</td>\n",
       "    </tr>\n",
       "    <tr>\n",
       "      <th>75%</th>\n",
       "      <td>0.000000</td>\n",
       "      <td>0.000000</td>\n",
       "      <td>0.000000</td>\n",
       "      <td>0.000000</td>\n",
       "      <td>0.000000</td>\n",
       "      <td>0.000000</td>\n",
       "      <td>0.000000</td>\n",
       "      <td>0.000000</td>\n",
       "      <td>0.000000</td>\n",
       "      <td>0.000000</td>\n",
       "      <td>...</td>\n",
       "      <td>0.000000</td>\n",
       "      <td>1.000000</td>\n",
       "      <td>0.000000</td>\n",
       "      <td>0.000000</td>\n",
       "      <td>0.000000</td>\n",
       "      <td>0.000000</td>\n",
       "      <td>0.000000</td>\n",
       "      <td>0.000000</td>\n",
       "      <td>0.000000</td>\n",
       "      <td>0.000000</td>\n",
       "    </tr>\n",
       "    <tr>\n",
       "      <th>max</th>\n",
       "      <td>1.000000</td>\n",
       "      <td>1.000000</td>\n",
       "      <td>1.000000</td>\n",
       "      <td>1.000000</td>\n",
       "      <td>1.000000</td>\n",
       "      <td>1.000000</td>\n",
       "      <td>1.000000</td>\n",
       "      <td>1.000000</td>\n",
       "      <td>1.000000</td>\n",
       "      <td>1.000000</td>\n",
       "      <td>...</td>\n",
       "      <td>1.000000</td>\n",
       "      <td>1.000000</td>\n",
       "      <td>1.000000</td>\n",
       "      <td>1.000000</td>\n",
       "      <td>1.000000</td>\n",
       "      <td>1.000000</td>\n",
       "      <td>1.000000</td>\n",
       "      <td>1.000000</td>\n",
       "      <td>1.000000</td>\n",
       "      <td>1.000000</td>\n",
       "    </tr>\n",
       "  </tbody>\n",
       "</table>\n",
       "<p>8 rows × 28 columns</p>\n",
       "</div>"
      ],
      "text/plain": [
       "            BINDING      ACT_SITE          SITE         LIPID         METAL  \\\n",
       "count  21621.000000  21621.000000  21621.000000  21621.000000  21621.000000   \n",
       "mean       0.005689      0.002313      0.003515      0.000139      0.005596   \n",
       "std        0.075212      0.048035      0.059185      0.011779      0.074601   \n",
       "min        0.000000      0.000000      0.000000      0.000000      0.000000   \n",
       "25%        0.000000      0.000000      0.000000      0.000000      0.000000   \n",
       "50%        0.000000      0.000000      0.000000      0.000000      0.000000   \n",
       "75%        0.000000      0.000000      0.000000      0.000000      0.000000   \n",
       "max        1.000000      1.000000      1.000000      1.000000      1.000000   \n",
       "\n",
       "           CARBOHYD      DNA_BIND       NP_BIND       CA_BIND      DISULFID  \\\n",
       "count  21621.000000  21621.000000  21621.000000  21621.000000  21621.000000   \n",
       "mean       0.005643      0.024189      0.014292      0.001804      0.017622   \n",
       "std        0.074907      0.153641      0.118693      0.042434      0.131575   \n",
       "min        0.000000      0.000000      0.000000      0.000000      0.000000   \n",
       "25%        0.000000      0.000000      0.000000      0.000000      0.000000   \n",
       "50%        0.000000      0.000000      0.000000      0.000000      0.000000   \n",
       "75%        0.000000      0.000000      0.000000      0.000000      0.000000   \n",
       "max        1.000000      1.000000      1.000000      1.000000      1.000000   \n",
       "\n",
       "           ...            ZN_FING       REGIONS           PPI         RNABD  \\\n",
       "count      ...       21621.000000  21621.000000  21621.000000  21621.000000   \n",
       "mean       ...           0.032746      0.299616      0.120531      0.027196   \n",
       "std        ...           0.177975      0.458100      0.325589      0.162657   \n",
       "min        ...           0.000000      0.000000      0.000000      0.000000   \n",
       "25%        ...           0.000000      0.000000      0.000000      0.000000   \n",
       "50%        ...           0.000000      0.000000      0.000000      0.000000   \n",
       "75%        ...           0.000000      1.000000      0.000000      0.000000   \n",
       "max        ...           1.000000      1.000000      1.000000      1.000000   \n",
       "\n",
       "                 TF           LOC        MMBRBD         CHROM    POSTMODREC  \\\n",
       "count  21621.000000  21621.000000  21621.000000  21621.000000  21621.000000   \n",
       "mean       0.008788      0.008279      0.013459      0.000601      0.004440   \n",
       "std        0.093332      0.090614      0.115233      0.024514      0.066488   \n",
       "min        0.000000      0.000000      0.000000      0.000000      0.000000   \n",
       "25%        0.000000      0.000000      0.000000      0.000000      0.000000   \n",
       "50%        0.000000      0.000000      0.000000      0.000000      0.000000   \n",
       "75%        0.000000      0.000000      0.000000      0.000000      0.000000   \n",
       "max        1.000000      1.000000      1.000000      1.000000      1.000000   \n",
       "\n",
       "         POSTMODENZ  \n",
       "count  21621.000000  \n",
       "mean       0.079090  \n",
       "std        0.269885  \n",
       "min        0.000000  \n",
       "25%        0.000000  \n",
       "50%        0.000000  \n",
       "75%        0.000000  \n",
       "max        1.000000  \n",
       "\n",
       "[8 rows x 28 columns]"
      ]
     },
     "execution_count": 98,
     "metadata": {},
     "output_type": "execute_result"
    }
   ],
   "source": [
    "dataset[Uniprot_Features.columns.str.upper().drop([\"UID\", \"POS\"],1 )].describe()"
   ]
  },
  {
   "cell_type": "code",
   "execution_count": 86,
   "metadata": {
    "ExecuteTime": {
     "end_time": "2018-07-28T18:19:38.581297Z",
     "start_time": "2018-07-28T18:19:38.279013Z"
    }
   },
   "outputs": [],
   "source": [
    "dataset.describe().to_csv(\"/home/marlan/workspace/master-thesis/results/estructural/describe.csv\", index=True)"
   ]
  },
  {
   "cell_type": "markdown",
   "metadata": {},
   "source": [
    "### Single Train Test"
   ]
  },
  {
   "cell_type": "code",
   "execution_count": null,
   "metadata": {
    "collapsed": true
   },
   "outputs": [],
   "source": []
  },
  {
   "cell_type": "markdown",
   "metadata": {},
   "source": [
    "### Multiple Train Tests"
   ]
  },
  {
   "cell_type": "code",
   "execution_count": null,
   "metadata": {
    "ExecuteTime": {
     "end_time": "2018-05-05T23:09:12.611142Z",
     "start_time": "2018-05-05T23:07:16.244111Z"
    },
    "collapsed": true,
    "deletable": false,
    "editable": false
   },
   "outputs": [],
   "source": [
    "for i in range(20):\n",
    "    train = pd.concat([\n",
    "        dataset.loc[dataset_disease_index].sample(n=25000, random_state=i),\n",
    "        dataset.loc[dataset_poly_index].sample(n=25000, random_state=i)\n",
    "    ]).sample(frac=1)\n",
    "    \n",
    "    test = pd.concat([\n",
    "        dataset.loc[dataset_disease_index.difference(train.index)].sample(n=3855, random_state=i),\n",
    "        dataset.loc[dataset_poly_index.difference(train.index)].sample(n=14653, random_state=i)\n",
    "    ]).sample(frac=1)\n",
    "    train.to_csv(\"../data/processed/3/train_test_sets/train_{}.csv\".format(i), index=True, index_label=\"MUTANT\")\n",
    "    test.to_csv(\"../data/processed/3/train_test_sets/test_{}.csv\".format(i), index=True, index_label=\"MUTANT\")"
   ]
  },
  {
   "cell_type": "code",
   "execution_count": null,
   "metadata": {
    "collapsed": true
   },
   "outputs": [],
   "source": []
  }
 ],
 "metadata": {
  "kernelspec": {
   "display_name": "Python 3",
   "language": "python",
   "name": "python3"
  },
  "language_info": {
   "codemirror_mode": {
    "name": "ipython",
    "version": 3
   },
   "file_extension": ".py",
   "mimetype": "text/x-python",
   "name": "python",
   "nbconvert_exporter": "python",
   "pygments_lexer": "ipython3",
   "version": "3.6.3"
  },
  "varInspector": {
   "cols": {
    "lenName": 16,
    "lenType": 16,
    "lenVar": 40
   },
   "kernels_config": {
    "python": {
     "delete_cmd_postfix": "",
     "delete_cmd_prefix": "del ",
     "library": "var_list.py",
     "varRefreshCmd": "print(var_dic_list())"
    },
    "r": {
     "delete_cmd_postfix": ") ",
     "delete_cmd_prefix": "rm(",
     "library": "var_list.r",
     "varRefreshCmd": "cat(var_dic_list()) "
    }
   },
   "oldHeight": 221,
   "position": {
    "height": "243px",
    "left": "1040px",
    "right": "20px",
    "top": "214px",
    "width": "414px"
   },
   "types_to_exclude": [
    "module",
    "function",
    "builtin_function_or_method",
    "instance",
    "_Feature"
   ],
   "varInspector_section_display": "block",
   "window_display": false
  }
 },
 "nbformat": 4,
 "nbformat_minor": 2
}
