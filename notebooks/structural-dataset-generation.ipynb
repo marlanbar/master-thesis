{
 "cells": [
  {
   "cell_type": "code",
   "execution_count": 22,
   "metadata": {
    "ExecuteTime": {
     "end_time": "2019-01-12T15:49:07.354720Z",
     "start_time": "2019-01-12T15:49:06.492382Z"
    },
    "collapsed": true
   },
   "outputs": [],
   "source": [
    "import pandas as pd\n",
    "import numpy as np\n",
    "\n",
    "from matplotlib import pyplot as plt\n",
    "import seaborn as sns\n",
    "\n",
    "%matplotlib inline"
   ]
  },
  {
   "cell_type": "markdown",
   "metadata": {},
   "source": [
    "## Humsavar Table"
   ]
  },
  {
   "cell_type": "code",
   "execution_count": 2,
   "metadata": {
    "ExecuteTime": {
     "end_time": "2019-01-12T13:48:27.381440Z",
     "start_time": "2019-01-12T13:48:27.095279Z"
    },
    "collapsed": true
   },
   "outputs": [],
   "source": [
    "hum = pd.read_csv(\"../data/interim/humsavar_clean_201711.csv.gz\", sep=\",\")\n",
    "hum.columns = hum.columns.str.replace(\" \", \"_\")"
   ]
  },
  {
   "cell_type": "code",
   "execution_count": 3,
   "metadata": {
    "ExecuteTime": {
     "end_time": "2019-01-12T13:48:27.664183Z",
     "start_time": "2019-01-12T13:48:27.639721Z"
    },
    "collapsed": true
   },
   "outputs": [],
   "source": [
    "#Correspondencia hecha por Santi\n",
    "AMINO_CODE = {\"Ala\": \"A\",\\\n",
    "              \"Arg\": \"R\",\\\n",
    "              \"Asn\": \"N\",\\\n",
    "              \"Asp\": \"D\",\\\n",
    "              \"Cys\": \"C\",\\\n",
    "              \"Gln\": \"Q\",\\\n",
    "              \"Glu\": \"E\",\\\n",
    "              \"Gly\": \"G\",\\\n",
    "              \"His\": \"H\",\\\n",
    "              \"Ile\": \"I\",\\\n",
    "              \"Leu\": \"L\",\\\n",
    "              \"Lys\": \"K\",\\\n",
    "              \"Met\": \"M\",\\\n",
    "              \"Phe\": \"F\",\\\n",
    "              \"Pro\": \"P\",\\\n",
    "              \"Ser\": \"S\",\\\n",
    "              \"Thr\": \"T\",\\\n",
    "              \"Trp\": \"W\",\\\n",
    "              \"Tyr\": \"Y\",\\\n",
    "              \"Val\": \"V\",\\\n",
    "              \"Sec\": \"U\"\n",
    "             }"
   ]
  },
  {
   "cell_type": "code",
   "execution_count": 4,
   "metadata": {
    "ExecuteTime": {
     "end_time": "2019-01-12T13:48:28.296657Z",
     "start_time": "2019-01-12T13:48:28.253500Z"
    }
   },
   "outputs": [
    {
     "data": {
      "text/plain": [
       "Index(['Main_gene_name', 'Swiss_Prot_AC', 'FTId', 'AA_Change',\n",
       "       'Type_of_variant', 'dbSNP', 'Disease_Name'],\n",
       "      dtype='object')"
      ]
     },
     "execution_count": 4,
     "metadata": {},
     "output_type": "execute_result"
    }
   ],
   "source": [
    "hum.columns"
   ]
  },
  {
   "cell_type": "code",
   "execution_count": 5,
   "metadata": {
    "ExecuteTime": {
     "end_time": "2019-01-12T13:48:29.034431Z",
     "start_time": "2019-01-12T13:48:28.801923Z"
    },
    "collapsed": true
   },
   "outputs": [],
   "source": [
    "df = pd.DataFrame(data=(hum[\"AA_Change\"].str[2:].str.split(r\"([0-9]+)\")).tolist(), columns=[\"C1\", \"C2\", \"C3\"])\n",
    "df[\"C1\"] = df.C1.map(AMINO_CODE)\n",
    "df[\"C3\"] = df.C3.map(AMINO_CODE)\n",
    "mutant = pd.Series(data=(hum[\"Swiss_Prot_AC\"] + \"-\"+ df.C2 + \"-\" + df.C1 + \"-\" + df.C3).tolist(), name=\"MUTANT\")\n",
    "# mutant = pd.Series(data=(df.C1 + df.C2 + df.C3).tolist(), name=\"MUTANT\")"
   ]
  },
  {
   "cell_type": "code",
   "execution_count": 6,
   "metadata": {
    "ExecuteTime": {
     "end_time": "2019-01-12T13:48:30.863275Z",
     "start_time": "2019-01-12T13:48:30.711644Z"
    },
    "collapsed": true
   },
   "outputs": [],
   "source": [
    "hum_final = pd.concat([hum, mutant, df], 1)[[\"MUTANT\", \"Swiss_Prot_AC\", \"C2\", \"C1\", \"C3\",\"dbSNP\", \"Type_of_variant\"]]\n",
    "hum_final.rename(columns={\"C1\": \"WildType\", \"C3\": \"Mut\", \"Swiss_Prot_AC\": \"UID\", \"C2\": \"Pos\"}, inplace=True)\n",
    "# hum_final = pd.concat([hum, mutant], 1)[[\"FTId\", \"MUTANT\"]]"
   ]
  },
  {
   "cell_type": "code",
   "execution_count": 7,
   "metadata": {
    "ExecuteTime": {
     "end_time": "2019-01-12T13:48:32.291919Z",
     "start_time": "2019-01-12T13:48:32.269835Z"
    }
   },
   "outputs": [
    {
     "data": {
      "text/html": [
       "<div>\n",
       "<table border=\"1\" class=\"dataframe\">\n",
       "  <thead>\n",
       "    <tr style=\"text-align: right;\">\n",
       "      <th></th>\n",
       "      <th>MUTANT</th>\n",
       "      <th>UID</th>\n",
       "      <th>Pos</th>\n",
       "      <th>WildType</th>\n",
       "      <th>Mut</th>\n",
       "      <th>dbSNP</th>\n",
       "      <th>Type_of_variant</th>\n",
       "    </tr>\n",
       "  </thead>\n",
       "  <tbody>\n",
       "    <tr>\n",
       "      <th>0</th>\n",
       "      <td>P04217-52-H-R</td>\n",
       "      <td>P04217</td>\n",
       "      <td>52</td>\n",
       "      <td>H</td>\n",
       "      <td>R</td>\n",
       "      <td>rs893184</td>\n",
       "      <td>Polymorphism</td>\n",
       "    </tr>\n",
       "    <tr>\n",
       "      <th>1</th>\n",
       "      <td>P04217-395-H-R</td>\n",
       "      <td>P04217</td>\n",
       "      <td>395</td>\n",
       "      <td>H</td>\n",
       "      <td>R</td>\n",
       "      <td>rs2241788</td>\n",
       "      <td>Polymorphism</td>\n",
       "    </tr>\n",
       "    <tr>\n",
       "      <th>2</th>\n",
       "      <td>Q9NQ94-555-V-M</td>\n",
       "      <td>Q9NQ94</td>\n",
       "      <td>555</td>\n",
       "      <td>V</td>\n",
       "      <td>M</td>\n",
       "      <td>rs9073</td>\n",
       "      <td>Polymorphism</td>\n",
       "    </tr>\n",
       "    <tr>\n",
       "      <th>3</th>\n",
       "      <td>Q9NQ94-558-A-S</td>\n",
       "      <td>Q9NQ94</td>\n",
       "      <td>558</td>\n",
       "      <td>A</td>\n",
       "      <td>S</td>\n",
       "      <td>rs11817448</td>\n",
       "      <td>Polymorphism</td>\n",
       "    </tr>\n",
       "    <tr>\n",
       "      <th>4</th>\n",
       "      <td>A8K2U0-207-G-R</td>\n",
       "      <td>A8K2U0</td>\n",
       "      <td>207</td>\n",
       "      <td>G</td>\n",
       "      <td>R</td>\n",
       "      <td>rs11047499</td>\n",
       "      <td>Polymorphism</td>\n",
       "    </tr>\n",
       "  </tbody>\n",
       "</table>\n",
       "</div>"
      ],
      "text/plain": [
       "           MUTANT     UID  Pos WildType Mut       dbSNP Type_of_variant\n",
       "0   P04217-52-H-R  P04217   52        H   R    rs893184    Polymorphism\n",
       "1  P04217-395-H-R  P04217  395        H   R   rs2241788    Polymorphism\n",
       "2  Q9NQ94-555-V-M  Q9NQ94  555        V   M      rs9073    Polymorphism\n",
       "3  Q9NQ94-558-A-S  Q9NQ94  558        A   S  rs11817448    Polymorphism\n",
       "4  A8K2U0-207-G-R  A8K2U0  207        G   R  rs11047499    Polymorphism"
      ]
     },
     "execution_count": 7,
     "metadata": {},
     "output_type": "execute_result"
    }
   ],
   "source": [
    "hum_final.head()"
   ]
  },
  {
   "cell_type": "code",
   "execution_count": 8,
   "metadata": {
    "ExecuteTime": {
     "end_time": "2019-01-12T13:48:32.564591Z",
     "start_time": "2019-01-12T13:48:32.555234Z"
    }
   },
   "outputs": [
    {
     "data": {
      "text/plain": [
       "(76730, 7)"
      ]
     },
     "execution_count": 8,
     "metadata": {},
     "output_type": "execute_result"
    }
   ],
   "source": [
    "hum_final.shape"
   ]
  },
  {
   "cell_type": "code",
   "execution_count": 17,
   "metadata": {
    "ExecuteTime": {
     "end_time": "2018-09-02T16:50:59.460512Z",
     "start_time": "2018-09-02T16:50:59.398001Z"
    },
    "collapsed": true
   },
   "outputs": [],
   "source": [
    "hum_final.drop_duplicates(\"MUTANT\", inplace=True)\n",
    "# hum_final.drop_duplicates(\"dbSNP\", inplace=True)\n",
    "hum_final.rename(columns={\"Type_of_variant\": \"TYPE\"}, inplace=True)"
   ]
  },
  {
   "cell_type": "code",
   "execution_count": 18,
   "metadata": {
    "ExecuteTime": {
     "end_time": "2018-09-02T16:50:59.802167Z",
     "start_time": "2018-09-02T16:50:59.794983Z"
    }
   },
   "outputs": [
    {
     "data": {
      "text/plain": [
       "(75769, 7)"
      ]
     },
     "execution_count": 18,
     "metadata": {},
     "output_type": "execute_result"
    }
   ],
   "source": [
    "hum_final.shape"
   ]
  },
  {
   "cell_type": "code",
   "execution_count": 21,
   "metadata": {
    "ExecuteTime": {
     "end_time": "2018-09-02T16:53:13.782775Z",
     "start_time": "2018-09-02T16:53:13.758083Z"
    }
   },
   "outputs": [
    {
     "data": {
      "text/plain": [
       "Polymorphism    0.523341\n",
       "Disease         0.380829\n",
       "Unclassified    0.095831\n",
       "Name: TYPE, dtype: float64"
      ]
     },
     "execution_count": 21,
     "metadata": {},
     "output_type": "execute_result"
    }
   ],
   "source": [
    "hum_final.TYPE.value_counts(normalize=True)"
   ]
  },
  {
   "cell_type": "code",
   "execution_count": 10,
   "metadata": {
    "ExecuteTime": {
     "end_time": "2018-08-05T17:36:29.649834Z",
     "start_time": "2018-08-05T17:36:29.632993Z"
    }
   },
   "outputs": [
    {
     "data": {
      "text/html": [
       "<div>\n",
       "<table border=\"1\" class=\"dataframe\">\n",
       "  <thead>\n",
       "    <tr style=\"text-align: right;\">\n",
       "      <th></th>\n",
       "      <th>MUTANT</th>\n",
       "      <th>UID</th>\n",
       "      <th>Pos</th>\n",
       "      <th>WildType</th>\n",
       "      <th>Mut</th>\n",
       "      <th>dbSNP</th>\n",
       "      <th>TYPE</th>\n",
       "    </tr>\n",
       "  </thead>\n",
       "  <tbody>\n",
       "    <tr>\n",
       "      <th>0</th>\n",
       "      <td>P04217-52-H-R</td>\n",
       "      <td>P04217</td>\n",
       "      <td>52</td>\n",
       "      <td>H</td>\n",
       "      <td>R</td>\n",
       "      <td>rs893184</td>\n",
       "      <td>Polymorphism</td>\n",
       "    </tr>\n",
       "    <tr>\n",
       "      <th>1</th>\n",
       "      <td>P04217-395-H-R</td>\n",
       "      <td>P04217</td>\n",
       "      <td>395</td>\n",
       "      <td>H</td>\n",
       "      <td>R</td>\n",
       "      <td>rs2241788</td>\n",
       "      <td>Polymorphism</td>\n",
       "    </tr>\n",
       "    <tr>\n",
       "      <th>2</th>\n",
       "      <td>Q9NQ94-555-V-M</td>\n",
       "      <td>Q9NQ94</td>\n",
       "      <td>555</td>\n",
       "      <td>V</td>\n",
       "      <td>M</td>\n",
       "      <td>rs9073</td>\n",
       "      <td>Polymorphism</td>\n",
       "    </tr>\n",
       "  </tbody>\n",
       "</table>\n",
       "</div>"
      ],
      "text/plain": [
       "           MUTANT     UID  Pos WildType Mut      dbSNP          TYPE\n",
       "0   P04217-52-H-R  P04217   52        H   R   rs893184  Polymorphism\n",
       "1  P04217-395-H-R  P04217  395        H   R  rs2241788  Polymorphism\n",
       "2  Q9NQ94-555-V-M  Q9NQ94  555        V   M     rs9073  Polymorphism"
      ]
     },
     "execution_count": 10,
     "metadata": {},
     "output_type": "execute_result"
    }
   ],
   "source": [
    "hum_final.head(3)"
   ]
  },
  {
   "cell_type": "code",
   "execution_count": 11,
   "metadata": {
    "ExecuteTime": {
     "end_time": "2018-08-05T17:36:29.895853Z",
     "start_time": "2018-08-05T17:36:29.830986Z"
    },
    "scrolled": true
   },
   "outputs": [
    {
     "data": {
      "text/html": [
       "<div>\n",
       "<table border=\"1\" class=\"dataframe\">\n",
       "  <thead>\n",
       "    <tr style=\"text-align: right;\">\n",
       "      <th></th>\n",
       "      <th>MUTANT</th>\n",
       "      <th>UID</th>\n",
       "      <th>Pos</th>\n",
       "      <th>WildType</th>\n",
       "      <th>Mut</th>\n",
       "      <th>dbSNP</th>\n",
       "      <th>TYPE</th>\n",
       "    </tr>\n",
       "  </thead>\n",
       "  <tbody>\n",
       "    <tr>\n",
       "      <th>97</th>\n",
       "      <td>Q86UK0-459-S-T</td>\n",
       "      <td>Q86UK0</td>\n",
       "      <td>459</td>\n",
       "      <td>S</td>\n",
       "      <td>T</td>\n",
       "      <td>rs7560008</td>\n",
       "      <td>Polymorphism</td>\n",
       "    </tr>\n",
       "    <tr>\n",
       "      <th>104</th>\n",
       "      <td>Q86UK0-777-S-T</td>\n",
       "      <td>Q86UK0</td>\n",
       "      <td>777</td>\n",
       "      <td>S</td>\n",
       "      <td>T</td>\n",
       "      <td>rs7560008</td>\n",
       "      <td>Polymorphism</td>\n",
       "    </tr>\n",
       "    <tr>\n",
       "      <th>145</th>\n",
       "      <td>O95477-590-W-S</td>\n",
       "      <td>O95477</td>\n",
       "      <td>590</td>\n",
       "      <td>W</td>\n",
       "      <td>S</td>\n",
       "      <td>rs137854496</td>\n",
       "      <td>Disease</td>\n",
       "    </tr>\n",
       "    <tr>\n",
       "      <th>191</th>\n",
       "      <td>O95477-590-W-L</td>\n",
       "      <td>O95477</td>\n",
       "      <td>590</td>\n",
       "      <td>W</td>\n",
       "      <td>L</td>\n",
       "      <td>rs137854496</td>\n",
       "      <td>Disease</td>\n",
       "    </tr>\n",
       "    <tr>\n",
       "      <th>231</th>\n",
       "      <td>P78363-96-N-D</td>\n",
       "      <td>P78363</td>\n",
       "      <td>96</td>\n",
       "      <td>N</td>\n",
       "      <td>D</td>\n",
       "      <td>rs61748529</td>\n",
       "      <td>Disease</td>\n",
       "    </tr>\n",
       "    <tr>\n",
       "      <th>232</th>\n",
       "      <td>P78363-96-N-H</td>\n",
       "      <td>P78363</td>\n",
       "      <td>96</td>\n",
       "      <td>N</td>\n",
       "      <td>H</td>\n",
       "      <td>rs61748529</td>\n",
       "      <td>Disease</td>\n",
       "    </tr>\n",
       "    <tr>\n",
       "      <th>249</th>\n",
       "      <td>P78363-572-R-P</td>\n",
       "      <td>P78363</td>\n",
       "      <td>572</td>\n",
       "      <td>R</td>\n",
       "      <td>P</td>\n",
       "      <td>rs61748559</td>\n",
       "      <td>Disease</td>\n",
       "    </tr>\n",
       "    <tr>\n",
       "      <th>250</th>\n",
       "      <td>P78363-572-R-Q</td>\n",
       "      <td>P78363</td>\n",
       "      <td>572</td>\n",
       "      <td>R</td>\n",
       "      <td>Q</td>\n",
       "      <td>rs61748559</td>\n",
       "      <td>Disease</td>\n",
       "    </tr>\n",
       "    <tr>\n",
       "      <th>332</th>\n",
       "      <td>P78363-2077-R-W</td>\n",
       "      <td>P78363</td>\n",
       "      <td>2077</td>\n",
       "      <td>R</td>\n",
       "      <td>W</td>\n",
       "      <td>rs61750645</td>\n",
       "      <td>Disease</td>\n",
       "    </tr>\n",
       "    <tr>\n",
       "      <th>353</th>\n",
       "      <td>P78363-68-P-L</td>\n",
       "      <td>P78363</td>\n",
       "      <td>68</td>\n",
       "      <td>P</td>\n",
       "      <td>L</td>\n",
       "      <td>rs62654397</td>\n",
       "      <td>Disease</td>\n",
       "    </tr>\n",
       "    <tr>\n",
       "      <th>354</th>\n",
       "      <td>P78363-68-P-R</td>\n",
       "      <td>P78363</td>\n",
       "      <td>68</td>\n",
       "      <td>P</td>\n",
       "      <td>R</td>\n",
       "      <td>rs62654397</td>\n",
       "      <td>Disease</td>\n",
       "    </tr>\n",
       "    <tr>\n",
       "      <th>379</th>\n",
       "      <td>P78363-607-G-R</td>\n",
       "      <td>P78363</td>\n",
       "      <td>607</td>\n",
       "      <td>G</td>\n",
       "      <td>R</td>\n",
       "      <td>rs61749412</td>\n",
       "      <td>Disease</td>\n",
       "    </tr>\n",
       "    <tr>\n",
       "      <th>380</th>\n",
       "      <td>P78363-607-G-W</td>\n",
       "      <td>P78363</td>\n",
       "      <td>607</td>\n",
       "      <td>G</td>\n",
       "      <td>W</td>\n",
       "      <td>rs61749412</td>\n",
       "      <td>Disease</td>\n",
       "    </tr>\n",
       "    <tr>\n",
       "      <th>419</th>\n",
       "      <td>P78363-1108-R-H</td>\n",
       "      <td>P78363</td>\n",
       "      <td>1108</td>\n",
       "      <td>R</td>\n",
       "      <td>H</td>\n",
       "      <td>rs61750121</td>\n",
       "      <td>Disease</td>\n",
       "    </tr>\n",
       "    <tr>\n",
       "      <th>420</th>\n",
       "      <td>P78363-1108-R-L</td>\n",
       "      <td>P78363</td>\n",
       "      <td>1108</td>\n",
       "      <td>R</td>\n",
       "      <td>L</td>\n",
       "      <td>rs61750121</td>\n",
       "      <td>Disease</td>\n",
       "    </tr>\n",
       "    <tr>\n",
       "      <th>431</th>\n",
       "      <td>P78363-1488-C-F</td>\n",
       "      <td>P78363</td>\n",
       "      <td>1488</td>\n",
       "      <td>C</td>\n",
       "      <td>F</td>\n",
       "      <td>rs61750147</td>\n",
       "      <td>Disease</td>\n",
       "    </tr>\n",
       "    <tr>\n",
       "      <th>432</th>\n",
       "      <td>P78363-1488-C-Y</td>\n",
       "      <td>P78363</td>\n",
       "      <td>1488</td>\n",
       "      <td>C</td>\n",
       "      <td>Y</td>\n",
       "      <td>rs61750147</td>\n",
       "      <td>Disease</td>\n",
       "    </tr>\n",
       "    <tr>\n",
       "      <th>466</th>\n",
       "      <td>P78363-2077-R-G</td>\n",
       "      <td>P78363</td>\n",
       "      <td>2077</td>\n",
       "      <td>R</td>\n",
       "      <td>G</td>\n",
       "      <td>rs61750645</td>\n",
       "      <td>Disease</td>\n",
       "    </tr>\n",
       "    <tr>\n",
       "      <th>521</th>\n",
       "      <td>O95342-444-V-A</td>\n",
       "      <td>O95342</td>\n",
       "      <td>444</td>\n",
       "      <td>V</td>\n",
       "      <td>A</td>\n",
       "      <td>rs2287622</td>\n",
       "      <td>Polymorphism</td>\n",
       "    </tr>\n",
       "    <tr>\n",
       "      <th>552</th>\n",
       "      <td>O95342-444-V-D</td>\n",
       "      <td>O95342</td>\n",
       "      <td>444</td>\n",
       "      <td>V</td>\n",
       "      <td>D</td>\n",
       "      <td>rs2287622</td>\n",
       "      <td>Polymorphism</td>\n",
       "    </tr>\n",
       "    <tr>\n",
       "      <th>553</th>\n",
       "      <td>O95342-444-V-G</td>\n",
       "      <td>O95342</td>\n",
       "      <td>444</td>\n",
       "      <td>V</td>\n",
       "      <td>G</td>\n",
       "      <td>rs2287622</td>\n",
       "      <td>Polymorphism</td>\n",
       "    </tr>\n",
       "    <tr>\n",
       "      <th>560</th>\n",
       "      <td>P08183-893-S-A</td>\n",
       "      <td>P08183</td>\n",
       "      <td>893</td>\n",
       "      <td>S</td>\n",
       "      <td>A</td>\n",
       "      <td>rs2032582</td>\n",
       "      <td>Polymorphism</td>\n",
       "    </tr>\n",
       "    <tr>\n",
       "      <th>561</th>\n",
       "      <td>P08183-893-S-T</td>\n",
       "      <td>P08183</td>\n",
       "      <td>893</td>\n",
       "      <td>S</td>\n",
       "      <td>T</td>\n",
       "      <td>rs2032582</td>\n",
       "      <td>Polymorphism</td>\n",
       "    </tr>\n",
       "    <tr>\n",
       "      <th>705</th>\n",
       "      <td>O75027-581-V-A</td>\n",
       "      <td>O75027</td>\n",
       "      <td>581</td>\n",
       "      <td>V</td>\n",
       "      <td>A</td>\n",
       "      <td>rs1340989</td>\n",
       "      <td>Polymorphism</td>\n",
       "    </tr>\n",
       "    <tr>\n",
       "      <th>706</th>\n",
       "      <td>O75027-580-A-V</td>\n",
       "      <td>O75027</td>\n",
       "      <td>580</td>\n",
       "      <td>A</td>\n",
       "      <td>V</td>\n",
       "      <td>rs1340989</td>\n",
       "      <td>Polymorphism</td>\n",
       "    </tr>\n",
       "    <tr>\n",
       "      <th>806</th>\n",
       "      <td>O95255-1138-R-Q</td>\n",
       "      <td>O95255</td>\n",
       "      <td>1138</td>\n",
       "      <td>R</td>\n",
       "      <td>Q</td>\n",
       "      <td>rs60791294</td>\n",
       "      <td>Disease</td>\n",
       "    </tr>\n",
       "    <tr>\n",
       "      <th>827</th>\n",
       "      <td>O95255-1121-S-W</td>\n",
       "      <td>O95255</td>\n",
       "      <td>1121</td>\n",
       "      <td>S</td>\n",
       "      <td>W</td>\n",
       "      <td>rs63750987</td>\n",
       "      <td>Disease</td>\n",
       "    </tr>\n",
       "    <tr>\n",
       "      <th>828</th>\n",
       "      <td>O95255-1138-R-P</td>\n",
       "      <td>O95255</td>\n",
       "      <td>1138</td>\n",
       "      <td>R</td>\n",
       "      <td>P</td>\n",
       "      <td>rs60791294</td>\n",
       "      <td>Disease</td>\n",
       "    </tr>\n",
       "    <tr>\n",
       "      <th>895</th>\n",
       "      <td>O95255-1121-S-L</td>\n",
       "      <td>O95255</td>\n",
       "      <td>1121</td>\n",
       "      <td>S</td>\n",
       "      <td>L</td>\n",
       "      <td>rs63750987</td>\n",
       "      <td>Disease</td>\n",
       "    </tr>\n",
       "    <tr>\n",
       "      <th>905</th>\n",
       "      <td>O95255-1335-L-P</td>\n",
       "      <td>O95255</td>\n",
       "      <td>1335</td>\n",
       "      <td>L</td>\n",
       "      <td>P</td>\n",
       "      <td>rs63750414</td>\n",
       "      <td>Disease</td>\n",
       "    </tr>\n",
       "    <tr>\n",
       "      <th>...</th>\n",
       "      <td>...</td>\n",
       "      <td>...</td>\n",
       "      <td>...</td>\n",
       "      <td>...</td>\n",
       "      <td>...</td>\n",
       "      <td>...</td>\n",
       "      <td>...</td>\n",
       "    </tr>\n",
       "    <tr>\n",
       "      <th>74291</th>\n",
       "      <td>P58304-200-R-Q</td>\n",
       "      <td>P58304</td>\n",
       "      <td>200</td>\n",
       "      <td>R</td>\n",
       "      <td>Q</td>\n",
       "      <td>rs121912543</td>\n",
       "      <td>Disease</td>\n",
       "    </tr>\n",
       "    <tr>\n",
       "      <th>74303</th>\n",
       "      <td>A6NCI4-657-T-I</td>\n",
       "      <td>A6NCI4</td>\n",
       "      <td>657</td>\n",
       "      <td>T</td>\n",
       "      <td>I</td>\n",
       "      <td>rs1105929</td>\n",
       "      <td>Polymorphism</td>\n",
       "    </tr>\n",
       "    <tr>\n",
       "      <th>74305</th>\n",
       "      <td>A6NCI4-464-T-I</td>\n",
       "      <td>A6NCI4</td>\n",
       "      <td>464</td>\n",
       "      <td>T</td>\n",
       "      <td>I</td>\n",
       "      <td>rs1105929</td>\n",
       "      <td>Polymorphism</td>\n",
       "    </tr>\n",
       "    <tr>\n",
       "      <th>74374</th>\n",
       "      <td>P04275-1597-R-G</td>\n",
       "      <td>P04275</td>\n",
       "      <td>1597</td>\n",
       "      <td>R</td>\n",
       "      <td>G</td>\n",
       "      <td>rs61750117</td>\n",
       "      <td>Disease</td>\n",
       "    </tr>\n",
       "    <tr>\n",
       "      <th>74376</th>\n",
       "      <td>P04275-1597-R-W</td>\n",
       "      <td>P04275</td>\n",
       "      <td>1597</td>\n",
       "      <td>R</td>\n",
       "      <td>W</td>\n",
       "      <td>rs61750117</td>\n",
       "      <td>Disease</td>\n",
       "    </tr>\n",
       "    <tr>\n",
       "      <th>74434</th>\n",
       "      <td>P42768-86-R-H</td>\n",
       "      <td>P42768</td>\n",
       "      <td>86</td>\n",
       "      <td>R</td>\n",
       "      <td>H</td>\n",
       "      <td>rs132630268</td>\n",
       "      <td>Disease</td>\n",
       "    </tr>\n",
       "    <tr>\n",
       "      <th>74435</th>\n",
       "      <td>P42768-86-R-L</td>\n",
       "      <td>P42768</td>\n",
       "      <td>86</td>\n",
       "      <td>R</td>\n",
       "      <td>L</td>\n",
       "      <td>rs132630268</td>\n",
       "      <td>Disease</td>\n",
       "    </tr>\n",
       "    <tr>\n",
       "      <th>74544</th>\n",
       "      <td>Q9P2L0-878-A-P</td>\n",
       "      <td>Q9P2L0</td>\n",
       "      <td>878</td>\n",
       "      <td>A</td>\n",
       "      <td>P</td>\n",
       "      <td>rs2293669</td>\n",
       "      <td>Polymorphism</td>\n",
       "    </tr>\n",
       "    <tr>\n",
       "      <th>74545</th>\n",
       "      <td>Q9P2L0-878-A-T</td>\n",
       "      <td>Q9P2L0</td>\n",
       "      <td>878</td>\n",
       "      <td>A</td>\n",
       "      <td>T</td>\n",
       "      <td>rs2293669</td>\n",
       "      <td>Polymorphism</td>\n",
       "    </tr>\n",
       "    <tr>\n",
       "      <th>74612</th>\n",
       "      <td>Q8TBY9-61-E-G</td>\n",
       "      <td>Q8TBY9</td>\n",
       "      <td>61</td>\n",
       "      <td>E</td>\n",
       "      <td>G</td>\n",
       "      <td>rs12824001</td>\n",
       "      <td>Polymorphism</td>\n",
       "    </tr>\n",
       "    <tr>\n",
       "      <th>74615</th>\n",
       "      <td>Q8TBY9-66-G-E</td>\n",
       "      <td>Q8TBY9</td>\n",
       "      <td>66</td>\n",
       "      <td>G</td>\n",
       "      <td>E</td>\n",
       "      <td>rs12824001</td>\n",
       "      <td>Polymorphism</td>\n",
       "    </tr>\n",
       "    <tr>\n",
       "      <th>74747</th>\n",
       "      <td>Q9P202-813-T-M</td>\n",
       "      <td>Q9P202</td>\n",
       "      <td>813</td>\n",
       "      <td>T</td>\n",
       "      <td>M</td>\n",
       "      <td>rs942519</td>\n",
       "      <td>Polymorphism</td>\n",
       "    </tr>\n",
       "    <tr>\n",
       "      <th>74751</th>\n",
       "      <td>Q9P202-613-M-T</td>\n",
       "      <td>Q9P202</td>\n",
       "      <td>613</td>\n",
       "      <td>M</td>\n",
       "      <td>T</td>\n",
       "      <td>rs942519</td>\n",
       "      <td>Polymorphism</td>\n",
       "    </tr>\n",
       "    <tr>\n",
       "      <th>75073</th>\n",
       "      <td>Q01831-513-M-I</td>\n",
       "      <td>Q01831</td>\n",
       "      <td>513</td>\n",
       "      <td>M</td>\n",
       "      <td>I</td>\n",
       "      <td>rs3731130</td>\n",
       "      <td>Polymorphism</td>\n",
       "    </tr>\n",
       "    <tr>\n",
       "      <th>75079</th>\n",
       "      <td>Q01831-514-C-S</td>\n",
       "      <td>Q01831</td>\n",
       "      <td>514</td>\n",
       "      <td>C</td>\n",
       "      <td>S</td>\n",
       "      <td>rs3731130</td>\n",
       "      <td>Polymorphism</td>\n",
       "    </tr>\n",
       "    <tr>\n",
       "      <th>75588</th>\n",
       "      <td>Q9NZV7-110-A-T</td>\n",
       "      <td>Q9NZV7</td>\n",
       "      <td>110</td>\n",
       "      <td>A</td>\n",
       "      <td>T</td>\n",
       "      <td>rs2191432</td>\n",
       "      <td>Polymorphism</td>\n",
       "    </tr>\n",
       "    <tr>\n",
       "      <th>75807</th>\n",
       "      <td>O75437-386-A-T</td>\n",
       "      <td>O75437</td>\n",
       "      <td>386</td>\n",
       "      <td>A</td>\n",
       "      <td>T</td>\n",
       "      <td>rs403356</td>\n",
       "      <td>Polymorphism</td>\n",
       "    </tr>\n",
       "    <tr>\n",
       "      <th>75857</th>\n",
       "      <td>Q2VY69-546-K-E</td>\n",
       "      <td>Q2VY69</td>\n",
       "      <td>546</td>\n",
       "      <td>K</td>\n",
       "      <td>E</td>\n",
       "      <td>rs8113249</td>\n",
       "      <td>Polymorphism</td>\n",
       "    </tr>\n",
       "    <tr>\n",
       "      <th>75858</th>\n",
       "      <td>Q2VY69-577-E-K</td>\n",
       "      <td>Q2VY69</td>\n",
       "      <td>577</td>\n",
       "      <td>E</td>\n",
       "      <td>K</td>\n",
       "      <td>rs8113249</td>\n",
       "      <td>Polymorphism</td>\n",
       "    </tr>\n",
       "    <tr>\n",
       "      <th>76147</th>\n",
       "      <td>Q6V9R5-205-K-E</td>\n",
       "      <td>Q6V9R5</td>\n",
       "      <td>205</td>\n",
       "      <td>K</td>\n",
       "      <td>E</td>\n",
       "      <td>rs1059199</td>\n",
       "      <td>Polymorphism</td>\n",
       "    </tr>\n",
       "    <tr>\n",
       "      <th>76148</th>\n",
       "      <td>Q6V9R5-260-E-K</td>\n",
       "      <td>Q6V9R5</td>\n",
       "      <td>260</td>\n",
       "      <td>E</td>\n",
       "      <td>K</td>\n",
       "      <td>rs1059199</td>\n",
       "      <td>Polymorphism</td>\n",
       "    </tr>\n",
       "    <tr>\n",
       "      <th>76164</th>\n",
       "      <td>Q86YE8-186-G-A</td>\n",
       "      <td>Q86YE8</td>\n",
       "      <td>186</td>\n",
       "      <td>G</td>\n",
       "      <td>A</td>\n",
       "      <td>rs3752365</td>\n",
       "      <td>Polymorphism</td>\n",
       "    </tr>\n",
       "    <tr>\n",
       "      <th>76165</th>\n",
       "      <td>Q86YE8-224-G-A</td>\n",
       "      <td>Q86YE8</td>\n",
       "      <td>224</td>\n",
       "      <td>G</td>\n",
       "      <td>A</td>\n",
       "      <td>rs3752365</td>\n",
       "      <td>Polymorphism</td>\n",
       "    </tr>\n",
       "    <tr>\n",
       "      <th>76212</th>\n",
       "      <td>Q96SK3-70-R-H</td>\n",
       "      <td>Q96SK3</td>\n",
       "      <td>70</td>\n",
       "      <td>R</td>\n",
       "      <td>H</td>\n",
       "      <td>rs2385006</td>\n",
       "      <td>Polymorphism</td>\n",
       "    </tr>\n",
       "    <tr>\n",
       "      <th>76216</th>\n",
       "      <td>Q96SK3-433-R-H</td>\n",
       "      <td>Q96SK3</td>\n",
       "      <td>433</td>\n",
       "      <td>R</td>\n",
       "      <td>H</td>\n",
       "      <td>rs2385006</td>\n",
       "      <td>Polymorphism</td>\n",
       "    </tr>\n",
       "    <tr>\n",
       "      <th>76388</th>\n",
       "      <td>Q96N38-473-I-V</td>\n",
       "      <td>Q96N38</td>\n",
       "      <td>473</td>\n",
       "      <td>I</td>\n",
       "      <td>V</td>\n",
       "      <td>rs10427116</td>\n",
       "      <td>Polymorphism</td>\n",
       "    </tr>\n",
       "    <tr>\n",
       "      <th>76389</th>\n",
       "      <td>Q96N38-472-I-V</td>\n",
       "      <td>Q96N38</td>\n",
       "      <td>472</td>\n",
       "      <td>I</td>\n",
       "      <td>V</td>\n",
       "      <td>rs10427116</td>\n",
       "      <td>Polymorphism</td>\n",
       "    </tr>\n",
       "    <tr>\n",
       "      <th>76415</th>\n",
       "      <td>Q0D2J5-327-Y-H</td>\n",
       "      <td>Q0D2J5</td>\n",
       "      <td>327</td>\n",
       "      <td>Y</td>\n",
       "      <td>H</td>\n",
       "      <td>rs7254529</td>\n",
       "      <td>Polymorphism</td>\n",
       "    </tr>\n",
       "    <tr>\n",
       "      <th>76416</th>\n",
       "      <td>Q0D2J5-324-Y-H</td>\n",
       "      <td>Q0D2J5</td>\n",
       "      <td>324</td>\n",
       "      <td>Y</td>\n",
       "      <td>H</td>\n",
       "      <td>rs7254529</td>\n",
       "      <td>Polymorphism</td>\n",
       "    </tr>\n",
       "    <tr>\n",
       "      <th>76579</th>\n",
       "      <td>Q05481-386-A-T</td>\n",
       "      <td>Q05481</td>\n",
       "      <td>386</td>\n",
       "      <td>A</td>\n",
       "      <td>T</td>\n",
       "      <td>rs403356</td>\n",
       "      <td>Polymorphism</td>\n",
       "    </tr>\n",
       "  </tbody>\n",
       "</table>\n",
       "<p>2871 rows × 7 columns</p>\n",
       "</div>"
      ],
      "text/plain": [
       "                MUTANT     UID   Pos WildType Mut        dbSNP          TYPE\n",
       "97      Q86UK0-459-S-T  Q86UK0   459        S   T    rs7560008  Polymorphism\n",
       "104     Q86UK0-777-S-T  Q86UK0   777        S   T    rs7560008  Polymorphism\n",
       "145     O95477-590-W-S  O95477   590        W   S  rs137854496       Disease\n",
       "191     O95477-590-W-L  O95477   590        W   L  rs137854496       Disease\n",
       "231      P78363-96-N-D  P78363    96        N   D   rs61748529       Disease\n",
       "232      P78363-96-N-H  P78363    96        N   H   rs61748529       Disease\n",
       "249     P78363-572-R-P  P78363   572        R   P   rs61748559       Disease\n",
       "250     P78363-572-R-Q  P78363   572        R   Q   rs61748559       Disease\n",
       "332    P78363-2077-R-W  P78363  2077        R   W   rs61750645       Disease\n",
       "353      P78363-68-P-L  P78363    68        P   L   rs62654397       Disease\n",
       "354      P78363-68-P-R  P78363    68        P   R   rs62654397       Disease\n",
       "379     P78363-607-G-R  P78363   607        G   R   rs61749412       Disease\n",
       "380     P78363-607-G-W  P78363   607        G   W   rs61749412       Disease\n",
       "419    P78363-1108-R-H  P78363  1108        R   H   rs61750121       Disease\n",
       "420    P78363-1108-R-L  P78363  1108        R   L   rs61750121       Disease\n",
       "431    P78363-1488-C-F  P78363  1488        C   F   rs61750147       Disease\n",
       "432    P78363-1488-C-Y  P78363  1488        C   Y   rs61750147       Disease\n",
       "466    P78363-2077-R-G  P78363  2077        R   G   rs61750645       Disease\n",
       "521     O95342-444-V-A  O95342   444        V   A    rs2287622  Polymorphism\n",
       "552     O95342-444-V-D  O95342   444        V   D    rs2287622  Polymorphism\n",
       "553     O95342-444-V-G  O95342   444        V   G    rs2287622  Polymorphism\n",
       "560     P08183-893-S-A  P08183   893        S   A    rs2032582  Polymorphism\n",
       "561     P08183-893-S-T  P08183   893        S   T    rs2032582  Polymorphism\n",
       "705     O75027-581-V-A  O75027   581        V   A    rs1340989  Polymorphism\n",
       "706     O75027-580-A-V  O75027   580        A   V    rs1340989  Polymorphism\n",
       "806    O95255-1138-R-Q  O95255  1138        R   Q   rs60791294       Disease\n",
       "827    O95255-1121-S-W  O95255  1121        S   W   rs63750987       Disease\n",
       "828    O95255-1138-R-P  O95255  1138        R   P   rs60791294       Disease\n",
       "895    O95255-1121-S-L  O95255  1121        S   L   rs63750987       Disease\n",
       "905    O95255-1335-L-P  O95255  1335        L   P   rs63750414       Disease\n",
       "...                ...     ...   ...      ...  ..          ...           ...\n",
       "74291   P58304-200-R-Q  P58304   200        R   Q  rs121912543       Disease\n",
       "74303   A6NCI4-657-T-I  A6NCI4   657        T   I    rs1105929  Polymorphism\n",
       "74305   A6NCI4-464-T-I  A6NCI4   464        T   I    rs1105929  Polymorphism\n",
       "74374  P04275-1597-R-G  P04275  1597        R   G   rs61750117       Disease\n",
       "74376  P04275-1597-R-W  P04275  1597        R   W   rs61750117       Disease\n",
       "74434    P42768-86-R-H  P42768    86        R   H  rs132630268       Disease\n",
       "74435    P42768-86-R-L  P42768    86        R   L  rs132630268       Disease\n",
       "74544   Q9P2L0-878-A-P  Q9P2L0   878        A   P    rs2293669  Polymorphism\n",
       "74545   Q9P2L0-878-A-T  Q9P2L0   878        A   T    rs2293669  Polymorphism\n",
       "74612    Q8TBY9-61-E-G  Q8TBY9    61        E   G   rs12824001  Polymorphism\n",
       "74615    Q8TBY9-66-G-E  Q8TBY9    66        G   E   rs12824001  Polymorphism\n",
       "74747   Q9P202-813-T-M  Q9P202   813        T   M     rs942519  Polymorphism\n",
       "74751   Q9P202-613-M-T  Q9P202   613        M   T     rs942519  Polymorphism\n",
       "75073   Q01831-513-M-I  Q01831   513        M   I    rs3731130  Polymorphism\n",
       "75079   Q01831-514-C-S  Q01831   514        C   S    rs3731130  Polymorphism\n",
       "75588   Q9NZV7-110-A-T  Q9NZV7   110        A   T    rs2191432  Polymorphism\n",
       "75807   O75437-386-A-T  O75437   386        A   T     rs403356  Polymorphism\n",
       "75857   Q2VY69-546-K-E  Q2VY69   546        K   E    rs8113249  Polymorphism\n",
       "75858   Q2VY69-577-E-K  Q2VY69   577        E   K    rs8113249  Polymorphism\n",
       "76147   Q6V9R5-205-K-E  Q6V9R5   205        K   E    rs1059199  Polymorphism\n",
       "76148   Q6V9R5-260-E-K  Q6V9R5   260        E   K    rs1059199  Polymorphism\n",
       "76164   Q86YE8-186-G-A  Q86YE8   186        G   A    rs3752365  Polymorphism\n",
       "76165   Q86YE8-224-G-A  Q86YE8   224        G   A    rs3752365  Polymorphism\n",
       "76212    Q96SK3-70-R-H  Q96SK3    70        R   H    rs2385006  Polymorphism\n",
       "76216   Q96SK3-433-R-H  Q96SK3   433        R   H    rs2385006  Polymorphism\n",
       "76388   Q96N38-473-I-V  Q96N38   473        I   V   rs10427116  Polymorphism\n",
       "76389   Q96N38-472-I-V  Q96N38   472        I   V   rs10427116  Polymorphism\n",
       "76415   Q0D2J5-327-Y-H  Q0D2J5   327        Y   H    rs7254529  Polymorphism\n",
       "76416   Q0D2J5-324-Y-H  Q0D2J5   324        Y   H    rs7254529  Polymorphism\n",
       "76579   Q05481-386-A-T  Q05481   386        A   T     rs403356  Polymorphism\n",
       "\n",
       "[2871 rows x 7 columns]"
      ]
     },
     "execution_count": 11,
     "metadata": {},
     "output_type": "execute_result"
    }
   ],
   "source": [
    "hum_final[hum_final.dbSNP.duplicated(keep=False) & ~hum_final.dbSNP.isnull()]"
   ]
  },
  {
   "cell_type": "code",
   "execution_count": 12,
   "metadata": {
    "ExecuteTime": {
     "end_time": "2018-08-05T17:36:30.640646Z",
     "start_time": "2018-08-05T17:36:30.016612Z"
    },
    "collapsed": true
   },
   "outputs": [],
   "source": [
    "hum_final.to_csv(\"../data/interim/humsavar_full.csv.gz\", index=False, compression=\"gzip\")\n",
    "# hum_final.to_csv(\"../data/interim/humsavar_VEST.csv.gz\", index=False, compression=\"gzip\")"
   ]
  },
  {
   "cell_type": "code",
   "execution_count": 5,
   "metadata": {
    "ExecuteTime": {
     "end_time": "2018-08-05T17:48:26.874483Z",
     "start_time": "2018-08-05T17:48:26.718328Z"
    },
    "collapsed": true
   },
   "outputs": [],
   "source": [
    "hum_final = pd.read_csv(\"../data/interim/humsavar_full.csv.gz\")"
   ]
  },
  {
   "cell_type": "code",
   "execution_count": 6,
   "metadata": {
    "ExecuteTime": {
     "end_time": "2018-08-05T17:48:27.373370Z",
     "start_time": "2018-08-05T17:48:27.350192Z"
    }
   },
   "outputs": [
    {
     "data": {
      "text/plain": [
       "(75769, 7)"
      ]
     },
     "execution_count": 6,
     "metadata": {},
     "output_type": "execute_result"
    }
   ],
   "source": [
    "hum_final.shape"
   ]
  },
  {
   "cell_type": "markdown",
   "metadata": {},
   "source": [
    "## SNVBox Features "
   ]
  },
  {
   "cell_type": "markdown",
   "metadata": {},
   "source": [
    "### AA Features (Protein)"
   ]
  },
  {
   "cell_type": "code",
   "execution_count": 7,
   "metadata": {
    "ExecuteTime": {
     "end_time": "2018-08-05T17:48:28.509620Z",
     "start_time": "2018-08-05T17:48:28.497743Z"
    },
    "collapsed": true
   },
   "outputs": [],
   "source": [
    "AA_Features = pd.read_csv(\"../data/external/snvbox_features/AA_Features_snvbox.csv\")"
   ]
  },
  {
   "cell_type": "code",
   "execution_count": 8,
   "metadata": {
    "ExecuteTime": {
     "end_time": "2018-08-05T17:48:29.142256Z",
     "start_time": "2018-08-05T17:48:29.122835Z"
    }
   },
   "outputs": [
    {
     "data": {
      "text/plain": [
       "Index(['WildType', 'Mut', 'Charge', 'Volume', 'Hydrophobicity', 'Grantham',\n",
       "       'Polarity', 'Ex', 'PAM250', 'BLOSUM', 'JM', 'HGMD2003', 'VB',\n",
       "       'Transition', 'COSMIC', 'COSMICvsSWISSPROT', 'HAPMAP',\n",
       "       'COSMICvsHAPMAP'],\n",
       "      dtype='object')"
      ]
     },
     "execution_count": 8,
     "metadata": {},
     "output_type": "execute_result"
    }
   ],
   "source": [
    "AA_Features.columns"
   ]
  },
  {
   "cell_type": "code",
   "execution_count": 9,
   "metadata": {
    "ExecuteTime": {
     "end_time": "2018-08-05T17:48:29.686114Z",
     "start_time": "2018-08-05T17:48:29.653461Z"
    }
   },
   "outputs": [
    {
     "data": {
      "text/html": [
       "<div>\n",
       "<table border=\"1\" class=\"dataframe\">\n",
       "  <thead>\n",
       "    <tr style=\"text-align: right;\">\n",
       "      <th></th>\n",
       "      <th>WildType</th>\n",
       "      <th>Mut</th>\n",
       "      <th>Charge</th>\n",
       "      <th>Volume</th>\n",
       "      <th>Hydrophobicity</th>\n",
       "      <th>Grantham</th>\n",
       "      <th>Polarity</th>\n",
       "      <th>Ex</th>\n",
       "      <th>PAM250</th>\n",
       "      <th>BLOSUM</th>\n",
       "      <th>JM</th>\n",
       "      <th>HGMD2003</th>\n",
       "      <th>VB</th>\n",
       "      <th>Transition</th>\n",
       "      <th>COSMIC</th>\n",
       "      <th>COSMICvsSWISSPROT</th>\n",
       "      <th>HAPMAP</th>\n",
       "      <th>COSMICvsHAPMAP</th>\n",
       "    </tr>\n",
       "  </thead>\n",
       "  <tbody>\n",
       "    <tr>\n",
       "      <th>0</th>\n",
       "      <td>A</td>\n",
       "      <td>C</td>\n",
       "      <td>0</td>\n",
       "      <td>-0.663333</td>\n",
       "      <td>-0.4</td>\n",
       "      <td>195</td>\n",
       "      <td>-2.6</td>\n",
       "      <td>39</td>\n",
       "      <td>0.3</td>\n",
       "      <td>0</td>\n",
       "      <td>-0.20</td>\n",
       "      <td>0</td>\n",
       "      <td>0</td>\n",
       "      <td>0.0014</td>\n",
       "      <td>-10.586231</td>\n",
       "      <td>-13.556968</td>\n",
       "      <td>-9.012255</td>\n",
       "      <td>-1.573976</td>\n",
       "    </tr>\n",
       "    <tr>\n",
       "      <th>1</th>\n",
       "      <td>A</td>\n",
       "      <td>D</td>\n",
       "      <td>1</td>\n",
       "      <td>-0.750000</td>\n",
       "      <td>10.8</td>\n",
       "      <td>126</td>\n",
       "      <td>4.9</td>\n",
       "      <td>19</td>\n",
       "      <td>-0.3</td>\n",
       "      <td>-2</td>\n",
       "      <td>0.22</td>\n",
       "      <td>111</td>\n",
       "      <td>5</td>\n",
       "      <td>0.0028</td>\n",
       "      <td>-7.408177</td>\n",
       "      <td>-10.378914</td>\n",
       "      <td>-5.183614</td>\n",
       "      <td>-2.224563</td>\n",
       "    </tr>\n",
       "    <tr>\n",
       "      <th>2</th>\n",
       "      <td>A</td>\n",
       "      <td>E</td>\n",
       "      <td>1</td>\n",
       "      <td>-1.660000</td>\n",
       "      <td>9.8</td>\n",
       "      <td>107</td>\n",
       "      <td>4.2</td>\n",
       "      <td>27</td>\n",
       "      <td>-0.1</td>\n",
       "      <td>-1</td>\n",
       "      <td>0.21</td>\n",
       "      <td>54</td>\n",
       "      <td>0</td>\n",
       "      <td>0.0047</td>\n",
       "      <td>-6.715030</td>\n",
       "      <td>-9.685767</td>\n",
       "      <td>-6.447306</td>\n",
       "      <td>-0.267724</td>\n",
       "    </tr>\n",
       "    <tr>\n",
       "      <th>3</th>\n",
       "      <td>A</td>\n",
       "      <td>F</td>\n",
       "      <td>0</td>\n",
       "      <td>-3.376667</td>\n",
       "      <td>-2.1</td>\n",
       "      <td>113</td>\n",
       "      <td>-2.9</td>\n",
       "      <td>31</td>\n",
       "      <td>-2.6</td>\n",
       "      <td>-2</td>\n",
       "      <td>-0.49</td>\n",
       "      <td>0</td>\n",
       "      <td>0</td>\n",
       "      <td>0.0028</td>\n",
       "      <td>-8.976793</td>\n",
       "      <td>-11.947530</td>\n",
       "      <td>-7.913643</td>\n",
       "      <td>-1.063150</td>\n",
       "    </tr>\n",
       "    <tr>\n",
       "      <th>4</th>\n",
       "      <td>A</td>\n",
       "      <td>G</td>\n",
       "      <td>0</td>\n",
       "      <td>0.950000</td>\n",
       "      <td>0.6</td>\n",
       "      <td>60</td>\n",
       "      <td>0.9</td>\n",
       "      <td>39</td>\n",
       "      <td>0.6</td>\n",
       "      <td>0</td>\n",
       "      <td>1.66</td>\n",
       "      <td>34</td>\n",
       "      <td>10</td>\n",
       "      <td>0.0049</td>\n",
       "      <td>-7.641792</td>\n",
       "      <td>-10.612529</td>\n",
       "      <td>-5.004922</td>\n",
       "      <td>-2.636870</td>\n",
       "    </tr>\n",
       "  </tbody>\n",
       "</table>\n",
       "</div>"
      ],
      "text/plain": [
       "  WildType Mut  Charge    Volume  Hydrophobicity  Grantham  Polarity  Ex  \\\n",
       "0        A   C       0 -0.663333            -0.4       195      -2.6  39   \n",
       "1        A   D       1 -0.750000            10.8       126       4.9  19   \n",
       "2        A   E       1 -1.660000             9.8       107       4.2  27   \n",
       "3        A   F       0 -3.376667            -2.1       113      -2.9  31   \n",
       "4        A   G       0  0.950000             0.6        60       0.9  39   \n",
       "\n",
       "   PAM250  BLOSUM    JM  HGMD2003  VB  Transition     COSMIC  \\\n",
       "0     0.3       0 -0.20         0   0      0.0014 -10.586231   \n",
       "1    -0.3      -2  0.22       111   5      0.0028  -7.408177   \n",
       "2    -0.1      -1  0.21        54   0      0.0047  -6.715030   \n",
       "3    -2.6      -2 -0.49         0   0      0.0028  -8.976793   \n",
       "4     0.6       0  1.66        34  10      0.0049  -7.641792   \n",
       "\n",
       "   COSMICvsSWISSPROT    HAPMAP  COSMICvsHAPMAP  \n",
       "0         -13.556968 -9.012255       -1.573976  \n",
       "1         -10.378914 -5.183614       -2.224563  \n",
       "2          -9.685767 -6.447306       -0.267724  \n",
       "3         -11.947530 -7.913643       -1.063150  \n",
       "4         -10.612529 -5.004922       -2.636870  "
      ]
     },
     "execution_count": 9,
     "metadata": {},
     "output_type": "execute_result"
    }
   ],
   "source": [
    "AA_Features.head()"
   ]
  },
  {
   "cell_type": "code",
   "execution_count": 10,
   "metadata": {
    "ExecuteTime": {
     "end_time": "2018-08-05T17:48:30.185089Z",
     "start_time": "2018-08-05T17:48:30.103280Z"
    },
    "collapsed": true
   },
   "outputs": [],
   "source": [
    "hum_final = hum_final.merge(AA_Features, on=['WildType', 'Mut'], how='left')"
   ]
  },
  {
   "cell_type": "markdown",
   "metadata": {},
   "source": [
    "### Uniprot Features (Protein)"
   ]
  },
  {
   "cell_type": "code",
   "execution_count": 60,
   "metadata": {
    "ExecuteTime": {
     "end_time": "2018-08-11T17:49:53.403816Z",
     "start_time": "2018-08-11T17:49:41.591464Z"
    },
    "collapsed": true
   },
   "outputs": [],
   "source": [
    "Uniprot_Features = pd.read_csv(\"../data/external/snvbox_features/uniprot_features.csv\", \n",
    "    dtype={'BINDING': bool, 'ACT_SITE': bool, 'SITE': bool, 'LIPID': bool, 'METAL': bool,\n",
    "       'CARBOHYD': bool, 'DNA_BIND': bool, 'NP_BIND': bool, 'CA_BIND': bool, 'DISULFID': bool, 'SE_CYS': bool,\n",
    "       'MOD_RES': bool, 'PROPEP': bool, 'SIGNALP': bool, 'TRANSMEM': bool, 'COMPBIAS': bool, 'REP': bool, \n",
    "        'MOTIF': bool,'ZN_FING': bool, 'REGIONS': bool, 'PPI': bool, 'RNABD': bool, 'TF': bool, \n",
    "        'LOC': bool, 'MMBRBD': bool, 'Chrom': bool,\n",
    "       'PostModRec': bool, 'PostModEnz': bool})\n",
    "Uniprot_Features.rename(columns={\"Acc\": \"UID\"}, inplace=True)"
   ]
  },
  {
   "cell_type": "code",
   "execution_count": 71,
   "metadata": {
    "ExecuteTime": {
     "end_time": "2018-08-11T17:50:55.436058Z",
     "start_time": "2018-08-11T17:50:55.388440Z"
    }
   },
   "outputs": [
    {
     "data": {
      "text/html": [
       "<div>\n",
       "<table border=\"1\" class=\"dataframe\">\n",
       "  <thead>\n",
       "    <tr style=\"text-align: right;\">\n",
       "      <th></th>\n",
       "      <th>UID</th>\n",
       "      <th>Pos</th>\n",
       "      <th>BINDING</th>\n",
       "      <th>ACT_SITE</th>\n",
       "      <th>SITE</th>\n",
       "      <th>LIPID</th>\n",
       "      <th>METAL</th>\n",
       "      <th>CARBOHYD</th>\n",
       "      <th>DNA_BIND</th>\n",
       "      <th>NP_BIND</th>\n",
       "      <th>...</th>\n",
       "      <th>ZN_FING</th>\n",
       "      <th>REGIONS</th>\n",
       "      <th>PPI</th>\n",
       "      <th>RNABD</th>\n",
       "      <th>TF</th>\n",
       "      <th>LOC</th>\n",
       "      <th>MMBRBD</th>\n",
       "      <th>Chrom</th>\n",
       "      <th>PostModRec</th>\n",
       "      <th>PostModEnz</th>\n",
       "    </tr>\n",
       "  </thead>\n",
       "  <tbody>\n",
       "    <tr>\n",
       "      <th>0</th>\n",
       "      <td>P01023</td>\n",
       "      <td>991</td>\n",
       "      <td>False</td>\n",
       "      <td>False</td>\n",
       "      <td>False</td>\n",
       "      <td>False</td>\n",
       "      <td>False</td>\n",
       "      <td>True</td>\n",
       "      <td>False</td>\n",
       "      <td>False</td>\n",
       "      <td>...</td>\n",
       "      <td>False</td>\n",
       "      <td>False</td>\n",
       "      <td>False</td>\n",
       "      <td>False</td>\n",
       "      <td>False</td>\n",
       "      <td>False</td>\n",
       "      <td>False</td>\n",
       "      <td>False</td>\n",
       "      <td>False</td>\n",
       "      <td>False</td>\n",
       "    </tr>\n",
       "    <tr>\n",
       "      <th>1</th>\n",
       "      <td>P01023</td>\n",
       "      <td>396</td>\n",
       "      <td>False</td>\n",
       "      <td>False</td>\n",
       "      <td>False</td>\n",
       "      <td>False</td>\n",
       "      <td>False</td>\n",
       "      <td>True</td>\n",
       "      <td>False</td>\n",
       "      <td>False</td>\n",
       "      <td>...</td>\n",
       "      <td>False</td>\n",
       "      <td>False</td>\n",
       "      <td>False</td>\n",
       "      <td>False</td>\n",
       "      <td>False</td>\n",
       "      <td>False</td>\n",
       "      <td>False</td>\n",
       "      <td>False</td>\n",
       "      <td>False</td>\n",
       "      <td>False</td>\n",
       "    </tr>\n",
       "    <tr>\n",
       "      <th>2</th>\n",
       "      <td>P01023</td>\n",
       "      <td>1424</td>\n",
       "      <td>False</td>\n",
       "      <td>False</td>\n",
       "      <td>False</td>\n",
       "      <td>False</td>\n",
       "      <td>False</td>\n",
       "      <td>True</td>\n",
       "      <td>False</td>\n",
       "      <td>False</td>\n",
       "      <td>...</td>\n",
       "      <td>False</td>\n",
       "      <td>False</td>\n",
       "      <td>False</td>\n",
       "      <td>False</td>\n",
       "      <td>False</td>\n",
       "      <td>False</td>\n",
       "      <td>False</td>\n",
       "      <td>False</td>\n",
       "      <td>False</td>\n",
       "      <td>False</td>\n",
       "    </tr>\n",
       "    <tr>\n",
       "      <th>3</th>\n",
       "      <td>P01023</td>\n",
       "      <td>277</td>\n",
       "      <td>False</td>\n",
       "      <td>False</td>\n",
       "      <td>False</td>\n",
       "      <td>False</td>\n",
       "      <td>False</td>\n",
       "      <td>False</td>\n",
       "      <td>False</td>\n",
       "      <td>False</td>\n",
       "      <td>...</td>\n",
       "      <td>False</td>\n",
       "      <td>False</td>\n",
       "      <td>False</td>\n",
       "      <td>False</td>\n",
       "      <td>False</td>\n",
       "      <td>False</td>\n",
       "      <td>False</td>\n",
       "      <td>False</td>\n",
       "      <td>False</td>\n",
       "      <td>False</td>\n",
       "    </tr>\n",
       "    <tr>\n",
       "      <th>4</th>\n",
       "      <td>P01023</td>\n",
       "      <td>278</td>\n",
       "      <td>False</td>\n",
       "      <td>False</td>\n",
       "      <td>False</td>\n",
       "      <td>False</td>\n",
       "      <td>False</td>\n",
       "      <td>False</td>\n",
       "      <td>False</td>\n",
       "      <td>False</td>\n",
       "      <td>...</td>\n",
       "      <td>False</td>\n",
       "      <td>False</td>\n",
       "      <td>False</td>\n",
       "      <td>False</td>\n",
       "      <td>False</td>\n",
       "      <td>False</td>\n",
       "      <td>False</td>\n",
       "      <td>False</td>\n",
       "      <td>False</td>\n",
       "      <td>False</td>\n",
       "    </tr>\n",
       "  </tbody>\n",
       "</table>\n",
       "<p>5 rows × 30 columns</p>\n",
       "</div>"
      ],
      "text/plain": [
       "      UID   Pos BINDING ACT_SITE   SITE  LIPID  METAL CARBOHYD DNA_BIND  \\\n",
       "0  P01023   991   False    False  False  False  False     True    False   \n",
       "1  P01023   396   False    False  False  False  False     True    False   \n",
       "2  P01023  1424   False    False  False  False  False     True    False   \n",
       "3  P01023   277   False    False  False  False  False    False    False   \n",
       "4  P01023   278   False    False  False  False  False    False    False   \n",
       "\n",
       "  NP_BIND    ...     ZN_FING REGIONS    PPI  RNABD     TF    LOC MMBRBD  \\\n",
       "0   False    ...       False   False  False  False  False  False  False   \n",
       "1   False    ...       False   False  False  False  False  False  False   \n",
       "2   False    ...       False   False  False  False  False  False  False   \n",
       "3   False    ...       False   False  False  False  False  False  False   \n",
       "4   False    ...       False   False  False  False  False  False  False   \n",
       "\n",
       "   Chrom PostModRec PostModEnz  \n",
       "0  False      False      False  \n",
       "1  False      False      False  \n",
       "2  False      False      False  \n",
       "3  False      False      False  \n",
       "4  False      False      False  \n",
       "\n",
       "[5 rows x 30 columns]"
      ]
     },
     "execution_count": 71,
     "metadata": {},
     "output_type": "execute_result"
    }
   ],
   "source": [
    "Uniprot_Features.head()"
   ]
  },
  {
   "cell_type": "code",
   "execution_count": 62,
   "metadata": {
    "ExecuteTime": {
     "end_time": "2018-08-11T17:49:58.487597Z",
     "start_time": "2018-08-11T17:49:58.473704Z"
    }
   },
   "outputs": [
    {
     "data": {
      "text/plain": [
       "(3757250, 30)"
      ]
     },
     "execution_count": 62,
     "metadata": {},
     "output_type": "execute_result"
    }
   ],
   "source": [
    "Uniprot_Features.shape"
   ]
  },
  {
   "cell_type": "code",
   "execution_count": 72,
   "metadata": {
    "ExecuteTime": {
     "end_time": "2018-08-11T17:51:08.124454Z",
     "start_time": "2018-08-11T17:51:08.115948Z"
    },
    "collapsed": true
   },
   "outputs": [],
   "source": [
    "Uniprot_Features.columns = Uniprot_Features.columns.str.upper()"
   ]
  },
  {
   "cell_type": "code",
   "execution_count": 73,
   "metadata": {
    "ExecuteTime": {
     "end_time": "2018-08-11T17:51:13.979122Z",
     "start_time": "2018-08-11T17:51:08.989969Z"
    },
    "collapsed": true
   },
   "outputs": [],
   "source": [
    "hum_final = hum_final.merge(Uniprot_Features, on=['UID', 'POS'], how='left')"
   ]
  },
  {
   "cell_type": "markdown",
   "metadata": {},
   "source": [
    "## Protparam (Protein)"
   ]
  },
  {
   "cell_type": "code",
   "execution_count": 15,
   "metadata": {
    "ExecuteTime": {
     "end_time": "2018-08-05T17:49:00.998858Z",
     "start_time": "2018-08-05T17:49:00.673426Z"
    },
    "collapsed": true
   },
   "outputs": [],
   "source": [
    "protparam = pd.read_csv(\"../data/interim/protparam_features.csv.gz\")"
   ]
  },
  {
   "cell_type": "code",
   "execution_count": 16,
   "metadata": {
    "ExecuteTime": {
     "end_time": "2018-08-05T17:49:01.656334Z",
     "start_time": "2018-08-05T17:49:01.572690Z"
    },
    "collapsed": true
   },
   "outputs": [],
   "source": [
    "hum_final = hum_final.merge(protparam, on=\"MUTANT\", how=\"left\")"
   ]
  },
  {
   "cell_type": "markdown",
   "metadata": {},
   "source": [
    "## Create Structural Dataset"
   ]
  },
  {
   "cell_type": "code",
   "execution_count": 17,
   "metadata": {
    "ExecuteTime": {
     "end_time": "2018-08-05T17:49:03.269369Z",
     "start_time": "2018-08-05T17:49:03.260189Z"
    },
    "collapsed": true
   },
   "outputs": [],
   "source": [
    "hum_final.columns = hum_final.columns.str.upper()"
   ]
  },
  {
   "cell_type": "code",
   "execution_count": 18,
   "metadata": {
    "ExecuteTime": {
     "end_time": "2018-08-05T17:49:04.021853Z",
     "start_time": "2018-08-05T17:49:04.010438Z"
    }
   },
   "outputs": [
    {
     "data": {
      "text/plain": [
       "Index(['MUTANT', 'UID', 'POS', 'WILDTYPE', 'MUT', 'DBSNP', 'TYPE', 'CHARGE',\n",
       "       'VOLUME', 'HYDROPHOBICITY', 'GRANTHAM', 'POLARITY', 'EX', 'PAM250',\n",
       "       'BLOSUM', 'JM', 'HGMD2003', 'VB', 'TRANSITION', 'COSMIC',\n",
       "       'COSMICVSSWISSPROT', 'HAPMAP', 'COSMICVSHAPMAP', 'BINDING', 'ACT_SITE',\n",
       "       'SITE', 'LIPID', 'METAL', 'CARBOHYD', 'DNA_BIND', 'NP_BIND', 'CA_BIND',\n",
       "       'DISULFID', 'SE_CYS', 'MOD_RES', 'PROPEP', 'SIGNALP', 'TRANSMEM',\n",
       "       'COMPBIAS', 'REP', 'MOTIF', 'ZN_FING', 'REGIONS', 'PPI', 'RNABD', 'TF',\n",
       "       'LOC', 'MMBRBD', 'CHROM', 'POSTMODREC', 'POSTMODENZ',\n",
       "       'AROMATICITY_DIFF', 'AROMATICITY_LOG_RATIO', 'ISOELECTRIC_POINT_DIFF',\n",
       "       'ISOELECTRIC_POINT_LOG_RATIO', 'GRAVY_DIFF', 'GRAVY_LOG_RATIO',\n",
       "       'INSTABILITY_INDEX_DIFF', 'INSTABILITY_INDEX_LOG_RATIO',\n",
       "       'FLEXIBILITY_DIFF', 'FLEXIBILITY_LOG_RATIO'],\n",
       "      dtype='object')"
      ]
     },
     "execution_count": 18,
     "metadata": {},
     "output_type": "execute_result"
    }
   ],
   "source": [
    "hum_final.columns"
   ]
  },
  {
   "cell_type": "code",
   "execution_count": 19,
   "metadata": {
    "ExecuteTime": {
     "end_time": "2018-08-05T17:49:04.648069Z",
     "start_time": "2018-08-05T17:49:04.634613Z"
    },
    "scrolled": true
   },
   "outputs": [
    {
     "data": {
      "text/plain": [
       "Polymorphism    39653\n",
       "Disease         28855\n",
       "Unclassified     7261\n",
       "Name: TYPE, dtype: int64"
      ]
     },
     "execution_count": 19,
     "metadata": {},
     "output_type": "execute_result"
    }
   ],
   "source": [
    "hum_final.TYPE.value_counts()"
   ]
  },
  {
   "cell_type": "code",
   "execution_count": 74,
   "metadata": {
    "ExecuteTime": {
     "end_time": "2018-08-11T17:51:29.908472Z",
     "start_time": "2018-08-11T17:51:24.638337Z"
    },
    "collapsed": true,
    "scrolled": true
   },
   "outputs": [],
   "source": [
    "hum_final.replace([np.inf,-np.inf], np.nan, inplace=True)\n",
    "hum_final = hum_final[hum_final.TYPE != \"Unclassified\"]\n",
    "hum_final.to_csv(\"../data/processed/structural/humsavar_full_gt.csv.gz\", index=False, compression=\"gzip\")"
   ]
  },
  {
   "cell_type": "code",
   "execution_count": 9,
   "metadata": {
    "ExecuteTime": {
     "end_time": "2019-01-12T13:48:50.490735Z",
     "start_time": "2019-01-12T13:48:49.458502Z"
    },
    "collapsed": true
   },
   "outputs": [],
   "source": [
    "hum_final = pd.read_csv(\"../data/processed/structural/humsavar_full_gt.csv.gz\")"
   ]
  },
  {
   "cell_type": "code",
   "execution_count": 10,
   "metadata": {
    "ExecuteTime": {
     "end_time": "2019-01-12T13:48:51.195287Z",
     "start_time": "2019-01-12T13:48:51.186609Z"
    }
   },
   "outputs": [
    {
     "data": {
      "text/plain": [
       "(68508, 61)"
      ]
     },
     "execution_count": 10,
     "metadata": {},
     "output_type": "execute_result"
    }
   ],
   "source": [
    "hum_final.shape"
   ]
  },
  {
   "cell_type": "code",
   "execution_count": 11,
   "metadata": {
    "ExecuteTime": {
     "end_time": "2019-01-12T13:54:37.737934Z",
     "start_time": "2019-01-12T13:54:37.723601Z"
    }
   },
   "outputs": [
    {
     "data": {
      "text/plain": [
       "Index(['MUTANT', 'UID', 'POS', 'WILDTYPE', 'MUT', 'DBSNP', 'TYPE', 'CHARGE',\n",
       "       'VOLUME', 'HYDROPHOBICITY', 'GRANTHAM', 'POLARITY', 'EX', 'PAM250',\n",
       "       'BLOSUM', 'JM', 'HGMD2003', 'VB', 'TRANSITION', 'COSMIC',\n",
       "       'COSMICVSSWISSPROT', 'HAPMAP', 'COSMICVSHAPMAP', 'AROMATICITY_DIFF',\n",
       "       'AROMATICITY_LOG_RATIO', 'ISOELECTRIC_POINT_DIFF',\n",
       "       'ISOELECTRIC_POINT_LOG_RATIO', 'GRAVY_DIFF', 'GRAVY_LOG_RATIO',\n",
       "       'INSTABILITY_INDEX_DIFF', 'INSTABILITY_INDEX_LOG_RATIO',\n",
       "       'FLEXIBILITY_DIFF', 'FLEXIBILITY_LOG_RATIO', 'BINDING', 'ACT_SITE',\n",
       "       'SITE', 'LIPID', 'METAL', 'CARBOHYD', 'DNA_BIND', 'NP_BIND', 'CA_BIND',\n",
       "       'DISULFID', 'SE_CYS', 'MOD_RES', 'PROPEP', 'SIGNALP', 'TRANSMEM',\n",
       "       'COMPBIAS', 'REP', 'MOTIF', 'ZN_FING', 'REGIONS', 'PPI', 'RNABD', 'TF',\n",
       "       'LOC', 'MMBRBD', 'CHROM', 'POSTMODREC', 'POSTMODENZ'],\n",
       "      dtype='object')"
      ]
     },
     "execution_count": 11,
     "metadata": {},
     "output_type": "execute_result"
    }
   ],
   "source": [
    "hum_final.columns"
   ]
  },
  {
   "cell_type": "code",
   "execution_count": 24,
   "metadata": {
    "ExecuteTime": {
     "end_time": "2019-01-12T15:49:34.658074Z",
     "start_time": "2019-01-12T15:49:34.638971Z"
    },
    "collapsed": true
   },
   "outputs": [],
   "source": [
    "cat_vars = ['BINDING', 'ACT_SITE',\n",
    "       'SITE', 'LIPID', 'METAL', 'CARBOHYD', 'DNA_BIND', 'NP_BIND', 'CA_BIND',\n",
    "       'DISULFID', 'SE_CYS', 'MOD_RES', 'PROPEP', 'SIGNALP', 'TRANSMEM',\n",
    "       'COMPBIAS', 'REP', 'MOTIF', 'ZN_FING', 'REGIONS', 'PPI', 'RNABD', 'TF',\n",
    "       'LOC', 'MMBRBD', 'CHROM', 'POSTMODREC', 'POSTMODENZ']"
   ]
  },
  {
   "cell_type": "code",
   "execution_count": 15,
   "metadata": {
    "ExecuteTime": {
     "end_time": "2019-01-12T13:55:27.760686Z",
     "start_time": "2019-01-12T13:55:27.504977Z"
    }
   },
   "outputs": [
    {
     "data": {
      "text/html": [
       "<div>\n",
       "<table border=\"1\" class=\"dataframe\">\n",
       "  <thead>\n",
       "    <tr style=\"text-align: right;\">\n",
       "      <th></th>\n",
       "      <th>count_percentage</th>\n",
       "      <th>freq_percentage</th>\n",
       "    </tr>\n",
       "  </thead>\n",
       "  <tbody>\n",
       "    <tr>\n",
       "      <th>BINDING</th>\n",
       "      <td>0.315598</td>\n",
       "      <td>0.994311</td>\n",
       "    </tr>\n",
       "    <tr>\n",
       "      <th>ACT_SITE</th>\n",
       "      <td>0.315598</td>\n",
       "      <td>0.997687</td>\n",
       "    </tr>\n",
       "    <tr>\n",
       "      <th>SITE</th>\n",
       "      <td>0.315598</td>\n",
       "      <td>0.996485</td>\n",
       "    </tr>\n",
       "    <tr>\n",
       "      <th>LIPID</th>\n",
       "      <td>0.315598</td>\n",
       "      <td>0.999861</td>\n",
       "    </tr>\n",
       "    <tr>\n",
       "      <th>METAL</th>\n",
       "      <td>0.315598</td>\n",
       "      <td>0.994404</td>\n",
       "    </tr>\n",
       "    <tr>\n",
       "      <th>CARBOHYD</th>\n",
       "      <td>0.315598</td>\n",
       "      <td>0.994357</td>\n",
       "    </tr>\n",
       "    <tr>\n",
       "      <th>DNA_BIND</th>\n",
       "      <td>0.315598</td>\n",
       "      <td>0.975811</td>\n",
       "    </tr>\n",
       "    <tr>\n",
       "      <th>NP_BIND</th>\n",
       "      <td>0.315598</td>\n",
       "      <td>0.985708</td>\n",
       "    </tr>\n",
       "    <tr>\n",
       "      <th>CA_BIND</th>\n",
       "      <td>0.315598</td>\n",
       "      <td>0.998196</td>\n",
       "    </tr>\n",
       "    <tr>\n",
       "      <th>DISULFID</th>\n",
       "      <td>0.315598</td>\n",
       "      <td>0.982378</td>\n",
       "    </tr>\n",
       "    <tr>\n",
       "      <th>SE_CYS</th>\n",
       "      <td>0.315598</td>\n",
       "      <td>0.999954</td>\n",
       "    </tr>\n",
       "    <tr>\n",
       "      <th>MOD_RES</th>\n",
       "      <td>0.315598</td>\n",
       "      <td>0.992507</td>\n",
       "    </tr>\n",
       "    <tr>\n",
       "      <th>PROPEP</th>\n",
       "      <td>0.315598</td>\n",
       "      <td>0.985292</td>\n",
       "    </tr>\n",
       "    <tr>\n",
       "      <th>SIGNALP</th>\n",
       "      <td>0.315598</td>\n",
       "      <td>0.984552</td>\n",
       "    </tr>\n",
       "    <tr>\n",
       "      <th>TRANSMEM</th>\n",
       "      <td>0.315598</td>\n",
       "      <td>0.821655</td>\n",
       "    </tr>\n",
       "    <tr>\n",
       "      <th>COMPBIAS</th>\n",
       "      <td>0.315598</td>\n",
       "      <td>0.932288</td>\n",
       "    </tr>\n",
       "    <tr>\n",
       "      <th>REP</th>\n",
       "      <td>0.315598</td>\n",
       "      <td>0.869571</td>\n",
       "    </tr>\n",
       "    <tr>\n",
       "      <th>MOTIF</th>\n",
       "      <td>0.315598</td>\n",
       "      <td>0.992045</td>\n",
       "    </tr>\n",
       "    <tr>\n",
       "      <th>ZN_FING</th>\n",
       "      <td>0.315598</td>\n",
       "      <td>0.967254</td>\n",
       "    </tr>\n",
       "    <tr>\n",
       "      <th>REGIONS</th>\n",
       "      <td>0.315598</td>\n",
       "      <td>0.700384</td>\n",
       "    </tr>\n",
       "    <tr>\n",
       "      <th>PPI</th>\n",
       "      <td>0.315598</td>\n",
       "      <td>0.879469</td>\n",
       "    </tr>\n",
       "    <tr>\n",
       "      <th>RNABD</th>\n",
       "      <td>0.315598</td>\n",
       "      <td>0.972804</td>\n",
       "    </tr>\n",
       "    <tr>\n",
       "      <th>TF</th>\n",
       "      <td>0.315598</td>\n",
       "      <td>0.991212</td>\n",
       "    </tr>\n",
       "    <tr>\n",
       "      <th>LOC</th>\n",
       "      <td>0.315598</td>\n",
       "      <td>0.991721</td>\n",
       "    </tr>\n",
       "    <tr>\n",
       "      <th>MMBRBD</th>\n",
       "      <td>0.315598</td>\n",
       "      <td>0.986541</td>\n",
       "    </tr>\n",
       "    <tr>\n",
       "      <th>CHROM</th>\n",
       "      <td>0.315598</td>\n",
       "      <td>0.999399</td>\n",
       "    </tr>\n",
       "    <tr>\n",
       "      <th>POSTMODREC</th>\n",
       "      <td>0.315598</td>\n",
       "      <td>0.99556</td>\n",
       "    </tr>\n",
       "    <tr>\n",
       "      <th>POSTMODENZ</th>\n",
       "      <td>0.315598</td>\n",
       "      <td>0.92091</td>\n",
       "    </tr>\n",
       "  </tbody>\n",
       "</table>\n",
       "</div>"
      ],
      "text/plain": [
       "           count_percentage freq_percentage\n",
       "BINDING            0.315598        0.994311\n",
       "ACT_SITE           0.315598        0.997687\n",
       "SITE               0.315598        0.996485\n",
       "LIPID              0.315598        0.999861\n",
       "METAL              0.315598        0.994404\n",
       "CARBOHYD           0.315598        0.994357\n",
       "DNA_BIND           0.315598        0.975811\n",
       "NP_BIND            0.315598        0.985708\n",
       "CA_BIND            0.315598        0.998196\n",
       "DISULFID           0.315598        0.982378\n",
       "SE_CYS             0.315598        0.999954\n",
       "MOD_RES            0.315598        0.992507\n",
       "PROPEP             0.315598        0.985292\n",
       "SIGNALP            0.315598        0.984552\n",
       "TRANSMEM           0.315598        0.821655\n",
       "COMPBIAS           0.315598        0.932288\n",
       "REP                0.315598        0.869571\n",
       "MOTIF              0.315598        0.992045\n",
       "ZN_FING            0.315598        0.967254\n",
       "REGIONS            0.315598        0.700384\n",
       "PPI                0.315598        0.879469\n",
       "RNABD              0.315598        0.972804\n",
       "TF                 0.315598        0.991212\n",
       "LOC                0.315598        0.991721\n",
       "MMBRBD             0.315598        0.986541\n",
       "CHROM              0.315598        0.999399\n",
       "POSTMODREC         0.315598         0.99556\n",
       "POSTMODENZ         0.315598         0.92091"
      ]
     },
     "execution_count": 15,
     "metadata": {},
     "output_type": "execute_result"
    }
   ],
   "source": [
    "protein_describe = hum_final[cat_vars].describe().T\n",
    "protein_describe[\"count_percentage\"] = protein_describe['count'] / hum_final.shape[0]\n",
    "protein_describe[\"freq_percentage\"] = protein_describe['freq'] / protein_describe['count']\n",
    "protein_describe.drop([\"count\", \"unique\", \"freq\", \"top\"], 1)"
   ]
  },
  {
   "cell_type": "code",
   "execution_count": 19,
   "metadata": {
    "ExecuteTime": {
     "end_time": "2018-08-11T16:11:51.853327Z",
     "start_time": "2018-08-11T16:11:51.835015Z"
    }
   },
   "outputs": [
    {
     "data": {
      "text/plain": [
       "Polymorphism    39653\n",
       "Disease         28855\n",
       "Name: TYPE, dtype: int64"
      ]
     },
     "execution_count": 19,
     "metadata": {},
     "output_type": "execute_result"
    }
   ],
   "source": [
    "hum_final.TYPE.value_counts()"
   ]
  },
  {
   "cell_type": "code",
   "execution_count": 16,
   "metadata": {
    "ExecuteTime": {
     "end_time": "2019-01-12T13:55:35.401177Z",
     "start_time": "2019-01-12T13:55:35.194051Z"
    }
   },
   "outputs": [
    {
     "data": {
      "text/html": [
       "<div>\n",
       "<table border=\"1\" class=\"dataframe\">\n",
       "  <thead>\n",
       "    <tr style=\"text-align: right;\">\n",
       "      <th></th>\n",
       "      <th>count</th>\n",
       "      <th>mean</th>\n",
       "      <th>std</th>\n",
       "      <th>min</th>\n",
       "      <th>25%</th>\n",
       "      <th>50%</th>\n",
       "      <th>75%</th>\n",
       "      <th>max</th>\n",
       "    </tr>\n",
       "  </thead>\n",
       "  <tbody>\n",
       "    <tr>\n",
       "      <th>POS</th>\n",
       "      <td>68508.0</td>\n",
       "      <td>5.481725e+02</td>\n",
       "      <td>1.391160e+03</td>\n",
       "      <td>2.000000e+00</td>\n",
       "      <td>134.000000</td>\n",
       "      <td>291.000000</td>\n",
       "      <td>578.000000</td>\n",
       "      <td>3.431500e+04</td>\n",
       "    </tr>\n",
       "    <tr>\n",
       "      <th>CHARGE</th>\n",
       "      <td>68507.0</td>\n",
       "      <td>-4.043382e-03</td>\n",
       "      <td>7.092389e-01</td>\n",
       "      <td>-2.000000e+00</td>\n",
       "      <td>0.000000</td>\n",
       "      <td>0.000000</td>\n",
       "      <td>0.000000</td>\n",
       "      <td>2.000000e+00</td>\n",
       "    </tr>\n",
       "    <tr>\n",
       "      <th>VOLUME</th>\n",
       "      <td>68507.0</td>\n",
       "      <td>-1.562972e-01</td>\n",
       "      <td>1.704382e+00</td>\n",
       "      <td>-5.590000e+00</td>\n",
       "      <td>-1.403333</td>\n",
       "      <td>-0.160000</td>\n",
       "      <td>0.963333</td>\n",
       "      <td>5.590000e+00</td>\n",
       "    </tr>\n",
       "    <tr>\n",
       "      <th>HYDROPHOBICITY</th>\n",
       "      <td>68507.0</td>\n",
       "      <td>-6.335411e-01</td>\n",
       "      <td>6.813598e+00</td>\n",
       "      <td>-1.570000e+01</td>\n",
       "      <td>-3.100000</td>\n",
       "      <td>-0.400000</td>\n",
       "      <td>1.900000</td>\n",
       "      <td>1.570000e+01</td>\n",
       "    </tr>\n",
       "    <tr>\n",
       "      <th>GRANTHAM</th>\n",
       "      <td>68507.0</td>\n",
       "      <td>7.996233e+01</td>\n",
       "      <td>4.806357e+01</td>\n",
       "      <td>5.000000e+00</td>\n",
       "      <td>43.000000</td>\n",
       "      <td>74.000000</td>\n",
       "      <td>102.000000</td>\n",
       "      <td>2.150000e+02</td>\n",
       "    </tr>\n",
       "    <tr>\n",
       "      <th>POLARITY</th>\n",
       "      <td>68507.0</td>\n",
       "      <td>-2.505204e-01</td>\n",
       "      <td>2.723419e+00</td>\n",
       "      <td>-8.100000e+00</td>\n",
       "      <td>-2.200000</td>\n",
       "      <td>-0.100000</td>\n",
       "      <td>1.100000</td>\n",
       "      <td>8.100000e+00</td>\n",
       "    </tr>\n",
       "    <tr>\n",
       "      <th>EX</th>\n",
       "      <td>68507.0</td>\n",
       "      <td>2.899346e+01</td>\n",
       "      <td>1.095498e+01</td>\n",
       "      <td>-1.000000e+00</td>\n",
       "      <td>21.000000</td>\n",
       "      <td>29.000000</td>\n",
       "      <td>35.000000</td>\n",
       "      <td>6.100000e+01</td>\n",
       "    </tr>\n",
       "    <tr>\n",
       "      <th>PAM250</th>\n",
       "      <td>68507.0</td>\n",
       "      <td>1.556965e-01</td>\n",
       "      <td>1.679385e+00</td>\n",
       "      <td>-5.400000e+00</td>\n",
       "      <td>-1.000000</td>\n",
       "      <td>0.200000</td>\n",
       "      <td>1.400000</td>\n",
       "      <td>5.300000e+00</td>\n",
       "    </tr>\n",
       "    <tr>\n",
       "      <th>BLOSUM</th>\n",
       "      <td>68507.0</td>\n",
       "      <td>-5.824368e-01</td>\n",
       "      <td>1.651174e+00</td>\n",
       "      <td>-4.000000e+00</td>\n",
       "      <td>-2.000000</td>\n",
       "      <td>-1.000000</td>\n",
       "      <td>1.000000</td>\n",
       "      <td>3.000000e+00</td>\n",
       "    </tr>\n",
       "    <tr>\n",
       "      <th>JM</th>\n",
       "      <td>68507.0</td>\n",
       "      <td>8.041777e-01</td>\n",
       "      <td>1.237564e+00</td>\n",
       "      <td>-1.730000e+00</td>\n",
       "      <td>-0.500000</td>\n",
       "      <td>1.050000</td>\n",
       "      <td>1.660000</td>\n",
       "      <td>3.220000e+00</td>\n",
       "    </tr>\n",
       "    <tr>\n",
       "      <th>HGMD2003</th>\n",
       "      <td>68507.0</td>\n",
       "      <td>1.911207e+02</td>\n",
       "      <td>1.546398e+02</td>\n",
       "      <td>0.000000e+00</td>\n",
       "      <td>72.000000</td>\n",
       "      <td>130.000000</td>\n",
       "      <td>277.000000</td>\n",
       "      <td>6.340000e+02</td>\n",
       "    </tr>\n",
       "    <tr>\n",
       "      <th>VB</th>\n",
       "      <td>68507.0</td>\n",
       "      <td>1.978080e+01</td>\n",
       "      <td>1.464242e+01</td>\n",
       "      <td>0.000000e+00</td>\n",
       "      <td>8.000000</td>\n",
       "      <td>17.000000</td>\n",
       "      <td>29.000000</td>\n",
       "      <td>5.500000e+01</td>\n",
       "    </tr>\n",
       "    <tr>\n",
       "      <th>TRANSITION</th>\n",
       "      <td>68507.0</td>\n",
       "      <td>3.191840e-03</td>\n",
       "      <td>1.723350e-03</td>\n",
       "      <td>2.000000e-04</td>\n",
       "      <td>0.001600</td>\n",
       "      <td>0.003100</td>\n",
       "      <td>0.004400</td>\n",
       "      <td>8.200000e-03</td>\n",
       "    </tr>\n",
       "    <tr>\n",
       "      <th>COSMIC</th>\n",
       "      <td>68507.0</td>\n",
       "      <td>-5.929239e+00</td>\n",
       "      <td>1.342382e+00</td>\n",
       "      <td>-1.058623e+01</td>\n",
       "      <td>-6.848561</td>\n",
       "      <td>-6.032354</td>\n",
       "      <td>-5.333957</td>\n",
       "      <td>-1.763319e+00</td>\n",
       "    </tr>\n",
       "    <tr>\n",
       "      <th>COSMICVSSWISSPROT</th>\n",
       "      <td>68507.0</td>\n",
       "      <td>-8.627689e+00</td>\n",
       "      <td>1.288782e+00</td>\n",
       "      <td>-1.391059e+01</td>\n",
       "      <td>-9.533764</td>\n",
       "      <td>-8.780444</td>\n",
       "      <td>-7.949120</td>\n",
       "      <td>-4.578569e+00</td>\n",
       "    </tr>\n",
       "    <tr>\n",
       "      <th>HAPMAP</th>\n",
       "      <td>68507.0</td>\n",
       "      <td>-4.859636e+00</td>\n",
       "      <td>7.242263e-01</td>\n",
       "      <td>-9.012255e+00</td>\n",
       "      <td>-5.274586</td>\n",
       "      <td>-4.807563</td>\n",
       "      <td>-4.417135</td>\n",
       "      <td>-3.478866e+00</td>\n",
       "    </tr>\n",
       "    <tr>\n",
       "      <th>COSMICVSHAPMAP</th>\n",
       "      <td>68507.0</td>\n",
       "      <td>-1.069604e+00</td>\n",
       "      <td>1.223914e+00</td>\n",
       "      <td>-3.653417e+00</td>\n",
       "      <td>-1.904217</td>\n",
       "      <td>-1.282779</td>\n",
       "      <td>-0.633420</td>\n",
       "      <td>3.752428e+00</td>\n",
       "    </tr>\n",
       "    <tr>\n",
       "      <th>AROMATICITY_DIFF</th>\n",
       "      <td>68499.0</td>\n",
       "      <td>1.652764e-02</td>\n",
       "      <td>2.488033e-02</td>\n",
       "      <td>0.000000e+00</td>\n",
       "      <td>0.000000</td>\n",
       "      <td>0.004167</td>\n",
       "      <td>0.012500</td>\n",
       "      <td>2.222222e-01</td>\n",
       "    </tr>\n",
       "    <tr>\n",
       "      <th>AROMATICITY_LOG_RATIO</th>\n",
       "      <td>47422.0</td>\n",
       "      <td>1.973545e+00</td>\n",
       "      <td>3.274423e-01</td>\n",
       "      <td>1.000000e+00</td>\n",
       "      <td>1.939356</td>\n",
       "      <td>1.941036</td>\n",
       "      <td>1.942567</td>\n",
       "      <td>3.662755e+00</td>\n",
       "    </tr>\n",
       "    <tr>\n",
       "      <th>ISOELECTRIC_POINT_DIFF</th>\n",
       "      <td>68499.0</td>\n",
       "      <td>6.947034e-01</td>\n",
       "      <td>9.811962e-01</td>\n",
       "      <td>0.000000e+00</td>\n",
       "      <td>0.000000</td>\n",
       "      <td>0.167847</td>\n",
       "      <td>1.221252</td>\n",
       "      <td>6.305908e+00</td>\n",
       "    </tr>\n",
       "    <tr>\n",
       "      <th>ISOELECTRIC_POINT_LOG_RATIO</th>\n",
       "      <td>68499.0</td>\n",
       "      <td>2.004476e+00</td>\n",
       "      <td>7.507564e-02</td>\n",
       "      <td>1.688365e+00</td>\n",
       "      <td>1.991353</td>\n",
       "      <td>2.000000</td>\n",
       "      <td>2.014951</td>\n",
       "      <td>2.445119e+00</td>\n",
       "    </tr>\n",
       "    <tr>\n",
       "      <th>GRAVY_DIFF</th>\n",
       "      <td>68491.0</td>\n",
       "      <td>2.290334e-01</td>\n",
       "      <td>1.708203e-01</td>\n",
       "      <td>0.000000e+00</td>\n",
       "      <td>0.092083</td>\n",
       "      <td>0.196667</td>\n",
       "      <td>0.330000</td>\n",
       "      <td>1.673611e+00</td>\n",
       "    </tr>\n",
       "    <tr>\n",
       "      <th>GRAVY_LOG_RATIO</th>\n",
       "      <td>51158.0</td>\n",
       "      <td>1.986405e+12</td>\n",
       "      <td>1.245322e+14</td>\n",
       "      <td>-3.385488e+15</td>\n",
       "      <td>1.434616</td>\n",
       "      <td>1.939849</td>\n",
       "      <td>2.427909</td>\n",
       "      <td>9.618253e+15</td>\n",
       "    </tr>\n",
       "    <tr>\n",
       "      <th>INSTABILITY_INDEX_DIFF</th>\n",
       "      <td>68491.0</td>\n",
       "      <td>1.402142e+01</td>\n",
       "      <td>1.327256e+01</td>\n",
       "      <td>1.250000e-03</td>\n",
       "      <td>4.196667</td>\n",
       "      <td>10.093750</td>\n",
       "      <td>20.097500</td>\n",
       "      <td>1.391444e+02</td>\n",
       "    </tr>\n",
       "    <tr>\n",
       "      <th>INSTABILITY_INDEX_LOG_RATIO</th>\n",
       "      <td>61863.0</td>\n",
       "      <td>2.055487e+00</td>\n",
       "      <td>2.271676e+00</td>\n",
       "      <td>-8.476826e+01</td>\n",
       "      <td>1.964406</td>\n",
       "      <td>2.008802</td>\n",
       "      <td>2.087379</td>\n",
       "      <td>4.532138e+02</td>\n",
       "    </tr>\n",
       "    <tr>\n",
       "      <th>FLEXIBILITY_DIFF</th>\n",
       "      <td>67624.0</td>\n",
       "      <td>9.295194e-03</td>\n",
       "      <td>6.760691e-03</td>\n",
       "      <td>2.834467e-07</td>\n",
       "      <td>0.003928</td>\n",
       "      <td>0.007928</td>\n",
       "      <td>0.013362</td>\n",
       "      <td>4.844643e-02</td>\n",
       "    </tr>\n",
       "    <tr>\n",
       "      <th>FLEXIBILITY_LOG_RATIO</th>\n",
       "      <td>67624.0</td>\n",
       "      <td>2.000630e+00</td>\n",
       "      <td>8.284387e-03</td>\n",
       "      <td>1.967421e+00</td>\n",
       "      <td>1.994787</td>\n",
       "      <td>2.000770</td>\n",
       "      <td>2.006237</td>\n",
       "      <td>2.032264e+00</td>\n",
       "    </tr>\n",
       "  </tbody>\n",
       "</table>\n",
       "</div>"
      ],
      "text/plain": [
       "                               count          mean           std  \\\n",
       "POS                          68508.0  5.481725e+02  1.391160e+03   \n",
       "CHARGE                       68507.0 -4.043382e-03  7.092389e-01   \n",
       "VOLUME                       68507.0 -1.562972e-01  1.704382e+00   \n",
       "HYDROPHOBICITY               68507.0 -6.335411e-01  6.813598e+00   \n",
       "GRANTHAM                     68507.0  7.996233e+01  4.806357e+01   \n",
       "POLARITY                     68507.0 -2.505204e-01  2.723419e+00   \n",
       "EX                           68507.0  2.899346e+01  1.095498e+01   \n",
       "PAM250                       68507.0  1.556965e-01  1.679385e+00   \n",
       "BLOSUM                       68507.0 -5.824368e-01  1.651174e+00   \n",
       "JM                           68507.0  8.041777e-01  1.237564e+00   \n",
       "HGMD2003                     68507.0  1.911207e+02  1.546398e+02   \n",
       "VB                           68507.0  1.978080e+01  1.464242e+01   \n",
       "TRANSITION                   68507.0  3.191840e-03  1.723350e-03   \n",
       "COSMIC                       68507.0 -5.929239e+00  1.342382e+00   \n",
       "COSMICVSSWISSPROT            68507.0 -8.627689e+00  1.288782e+00   \n",
       "HAPMAP                       68507.0 -4.859636e+00  7.242263e-01   \n",
       "COSMICVSHAPMAP               68507.0 -1.069604e+00  1.223914e+00   \n",
       "AROMATICITY_DIFF             68499.0  1.652764e-02  2.488033e-02   \n",
       "AROMATICITY_LOG_RATIO        47422.0  1.973545e+00  3.274423e-01   \n",
       "ISOELECTRIC_POINT_DIFF       68499.0  6.947034e-01  9.811962e-01   \n",
       "ISOELECTRIC_POINT_LOG_RATIO  68499.0  2.004476e+00  7.507564e-02   \n",
       "GRAVY_DIFF                   68491.0  2.290334e-01  1.708203e-01   \n",
       "GRAVY_LOG_RATIO              51158.0  1.986405e+12  1.245322e+14   \n",
       "INSTABILITY_INDEX_DIFF       68491.0  1.402142e+01  1.327256e+01   \n",
       "INSTABILITY_INDEX_LOG_RATIO  61863.0  2.055487e+00  2.271676e+00   \n",
       "FLEXIBILITY_DIFF             67624.0  9.295194e-03  6.760691e-03   \n",
       "FLEXIBILITY_LOG_RATIO        67624.0  2.000630e+00  8.284387e-03   \n",
       "\n",
       "                                      min         25%         50%         75%  \\\n",
       "POS                          2.000000e+00  134.000000  291.000000  578.000000   \n",
       "CHARGE                      -2.000000e+00    0.000000    0.000000    0.000000   \n",
       "VOLUME                      -5.590000e+00   -1.403333   -0.160000    0.963333   \n",
       "HYDROPHOBICITY              -1.570000e+01   -3.100000   -0.400000    1.900000   \n",
       "GRANTHAM                     5.000000e+00   43.000000   74.000000  102.000000   \n",
       "POLARITY                    -8.100000e+00   -2.200000   -0.100000    1.100000   \n",
       "EX                          -1.000000e+00   21.000000   29.000000   35.000000   \n",
       "PAM250                      -5.400000e+00   -1.000000    0.200000    1.400000   \n",
       "BLOSUM                      -4.000000e+00   -2.000000   -1.000000    1.000000   \n",
       "JM                          -1.730000e+00   -0.500000    1.050000    1.660000   \n",
       "HGMD2003                     0.000000e+00   72.000000  130.000000  277.000000   \n",
       "VB                           0.000000e+00    8.000000   17.000000   29.000000   \n",
       "TRANSITION                   2.000000e-04    0.001600    0.003100    0.004400   \n",
       "COSMIC                      -1.058623e+01   -6.848561   -6.032354   -5.333957   \n",
       "COSMICVSSWISSPROT           -1.391059e+01   -9.533764   -8.780444   -7.949120   \n",
       "HAPMAP                      -9.012255e+00   -5.274586   -4.807563   -4.417135   \n",
       "COSMICVSHAPMAP              -3.653417e+00   -1.904217   -1.282779   -0.633420   \n",
       "AROMATICITY_DIFF             0.000000e+00    0.000000    0.004167    0.012500   \n",
       "AROMATICITY_LOG_RATIO        1.000000e+00    1.939356    1.941036    1.942567   \n",
       "ISOELECTRIC_POINT_DIFF       0.000000e+00    0.000000    0.167847    1.221252   \n",
       "ISOELECTRIC_POINT_LOG_RATIO  1.688365e+00    1.991353    2.000000    2.014951   \n",
       "GRAVY_DIFF                   0.000000e+00    0.092083    0.196667    0.330000   \n",
       "GRAVY_LOG_RATIO             -3.385488e+15    1.434616    1.939849    2.427909   \n",
       "INSTABILITY_INDEX_DIFF       1.250000e-03    4.196667   10.093750   20.097500   \n",
       "INSTABILITY_INDEX_LOG_RATIO -8.476826e+01    1.964406    2.008802    2.087379   \n",
       "FLEXIBILITY_DIFF             2.834467e-07    0.003928    0.007928    0.013362   \n",
       "FLEXIBILITY_LOG_RATIO        1.967421e+00    1.994787    2.000770    2.006237   \n",
       "\n",
       "                                      max  \n",
       "POS                          3.431500e+04  \n",
       "CHARGE                       2.000000e+00  \n",
       "VOLUME                       5.590000e+00  \n",
       "HYDROPHOBICITY               1.570000e+01  \n",
       "GRANTHAM                     2.150000e+02  \n",
       "POLARITY                     8.100000e+00  \n",
       "EX                           6.100000e+01  \n",
       "PAM250                       5.300000e+00  \n",
       "BLOSUM                       3.000000e+00  \n",
       "JM                           3.220000e+00  \n",
       "HGMD2003                     6.340000e+02  \n",
       "VB                           5.500000e+01  \n",
       "TRANSITION                   8.200000e-03  \n",
       "COSMIC                      -1.763319e+00  \n",
       "COSMICVSSWISSPROT           -4.578569e+00  \n",
       "HAPMAP                      -3.478866e+00  \n",
       "COSMICVSHAPMAP               3.752428e+00  \n",
       "AROMATICITY_DIFF             2.222222e-01  \n",
       "AROMATICITY_LOG_RATIO        3.662755e+00  \n",
       "ISOELECTRIC_POINT_DIFF       6.305908e+00  \n",
       "ISOELECTRIC_POINT_LOG_RATIO  2.445119e+00  \n",
       "GRAVY_DIFF                   1.673611e+00  \n",
       "GRAVY_LOG_RATIO              9.618253e+15  \n",
       "INSTABILITY_INDEX_DIFF       1.391444e+02  \n",
       "INSTABILITY_INDEX_LOG_RATIO  4.532138e+02  \n",
       "FLEXIBILITY_DIFF             4.844643e-02  \n",
       "FLEXIBILITY_LOG_RATIO        2.032264e+00  "
      ]
     },
     "execution_count": 16,
     "metadata": {},
     "output_type": "execute_result"
    }
   ],
   "source": [
    "hum_final.describe().T"
   ]
  },
  {
   "cell_type": "code",
   "execution_count": 24,
   "metadata": {
    "ExecuteTime": {
     "end_time": "2018-08-11T17:20:09.726625Z",
     "start_time": "2018-08-11T17:20:09.703975Z"
    }
   },
   "outputs": [
    {
     "data": {
      "text/plain": [
       "count    5.115800e+04\n",
       "mean     1.986405e+12\n",
       "std      1.245322e+14\n",
       "min     -3.385488e+15\n",
       "25%      1.434616e+00\n",
       "50%      1.939849e+00\n",
       "75%      2.427909e+00\n",
       "max      9.618253e+15\n",
       "Name: GRAVY_LOG_RATIO, dtype: float64"
      ]
     },
     "execution_count": 24,
     "metadata": {},
     "output_type": "execute_result"
    }
   ],
   "source": [
    "hum_final[\"GRAVY_LOG_RATIO\"].describe()"
   ]
  },
  {
   "cell_type": "code",
   "execution_count": 22,
   "metadata": {
    "ExecuteTime": {
     "end_time": "2018-08-11T16:30:49.703585Z",
     "start_time": "2018-08-11T16:30:49.373854Z"
    },
    "collapsed": true
   },
   "outputs": [],
   "source": [
    "hum_final[variables].describe().to_csv(\"/home/marlan/Desktop/structural_describe.csv\", index=True, index_label=\"measure\", float_format=\"%.2f\")"
   ]
  },
  {
   "cell_type": "code",
   "execution_count": 23,
   "metadata": {
    "ExecuteTime": {
     "end_time": "2018-08-05T17:49:16.033762Z",
     "start_time": "2018-08-05T17:49:16.023811Z"
    }
   },
   "outputs": [
    {
     "data": {
      "text/plain": [
       "(75769, 61)"
      ]
     },
     "execution_count": 23,
     "metadata": {},
     "output_type": "execute_result"
    }
   ],
   "source": [
    "hum_final.shape"
   ]
  },
  {
   "cell_type": "code",
   "execution_count": 24,
   "metadata": {
    "ExecuteTime": {
     "end_time": "2018-08-05T17:49:16.791296Z",
     "start_time": "2018-08-05T17:49:16.678306Z"
    }
   },
   "outputs": [
    {
     "data": {
      "text/plain": [
       "MUTANT                             0\n",
       "UID                                0\n",
       "POS                                0\n",
       "WILDTYPE                           0\n",
       "MUT                                0\n",
       "DBSNP                          17590\n",
       "TYPE                               0\n",
       "CHARGE                             1\n",
       "VOLUME                             1\n",
       "HYDROPHOBICITY                     1\n",
       "GRANTHAM                           1\n",
       "POLARITY                           1\n",
       "EX                                 1\n",
       "PAM250                             1\n",
       "BLOSUM                             1\n",
       "JM                                 1\n",
       "HGMD2003                           1\n",
       "VB                                 1\n",
       "TRANSITION                         1\n",
       "COSMIC                             1\n",
       "COSMICVSSWISSPROT                  1\n",
       "HAPMAP                             1\n",
       "COSMICVSHAPMAP                     1\n",
       "BINDING                        50638\n",
       "ACT_SITE                       50638\n",
       "SITE                           50638\n",
       "LIPID                          50638\n",
       "METAL                          50638\n",
       "CARBOHYD                       50638\n",
       "DNA_BIND                       50638\n",
       "                               ...  \n",
       "CA_BIND                        50638\n",
       "DISULFID                       50638\n",
       "SE_CYS                         50638\n",
       "MOD_RES                        50638\n",
       "PROPEP                         50638\n",
       "SIGNALP                        50638\n",
       "TRANSMEM                       50638\n",
       "COMPBIAS                       50638\n",
       "REP                            50638\n",
       "MOTIF                          50638\n",
       "ZN_FING                        50638\n",
       "REGIONS                        50638\n",
       "PPI                            50638\n",
       "RNABD                          50638\n",
       "TF                             50638\n",
       "LOC                            50638\n",
       "MMBRBD                         50638\n",
       "CHROM                          50638\n",
       "POSTMODREC                     50638\n",
       "POSTMODENZ                     50638\n",
       "AROMATICITY_DIFF                   9\n",
       "AROMATICITY_LOG_RATIO          23419\n",
       "ISOELECTRIC_POINT_DIFF             9\n",
       "ISOELECTRIC_POINT_LOG_RATIO        9\n",
       "GRAVY_DIFF                        18\n",
       "GRAVY_LOG_RATIO                19293\n",
       "INSTABILITY_INDEX_DIFF            18\n",
       "INSTABILITY_INDEX_LOG_RATIO     7219\n",
       "FLEXIBILITY_DIFF                 942\n",
       "FLEXIBILITY_LOG_RATIO            942\n",
       "dtype: int64"
      ]
     },
     "execution_count": 24,
     "metadata": {},
     "output_type": "execute_result"
    }
   ],
   "source": [
    "hum_final.isnull().sum()"
   ]
  },
  {
   "cell_type": "code",
   "execution_count": 25,
   "metadata": {
    "ExecuteTime": {
     "end_time": "2018-08-05T17:49:17.569260Z",
     "start_time": "2018-08-05T17:49:17.512737Z"
    },
    "collapsed": true
   },
   "outputs": [],
   "source": [
    "hum_final.drop([\"UID\", \"POS\",\"DBSNP\", \"WILDTYPE\", \"MUT\"], axis=1, inplace=True)\n",
    "hum_final = hum_final[hum_final.TYPE != \"Unclassified\"]\n",
    "dataset = hum_final.set_index(\"MUTANT\")\n",
    "# unclassified_index = dataset[dataset.TYPE == \"Unclassified\"].index\n",
    "# dataset_disease_index = dataset[dataset.TYPE == \"Disease\"].index\n",
    "# dataset_poly_index = dataset[dataset.TYPE == \"Polymorphism\"].index"
   ]
  },
  {
   "cell_type": "code",
   "execution_count": 26,
   "metadata": {
    "ExecuteTime": {
     "end_time": "2018-08-05T17:49:26.743701Z",
     "start_time": "2018-08-05T17:49:21.109844Z"
    },
    "collapsed": true
   },
   "outputs": [],
   "source": [
    "dataset.to_csv(\"../data/processed/structural/dataset.csv.gz\", index=True, compression=\"gzip\")"
   ]
  },
  {
   "cell_type": "code",
   "execution_count": 17,
   "metadata": {
    "ExecuteTime": {
     "end_time": "2019-01-12T15:15:41.050755Z",
     "start_time": "2019-01-12T15:15:40.412283Z"
    },
    "collapsed": true
   },
   "outputs": [],
   "source": [
    "dataset = pd.read_csv(\"../data/processed/structural/dataset.csv.gz\", index_col=\"MUTANT\")"
   ]
  },
  {
   "cell_type": "code",
   "execution_count": 4,
   "metadata": {
    "ExecuteTime": {
     "end_time": "2018-08-27T22:00:53.015038Z",
     "start_time": "2018-08-27T22:00:53.003198Z"
    },
    "collapsed": true
   },
   "outputs": [],
   "source": [
    "cosmic = dataset.columns[dataset.columns.str.contains(\"COSMIC\")].tolist()\n",
    "hgmd = [\"HGMD2003\"]\n",
    "hapmap = [\"HAPMAP\"]"
   ]
  },
  {
   "cell_type": "code",
   "execution_count": 5,
   "metadata": {
    "ExecuteTime": {
     "end_time": "2018-08-27T22:01:08.358834Z",
     "start_time": "2018-08-27T22:01:08.321407Z"
    },
    "collapsed": true
   },
   "outputs": [],
   "source": [
    "dataset.drop(cosmic+hgmd+hapmap, axis=1, inplace=True)"
   ]
  },
  {
   "cell_type": "code",
   "execution_count": 6,
   "metadata": {
    "ExecuteTime": {
     "end_time": "2018-08-27T22:01:21.129622Z",
     "start_time": "2018-08-27T22:01:15.739333Z"
    },
    "collapsed": true
   },
   "outputs": [],
   "source": [
    "dataset.to_csv(\"../data/processed/structural/dataset.csv.gz\", index=True, compression=\"gzip\")"
   ]
  },
  {
   "cell_type": "code",
   "execution_count": 18,
   "metadata": {
    "ExecuteTime": {
     "end_time": "2019-01-12T15:20:23.138981Z",
     "start_time": "2019-01-12T15:20:22.500448Z"
    },
    "collapsed": true
   },
   "outputs": [],
   "source": [
    "dataset = pd.read_csv(\"../data/processed/structural/dataset.csv.gz\", index_col=\"MUTANT\")"
   ]
  },
  {
   "cell_type": "markdown",
   "metadata": {},
   "source": [
    "## Dataset description"
   ]
  },
  {
   "cell_type": "code",
   "execution_count": 41,
   "metadata": {
    "ExecuteTime": {
     "end_time": "2018-08-05T17:38:43.678231Z",
     "start_time": "2018-08-05T17:38:43.197724Z"
    },
    "collapsed": true
   },
   "outputs": [],
   "source": [
    "dataset.describe().to_csv(\"/home/marlan/workspace/master-thesis/results/estructural/describe.csv\", index=True)"
   ]
  },
  {
   "cell_type": "code",
   "execution_count": 58,
   "metadata": {
    "ExecuteTime": {
     "end_time": "2019-01-12T16:07:14.813780Z",
     "start_time": "2019-01-12T16:07:14.807378Z"
    }
   },
   "outputs": [
    {
     "data": {
      "text/plain": [
       "FLEXIBILITY_DIFF               0.012904\n",
       "FLEXIBILITY_LOG_RATIO          0.012904\n",
       "INSTABILITY_INDEX_LOG_RATIO    0.096996\n",
       "GRAVY_LOG_RATIO                0.253255\n",
       "AROMATICITY_LOG_RATIO          0.307789\n",
       "dtype: float64"
      ]
     },
     "execution_count": 58,
     "metadata": {},
     "output_type": "execute_result"
    }
   ],
   "source": [
    "nulcount.iloc[-5:]"
   ]
  },
  {
   "cell_type": "code",
   "execution_count": 74,
   "metadata": {
    "ExecuteTime": {
     "end_time": "2019-01-12T16:10:40.157388Z",
     "start_time": "2019-01-12T16:10:39.871216Z"
    }
   },
   "outputs": [
    {
     "data": {
      "image/png": "[encoded data removed]",
      "text/plain": [
       "<Figure size 720x216 with 1 Axes>"
      ]
     },
     "metadata": {},
     "output_type": "display_data"
    }
   ],
   "source": [
    "with_type = dataset[cat_vars]\n",
    "# dataset.columns.drop(cat_vars, 1).tolist()\n",
    "nulcount = (with_type.isnull().sum(axis=0) / with_type.shape[0]).sort_values(ascending=True)\n",
    "plt.figure(figsize=(10,3))\n",
    "# plt.title(\"Cantidad de variantes con valor nulo\")\n",
    "plt.yticks(size=15)\n",
    "plt.xticks(np.arange(0, 1, 0.05), size=15)\n",
    "\n",
    "plt.xlabel(\"Proporción\", size=15)\n",
    "ax = nulcount.plot(kind=\"barh\")\n",
    "\n",
    "# plt.savefig(\"/home/marlan/Desktop/proporcion_nulos_structural.pdf\", bbox_inches='tight')"
   ]
  },
  {
   "cell_type": "markdown",
   "metadata": {},
   "source": [
    "### Single Train Test"
   ]
  },
  {
   "cell_type": "code",
   "execution_count": null,
   "metadata": {
    "collapsed": true
   },
   "outputs": [],
   "source": []
  },
  {
   "cell_type": "markdown",
   "metadata": {},
   "source": [
    "### Multiple Train Tests"
   ]
  },
  {
   "cell_type": "code",
   "execution_count": null,
   "metadata": {
    "ExecuteTime": {
     "end_time": "2018-05-05T23:09:12.611142Z",
     "start_time": "2018-05-05T23:07:16.244111Z"
    },
    "collapsed": true,
    "deletable": false,
    "editable": false
   },
   "outputs": [],
   "source": [
    "for i in range(20):\n",
    "    train = pd.concat([\n",
    "        dataset.loc[dataset_disease_index].sample(n=25000, random_state=i),\n",
    "        dataset.loc[dataset_poly_index].sample(n=25000, random_state=i)\n",
    "    ]).sample(frac=1)\n",
    "    \n",
    "    test = pd.concat([\n",
    "        dataset.loc[dataset_disease_index.difference(train.index)].sample(n=3855, random_state=i),\n",
    "        dataset.loc[dataset_poly_index.difference(train.index)].sample(n=14653, random_state=i)\n",
    "    ]).sample(frac=1)\n",
    "    train.to_csv(\"../data/processed/3/train_test_sets/train_{}.csv\".format(i), index=True, index_label=\"MUTANT\")\n",
    "    test.to_csv(\"../data/processed/3/train_test_sets/test_{}.csv\".format(i), index=True, index_label=\"MUTANT\")"
   ]
  },
  {
   "cell_type": "code",
   "execution_count": null,
   "metadata": {
    "collapsed": true
   },
   "outputs": [],
   "source": []
  }
 ],
 "metadata": {
  "kernelspec": {
   "display_name": "Python 3",
   "language": "python",
   "name": "python3"
  },
  "language_info": {
   "codemirror_mode": {
    "name": "ipython",
    "version": 3
   },
   "file_extension": ".py",
   "mimetype": "text/x-python",
   "name": "python",
   "nbconvert_exporter": "python",
   "pygments_lexer": "ipython3",
   "version": "3.6.6"
  },
  "varInspector": {
   "cols": {
    "lenName": 16,
    "lenType": 16,
    "lenVar": 40
   },
   "kernels_config": {
    "python": {
     "delete_cmd_postfix": "",
     "delete_cmd_prefix": "del ",
     "library": "var_list.py",
     "varRefreshCmd": "print(var_dic_list())"
    },
    "r": {
     "delete_cmd_postfix": ") ",
     "delete_cmd_prefix": "rm(",
     "library": "var_list.r",
     "varRefreshCmd": "cat(var_dic_list()) "
    }
   },
   "oldHeight": 221,
   "position": {
    "height": "243px",
    "left": "1040px",
    "right": "20px",
    "top": "214px",
    "width": "414px"
   },
   "types_to_exclude": [
    "module",
    "function",
    "builtin_function_or_method",
    "instance",
    "_Feature"
   ],
   "varInspector_section_display": "block",
   "window_display": false
  }
 },
 "nbformat": 4,
 "nbformat_minor": 2
}
