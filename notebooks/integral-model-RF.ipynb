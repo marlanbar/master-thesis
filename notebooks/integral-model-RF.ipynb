{
 "cells": [
  {
   "cell_type": "code",
   "execution_count": 1,
   "metadata": {
    "ExecuteTime": {
     "end_time": "2018-08-05T15:14:53.003061Z",
     "start_time": "2018-08-05T15:14:52.218267Z"
    },
    "collapsed": true
   },
   "outputs": [],
   "source": [
    "import operator\n",
    "import pandas as pd\n",
    "import matplotlib.pyplot as plt\n",
    "import seaborn as sns\n",
    "import numpy as np\n",
    "\n",
    "from sklearn import feature_selection\n",
    "from sklearn.base import BaseEstimator, TransformerMixin\n",
    "from sklearn.ensemble import RandomForestClassifier, AdaBoostClassifier\n",
    "from sklearn.ensemble import GradientBoostingClassifier\n",
    "from sklearn.linear_model import LogisticRegression\n",
    "from sklearn.svm import SVC\n",
    "\n",
    "from sklearn.pipeline import Pipeline, make_pipeline\n",
    "from sklearn.pipeline import FeatureUnion\n",
    "from sklearn.preprocessing import StandardScaler, RobustScaler, Imputer, LabelEncoder\n",
    "from sklearn.model_selection import GridSearchCV, RandomizedSearchCV, train_test_split, StratifiedKFold\n",
    "from sklearn.metrics import confusion_matrix, classification_report, roc_curve, auc\n",
    "from sklearn.metrics import accuracy_score, f1_score, roc_auc_score\n",
    "\n",
    "from IPython.core.pylabtools import figsize \n",
    "%matplotlib inline"
   ]
  },
  {
   "cell_type": "code",
   "execution_count": 2,
   "metadata": {
    "ExecuteTime": {
     "end_time": "2018-08-05T15:14:53.061562Z",
     "start_time": "2018-08-05T15:14:53.050884Z"
    },
    "collapsed": true
   },
   "outputs": [],
   "source": [
    "class ItemSelector(BaseEstimator, TransformerMixin):\n",
    "    \"\"\"For data grouped by feature, select subset of data at a provided key.\n",
    "\n",
    "    The data is expected to be stored in a 2D data structure, where the first\n",
    "    index is over features and the second is over samples.  i.e.\n",
    "\n",
    "    >> len(data[key]) == n_samples\n",
    "\n",
    "    Please note that this is the opposite convention to scikit-learn feature\n",
    "    matrixes (where the first index corresponds to sample).\n",
    "\n",
    "    ItemSelector only requires that the collection implement getitem\n",
    "    (data[key]).  Examples include: a dict of lists, 2D numpy array, Pandas\n",
    "    DataFrame, numpy record array, etc.\n",
    "\n",
    "    >> data = {'a': [1, 5, 2, 5, 2, 8],\n",
    "               'b': [9, 4, 1, 4, 1, 3]}\n",
    "    >> ds = ItemSelector(key='a')\n",
    "    >> data['a'] == ds.transform(data)\n",
    "\n",
    "    ItemSelector is not designed to handle data grouped by sample.  (e.g. a\n",
    "    list of dicts).  If your data is structured this way, consider a\n",
    "    transformer along the lines of `sklearn.feature_extraction.DictVectorizer`.\n",
    "\n",
    "    Parameters\n",
    "    ----------\n",
    "    key : hashable, required\n",
    "        The key corresponding to the desired value in a mappable.\n",
    "    \"\"\"\n",
    "    def __init__(self, key):\n",
    "        self.key = key\n",
    "\n",
    "    def fit(self, x, y=None):\n",
    "        return self\n",
    "\n",
    "    def transform(self, data_dict):\n",
    "        return data_dict[self.key]"
   ]
  },
  {
   "cell_type": "code",
   "execution_count": 3,
   "metadata": {
    "ExecuteTime": {
     "end_time": "2018-08-05T15:14:53.304813Z",
     "start_time": "2018-08-05T15:14:53.292587Z"
    },
    "collapsed": true
   },
   "outputs": [],
   "source": [
    "RANDOM_STATE = 42"
   ]
  },
  {
   "cell_type": "code",
   "execution_count": null,
   "metadata": {
    "ExecuteTime": {
     "end_time": "2018-08-05T15:14:11.236107Z",
     "start_time": "2018-08-05T15:14:10.066733Z"
    },
    "deletable": false,
    "editable": false,
    "run_control": {
     "frozen": true
    }
   },
   "outputs": [],
   "source": [
    "genomic_dataset = pd.read_csv(\"../data/processed/genomic/dataset.csv.gz\", index_col=\"MUTANT\")\n",
    "genomic_dataset = genomic_dataset[genomic_dataset.TYPE != \"Unclassified\"]\n",
    "\n",
    "structural_dataset = pd.read_csv(\"../data/processed/structural/dataset.csv.gz\", index_col=\"MUTANT\")\n",
    "structural_dataset = structural_dataset[structural_dataset.TYPE != \"Unclassified\"]\n",
    "\n",
    "\n",
    "integral_dataset = genomic_dataset.merge(structural_dataset, right_index=True, left_index=True)\n",
    "integral_dataset[\"TYPE\"] = integral_dataset[\"TYPE_x\"]\n",
    "integral_dataset.drop([\"TYPE_x\", \"TYPE_y\"], 1, inplace=True)"
   ]
  },
  {
   "cell_type": "code",
   "execution_count": null,
   "metadata": {
    "ExecuteTime": {
     "end_time": "2018-08-05T15:14:54.804076Z",
     "start_time": "2018-08-05T15:14:54.634077Z"
    },
    "deletable": false,
    "editable": false,
    "run_control": {
     "frozen": true
    }
   },
   "outputs": [],
   "source": [
    "integral_dataset.to_csv(\"../data/processed/integral/dataset.csv.gz\", index=True, index_label=\"MUTANT\", compression=\"gzip\")"
   ]
  },
  {
   "cell_type": "code",
   "execution_count": 5,
   "metadata": {
    "ExecuteTime": {
     "end_time": "2018-08-05T15:15:20.400725Z",
     "start_time": "2018-08-05T15:15:19.589408Z"
    },
    "collapsed": true
   },
   "outputs": [],
   "source": [
    "integral_dataset = pd.read_csv(\"../data/processed/integral/dataset.csv.gz\", index_col=\"MUTANT\")"
   ]
  },
  {
   "cell_type": "code",
   "execution_count": 6,
   "metadata": {
    "ExecuteTime": {
     "end_time": "2018-08-05T15:15:20.972223Z",
     "start_time": "2018-08-05T15:15:20.949452Z"
    }
   },
   "outputs": [
    {
     "data": {
      "text/plain": [
       "Index(['PHYLOP46WAY', 'PHASTCONS46WAY', 'INTRON', 'MISSENSE', 'NEAR-GENE',\n",
       "       'NCRNA', 'CODING-SYNON', 'UNTRANSLATED', 'NONSENSE', 'SPLICE',\n",
       "       'FRAMESHIFT', 'CDS-INDEL', 'STOP-LOSS', 'CHARGE', 'VOLUME',\n",
       "       'HYDROPHOBICITY', 'GRANTHAM', 'POLARITY', 'EX', 'PAM250', 'BLOSUM',\n",
       "       'JM', 'HGMD2003', 'VB', 'TRANSITION', 'COSMIC', 'COSMICVSSWISSPROT',\n",
       "       'HAPMAP', 'COSMICVSHAPMAP', 'BINDING', 'ACT_SITE', 'SITE', 'LIPID',\n",
       "       'METAL', 'CARBOHYD', 'DNA_BIND', 'NP_BIND', 'CA_BIND', 'DISULFID',\n",
       "       'SE_CYS', 'MOD_RES', 'PROPEP', 'SIGNALP', 'TRANSMEM', 'COMPBIAS', 'REP',\n",
       "       'MOTIF', 'ZN_FING', 'REGIONS', 'PPI', 'RNABD', 'TF', 'LOC', 'MMBRBD',\n",
       "       'CHROM', 'POSTMODREC', 'POSTMODENZ', 'AROMATICITY_DIFF',\n",
       "       'AROMATICITY_LOG_RATIO', 'ISOELECTRIC_POINT_DIFF',\n",
       "       'ISOELECTRIC_POINT_LOG_RATIO', 'GRAVY_DIFF', 'GRAVY_LOG_RATIO',\n",
       "       'INSTABILITY_INDEX_DIFF', 'INSTABILITY_INDEX_LOG_RATIO',\n",
       "       'FLEXIBILITY_DIFF', 'FLEXIBILITY_LOG_RATIO', 'TYPE'],\n",
       "      dtype='object')"
      ]
     },
     "execution_count": 6,
     "metadata": {},
     "output_type": "execute_result"
    }
   ],
   "source": [
    "integral_dataset.columns"
   ]
  },
  {
   "cell_type": "code",
   "execution_count": 7,
   "metadata": {
    "ExecuteTime": {
     "end_time": "2018-08-05T15:15:21.766380Z",
     "start_time": "2018-08-05T15:15:21.375064Z"
    }
   },
   "outputs": [
    {
     "data": {
      "text/html": [
       "<div>\n",
       "<table border=\"1\" class=\"dataframe\">\n",
       "  <thead>\n",
       "    <tr style=\"text-align: right;\">\n",
       "      <th></th>\n",
       "      <th>PHYLOP46WAY</th>\n",
       "      <th>PHASTCONS46WAY</th>\n",
       "      <th>INTRON</th>\n",
       "      <th>MISSENSE</th>\n",
       "      <th>NEAR-GENE</th>\n",
       "      <th>NCRNA</th>\n",
       "      <th>CODING-SYNON</th>\n",
       "      <th>UNTRANSLATED</th>\n",
       "      <th>NONSENSE</th>\n",
       "      <th>SPLICE</th>\n",
       "      <th>...</th>\n",
       "      <th>AROMATICITY_DIFF</th>\n",
       "      <th>AROMATICITY_LOG_RATIO</th>\n",
       "      <th>ISOELECTRIC_POINT_DIFF</th>\n",
       "      <th>ISOELECTRIC_POINT_LOG_RATIO</th>\n",
       "      <th>GRAVY_DIFF</th>\n",
       "      <th>GRAVY_LOG_RATIO</th>\n",
       "      <th>INSTABILITY_INDEX_DIFF</th>\n",
       "      <th>INSTABILITY_INDEX_LOG_RATIO</th>\n",
       "      <th>FLEXIBILITY_DIFF</th>\n",
       "      <th>FLEXIBILITY_LOG_RATIO</th>\n",
       "    </tr>\n",
       "  </thead>\n",
       "  <tbody>\n",
       "    <tr>\n",
       "      <th>count</th>\n",
       "      <td>54389.000000</td>\n",
       "      <td>54389.000000</td>\n",
       "      <td>54849.000000</td>\n",
       "      <td>54849.000000</td>\n",
       "      <td>54849.000000</td>\n",
       "      <td>54849.000000</td>\n",
       "      <td>54849.000000</td>\n",
       "      <td>54849.000000</td>\n",
       "      <td>54849.000000</td>\n",
       "      <td>54849.000000</td>\n",
       "      <td>...</td>\n",
       "      <td>68499.000000</td>\n",
       "      <td>45742.000000</td>\n",
       "      <td>68499.000000</td>\n",
       "      <td>68499.000000</td>\n",
       "      <td>68491.000000</td>\n",
       "      <td>61550.000000</td>\n",
       "      <td>68491.000000</td>\n",
       "      <td>64583.000000</td>\n",
       "      <td>6.762400e+04</td>\n",
       "      <td>67624.000000</td>\n",
       "    </tr>\n",
       "    <tr>\n",
       "      <th>mean</th>\n",
       "      <td>2.159356</td>\n",
       "      <td>0.671400</td>\n",
       "      <td>0.136101</td>\n",
       "      <td>0.990684</td>\n",
       "      <td>0.060730</td>\n",
       "      <td>0.174114</td>\n",
       "      <td>0.020092</td>\n",
       "      <td>0.053547</td>\n",
       "      <td>0.005397</td>\n",
       "      <td>0.000510</td>\n",
       "      <td>...</td>\n",
       "      <td>0.016528</td>\n",
       "      <td>-0.022760</td>\n",
       "      <td>0.694703</td>\n",
       "      <td>0.005083</td>\n",
       "      <td>0.229033</td>\n",
       "      <td>0.035656</td>\n",
       "      <td>14.021421</td>\n",
       "      <td>0.086007</td>\n",
       "      <td>9.295194e-03</td>\n",
       "      <td>0.000834</td>\n",
       "    </tr>\n",
       "    <tr>\n",
       "      <th>std</th>\n",
       "      <td>2.291084</td>\n",
       "      <td>0.438167</td>\n",
       "      <td>0.342899</td>\n",
       "      <td>0.096072</td>\n",
       "      <td>0.238837</td>\n",
       "      <td>0.379211</td>\n",
       "      <td>0.140315</td>\n",
       "      <td>0.225124</td>\n",
       "      <td>0.073264</td>\n",
       "      <td>0.022589</td>\n",
       "      <td>...</td>\n",
       "      <td>0.024880</td>\n",
       "      <td>0.259581</td>\n",
       "      <td>0.981196</td>\n",
       "      <td>0.173111</td>\n",
       "      <td>0.170820</td>\n",
       "      <td>1.944348</td>\n",
       "      <td>13.272557</td>\n",
       "      <td>0.690841</td>\n",
       "      <td>6.760691e-03</td>\n",
       "      <td>0.011475</td>\n",
       "    </tr>\n",
       "    <tr>\n",
       "      <th>min</th>\n",
       "      <td>-8.217000</td>\n",
       "      <td>0.000000</td>\n",
       "      <td>0.000000</td>\n",
       "      <td>0.000000</td>\n",
       "      <td>0.000000</td>\n",
       "      <td>0.000000</td>\n",
       "      <td>0.000000</td>\n",
       "      <td>0.000000</td>\n",
       "      <td>0.000000</td>\n",
       "      <td>0.000000</td>\n",
       "      <td>...</td>\n",
       "      <td>0.000000</td>\n",
       "      <td>-0.810930</td>\n",
       "      <td>0.000000</td>\n",
       "      <td>-0.835349</td>\n",
       "      <td>0.000000</td>\n",
       "      <td>-38.096066</td>\n",
       "      <td>0.001250</td>\n",
       "      <td>-7.946853</td>\n",
       "      <td>2.834467e-07</td>\n",
       "      <td>-0.046367</td>\n",
       "    </tr>\n",
       "    <tr>\n",
       "      <th>25%</th>\n",
       "      <td>0.287000</td>\n",
       "      <td>0.056000</td>\n",
       "      <td>0.000000</td>\n",
       "      <td>1.000000</td>\n",
       "      <td>0.000000</td>\n",
       "      <td>0.000000</td>\n",
       "      <td>0.000000</td>\n",
       "      <td>0.000000</td>\n",
       "      <td>0.000000</td>\n",
       "      <td>0.000000</td>\n",
       "      <td>...</td>\n",
       "      <td>0.000000</td>\n",
       "      <td>-0.064539</td>\n",
       "      <td>0.000000</td>\n",
       "      <td>-0.019971</td>\n",
       "      <td>0.092083</td>\n",
       "      <td>-0.243587</td>\n",
       "      <td>4.196667</td>\n",
       "      <td>-0.162353</td>\n",
       "      <td>3.928005e-03</td>\n",
       "      <td>-0.007238</td>\n",
       "    </tr>\n",
       "    <tr>\n",
       "      <th>50%</th>\n",
       "      <td>1.816000</td>\n",
       "      <td>0.995000</td>\n",
       "      <td>0.000000</td>\n",
       "      <td>1.000000</td>\n",
       "      <td>0.000000</td>\n",
       "      <td>0.000000</td>\n",
       "      <td>0.000000</td>\n",
       "      <td>0.000000</td>\n",
       "      <td>0.000000</td>\n",
       "      <td>0.000000</td>\n",
       "      <td>...</td>\n",
       "      <td>0.004167</td>\n",
       "      <td>-0.064539</td>\n",
       "      <td>0.167847</td>\n",
       "      <td>0.000000</td>\n",
       "      <td>0.196667</td>\n",
       "      <td>0.028925</td>\n",
       "      <td>10.093750</td>\n",
       "      <td>0.028342</td>\n",
       "      <td>7.928430e-03</td>\n",
       "      <td>0.001069</td>\n",
       "    </tr>\n",
       "    <tr>\n",
       "      <th>75%</th>\n",
       "      <td>4.235000</td>\n",
       "      <td>1.000000</td>\n",
       "      <td>0.000000</td>\n",
       "      <td>1.000000</td>\n",
       "      <td>0.000000</td>\n",
       "      <td>0.000000</td>\n",
       "      <td>0.000000</td>\n",
       "      <td>0.000000</td>\n",
       "      <td>0.000000</td>\n",
       "      <td>0.000000</td>\n",
       "      <td>...</td>\n",
       "      <td>0.012500</td>\n",
       "      <td>-0.064539</td>\n",
       "      <td>1.221252</td>\n",
       "      <td>0.034624</td>\n",
       "      <td>0.330000</td>\n",
       "      <td>0.283768</td>\n",
       "      <td>20.097500</td>\n",
       "      <td>0.328463</td>\n",
       "      <td>1.336239e-02</td>\n",
       "      <td>0.008617</td>\n",
       "    </tr>\n",
       "    <tr>\n",
       "      <th>max</th>\n",
       "      <td>6.424000</td>\n",
       "      <td>1.000000</td>\n",
       "      <td>1.000000</td>\n",
       "      <td>1.000000</td>\n",
       "      <td>1.000000</td>\n",
       "      <td>1.000000</td>\n",
       "      <td>1.000000</td>\n",
       "      <td>1.000000</td>\n",
       "      <td>1.000000</td>\n",
       "      <td>1.000000</td>\n",
       "      <td>...</td>\n",
       "      <td>0.222222</td>\n",
       "      <td>1.034074</td>\n",
       "      <td>6.305908</td>\n",
       "      <td>0.872352</td>\n",
       "      <td>1.673611</td>\n",
       "      <td>38.367878</td>\n",
       "      <td>139.144444</td>\n",
       "      <td>7.964569</td>\n",
       "      <td>4.844643e-02</td>\n",
       "      <td>0.044189</td>\n",
       "    </tr>\n",
       "  </tbody>\n",
       "</table>\n",
       "<p>8 rows × 67 columns</p>\n",
       "</div>"
      ],
      "text/plain": [
       "        PHYLOP46WAY  PHASTCONS46WAY        INTRON      MISSENSE     NEAR-GENE  \\\n",
       "count  54389.000000    54389.000000  54849.000000  54849.000000  54849.000000   \n",
       "mean       2.159356        0.671400      0.136101      0.990684      0.060730   \n",
       "std        2.291084        0.438167      0.342899      0.096072      0.238837   \n",
       "min       -8.217000        0.000000      0.000000      0.000000      0.000000   \n",
       "25%        0.287000        0.056000      0.000000      1.000000      0.000000   \n",
       "50%        1.816000        0.995000      0.000000      1.000000      0.000000   \n",
       "75%        4.235000        1.000000      0.000000      1.000000      0.000000   \n",
       "max        6.424000        1.000000      1.000000      1.000000      1.000000   \n",
       "\n",
       "              NCRNA  CODING-SYNON  UNTRANSLATED      NONSENSE        SPLICE  \\\n",
       "count  54849.000000  54849.000000  54849.000000  54849.000000  54849.000000   \n",
       "mean       0.174114      0.020092      0.053547      0.005397      0.000510   \n",
       "std        0.379211      0.140315      0.225124      0.073264      0.022589   \n",
       "min        0.000000      0.000000      0.000000      0.000000      0.000000   \n",
       "25%        0.000000      0.000000      0.000000      0.000000      0.000000   \n",
       "50%        0.000000      0.000000      0.000000      0.000000      0.000000   \n",
       "75%        0.000000      0.000000      0.000000      0.000000      0.000000   \n",
       "max        1.000000      1.000000      1.000000      1.000000      1.000000   \n",
       "\n",
       "               ...            AROMATICITY_DIFF  AROMATICITY_LOG_RATIO  \\\n",
       "count          ...                68499.000000           45742.000000   \n",
       "mean           ...                    0.016528              -0.022760   \n",
       "std            ...                    0.024880               0.259581   \n",
       "min            ...                    0.000000              -0.810930   \n",
       "25%            ...                    0.000000              -0.064539   \n",
       "50%            ...                    0.004167              -0.064539   \n",
       "75%            ...                    0.012500              -0.064539   \n",
       "max            ...                    0.222222               1.034074   \n",
       "\n",
       "       ISOELECTRIC_POINT_DIFF  ISOELECTRIC_POINT_LOG_RATIO    GRAVY_DIFF  \\\n",
       "count            68499.000000                 68499.000000  68491.000000   \n",
       "mean                 0.694703                     0.005083      0.229033   \n",
       "std                  0.981196                     0.173111      0.170820   \n",
       "min                  0.000000                    -0.835349      0.000000   \n",
       "25%                  0.000000                    -0.019971      0.092083   \n",
       "50%                  0.167847                     0.000000      0.196667   \n",
       "75%                  1.221252                     0.034624      0.330000   \n",
       "max                  6.305908                     0.872352      1.673611   \n",
       "\n",
       "       GRAVY_LOG_RATIO  INSTABILITY_INDEX_DIFF  INSTABILITY_INDEX_LOG_RATIO  \\\n",
       "count     61550.000000            68491.000000                 64583.000000   \n",
       "mean          0.035656               14.021421                     0.086007   \n",
       "std           1.944348               13.272557                     0.690841   \n",
       "min         -38.096066                0.001250                    -7.946853   \n",
       "25%          -0.243587                4.196667                    -0.162353   \n",
       "50%           0.028925               10.093750                     0.028342   \n",
       "75%           0.283768               20.097500                     0.328463   \n",
       "max          38.367878              139.144444                     7.964569   \n",
       "\n",
       "       FLEXIBILITY_DIFF  FLEXIBILITY_LOG_RATIO  \n",
       "count      6.762400e+04           67624.000000  \n",
       "mean       9.295194e-03               0.000834  \n",
       "std        6.760691e-03               0.011475  \n",
       "min        2.834467e-07              -0.046367  \n",
       "25%        3.928005e-03              -0.007238  \n",
       "50%        7.928430e-03               0.001069  \n",
       "75%        1.336239e-02               0.008617  \n",
       "max        4.844643e-02               0.044189  \n",
       "\n",
       "[8 rows x 67 columns]"
      ]
     },
     "execution_count": 7,
     "metadata": {},
     "output_type": "execute_result"
    }
   ],
   "source": [
    "integral_dataset.describe()"
   ]
  },
  {
   "cell_type": "code",
   "execution_count": 8,
   "metadata": {
    "ExecuteTime": {
     "end_time": "2018-08-05T15:15:22.052972Z",
     "start_time": "2018-08-05T15:15:22.038803Z"
    }
   },
   "outputs": [
    {
     "data": {
      "text/plain": [
       "Polymorphism    39653\n",
       "Disease         28855\n",
       "Name: TYPE, dtype: int64"
      ]
     },
     "execution_count": 8,
     "metadata": {},
     "output_type": "execute_result"
    }
   ],
   "source": [
    "integral_dataset.TYPE.value_counts()"
   ]
  },
  {
   "cell_type": "code",
   "execution_count": 16,
   "metadata": {
    "ExecuteTime": {
     "end_time": "2018-08-05T15:15:41.956663Z",
     "start_time": "2018-08-05T15:15:41.741346Z"
    }
   },
   "outputs": [],
   "source": [
    "le = LabelEncoder()\n",
    "X = integral_dataset[~integral_dataset.TYPE.isnull()].drop(['TYPE'], 1)\n",
    "y = le.fit_transform(integral_dataset[~integral_dataset.TYPE.isnull()].TYPE)\n",
    "X_train, X_test, y_train, y_test = train_test_split(X, y, test_size=0.33, random_state=42, stratify=y)"
   ]
  },
  {
   "cell_type": "code",
   "execution_count": 17,
   "metadata": {
    "ExecuteTime": {
     "end_time": "2018-08-05T15:15:42.707846Z",
     "start_time": "2018-08-05T15:15:42.687333Z"
    },
    "collapsed": true
   },
   "outputs": [],
   "source": [
    "cat_vars_genomic = ['INTRON','MISSENSE', 'NEAR-GENE', 'NCRNA', 'CODING-SYNON', 'UNTRANSLATED',\n",
    "       'NONSENSE', 'SPLICE', 'FRAMESHIFT', 'CDS-INDEL', 'STOP-LOSS']\n",
    "\n",
    "cat_vars_structural = ['BINDING','ACT_SITE','SITE','LIPID','METAL','CARBOHYD',\n",
    "                       'DNA_BIND','NP_BIND','CA_BIND','DISULFID','SE_CYS','MOD_RES','PROPEP','SIGNALP',\n",
    "                       'TRANSMEM','COMPBIAS','REP','MOTIF','ZN_FING','REGIONS','PPI','RNABD','TF','LOC',\n",
    "                       'MMBRBD','CHROM','POSTMODREC','POSTMODENZ']\n",
    "\n",
    "cat_vars  = cat_vars_genomic + cat_vars_structural\n",
    "\n",
    "cont_vars = integral_dataset.columns.drop(cat_vars + [\"TYPE\"], 1).tolist()\n",
    "\n",
    "impute = ('union', \n",
    "          FeatureUnion(\n",
    "              transformer_list=[\n",
    "                  ('continuous', Pipeline([\n",
    "                      ('selector', ItemSelector(key=cont_vars)),\n",
    "                      ('imputer', Imputer(missing_values=\"NaN\", strategy=\"median\"))\n",
    "                  ])),\n",
    "                  ('categorical', Pipeline([\n",
    "                      ('selector', ItemSelector(key=cat_vars)),\n",
    "                      ('imputer', Imputer(missing_values=\"NaN\", strategy=\"most_frequent\"))\n",
    "                      \n",
    "                  ]))\n",
    "              ]))\n",
    "                  \n",
    "\n",
    "# impute = ('imputer', Imputer(missing_values=\"NaN\", strategy=\"median\"))\n",
    "\n",
    "scale = ('scaler', RobustScaler())\n",
    "\n",
    "model_dict = {\n",
    "    'lr':{'pipe':[impute, scale, ('lr', LogisticRegression())],\n",
    "        'params':[{'lr__C' : [.001, .01, .1, 1, 10, 100, 1000], 'lr__class_weight':[None, 'balanced']}],\n",
    "        'name':'LogisticRegression'\n",
    "    },\n",
    "    'rf':{'pipe':[impute, ('rf', RandomForestClassifier(random_state=RANDOM_STATE))],\n",
    "        'params':[{'rf__max_depth':[3,5,7], 'rf__n_estimators':[10,50,100], 'rf__max_features':[4,'sqrt',0.2]}],\n",
    "        'name':'Random Forest'\n",
    "    },\n",
    "    'svc':{'pipe': [impute, scale, ('svc', SVC(kernel='rbf'))],\n",
    "           'params':[{'svc__kernel': ['rbf'], 'svc__gamma': [1e-2, 1e-3, 1e-4, 1e-5],\n",
    "                'svc__C': [0.001, 0.10, 0.1, 10, 25, 50, 100, 1000]}]\n",
    "        \n",
    "    },\n",
    "}"
   ]
  },
  {
   "cell_type": "code",
   "execution_count": 18,
   "metadata": {
    "ExecuteTime": {
     "end_time": "2018-08-05T15:15:43.528082Z",
     "start_time": "2018-08-05T15:15:43.522406Z"
    }
   },
   "outputs": [
    {
     "data": {
      "text/plain": [
       "67"
      ]
     },
     "execution_count": 18,
     "metadata": {},
     "output_type": "execute_result"
    }
   ],
   "source": [
    "len(cat_vars) + len(cont_vars)"
   ]
  },
  {
   "cell_type": "code",
   "execution_count": 19,
   "metadata": {
    "ExecuteTime": {
     "end_time": "2018-08-05T15:15:44.271774Z",
     "start_time": "2018-08-05T15:15:44.264481Z"
    }
   },
   "outputs": [],
   "source": [
    "folds = 3\n",
    "skf = StratifiedKFold(n_splits=folds, shuffle=True, random_state=1001)\n",
    "algorithm = 'rf'\n",
    "model = Pipeline(model_dict[algorithm]['pipe'])\n",
    "param_list = [model_dict[algorithm]['params']][0]\n",
    "gs = GridSearchCV(model, param_list, cv=skf.split(X_train, y_train), n_jobs=2, \n",
    "                  scoring='roc_auc', verbose=1, refit=True)"
   ]
  },
  {
   "cell_type": "code",
   "execution_count": 20,
   "metadata": {
    "ExecuteTime": {
     "end_time": "2018-08-05T15:17:14.593727Z",
     "start_time": "2018-08-05T15:15:45.172245Z"
    }
   },
   "outputs": [
    {
     "name": "stdout",
     "output_type": "stream",
     "text": [
      "Fitting 3 folds for each of 27 candidates, totalling 81 fits\n"
     ]
    },
    {
     "name": "stderr",
     "output_type": "stream",
     "text": [
      "[Parallel(n_jobs=2)]: Done  46 tasks      | elapsed:   37.0s\n",
      "[Parallel(n_jobs=2)]: Done  81 out of  81 | elapsed:  1.4min finished\n"
     ]
    },
    {
     "data": {
      "text/plain": [
       "GridSearchCV(cv=<generator object _BaseKFold.split at 0x7f149a095620>,\n",
       "       error_score='raise',\n",
       "       estimator=Pipeline(memory=None,\n",
       "     steps=[('union', FeatureUnion(n_jobs=1,\n",
       "       transformer_list=[('continuous', Pipeline(memory=None,\n",
       "     steps=[('selector', ItemSelector(key=['PHYLOP46WAY', 'PHASTCONS46WAY', 'CHARGE', 'VOLUME', 'HYDROPHOBICITY', 'GRANTHAM', 'POLARITY', 'EX', 'PAM250', 'BLOSUM', 'JM', 'HGMD2003', 'VB', 'TRANSITIO...stimators=10, n_jobs=1,\n",
       "            oob_score=False, random_state=42, verbose=0, warm_start=False))]),\n",
       "       fit_params=None, iid=True, n_jobs=2,\n",
       "       param_grid=[{'rf__max_depth': [3, 5, 7], 'rf__n_estimators': [10, 50, 100], 'rf__max_features': [4, 'sqrt', 0.2]}],\n",
       "       pre_dispatch='2*n_jobs', refit=True, return_train_score='warn',\n",
       "       scoring='roc_auc', verbose=1)"
      ]
     },
     "execution_count": 20,
     "metadata": {},
     "output_type": "execute_result"
    }
   ],
   "source": [
    "gs.fit(X_train, y_train)"
   ]
  },
  {
   "cell_type": "code",
   "execution_count": 21,
   "metadata": {
    "ExecuteTime": {
     "end_time": "2018-08-05T15:17:22.139122Z",
     "start_time": "2018-08-05T15:17:22.131242Z"
    },
    "collapsed": true
   },
   "outputs": [],
   "source": [
    "rf = gs.best_estimator_"
   ]
  },
  {
   "cell_type": "code",
   "execution_count": 22,
   "metadata": {
    "ExecuteTime": {
     "end_time": "2018-08-05T15:17:23.317900Z",
     "start_time": "2018-08-05T15:17:23.303745Z"
    }
   },
   "outputs": [
    {
     "data": {
      "text/plain": [
       "0.8764228291388095"
      ]
     },
     "execution_count": 22,
     "metadata": {},
     "output_type": "execute_result"
    }
   ],
   "source": [
    "gs.best_score_"
   ]
  },
  {
   "cell_type": "code",
   "execution_count": 23,
   "metadata": {
    "ExecuteTime": {
     "end_time": "2018-08-05T15:17:40.145548Z",
     "start_time": "2018-08-05T15:17:39.766796Z"
    }
   },
   "outputs": [
    {
     "data": {
      "image/png": "[encoded data removed]",
      "text/plain": [
       "<matplotlib.figure.Figure at 0x7f149959e2e8>"
      ]
     },
     "metadata": {},
     "output_type": "display_data"
    }
   ],
   "source": [
    "importances = [(X_train.columns[e], x) for e, x in enumerate(rf.steps[1][1].feature_importances_)]\n",
    "importances.sort(key=operator.itemgetter(1), reverse=True)\n",
    "importances = importances[:10][::-1]\n",
    "figsize(8, 5)\n",
    "plt.barh(np.arange(len(importances)), [y for x, y in importances], 0.3, color=\"g\", align=\"center\")\n",
    "plt.yticks(range(len(importances)), [x for x, y in importances], rotation='horizontal', fontsize=16)\n",
    "plt.xlabel(\"Score\",fontsize=16)\n",
    "plt.xticks(fontsize=16)\n",
    "plt.tight_layout()\n",
    "\n",
    "plt.savefig(\"/home/marlan/Desktop/importances_integral.pdf\", bbox_inches='tight', pad_inches=0.1)\n"
   ]
  },
  {
   "cell_type": "code",
   "execution_count": 24,
   "metadata": {
    "ExecuteTime": {
     "end_time": "2018-08-05T15:17:44.739134Z",
     "start_time": "2018-08-05T15:17:44.551902Z"
    },
    "collapsed": true
   },
   "outputs": [],
   "source": [
    "fpr, tpr, _ = roc_curve(y_test, rf.predict_proba(X_test)[:, 1])\n",
    "roc_auc = auc(fpr, tpr)"
   ]
  },
  {
   "cell_type": "code",
   "execution_count": 26,
   "metadata": {
    "ExecuteTime": {
     "end_time": "2018-08-05T16:28:25.074764Z",
     "start_time": "2018-08-05T16:28:24.765163Z"
    }
   },
   "outputs": [
    {
     "data": {
      "image/png": "[encoded data removed]",
      "text/plain": [
       "<matplotlib.figure.Figure at 0x7f14995a5898>"
      ]
     },
     "metadata": {},
     "output_type": "display_data"
    }
   ],
   "source": [
    "figsize(7,7)\n",
    "\n",
    "lw = 2\n",
    "plt.plot(fpr, tpr, color='darkorange',\n",
    "         lw=lw, label='Curva ROC (area = %0.2f)' % roc_auc)\n",
    "plt.plot([0, 1], [0, 1], color='navy', lw=lw, linestyle='--', label='Random')\n",
    "plt.xlim([0.0, 1.0])\n",
    "plt.ylim([0.0, 1.05])\n",
    "plt.xlabel('False Positive Rate', fontsize=16)\n",
    "plt.ylabel('True Positive Rate', fontsize=16)\n",
    "plt.xticks(fontsize=16)\n",
    "plt.yticks(fontsize=16)\n",
    "# plt.title('AUC Curve')\n",
    "plt.legend(loc=\"lower right\", prop={'size': 16})\n",
    "\n",
    "plt.savefig(\"/home/marlan/Desktop/auc_integral.pdf\", bbox_inches='tight', pad_inches=0.1)"
   ]
  },
  {
   "cell_type": "code",
   "execution_count": null,
   "metadata": {
    "collapsed": true
   },
   "outputs": [],
   "source": []
  }
 ],
 "metadata": {
  "kernelspec": {
   "display_name": "Python 3",
   "language": "python",
   "name": "python3"
  },
  "language_info": {
   "codemirror_mode": {
    "name": "ipython",
    "version": 3
   },
   "file_extension": ".py",
   "mimetype": "text/x-python",
   "name": "python",
   "nbconvert_exporter": "python",
   "pygments_lexer": "ipython3",
   "version": "3.6.3"
  },
  "varInspector": {
   "cols": {
    "lenName": 16,
    "lenType": 16,
    "lenVar": 40
   },
   "kernels_config": {
    "python": {
     "delete_cmd_postfix": "",
     "delete_cmd_prefix": "del ",
     "library": "var_list.py",
     "varRefreshCmd": "print(var_dic_list())"
    },
    "r": {
     "delete_cmd_postfix": ") ",
     "delete_cmd_prefix": "rm(",
     "library": "var_list.r",
     "varRefreshCmd": "cat(var_dic_list()) "
    }
   },
   "position": {
    "height": "439px",
    "left": "1107.7px",
    "right": "20px",
    "top": "120px",
    "width": "350px"
   },
   "types_to_exclude": [
    "module",
    "function",
    "builtin_function_or_method",
    "instance",
    "_Feature"
   ],
   "window_display": false
  }
 },
 "nbformat": 4,
 "nbformat_minor": 2
}
