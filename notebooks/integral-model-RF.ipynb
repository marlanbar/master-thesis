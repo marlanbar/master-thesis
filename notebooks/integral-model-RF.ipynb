{
 "cells": [
  {
   "cell_type": "code",
   "execution_count": 1,
   "metadata": {
    "ExecuteTime": {
     "end_time": "2018-09-02T13:38:41.873573Z",
     "start_time": "2018-09-02T13:38:40.180327Z"
    },
    "collapsed": true
   },
   "outputs": [],
   "source": [
    "import operator\n",
    "import pandas as pd\n",
    "import matplotlib.pyplot as plt\n",
    "import seaborn as sns\n",
    "import numpy as np\n",
    "\n",
    "from sklearn import feature_selection\n",
    "from sklearn.base import BaseEstimator, TransformerMixin\n",
    "from sklearn.ensemble import RandomForestClassifier, AdaBoostClassifier\n",
    "from sklearn.ensemble import GradientBoostingClassifier\n",
    "from sklearn.linear_model import LogisticRegression\n",
    "from sklearn.svm import SVC\n",
    "\n",
    "from sklearn.pipeline import Pipeline, make_pipeline\n",
    "from sklearn.pipeline import FeatureUnion\n",
    "from sklearn.preprocessing import StandardScaler, RobustScaler, Imputer, LabelEncoder\n",
    "from sklearn.model_selection import GridSearchCV, RandomizedSearchCV, train_test_split, StratifiedKFold\n",
    "from sklearn.metrics import confusion_matrix, classification_report, roc_curve, auc\n",
    "from sklearn.metrics import accuracy_score, f1_score, roc_auc_score\n",
    "\n",
    "from IPython.core.pylabtools import figsize \n",
    "%matplotlib inline"
   ]
  },
  {
   "cell_type": "code",
   "execution_count": 2,
   "metadata": {
    "ExecuteTime": {
     "end_time": "2018-09-02T13:38:42.376531Z",
     "start_time": "2018-09-02T13:38:42.368431Z"
    },
    "collapsed": true
   },
   "outputs": [],
   "source": [
    "class ItemSelector(BaseEstimator, TransformerMixin):\n",
    "    def __init__(self, key):\n",
    "        self.key = key\n",
    "\n",
    "    def fit(self, x, y=None):\n",
    "        return self\n",
    "\n",
    "    def transform(self, data_dict):\n",
    "        return data_dict[self.key]"
   ]
  },
  {
   "cell_type": "code",
   "execution_count": 3,
   "metadata": {
    "ExecuteTime": {
     "end_time": "2018-09-02T13:38:42.583274Z",
     "start_time": "2018-09-02T13:38:42.579802Z"
    },
    "collapsed": true
   },
   "outputs": [],
   "source": [
    "RANDOM_STATE = 42"
   ]
  },
  {
   "cell_type": "code",
   "execution_count": 24,
   "metadata": {
    "ExecuteTime": {
     "end_time": "2018-09-02T13:05:47.551430Z",
     "start_time": "2018-09-02T13:05:46.658352Z"
    },
    "collapsed": true
   },
   "outputs": [],
   "source": [
    "genomic_dataset = pd.read_csv(\"../data/processed/genomic/dataset.csv.gz\", index_col=\"MUTANT\")\n",
    "structural_dataset = pd.read_csv(\"../data/processed/structural/dataset.csv.gz\", index_col=\"MUTANT\")\n",
    "\n",
    "integral_dataset = genomic_dataset.merge(structural_dataset, right_index=True, left_index=True, how=\"right\", suffixes=(\"_genomic\", \"_structural\"))\n",
    "integral_dataset[\"TYPE\"] = integral_dataset[\"TYPE_structural\"]\n",
    "integral_dataset.drop([\"TYPE_genomic\", \"TYPE_structural\"], 1, inplace=True)\n",
    "integral_dataset['random'] = np.random.random(size=len(integral_dataset))"
   ]
  },
  {
   "cell_type": "code",
   "execution_count": 25,
   "metadata": {
    "ExecuteTime": {
     "end_time": "2018-09-02T13:05:59.024153Z",
     "start_time": "2018-09-02T13:05:51.437014Z"
    },
    "collapsed": true
   },
   "outputs": [],
   "source": [
    "integral_dataset.to_csv(\"../data/processed/integral/dataset.csv.gz\", index=True, index_label=\"MUTANT\", compression=\"gzip\")"
   ]
  },
  {
   "cell_type": "code",
   "execution_count": 4,
   "metadata": {
    "ExecuteTime": {
     "end_time": "2018-09-02T13:38:46.907311Z",
     "start_time": "2018-09-02T13:38:46.180277Z"
    },
    "collapsed": true
   },
   "outputs": [],
   "source": [
    "integral_dataset = pd.read_csv(\"../data/processed/integral/dataset.csv.gz\", index_col=\"MUTANT\")"
   ]
  },
  {
   "cell_type": "code",
   "execution_count": 5,
   "metadata": {
    "ExecuteTime": {
     "end_time": "2018-09-02T13:38:47.226081Z",
     "start_time": "2018-09-02T13:38:47.203690Z"
    },
    "scrolled": true
   },
   "outputs": [
    {
     "data": {
      "text/plain": [
       "Index(['CONS', 'SNP_DEN', 'HAPMAP_SNP_DEN', 'PHYLOP46WAY', 'PHASTCONS46WAY',\n",
       "       'INTRON', 'MISSENSE', 'NEAR-GENE', 'NCRNA', 'CODING-SYNON',\n",
       "       'UNTRANSLATED', 'NONSENSE', 'SPLICE', 'STOP-LOSS', 'CHARGE', 'VOLUME',\n",
       "       'HYDROPHOBICITY', 'GRANTHAM', 'POLARITY', 'EX', 'PAM250', 'BLOSUM',\n",
       "       'JM', 'VB', 'TRANSITION', 'BINDING', 'ACT_SITE', 'SITE', 'LIPID',\n",
       "       'METAL', 'CARBOHYD', 'DNA_BIND', 'NP_BIND', 'CA_BIND', 'DISULFID',\n",
       "       'SE_CYS', 'MOD_RES', 'PROPEP', 'SIGNALP', 'TRANSMEM', 'COMPBIAS', 'REP',\n",
       "       'MOTIF', 'ZN_FING', 'REGIONS', 'PPI', 'RNABD', 'TF', 'LOC', 'MMBRBD',\n",
       "       'CHROM', 'POSTMODREC', 'POSTMODENZ', 'AROMATICITY_DIFF',\n",
       "       'AROMATICITY_LOG_RATIO', 'ISOELECTRIC_POINT_DIFF',\n",
       "       'ISOELECTRIC_POINT_LOG_RATIO', 'GRAVY_DIFF', 'GRAVY_LOG_RATIO',\n",
       "       'INSTABILITY_INDEX_DIFF', 'INSTABILITY_INDEX_LOG_RATIO',\n",
       "       'FLEXIBILITY_DIFF', 'FLEXIBILITY_LOG_RATIO', 'TYPE', 'random'],\n",
       "      dtype='object')"
      ]
     },
     "execution_count": 5,
     "metadata": {},
     "output_type": "execute_result"
    }
   ],
   "source": [
    "integral_dataset.columns"
   ]
  },
  {
   "cell_type": "code",
   "execution_count": 6,
   "metadata": {
    "ExecuteTime": {
     "end_time": "2018-09-02T13:38:47.870900Z",
     "start_time": "2018-09-02T13:38:47.415765Z"
    }
   },
   "outputs": [
    {
     "data": {
      "text/html": [
       "<div>\n",
       "<table border=\"1\" class=\"dataframe\">\n",
       "  <thead>\n",
       "    <tr style=\"text-align: right;\">\n",
       "      <th></th>\n",
       "      <th>CONS</th>\n",
       "      <th>SNP_DEN</th>\n",
       "      <th>HAPMAP_SNP_DEN</th>\n",
       "      <th>PHYLOP46WAY</th>\n",
       "      <th>PHASTCONS46WAY</th>\n",
       "      <th>INTRON</th>\n",
       "      <th>MISSENSE</th>\n",
       "      <th>NEAR-GENE</th>\n",
       "      <th>NCRNA</th>\n",
       "      <th>CODING-SYNON</th>\n",
       "      <th>...</th>\n",
       "      <th>AROMATICITY_LOG_RATIO</th>\n",
       "      <th>ISOELECTRIC_POINT_DIFF</th>\n",
       "      <th>ISOELECTRIC_POINT_LOG_RATIO</th>\n",
       "      <th>GRAVY_DIFF</th>\n",
       "      <th>GRAVY_LOG_RATIO</th>\n",
       "      <th>INSTABILITY_INDEX_DIFF</th>\n",
       "      <th>INSTABILITY_INDEX_LOG_RATIO</th>\n",
       "      <th>FLEXIBILITY_DIFF</th>\n",
       "      <th>FLEXIBILITY_LOG_RATIO</th>\n",
       "      <th>random</th>\n",
       "    </tr>\n",
       "  </thead>\n",
       "  <tbody>\n",
       "    <tr>\n",
       "      <th>count</th>\n",
       "      <td>54326.000000</td>\n",
       "      <td>54326.000000</td>\n",
       "      <td>54326.000000</td>\n",
       "      <td>54389.000000</td>\n",
       "      <td>54389.000000</td>\n",
       "      <td>54849.000000</td>\n",
       "      <td>54849.000000</td>\n",
       "      <td>54849.000000</td>\n",
       "      <td>54849.000000</td>\n",
       "      <td>54849.000000</td>\n",
       "      <td>...</td>\n",
       "      <td>47422.000000</td>\n",
       "      <td>68499.000000</td>\n",
       "      <td>68499.000000</td>\n",
       "      <td>68491.000000</td>\n",
       "      <td>5.115800e+04</td>\n",
       "      <td>68491.000000</td>\n",
       "      <td>61863.000000</td>\n",
       "      <td>6.762400e+04</td>\n",
       "      <td>67624.000000</td>\n",
       "      <td>68508.000000</td>\n",
       "    </tr>\n",
       "    <tr>\n",
       "      <th>mean</th>\n",
       "      <td>0.652634</td>\n",
       "      <td>0.064620</td>\n",
       "      <td>0.000143</td>\n",
       "      <td>2.158182</td>\n",
       "      <td>0.671734</td>\n",
       "      <td>0.136101</td>\n",
       "      <td>0.990684</td>\n",
       "      <td>0.060730</td>\n",
       "      <td>0.174114</td>\n",
       "      <td>0.020092</td>\n",
       "      <td>...</td>\n",
       "      <td>1.973545</td>\n",
       "      <td>0.694703</td>\n",
       "      <td>2.004476</td>\n",
       "      <td>0.229033</td>\n",
       "      <td>1.986405e+12</td>\n",
       "      <td>14.021421</td>\n",
       "      <td>2.055487</td>\n",
       "      <td>9.295194e-03</td>\n",
       "      <td>2.000630</td>\n",
       "      <td>0.500705</td>\n",
       "    </tr>\n",
       "    <tr>\n",
       "      <th>std</th>\n",
       "      <td>0.086864</td>\n",
       "      <td>0.099475</td>\n",
       "      <td>0.000994</td>\n",
       "      <td>2.287684</td>\n",
       "      <td>0.437809</td>\n",
       "      <td>0.342899</td>\n",
       "      <td>0.096072</td>\n",
       "      <td>0.238837</td>\n",
       "      <td>0.379211</td>\n",
       "      <td>0.140315</td>\n",
       "      <td>...</td>\n",
       "      <td>0.327442</td>\n",
       "      <td>0.981196</td>\n",
       "      <td>0.075076</td>\n",
       "      <td>0.170820</td>\n",
       "      <td>1.245322e+14</td>\n",
       "      <td>13.272557</td>\n",
       "      <td>2.271676</td>\n",
       "      <td>6.760691e-03</td>\n",
       "      <td>0.008284</td>\n",
       "      <td>0.289248</td>\n",
       "    </tr>\n",
       "    <tr>\n",
       "      <th>min</th>\n",
       "      <td>0.144895</td>\n",
       "      <td>0.000000</td>\n",
       "      <td>0.000000</td>\n",
       "      <td>-8.217000</td>\n",
       "      <td>0.000000</td>\n",
       "      <td>0.000000</td>\n",
       "      <td>0.000000</td>\n",
       "      <td>0.000000</td>\n",
       "      <td>0.000000</td>\n",
       "      <td>0.000000</td>\n",
       "      <td>...</td>\n",
       "      <td>1.000000</td>\n",
       "      <td>0.000000</td>\n",
       "      <td>1.688365</td>\n",
       "      <td>0.000000</td>\n",
       "      <td>-3.385488e+15</td>\n",
       "      <td>0.001250</td>\n",
       "      <td>-84.768255</td>\n",
       "      <td>2.834467e-07</td>\n",
       "      <td>1.967421</td>\n",
       "      <td>0.000056</td>\n",
       "    </tr>\n",
       "    <tr>\n",
       "      <th>25%</th>\n",
       "      <td>0.587777</td>\n",
       "      <td>0.029703</td>\n",
       "      <td>0.000000</td>\n",
       "      <td>0.287000</td>\n",
       "      <td>0.058000</td>\n",
       "      <td>0.000000</td>\n",
       "      <td>1.000000</td>\n",
       "      <td>0.000000</td>\n",
       "      <td>0.000000</td>\n",
       "      <td>0.000000</td>\n",
       "      <td>...</td>\n",
       "      <td>1.939356</td>\n",
       "      <td>0.000000</td>\n",
       "      <td>1.991353</td>\n",
       "      <td>0.092083</td>\n",
       "      <td>1.434616e+00</td>\n",
       "      <td>4.196667</td>\n",
       "      <td>1.964406</td>\n",
       "      <td>3.928005e-03</td>\n",
       "      <td>1.994787</td>\n",
       "      <td>0.250044</td>\n",
       "    </tr>\n",
       "    <tr>\n",
       "      <th>50%</th>\n",
       "      <td>0.656068</td>\n",
       "      <td>0.043860</td>\n",
       "      <td>0.000000</td>\n",
       "      <td>1.811000</td>\n",
       "      <td>0.995000</td>\n",
       "      <td>0.000000</td>\n",
       "      <td>1.000000</td>\n",
       "      <td>0.000000</td>\n",
       "      <td>0.000000</td>\n",
       "      <td>0.000000</td>\n",
       "      <td>...</td>\n",
       "      <td>1.941036</td>\n",
       "      <td>0.167847</td>\n",
       "      <td>2.000000</td>\n",
       "      <td>0.196667</td>\n",
       "      <td>1.939849e+00</td>\n",
       "      <td>10.093750</td>\n",
       "      <td>2.008802</td>\n",
       "      <td>7.928430e-03</td>\n",
       "      <td>2.000770</td>\n",
       "      <td>0.499320</td>\n",
       "    </tr>\n",
       "    <tr>\n",
       "      <th>75%</th>\n",
       "      <td>0.719510</td>\n",
       "      <td>0.064370</td>\n",
       "      <td>0.000000</td>\n",
       "      <td>4.229000</td>\n",
       "      <td>1.000000</td>\n",
       "      <td>0.000000</td>\n",
       "      <td>1.000000</td>\n",
       "      <td>0.000000</td>\n",
       "      <td>0.000000</td>\n",
       "      <td>0.000000</td>\n",
       "      <td>...</td>\n",
       "      <td>1.942567</td>\n",
       "      <td>1.221252</td>\n",
       "      <td>2.014951</td>\n",
       "      <td>0.330000</td>\n",
       "      <td>2.427909e+00</td>\n",
       "      <td>20.097500</td>\n",
       "      <td>2.087379</td>\n",
       "      <td>1.336239e-02</td>\n",
       "      <td>2.006237</td>\n",
       "      <td>0.752689</td>\n",
       "    </tr>\n",
       "    <tr>\n",
       "      <th>max</th>\n",
       "      <td>0.897386</td>\n",
       "      <td>1.042402</td>\n",
       "      <td>0.039147</td>\n",
       "      <td>6.424000</td>\n",
       "      <td>1.000000</td>\n",
       "      <td>1.000000</td>\n",
       "      <td>1.000000</td>\n",
       "      <td>1.000000</td>\n",
       "      <td>1.000000</td>\n",
       "      <td>1.000000</td>\n",
       "      <td>...</td>\n",
       "      <td>3.662755</td>\n",
       "      <td>6.305908</td>\n",
       "      <td>2.445119</td>\n",
       "      <td>1.673611</td>\n",
       "      <td>9.618253e+15</td>\n",
       "      <td>139.144444</td>\n",
       "      <td>453.213807</td>\n",
       "      <td>4.844643e-02</td>\n",
       "      <td>2.032264</td>\n",
       "      <td>0.999999</td>\n",
       "    </tr>\n",
       "  </tbody>\n",
       "</table>\n",
       "<p>8 rows × 64 columns</p>\n",
       "</div>"
      ],
      "text/plain": [
       "               CONS       SNP_DEN  HAPMAP_SNP_DEN   PHYLOP46WAY  \\\n",
       "count  54326.000000  54326.000000    54326.000000  54389.000000   \n",
       "mean       0.652634      0.064620        0.000143      2.158182   \n",
       "std        0.086864      0.099475        0.000994      2.287684   \n",
       "min        0.144895      0.000000        0.000000     -8.217000   \n",
       "25%        0.587777      0.029703        0.000000      0.287000   \n",
       "50%        0.656068      0.043860        0.000000      1.811000   \n",
       "75%        0.719510      0.064370        0.000000      4.229000   \n",
       "max        0.897386      1.042402        0.039147      6.424000   \n",
       "\n",
       "       PHASTCONS46WAY        INTRON      MISSENSE     NEAR-GENE         NCRNA  \\\n",
       "count    54389.000000  54849.000000  54849.000000  54849.000000  54849.000000   \n",
       "mean         0.671734      0.136101      0.990684      0.060730      0.174114   \n",
       "std          0.437809      0.342899      0.096072      0.238837      0.379211   \n",
       "min          0.000000      0.000000      0.000000      0.000000      0.000000   \n",
       "25%          0.058000      0.000000      1.000000      0.000000      0.000000   \n",
       "50%          0.995000      0.000000      1.000000      0.000000      0.000000   \n",
       "75%          1.000000      0.000000      1.000000      0.000000      0.000000   \n",
       "max          1.000000      1.000000      1.000000      1.000000      1.000000   \n",
       "\n",
       "       CODING-SYNON      ...       AROMATICITY_LOG_RATIO  \\\n",
       "count  54849.000000      ...                47422.000000   \n",
       "mean       0.020092      ...                    1.973545   \n",
       "std        0.140315      ...                    0.327442   \n",
       "min        0.000000      ...                    1.000000   \n",
       "25%        0.000000      ...                    1.939356   \n",
       "50%        0.000000      ...                    1.941036   \n",
       "75%        0.000000      ...                    1.942567   \n",
       "max        1.000000      ...                    3.662755   \n",
       "\n",
       "       ISOELECTRIC_POINT_DIFF  ISOELECTRIC_POINT_LOG_RATIO    GRAVY_DIFF  \\\n",
       "count            68499.000000                 68499.000000  68491.000000   \n",
       "mean                 0.694703                     2.004476      0.229033   \n",
       "std                  0.981196                     0.075076      0.170820   \n",
       "min                  0.000000                     1.688365      0.000000   \n",
       "25%                  0.000000                     1.991353      0.092083   \n",
       "50%                  0.167847                     2.000000      0.196667   \n",
       "75%                  1.221252                     2.014951      0.330000   \n",
       "max                  6.305908                     2.445119      1.673611   \n",
       "\n",
       "       GRAVY_LOG_RATIO  INSTABILITY_INDEX_DIFF  INSTABILITY_INDEX_LOG_RATIO  \\\n",
       "count     5.115800e+04            68491.000000                 61863.000000   \n",
       "mean      1.986405e+12               14.021421                     2.055487   \n",
       "std       1.245322e+14               13.272557                     2.271676   \n",
       "min      -3.385488e+15                0.001250                   -84.768255   \n",
       "25%       1.434616e+00                4.196667                     1.964406   \n",
       "50%       1.939849e+00               10.093750                     2.008802   \n",
       "75%       2.427909e+00               20.097500                     2.087379   \n",
       "max       9.618253e+15              139.144444                   453.213807   \n",
       "\n",
       "       FLEXIBILITY_DIFF  FLEXIBILITY_LOG_RATIO        random  \n",
       "count      6.762400e+04           67624.000000  68508.000000  \n",
       "mean       9.295194e-03               2.000630      0.500705  \n",
       "std        6.760691e-03               0.008284      0.289248  \n",
       "min        2.834467e-07               1.967421      0.000056  \n",
       "25%        3.928005e-03               1.994787      0.250044  \n",
       "50%        7.928430e-03               2.000770      0.499320  \n",
       "75%        1.336239e-02               2.006237      0.752689  \n",
       "max        4.844643e-02               2.032264      0.999999  \n",
       "\n",
       "[8 rows x 64 columns]"
      ]
     },
     "execution_count": 6,
     "metadata": {},
     "output_type": "execute_result"
    }
   ],
   "source": [
    "integral_dataset.describe()"
   ]
  },
  {
   "cell_type": "code",
   "execution_count": 7,
   "metadata": {
    "ExecuteTime": {
     "end_time": "2018-09-02T13:38:47.935181Z",
     "start_time": "2018-09-02T13:38:47.923713Z"
    }
   },
   "outputs": [
    {
     "data": {
      "text/plain": [
       "Polymorphism    39653\n",
       "Disease         28855\n",
       "Name: TYPE, dtype: int64"
      ]
     },
     "execution_count": 7,
     "metadata": {},
     "output_type": "execute_result"
    }
   ],
   "source": [
    "integral_dataset.TYPE.value_counts()"
   ]
  },
  {
   "cell_type": "code",
   "execution_count": 8,
   "metadata": {
    "ExecuteTime": {
     "end_time": "2018-09-02T13:38:48.003697Z",
     "start_time": "2018-09-02T13:38:47.994616Z"
    }
   },
   "outputs": [
    {
     "data": {
      "text/plain": [
       "0"
      ]
     },
     "execution_count": 8,
     "metadata": {},
     "output_type": "execute_result"
    }
   ],
   "source": [
    "integral_dataset.TYPE.isnull().sum()"
   ]
  },
  {
   "cell_type": "code",
   "execution_count": 9,
   "metadata": {
    "ExecuteTime": {
     "end_time": "2018-09-02T13:38:48.066734Z",
     "start_time": "2018-09-02T13:38:48.060987Z"
    }
   },
   "outputs": [
    {
     "data": {
      "text/plain": [
       "(68508, 65)"
      ]
     },
     "execution_count": 9,
     "metadata": {},
     "output_type": "execute_result"
    }
   ],
   "source": [
    "integral_dataset.shape"
   ]
  },
  {
   "cell_type": "code",
   "execution_count": 17,
   "metadata": {
    "ExecuteTime": {
     "end_time": "2018-09-02T13:39:09.613919Z",
     "start_time": "2018-09-02T13:39:09.383217Z"
    },
    "collapsed": true
   },
   "outputs": [],
   "source": [
    "cat_vars_genomic = ['INTRON','MISSENSE', 'NEAR-GENE', 'NCRNA', 'CODING-SYNON', 'UNTRANSLATED',\n",
    "       'NONSENSE', 'SPLICE', 'STOP-LOSS']\n",
    "\n",
    "cat_vars_structural = ['BINDING','ACT_SITE','SITE','LIPID','METAL','CARBOHYD',\n",
    "                       'DNA_BIND','NP_BIND','CA_BIND','DISULFID','SE_CYS','MOD_RES','PROPEP','SIGNALP',\n",
    "                       'TRANSMEM','COMPBIAS','REP','MOTIF','ZN_FING','REGIONS','PPI','RNABD','TF','LOC',\n",
    "                       'MMBRBD','CHROM','POSTMODREC','POSTMODENZ']\n",
    "\n",
    "cat_vars  = cat_vars_genomic + cat_vars_structural\n",
    "\n",
    "cont_vars = integral_dataset.columns.drop(cat_vars + [\"TYPE\"], 1).tolist()\n",
    "\n",
    "\n",
    "le = LabelEncoder()\n",
    "X = integral_dataset.drop(\"TYPE\", 1)\n",
    "y = le.fit_transform(integral_dataset.TYPE)\n",
    "X_train, X_test, y_train, y_test = train_test_split(X, y, test_size=0.33, random_state=42, stratify=y)"
   ]
  },
  {
   "cell_type": "code",
   "execution_count": 18,
   "metadata": {
    "ExecuteTime": {
     "end_time": "2018-09-02T13:39:10.601224Z",
     "start_time": "2018-09-02T13:39:10.556484Z"
    }
   },
   "outputs": [],
   "source": [
    "impute = ('union', \n",
    "          FeatureUnion(\n",
    "              transformer_list=[\n",
    "                  ('continuous', Pipeline([\n",
    "                      ('selector', ItemSelector(key=cont_vars)),\n",
    "                      ('imputer', Imputer(missing_values=\"NaN\", strategy=\"median\"))\n",
    "                  ])),\n",
    "                  ('categorical', Pipeline([\n",
    "                      ('selector', ItemSelector(key=cat_vars)),\n",
    "                      ('imputer', Imputer(missing_values=\"NaN\", strategy=\"most_frequent\"))\n",
    "                      \n",
    "                  ]))\n",
    "              ]))\n",
    "                  \n",
    "\n",
    "# impute = ('imputer', Imputer(missing_values=\"NaN\", strategy=\"median\"))\n",
    "scale = ('scaler', RobustScaler())\n",
    "\n",
    "model_dict = {\n",
    "    'lr':{'pipe':[impute, scale, ('lr', LogisticRegression())],\n",
    "        'params':[{'lr__C' : [.001, .01, .1, 1, 10, 100, 1000], 'lr__class_weight':[None, 'balanced']}],\n",
    "        'name':'LogisticRegression'\n",
    "    },\n",
    "    'rf':{'pipe':[impute, ('rf', RandomForestClassifier(random_state=RANDOM_STATE))],\n",
    "        'params':[{'rf__max_depth':[3,5,7], 'rf__n_estimators':[10,50,100], 'rf__max_features':[4,'sqrt',0.2,7]}],\n",
    "        'name':'Random Forest'\n",
    "    },\n",
    "    'svc':{'pipe': [impute, scale, ('svc', SVC(kernel='rbf'))],\n",
    "           'params':[{'svc__kernel': ['rbf'], 'svc__gamma': [1e-2, 1e-3, 1e-4, 1e-5],\n",
    "                'svc__C': [0.001, 0.10, 0.1, 10, 25, 50, 100, 1000]}]\n",
    "        \n",
    "    },\n",
    "}"
   ]
  },
  {
   "cell_type": "code",
   "execution_count": 19,
   "metadata": {
    "ExecuteTime": {
     "end_time": "2018-09-02T13:39:15.774050Z",
     "start_time": "2018-09-02T13:39:15.756523Z"
    }
   },
   "outputs": [],
   "source": [
    "folds = 3\n",
    "skf = StratifiedKFold(n_splits=folds, shuffle=True, random_state=1001)\n",
    "algorithm = 'rf'\n",
    "model = Pipeline(model_dict[algorithm]['pipe'])\n",
    "param_list = [model_dict[algorithm]['params']][0]\n",
    "gs = GridSearchCV(model, param_list, cv=skf.split(X_train, y_train), n_jobs=3, \n",
    "                  scoring='roc_auc', verbose=1, refit=True)"
   ]
  },
  {
   "cell_type": "code",
   "execution_count": 20,
   "metadata": {
    "ExecuteTime": {
     "end_time": "2018-09-02T13:41:27.601691Z",
     "start_time": "2018-09-02T13:39:16.566816Z"
    }
   },
   "outputs": [
    {
     "name": "stdout",
     "output_type": "stream",
     "text": [
      "Fitting 3 folds for each of 36 candidates, totalling 108 fits\n"
     ]
    },
    {
     "name": "stderr",
     "output_type": "stream",
     "text": [
      "[Parallel(n_jobs=-1)]: Done  42 tasks      | elapsed:   38.4s\n",
      "[Parallel(n_jobs=-1)]: Done 108 out of 108 | elapsed:  2.0min finished\n"
     ]
    },
    {
     "data": {
      "text/plain": [
       "GridSearchCV(cv=<generator object _BaseKFold.split at 0x7f59cbb92e60>,\n",
       "       error_score='raise',\n",
       "       estimator=Pipeline(memory=None,\n",
       "     steps=[('union', FeatureUnion(n_jobs=1,\n",
       "       transformer_list=[('continuous', Pipeline(memory=None,\n",
       "     steps=[('selector', ItemSelector(key=['CONS', 'SNP_DEN', 'HAPMAP_SNP_DEN', 'PHYLOP46WAY', 'PHASTCONS46WAY', 'CHARGE', 'VOLUME', 'HYDROPHOBICITY', 'GRANTHAM', 'POLARITY', 'EX', 'PAM250', 'BLOSUM...stimators=10, n_jobs=1,\n",
       "            oob_score=False, random_state=42, verbose=0, warm_start=False))]),\n",
       "       fit_params=None, iid=True, n_jobs=-1,\n",
       "       param_grid=[{'rf__max_depth': [3, 5, 7], 'rf__n_estimators': [10, 50, 100], 'rf__max_features': [4, 'sqrt', 0.2, 7]}],\n",
       "       pre_dispatch='2*n_jobs', refit=True, return_train_score='warn',\n",
       "       scoring='roc_auc', verbose=1)"
      ]
     },
     "execution_count": 20,
     "metadata": {},
     "output_type": "execute_result"
    }
   ],
   "source": [
    "gs.fit(X_train, y_train)"
   ]
  },
  {
   "cell_type": "code",
   "execution_count": 26,
   "metadata": {
    "ExecuteTime": {
     "end_time": "2018-09-02T13:41:41.986361Z",
     "start_time": "2018-09-02T13:41:41.982905Z"
    }
   },
   "outputs": [],
   "source": [
    "rf = gs.best_estimator_"
   ]
  },
  {
   "cell_type": "code",
   "execution_count": 27,
   "metadata": {
    "ExecuteTime": {
     "end_time": "2018-09-02T13:41:43.031342Z",
     "start_time": "2018-09-02T13:41:42.696784Z"
    }
   },
   "outputs": [
    {
     "data": {
      "image/png": "[encoded data removed]",
      "text/plain": [
       "<matplotlib.figure.Figure at 0x7f59cb760e80>"
      ]
     },
     "metadata": {},
     "output_type": "display_data"
    }
   ],
   "source": [
    "cols = (cont_vars + cat_vars)\n",
    "ranking_size = 10\n",
    "forest = rf.steps[1][1]\n",
    "\n",
    "importances = [(cols[e], x) for e, x in enumerate(forest.feature_importances_)]\n",
    "importances.sort(key=operator.itemgetter(1), reverse=True)\n",
    "indices = np.argsort(forest.feature_importances_)[:ranking_size]\n",
    "importances = importances[:ranking_size][::-1]\n",
    "std = np.std([tree.feature_importances_ for tree in forest.estimators_],axis=0)\n",
    "plt.figure(figsize=(8,6))\n",
    "plt.barh(np.arange(len(importances)), [y for x, y in importances], 0.6, color=\"green\", align=\"center\", \n",
    "         xerr=std[indices], ecolor=\"black\", error_kw={\"capthick\":2, \"capsize\":2})\n",
    "plt.yticks(range(len(importances)), [x for x, y in importances], rotation='horizontal', fontsize=16)\n",
    "plt.xlabel(\"Score\",fontsize=16)\n",
    "plt.xticks(fontsize=14)\n",
    "plt.tight_layout()\n",
    "\n",
    "plt.savefig(\"/home/marlan/Desktop/importances_integral.pdf\", bbox_inches='tight', pad_inches=0.1)\n"
   ]
  },
  {
   "cell_type": "code",
   "execution_count": 28,
   "metadata": {
    "ExecuteTime": {
     "end_time": "2018-09-02T14:14:43.081650Z",
     "start_time": "2018-09-02T14:14:42.793102Z"
    }
   },
   "outputs": [],
   "source": [
    "fpr, tpr, _ = roc_curve(y_test, rf.predict_proba(X_test)[:, 1])\n",
    "roc_auc = auc(fpr, tpr)"
   ]
  },
  {
   "cell_type": "code",
   "execution_count": 29,
   "metadata": {
    "ExecuteTime": {
     "end_time": "2018-09-02T14:14:43.788512Z",
     "start_time": "2018-09-02T14:14:43.721743Z"
    },
    "collapsed": true
   },
   "outputs": [],
   "source": [
    "roc_curve = pd.concat([pd.Series(fpr,name=\"fpr\"), pd.Series(tpr, name=\"tpr\")], axis=1)\n",
    "roc_curve.to_csv(\"../results/integral/auc_rf.csv\", index=False)"
   ]
  },
  {
   "cell_type": "code",
   "execution_count": 30,
   "metadata": {
    "ExecuteTime": {
     "end_time": "2018-09-02T14:14:45.724331Z",
     "start_time": "2018-09-02T14:14:45.452549Z"
    }
   },
   "outputs": [
    {
     "data": {
      "image/png": "[encoded data removed]",
      "text/plain": [
       "<matplotlib.figure.Figure at 0x7f59cb664c18>"
      ]
     },
     "metadata": {},
     "output_type": "display_data"
    }
   ],
   "source": [
    "plt.figure(figsize=(7,7))\n",
    "\n",
    "lw = 2\n",
    "plt.plot(fpr, tpr, color='darkorange',\n",
    "         lw=lw, label='Curva ROC (area = %0.2f)' % roc_auc)\n",
    "plt.plot([0, 1], [0, 1], color='navy', lw=lw, linestyle='--', label='Random')\n",
    "plt.xlim([0.0, 1.0])\n",
    "plt.ylim([0.0, 1.05])\n",
    "plt.xlabel('False Positive Rate', fontsize=16)\n",
    "plt.ylabel('True Positive Rate', fontsize=16)\n",
    "plt.xticks(fontsize=16)\n",
    "plt.yticks(fontsize=16)\n",
    "# plt.title('AUC Curve')\n",
    "plt.legend(loc=\"lower right\", prop={'size': 16})\n",
    "\n",
    "plt.savefig(\"/home/marlan/Desktop/auc_integral.pdf\", bbox_inches='tight', pad_inches=0.1)"
   ]
  },
  {
   "cell_type": "code",
   "execution_count": null,
   "metadata": {
    "collapsed": true
   },
   "outputs": [],
   "source": []
  }
 ],
 "metadata": {
  "kernelspec": {
   "display_name": "Python 3",
   "language": "python",
   "name": "python3"
  },
  "language_info": {
   "codemirror_mode": {
    "name": "ipython",
    "version": 3
   },
   "file_extension": ".py",
   "mimetype": "text/x-python",
   "name": "python",
   "nbconvert_exporter": "python",
   "pygments_lexer": "ipython3",
   "version": "3.6.3"
  },
  "varInspector": {
   "cols": {
    "lenName": 16,
    "lenType": 16,
    "lenVar": 40
   },
   "kernels_config": {
    "python": {
     "delete_cmd_postfix": "",
     "delete_cmd_prefix": "del ",
     "library": "var_list.py",
     "varRefreshCmd": "print(var_dic_list())"
    },
    "r": {
     "delete_cmd_postfix": ") ",
     "delete_cmd_prefix": "rm(",
     "library": "var_list.r",
     "varRefreshCmd": "cat(var_dic_list()) "
    }
   },
   "position": {
    "height": "439px",
    "left": "1107.7px",
    "right": "20px",
    "top": "120px",
    "width": "350px"
   },
   "types_to_exclude": [
    "module",
    "function",
    "builtin_function_or_method",
    "instance",
    "_Feature"
   ],
   "window_display": false
  }
 },
 "nbformat": 4,
 "nbformat_minor": 2
}
