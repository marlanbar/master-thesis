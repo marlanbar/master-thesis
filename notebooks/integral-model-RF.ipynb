{
 "cells": [
  {
   "cell_type": "code",
   "execution_count": 1,
   "metadata": {
    "ExecuteTime": {
     "end_time": "2019-01-27T16:53:36.261044Z",
     "start_time": "2019-01-27T16:53:35.451241Z"
    },
    "collapsed": true
   },
   "outputs": [],
   "source": [
    "import operator\n",
    "import pandas as pd\n",
    "import matplotlib.pyplot as plt\n",
    "import seaborn as sns\n",
    "import numpy as np\n",
    "\n",
    "from sklearn import feature_selection\n",
    "from sklearn.base import BaseEstimator, TransformerMixin\n",
    "from sklearn.ensemble import RandomForestClassifier, AdaBoostClassifier\n",
    "from sklearn.ensemble import GradientBoostingClassifier\n",
    "from sklearn.linear_model import LogisticRegression\n",
    "from sklearn.svm import SVC\n",
    "\n",
    "from sklearn.pipeline import Pipeline, make_pipeline\n",
    "from sklearn.pipeline import FeatureUnion\n",
    "from sklearn.preprocessing import StandardScaler, RobustScaler, Imputer, LabelEncoder\n",
    "from sklearn.model_selection import GridSearchCV, RandomizedSearchCV, train_test_split, StratifiedKFold\n",
    "from sklearn.metrics import confusion_matrix, classification_report, roc_curve, auc\n",
    "from sklearn.metrics import accuracy_score, f1_score, roc_auc_score\n",
    "\n",
    "import xgboost as xgb\n",
    "from xgboost import XGBClassifier\n",
    "\n",
    "from IPython.core.pylabtools import figsize \n",
    "%matplotlib inline"
   ]
  },
  {
   "cell_type": "code",
   "execution_count": 2,
   "metadata": {
    "ExecuteTime": {
     "end_time": "2019-01-27T16:53:36.280628Z",
     "start_time": "2019-01-27T16:53:36.273934Z"
    },
    "collapsed": true
   },
   "outputs": [],
   "source": [
    "class ItemSelector(BaseEstimator, TransformerMixin):\n",
    "    def __init__(self, key):\n",
    "        self.key = key\n",
    "\n",
    "    def fit(self, x, y=None):\n",
    "        return self\n",
    "\n",
    "    def transform(self, data_dict):\n",
    "        return data_dict[self.key]"
   ]
  },
  {
   "cell_type": "code",
   "execution_count": 3,
   "metadata": {
    "ExecuteTime": {
     "end_time": "2019-01-27T16:53:36.304413Z",
     "start_time": "2019-01-27T16:53:36.292521Z"
    },
    "collapsed": true
   },
   "outputs": [],
   "source": [
    "RANDOM_STATE = 42"
   ]
  },
  {
   "cell_type": "code",
   "execution_count": 4,
   "metadata": {
    "ExecuteTime": {
     "end_time": "2019-01-27T16:53:37.226175Z",
     "start_time": "2019-01-27T16:53:36.318959Z"
    },
    "collapsed": true
   },
   "outputs": [],
   "source": [
    "integral_dataset = pd.read_csv(\"../data/processed/integral/dataset.csv.gz\", index_col=\"MUTANT\")"
   ]
  },
  {
   "cell_type": "code",
   "execution_count": 5,
   "metadata": {
    "ExecuteTime": {
     "end_time": "2019-01-27T16:53:37.335250Z",
     "start_time": "2019-01-27T16:53:37.328488Z"
    },
    "scrolled": true
   },
   "outputs": [
    {
     "data": {
      "text/plain": [
       "Index(['CONS', 'SNP_DEN', 'HAPMAP_SNP_DEN', 'PHYLOP46WAY', 'PHASTCONS46WAY',\n",
       "       'INTRON', 'MISSENSE', 'NEAR-GENE', 'NCRNA', 'CODING-SYNON',\n",
       "       'UNTRANSLATED', 'NONSENSE', 'SPLICE', 'STOP-LOSS', 'CHARGE', 'VOLUME',\n",
       "       'HYDROPHOBICITY', 'GRANTHAM', 'POLARITY', 'EX', 'PAM250', 'BLOSUM',\n",
       "       'JM', 'VB', 'TRANSITION', 'BINDING', 'ACT_SITE', 'SITE', 'LIPID',\n",
       "       'METAL', 'CARBOHYD', 'DNA_BIND', 'NP_BIND', 'CA_BIND', 'DISULFID',\n",
       "       'SE_CYS', 'MOD_RES', 'PROPEP', 'SIGNALP', 'TRANSMEM', 'COMPBIAS', 'REP',\n",
       "       'MOTIF', 'ZN_FING', 'REGIONS', 'PPI', 'RNABD', 'TF', 'LOC', 'MMBRBD',\n",
       "       'CHROM', 'POSTMODREC', 'POSTMODENZ', 'AROMATICITY_DIFF',\n",
       "       'AROMATICITY_LOG_RATIO', 'ISOELECTRIC_POINT_DIFF',\n",
       "       'ISOELECTRIC_POINT_LOG_RATIO', 'GRAVY_DIFF', 'GRAVY_LOG_RATIO',\n",
       "       'INSTABILITY_INDEX_DIFF', 'INSTABILITY_INDEX_LOG_RATIO',\n",
       "       'FLEXIBILITY_DIFF', 'FLEXIBILITY_LOG_RATIO', 'TYPE'],\n",
       "      dtype='object')"
      ]
     },
     "execution_count": 5,
     "metadata": {},
     "output_type": "execute_result"
    }
   ],
   "source": [
    "integral_dataset.columns"
   ]
  },
  {
   "cell_type": "code",
   "execution_count": 6,
   "metadata": {
    "ExecuteTime": {
     "end_time": "2019-01-27T16:53:37.886149Z",
     "start_time": "2019-01-27T16:53:37.468010Z"
    }
   },
   "outputs": [
    {
     "data": {
      "text/html": [
       "<div>\n",
       "<table border=\"1\" class=\"dataframe\">\n",
       "  <thead>\n",
       "    <tr style=\"text-align: right;\">\n",
       "      <th></th>\n",
       "      <th>CONS</th>\n",
       "      <th>SNP_DEN</th>\n",
       "      <th>HAPMAP_SNP_DEN</th>\n",
       "      <th>PHYLOP46WAY</th>\n",
       "      <th>PHASTCONS46WAY</th>\n",
       "      <th>INTRON</th>\n",
       "      <th>MISSENSE</th>\n",
       "      <th>NEAR-GENE</th>\n",
       "      <th>NCRNA</th>\n",
       "      <th>CODING-SYNON</th>\n",
       "      <th>...</th>\n",
       "      <th>AROMATICITY_DIFF</th>\n",
       "      <th>AROMATICITY_LOG_RATIO</th>\n",
       "      <th>ISOELECTRIC_POINT_DIFF</th>\n",
       "      <th>ISOELECTRIC_POINT_LOG_RATIO</th>\n",
       "      <th>GRAVY_DIFF</th>\n",
       "      <th>GRAVY_LOG_RATIO</th>\n",
       "      <th>INSTABILITY_INDEX_DIFF</th>\n",
       "      <th>INSTABILITY_INDEX_LOG_RATIO</th>\n",
       "      <th>FLEXIBILITY_DIFF</th>\n",
       "      <th>FLEXIBILITY_LOG_RATIO</th>\n",
       "    </tr>\n",
       "  </thead>\n",
       "  <tbody>\n",
       "    <tr>\n",
       "      <th>count</th>\n",
       "      <td>54326.000000</td>\n",
       "      <td>54326.000000</td>\n",
       "      <td>54326.000000</td>\n",
       "      <td>54389.000000</td>\n",
       "      <td>54389.000000</td>\n",
       "      <td>54849.000000</td>\n",
       "      <td>54849.000000</td>\n",
       "      <td>54849.000000</td>\n",
       "      <td>54849.000000</td>\n",
       "      <td>54849.000000</td>\n",
       "      <td>...</td>\n",
       "      <td>68499.000000</td>\n",
       "      <td>47422.000000</td>\n",
       "      <td>68499.000000</td>\n",
       "      <td>68499.000000</td>\n",
       "      <td>68491.000000</td>\n",
       "      <td>5.115800e+04</td>\n",
       "      <td>68491.000000</td>\n",
       "      <td>61863.000000</td>\n",
       "      <td>6.762400e+04</td>\n",
       "      <td>67624.000000</td>\n",
       "    </tr>\n",
       "    <tr>\n",
       "      <th>mean</th>\n",
       "      <td>0.652634</td>\n",
       "      <td>0.064620</td>\n",
       "      <td>0.000143</td>\n",
       "      <td>2.158182</td>\n",
       "      <td>0.671734</td>\n",
       "      <td>0.136101</td>\n",
       "      <td>0.990684</td>\n",
       "      <td>0.060730</td>\n",
       "      <td>0.174114</td>\n",
       "      <td>0.020092</td>\n",
       "      <td>...</td>\n",
       "      <td>0.016528</td>\n",
       "      <td>1.973545</td>\n",
       "      <td>0.694703</td>\n",
       "      <td>2.004476</td>\n",
       "      <td>0.229033</td>\n",
       "      <td>1.986405e+12</td>\n",
       "      <td>14.021421</td>\n",
       "      <td>2.055487</td>\n",
       "      <td>9.295194e-03</td>\n",
       "      <td>2.000630</td>\n",
       "    </tr>\n",
       "    <tr>\n",
       "      <th>std</th>\n",
       "      <td>0.086864</td>\n",
       "      <td>0.099475</td>\n",
       "      <td>0.000994</td>\n",
       "      <td>2.287684</td>\n",
       "      <td>0.437809</td>\n",
       "      <td>0.342899</td>\n",
       "      <td>0.096072</td>\n",
       "      <td>0.238837</td>\n",
       "      <td>0.379211</td>\n",
       "      <td>0.140315</td>\n",
       "      <td>...</td>\n",
       "      <td>0.024880</td>\n",
       "      <td>0.327442</td>\n",
       "      <td>0.981196</td>\n",
       "      <td>0.075076</td>\n",
       "      <td>0.170820</td>\n",
       "      <td>1.245322e+14</td>\n",
       "      <td>13.272557</td>\n",
       "      <td>2.271676</td>\n",
       "      <td>6.760691e-03</td>\n",
       "      <td>0.008284</td>\n",
       "    </tr>\n",
       "    <tr>\n",
       "      <th>min</th>\n",
       "      <td>0.144895</td>\n",
       "      <td>0.000000</td>\n",
       "      <td>0.000000</td>\n",
       "      <td>-8.217000</td>\n",
       "      <td>0.000000</td>\n",
       "      <td>0.000000</td>\n",
       "      <td>0.000000</td>\n",
       "      <td>0.000000</td>\n",
       "      <td>0.000000</td>\n",
       "      <td>0.000000</td>\n",
       "      <td>...</td>\n",
       "      <td>0.000000</td>\n",
       "      <td>1.000000</td>\n",
       "      <td>0.000000</td>\n",
       "      <td>1.688365</td>\n",
       "      <td>0.000000</td>\n",
       "      <td>-3.385488e+15</td>\n",
       "      <td>0.001250</td>\n",
       "      <td>-84.768255</td>\n",
       "      <td>2.834467e-07</td>\n",
       "      <td>1.967421</td>\n",
       "    </tr>\n",
       "    <tr>\n",
       "      <th>25%</th>\n",
       "      <td>0.587777</td>\n",
       "      <td>0.029703</td>\n",
       "      <td>0.000000</td>\n",
       "      <td>0.287000</td>\n",
       "      <td>0.058000</td>\n",
       "      <td>0.000000</td>\n",
       "      <td>1.000000</td>\n",
       "      <td>0.000000</td>\n",
       "      <td>0.000000</td>\n",
       "      <td>0.000000</td>\n",
       "      <td>...</td>\n",
       "      <td>0.000000</td>\n",
       "      <td>1.939356</td>\n",
       "      <td>0.000000</td>\n",
       "      <td>1.991353</td>\n",
       "      <td>0.092083</td>\n",
       "      <td>1.434616e+00</td>\n",
       "      <td>4.196667</td>\n",
       "      <td>1.964406</td>\n",
       "      <td>3.928005e-03</td>\n",
       "      <td>1.994787</td>\n",
       "    </tr>\n",
       "    <tr>\n",
       "      <th>50%</th>\n",
       "      <td>0.656068</td>\n",
       "      <td>0.043860</td>\n",
       "      <td>0.000000</td>\n",
       "      <td>1.811000</td>\n",
       "      <td>0.995000</td>\n",
       "      <td>0.000000</td>\n",
       "      <td>1.000000</td>\n",
       "      <td>0.000000</td>\n",
       "      <td>0.000000</td>\n",
       "      <td>0.000000</td>\n",
       "      <td>...</td>\n",
       "      <td>0.004167</td>\n",
       "      <td>1.941036</td>\n",
       "      <td>0.167847</td>\n",
       "      <td>2.000000</td>\n",
       "      <td>0.196667</td>\n",
       "      <td>1.939849e+00</td>\n",
       "      <td>10.093750</td>\n",
       "      <td>2.008802</td>\n",
       "      <td>7.928430e-03</td>\n",
       "      <td>2.000770</td>\n",
       "    </tr>\n",
       "    <tr>\n",
       "      <th>75%</th>\n",
       "      <td>0.719510</td>\n",
       "      <td>0.064370</td>\n",
       "      <td>0.000000</td>\n",
       "      <td>4.229000</td>\n",
       "      <td>1.000000</td>\n",
       "      <td>0.000000</td>\n",
       "      <td>1.000000</td>\n",
       "      <td>0.000000</td>\n",
       "      <td>0.000000</td>\n",
       "      <td>0.000000</td>\n",
       "      <td>...</td>\n",
       "      <td>0.012500</td>\n",
       "      <td>1.942567</td>\n",
       "      <td>1.221252</td>\n",
       "      <td>2.014951</td>\n",
       "      <td>0.330000</td>\n",
       "      <td>2.427909e+00</td>\n",
       "      <td>20.097500</td>\n",
       "      <td>2.087379</td>\n",
       "      <td>1.336239e-02</td>\n",
       "      <td>2.006237</td>\n",
       "    </tr>\n",
       "    <tr>\n",
       "      <th>max</th>\n",
       "      <td>0.897386</td>\n",
       "      <td>1.042402</td>\n",
       "      <td>0.039147</td>\n",
       "      <td>6.424000</td>\n",
       "      <td>1.000000</td>\n",
       "      <td>1.000000</td>\n",
       "      <td>1.000000</td>\n",
       "      <td>1.000000</td>\n",
       "      <td>1.000000</td>\n",
       "      <td>1.000000</td>\n",
       "      <td>...</td>\n",
       "      <td>0.222222</td>\n",
       "      <td>3.662755</td>\n",
       "      <td>6.305908</td>\n",
       "      <td>2.445119</td>\n",
       "      <td>1.673611</td>\n",
       "      <td>9.618253e+15</td>\n",
       "      <td>139.144444</td>\n",
       "      <td>453.213807</td>\n",
       "      <td>4.844643e-02</td>\n",
       "      <td>2.032264</td>\n",
       "    </tr>\n",
       "  </tbody>\n",
       "</table>\n",
       "<p>8 rows × 63 columns</p>\n",
       "</div>"
      ],
      "text/plain": [
       "               CONS       SNP_DEN  HAPMAP_SNP_DEN   PHYLOP46WAY  \\\n",
       "count  54326.000000  54326.000000    54326.000000  54389.000000   \n",
       "mean       0.652634      0.064620        0.000143      2.158182   \n",
       "std        0.086864      0.099475        0.000994      2.287684   \n",
       "min        0.144895      0.000000        0.000000     -8.217000   \n",
       "25%        0.587777      0.029703        0.000000      0.287000   \n",
       "50%        0.656068      0.043860        0.000000      1.811000   \n",
       "75%        0.719510      0.064370        0.000000      4.229000   \n",
       "max        0.897386      1.042402        0.039147      6.424000   \n",
       "\n",
       "       PHASTCONS46WAY        INTRON      MISSENSE     NEAR-GENE         NCRNA  \\\n",
       "count    54389.000000  54849.000000  54849.000000  54849.000000  54849.000000   \n",
       "mean         0.671734      0.136101      0.990684      0.060730      0.174114   \n",
       "std          0.437809      0.342899      0.096072      0.238837      0.379211   \n",
       "min          0.000000      0.000000      0.000000      0.000000      0.000000   \n",
       "25%          0.058000      0.000000      1.000000      0.000000      0.000000   \n",
       "50%          0.995000      0.000000      1.000000      0.000000      0.000000   \n",
       "75%          1.000000      0.000000      1.000000      0.000000      0.000000   \n",
       "max          1.000000      1.000000      1.000000      1.000000      1.000000   \n",
       "\n",
       "       CODING-SYNON          ...            AROMATICITY_DIFF  \\\n",
       "count  54849.000000          ...                68499.000000   \n",
       "mean       0.020092          ...                    0.016528   \n",
       "std        0.140315          ...                    0.024880   \n",
       "min        0.000000          ...                    0.000000   \n",
       "25%        0.000000          ...                    0.000000   \n",
       "50%        0.000000          ...                    0.004167   \n",
       "75%        0.000000          ...                    0.012500   \n",
       "max        1.000000          ...                    0.222222   \n",
       "\n",
       "       AROMATICITY_LOG_RATIO  ISOELECTRIC_POINT_DIFF  \\\n",
       "count           47422.000000            68499.000000   \n",
       "mean                1.973545                0.694703   \n",
       "std                 0.327442                0.981196   \n",
       "min                 1.000000                0.000000   \n",
       "25%                 1.939356                0.000000   \n",
       "50%                 1.941036                0.167847   \n",
       "75%                 1.942567                1.221252   \n",
       "max                 3.662755                6.305908   \n",
       "\n",
       "       ISOELECTRIC_POINT_LOG_RATIO    GRAVY_DIFF  GRAVY_LOG_RATIO  \\\n",
       "count                 68499.000000  68491.000000     5.115800e+04   \n",
       "mean                      2.004476      0.229033     1.986405e+12   \n",
       "std                       0.075076      0.170820     1.245322e+14   \n",
       "min                       1.688365      0.000000    -3.385488e+15   \n",
       "25%                       1.991353      0.092083     1.434616e+00   \n",
       "50%                       2.000000      0.196667     1.939849e+00   \n",
       "75%                       2.014951      0.330000     2.427909e+00   \n",
       "max                       2.445119      1.673611     9.618253e+15   \n",
       "\n",
       "       INSTABILITY_INDEX_DIFF  INSTABILITY_INDEX_LOG_RATIO  FLEXIBILITY_DIFF  \\\n",
       "count            68491.000000                 61863.000000      6.762400e+04   \n",
       "mean                14.021421                     2.055487      9.295194e-03   \n",
       "std                 13.272557                     2.271676      6.760691e-03   \n",
       "min                  0.001250                   -84.768255      2.834467e-07   \n",
       "25%                  4.196667                     1.964406      3.928005e-03   \n",
       "50%                 10.093750                     2.008802      7.928430e-03   \n",
       "75%                 20.097500                     2.087379      1.336239e-02   \n",
       "max                139.144444                   453.213807      4.844643e-02   \n",
       "\n",
       "       FLEXIBILITY_LOG_RATIO  \n",
       "count           67624.000000  \n",
       "mean                2.000630  \n",
       "std                 0.008284  \n",
       "min                 1.967421  \n",
       "25%                 1.994787  \n",
       "50%                 2.000770  \n",
       "75%                 2.006237  \n",
       "max                 2.032264  \n",
       "\n",
       "[8 rows x 63 columns]"
      ]
     },
     "execution_count": 6,
     "metadata": {},
     "output_type": "execute_result"
    }
   ],
   "source": [
    "integral_dataset.describe()"
   ]
  },
  {
   "cell_type": "code",
   "execution_count": 7,
   "metadata": {
    "ExecuteTime": {
     "end_time": "2019-01-27T16:53:38.008948Z",
     "start_time": "2019-01-27T16:53:37.993490Z"
    }
   },
   "outputs": [
    {
     "data": {
      "text/plain": [
       "Polymorphism    0.578808\n",
       "Disease         0.421192\n",
       "Name: TYPE, dtype: float64"
      ]
     },
     "execution_count": 7,
     "metadata": {},
     "output_type": "execute_result"
    }
   ],
   "source": [
    "integral_dataset.TYPE.value_counts(normalize=True)"
   ]
  },
  {
   "cell_type": "code",
   "execution_count": 8,
   "metadata": {
    "ExecuteTime": {
     "end_time": "2019-01-27T16:53:38.147749Z",
     "start_time": "2019-01-27T16:53:38.137512Z"
    }
   },
   "outputs": [
    {
     "data": {
      "text/plain": [
       "0"
      ]
     },
     "execution_count": 8,
     "metadata": {},
     "output_type": "execute_result"
    }
   ],
   "source": [
    "integral_dataset.TYPE.isnull().sum()"
   ]
  },
  {
   "cell_type": "code",
   "execution_count": 9,
   "metadata": {
    "ExecuteTime": {
     "end_time": "2019-01-27T16:53:38.270267Z",
     "start_time": "2019-01-27T16:53:38.265807Z"
    }
   },
   "outputs": [
    {
     "data": {
      "text/plain": [
       "(68508, 64)"
      ]
     },
     "execution_count": 9,
     "metadata": {},
     "output_type": "execute_result"
    }
   ],
   "source": [
    "integral_dataset.shape"
   ]
  },
  {
   "cell_type": "code",
   "execution_count": 10,
   "metadata": {
    "ExecuteTime": {
     "end_time": "2019-01-27T16:53:38.557978Z",
     "start_time": "2019-01-27T16:53:38.403114Z"
    },
    "collapsed": true
   },
   "outputs": [],
   "source": [
    "cat_vars_genomic = ['INTRON','MISSENSE', 'NEAR-GENE', 'NCRNA', 'CODING-SYNON', 'UNTRANSLATED',\n",
    "       'NONSENSE', 'SPLICE', 'STOP-LOSS']\n",
    "\n",
    "cat_vars_structural = ['BINDING','ACT_SITE','SITE','LIPID','METAL','CARBOHYD',\n",
    "                       'DNA_BIND','NP_BIND','CA_BIND','DISULFID','SE_CYS','MOD_RES','PROPEP','SIGNALP',\n",
    "                       'TRANSMEM','COMPBIAS','REP','MOTIF','ZN_FING','REGIONS','PPI','RNABD','TF','LOC',\n",
    "                       'MMBRBD','CHROM','POSTMODREC','POSTMODENZ']\n",
    "\n",
    "cat_vars  = cat_vars_genomic + cat_vars_structural\n",
    "\n",
    "cont_vars = integral_dataset.columns.drop(cat_vars + [\"TYPE\"], 1).tolist()\n",
    "\n",
    "\n",
    "le = LabelEncoder()\n",
    "X = integral_dataset.drop(\"TYPE\", 1)\n",
    "y = le.fit_transform(integral_dataset.TYPE)\n",
    "X_train, X_test, y_train, y_test = train_test_split(X, y, test_size=0.33, random_state=42, stratify=y)"
   ]
  },
  {
   "cell_type": "code",
   "execution_count": 11,
   "metadata": {
    "ExecuteTime": {
     "end_time": "2019-01-27T16:53:38.899992Z",
     "start_time": "2019-01-27T16:53:38.875602Z"
    },
    "collapsed": true
   },
   "outputs": [],
   "source": [
    "impute = ('union', \n",
    "          FeatureUnion(\n",
    "              transformer_list=[\n",
    "                  ('continuous', Pipeline([\n",
    "                      ('selector', ItemSelector(key=cont_vars)),\n",
    "                      ('imputer', Imputer(missing_values=\"NaN\", strategy=\"median\"))\n",
    "                  ])),\n",
    "                  ('categorical', Pipeline([\n",
    "                      ('selector', ItemSelector(key=cat_vars)),\n",
    "                      ('imputer', Imputer(missing_values=\"NaN\", strategy=\"most_frequent\"))\n",
    "                      \n",
    "                  ]))\n",
    "              ]))\n",
    "                  \n",
    "\n",
    "# impute = ('imputer', Imputer(missing_values=\"NaN\", strategy=\"median\"))\n",
    "scale = ('scaler', RobustScaler())\n",
    "\n",
    "model_dict = {\n",
    "    'lr':{'pipe':[impute, scale, ('lr', LogisticRegression())],\n",
    "        'params':[{'lr__C' : [.001, .01, .1, 1, 10, 100, 1000], 'lr__class_weight':[None, 'balanced']}],\n",
    "        'name':'Logistic Regression'\n",
    "    },\n",
    "    'rf':{'pipe':[impute, ('rf', RandomForestClassifier(random_state=RANDOM_STATE))],\n",
    "        'params':[{'rf__max_depth':[3,5,7], 'rf__n_estimators':[10,50,100], 'rf__max_features':[4,'sqrt',0.2,7]}],\n",
    "        'name':'Random Forest'\n",
    "    },\n",
    "    'svc':{'pipe': [impute, scale, ('svc', SVC(kernel='rbf'))],\n",
    "           'params':[{'svc__kernel': ['rbf'], 'svc__gamma': [1e-2, 1e-3, 1e-4, 1e-5],\n",
    "                'svc__C': [0.001, 0.10, 0.1, 10, 25, 50, 100, 1000]}]\n",
    "        \n",
    "    },\n",
    "    'xgb':{'pipe':[impute, ('xgb', XGBClassifier(learning_rate=0.01, n_estimators=100, objective='binary:logistic',\n",
    "                    silent=True, nthread=1))],\n",
    "          'params':[{'xgb__min_child_weight': [1, 5, 10], 'xgb__gamma': [0.5, 1, 1.5, 2, 5], 'xgb__subsample': [0.6, 0.8, 1.0], \n",
    "                     'xgb__colsample_bytree': [0.6, 0.8, 1.0], 'xgb__max_depth': [3, 4, 5]}],\n",
    "          'name':'Xtreme Gradient Boosting'\n",
    "    }\n",
    "}"
   ]
  },
  {
   "cell_type": "code",
   "execution_count": 12,
   "metadata": {
    "ExecuteTime": {
     "end_time": "2019-01-27T16:53:39.188419Z",
     "start_time": "2019-01-27T16:53:39.184095Z"
    }
   },
   "outputs": [
    {
     "data": {
      "text/plain": [
       "(45900, 63)"
      ]
     },
     "execution_count": 12,
     "metadata": {},
     "output_type": "execute_result"
    }
   ],
   "source": [
    "X_train.shape"
   ]
  },
  {
   "cell_type": "code",
   "execution_count": 13,
   "metadata": {
    "ExecuteTime": {
     "end_time": "2019-01-27T16:53:39.557727Z",
     "start_time": "2019-01-27T16:53:39.552963Z"
    }
   },
   "outputs": [
    {
     "data": {
      "text/plain": [
       "0.6699947451392538"
      ]
     },
     "execution_count": 13,
     "metadata": {},
     "output_type": "execute_result"
    }
   ],
   "source": [
    "X_train.shape[0] / X.shape[0]"
   ]
  },
  {
   "cell_type": "code",
   "execution_count": 14,
   "metadata": {
    "ExecuteTime": {
     "end_time": "2019-01-27T16:53:39.831352Z",
     "start_time": "2019-01-27T16:53:39.826243Z"
    },
    "collapsed": true
   },
   "outputs": [],
   "source": [
    "folds = 3\n",
    "skf = StratifiedKFold(n_splits=folds, shuffle=True, random_state=1001)\n",
    "algorithm = 'rf'\n",
    "model = Pipeline(model_dict[algorithm]['pipe'])\n",
    "param_list = [model_dict[algorithm]['params']][0]\n",
    "gs = GridSearchCV(model, param_list, cv=skf.split(X_train, y_train), n_jobs=4, \n",
    "                  scoring='roc_auc', verbose=2, refit=True)"
   ]
  },
  {
   "cell_type": "code",
   "execution_count": 15,
   "metadata": {
    "ExecuteTime": {
     "end_time": "2019-01-27T16:55:28.791344Z",
     "start_time": "2019-01-27T16:53:40.122656Z"
    },
    "scrolled": true
   },
   "outputs": [
    {
     "name": "stdout",
     "output_type": "stream",
     "text": [
      "Fitting 3 folds for each of 36 candidates, totalling 108 fits\n",
      "[CV] rf__max_depth=3, rf__max_features=4, rf__n_estimators=10 ........\n",
      "[CV] rf__max_depth=3, rf__max_features=4, rf__n_estimators=10 ........\n",
      "[CV] rf__max_depth=3, rf__max_features=4, rf__n_estimators=10 ........\n",
      "[CV] rf__max_depth=3, rf__max_features=4, rf__n_estimators=50 ........\n",
      "[CV]  rf__max_depth=3, rf__max_features=4, rf__n_estimators=10, total=   1.0s\n",
      "[CV] rf__max_depth=3, rf__max_features=4, rf__n_estimators=50 ........\n",
      "[CV]  rf__max_depth=3, rf__max_features=4, rf__n_estimators=10, total=   1.0s\n",
      "[CV] rf__max_depth=3, rf__max_features=4, rf__n_estimators=50 ........\n",
      "[CV]  rf__max_depth=3, rf__max_features=4, rf__n_estimators=10, total=   1.1s\n",
      "[CV] rf__max_depth=3, rf__max_features=4, rf__n_estimators=100 .......\n",
      "[CV]  rf__max_depth=3, rf__max_features=4, rf__n_estimators=50, total=   2.2s\n",
      "[CV] rf__max_depth=3, rf__max_features=4, rf__n_estimators=100 .......\n",
      "[CV]  rf__max_depth=3, rf__max_features=4, rf__n_estimators=50, total=   1.9s\n",
      "[CV] rf__max_depth=3, rf__max_features=4, rf__n_estimators=100 .......\n",
      "[CV]  rf__max_depth=3, rf__max_features=4, rf__n_estimators=50, total=   2.1s\n",
      "[CV] rf__max_depth=3, rf__max_features=sqrt, rf__n_estimators=10 .....\n",
      "[CV]  rf__max_depth=3, rf__max_features=sqrt, rf__n_estimators=10, total=   0.8s\n",
      "[CV] rf__max_depth=3, rf__max_features=sqrt, rf__n_estimators=10 .....\n",
      "[CV]  rf__max_depth=3, rf__max_features=4, rf__n_estimators=100, total=   3.3s\n",
      "[CV] rf__max_depth=3, rf__max_features=sqrt, rf__n_estimators=10 .....\n",
      "[CV]  rf__max_depth=3, rf__max_features=sqrt, rf__n_estimators=10, total=   0.9s\n",
      "[CV] rf__max_depth=3, rf__max_features=sqrt, rf__n_estimators=50 .....\n",
      "[CV]  rf__max_depth=3, rf__max_features=sqrt, rf__n_estimators=10, total=   1.1s\n",
      "[CV]  rf__max_depth=3, rf__max_features=4, rf__n_estimators=100, total=   3.3s\n",
      "[CV] rf__max_depth=3, rf__max_features=sqrt, rf__n_estimators=50 .....\n",
      "[CV] rf__max_depth=3, rf__max_features=sqrt, rf__n_estimators=50 .....\n",
      "[CV]  rf__max_depth=3, rf__max_features=4, rf__n_estimators=100, total=   3.2s\n",
      "[CV] rf__max_depth=3, rf__max_features=sqrt, rf__n_estimators=100 ....\n",
      "[CV]  rf__max_depth=3, rf__max_features=sqrt, rf__n_estimators=50, total=   2.3s\n",
      "[CV] rf__max_depth=3, rf__max_features=sqrt, rf__n_estimators=100 ....\n",
      "[CV]  rf__max_depth=3, rf__max_features=sqrt, rf__n_estimators=50, total=   2.2s\n",
      "[CV] rf__max_depth=3, rf__max_features=sqrt, rf__n_estimators=100 ....\n",
      "[CV]  rf__max_depth=3, rf__max_features=sqrt, rf__n_estimators=50, total=   2.4s\n",
      "[CV] rf__max_depth=3, rf__max_features=0.2, rf__n_estimators=10 ......\n",
      "[CV]  rf__max_depth=3, rf__max_features=0.2, rf__n_estimators=10, total=   0.9s\n",
      "[CV] rf__max_depth=3, rf__max_features=0.2, rf__n_estimators=10 ......\n",
      "[CV]  rf__max_depth=3, rf__max_features=0.2, rf__n_estimators=10, total=   0.7s\n",
      "[CV] rf__max_depth=3, rf__max_features=0.2, rf__n_estimators=10 ......\n",
      "[CV]  rf__max_depth=3, rf__max_features=sqrt, rf__n_estimators=100, total=   3.9s\n",
      "[CV] rf__max_depth=3, rf__max_features=0.2, rf__n_estimators=50 ......\n",
      "[CV]  rf__max_depth=3, rf__max_features=sqrt, rf__n_estimators=100, total=   3.8s\n",
      "[CV] rf__max_depth=3, rf__max_features=0.2, rf__n_estimators=50 ......\n",
      "[CV]  rf__max_depth=3, rf__max_features=0.2, rf__n_estimators=10, total=   1.5s\n",
      "[CV] rf__max_depth=3, rf__max_features=0.2, rf__n_estimators=50 ......\n",
      "[CV]  rf__max_depth=3, rf__max_features=sqrt, rf__n_estimators=100, total=   4.5s\n",
      "[CV] rf__max_depth=3, rf__max_features=0.2, rf__n_estimators=100 .....\n",
      "[CV]  rf__max_depth=3, rf__max_features=0.2, rf__n_estimators=50, total=   3.2s\n",
      "[CV] rf__max_depth=3, rf__max_features=0.2, rf__n_estimators=100 .....\n",
      "[CV]  rf__max_depth=3, rf__max_features=0.2, rf__n_estimators=50, total=   3.2s\n",
      "[CV]  rf__max_depth=3, rf__max_features=0.2, rf__n_estimators=50, total=   3.2s\n",
      "[CV] rf__max_depth=3, rf__max_features=0.2, rf__n_estimators=100 .....\n",
      "[CV] rf__max_depth=3, rf__max_features=7, rf__n_estimators=10 ........\n",
      "[CV]  rf__max_depth=3, rf__max_features=7, rf__n_estimators=10, total=   0.9s\n",
      "[CV] rf__max_depth=3, rf__max_features=7, rf__n_estimators=10 ........\n",
      "[CV]  rf__max_depth=3, rf__max_features=7, rf__n_estimators=10, total=   0.7s\n",
      "[CV] rf__max_depth=3, rf__max_features=7, rf__n_estimators=10 ........\n",
      "[CV]  rf__max_depth=3, rf__max_features=7, rf__n_estimators=10, total=   0.8s\n",
      "[CV] rf__max_depth=3, rf__max_features=7, rf__n_estimators=50 ........\n",
      "[CV]  rf__max_depth=3, rf__max_features=0.2, rf__n_estimators=100, total=   6.7s\n",
      "[CV] rf__max_depth=3, rf__max_features=7, rf__n_estimators=50 ........\n",
      "[CV]  rf__max_depth=3, rf__max_features=0.2, rf__n_estimators=100, total=   5.9s\n",
      "[CV] rf__max_depth=3, rf__max_features=7, rf__n_estimators=50 ........\n",
      "[CV]  rf__max_depth=3, rf__max_features=7, rf__n_estimators=50, total=   2.4s\n",
      "[CV] rf__max_depth=3, rf__max_features=7, rf__n_estimators=100 .......\n",
      "[CV]  rf__max_depth=3, rf__max_features=0.2, rf__n_estimators=100, total=   6.5s\n",
      "[CV] rf__max_depth=3, rf__max_features=7, rf__n_estimators=100 .......\n",
      "[CV]  rf__max_depth=3, rf__max_features=7, rf__n_estimators=50, total=   2.1s\n",
      "[CV] rf__max_depth=3, rf__max_features=7, rf__n_estimators=100 .......\n",
      "[CV]  rf__max_depth=3, rf__max_features=7, rf__n_estimators=50, total=   2.0s\n",
      "[CV] rf__max_depth=5, rf__max_features=4, rf__n_estimators=10 ........\n"
     ]
    },
    {
     "name": "stderr",
     "output_type": "stream",
     "text": [
      "[Parallel(n_jobs=4)]: Done  33 tasks      | elapsed:   24.5s\n"
     ]
    },
    {
     "name": "stdout",
     "output_type": "stream",
     "text": [
      "[CV]  rf__max_depth=5, rf__max_features=4, rf__n_estimators=10, total=   1.1s\n",
      "[CV] rf__max_depth=5, rf__max_features=4, rf__n_estimators=10 ........\n",
      "[CV]  rf__max_depth=5, rf__max_features=4, rf__n_estimators=10, total=   0.9s\n",
      "[CV] rf__max_depth=5, rf__max_features=4, rf__n_estimators=10 ........\n",
      "[CV]  rf__max_depth=3, rf__max_features=7, rf__n_estimators=100, total=   4.1s\n",
      "[CV] rf__max_depth=5, rf__max_features=4, rf__n_estimators=50 ........\n",
      "[CV]  rf__max_depth=5, rf__max_features=4, rf__n_estimators=10, total=   1.1s\n",
      "[CV] rf__max_depth=5, rf__max_features=4, rf__n_estimators=50 ........\n",
      "[CV]  rf__max_depth=3, rf__max_features=7, rf__n_estimators=100, total=   4.2s\n",
      "[CV] rf__max_depth=5, rf__max_features=4, rf__n_estimators=50 ........\n",
      "[CV]  rf__max_depth=3, rf__max_features=7, rf__n_estimators=100, total=   5.4s\n",
      "[CV] rf__max_depth=5, rf__max_features=4, rf__n_estimators=100 .......\n",
      "[CV]  rf__max_depth=5, rf__max_features=4, rf__n_estimators=50, total=   2.4s\n",
      "[CV] rf__max_depth=5, rf__max_features=4, rf__n_estimators=100 .......\n",
      "[CV]  rf__max_depth=5, rf__max_features=4, rf__n_estimators=50, total=   2.4s\n",
      "[CV] rf__max_depth=5, rf__max_features=4, rf__n_estimators=100 .......\n",
      "[CV]  rf__max_depth=5, rf__max_features=4, rf__n_estimators=50, total=   2.5s\n",
      "[CV] rf__max_depth=5, rf__max_features=sqrt, rf__n_estimators=10 .....\n",
      "[CV]  rf__max_depth=5, rf__max_features=sqrt, rf__n_estimators=10, total=   0.9s\n",
      "[CV] rf__max_depth=5, rf__max_features=sqrt, rf__n_estimators=10 .....\n",
      "[CV]  rf__max_depth=5, rf__max_features=4, rf__n_estimators=100, total=   3.9s\n",
      "[CV] rf__max_depth=5, rf__max_features=sqrt, rf__n_estimators=10 .....\n",
      "[CV]  rf__max_depth=5, rf__max_features=sqrt, rf__n_estimators=10, total=   1.1s\n",
      "[CV] rf__max_depth=5, rf__max_features=sqrt, rf__n_estimators=50 .....\n",
      "[CV]  rf__max_depth=5, rf__max_features=4, rf__n_estimators=100, total=   3.7s\n",
      "[CV] rf__max_depth=5, rf__max_features=sqrt, rf__n_estimators=50 .....\n",
      "[CV]  rf__max_depth=5, rf__max_features=4, rf__n_estimators=100, total=   4.0s\n",
      "[CV] rf__max_depth=5, rf__max_features=sqrt, rf__n_estimators=50 .....\n",
      "[CV]  rf__max_depth=5, rf__max_features=sqrt, rf__n_estimators=10, total=   1.0s\n",
      "[CV] rf__max_depth=5, rf__max_features=sqrt, rf__n_estimators=100 ....\n",
      "[CV]  rf__max_depth=5, rf__max_features=sqrt, rf__n_estimators=50, total=   2.7s\n",
      "[CV] rf__max_depth=5, rf__max_features=sqrt, rf__n_estimators=100 ....\n",
      "[CV]  rf__max_depth=5, rf__max_features=sqrt, rf__n_estimators=50, total=   2.6s\n",
      "[CV] rf__max_depth=5, rf__max_features=sqrt, rf__n_estimators=100 ....\n",
      "[CV]  rf__max_depth=5, rf__max_features=sqrt, rf__n_estimators=50, total=   2.7s\n",
      "[CV] rf__max_depth=5, rf__max_features=0.2, rf__n_estimators=10 ......\n",
      "[CV]  rf__max_depth=5, rf__max_features=0.2, rf__n_estimators=10, total=   1.3s\n",
      "[CV] rf__max_depth=5, rf__max_features=0.2, rf__n_estimators=10 ......\n",
      "[CV]  rf__max_depth=5, rf__max_features=0.2, rf__n_estimators=10, total=   1.2s\n",
      "[CV] rf__max_depth=5, rf__max_features=0.2, rf__n_estimators=10 ......\n",
      "[CV]  rf__max_depth=5, rf__max_features=sqrt, rf__n_estimators=100, total=   5.4s\n",
      "[CV] rf__max_depth=5, rf__max_features=0.2, rf__n_estimators=50 ......\n",
      "[CV]  rf__max_depth=5, rf__max_features=0.2, rf__n_estimators=10, total=   1.5s\n",
      "[CV] rf__max_depth=5, rf__max_features=0.2, rf__n_estimators=50 ......\n",
      "[CV]  rf__max_depth=5, rf__max_features=sqrt, rf__n_estimators=100, total=   5.6s\n",
      "[CV] rf__max_depth=5, rf__max_features=0.2, rf__n_estimators=50 ......\n",
      "[CV]  rf__max_depth=5, rf__max_features=sqrt, rf__n_estimators=100, total=   5.4s\n",
      "[CV] rf__max_depth=5, rf__max_features=0.2, rf__n_estimators=100 .....\n",
      "[CV]  rf__max_depth=5, rf__max_features=0.2, rf__n_estimators=50, total=   4.6s\n",
      "[CV] rf__max_depth=5, rf__max_features=0.2, rf__n_estimators=100 .....\n",
      "[CV]  rf__max_depth=5, rf__max_features=0.2, rf__n_estimators=50, total=   4.4s\n",
      "[CV] rf__max_depth=5, rf__max_features=0.2, rf__n_estimators=100 .....\n",
      "[CV]  rf__max_depth=5, rf__max_features=0.2, rf__n_estimators=50, total=   4.2s\n",
      "[CV] rf__max_depth=5, rf__max_features=7, rf__n_estimators=10 ........\n",
      "[CV]  rf__max_depth=5, rf__max_features=7, rf__n_estimators=10, total=   0.7s\n",
      "[CV] rf__max_depth=5, rf__max_features=7, rf__n_estimators=10 ........\n",
      "[CV]  rf__max_depth=5, rf__max_features=7, rf__n_estimators=10, total=   0.8s\n",
      "[CV] rf__max_depth=5, rf__max_features=7, rf__n_estimators=10 ........\n",
      "[CV]  rf__max_depth=5, rf__max_features=7, rf__n_estimators=10, total=   1.2s\n",
      "[CV] rf__max_depth=5, rf__max_features=7, rf__n_estimators=50 ........\n",
      "[CV]  rf__max_depth=5, rf__max_features=0.2, rf__n_estimators=100, total=   8.2s\n",
      "[CV] rf__max_depth=5, rf__max_features=7, rf__n_estimators=50 ........\n",
      "[CV]  rf__max_depth=5, rf__max_features=7, rf__n_estimators=50, total=   2.6s\n",
      "[CV] rf__max_depth=5, rf__max_features=7, rf__n_estimators=50 ........\n",
      "[CV]  rf__max_depth=5, rf__max_features=0.2, rf__n_estimators=100, total=   7.9s\n",
      "[CV] rf__max_depth=5, rf__max_features=7, rf__n_estimators=100 .......\n",
      "[CV]  rf__max_depth=5, rf__max_features=7, rf__n_estimators=50, total=   3.0s\n",
      "[CV] rf__max_depth=5, rf__max_features=7, rf__n_estimators=100 .......\n",
      "[CV]  rf__max_depth=5, rf__max_features=0.2, rf__n_estimators=100, total=   8.6s\n",
      "[CV] rf__max_depth=5, rf__max_features=7, rf__n_estimators=100 .......\n",
      "[CV]  rf__max_depth=5, rf__max_features=7, rf__n_estimators=50, total=   3.1s\n",
      "[CV] rf__max_depth=7, rf__max_features=4, rf__n_estimators=10 ........\n",
      "[CV]  rf__max_depth=7, rf__max_features=4, rf__n_estimators=10, total=   0.8s\n",
      "[CV] rf__max_depth=7, rf__max_features=4, rf__n_estimators=10 ........\n",
      "[CV]  rf__max_depth=7, rf__max_features=4, rf__n_estimators=10, total=   0.8s\n",
      "[CV] rf__max_depth=7, rf__max_features=4, rf__n_estimators=10 ........\n",
      "[CV]  rf__max_depth=7, rf__max_features=4, rf__n_estimators=10, total=   0.7s\n",
      "[CV] rf__max_depth=7, rf__max_features=4, rf__n_estimators=50 ........\n",
      "[CV]  rf__max_depth=5, rf__max_features=7, rf__n_estimators=100, total=   6.5s\n",
      "[CV] rf__max_depth=7, rf__max_features=4, rf__n_estimators=50 ........\n",
      "[CV]  rf__max_depth=5, rf__max_features=7, rf__n_estimators=100, total=   4.8s\n",
      "[CV] rf__max_depth=7, rf__max_features=4, rf__n_estimators=50 ........\n",
      "[CV]  rf__max_depth=5, rf__max_features=7, rf__n_estimators=100, total=   5.9s\n",
      "[CV] rf__max_depth=7, rf__max_features=4, rf__n_estimators=100 .......\n",
      "[CV]  rf__max_depth=7, rf__max_features=4, rf__n_estimators=50, total=   2.7s\n",
      "[CV] rf__max_depth=7, rf__max_features=4, rf__n_estimators=100 .......\n",
      "[CV]  rf__max_depth=7, rf__max_features=4, rf__n_estimators=50, total=   2.5s\n",
      "[CV] rf__max_depth=7, rf__max_features=4, rf__n_estimators=100 .......\n",
      "[CV]  rf__max_depth=7, rf__max_features=4, rf__n_estimators=50, total=   2.7s\n",
      "[CV] rf__max_depth=7, rf__max_features=sqrt, rf__n_estimators=10 .....\n",
      "[CV]  rf__max_depth=7, rf__max_features=sqrt, rf__n_estimators=10, total=   0.9s\n",
      "[CV] rf__max_depth=7, rf__max_features=sqrt, rf__n_estimators=10 .....\n",
      "[CV]  rf__max_depth=7, rf__max_features=sqrt, rf__n_estimators=10, total=   1.2s\n",
      "[CV] rf__max_depth=7, rf__max_features=sqrt, rf__n_estimators=10 .....\n",
      "[CV]  rf__max_depth=7, rf__max_features=4, rf__n_estimators=100, total=   4.6s\n",
      "[CV] rf__max_depth=7, rf__max_features=sqrt, rf__n_estimators=50 .....\n",
      "[CV]  rf__max_depth=7, rf__max_features=sqrt, rf__n_estimators=10, total=   1.1s\n",
      "[CV] rf__max_depth=7, rf__max_features=sqrt, rf__n_estimators=50 .....\n",
      "[CV]  rf__max_depth=7, rf__max_features=4, rf__n_estimators=100, total=   4.5s\n",
      "[CV] rf__max_depth=7, rf__max_features=sqrt, rf__n_estimators=50 .....\n",
      "[CV]  rf__max_depth=7, rf__max_features=4, rf__n_estimators=100, total=   4.2s\n",
      "[CV] rf__max_depth=7, rf__max_features=sqrt, rf__n_estimators=100 ....\n",
      "[CV]  rf__max_depth=7, rf__max_features=sqrt, rf__n_estimators=50, total=   3.6s\n",
      "[CV] rf__max_depth=7, rf__max_features=sqrt, rf__n_estimators=100 ....\n",
      "[CV]  rf__max_depth=7, rf__max_features=sqrt, rf__n_estimators=50, total=   3.9s\n",
      "[CV] rf__max_depth=7, rf__max_features=sqrt, rf__n_estimators=100 ....\n",
      "[CV]  rf__max_depth=7, rf__max_features=sqrt, rf__n_estimators=50, total=   3.7s\n",
      "[CV] rf__max_depth=7, rf__max_features=0.2, rf__n_estimators=10 ......\n",
      "[CV]  rf__max_depth=7, rf__max_features=0.2, rf__n_estimators=10, total=   1.5s\n"
     ]
    },
    {
     "name": "stdout",
     "output_type": "stream",
     "text": [
      "[CV] rf__max_depth=7, rf__max_features=0.2, rf__n_estimators=10 ......\n",
      "[CV]  rf__max_depth=7, rf__max_features=0.2, rf__n_estimators=10, total=   1.2s\n",
      "[CV] rf__max_depth=7, rf__max_features=0.2, rf__n_estimators=10 ......\n",
      "[CV]  rf__max_depth=7, rf__max_features=sqrt, rf__n_estimators=100, total=   6.8s\n",
      "[CV] rf__max_depth=7, rf__max_features=0.2, rf__n_estimators=50 ......\n",
      "[CV]  rf__max_depth=7, rf__max_features=0.2, rf__n_estimators=10, total=   1.4s\n",
      "[CV] rf__max_depth=7, rf__max_features=0.2, rf__n_estimators=50 ......\n",
      "[CV]  rf__max_depth=7, rf__max_features=sqrt, rf__n_estimators=100, total=   6.8s\n",
      "[CV] rf__max_depth=7, rf__max_features=0.2, rf__n_estimators=50 ......\n",
      "[CV]  rf__max_depth=7, rf__max_features=sqrt, rf__n_estimators=100, total=   6.9s\n",
      "[CV] rf__max_depth=7, rf__max_features=0.2, rf__n_estimators=100 .....\n",
      "[CV]  rf__max_depth=7, rf__max_features=0.2, rf__n_estimators=50, total=   5.9s\n",
      "[CV] rf__max_depth=7, rf__max_features=0.2, rf__n_estimators=100 .....\n",
      "[CV]  rf__max_depth=7, rf__max_features=0.2, rf__n_estimators=50, total=   6.0s\n",
      "[CV] rf__max_depth=7, rf__max_features=0.2, rf__n_estimators=100 .....\n",
      "[CV]  rf__max_depth=7, rf__max_features=0.2, rf__n_estimators=50, total=   6.2s\n",
      "[CV] rf__max_depth=7, rf__max_features=7, rf__n_estimators=10 ........\n",
      "[CV]  rf__max_depth=7, rf__max_features=7, rf__n_estimators=10, total=   1.0s\n",
      "[CV] rf__max_depth=7, rf__max_features=7, rf__n_estimators=10 ........\n",
      "[CV]  rf__max_depth=7, rf__max_features=7, rf__n_estimators=10, total=   1.1s\n",
      "[CV] rf__max_depth=7, rf__max_features=7, rf__n_estimators=10 ........\n",
      "[CV]  rf__max_depth=7, rf__max_features=7, rf__n_estimators=10, total=   0.9s\n",
      "[CV] rf__max_depth=7, rf__max_features=7, rf__n_estimators=50 ........\n",
      "[CV]  rf__max_depth=7, rf__max_features=0.2, rf__n_estimators=100, total=  10.1s\n",
      "[CV] rf__max_depth=7, rf__max_features=7, rf__n_estimators=50 ........\n",
      "[CV]  rf__max_depth=7, rf__max_features=7, rf__n_estimators=50, total=   3.1s\n",
      "[CV] rf__max_depth=7, rf__max_features=7, rf__n_estimators=50 ........\n",
      "[CV]  rf__max_depth=7, rf__max_features=0.2, rf__n_estimators=100, total=  10.0s\n",
      "[CV] rf__max_depth=7, rf__max_features=7, rf__n_estimators=100 .......\n",
      "[CV]  rf__max_depth=7, rf__max_features=7, rf__n_estimators=50, total=   3.0s\n",
      "[CV] rf__max_depth=7, rf__max_features=7, rf__n_estimators=100 .......\n",
      "[CV]  rf__max_depth=7, rf__max_features=0.2, rf__n_estimators=100, total=   9.6s\n",
      "[CV] rf__max_depth=7, rf__max_features=7, rf__n_estimators=100 .......\n",
      "[CV]  rf__max_depth=7, rf__max_features=7, rf__n_estimators=50, total=   3.3s\n",
      "[CV]  rf__max_depth=7, rf__max_features=7, rf__n_estimators=100, total=   4.5s\n",
      "[CV]  rf__max_depth=7, rf__max_features=7, rf__n_estimators=100, total=   5.3s\n",
      "[CV]  rf__max_depth=7, rf__max_features=7, rf__n_estimators=100, total=   5.1s\n"
     ]
    },
    {
     "name": "stderr",
     "output_type": "stream",
     "text": [
      "[Parallel(n_jobs=4)]: Done 108 out of 108 | elapsed:  1.7min finished\n"
     ]
    },
    {
     "data": {
      "text/plain": [
       "GridSearchCV(cv=<generator object _BaseKFold.split at 0x7f5a044b8bf8>,\n",
       "       error_score='raise',\n",
       "       estimator=Pipeline(memory=None,\n",
       "     steps=[('union', FeatureUnion(n_jobs=1,\n",
       "       transformer_list=[('continuous', Pipeline(memory=None,\n",
       "     steps=[('selector', ItemSelector(key=['CONS', 'SNP_DEN', 'HAPMAP_SNP_DEN', 'PHYLOP46WAY', 'PHASTCONS46WAY', 'CHARGE', 'VOLUME', 'HYDROPHOBICITY', 'GRANTHAM', 'POLARITY', 'EX', 'PAM250', 'BLOSUM...stimators=10, n_jobs=1,\n",
       "            oob_score=False, random_state=42, verbose=0, warm_start=False))]),\n",
       "       fit_params=None, iid=True, n_jobs=4,\n",
       "       param_grid=[{'rf__max_depth': [3, 5, 7], 'rf__n_estimators': [10, 50, 100], 'rf__max_features': [4, 'sqrt', 0.2, 7]}],\n",
       "       pre_dispatch='2*n_jobs', refit=True, return_train_score='warn',\n",
       "       scoring='roc_auc', verbose=2)"
      ]
     },
     "execution_count": 15,
     "metadata": {},
     "output_type": "execute_result"
    }
   ],
   "source": [
    "gs.fit(X_train, y_train)"
   ]
  },
  {
   "cell_type": "code",
   "execution_count": 16,
   "metadata": {
    "ExecuteTime": {
     "end_time": "2019-01-27T16:55:29.062426Z",
     "start_time": "2019-01-27T16:55:29.055459Z"
    }
   },
   "outputs": [
    {
     "data": {
      "text/plain": [
       "{'rf__max_depth': 7, 'rf__max_features': 0.2, 'rf__n_estimators': 100}"
      ]
     },
     "execution_count": 16,
     "metadata": {},
     "output_type": "execute_result"
    }
   ],
   "source": [
    "gs.best_params_"
   ]
  },
  {
   "cell_type": "code",
   "execution_count": 17,
   "metadata": {
    "ExecuteTime": {
     "end_time": "2019-01-27T16:55:29.354554Z",
     "start_time": "2019-01-27T16:55:29.352003Z"
    },
    "collapsed": true
   },
   "outputs": [],
   "source": [
    "rf = gs.best_estimator_"
   ]
  },
  {
   "cell_type": "code",
   "execution_count": 18,
   "metadata": {
    "ExecuteTime": {
     "end_time": "2019-01-27T16:55:29.872544Z",
     "start_time": "2019-01-27T16:55:29.600455Z"
    },
    "collapsed": true
   },
   "outputs": [],
   "source": [
    "_ = rf.predict_proba(X_test)[:, 1]"
   ]
  },
  {
   "cell_type": "code",
   "execution_count": 21,
   "metadata": {
    "ExecuteTime": {
     "end_time": "2019-01-27T17:32:23.019829Z",
     "start_time": "2019-01-27T17:32:22.696296Z"
    }
   },
   "outputs": [
    {
     "data": {
      "image/png": "[encoded data removed]",
      "text/plain": [
       "<Figure size 576x432 with 1 Axes>"
      ]
     },
     "metadata": {},
     "output_type": "display_data"
    }
   ],
   "source": [
    "sns.set()\n",
    "cols = (cont_vars + cat_vars)\n",
    "ranking_size = 10\n",
    "forest = rf.steps[1][1]\n",
    "\n",
    "importances = [(cols[e], x) for e, x in enumerate(forest.feature_importances_)]\n",
    "importances.sort(key=operator.itemgetter(1), reverse=True)\n",
    "indices = np.argsort(forest.feature_importances_)[:ranking_size]\n",
    "importances = importances[:ranking_size][::-1]\n",
    "std = np.std([tree.feature_importances_ for tree in forest.estimators_],axis=0)\n",
    "plt.figure(figsize=(8,6))\n",
    "plt.barh(np.arange(len(importances)), [y for x, y in importances], 0.6, color=\"green\", align=\"center\", \n",
    "         xerr=std[indices], ecolor=\"black\", error_kw={\"capthick\":2, \"capsize\":2})\n",
    "plt.yticks(range(len(importances)), [x for x, y in importances], rotation='horizontal', fontsize=16)\n",
    "plt.xlabel(\"Score\",fontsize=16)\n",
    "plt.xticks(fontsize=14)\n",
    "plt.tight_layout()\n",
    "\n",
    "plt.savefig(\"/home/marlan/Desktop/importances_integral.pdf\", bbox_inches='tight', pad_inches=0.1)\n"
   ]
  },
  {
   "cell_type": "code",
   "execution_count": 20,
   "metadata": {
    "ExecuteTime": {
     "end_time": "2019-01-27T16:55:31.020305Z",
     "start_time": "2019-01-27T16:55:30.743883Z"
    }
   },
   "outputs": [],
   "source": [
    "fpr, tpr, _ = roc_curve(y_test, rf.predict_proba(X_test)[:, 1])\n",
    "roc_auc = auc(fpr, tpr)"
   ]
  },
  {
   "cell_type": "code",
   "execution_count": 2,
   "metadata": {
    "ExecuteTime": {
     "end_time": "2019-01-07T08:58:41.771695Z",
     "start_time": "2019-01-07T08:58:41.762192Z"
    }
   },
   "outputs": [
    {
     "ename": "NameError",
     "evalue": "name 'pd' is not defined",
     "output_type": "error",
     "traceback": [
      "\u001b[0;31m---------------------------------------------------------------------------\u001b[0m",
      "\u001b[0;31mNameError\u001b[0m                                 Traceback (most recent call last)",
      "\u001b[0;32m<ipython-input-2-09d8ad6be327>\u001b[0m in \u001b[0;36m<module>\u001b[0;34m()\u001b[0m\n\u001b[0;32m----> 1\u001b[0;31m \u001b[0mpd\u001b[0m\u001b[0;34m.\u001b[0m\u001b[0mDataFrame\u001b[0m\u001b[0;34m(\u001b[0m\u001b[0;34m{\u001b[0m\u001b[0;34m\"score\"\u001b[0m\u001b[0;34m:\u001b[0m \u001b[0mrf\u001b[0m\u001b[0;34m.\u001b[0m\u001b[0mpredict_proba\u001b[0m\u001b[0;34m(\u001b[0m\u001b[0mX_test\u001b[0m\u001b[0;34m)\u001b[0m\u001b[0;34m[\u001b[0m\u001b[0;34m:\u001b[0m\u001b[0;34m,\u001b[0m \u001b[0;36m1\u001b[0m\u001b[0;34m]\u001b[0m\u001b[0;34m,\u001b[0m \u001b[0;34m\"label\"\u001b[0m\u001b[0;34m:\u001b[0m \u001b[0my_test\u001b[0m\u001b[0;34m}\u001b[0m\u001b[0;34m)\u001b[0m\u001b[0;34m.\u001b[0m\u001b[0mto_csv\u001b[0m\u001b[0;34m(\u001b[0m\u001b[0;34m\"../results/integral/scores_rf.csv\"\u001b[0m\u001b[0;34m,\u001b[0m \u001b[0mindex\u001b[0m\u001b[0;34m=\u001b[0m\u001b[0;32mFalse\u001b[0m\u001b[0;34m)\u001b[0m\u001b[0;34m\u001b[0m\u001b[0m\n\u001b[0m",
      "\u001b[0;31mNameError\u001b[0m: name 'pd' is not defined"
     ]
    }
   ],
   "source": [
    "pd.DataFrame({\"score\": rf.predict_proba(X_test)[:, 1], \"label\": y_test}).to_csv(\"../results/integral/scores_rf.csv\", index=False)"
   ]
  },
  {
   "cell_type": "code",
   "execution_count": 19,
   "metadata": {
    "ExecuteTime": {
     "end_time": "2018-11-10T13:36:57.530785Z",
     "start_time": "2018-11-10T13:36:57.497867Z"
    },
    "collapsed": true
   },
   "outputs": [],
   "source": [
    "roc_curve = pd.concat([pd.Series(fpr,name=\"fpr\"), pd.Series(tpr, name=\"tpr\")], axis=1)\n",
    "roc_curve.to_csv(\"../results/integral/auc_rf.csv\", index=False)"
   ]
  },
  {
   "cell_type": "code",
   "execution_count": 20,
   "metadata": {
    "ExecuteTime": {
     "end_time": "2018-11-10T13:36:58.103509Z",
     "start_time": "2018-11-10T13:36:57.916861Z"
    }
   },
   "outputs": [
    {
     "data": {
      "text/plain": [
       "<matplotlib.legend.Legend at 0x7f5424de9c18>"
      ]
     },
     "execution_count": 20,
     "metadata": {},
     "output_type": "execute_result"
    },
    {
     "data": {
      "image/png": "[encoded data removed]",
      "text/plain": [
       "<matplotlib.figure.Figure at 0x7f5424e57470>"
      ]
     },
     "metadata": {},
     "output_type": "display_data"
    }
   ],
   "source": [
    "plt.figure(figsize=(7,7))\n",
    "\n",
    "lw = 2\n",
    "plt.plot(fpr, tpr, color='darkorange',\n",
    "         lw=lw, label='Curva ROC (area = %0.2f)' % roc_auc)\n",
    "plt.plot([0, 1], [0, 1], color='navy', lw=lw, linestyle='--', label='Random')\n",
    "plt.xlim([0.0, 1.0])\n",
    "plt.ylim([0.0, 1.05])\n",
    "plt.xlabel('False Positive Rate', fontsize=16)\n",
    "plt.ylabel('True Positive Rate', fontsize=16)\n",
    "plt.xticks(fontsize=16)\n",
    "plt.yticks(fontsize=16)\n",
    "# plt.title('AUC Curve')\n",
    "plt.legend(loc=\"lower right\", prop={'size': 16})\n",
    "\n",
    "# plt.savefig(\"/home/marlan/Desktop/auc_integral.pdf\", bbox_inches='tight', pad_inches=0.1)"
   ]
  },
  {
   "cell_type": "code",
   "execution_count": 25,
   "metadata": {
    "ExecuteTime": {
     "end_time": "2018-09-08T16:38:48.774543Z",
     "start_time": "2018-09-08T16:38:48.325977Z"
    },
    "scrolled": true
   },
   "outputs": [
    {
     "name": "stderr",
     "output_type": "stream",
     "text": [
      "/home/marlan/anaconda3/lib/python3.6/site-packages/sklearn/preprocessing/label.py:151: DeprecationWarning: The truth value of an empty array is ambiguous. Returning False, but in future this will result in an error. Use `array.size > 0` to check that an array is not empty.\n",
      "  if diff:\n"
     ]
    },
    {
     "name": "stdout",
     "output_type": "stream",
     "text": [
      "              precision    recall  f1-score   support\n",
      "\n",
      "     Disease       0.76      0.80      0.78      9522\n",
      "Polymorphism       0.85      0.82      0.83     13086\n",
      "\n",
      " avg / total       0.81      0.81      0.81     22608\n",
      "\n"
     ]
    },
    {
     "name": "stderr",
     "output_type": "stream",
     "text": [
      "/home/marlan/anaconda3/lib/python3.6/site-packages/sklearn/preprocessing/label.py:151: DeprecationWarning: The truth value of an empty array is ambiguous. Returning False, but in future this will result in an error. Use `array.size > 0` to check that an array is not empty.\n",
      "  if diff:\n"
     ]
    }
   ],
   "source": [
    "print(classification_report(le.inverse_transform(y_test), le.inverse_transform(rf.predict(X_test))))"
   ]
  },
  {
   "cell_type": "code",
   "execution_count": 37,
   "metadata": {
    "ExecuteTime": {
     "end_time": "2018-09-08T22:44:28.834915Z",
     "start_time": "2018-09-08T22:44:28.824144Z"
    }
   },
   "outputs": [
    {
     "data": {
      "text/plain": [
       "Index(['CONS', 'SNP_DEN', 'HAPMAP_SNP_DEN', 'PHYLOP46WAY', 'PHASTCONS46WAY',\n",
       "       'INTRON', 'MISSENSE', 'NEAR-GENE', 'NCRNA', 'CODING-SYNON',\n",
       "       'UNTRANSLATED', 'NONSENSE', 'SPLICE', 'STOP-LOSS', 'CHARGE', 'VOLUME',\n",
       "       'HYDROPHOBICITY', 'GRANTHAM', 'POLARITY', 'EX', 'PAM250', 'BLOSUM',\n",
       "       'JM', 'VB', 'TRANSITION', 'BINDING', 'ACT_SITE', 'SITE', 'LIPID',\n",
       "       'METAL', 'CARBOHYD', 'DNA_BIND', 'NP_BIND', 'CA_BIND', 'DISULFID',\n",
       "       'SE_CYS', 'MOD_RES', 'PROPEP', 'SIGNALP', 'TRANSMEM', 'COMPBIAS', 'REP',\n",
       "       'MOTIF', 'ZN_FING', 'REGIONS', 'PPI', 'RNABD', 'TF', 'LOC', 'MMBRBD',\n",
       "       'CHROM', 'POSTMODREC', 'POSTMODENZ', 'AROMATICITY_DIFF',\n",
       "       'AROMATICITY_LOG_RATIO', 'ISOELECTRIC_POINT_DIFF',\n",
       "       'ISOELECTRIC_POINT_LOG_RATIO', 'GRAVY_DIFF', 'GRAVY_LOG_RATIO',\n",
       "       'INSTABILITY_INDEX_DIFF', 'INSTABILITY_INDEX_LOG_RATIO',\n",
       "       'FLEXIBILITY_DIFF', 'FLEXIBILITY_LOG_RATIO'],\n",
       "      dtype='object')"
      ]
     },
     "execution_count": 37,
     "metadata": {},
     "output_type": "execute_result"
    }
   ],
   "source": [
    "X.columns"
   ]
  },
  {
   "cell_type": "code",
   "execution_count": 24,
   "metadata": {
    "ExecuteTime": {
     "end_time": "2018-11-10T13:37:35.426075Z",
     "start_time": "2018-11-10T13:37:35.385145Z"
    },
    "collapsed": true
   },
   "outputs": [],
   "source": [
    "features1 = [\"EX\", \"PAM250\", \"BLOSUM\", \"JM\"] \n",
    "features2 = [\"HYDROPHOBICITY\", \"POLARITY\"]\n",
    "features3 = [\"CHARGE\", \"ISOELECTRIC_POINT_LOG_RATIO\"]\n",
    "features4 = ['PHYLOP46WAY', 'PHASTCONS46WAY']\n",
    "features = X.drop(features1+features2+features3+features4, axis=1).columns.tolist() + [features1] + [features2] + [features3] + [features4]"
   ]
  },
  {
   "cell_type": "code",
   "execution_count": 25,
   "metadata": {
    "ExecuteTime": {
     "end_time": "2018-11-10T13:37:58.818248Z",
     "start_time": "2018-11-10T13:37:35.952518Z"
    },
    "collapsed": true
   },
   "outputs": [],
   "source": [
    "import rfpimp\n",
    "I = rfpimp.importances(rf, X_test, y_test, n_samples=-1, features=features)"
   ]
  },
  {
   "cell_type": "code",
   "execution_count": 26,
   "metadata": {
    "ExecuteTime": {
     "end_time": "2018-11-10T13:37:59.443428Z",
     "start_time": "2018-11-10T13:37:59.139326Z"
    }
   },
   "outputs": [
    {
     "data": {
      "image/png": "[encoded data removed]",
      "text/plain": [
       "<matplotlib.figure.Figure at 0x7f5424c7c438>"
      ]
     },
     "metadata": {},
     "output_type": "display_data"
    }
   ],
   "source": [
    "rfpimp.plot_importances(I.iloc[:7], label_fontsize=10, figsize=(6,8), tickstep=1, save=\"/home/marlan/Desktop/integral_importance_cluster.pdf\")"
   ]
  },
  {
   "cell_type": "code",
   "execution_count": null,
   "metadata": {
    "collapsed": true
   },
   "outputs": [],
   "source": []
  }
 ],
 "metadata": {
  "kernelspec": {
   "display_name": "Python 3",
   "language": "python",
   "name": "python3"
  },
  "language_info": {
   "codemirror_mode": {
    "name": "ipython",
    "version": 3
   },
   "file_extension": ".py",
   "mimetype": "text/x-python",
   "name": "python",
   "nbconvert_exporter": "python",
   "pygments_lexer": "ipython3",
   "version": "3.6.6"
  },
  "varInspector": {
   "cols": {
    "lenName": 16,
    "lenType": 16,
    "lenVar": 40
   },
   "kernels_config": {
    "python": {
     "delete_cmd_postfix": "",
     "delete_cmd_prefix": "del ",
     "library": "var_list.py",
     "varRefreshCmd": "print(var_dic_list())"
    },
    "r": {
     "delete_cmd_postfix": ") ",
     "delete_cmd_prefix": "rm(",
     "library": "var_list.r",
     "varRefreshCmd": "cat(var_dic_list()) "
    }
   },
   "position": {
    "height": "439px",
    "left": "1107.7px",
    "right": "20px",
    "top": "120px",
    "width": "350px"
   },
   "types_to_exclude": [
    "module",
    "function",
    "builtin_function_or_method",
    "instance",
    "_Feature"
   ],
   "window_display": false
  }
 },
 "nbformat": 4,
 "nbformat_minor": 2
}
