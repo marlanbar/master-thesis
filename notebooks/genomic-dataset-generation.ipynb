{
 "cells": [
  {
   "cell_type": "code",
   "execution_count": 2,
   "metadata": {
    "ExecuteTime": {
     "end_time": "2018-09-02T18:11:22.736191Z",
     "start_time": "2018-09-02T18:11:22.430965Z"
    },
    "collapsed": true
   },
   "outputs": [],
   "source": [
    "import pandas as pd\n",
    "import numpy as np"
   ]
  },
  {
   "cell_type": "markdown",
   "metadata": {},
   "source": [
    "## Humsavar Table"
   ]
  },
  {
   "cell_type": "code",
   "execution_count": 39,
   "metadata": {
    "ExecuteTime": {
     "end_time": "2018-08-04T19:13:17.334505Z",
     "start_time": "2018-08-04T19:13:17.064523Z"
    },
    "collapsed": true,
    "deletable": false,
    "editable": false,
    "run_control": {
     "frozen": true
    }
   },
   "outputs": [],
   "source": [
    "hum = pd.read_csv(\"../data/interim/humsavar_clean_201711.csv.gz\", sep=\",\")\n",
    "hum.columns = hum.columns.str.replace(\" \", \"_\")"
   ]
  },
  {
   "cell_type": "code",
   "execution_count": 40,
   "metadata": {
    "ExecuteTime": {
     "end_time": "2018-08-04T19:13:17.721705Z",
     "start_time": "2018-08-04T19:13:17.714464Z"
    },
    "collapsed": true,
    "deletable": false,
    "editable": false,
    "run_control": {
     "frozen": true
    }
   },
   "outputs": [],
   "source": [
    "#Correspondencia hecha por Santi\n",
    "AMINO_CODE = {\"Ala\": \"A\",\\\n",
    "              \"Arg\": \"R\",\\\n",
    "              \"Asn\": \"N\",\\\n",
    "              \"Asp\": \"D\",\\\n",
    "              \"Cys\": \"C\",\\\n",
    "              \"Gln\": \"Q\",\\\n",
    "              \"Glu\": \"E\",\\\n",
    "              \"Gly\": \"G\",\\\n",
    "              \"His\": \"H\",\\\n",
    "              \"Ile\": \"I\",\\\n",
    "              \"Leu\": \"L\",\\\n",
    "              \"Lys\": \"K\",\\\n",
    "              \"Met\": \"M\",\\\n",
    "              \"Phe\": \"F\",\\\n",
    "              \"Pro\": \"P\",\\\n",
    "              \"Ser\": \"S\",\\\n",
    "              \"Thr\": \"T\",\\\n",
    "              \"Trp\": \"W\",\\\n",
    "              \"Tyr\": \"Y\",\\\n",
    "              \"Val\": \"V\",\\\n",
    "              \"Sec\": \"U\"\n",
    "             }"
   ]
  },
  {
   "cell_type": "code",
   "execution_count": 41,
   "metadata": {
    "ExecuteTime": {
     "end_time": "2018-08-04T19:13:18.116759Z",
     "start_time": "2018-08-04T19:13:18.110808Z"
    },
    "deletable": false,
    "editable": false,
    "run_control": {
     "frozen": true
    }
   },
   "outputs": [
    {
     "data": {
      "text/plain": [
       "Index(['Main_gene_name', 'Swiss_Prot_AC', 'FTId', 'AA_Change',\n",
       "       'Type_of_variant', 'dbSNP', 'Disease_Name'],\n",
       "      dtype='object')"
      ]
     },
     "execution_count": 41,
     "metadata": {},
     "output_type": "execute_result"
    }
   ],
   "source": [
    "hum.columns"
   ]
  },
  {
   "cell_type": "code",
   "execution_count": 42,
   "metadata": {
    "ExecuteTime": {
     "end_time": "2018-08-04T19:13:18.894666Z",
     "start_time": "2018-08-04T19:13:18.575215Z"
    },
    "collapsed": true,
    "deletable": false,
    "editable": false,
    "run_control": {
     "frozen": true
    }
   },
   "outputs": [],
   "source": [
    "df = pd.DataFrame(data=(hum[\"AA_Change\"].str[2:].str.split(r\"([0-9]+)\")).tolist(), columns=[\"C1\", \"C2\", \"C3\"])\n",
    "df[\"C1\"] = df.C1.map(AMINO_CODE)\n",
    "df[\"C3\"] = df.C3.map(AMINO_CODE)\n",
    "mutant = pd.Series(data=(hum[\"Swiss_Prot_AC\"] + \"-\"+ df.C2 + \"-\" + df.C1 + \"-\" + df.C3).tolist(), name=\"MUTANT\")\n",
    "# mutant = pd.Series(data=(df.C1 + df.C2 + df.C3).tolist(), name=\"MUTANT\")"
   ]
  },
  {
   "cell_type": "code",
   "execution_count": 43,
   "metadata": {
    "ExecuteTime": {
     "end_time": "2018-08-04T19:13:19.443445Z",
     "start_time": "2018-08-04T19:13:19.287486Z"
    },
    "collapsed": true,
    "deletable": false,
    "editable": false,
    "run_control": {
     "frozen": true
    }
   },
   "outputs": [],
   "source": [
    "hum_final = pd.concat([hum, mutant, df], 1)[[\"MUTANT\", \"Swiss_Prot_AC\", \"C2\", \"C1\", \"C3\",\"dbSNP\", \"Type_of_variant\"]]\n",
    "hum_final.rename(columns={\"C1\": \"WildType\", \"C3\": \"Mut\", \"Swiss_Prot_AC\": \"UID\", \"C2\": \"Pos\"}, inplace=True)\n",
    "# hum_final = pd.concat([hum, mutant], 1)[[\"FTId\", \"MUTANT\"]]"
   ]
  },
  {
   "cell_type": "code",
   "execution_count": 44,
   "metadata": {
    "ExecuteTime": {
     "end_time": "2018-08-04T19:13:19.845997Z",
     "start_time": "2018-08-04T19:13:19.828259Z"
    },
    "deletable": false,
    "editable": false,
    "run_control": {
     "frozen": true
    }
   },
   "outputs": [
    {
     "data": {
      "text/html": [
       "<div>\n",
       "<table border=\"1\" class=\"dataframe\">\n",
       "  <thead>\n",
       "    <tr style=\"text-align: right;\">\n",
       "      <th></th>\n",
       "      <th>MUTANT</th>\n",
       "      <th>UID</th>\n",
       "      <th>Pos</th>\n",
       "      <th>WildType</th>\n",
       "      <th>Mut</th>\n",
       "      <th>dbSNP</th>\n",
       "      <th>Type_of_variant</th>\n",
       "    </tr>\n",
       "  </thead>\n",
       "  <tbody>\n",
       "    <tr>\n",
       "      <th>0</th>\n",
       "      <td>P04217-52-H-R</td>\n",
       "      <td>P04217</td>\n",
       "      <td>52</td>\n",
       "      <td>H</td>\n",
       "      <td>R</td>\n",
       "      <td>rs893184</td>\n",
       "      <td>Polymorphism</td>\n",
       "    </tr>\n",
       "    <tr>\n",
       "      <th>1</th>\n",
       "      <td>P04217-395-H-R</td>\n",
       "      <td>P04217</td>\n",
       "      <td>395</td>\n",
       "      <td>H</td>\n",
       "      <td>R</td>\n",
       "      <td>rs2241788</td>\n",
       "      <td>Polymorphism</td>\n",
       "    </tr>\n",
       "    <tr>\n",
       "      <th>2</th>\n",
       "      <td>Q9NQ94-555-V-M</td>\n",
       "      <td>Q9NQ94</td>\n",
       "      <td>555</td>\n",
       "      <td>V</td>\n",
       "      <td>M</td>\n",
       "      <td>rs9073</td>\n",
       "      <td>Polymorphism</td>\n",
       "    </tr>\n",
       "    <tr>\n",
       "      <th>3</th>\n",
       "      <td>Q9NQ94-558-A-S</td>\n",
       "      <td>Q9NQ94</td>\n",
       "      <td>558</td>\n",
       "      <td>A</td>\n",
       "      <td>S</td>\n",
       "      <td>rs11817448</td>\n",
       "      <td>Polymorphism</td>\n",
       "    </tr>\n",
       "    <tr>\n",
       "      <th>4</th>\n",
       "      <td>A8K2U0-207-G-R</td>\n",
       "      <td>A8K2U0</td>\n",
       "      <td>207</td>\n",
       "      <td>G</td>\n",
       "      <td>R</td>\n",
       "      <td>rs11047499</td>\n",
       "      <td>Polymorphism</td>\n",
       "    </tr>\n",
       "  </tbody>\n",
       "</table>\n",
       "</div>"
      ],
      "text/plain": [
       "           MUTANT     UID  Pos WildType Mut       dbSNP Type_of_variant\n",
       "0   P04217-52-H-R  P04217   52        H   R    rs893184    Polymorphism\n",
       "1  P04217-395-H-R  P04217  395        H   R   rs2241788    Polymorphism\n",
       "2  Q9NQ94-555-V-M  Q9NQ94  555        V   M      rs9073    Polymorphism\n",
       "3  Q9NQ94-558-A-S  Q9NQ94  558        A   S  rs11817448    Polymorphism\n",
       "4  A8K2U0-207-G-R  A8K2U0  207        G   R  rs11047499    Polymorphism"
      ]
     },
     "execution_count": 44,
     "metadata": {},
     "output_type": "execute_result"
    }
   ],
   "source": [
    "hum_final.head()"
   ]
  },
  {
   "cell_type": "code",
   "execution_count": 45,
   "metadata": {
    "ExecuteTime": {
     "end_time": "2018-08-04T19:13:20.262141Z",
     "start_time": "2018-08-04T19:13:20.252251Z"
    },
    "deletable": false,
    "editable": false,
    "run_control": {
     "frozen": true
    }
   },
   "outputs": [
    {
     "data": {
      "text/plain": [
       "(76730, 7)"
      ]
     },
     "execution_count": 45,
     "metadata": {},
     "output_type": "execute_result"
    }
   ],
   "source": [
    "hum_final.shape"
   ]
  },
  {
   "cell_type": "code",
   "execution_count": 46,
   "metadata": {
    "ExecuteTime": {
     "end_time": "2018-08-04T19:13:20.843514Z",
     "start_time": "2018-08-04T19:13:20.794713Z"
    },
    "collapsed": true,
    "deletable": false,
    "editable": false,
    "run_control": {
     "frozen": true
    }
   },
   "outputs": [],
   "source": [
    "hum_final.drop_duplicates(\"MUTANT\", inplace=True)\n",
    "# hum_final.drop_duplicates(\"dbSNP\", inplace=True)\n",
    "hum_final.rename(columns={\"Type_of_variant\": \"TYPE\"}, inplace=True)"
   ]
  },
  {
   "cell_type": "code",
   "execution_count": 47,
   "metadata": {
    "ExecuteTime": {
     "end_time": "2018-08-04T19:13:23.122152Z",
     "start_time": "2018-08-04T19:13:23.082816Z"
    },
    "deletable": false,
    "editable": false,
    "run_control": {
     "frozen": true
    }
   },
   "outputs": [
    {
     "data": {
      "text/html": [
       "<div>\n",
       "<table border=\"1\" class=\"dataframe\">\n",
       "  <thead>\n",
       "    <tr style=\"text-align: right;\">\n",
       "      <th></th>\n",
       "      <th>MUTANT</th>\n",
       "      <th>UID</th>\n",
       "      <th>Pos</th>\n",
       "      <th>WildType</th>\n",
       "      <th>Mut</th>\n",
       "      <th>dbSNP</th>\n",
       "      <th>TYPE</th>\n",
       "    </tr>\n",
       "  </thead>\n",
       "  <tbody>\n",
       "    <tr>\n",
       "      <th>0</th>\n",
       "      <td>P04217-52-H-R</td>\n",
       "      <td>P04217</td>\n",
       "      <td>52</td>\n",
       "      <td>H</td>\n",
       "      <td>R</td>\n",
       "      <td>rs893184</td>\n",
       "      <td>Polymorphism</td>\n",
       "    </tr>\n",
       "    <tr>\n",
       "      <th>1</th>\n",
       "      <td>P04217-395-H-R</td>\n",
       "      <td>P04217</td>\n",
       "      <td>395</td>\n",
       "      <td>H</td>\n",
       "      <td>R</td>\n",
       "      <td>rs2241788</td>\n",
       "      <td>Polymorphism</td>\n",
       "    </tr>\n",
       "    <tr>\n",
       "      <th>2</th>\n",
       "      <td>Q9NQ94-555-V-M</td>\n",
       "      <td>Q9NQ94</td>\n",
       "      <td>555</td>\n",
       "      <td>V</td>\n",
       "      <td>M</td>\n",
       "      <td>rs9073</td>\n",
       "      <td>Polymorphism</td>\n",
       "    </tr>\n",
       "  </tbody>\n",
       "</table>\n",
       "</div>"
      ],
      "text/plain": [
       "           MUTANT     UID  Pos WildType Mut      dbSNP          TYPE\n",
       "0   P04217-52-H-R  P04217   52        H   R   rs893184  Polymorphism\n",
       "1  P04217-395-H-R  P04217  395        H   R  rs2241788  Polymorphism\n",
       "2  Q9NQ94-555-V-M  Q9NQ94  555        V   M     rs9073  Polymorphism"
      ]
     },
     "execution_count": 47,
     "metadata": {},
     "output_type": "execute_result"
    }
   ],
   "source": [
    "hum_final.head(3)"
   ]
  },
  {
   "cell_type": "code",
   "execution_count": 11,
   "metadata": {
    "ExecuteTime": {
     "end_time": "2018-08-04T19:03:03.495407Z",
     "start_time": "2018-08-04T19:03:03.425521Z"
    },
    "deletable": false,
    "editable": false,
    "run_control": {
     "frozen": true
    },
    "scrolled": true
   },
   "outputs": [
    {
     "data": {
      "text/html": [
       "<div>\n",
       "<table border=\"1\" class=\"dataframe\">\n",
       "  <thead>\n",
       "    <tr style=\"text-align: right;\">\n",
       "      <th></th>\n",
       "      <th>MUTANT</th>\n",
       "      <th>UID</th>\n",
       "      <th>Pos</th>\n",
       "      <th>WildType</th>\n",
       "      <th>Mut</th>\n",
       "      <th>dbSNP</th>\n",
       "      <th>TYPE</th>\n",
       "    </tr>\n",
       "  </thead>\n",
       "  <tbody>\n",
       "    <tr>\n",
       "      <th>97</th>\n",
       "      <td>Q86UK0-459-S-T</td>\n",
       "      <td>Q86UK0</td>\n",
       "      <td>459</td>\n",
       "      <td>S</td>\n",
       "      <td>T</td>\n",
       "      <td>rs7560008</td>\n",
       "      <td>Polymorphism</td>\n",
       "    </tr>\n",
       "    <tr>\n",
       "      <th>104</th>\n",
       "      <td>Q86UK0-777-S-T</td>\n",
       "      <td>Q86UK0</td>\n",
       "      <td>777</td>\n",
       "      <td>S</td>\n",
       "      <td>T</td>\n",
       "      <td>rs7560008</td>\n",
       "      <td>Polymorphism</td>\n",
       "    </tr>\n",
       "    <tr>\n",
       "      <th>145</th>\n",
       "      <td>O95477-590-W-S</td>\n",
       "      <td>O95477</td>\n",
       "      <td>590</td>\n",
       "      <td>W</td>\n",
       "      <td>S</td>\n",
       "      <td>rs137854496</td>\n",
       "      <td>Disease</td>\n",
       "    </tr>\n",
       "    <tr>\n",
       "      <th>191</th>\n",
       "      <td>O95477-590-W-L</td>\n",
       "      <td>O95477</td>\n",
       "      <td>590</td>\n",
       "      <td>W</td>\n",
       "      <td>L</td>\n",
       "      <td>rs137854496</td>\n",
       "      <td>Disease</td>\n",
       "    </tr>\n",
       "    <tr>\n",
       "      <th>231</th>\n",
       "      <td>P78363-96-N-D</td>\n",
       "      <td>P78363</td>\n",
       "      <td>96</td>\n",
       "      <td>N</td>\n",
       "      <td>D</td>\n",
       "      <td>rs61748529</td>\n",
       "      <td>Disease</td>\n",
       "    </tr>\n",
       "    <tr>\n",
       "      <th>232</th>\n",
       "      <td>P78363-96-N-H</td>\n",
       "      <td>P78363</td>\n",
       "      <td>96</td>\n",
       "      <td>N</td>\n",
       "      <td>H</td>\n",
       "      <td>rs61748529</td>\n",
       "      <td>Disease</td>\n",
       "    </tr>\n",
       "    <tr>\n",
       "      <th>249</th>\n",
       "      <td>P78363-572-R-P</td>\n",
       "      <td>P78363</td>\n",
       "      <td>572</td>\n",
       "      <td>R</td>\n",
       "      <td>P</td>\n",
       "      <td>rs61748559</td>\n",
       "      <td>Disease</td>\n",
       "    </tr>\n",
       "    <tr>\n",
       "      <th>250</th>\n",
       "      <td>P78363-572-R-Q</td>\n",
       "      <td>P78363</td>\n",
       "      <td>572</td>\n",
       "      <td>R</td>\n",
       "      <td>Q</td>\n",
       "      <td>rs61748559</td>\n",
       "      <td>Disease</td>\n",
       "    </tr>\n",
       "    <tr>\n",
       "      <th>332</th>\n",
       "      <td>P78363-2077-R-W</td>\n",
       "      <td>P78363</td>\n",
       "      <td>2077</td>\n",
       "      <td>R</td>\n",
       "      <td>W</td>\n",
       "      <td>rs61750645</td>\n",
       "      <td>Disease</td>\n",
       "    </tr>\n",
       "    <tr>\n",
       "      <th>353</th>\n",
       "      <td>P78363-68-P-L</td>\n",
       "      <td>P78363</td>\n",
       "      <td>68</td>\n",
       "      <td>P</td>\n",
       "      <td>L</td>\n",
       "      <td>rs62654397</td>\n",
       "      <td>Disease</td>\n",
       "    </tr>\n",
       "    <tr>\n",
       "      <th>354</th>\n",
       "      <td>P78363-68-P-R</td>\n",
       "      <td>P78363</td>\n",
       "      <td>68</td>\n",
       "      <td>P</td>\n",
       "      <td>R</td>\n",
       "      <td>rs62654397</td>\n",
       "      <td>Disease</td>\n",
       "    </tr>\n",
       "    <tr>\n",
       "      <th>379</th>\n",
       "      <td>P78363-607-G-R</td>\n",
       "      <td>P78363</td>\n",
       "      <td>607</td>\n",
       "      <td>G</td>\n",
       "      <td>R</td>\n",
       "      <td>rs61749412</td>\n",
       "      <td>Disease</td>\n",
       "    </tr>\n",
       "    <tr>\n",
       "      <th>380</th>\n",
       "      <td>P78363-607-G-W</td>\n",
       "      <td>P78363</td>\n",
       "      <td>607</td>\n",
       "      <td>G</td>\n",
       "      <td>W</td>\n",
       "      <td>rs61749412</td>\n",
       "      <td>Disease</td>\n",
       "    </tr>\n",
       "    <tr>\n",
       "      <th>419</th>\n",
       "      <td>P78363-1108-R-H</td>\n",
       "      <td>P78363</td>\n",
       "      <td>1108</td>\n",
       "      <td>R</td>\n",
       "      <td>H</td>\n",
       "      <td>rs61750121</td>\n",
       "      <td>Disease</td>\n",
       "    </tr>\n",
       "    <tr>\n",
       "      <th>420</th>\n",
       "      <td>P78363-1108-R-L</td>\n",
       "      <td>P78363</td>\n",
       "      <td>1108</td>\n",
       "      <td>R</td>\n",
       "      <td>L</td>\n",
       "      <td>rs61750121</td>\n",
       "      <td>Disease</td>\n",
       "    </tr>\n",
       "    <tr>\n",
       "      <th>431</th>\n",
       "      <td>P78363-1488-C-F</td>\n",
       "      <td>P78363</td>\n",
       "      <td>1488</td>\n",
       "      <td>C</td>\n",
       "      <td>F</td>\n",
       "      <td>rs61750147</td>\n",
       "      <td>Disease</td>\n",
       "    </tr>\n",
       "    <tr>\n",
       "      <th>432</th>\n",
       "      <td>P78363-1488-C-Y</td>\n",
       "      <td>P78363</td>\n",
       "      <td>1488</td>\n",
       "      <td>C</td>\n",
       "      <td>Y</td>\n",
       "      <td>rs61750147</td>\n",
       "      <td>Disease</td>\n",
       "    </tr>\n",
       "    <tr>\n",
       "      <th>466</th>\n",
       "      <td>P78363-2077-R-G</td>\n",
       "      <td>P78363</td>\n",
       "      <td>2077</td>\n",
       "      <td>R</td>\n",
       "      <td>G</td>\n",
       "      <td>rs61750645</td>\n",
       "      <td>Disease</td>\n",
       "    </tr>\n",
       "    <tr>\n",
       "      <th>521</th>\n",
       "      <td>O95342-444-V-A</td>\n",
       "      <td>O95342</td>\n",
       "      <td>444</td>\n",
       "      <td>V</td>\n",
       "      <td>A</td>\n",
       "      <td>rs2287622</td>\n",
       "      <td>Polymorphism</td>\n",
       "    </tr>\n",
       "    <tr>\n",
       "      <th>552</th>\n",
       "      <td>O95342-444-V-D</td>\n",
       "      <td>O95342</td>\n",
       "      <td>444</td>\n",
       "      <td>V</td>\n",
       "      <td>D</td>\n",
       "      <td>rs2287622</td>\n",
       "      <td>Polymorphism</td>\n",
       "    </tr>\n",
       "    <tr>\n",
       "      <th>553</th>\n",
       "      <td>O95342-444-V-G</td>\n",
       "      <td>O95342</td>\n",
       "      <td>444</td>\n",
       "      <td>V</td>\n",
       "      <td>G</td>\n",
       "      <td>rs2287622</td>\n",
       "      <td>Polymorphism</td>\n",
       "    </tr>\n",
       "    <tr>\n",
       "      <th>560</th>\n",
       "      <td>P08183-893-S-A</td>\n",
       "      <td>P08183</td>\n",
       "      <td>893</td>\n",
       "      <td>S</td>\n",
       "      <td>A</td>\n",
       "      <td>rs2032582</td>\n",
       "      <td>Polymorphism</td>\n",
       "    </tr>\n",
       "    <tr>\n",
       "      <th>561</th>\n",
       "      <td>P08183-893-S-T</td>\n",
       "      <td>P08183</td>\n",
       "      <td>893</td>\n",
       "      <td>S</td>\n",
       "      <td>T</td>\n",
       "      <td>rs2032582</td>\n",
       "      <td>Polymorphism</td>\n",
       "    </tr>\n",
       "    <tr>\n",
       "      <th>705</th>\n",
       "      <td>O75027-581-V-A</td>\n",
       "      <td>O75027</td>\n",
       "      <td>581</td>\n",
       "      <td>V</td>\n",
       "      <td>A</td>\n",
       "      <td>rs1340989</td>\n",
       "      <td>Polymorphism</td>\n",
       "    </tr>\n",
       "    <tr>\n",
       "      <th>706</th>\n",
       "      <td>O75027-580-A-V</td>\n",
       "      <td>O75027</td>\n",
       "      <td>580</td>\n",
       "      <td>A</td>\n",
       "      <td>V</td>\n",
       "      <td>rs1340989</td>\n",
       "      <td>Polymorphism</td>\n",
       "    </tr>\n",
       "    <tr>\n",
       "      <th>806</th>\n",
       "      <td>O95255-1138-R-Q</td>\n",
       "      <td>O95255</td>\n",
       "      <td>1138</td>\n",
       "      <td>R</td>\n",
       "      <td>Q</td>\n",
       "      <td>rs60791294</td>\n",
       "      <td>Disease</td>\n",
       "    </tr>\n",
       "    <tr>\n",
       "      <th>827</th>\n",
       "      <td>O95255-1121-S-W</td>\n",
       "      <td>O95255</td>\n",
       "      <td>1121</td>\n",
       "      <td>S</td>\n",
       "      <td>W</td>\n",
       "      <td>rs63750987</td>\n",
       "      <td>Disease</td>\n",
       "    </tr>\n",
       "    <tr>\n",
       "      <th>828</th>\n",
       "      <td>O95255-1138-R-P</td>\n",
       "      <td>O95255</td>\n",
       "      <td>1138</td>\n",
       "      <td>R</td>\n",
       "      <td>P</td>\n",
       "      <td>rs60791294</td>\n",
       "      <td>Disease</td>\n",
       "    </tr>\n",
       "    <tr>\n",
       "      <th>895</th>\n",
       "      <td>O95255-1121-S-L</td>\n",
       "      <td>O95255</td>\n",
       "      <td>1121</td>\n",
       "      <td>S</td>\n",
       "      <td>L</td>\n",
       "      <td>rs63750987</td>\n",
       "      <td>Disease</td>\n",
       "    </tr>\n",
       "    <tr>\n",
       "      <th>905</th>\n",
       "      <td>O95255-1335-L-P</td>\n",
       "      <td>O95255</td>\n",
       "      <td>1335</td>\n",
       "      <td>L</td>\n",
       "      <td>P</td>\n",
       "      <td>rs63750414</td>\n",
       "      <td>Disease</td>\n",
       "    </tr>\n",
       "    <tr>\n",
       "      <th>...</th>\n",
       "      <td>...</td>\n",
       "      <td>...</td>\n",
       "      <td>...</td>\n",
       "      <td>...</td>\n",
       "      <td>...</td>\n",
       "      <td>...</td>\n",
       "      <td>...</td>\n",
       "    </tr>\n",
       "    <tr>\n",
       "      <th>74291</th>\n",
       "      <td>P58304-200-R-Q</td>\n",
       "      <td>P58304</td>\n",
       "      <td>200</td>\n",
       "      <td>R</td>\n",
       "      <td>Q</td>\n",
       "      <td>rs121912543</td>\n",
       "      <td>Disease</td>\n",
       "    </tr>\n",
       "    <tr>\n",
       "      <th>74303</th>\n",
       "      <td>A6NCI4-657-T-I</td>\n",
       "      <td>A6NCI4</td>\n",
       "      <td>657</td>\n",
       "      <td>T</td>\n",
       "      <td>I</td>\n",
       "      <td>rs1105929</td>\n",
       "      <td>Polymorphism</td>\n",
       "    </tr>\n",
       "    <tr>\n",
       "      <th>74305</th>\n",
       "      <td>A6NCI4-464-T-I</td>\n",
       "      <td>A6NCI4</td>\n",
       "      <td>464</td>\n",
       "      <td>T</td>\n",
       "      <td>I</td>\n",
       "      <td>rs1105929</td>\n",
       "      <td>Polymorphism</td>\n",
       "    </tr>\n",
       "    <tr>\n",
       "      <th>74374</th>\n",
       "      <td>P04275-1597-R-G</td>\n",
       "      <td>P04275</td>\n",
       "      <td>1597</td>\n",
       "      <td>R</td>\n",
       "      <td>G</td>\n",
       "      <td>rs61750117</td>\n",
       "      <td>Disease</td>\n",
       "    </tr>\n",
       "    <tr>\n",
       "      <th>74376</th>\n",
       "      <td>P04275-1597-R-W</td>\n",
       "      <td>P04275</td>\n",
       "      <td>1597</td>\n",
       "      <td>R</td>\n",
       "      <td>W</td>\n",
       "      <td>rs61750117</td>\n",
       "      <td>Disease</td>\n",
       "    </tr>\n",
       "    <tr>\n",
       "      <th>74434</th>\n",
       "      <td>P42768-86-R-H</td>\n",
       "      <td>P42768</td>\n",
       "      <td>86</td>\n",
       "      <td>R</td>\n",
       "      <td>H</td>\n",
       "      <td>rs132630268</td>\n",
       "      <td>Disease</td>\n",
       "    </tr>\n",
       "    <tr>\n",
       "      <th>74435</th>\n",
       "      <td>P42768-86-R-L</td>\n",
       "      <td>P42768</td>\n",
       "      <td>86</td>\n",
       "      <td>R</td>\n",
       "      <td>L</td>\n",
       "      <td>rs132630268</td>\n",
       "      <td>Disease</td>\n",
       "    </tr>\n",
       "    <tr>\n",
       "      <th>74544</th>\n",
       "      <td>Q9P2L0-878-A-P</td>\n",
       "      <td>Q9P2L0</td>\n",
       "      <td>878</td>\n",
       "      <td>A</td>\n",
       "      <td>P</td>\n",
       "      <td>rs2293669</td>\n",
       "      <td>Polymorphism</td>\n",
       "    </tr>\n",
       "    <tr>\n",
       "      <th>74545</th>\n",
       "      <td>Q9P2L0-878-A-T</td>\n",
       "      <td>Q9P2L0</td>\n",
       "      <td>878</td>\n",
       "      <td>A</td>\n",
       "      <td>T</td>\n",
       "      <td>rs2293669</td>\n",
       "      <td>Polymorphism</td>\n",
       "    </tr>\n",
       "    <tr>\n",
       "      <th>74612</th>\n",
       "      <td>Q8TBY9-61-E-G</td>\n",
       "      <td>Q8TBY9</td>\n",
       "      <td>61</td>\n",
       "      <td>E</td>\n",
       "      <td>G</td>\n",
       "      <td>rs12824001</td>\n",
       "      <td>Polymorphism</td>\n",
       "    </tr>\n",
       "    <tr>\n",
       "      <th>74615</th>\n",
       "      <td>Q8TBY9-66-G-E</td>\n",
       "      <td>Q8TBY9</td>\n",
       "      <td>66</td>\n",
       "      <td>G</td>\n",
       "      <td>E</td>\n",
       "      <td>rs12824001</td>\n",
       "      <td>Polymorphism</td>\n",
       "    </tr>\n",
       "    <tr>\n",
       "      <th>74747</th>\n",
       "      <td>Q9P202-813-T-M</td>\n",
       "      <td>Q9P202</td>\n",
       "      <td>813</td>\n",
       "      <td>T</td>\n",
       "      <td>M</td>\n",
       "      <td>rs942519</td>\n",
       "      <td>Polymorphism</td>\n",
       "    </tr>\n",
       "    <tr>\n",
       "      <th>74751</th>\n",
       "      <td>Q9P202-613-M-T</td>\n",
       "      <td>Q9P202</td>\n",
       "      <td>613</td>\n",
       "      <td>M</td>\n",
       "      <td>T</td>\n",
       "      <td>rs942519</td>\n",
       "      <td>Polymorphism</td>\n",
       "    </tr>\n",
       "    <tr>\n",
       "      <th>75073</th>\n",
       "      <td>Q01831-513-M-I</td>\n",
       "      <td>Q01831</td>\n",
       "      <td>513</td>\n",
       "      <td>M</td>\n",
       "      <td>I</td>\n",
       "      <td>rs3731130</td>\n",
       "      <td>Polymorphism</td>\n",
       "    </tr>\n",
       "    <tr>\n",
       "      <th>75079</th>\n",
       "      <td>Q01831-514-C-S</td>\n",
       "      <td>Q01831</td>\n",
       "      <td>514</td>\n",
       "      <td>C</td>\n",
       "      <td>S</td>\n",
       "      <td>rs3731130</td>\n",
       "      <td>Polymorphism</td>\n",
       "    </tr>\n",
       "    <tr>\n",
       "      <th>75588</th>\n",
       "      <td>Q9NZV7-110-A-T</td>\n",
       "      <td>Q9NZV7</td>\n",
       "      <td>110</td>\n",
       "      <td>A</td>\n",
       "      <td>T</td>\n",
       "      <td>rs2191432</td>\n",
       "      <td>Polymorphism</td>\n",
       "    </tr>\n",
       "    <tr>\n",
       "      <th>75807</th>\n",
       "      <td>O75437-386-A-T</td>\n",
       "      <td>O75437</td>\n",
       "      <td>386</td>\n",
       "      <td>A</td>\n",
       "      <td>T</td>\n",
       "      <td>rs403356</td>\n",
       "      <td>Polymorphism</td>\n",
       "    </tr>\n",
       "    <tr>\n",
       "      <th>75857</th>\n",
       "      <td>Q2VY69-546-K-E</td>\n",
       "      <td>Q2VY69</td>\n",
       "      <td>546</td>\n",
       "      <td>K</td>\n",
       "      <td>E</td>\n",
       "      <td>rs8113249</td>\n",
       "      <td>Polymorphism</td>\n",
       "    </tr>\n",
       "    <tr>\n",
       "      <th>75858</th>\n",
       "      <td>Q2VY69-577-E-K</td>\n",
       "      <td>Q2VY69</td>\n",
       "      <td>577</td>\n",
       "      <td>E</td>\n",
       "      <td>K</td>\n",
       "      <td>rs8113249</td>\n",
       "      <td>Polymorphism</td>\n",
       "    </tr>\n",
       "    <tr>\n",
       "      <th>76147</th>\n",
       "      <td>Q6V9R5-205-K-E</td>\n",
       "      <td>Q6V9R5</td>\n",
       "      <td>205</td>\n",
       "      <td>K</td>\n",
       "      <td>E</td>\n",
       "      <td>rs1059199</td>\n",
       "      <td>Polymorphism</td>\n",
       "    </tr>\n",
       "    <tr>\n",
       "      <th>76148</th>\n",
       "      <td>Q6V9R5-260-E-K</td>\n",
       "      <td>Q6V9R5</td>\n",
       "      <td>260</td>\n",
       "      <td>E</td>\n",
       "      <td>K</td>\n",
       "      <td>rs1059199</td>\n",
       "      <td>Polymorphism</td>\n",
       "    </tr>\n",
       "    <tr>\n",
       "      <th>76164</th>\n",
       "      <td>Q86YE8-186-G-A</td>\n",
       "      <td>Q86YE8</td>\n",
       "      <td>186</td>\n",
       "      <td>G</td>\n",
       "      <td>A</td>\n",
       "      <td>rs3752365</td>\n",
       "      <td>Polymorphism</td>\n",
       "    </tr>\n",
       "    <tr>\n",
       "      <th>76165</th>\n",
       "      <td>Q86YE8-224-G-A</td>\n",
       "      <td>Q86YE8</td>\n",
       "      <td>224</td>\n",
       "      <td>G</td>\n",
       "      <td>A</td>\n",
       "      <td>rs3752365</td>\n",
       "      <td>Polymorphism</td>\n",
       "    </tr>\n",
       "    <tr>\n",
       "      <th>76212</th>\n",
       "      <td>Q96SK3-70-R-H</td>\n",
       "      <td>Q96SK3</td>\n",
       "      <td>70</td>\n",
       "      <td>R</td>\n",
       "      <td>H</td>\n",
       "      <td>rs2385006</td>\n",
       "      <td>Polymorphism</td>\n",
       "    </tr>\n",
       "    <tr>\n",
       "      <th>76216</th>\n",
       "      <td>Q96SK3-433-R-H</td>\n",
       "      <td>Q96SK3</td>\n",
       "      <td>433</td>\n",
       "      <td>R</td>\n",
       "      <td>H</td>\n",
       "      <td>rs2385006</td>\n",
       "      <td>Polymorphism</td>\n",
       "    </tr>\n",
       "    <tr>\n",
       "      <th>76388</th>\n",
       "      <td>Q96N38-473-I-V</td>\n",
       "      <td>Q96N38</td>\n",
       "      <td>473</td>\n",
       "      <td>I</td>\n",
       "      <td>V</td>\n",
       "      <td>rs10427116</td>\n",
       "      <td>Polymorphism</td>\n",
       "    </tr>\n",
       "    <tr>\n",
       "      <th>76389</th>\n",
       "      <td>Q96N38-472-I-V</td>\n",
       "      <td>Q96N38</td>\n",
       "      <td>472</td>\n",
       "      <td>I</td>\n",
       "      <td>V</td>\n",
       "      <td>rs10427116</td>\n",
       "      <td>Polymorphism</td>\n",
       "    </tr>\n",
       "    <tr>\n",
       "      <th>76415</th>\n",
       "      <td>Q0D2J5-327-Y-H</td>\n",
       "      <td>Q0D2J5</td>\n",
       "      <td>327</td>\n",
       "      <td>Y</td>\n",
       "      <td>H</td>\n",
       "      <td>rs7254529</td>\n",
       "      <td>Polymorphism</td>\n",
       "    </tr>\n",
       "    <tr>\n",
       "      <th>76416</th>\n",
       "      <td>Q0D2J5-324-Y-H</td>\n",
       "      <td>Q0D2J5</td>\n",
       "      <td>324</td>\n",
       "      <td>Y</td>\n",
       "      <td>H</td>\n",
       "      <td>rs7254529</td>\n",
       "      <td>Polymorphism</td>\n",
       "    </tr>\n",
       "    <tr>\n",
       "      <th>76579</th>\n",
       "      <td>Q05481-386-A-T</td>\n",
       "      <td>Q05481</td>\n",
       "      <td>386</td>\n",
       "      <td>A</td>\n",
       "      <td>T</td>\n",
       "      <td>rs403356</td>\n",
       "      <td>Polymorphism</td>\n",
       "    </tr>\n",
       "  </tbody>\n",
       "</table>\n",
       "<p>2871 rows × 7 columns</p>\n",
       "</div>"
      ],
      "text/plain": [
       "                MUTANT     UID   Pos WildType Mut        dbSNP          TYPE\n",
       "97      Q86UK0-459-S-T  Q86UK0   459        S   T    rs7560008  Polymorphism\n",
       "104     Q86UK0-777-S-T  Q86UK0   777        S   T    rs7560008  Polymorphism\n",
       "145     O95477-590-W-S  O95477   590        W   S  rs137854496       Disease\n",
       "191     O95477-590-W-L  O95477   590        W   L  rs137854496       Disease\n",
       "231      P78363-96-N-D  P78363    96        N   D   rs61748529       Disease\n",
       "232      P78363-96-N-H  P78363    96        N   H   rs61748529       Disease\n",
       "249     P78363-572-R-P  P78363   572        R   P   rs61748559       Disease\n",
       "250     P78363-572-R-Q  P78363   572        R   Q   rs61748559       Disease\n",
       "332    P78363-2077-R-W  P78363  2077        R   W   rs61750645       Disease\n",
       "353      P78363-68-P-L  P78363    68        P   L   rs62654397       Disease\n",
       "354      P78363-68-P-R  P78363    68        P   R   rs62654397       Disease\n",
       "379     P78363-607-G-R  P78363   607        G   R   rs61749412       Disease\n",
       "380     P78363-607-G-W  P78363   607        G   W   rs61749412       Disease\n",
       "419    P78363-1108-R-H  P78363  1108        R   H   rs61750121       Disease\n",
       "420    P78363-1108-R-L  P78363  1108        R   L   rs61750121       Disease\n",
       "431    P78363-1488-C-F  P78363  1488        C   F   rs61750147       Disease\n",
       "432    P78363-1488-C-Y  P78363  1488        C   Y   rs61750147       Disease\n",
       "466    P78363-2077-R-G  P78363  2077        R   G   rs61750645       Disease\n",
       "521     O95342-444-V-A  O95342   444        V   A    rs2287622  Polymorphism\n",
       "552     O95342-444-V-D  O95342   444        V   D    rs2287622  Polymorphism\n",
       "553     O95342-444-V-G  O95342   444        V   G    rs2287622  Polymorphism\n",
       "560     P08183-893-S-A  P08183   893        S   A    rs2032582  Polymorphism\n",
       "561     P08183-893-S-T  P08183   893        S   T    rs2032582  Polymorphism\n",
       "705     O75027-581-V-A  O75027   581        V   A    rs1340989  Polymorphism\n",
       "706     O75027-580-A-V  O75027   580        A   V    rs1340989  Polymorphism\n",
       "806    O95255-1138-R-Q  O95255  1138        R   Q   rs60791294       Disease\n",
       "827    O95255-1121-S-W  O95255  1121        S   W   rs63750987       Disease\n",
       "828    O95255-1138-R-P  O95255  1138        R   P   rs60791294       Disease\n",
       "895    O95255-1121-S-L  O95255  1121        S   L   rs63750987       Disease\n",
       "905    O95255-1335-L-P  O95255  1335        L   P   rs63750414       Disease\n",
       "...                ...     ...   ...      ...  ..          ...           ...\n",
       "74291   P58304-200-R-Q  P58304   200        R   Q  rs121912543       Disease\n",
       "74303   A6NCI4-657-T-I  A6NCI4   657        T   I    rs1105929  Polymorphism\n",
       "74305   A6NCI4-464-T-I  A6NCI4   464        T   I    rs1105929  Polymorphism\n",
       "74374  P04275-1597-R-G  P04275  1597        R   G   rs61750117       Disease\n",
       "74376  P04275-1597-R-W  P04275  1597        R   W   rs61750117       Disease\n",
       "74434    P42768-86-R-H  P42768    86        R   H  rs132630268       Disease\n",
       "74435    P42768-86-R-L  P42768    86        R   L  rs132630268       Disease\n",
       "74544   Q9P2L0-878-A-P  Q9P2L0   878        A   P    rs2293669  Polymorphism\n",
       "74545   Q9P2L0-878-A-T  Q9P2L0   878        A   T    rs2293669  Polymorphism\n",
       "74612    Q8TBY9-61-E-G  Q8TBY9    61        E   G   rs12824001  Polymorphism\n",
       "74615    Q8TBY9-66-G-E  Q8TBY9    66        G   E   rs12824001  Polymorphism\n",
       "74747   Q9P202-813-T-M  Q9P202   813        T   M     rs942519  Polymorphism\n",
       "74751   Q9P202-613-M-T  Q9P202   613        M   T     rs942519  Polymorphism\n",
       "75073   Q01831-513-M-I  Q01831   513        M   I    rs3731130  Polymorphism\n",
       "75079   Q01831-514-C-S  Q01831   514        C   S    rs3731130  Polymorphism\n",
       "75588   Q9NZV7-110-A-T  Q9NZV7   110        A   T    rs2191432  Polymorphism\n",
       "75807   O75437-386-A-T  O75437   386        A   T     rs403356  Polymorphism\n",
       "75857   Q2VY69-546-K-E  Q2VY69   546        K   E    rs8113249  Polymorphism\n",
       "75858   Q2VY69-577-E-K  Q2VY69   577        E   K    rs8113249  Polymorphism\n",
       "76147   Q6V9R5-205-K-E  Q6V9R5   205        K   E    rs1059199  Polymorphism\n",
       "76148   Q6V9R5-260-E-K  Q6V9R5   260        E   K    rs1059199  Polymorphism\n",
       "76164   Q86YE8-186-G-A  Q86YE8   186        G   A    rs3752365  Polymorphism\n",
       "76165   Q86YE8-224-G-A  Q86YE8   224        G   A    rs3752365  Polymorphism\n",
       "76212    Q96SK3-70-R-H  Q96SK3    70        R   H    rs2385006  Polymorphism\n",
       "76216   Q96SK3-433-R-H  Q96SK3   433        R   H    rs2385006  Polymorphism\n",
       "76388   Q96N38-473-I-V  Q96N38   473        I   V   rs10427116  Polymorphism\n",
       "76389   Q96N38-472-I-V  Q96N38   472        I   V   rs10427116  Polymorphism\n",
       "76415   Q0D2J5-327-Y-H  Q0D2J5   327        Y   H    rs7254529  Polymorphism\n",
       "76416   Q0D2J5-324-Y-H  Q0D2J5   324        Y   H    rs7254529  Polymorphism\n",
       "76579   Q05481-386-A-T  Q05481   386        A   T     rs403356  Polymorphism\n",
       "\n",
       "[2871 rows x 7 columns]"
      ]
     },
     "execution_count": 11,
     "metadata": {},
     "output_type": "execute_result"
    }
   ],
   "source": [
    "hum_final[hum_final.dbSNP.duplicated(keep=False) & ~hum_final.dbSNP.isnull()]"
   ]
  },
  {
   "cell_type": "code",
   "execution_count": 12,
   "metadata": {
    "ExecuteTime": {
     "end_time": "2018-08-04T19:03:05.127304Z",
     "start_time": "2018-08-04T19:03:04.439589Z"
    },
    "collapsed": true,
    "deletable": false,
    "editable": false,
    "run_control": {
     "frozen": true
    }
   },
   "outputs": [],
   "source": [
    "hum_final.to_csv(\"../data/interim/humsavar_full.csv.gz\", index=False, compression=\"gzip\")\n",
    "# hum_final.to_csv(\"../data/interim/humsavar_VEST.csv.gz\", index=False, compression=\"gzip\")"
   ]
  },
  {
   "cell_type": "code",
   "execution_count": 3,
   "metadata": {
    "ExecuteTime": {
     "end_time": "2018-09-02T18:11:37.077631Z",
     "start_time": "2018-09-02T18:11:36.914818Z"
    }
   },
   "outputs": [],
   "source": [
    "hum_final = pd.read_csv(\"../data/interim/humsavar_full.csv.gz\")"
   ]
  },
  {
   "cell_type": "code",
   "execution_count": 4,
   "metadata": {
    "ExecuteTime": {
     "end_time": "2018-09-02T18:11:41.975734Z",
     "start_time": "2018-09-02T18:11:41.960158Z"
    }
   },
   "outputs": [
    {
     "data": {
      "text/plain": [
       "(75769, 7)"
      ]
     },
     "execution_count": 4,
     "metadata": {},
     "output_type": "execute_result"
    }
   ],
   "source": [
    "hum_final.shape"
   ]
  },
  {
   "cell_type": "code",
   "execution_count": 5,
   "metadata": {
    "ExecuteTime": {
     "end_time": "2018-09-02T18:11:43.601149Z",
     "start_time": "2018-09-02T18:11:43.586258Z"
    }
   },
   "outputs": [
    {
     "data": {
      "text/plain": [
       "Polymorphism    39653\n",
       "Disease         28855\n",
       "Unclassified     7261\n",
       "Name: TYPE, dtype: int64"
      ]
     },
     "execution_count": 5,
     "metadata": {},
     "output_type": "execute_result"
    }
   ],
   "source": [
    "hum_final.TYPE.value_counts()"
   ]
  },
  {
   "cell_type": "code",
   "execution_count": 6,
   "metadata": {
    "ExecuteTime": {
     "end_time": "2018-09-02T18:11:45.292291Z",
     "start_time": "2018-09-02T18:11:45.265267Z"
    },
    "collapsed": true
   },
   "outputs": [],
   "source": [
    "hum_final = hum_final[~hum_final.dbSNP.isnull()]\n",
    "hum_final = hum_final[hum_final.TYPE != \"Unclassified\"]"
   ]
  },
  {
   "cell_type": "code",
   "execution_count": 7,
   "metadata": {
    "ExecuteTime": {
     "end_time": "2018-09-02T18:11:48.172394Z",
     "start_time": "2018-09-02T18:11:48.156407Z"
    }
   },
   "outputs": [
    {
     "data": {
      "text/plain": [
       "(55382, 7)"
      ]
     },
     "execution_count": 7,
     "metadata": {},
     "output_type": "execute_result"
    }
   ],
   "source": [
    "hum_final.shape"
   ]
  },
  {
   "cell_type": "code",
   "execution_count": 8,
   "metadata": {
    "ExecuteTime": {
     "end_time": "2018-09-02T18:13:34.360858Z",
     "start_time": "2018-09-02T18:13:34.350431Z"
    }
   },
   "outputs": [
    {
     "data": {
      "text/plain": [
       "Polymorphism    37575\n",
       "Disease         17807\n",
       "Name: TYPE, dtype: int64"
      ]
     },
     "execution_count": 8,
     "metadata": {},
     "output_type": "execute_result"
    }
   ],
   "source": [
    "hum_final.TYPE.value_counts()"
   ]
  },
  {
   "cell_type": "markdown",
   "metadata": {},
   "source": [
    "## SNVBox Features "
   ]
  },
  {
   "cell_type": "markdown",
   "metadata": {},
   "source": [
    "### Genomic MSA (Genomic)"
   ]
  },
  {
   "cell_type": "code",
   "execution_count": 78,
   "metadata": {
    "ExecuteTime": {
     "end_time": "2018-08-19T18:35:11.998750Z",
     "start_time": "2018-08-19T18:35:09.557869Z"
    },
    "collapsed": true
   },
   "outputs": [],
   "source": [
    "genomic_msa = pd.read_csv(\"../data/external/snvbox_features/genomic_msa_features.csv\").drop_duplicates()\n",
    "genomic_msa = genomic_msa.groupby([\"UID\", \"Pos\"]).mean().reset_index()"
   ]
  },
  {
   "cell_type": "code",
   "execution_count": 16,
   "metadata": {
    "ExecuteTime": {
     "end_time": "2018-08-04T19:03:24.129594Z",
     "start_time": "2018-08-04T19:03:24.046802Z"
    },
    "collapsed": true,
    "scrolled": true
   },
   "outputs": [],
   "source": [
    "hum_final = hum_final.merge(genomic_msa, on=['UID', 'Pos'], how='left')"
   ]
  },
  {
   "cell_type": "markdown",
   "metadata": {},
   "source": [
    "### Exon Features (Genomic)"
   ]
  },
  {
   "cell_type": "code",
   "execution_count": 9,
   "metadata": {
    "ExecuteTime": {
     "end_time": "2018-09-02T18:14:13.080021Z",
     "start_time": "2018-09-02T18:14:12.684150Z"
    },
    "collapsed": true
   },
   "outputs": [],
   "source": [
    "exon_features = pd.read_csv(\"../data/external/snvbox_features/exon_features.csv\", delimiter=\"\\t\").drop_duplicates()\n",
    "exon_features = exon_features.rename(columns={\"rsid\": \"dbSNP\"})\n",
    "# exon_features = exon_features.groupby(\"dbSNP\").mean()"
   ]
  },
  {
   "cell_type": "code",
   "execution_count": 10,
   "metadata": {
    "ExecuteTime": {
     "end_time": "2018-09-02T18:14:19.893253Z",
     "start_time": "2018-09-02T18:14:19.872386Z"
    }
   },
   "outputs": [
    {
     "data": {
      "text/html": [
       "<div>\n",
       "<table border=\"1\" class=\"dataframe\">\n",
       "  <thead>\n",
       "    <tr style=\"text-align: right;\">\n",
       "      <th></th>\n",
       "      <th>dbSNP</th>\n",
       "      <th>Cons</th>\n",
       "      <th>snp_den</th>\n",
       "      <th>hapmap_snp_den</th>\n",
       "    </tr>\n",
       "  </thead>\n",
       "  <tbody>\n",
       "    <tr>\n",
       "      <th>0</th>\n",
       "      <td>rs1800433</td>\n",
       "      <td>0.709708</td>\n",
       "      <td>0.045198</td>\n",
       "      <td>0.00565</td>\n",
       "    </tr>\n",
       "    <tr>\n",
       "      <th>1</th>\n",
       "      <td>rs669</td>\n",
       "      <td>0.709708</td>\n",
       "      <td>0.045198</td>\n",
       "      <td>0.00565</td>\n",
       "    </tr>\n",
       "    <tr>\n",
       "      <th>2</th>\n",
       "      <td>rs3180392</td>\n",
       "      <td>0.648678</td>\n",
       "      <td>0.034934</td>\n",
       "      <td>0.00000</td>\n",
       "    </tr>\n",
       "    <tr>\n",
       "      <th>3</th>\n",
       "      <td>rs1800434</td>\n",
       "      <td>0.541717</td>\n",
       "      <td>0.017857</td>\n",
       "      <td>0.00000</td>\n",
       "    </tr>\n",
       "    <tr>\n",
       "      <th>4</th>\n",
       "      <td>rs226405</td>\n",
       "      <td>0.635459</td>\n",
       "      <td>0.018519</td>\n",
       "      <td>0.00000</td>\n",
       "    </tr>\n",
       "  </tbody>\n",
       "</table>\n",
       "</div>"
      ],
      "text/plain": [
       "       dbSNP      Cons   snp_den  hapmap_snp_den\n",
       "0  rs1800433  0.709708  0.045198         0.00565\n",
       "1      rs669  0.709708  0.045198         0.00565\n",
       "2  rs3180392  0.648678  0.034934         0.00000\n",
       "3  rs1800434  0.541717  0.017857         0.00000\n",
       "4   rs226405  0.635459  0.018519         0.00000"
      ]
     },
     "execution_count": 10,
     "metadata": {},
     "output_type": "execute_result"
    }
   ],
   "source": [
    "exon_features.head()"
   ]
  },
  {
   "cell_type": "code",
   "execution_count": 55,
   "metadata": {
    "ExecuteTime": {
     "end_time": "2018-08-20T15:01:37.702179Z",
     "start_time": "2018-08-20T15:01:37.624217Z"
    },
    "collapsed": true
   },
   "outputs": [],
   "source": [
    "hum_final = hum_final.merge(exon_features, left_on=\"dbSNP\", right_index=True, how='left')"
   ]
  },
  {
   "cell_type": "code",
   "execution_count": 56,
   "metadata": {
    "ExecuteTime": {
     "end_time": "2018-08-20T15:01:38.403694Z",
     "start_time": "2018-08-20T15:01:38.381999Z"
    }
   },
   "outputs": [
    {
     "data": {
      "text/plain": [
       "(55382, 10)"
      ]
     },
     "execution_count": 56,
     "metadata": {},
     "output_type": "execute_result"
    }
   ],
   "source": [
    "hum_final.shape"
   ]
  },
  {
   "cell_type": "markdown",
   "metadata": {},
   "source": [
    "## Phylogenetic Features (Genomic)"
   ]
  },
  {
   "cell_type": "code",
   "execution_count": 57,
   "metadata": {
    "ExecuteTime": {
     "end_time": "2018-08-20T15:01:42.102738Z",
     "start_time": "2018-08-20T15:01:42.070426Z"
    }
   },
   "outputs": [
    {
     "data": {
      "text/html": [
       "<div>\n",
       "<table border=\"1\" class=\"dataframe\">\n",
       "  <thead>\n",
       "    <tr style=\"text-align: right;\">\n",
       "      <th></th>\n",
       "      <th>MUTANT</th>\n",
       "      <th>UID</th>\n",
       "      <th>Pos</th>\n",
       "      <th>WildType</th>\n",
       "      <th>Mut</th>\n",
       "      <th>dbSNP</th>\n",
       "      <th>TYPE</th>\n",
       "      <th>Cons</th>\n",
       "      <th>snp_den</th>\n",
       "      <th>hapmap_snp_den</th>\n",
       "    </tr>\n",
       "  </thead>\n",
       "  <tbody>\n",
       "    <tr>\n",
       "      <th>0</th>\n",
       "      <td>P04217-52-H-R</td>\n",
       "      <td>P04217</td>\n",
       "      <td>52</td>\n",
       "      <td>H</td>\n",
       "      <td>R</td>\n",
       "      <td>rs893184</td>\n",
       "      <td>Polymorphism</td>\n",
       "      <td>0.551206</td>\n",
       "      <td>0.059259</td>\n",
       "      <td>0.000000</td>\n",
       "    </tr>\n",
       "    <tr>\n",
       "      <th>1</th>\n",
       "      <td>P04217-395-H-R</td>\n",
       "      <td>P04217</td>\n",
       "      <td>395</td>\n",
       "      <td>H</td>\n",
       "      <td>R</td>\n",
       "      <td>rs2241788</td>\n",
       "      <td>Polymorphism</td>\n",
       "      <td>0.517549</td>\n",
       "      <td>0.021277</td>\n",
       "      <td>0.000000</td>\n",
       "    </tr>\n",
       "    <tr>\n",
       "      <th>2</th>\n",
       "      <td>Q9NQ94-555-V-M</td>\n",
       "      <td>Q9NQ94</td>\n",
       "      <td>555</td>\n",
       "      <td>V</td>\n",
       "      <td>M</td>\n",
       "      <td>rs9073</td>\n",
       "      <td>Polymorphism</td>\n",
       "      <td>0.621177</td>\n",
       "      <td>0.034152</td>\n",
       "      <td>0.000033</td>\n",
       "    </tr>\n",
       "    <tr>\n",
       "      <th>3</th>\n",
       "      <td>Q9NQ94-558-A-S</td>\n",
       "      <td>Q9NQ94</td>\n",
       "      <td>558</td>\n",
       "      <td>A</td>\n",
       "      <td>S</td>\n",
       "      <td>rs11817448</td>\n",
       "      <td>Polymorphism</td>\n",
       "      <td>0.621177</td>\n",
       "      <td>0.034152</td>\n",
       "      <td>0.000033</td>\n",
       "    </tr>\n",
       "    <tr>\n",
       "      <th>4</th>\n",
       "      <td>A8K2U0-207-G-R</td>\n",
       "      <td>A8K2U0</td>\n",
       "      <td>207</td>\n",
       "      <td>G</td>\n",
       "      <td>R</td>\n",
       "      <td>rs11047499</td>\n",
       "      <td>Polymorphism</td>\n",
       "      <td>0.782358</td>\n",
       "      <td>0.031250</td>\n",
       "      <td>0.000000</td>\n",
       "    </tr>\n",
       "  </tbody>\n",
       "</table>\n",
       "</div>"
      ],
      "text/plain": [
       "           MUTANT     UID  Pos WildType Mut       dbSNP          TYPE  \\\n",
       "0   P04217-52-H-R  P04217   52        H   R    rs893184  Polymorphism   \n",
       "1  P04217-395-H-R  P04217  395        H   R   rs2241788  Polymorphism   \n",
       "2  Q9NQ94-555-V-M  Q9NQ94  555        V   M      rs9073  Polymorphism   \n",
       "3  Q9NQ94-558-A-S  Q9NQ94  558        A   S  rs11817448  Polymorphism   \n",
       "4  A8K2U0-207-G-R  A8K2U0  207        G   R  rs11047499  Polymorphism   \n",
       "\n",
       "       Cons   snp_den  hapmap_snp_den  \n",
       "0  0.551206  0.059259        0.000000  \n",
       "1  0.517549  0.021277        0.000000  \n",
       "2  0.621177  0.034152        0.000033  \n",
       "3  0.621177  0.034152        0.000033  \n",
       "4  0.782358  0.031250        0.000000  "
      ]
     },
     "execution_count": 57,
     "metadata": {},
     "output_type": "execute_result"
    }
   ],
   "source": [
    "hum_final.head()"
   ]
  },
  {
   "cell_type": "code",
   "execution_count": 58,
   "metadata": {
    "ExecuteTime": {
     "end_time": "2018-08-20T15:03:08.758485Z",
     "start_time": "2018-08-20T15:01:44.334045Z"
    },
    "collapsed": true
   },
   "outputs": [],
   "source": [
    "phyloP46way = pd.read_csv(\"../data/interim/phyloP46way.csv\").groupby(\"dbSNP\").mean()\n",
    "hum_final = hum_final.merge(phyloP46way,left_on=\"dbSNP\", right_index=True, how=\"left\")\n",
    "\n",
    "phastCons46way = pd.read_csv(\"../data/interim/phastCons46way.csv\").groupby(\"dbSNP\").mean()\n",
    "hum_final = hum_final.merge(phastCons46way,left_on=\"dbSNP\", right_index=True, how=\"left\")"
   ]
  },
  {
   "cell_type": "code",
   "execution_count": 59,
   "metadata": {
    "ExecuteTime": {
     "end_time": "2018-08-20T15:07:32.884805Z",
     "start_time": "2018-08-20T15:07:32.881111Z"
    }
   },
   "outputs": [
    {
     "data": {
      "text/plain": [
       "(55382, 12)"
      ]
     },
     "execution_count": 59,
     "metadata": {},
     "output_type": "execute_result"
    }
   ],
   "source": [
    "hum_final.shape"
   ]
  },
  {
   "cell_type": "markdown",
   "metadata": {},
   "source": [
    "## Genomic Func Classes"
   ]
  },
  {
   "cell_type": "code",
   "execution_count": 60,
   "metadata": {
    "ExecuteTime": {
     "end_time": "2018-08-20T15:07:36.676997Z",
     "start_time": "2018-08-20T15:07:36.341953Z"
    },
    "collapsed": true,
    "scrolled": true
   },
   "outputs": [],
   "source": [
    "variables = [\"name\", \"intron\", \"missense\", \"near-gene\", \"ncRNA\", \"coding-synon\", \"untranslated\", \"nonsense\", \"splice\", \"stop-loss\"]\n",
    "dummy = pd.read_csv(\"../data/interim/dbsnp150_humsavar_funcDummie.tsv\", sep=\"\\t\")\n",
    "dummy = dummy[variables].rename(columns={\"name\":\"dbSNP\"}).drop_duplicates(subset=\"dbSNP\")\n",
    "hum_final = hum_final.merge(dummy, on=\"dbSNP\", how=\"left\")"
   ]
  },
  {
   "cell_type": "code",
   "execution_count": 61,
   "metadata": {
    "ExecuteTime": {
     "end_time": "2018-08-20T15:07:38.354935Z",
     "start_time": "2018-08-20T15:07:38.336756Z"
    }
   },
   "outputs": [
    {
     "data": {
      "text/plain": [
       "Index(['dbSNP', 'intron', 'missense', 'near-gene', 'ncRNA', 'coding-synon',\n",
       "       'untranslated', 'nonsense', 'splice', 'stop-loss'],\n",
       "      dtype='object')"
      ]
     },
     "execution_count": 61,
     "metadata": {},
     "output_type": "execute_result"
    }
   ],
   "source": [
    "dummy.columns"
   ]
  },
  {
   "cell_type": "code",
   "execution_count": 62,
   "metadata": {
    "ExecuteTime": {
     "end_time": "2018-08-20T15:07:39.429445Z",
     "start_time": "2018-08-20T15:07:39.370165Z"
    }
   },
   "outputs": [
    {
     "data": {
      "text/html": [
       "<div>\n",
       "<table border=\"1\" class=\"dataframe\">\n",
       "  <thead>\n",
       "    <tr style=\"text-align: right;\">\n",
       "      <th></th>\n",
       "      <th>dbSNP</th>\n",
       "      <th>intron</th>\n",
       "      <th>missense</th>\n",
       "      <th>near-gene</th>\n",
       "      <th>ncRNA</th>\n",
       "      <th>coding-synon</th>\n",
       "      <th>untranslated</th>\n",
       "      <th>nonsense</th>\n",
       "      <th>splice</th>\n",
       "      <th>stop-loss</th>\n",
       "    </tr>\n",
       "  </thead>\n",
       "  <tbody>\n",
       "    <tr>\n",
       "      <th>0</th>\n",
       "      <td>rs893184</td>\n",
       "      <td>1</td>\n",
       "      <td>1</td>\n",
       "      <td>0</td>\n",
       "      <td>0</td>\n",
       "      <td>0</td>\n",
       "      <td>0</td>\n",
       "      <td>0</td>\n",
       "      <td>0</td>\n",
       "      <td>0</td>\n",
       "    </tr>\n",
       "    <tr>\n",
       "      <th>1</th>\n",
       "      <td>rs2241788</td>\n",
       "      <td>0</td>\n",
       "      <td>1</td>\n",
       "      <td>1</td>\n",
       "      <td>0</td>\n",
       "      <td>0</td>\n",
       "      <td>0</td>\n",
       "      <td>0</td>\n",
       "      <td>0</td>\n",
       "      <td>0</td>\n",
       "    </tr>\n",
       "    <tr>\n",
       "      <th>2</th>\n",
       "      <td>rs9073</td>\n",
       "      <td>0</td>\n",
       "      <td>1</td>\n",
       "      <td>0</td>\n",
       "      <td>0</td>\n",
       "      <td>0</td>\n",
       "      <td>0</td>\n",
       "      <td>0</td>\n",
       "      <td>0</td>\n",
       "      <td>0</td>\n",
       "    </tr>\n",
       "    <tr>\n",
       "      <th>3</th>\n",
       "      <td>rs11817448</td>\n",
       "      <td>0</td>\n",
       "      <td>1</td>\n",
       "      <td>0</td>\n",
       "      <td>0</td>\n",
       "      <td>0</td>\n",
       "      <td>0</td>\n",
       "      <td>0</td>\n",
       "      <td>0</td>\n",
       "      <td>0</td>\n",
       "    </tr>\n",
       "    <tr>\n",
       "      <th>4</th>\n",
       "      <td>rs11047499</td>\n",
       "      <td>0</td>\n",
       "      <td>1</td>\n",
       "      <td>0</td>\n",
       "      <td>0</td>\n",
       "      <td>0</td>\n",
       "      <td>0</td>\n",
       "      <td>0</td>\n",
       "      <td>0</td>\n",
       "      <td>0</td>\n",
       "    </tr>\n",
       "  </tbody>\n",
       "</table>\n",
       "</div>"
      ],
      "text/plain": [
       "        dbSNP  intron  missense  near-gene  ncRNA  coding-synon  untranslated  \\\n",
       "0    rs893184       1         1          0      0             0             0   \n",
       "1   rs2241788       0         1          1      0             0             0   \n",
       "2      rs9073       0         1          0      0             0             0   \n",
       "3  rs11817448       0         1          0      0             0             0   \n",
       "4  rs11047499       0         1          0      0             0             0   \n",
       "\n",
       "   nonsense  splice  stop-loss  \n",
       "0         0       0          0  \n",
       "1         0       0          0  \n",
       "2         0       0          0  \n",
       "3         0       0          0  \n",
       "4         0       0          0  "
      ]
     },
     "execution_count": 62,
     "metadata": {},
     "output_type": "execute_result"
    }
   ],
   "source": [
    "dummy.head()"
   ]
  },
  {
   "cell_type": "markdown",
   "metadata": {},
   "source": [
    "## Create Train Test Sets"
   ]
  },
  {
   "cell_type": "code",
   "execution_count": 63,
   "metadata": {
    "ExecuteTime": {
     "end_time": "2018-08-20T15:07:41.310262Z",
     "start_time": "2018-08-20T15:07:41.299340Z"
    },
    "collapsed": true
   },
   "outputs": [],
   "source": [
    "hum_final.columns = hum_final.columns.str.upper()"
   ]
  },
  {
   "cell_type": "code",
   "execution_count": 64,
   "metadata": {
    "ExecuteTime": {
     "end_time": "2018-08-20T15:07:41.744518Z",
     "start_time": "2018-08-20T15:07:41.740181Z"
    }
   },
   "outputs": [
    {
     "data": {
      "text/plain": [
       "Index(['MUTANT', 'UID', 'POS', 'WILDTYPE', 'MUT', 'DBSNP', 'TYPE', 'CONS',\n",
       "       'SNP_DEN', 'HAPMAP_SNP_DEN', 'PHYLOP46WAY', 'PHASTCONS46WAY', 'INTRON',\n",
       "       'MISSENSE', 'NEAR-GENE', 'NCRNA', 'CODING-SYNON', 'UNTRANSLATED',\n",
       "       'NONSENSE', 'SPLICE', 'STOP-LOSS'],\n",
       "      dtype='object')"
      ]
     },
     "execution_count": 64,
     "metadata": {},
     "output_type": "execute_result"
    }
   ],
   "source": [
    "hum_final.columns"
   ]
  },
  {
   "cell_type": "code",
   "execution_count": 65,
   "metadata": {
    "ExecuteTime": {
     "end_time": "2018-08-20T15:07:44.115894Z",
     "start_time": "2018-08-20T15:07:44.105205Z"
    },
    "scrolled": true
   },
   "outputs": [
    {
     "data": {
      "text/plain": [
       "Polymorphism    37575\n",
       "Disease         17807\n",
       "Name: TYPE, dtype: int64"
      ]
     },
     "execution_count": 65,
     "metadata": {},
     "output_type": "execute_result"
    }
   ],
   "source": [
    "hum_final.TYPE.value_counts()"
   ]
  },
  {
   "cell_type": "code",
   "execution_count": 66,
   "metadata": {
    "ExecuteTime": {
     "end_time": "2018-08-20T15:07:47.912024Z",
     "start_time": "2018-08-20T15:07:46.046998Z"
    },
    "collapsed": true
   },
   "outputs": [],
   "source": [
    "hum_final.replace([np.inf,-np.inf], np.nan, inplace=True)\n",
    "hum_final.to_csv(\"../data/processed/genomic/humsavar_full_gt.csv.gz\", index=False, compression=\"gzip\")"
   ]
  },
  {
   "cell_type": "code",
   "execution_count": 67,
   "metadata": {
    "ExecuteTime": {
     "end_time": "2018-08-20T15:07:48.161862Z",
     "start_time": "2018-08-20T15:07:48.156751Z"
    }
   },
   "outputs": [
    {
     "data": {
      "text/plain": [
       "(55382, 21)"
      ]
     },
     "execution_count": 67,
     "metadata": {},
     "output_type": "execute_result"
    }
   ],
   "source": [
    "hum_final.shape"
   ]
  },
  {
   "cell_type": "code",
   "execution_count": 68,
   "metadata": {
    "ExecuteTime": {
     "end_time": "2018-08-20T15:07:48.418528Z",
     "start_time": "2018-08-20T15:07:48.414031Z"
    },
    "scrolled": true
   },
   "outputs": [
    {
     "data": {
      "text/plain": [
       "(21,)"
      ]
     },
     "execution_count": 68,
     "metadata": {},
     "output_type": "execute_result"
    }
   ],
   "source": [
    "hum_final.columns.shape"
   ]
  },
  {
   "cell_type": "code",
   "execution_count": 69,
   "metadata": {
    "ExecuteTime": {
     "end_time": "2018-08-20T15:07:48.967193Z",
     "start_time": "2018-08-20T15:07:48.684039Z"
    },
    "collapsed": true
   },
   "outputs": [],
   "source": [
    "hum_final = pd.read_csv(\"../data/processed/genomic/humsavar_full_gt.csv.gz\")"
   ]
  },
  {
   "cell_type": "code",
   "execution_count": 70,
   "metadata": {
    "ExecuteTime": {
     "end_time": "2018-08-20T15:07:50.444443Z",
     "start_time": "2018-08-20T15:07:50.432087Z"
    }
   },
   "outputs": [
    {
     "data": {
      "text/plain": [
       "(55382, 21)"
      ]
     },
     "execution_count": 70,
     "metadata": {},
     "output_type": "execute_result"
    }
   ],
   "source": [
    "hum_final.shape"
   ]
  },
  {
   "cell_type": "code",
   "execution_count": 71,
   "metadata": {
    "ExecuteTime": {
     "end_time": "2018-08-20T15:07:51.880158Z",
     "start_time": "2018-08-20T15:07:51.762541Z"
    }
   },
   "outputs": [
    {
     "data": {
      "text/plain": [
       "MUTANT               0\n",
       "UID                  0\n",
       "POS                  0\n",
       "WILDTYPE             0\n",
       "MUT                  0\n",
       "DBSNP                0\n",
       "TYPE                 0\n",
       "CONS              1056\n",
       "SNP_DEN           1056\n",
       "HAPMAP_SNP_DEN    1056\n",
       "PHYLOP46WAY        993\n",
       "PHASTCONS46WAY     993\n",
       "INTRON             533\n",
       "MISSENSE           533\n",
       "NEAR-GENE          533\n",
       "NCRNA              533\n",
       "CODING-SYNON       533\n",
       "UNTRANSLATED       533\n",
       "NONSENSE           533\n",
       "SPLICE             533\n",
       "STOP-LOSS          533\n",
       "dtype: int64"
      ]
     },
     "execution_count": 71,
     "metadata": {},
     "output_type": "execute_result"
    }
   ],
   "source": [
    "hum_final.isnull().sum()"
   ]
  },
  {
   "cell_type": "code",
   "execution_count": 72,
   "metadata": {
    "ExecuteTime": {
     "end_time": "2018-08-20T15:08:00.468573Z",
     "start_time": "2018-08-20T15:08:00.381967Z"
    },
    "collapsed": true
   },
   "outputs": [],
   "source": [
    "hum_final.drop([\"UID\", \"POS\",\"DBSNP\", \"WILDTYPE\", \"MUT\"], axis=1, inplace=True)\n",
    "\n",
    "dataset = hum_final.set_index(\"MUTANT\")\n",
    "unclassified_index = dataset[dataset.TYPE == \"Unclassified\"].index\n",
    "dataset_disease_index = dataset[dataset.TYPE == \"Disease\"].index\n",
    "dataset_poly_index = dataset[dataset.TYPE == \"Polymorphism\"].index"
   ]
  },
  {
   "cell_type": "code",
   "execution_count": 73,
   "metadata": {
    "ExecuteTime": {
     "end_time": "2018-08-20T15:08:03.373136Z",
     "start_time": "2018-08-20T15:08:01.631776Z"
    },
    "collapsed": true
   },
   "outputs": [],
   "source": [
    "dataset.to_csv(\"../data/processed/genomic/dataset.csv.gz\", index=True, compression=\"gzip\")"
   ]
  },
  {
   "cell_type": "code",
   "execution_count": 74,
   "metadata": {
    "ExecuteTime": {
     "end_time": "2018-08-20T15:08:03.903355Z",
     "start_time": "2018-08-20T15:08:03.771786Z"
    }
   },
   "outputs": [
    {
     "data": {
      "text/html": [
       "<div>\n",
       "<table border=\"1\" class=\"dataframe\">\n",
       "  <thead>\n",
       "    <tr style=\"text-align: right;\">\n",
       "      <th></th>\n",
       "      <th>CONS</th>\n",
       "      <th>SNP_DEN</th>\n",
       "      <th>HAPMAP_SNP_DEN</th>\n",
       "      <th>PHYLOP46WAY</th>\n",
       "      <th>PHASTCONS46WAY</th>\n",
       "      <th>INTRON</th>\n",
       "      <th>MISSENSE</th>\n",
       "      <th>NEAR-GENE</th>\n",
       "      <th>NCRNA</th>\n",
       "      <th>CODING-SYNON</th>\n",
       "      <th>UNTRANSLATED</th>\n",
       "      <th>NONSENSE</th>\n",
       "      <th>SPLICE</th>\n",
       "      <th>STOP-LOSS</th>\n",
       "    </tr>\n",
       "  </thead>\n",
       "  <tbody>\n",
       "    <tr>\n",
       "      <th>count</th>\n",
       "      <td>54326.000000</td>\n",
       "      <td>54326.000000</td>\n",
       "      <td>54326.000000</td>\n",
       "      <td>54389.000000</td>\n",
       "      <td>54389.000000</td>\n",
       "      <td>54849.000000</td>\n",
       "      <td>54849.000000</td>\n",
       "      <td>54849.000000</td>\n",
       "      <td>54849.000000</td>\n",
       "      <td>54849.000000</td>\n",
       "      <td>54849.000000</td>\n",
       "      <td>54849.000000</td>\n",
       "      <td>54849.000000</td>\n",
       "      <td>54849.000000</td>\n",
       "    </tr>\n",
       "    <tr>\n",
       "      <th>mean</th>\n",
       "      <td>0.652634</td>\n",
       "      <td>0.064620</td>\n",
       "      <td>0.000143</td>\n",
       "      <td>2.158182</td>\n",
       "      <td>0.671734</td>\n",
       "      <td>0.136101</td>\n",
       "      <td>0.990684</td>\n",
       "      <td>0.060730</td>\n",
       "      <td>0.174114</td>\n",
       "      <td>0.020092</td>\n",
       "      <td>0.053547</td>\n",
       "      <td>0.005397</td>\n",
       "      <td>0.000510</td>\n",
       "      <td>0.000055</td>\n",
       "    </tr>\n",
       "    <tr>\n",
       "      <th>std</th>\n",
       "      <td>0.086864</td>\n",
       "      <td>0.099475</td>\n",
       "      <td>0.000994</td>\n",
       "      <td>2.287684</td>\n",
       "      <td>0.437809</td>\n",
       "      <td>0.342899</td>\n",
       "      <td>0.096072</td>\n",
       "      <td>0.238837</td>\n",
       "      <td>0.379211</td>\n",
       "      <td>0.140315</td>\n",
       "      <td>0.225124</td>\n",
       "      <td>0.073264</td>\n",
       "      <td>0.022589</td>\n",
       "      <td>0.007396</td>\n",
       "    </tr>\n",
       "    <tr>\n",
       "      <th>min</th>\n",
       "      <td>0.144895</td>\n",
       "      <td>0.000000</td>\n",
       "      <td>0.000000</td>\n",
       "      <td>-8.217000</td>\n",
       "      <td>0.000000</td>\n",
       "      <td>0.000000</td>\n",
       "      <td>0.000000</td>\n",
       "      <td>0.000000</td>\n",
       "      <td>0.000000</td>\n",
       "      <td>0.000000</td>\n",
       "      <td>0.000000</td>\n",
       "      <td>0.000000</td>\n",
       "      <td>0.000000</td>\n",
       "      <td>0.000000</td>\n",
       "    </tr>\n",
       "    <tr>\n",
       "      <th>25%</th>\n",
       "      <td>0.587777</td>\n",
       "      <td>0.029703</td>\n",
       "      <td>0.000000</td>\n",
       "      <td>0.287000</td>\n",
       "      <td>0.058000</td>\n",
       "      <td>0.000000</td>\n",
       "      <td>1.000000</td>\n",
       "      <td>0.000000</td>\n",
       "      <td>0.000000</td>\n",
       "      <td>0.000000</td>\n",
       "      <td>0.000000</td>\n",
       "      <td>0.000000</td>\n",
       "      <td>0.000000</td>\n",
       "      <td>0.000000</td>\n",
       "    </tr>\n",
       "    <tr>\n",
       "      <th>50%</th>\n",
       "      <td>0.656068</td>\n",
       "      <td>0.043860</td>\n",
       "      <td>0.000000</td>\n",
       "      <td>1.811000</td>\n",
       "      <td>0.995000</td>\n",
       "      <td>0.000000</td>\n",
       "      <td>1.000000</td>\n",
       "      <td>0.000000</td>\n",
       "      <td>0.000000</td>\n",
       "      <td>0.000000</td>\n",
       "      <td>0.000000</td>\n",
       "      <td>0.000000</td>\n",
       "      <td>0.000000</td>\n",
       "      <td>0.000000</td>\n",
       "    </tr>\n",
       "    <tr>\n",
       "      <th>75%</th>\n",
       "      <td>0.719510</td>\n",
       "      <td>0.064370</td>\n",
       "      <td>0.000000</td>\n",
       "      <td>4.229000</td>\n",
       "      <td>1.000000</td>\n",
       "      <td>0.000000</td>\n",
       "      <td>1.000000</td>\n",
       "      <td>0.000000</td>\n",
       "      <td>0.000000</td>\n",
       "      <td>0.000000</td>\n",
       "      <td>0.000000</td>\n",
       "      <td>0.000000</td>\n",
       "      <td>0.000000</td>\n",
       "      <td>0.000000</td>\n",
       "    </tr>\n",
       "    <tr>\n",
       "      <th>max</th>\n",
       "      <td>0.897386</td>\n",
       "      <td>1.042402</td>\n",
       "      <td>0.039147</td>\n",
       "      <td>6.424000</td>\n",
       "      <td>1.000000</td>\n",
       "      <td>1.000000</td>\n",
       "      <td>1.000000</td>\n",
       "      <td>1.000000</td>\n",
       "      <td>1.000000</td>\n",
       "      <td>1.000000</td>\n",
       "      <td>1.000000</td>\n",
       "      <td>1.000000</td>\n",
       "      <td>1.000000</td>\n",
       "      <td>1.000000</td>\n",
       "    </tr>\n",
       "  </tbody>\n",
       "</table>\n",
       "</div>"
      ],
      "text/plain": [
       "               CONS       SNP_DEN  HAPMAP_SNP_DEN   PHYLOP46WAY  \\\n",
       "count  54326.000000  54326.000000    54326.000000  54389.000000   \n",
       "mean       0.652634      0.064620        0.000143      2.158182   \n",
       "std        0.086864      0.099475        0.000994      2.287684   \n",
       "min        0.144895      0.000000        0.000000     -8.217000   \n",
       "25%        0.587777      0.029703        0.000000      0.287000   \n",
       "50%        0.656068      0.043860        0.000000      1.811000   \n",
       "75%        0.719510      0.064370        0.000000      4.229000   \n",
       "max        0.897386      1.042402        0.039147      6.424000   \n",
       "\n",
       "       PHASTCONS46WAY        INTRON      MISSENSE     NEAR-GENE         NCRNA  \\\n",
       "count    54389.000000  54849.000000  54849.000000  54849.000000  54849.000000   \n",
       "mean         0.671734      0.136101      0.990684      0.060730      0.174114   \n",
       "std          0.437809      0.342899      0.096072      0.238837      0.379211   \n",
       "min          0.000000      0.000000      0.000000      0.000000      0.000000   \n",
       "25%          0.058000      0.000000      1.000000      0.000000      0.000000   \n",
       "50%          0.995000      0.000000      1.000000      0.000000      0.000000   \n",
       "75%          1.000000      0.000000      1.000000      0.000000      0.000000   \n",
       "max          1.000000      1.000000      1.000000      1.000000      1.000000   \n",
       "\n",
       "       CODING-SYNON  UNTRANSLATED      NONSENSE        SPLICE     STOP-LOSS  \n",
       "count  54849.000000  54849.000000  54849.000000  54849.000000  54849.000000  \n",
       "mean       0.020092      0.053547      0.005397      0.000510      0.000055  \n",
       "std        0.140315      0.225124      0.073264      0.022589      0.007396  \n",
       "min        0.000000      0.000000      0.000000      0.000000      0.000000  \n",
       "25%        0.000000      0.000000      0.000000      0.000000      0.000000  \n",
       "50%        0.000000      0.000000      0.000000      0.000000      0.000000  \n",
       "75%        0.000000      0.000000      0.000000      0.000000      0.000000  \n",
       "max        1.000000      1.000000      1.000000      1.000000      1.000000  "
      ]
     },
     "execution_count": 74,
     "metadata": {},
     "output_type": "execute_result"
    }
   ],
   "source": [
    "hum_final.describe()"
   ]
  },
  {
   "cell_type": "code",
   "execution_count": 24,
   "metadata": {
    "ExecuteTime": {
     "end_time": "2018-08-19T17:49:11.311559Z",
     "start_time": "2018-08-19T17:49:11.307285Z"
    }
   },
   "outputs": [
    {
     "data": {
      "text/plain": [
       "(350384, 7)"
      ]
     },
     "execution_count": 24,
     "metadata": {},
     "output_type": "execute_result"
    }
   ],
   "source": [
    "hum_final.shape"
   ]
  },
  {
   "cell_type": "code",
   "execution_count": 66,
   "metadata": {
    "ExecuteTime": {
     "end_time": "2018-08-04T19:14:47.213980Z",
     "start_time": "2018-08-04T19:14:47.194582Z"
    }
   },
   "outputs": [
    {
     "data": {
      "text/plain": [
       "Polymorphism    39653\n",
       "Disease         28855\n",
       "Unclassified     7261\n",
       "Name: TYPE, dtype: int64"
      ]
     },
     "execution_count": 66,
     "metadata": {},
     "output_type": "execute_result"
    }
   ],
   "source": [
    "hum_final.TYPE.value_counts()"
   ]
  },
  {
   "cell_type": "markdown",
   "metadata": {},
   "source": [
    "### Multiple Train Tests"
   ]
  },
  {
   "cell_type": "code",
   "execution_count": null,
   "metadata": {
    "ExecuteTime": {
     "end_time": "2018-05-05T23:09:12.611142Z",
     "start_time": "2018-05-05T23:07:16.244111Z"
    },
    "collapsed": true,
    "deletable": false,
    "editable": false
   },
   "outputs": [],
   "source": [
    "for i in range(20):\n",
    "    train = pd.concat([\n",
    "        dataset.loc[dataset_disease_index].sample(n=25000, random_state=i),\n",
    "        dataset.loc[dataset_poly_index].sample(n=25000, random_state=i)\n",
    "    ]).sample(frac=1)\n",
    "    \n",
    "    test = pd.concat([\n",
    "        dataset.loc[dataset_disease_index.difference(train.index)].sample(n=3855, random_state=i),\n",
    "        dataset.loc[dataset_poly_index.difference(train.index)].sample(n=14653, random_state=i)\n",
    "    ]).sample(frac=1)\n",
    "    train.to_csv(\"../data/processed/3/train_test_sets/train_{}.csv\".format(i), index=True, index_label=\"MUTANT\")\n",
    "    test.to_csv(\"../data/processed/3/train_test_sets/test_{}.csv\".format(i), index=True, index_label=\"MUTANT\")"
   ]
  },
  {
   "cell_type": "code",
   "execution_count": null,
   "metadata": {
    "collapsed": true
   },
   "outputs": [],
   "source": []
  }
 ],
 "metadata": {
  "kernelspec": {
   "display_name": "Python 3",
   "language": "python",
   "name": "python3"
  },
  "language_info": {
   "codemirror_mode": {
    "name": "ipython",
    "version": 3
   },
   "file_extension": ".py",
   "mimetype": "text/x-python",
   "name": "python",
   "nbconvert_exporter": "python",
   "pygments_lexer": "ipython3",
   "version": "3.6.3"
  },
  "varInspector": {
   "cols": {
    "lenName": 16,
    "lenType": 16,
    "lenVar": 40
   },
   "kernels_config": {
    "python": {
     "delete_cmd_postfix": "",
     "delete_cmd_prefix": "del ",
     "library": "var_list.py",
     "varRefreshCmd": "print(var_dic_list())"
    },
    "r": {
     "delete_cmd_postfix": ") ",
     "delete_cmd_prefix": "rm(",
     "library": "var_list.r",
     "varRefreshCmd": "cat(var_dic_list()) "
    }
   },
   "oldHeight": 221,
   "position": {
    "height": "243px",
    "left": "1040px",
    "right": "20px",
    "top": "214px",
    "width": "414px"
   },
   "types_to_exclude": [
    "module",
    "function",
    "builtin_function_or_method",
    "instance",
    "_Feature"
   ],
   "varInspector_section_display": "block",
   "window_display": false
  }
 },
 "nbformat": 4,
 "nbformat_minor": 2
}
