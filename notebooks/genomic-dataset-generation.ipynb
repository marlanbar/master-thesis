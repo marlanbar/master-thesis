{
 "cells": [
  {
   "cell_type": "code",
   "execution_count": 38,
   "metadata": {
    "ExecuteTime": {
     "end_time": "2018-08-04T19:13:16.536331Z",
     "start_time": "2018-08-04T19:13:16.528253Z"
    },
    "collapsed": true
   },
   "outputs": [],
   "source": [
    "import pandas as pd\n",
    "import numpy as np"
   ]
  },
  {
   "cell_type": "markdown",
   "metadata": {},
   "source": [
    "## Humsavar Table"
   ]
  },
  {
   "cell_type": "code",
   "execution_count": 39,
   "metadata": {
    "ExecuteTime": {
     "end_time": "2018-08-04T19:13:17.334505Z",
     "start_time": "2018-08-04T19:13:17.064523Z"
    },
    "collapsed": true
   },
   "outputs": [],
   "source": [
    "hum = pd.read_csv(\"../data/interim/humsavar_clean_201711.csv.gz\", sep=\",\")\n",
    "hum.columns = hum.columns.str.replace(\" \", \"_\")"
   ]
  },
  {
   "cell_type": "code",
   "execution_count": 40,
   "metadata": {
    "ExecuteTime": {
     "end_time": "2018-08-04T19:13:17.721705Z",
     "start_time": "2018-08-04T19:13:17.714464Z"
    },
    "collapsed": true
   },
   "outputs": [],
   "source": [
    "#Correspondencia hecha por Santi\n",
    "AMINO_CODE = {\"Ala\": \"A\",\\\n",
    "              \"Arg\": \"R\",\\\n",
    "              \"Asn\": \"N\",\\\n",
    "              \"Asp\": \"D\",\\\n",
    "              \"Cys\": \"C\",\\\n",
    "              \"Gln\": \"Q\",\\\n",
    "              \"Glu\": \"E\",\\\n",
    "              \"Gly\": \"G\",\\\n",
    "              \"His\": \"H\",\\\n",
    "              \"Ile\": \"I\",\\\n",
    "              \"Leu\": \"L\",\\\n",
    "              \"Lys\": \"K\",\\\n",
    "              \"Met\": \"M\",\\\n",
    "              \"Phe\": \"F\",\\\n",
    "              \"Pro\": \"P\",\\\n",
    "              \"Ser\": \"S\",\\\n",
    "              \"Thr\": \"T\",\\\n",
    "              \"Trp\": \"W\",\\\n",
    "              \"Tyr\": \"Y\",\\\n",
    "              \"Val\": \"V\",\\\n",
    "              \"Sec\": \"U\"\n",
    "             }"
   ]
  },
  {
   "cell_type": "code",
   "execution_count": 41,
   "metadata": {
    "ExecuteTime": {
     "end_time": "2018-08-04T19:13:18.116759Z",
     "start_time": "2018-08-04T19:13:18.110808Z"
    }
   },
   "outputs": [
    {
     "data": {
      "text/plain": [
       "Index(['Main_gene_name', 'Swiss_Prot_AC', 'FTId', 'AA_Change',\n",
       "       'Type_of_variant', 'dbSNP', 'Disease_Name'],\n",
       "      dtype='object')"
      ]
     },
     "execution_count": 41,
     "metadata": {},
     "output_type": "execute_result"
    }
   ],
   "source": [
    "hum.columns"
   ]
  },
  {
   "cell_type": "code",
   "execution_count": 42,
   "metadata": {
    "ExecuteTime": {
     "end_time": "2018-08-04T19:13:18.894666Z",
     "start_time": "2018-08-04T19:13:18.575215Z"
    },
    "collapsed": true
   },
   "outputs": [],
   "source": [
    "df = pd.DataFrame(data=(hum[\"AA_Change\"].str[2:].str.split(r\"([0-9]+)\")).tolist(), columns=[\"C1\", \"C2\", \"C3\"])\n",
    "df[\"C1\"] = df.C1.map(AMINO_CODE)\n",
    "df[\"C3\"] = df.C3.map(AMINO_CODE)\n",
    "mutant = pd.Series(data=(hum[\"Swiss_Prot_AC\"] + \"-\"+ df.C2 + \"-\" + df.C1 + \"-\" + df.C3).tolist(), name=\"MUTANT\")\n",
    "# mutant = pd.Series(data=(df.C1 + df.C2 + df.C3).tolist(), name=\"MUTANT\")"
   ]
  },
  {
   "cell_type": "code",
   "execution_count": 43,
   "metadata": {
    "ExecuteTime": {
     "end_time": "2018-08-04T19:13:19.443445Z",
     "start_time": "2018-08-04T19:13:19.287486Z"
    },
    "collapsed": true
   },
   "outputs": [],
   "source": [
    "hum_final = pd.concat([hum, mutant, df], 1)[[\"MUTANT\", \"Swiss_Prot_AC\", \"C2\", \"C1\", \"C3\",\"dbSNP\", \"Type_of_variant\"]]\n",
    "hum_final.rename(columns={\"C1\": \"WildType\", \"C3\": \"Mut\", \"Swiss_Prot_AC\": \"UID\", \"C2\": \"Pos\"}, inplace=True)\n",
    "# hum_final = pd.concat([hum, mutant], 1)[[\"FTId\", \"MUTANT\"]]"
   ]
  },
  {
   "cell_type": "code",
   "execution_count": 44,
   "metadata": {
    "ExecuteTime": {
     "end_time": "2018-08-04T19:13:19.845997Z",
     "start_time": "2018-08-04T19:13:19.828259Z"
    }
   },
   "outputs": [
    {
     "data": {
      "text/html": [
       "<div>\n",
       "<table border=\"1\" class=\"dataframe\">\n",
       "  <thead>\n",
       "    <tr style=\"text-align: right;\">\n",
       "      <th></th>\n",
       "      <th>MUTANT</th>\n",
       "      <th>UID</th>\n",
       "      <th>Pos</th>\n",
       "      <th>WildType</th>\n",
       "      <th>Mut</th>\n",
       "      <th>dbSNP</th>\n",
       "      <th>Type_of_variant</th>\n",
       "    </tr>\n",
       "  </thead>\n",
       "  <tbody>\n",
       "    <tr>\n",
       "      <th>0</th>\n",
       "      <td>P04217-52-H-R</td>\n",
       "      <td>P04217</td>\n",
       "      <td>52</td>\n",
       "      <td>H</td>\n",
       "      <td>R</td>\n",
       "      <td>rs893184</td>\n",
       "      <td>Polymorphism</td>\n",
       "    </tr>\n",
       "    <tr>\n",
       "      <th>1</th>\n",
       "      <td>P04217-395-H-R</td>\n",
       "      <td>P04217</td>\n",
       "      <td>395</td>\n",
       "      <td>H</td>\n",
       "      <td>R</td>\n",
       "      <td>rs2241788</td>\n",
       "      <td>Polymorphism</td>\n",
       "    </tr>\n",
       "    <tr>\n",
       "      <th>2</th>\n",
       "      <td>Q9NQ94-555-V-M</td>\n",
       "      <td>Q9NQ94</td>\n",
       "      <td>555</td>\n",
       "      <td>V</td>\n",
       "      <td>M</td>\n",
       "      <td>rs9073</td>\n",
       "      <td>Polymorphism</td>\n",
       "    </tr>\n",
       "    <tr>\n",
       "      <th>3</th>\n",
       "      <td>Q9NQ94-558-A-S</td>\n",
       "      <td>Q9NQ94</td>\n",
       "      <td>558</td>\n",
       "      <td>A</td>\n",
       "      <td>S</td>\n",
       "      <td>rs11817448</td>\n",
       "      <td>Polymorphism</td>\n",
       "    </tr>\n",
       "    <tr>\n",
       "      <th>4</th>\n",
       "      <td>A8K2U0-207-G-R</td>\n",
       "      <td>A8K2U0</td>\n",
       "      <td>207</td>\n",
       "      <td>G</td>\n",
       "      <td>R</td>\n",
       "      <td>rs11047499</td>\n",
       "      <td>Polymorphism</td>\n",
       "    </tr>\n",
       "  </tbody>\n",
       "</table>\n",
       "</div>"
      ],
      "text/plain": [
       "           MUTANT     UID  Pos WildType Mut       dbSNP Type_of_variant\n",
       "0   P04217-52-H-R  P04217   52        H   R    rs893184    Polymorphism\n",
       "1  P04217-395-H-R  P04217  395        H   R   rs2241788    Polymorphism\n",
       "2  Q9NQ94-555-V-M  Q9NQ94  555        V   M      rs9073    Polymorphism\n",
       "3  Q9NQ94-558-A-S  Q9NQ94  558        A   S  rs11817448    Polymorphism\n",
       "4  A8K2U0-207-G-R  A8K2U0  207        G   R  rs11047499    Polymorphism"
      ]
     },
     "execution_count": 44,
     "metadata": {},
     "output_type": "execute_result"
    }
   ],
   "source": [
    "hum_final.head()"
   ]
  },
  {
   "cell_type": "code",
   "execution_count": 45,
   "metadata": {
    "ExecuteTime": {
     "end_time": "2018-08-04T19:13:20.262141Z",
     "start_time": "2018-08-04T19:13:20.252251Z"
    }
   },
   "outputs": [
    {
     "data": {
      "text/plain": [
       "(76730, 7)"
      ]
     },
     "execution_count": 45,
     "metadata": {},
     "output_type": "execute_result"
    }
   ],
   "source": [
    "hum_final.shape"
   ]
  },
  {
   "cell_type": "code",
   "execution_count": 46,
   "metadata": {
    "ExecuteTime": {
     "end_time": "2018-08-04T19:13:20.843514Z",
     "start_time": "2018-08-04T19:13:20.794713Z"
    },
    "collapsed": true
   },
   "outputs": [],
   "source": [
    "hum_final.drop_duplicates(\"MUTANT\", inplace=True)\n",
    "# hum_final.drop_duplicates(\"dbSNP\", inplace=True)\n",
    "hum_final.rename(columns={\"Type_of_variant\": \"TYPE\"}, inplace=True)"
   ]
  },
  {
   "cell_type": "code",
   "execution_count": 47,
   "metadata": {
    "ExecuteTime": {
     "end_time": "2018-08-04T19:13:23.122152Z",
     "start_time": "2018-08-04T19:13:23.082816Z"
    }
   },
   "outputs": [
    {
     "data": {
      "text/html": [
       "<div>\n",
       "<table border=\"1\" class=\"dataframe\">\n",
       "  <thead>\n",
       "    <tr style=\"text-align: right;\">\n",
       "      <th></th>\n",
       "      <th>MUTANT</th>\n",
       "      <th>UID</th>\n",
       "      <th>Pos</th>\n",
       "      <th>WildType</th>\n",
       "      <th>Mut</th>\n",
       "      <th>dbSNP</th>\n",
       "      <th>TYPE</th>\n",
       "    </tr>\n",
       "  </thead>\n",
       "  <tbody>\n",
       "    <tr>\n",
       "      <th>0</th>\n",
       "      <td>P04217-52-H-R</td>\n",
       "      <td>P04217</td>\n",
       "      <td>52</td>\n",
       "      <td>H</td>\n",
       "      <td>R</td>\n",
       "      <td>rs893184</td>\n",
       "      <td>Polymorphism</td>\n",
       "    </tr>\n",
       "    <tr>\n",
       "      <th>1</th>\n",
       "      <td>P04217-395-H-R</td>\n",
       "      <td>P04217</td>\n",
       "      <td>395</td>\n",
       "      <td>H</td>\n",
       "      <td>R</td>\n",
       "      <td>rs2241788</td>\n",
       "      <td>Polymorphism</td>\n",
       "    </tr>\n",
       "    <tr>\n",
       "      <th>2</th>\n",
       "      <td>Q9NQ94-555-V-M</td>\n",
       "      <td>Q9NQ94</td>\n",
       "      <td>555</td>\n",
       "      <td>V</td>\n",
       "      <td>M</td>\n",
       "      <td>rs9073</td>\n",
       "      <td>Polymorphism</td>\n",
       "    </tr>\n",
       "  </tbody>\n",
       "</table>\n",
       "</div>"
      ],
      "text/plain": [
       "           MUTANT     UID  Pos WildType Mut      dbSNP          TYPE\n",
       "0   P04217-52-H-R  P04217   52        H   R   rs893184  Polymorphism\n",
       "1  P04217-395-H-R  P04217  395        H   R  rs2241788  Polymorphism\n",
       "2  Q9NQ94-555-V-M  Q9NQ94  555        V   M     rs9073  Polymorphism"
      ]
     },
     "execution_count": 47,
     "metadata": {},
     "output_type": "execute_result"
    }
   ],
   "source": [
    "hum_final.head(3)"
   ]
  },
  {
   "cell_type": "code",
   "execution_count": 11,
   "metadata": {
    "ExecuteTime": {
     "end_time": "2018-08-04T19:03:03.495407Z",
     "start_time": "2018-08-04T19:03:03.425521Z"
    },
    "scrolled": true
   },
   "outputs": [
    {
     "data": {
      "text/html": [
       "<div>\n",
       "<table border=\"1\" class=\"dataframe\">\n",
       "  <thead>\n",
       "    <tr style=\"text-align: right;\">\n",
       "      <th></th>\n",
       "      <th>MUTANT</th>\n",
       "      <th>UID</th>\n",
       "      <th>Pos</th>\n",
       "      <th>WildType</th>\n",
       "      <th>Mut</th>\n",
       "      <th>dbSNP</th>\n",
       "      <th>TYPE</th>\n",
       "    </tr>\n",
       "  </thead>\n",
       "  <tbody>\n",
       "    <tr>\n",
       "      <th>97</th>\n",
       "      <td>Q86UK0-459-S-T</td>\n",
       "      <td>Q86UK0</td>\n",
       "      <td>459</td>\n",
       "      <td>S</td>\n",
       "      <td>T</td>\n",
       "      <td>rs7560008</td>\n",
       "      <td>Polymorphism</td>\n",
       "    </tr>\n",
       "    <tr>\n",
       "      <th>104</th>\n",
       "      <td>Q86UK0-777-S-T</td>\n",
       "      <td>Q86UK0</td>\n",
       "      <td>777</td>\n",
       "      <td>S</td>\n",
       "      <td>T</td>\n",
       "      <td>rs7560008</td>\n",
       "      <td>Polymorphism</td>\n",
       "    </tr>\n",
       "    <tr>\n",
       "      <th>145</th>\n",
       "      <td>O95477-590-W-S</td>\n",
       "      <td>O95477</td>\n",
       "      <td>590</td>\n",
       "      <td>W</td>\n",
       "      <td>S</td>\n",
       "      <td>rs137854496</td>\n",
       "      <td>Disease</td>\n",
       "    </tr>\n",
       "    <tr>\n",
       "      <th>191</th>\n",
       "      <td>O95477-590-W-L</td>\n",
       "      <td>O95477</td>\n",
       "      <td>590</td>\n",
       "      <td>W</td>\n",
       "      <td>L</td>\n",
       "      <td>rs137854496</td>\n",
       "      <td>Disease</td>\n",
       "    </tr>\n",
       "    <tr>\n",
       "      <th>231</th>\n",
       "      <td>P78363-96-N-D</td>\n",
       "      <td>P78363</td>\n",
       "      <td>96</td>\n",
       "      <td>N</td>\n",
       "      <td>D</td>\n",
       "      <td>rs61748529</td>\n",
       "      <td>Disease</td>\n",
       "    </tr>\n",
       "    <tr>\n",
       "      <th>232</th>\n",
       "      <td>P78363-96-N-H</td>\n",
       "      <td>P78363</td>\n",
       "      <td>96</td>\n",
       "      <td>N</td>\n",
       "      <td>H</td>\n",
       "      <td>rs61748529</td>\n",
       "      <td>Disease</td>\n",
       "    </tr>\n",
       "    <tr>\n",
       "      <th>249</th>\n",
       "      <td>P78363-572-R-P</td>\n",
       "      <td>P78363</td>\n",
       "      <td>572</td>\n",
       "      <td>R</td>\n",
       "      <td>P</td>\n",
       "      <td>rs61748559</td>\n",
       "      <td>Disease</td>\n",
       "    </tr>\n",
       "    <tr>\n",
       "      <th>250</th>\n",
       "      <td>P78363-572-R-Q</td>\n",
       "      <td>P78363</td>\n",
       "      <td>572</td>\n",
       "      <td>R</td>\n",
       "      <td>Q</td>\n",
       "      <td>rs61748559</td>\n",
       "      <td>Disease</td>\n",
       "    </tr>\n",
       "    <tr>\n",
       "      <th>332</th>\n",
       "      <td>P78363-2077-R-W</td>\n",
       "      <td>P78363</td>\n",
       "      <td>2077</td>\n",
       "      <td>R</td>\n",
       "      <td>W</td>\n",
       "      <td>rs61750645</td>\n",
       "      <td>Disease</td>\n",
       "    </tr>\n",
       "    <tr>\n",
       "      <th>353</th>\n",
       "      <td>P78363-68-P-L</td>\n",
       "      <td>P78363</td>\n",
       "      <td>68</td>\n",
       "      <td>P</td>\n",
       "      <td>L</td>\n",
       "      <td>rs62654397</td>\n",
       "      <td>Disease</td>\n",
       "    </tr>\n",
       "    <tr>\n",
       "      <th>354</th>\n",
       "      <td>P78363-68-P-R</td>\n",
       "      <td>P78363</td>\n",
       "      <td>68</td>\n",
       "      <td>P</td>\n",
       "      <td>R</td>\n",
       "      <td>rs62654397</td>\n",
       "      <td>Disease</td>\n",
       "    </tr>\n",
       "    <tr>\n",
       "      <th>379</th>\n",
       "      <td>P78363-607-G-R</td>\n",
       "      <td>P78363</td>\n",
       "      <td>607</td>\n",
       "      <td>G</td>\n",
       "      <td>R</td>\n",
       "      <td>rs61749412</td>\n",
       "      <td>Disease</td>\n",
       "    </tr>\n",
       "    <tr>\n",
       "      <th>380</th>\n",
       "      <td>P78363-607-G-W</td>\n",
       "      <td>P78363</td>\n",
       "      <td>607</td>\n",
       "      <td>G</td>\n",
       "      <td>W</td>\n",
       "      <td>rs61749412</td>\n",
       "      <td>Disease</td>\n",
       "    </tr>\n",
       "    <tr>\n",
       "      <th>419</th>\n",
       "      <td>P78363-1108-R-H</td>\n",
       "      <td>P78363</td>\n",
       "      <td>1108</td>\n",
       "      <td>R</td>\n",
       "      <td>H</td>\n",
       "      <td>rs61750121</td>\n",
       "      <td>Disease</td>\n",
       "    </tr>\n",
       "    <tr>\n",
       "      <th>420</th>\n",
       "      <td>P78363-1108-R-L</td>\n",
       "      <td>P78363</td>\n",
       "      <td>1108</td>\n",
       "      <td>R</td>\n",
       "      <td>L</td>\n",
       "      <td>rs61750121</td>\n",
       "      <td>Disease</td>\n",
       "    </tr>\n",
       "    <tr>\n",
       "      <th>431</th>\n",
       "      <td>P78363-1488-C-F</td>\n",
       "      <td>P78363</td>\n",
       "      <td>1488</td>\n",
       "      <td>C</td>\n",
       "      <td>F</td>\n",
       "      <td>rs61750147</td>\n",
       "      <td>Disease</td>\n",
       "    </tr>\n",
       "    <tr>\n",
       "      <th>432</th>\n",
       "      <td>P78363-1488-C-Y</td>\n",
       "      <td>P78363</td>\n",
       "      <td>1488</td>\n",
       "      <td>C</td>\n",
       "      <td>Y</td>\n",
       "      <td>rs61750147</td>\n",
       "      <td>Disease</td>\n",
       "    </tr>\n",
       "    <tr>\n",
       "      <th>466</th>\n",
       "      <td>P78363-2077-R-G</td>\n",
       "      <td>P78363</td>\n",
       "      <td>2077</td>\n",
       "      <td>R</td>\n",
       "      <td>G</td>\n",
       "      <td>rs61750645</td>\n",
       "      <td>Disease</td>\n",
       "    </tr>\n",
       "    <tr>\n",
       "      <th>521</th>\n",
       "      <td>O95342-444-V-A</td>\n",
       "      <td>O95342</td>\n",
       "      <td>444</td>\n",
       "      <td>V</td>\n",
       "      <td>A</td>\n",
       "      <td>rs2287622</td>\n",
       "      <td>Polymorphism</td>\n",
       "    </tr>\n",
       "    <tr>\n",
       "      <th>552</th>\n",
       "      <td>O95342-444-V-D</td>\n",
       "      <td>O95342</td>\n",
       "      <td>444</td>\n",
       "      <td>V</td>\n",
       "      <td>D</td>\n",
       "      <td>rs2287622</td>\n",
       "      <td>Polymorphism</td>\n",
       "    </tr>\n",
       "    <tr>\n",
       "      <th>553</th>\n",
       "      <td>O95342-444-V-G</td>\n",
       "      <td>O95342</td>\n",
       "      <td>444</td>\n",
       "      <td>V</td>\n",
       "      <td>G</td>\n",
       "      <td>rs2287622</td>\n",
       "      <td>Polymorphism</td>\n",
       "    </tr>\n",
       "    <tr>\n",
       "      <th>560</th>\n",
       "      <td>P08183-893-S-A</td>\n",
       "      <td>P08183</td>\n",
       "      <td>893</td>\n",
       "      <td>S</td>\n",
       "      <td>A</td>\n",
       "      <td>rs2032582</td>\n",
       "      <td>Polymorphism</td>\n",
       "    </tr>\n",
       "    <tr>\n",
       "      <th>561</th>\n",
       "      <td>P08183-893-S-T</td>\n",
       "      <td>P08183</td>\n",
       "      <td>893</td>\n",
       "      <td>S</td>\n",
       "      <td>T</td>\n",
       "      <td>rs2032582</td>\n",
       "      <td>Polymorphism</td>\n",
       "    </tr>\n",
       "    <tr>\n",
       "      <th>705</th>\n",
       "      <td>O75027-581-V-A</td>\n",
       "      <td>O75027</td>\n",
       "      <td>581</td>\n",
       "      <td>V</td>\n",
       "      <td>A</td>\n",
       "      <td>rs1340989</td>\n",
       "      <td>Polymorphism</td>\n",
       "    </tr>\n",
       "    <tr>\n",
       "      <th>706</th>\n",
       "      <td>O75027-580-A-V</td>\n",
       "      <td>O75027</td>\n",
       "      <td>580</td>\n",
       "      <td>A</td>\n",
       "      <td>V</td>\n",
       "      <td>rs1340989</td>\n",
       "      <td>Polymorphism</td>\n",
       "    </tr>\n",
       "    <tr>\n",
       "      <th>806</th>\n",
       "      <td>O95255-1138-R-Q</td>\n",
       "      <td>O95255</td>\n",
       "      <td>1138</td>\n",
       "      <td>R</td>\n",
       "      <td>Q</td>\n",
       "      <td>rs60791294</td>\n",
       "      <td>Disease</td>\n",
       "    </tr>\n",
       "    <tr>\n",
       "      <th>827</th>\n",
       "      <td>O95255-1121-S-W</td>\n",
       "      <td>O95255</td>\n",
       "      <td>1121</td>\n",
       "      <td>S</td>\n",
       "      <td>W</td>\n",
       "      <td>rs63750987</td>\n",
       "      <td>Disease</td>\n",
       "    </tr>\n",
       "    <tr>\n",
       "      <th>828</th>\n",
       "      <td>O95255-1138-R-P</td>\n",
       "      <td>O95255</td>\n",
       "      <td>1138</td>\n",
       "      <td>R</td>\n",
       "      <td>P</td>\n",
       "      <td>rs60791294</td>\n",
       "      <td>Disease</td>\n",
       "    </tr>\n",
       "    <tr>\n",
       "      <th>895</th>\n",
       "      <td>O95255-1121-S-L</td>\n",
       "      <td>O95255</td>\n",
       "      <td>1121</td>\n",
       "      <td>S</td>\n",
       "      <td>L</td>\n",
       "      <td>rs63750987</td>\n",
       "      <td>Disease</td>\n",
       "    </tr>\n",
       "    <tr>\n",
       "      <th>905</th>\n",
       "      <td>O95255-1335-L-P</td>\n",
       "      <td>O95255</td>\n",
       "      <td>1335</td>\n",
       "      <td>L</td>\n",
       "      <td>P</td>\n",
       "      <td>rs63750414</td>\n",
       "      <td>Disease</td>\n",
       "    </tr>\n",
       "    <tr>\n",
       "      <th>...</th>\n",
       "      <td>...</td>\n",
       "      <td>...</td>\n",
       "      <td>...</td>\n",
       "      <td>...</td>\n",
       "      <td>...</td>\n",
       "      <td>...</td>\n",
       "      <td>...</td>\n",
       "    </tr>\n",
       "    <tr>\n",
       "      <th>74291</th>\n",
       "      <td>P58304-200-R-Q</td>\n",
       "      <td>P58304</td>\n",
       "      <td>200</td>\n",
       "      <td>R</td>\n",
       "      <td>Q</td>\n",
       "      <td>rs121912543</td>\n",
       "      <td>Disease</td>\n",
       "    </tr>\n",
       "    <tr>\n",
       "      <th>74303</th>\n",
       "      <td>A6NCI4-657-T-I</td>\n",
       "      <td>A6NCI4</td>\n",
       "      <td>657</td>\n",
       "      <td>T</td>\n",
       "      <td>I</td>\n",
       "      <td>rs1105929</td>\n",
       "      <td>Polymorphism</td>\n",
       "    </tr>\n",
       "    <tr>\n",
       "      <th>74305</th>\n",
       "      <td>A6NCI4-464-T-I</td>\n",
       "      <td>A6NCI4</td>\n",
       "      <td>464</td>\n",
       "      <td>T</td>\n",
       "      <td>I</td>\n",
       "      <td>rs1105929</td>\n",
       "      <td>Polymorphism</td>\n",
       "    </tr>\n",
       "    <tr>\n",
       "      <th>74374</th>\n",
       "      <td>P04275-1597-R-G</td>\n",
       "      <td>P04275</td>\n",
       "      <td>1597</td>\n",
       "      <td>R</td>\n",
       "      <td>G</td>\n",
       "      <td>rs61750117</td>\n",
       "      <td>Disease</td>\n",
       "    </tr>\n",
       "    <tr>\n",
       "      <th>74376</th>\n",
       "      <td>P04275-1597-R-W</td>\n",
       "      <td>P04275</td>\n",
       "      <td>1597</td>\n",
       "      <td>R</td>\n",
       "      <td>W</td>\n",
       "      <td>rs61750117</td>\n",
       "      <td>Disease</td>\n",
       "    </tr>\n",
       "    <tr>\n",
       "      <th>74434</th>\n",
       "      <td>P42768-86-R-H</td>\n",
       "      <td>P42768</td>\n",
       "      <td>86</td>\n",
       "      <td>R</td>\n",
       "      <td>H</td>\n",
       "      <td>rs132630268</td>\n",
       "      <td>Disease</td>\n",
       "    </tr>\n",
       "    <tr>\n",
       "      <th>74435</th>\n",
       "      <td>P42768-86-R-L</td>\n",
       "      <td>P42768</td>\n",
       "      <td>86</td>\n",
       "      <td>R</td>\n",
       "      <td>L</td>\n",
       "      <td>rs132630268</td>\n",
       "      <td>Disease</td>\n",
       "    </tr>\n",
       "    <tr>\n",
       "      <th>74544</th>\n",
       "      <td>Q9P2L0-878-A-P</td>\n",
       "      <td>Q9P2L0</td>\n",
       "      <td>878</td>\n",
       "      <td>A</td>\n",
       "      <td>P</td>\n",
       "      <td>rs2293669</td>\n",
       "      <td>Polymorphism</td>\n",
       "    </tr>\n",
       "    <tr>\n",
       "      <th>74545</th>\n",
       "      <td>Q9P2L0-878-A-T</td>\n",
       "      <td>Q9P2L0</td>\n",
       "      <td>878</td>\n",
       "      <td>A</td>\n",
       "      <td>T</td>\n",
       "      <td>rs2293669</td>\n",
       "      <td>Polymorphism</td>\n",
       "    </tr>\n",
       "    <tr>\n",
       "      <th>74612</th>\n",
       "      <td>Q8TBY9-61-E-G</td>\n",
       "      <td>Q8TBY9</td>\n",
       "      <td>61</td>\n",
       "      <td>E</td>\n",
       "      <td>G</td>\n",
       "      <td>rs12824001</td>\n",
       "      <td>Polymorphism</td>\n",
       "    </tr>\n",
       "    <tr>\n",
       "      <th>74615</th>\n",
       "      <td>Q8TBY9-66-G-E</td>\n",
       "      <td>Q8TBY9</td>\n",
       "      <td>66</td>\n",
       "      <td>G</td>\n",
       "      <td>E</td>\n",
       "      <td>rs12824001</td>\n",
       "      <td>Polymorphism</td>\n",
       "    </tr>\n",
       "    <tr>\n",
       "      <th>74747</th>\n",
       "      <td>Q9P202-813-T-M</td>\n",
       "      <td>Q9P202</td>\n",
       "      <td>813</td>\n",
       "      <td>T</td>\n",
       "      <td>M</td>\n",
       "      <td>rs942519</td>\n",
       "      <td>Polymorphism</td>\n",
       "    </tr>\n",
       "    <tr>\n",
       "      <th>74751</th>\n",
       "      <td>Q9P202-613-M-T</td>\n",
       "      <td>Q9P202</td>\n",
       "      <td>613</td>\n",
       "      <td>M</td>\n",
       "      <td>T</td>\n",
       "      <td>rs942519</td>\n",
       "      <td>Polymorphism</td>\n",
       "    </tr>\n",
       "    <tr>\n",
       "      <th>75073</th>\n",
       "      <td>Q01831-513-M-I</td>\n",
       "      <td>Q01831</td>\n",
       "      <td>513</td>\n",
       "      <td>M</td>\n",
       "      <td>I</td>\n",
       "      <td>rs3731130</td>\n",
       "      <td>Polymorphism</td>\n",
       "    </tr>\n",
       "    <tr>\n",
       "      <th>75079</th>\n",
       "      <td>Q01831-514-C-S</td>\n",
       "      <td>Q01831</td>\n",
       "      <td>514</td>\n",
       "      <td>C</td>\n",
       "      <td>S</td>\n",
       "      <td>rs3731130</td>\n",
       "      <td>Polymorphism</td>\n",
       "    </tr>\n",
       "    <tr>\n",
       "      <th>75588</th>\n",
       "      <td>Q9NZV7-110-A-T</td>\n",
       "      <td>Q9NZV7</td>\n",
       "      <td>110</td>\n",
       "      <td>A</td>\n",
       "      <td>T</td>\n",
       "      <td>rs2191432</td>\n",
       "      <td>Polymorphism</td>\n",
       "    </tr>\n",
       "    <tr>\n",
       "      <th>75807</th>\n",
       "      <td>O75437-386-A-T</td>\n",
       "      <td>O75437</td>\n",
       "      <td>386</td>\n",
       "      <td>A</td>\n",
       "      <td>T</td>\n",
       "      <td>rs403356</td>\n",
       "      <td>Polymorphism</td>\n",
       "    </tr>\n",
       "    <tr>\n",
       "      <th>75857</th>\n",
       "      <td>Q2VY69-546-K-E</td>\n",
       "      <td>Q2VY69</td>\n",
       "      <td>546</td>\n",
       "      <td>K</td>\n",
       "      <td>E</td>\n",
       "      <td>rs8113249</td>\n",
       "      <td>Polymorphism</td>\n",
       "    </tr>\n",
       "    <tr>\n",
       "      <th>75858</th>\n",
       "      <td>Q2VY69-577-E-K</td>\n",
       "      <td>Q2VY69</td>\n",
       "      <td>577</td>\n",
       "      <td>E</td>\n",
       "      <td>K</td>\n",
       "      <td>rs8113249</td>\n",
       "      <td>Polymorphism</td>\n",
       "    </tr>\n",
       "    <tr>\n",
       "      <th>76147</th>\n",
       "      <td>Q6V9R5-205-K-E</td>\n",
       "      <td>Q6V9R5</td>\n",
       "      <td>205</td>\n",
       "      <td>K</td>\n",
       "      <td>E</td>\n",
       "      <td>rs1059199</td>\n",
       "      <td>Polymorphism</td>\n",
       "    </tr>\n",
       "    <tr>\n",
       "      <th>76148</th>\n",
       "      <td>Q6V9R5-260-E-K</td>\n",
       "      <td>Q6V9R5</td>\n",
       "      <td>260</td>\n",
       "      <td>E</td>\n",
       "      <td>K</td>\n",
       "      <td>rs1059199</td>\n",
       "      <td>Polymorphism</td>\n",
       "    </tr>\n",
       "    <tr>\n",
       "      <th>76164</th>\n",
       "      <td>Q86YE8-186-G-A</td>\n",
       "      <td>Q86YE8</td>\n",
       "      <td>186</td>\n",
       "      <td>G</td>\n",
       "      <td>A</td>\n",
       "      <td>rs3752365</td>\n",
       "      <td>Polymorphism</td>\n",
       "    </tr>\n",
       "    <tr>\n",
       "      <th>76165</th>\n",
       "      <td>Q86YE8-224-G-A</td>\n",
       "      <td>Q86YE8</td>\n",
       "      <td>224</td>\n",
       "      <td>G</td>\n",
       "      <td>A</td>\n",
       "      <td>rs3752365</td>\n",
       "      <td>Polymorphism</td>\n",
       "    </tr>\n",
       "    <tr>\n",
       "      <th>76212</th>\n",
       "      <td>Q96SK3-70-R-H</td>\n",
       "      <td>Q96SK3</td>\n",
       "      <td>70</td>\n",
       "      <td>R</td>\n",
       "      <td>H</td>\n",
       "      <td>rs2385006</td>\n",
       "      <td>Polymorphism</td>\n",
       "    </tr>\n",
       "    <tr>\n",
       "      <th>76216</th>\n",
       "      <td>Q96SK3-433-R-H</td>\n",
       "      <td>Q96SK3</td>\n",
       "      <td>433</td>\n",
       "      <td>R</td>\n",
       "      <td>H</td>\n",
       "      <td>rs2385006</td>\n",
       "      <td>Polymorphism</td>\n",
       "    </tr>\n",
       "    <tr>\n",
       "      <th>76388</th>\n",
       "      <td>Q96N38-473-I-V</td>\n",
       "      <td>Q96N38</td>\n",
       "      <td>473</td>\n",
       "      <td>I</td>\n",
       "      <td>V</td>\n",
       "      <td>rs10427116</td>\n",
       "      <td>Polymorphism</td>\n",
       "    </tr>\n",
       "    <tr>\n",
       "      <th>76389</th>\n",
       "      <td>Q96N38-472-I-V</td>\n",
       "      <td>Q96N38</td>\n",
       "      <td>472</td>\n",
       "      <td>I</td>\n",
       "      <td>V</td>\n",
       "      <td>rs10427116</td>\n",
       "      <td>Polymorphism</td>\n",
       "    </tr>\n",
       "    <tr>\n",
       "      <th>76415</th>\n",
       "      <td>Q0D2J5-327-Y-H</td>\n",
       "      <td>Q0D2J5</td>\n",
       "      <td>327</td>\n",
       "      <td>Y</td>\n",
       "      <td>H</td>\n",
       "      <td>rs7254529</td>\n",
       "      <td>Polymorphism</td>\n",
       "    </tr>\n",
       "    <tr>\n",
       "      <th>76416</th>\n",
       "      <td>Q0D2J5-324-Y-H</td>\n",
       "      <td>Q0D2J5</td>\n",
       "      <td>324</td>\n",
       "      <td>Y</td>\n",
       "      <td>H</td>\n",
       "      <td>rs7254529</td>\n",
       "      <td>Polymorphism</td>\n",
       "    </tr>\n",
       "    <tr>\n",
       "      <th>76579</th>\n",
       "      <td>Q05481-386-A-T</td>\n",
       "      <td>Q05481</td>\n",
       "      <td>386</td>\n",
       "      <td>A</td>\n",
       "      <td>T</td>\n",
       "      <td>rs403356</td>\n",
       "      <td>Polymorphism</td>\n",
       "    </tr>\n",
       "  </tbody>\n",
       "</table>\n",
       "<p>2871 rows × 7 columns</p>\n",
       "</div>"
      ],
      "text/plain": [
       "                MUTANT     UID   Pos WildType Mut        dbSNP          TYPE\n",
       "97      Q86UK0-459-S-T  Q86UK0   459        S   T    rs7560008  Polymorphism\n",
       "104     Q86UK0-777-S-T  Q86UK0   777        S   T    rs7560008  Polymorphism\n",
       "145     O95477-590-W-S  O95477   590        W   S  rs137854496       Disease\n",
       "191     O95477-590-W-L  O95477   590        W   L  rs137854496       Disease\n",
       "231      P78363-96-N-D  P78363    96        N   D   rs61748529       Disease\n",
       "232      P78363-96-N-H  P78363    96        N   H   rs61748529       Disease\n",
       "249     P78363-572-R-P  P78363   572        R   P   rs61748559       Disease\n",
       "250     P78363-572-R-Q  P78363   572        R   Q   rs61748559       Disease\n",
       "332    P78363-2077-R-W  P78363  2077        R   W   rs61750645       Disease\n",
       "353      P78363-68-P-L  P78363    68        P   L   rs62654397       Disease\n",
       "354      P78363-68-P-R  P78363    68        P   R   rs62654397       Disease\n",
       "379     P78363-607-G-R  P78363   607        G   R   rs61749412       Disease\n",
       "380     P78363-607-G-W  P78363   607        G   W   rs61749412       Disease\n",
       "419    P78363-1108-R-H  P78363  1108        R   H   rs61750121       Disease\n",
       "420    P78363-1108-R-L  P78363  1108        R   L   rs61750121       Disease\n",
       "431    P78363-1488-C-F  P78363  1488        C   F   rs61750147       Disease\n",
       "432    P78363-1488-C-Y  P78363  1488        C   Y   rs61750147       Disease\n",
       "466    P78363-2077-R-G  P78363  2077        R   G   rs61750645       Disease\n",
       "521     O95342-444-V-A  O95342   444        V   A    rs2287622  Polymorphism\n",
       "552     O95342-444-V-D  O95342   444        V   D    rs2287622  Polymorphism\n",
       "553     O95342-444-V-G  O95342   444        V   G    rs2287622  Polymorphism\n",
       "560     P08183-893-S-A  P08183   893        S   A    rs2032582  Polymorphism\n",
       "561     P08183-893-S-T  P08183   893        S   T    rs2032582  Polymorphism\n",
       "705     O75027-581-V-A  O75027   581        V   A    rs1340989  Polymorphism\n",
       "706     O75027-580-A-V  O75027   580        A   V    rs1340989  Polymorphism\n",
       "806    O95255-1138-R-Q  O95255  1138        R   Q   rs60791294       Disease\n",
       "827    O95255-1121-S-W  O95255  1121        S   W   rs63750987       Disease\n",
       "828    O95255-1138-R-P  O95255  1138        R   P   rs60791294       Disease\n",
       "895    O95255-1121-S-L  O95255  1121        S   L   rs63750987       Disease\n",
       "905    O95255-1335-L-P  O95255  1335        L   P   rs63750414       Disease\n",
       "...                ...     ...   ...      ...  ..          ...           ...\n",
       "74291   P58304-200-R-Q  P58304   200        R   Q  rs121912543       Disease\n",
       "74303   A6NCI4-657-T-I  A6NCI4   657        T   I    rs1105929  Polymorphism\n",
       "74305   A6NCI4-464-T-I  A6NCI4   464        T   I    rs1105929  Polymorphism\n",
       "74374  P04275-1597-R-G  P04275  1597        R   G   rs61750117       Disease\n",
       "74376  P04275-1597-R-W  P04275  1597        R   W   rs61750117       Disease\n",
       "74434    P42768-86-R-H  P42768    86        R   H  rs132630268       Disease\n",
       "74435    P42768-86-R-L  P42768    86        R   L  rs132630268       Disease\n",
       "74544   Q9P2L0-878-A-P  Q9P2L0   878        A   P    rs2293669  Polymorphism\n",
       "74545   Q9P2L0-878-A-T  Q9P2L0   878        A   T    rs2293669  Polymorphism\n",
       "74612    Q8TBY9-61-E-G  Q8TBY9    61        E   G   rs12824001  Polymorphism\n",
       "74615    Q8TBY9-66-G-E  Q8TBY9    66        G   E   rs12824001  Polymorphism\n",
       "74747   Q9P202-813-T-M  Q9P202   813        T   M     rs942519  Polymorphism\n",
       "74751   Q9P202-613-M-T  Q9P202   613        M   T     rs942519  Polymorphism\n",
       "75073   Q01831-513-M-I  Q01831   513        M   I    rs3731130  Polymorphism\n",
       "75079   Q01831-514-C-S  Q01831   514        C   S    rs3731130  Polymorphism\n",
       "75588   Q9NZV7-110-A-T  Q9NZV7   110        A   T    rs2191432  Polymorphism\n",
       "75807   O75437-386-A-T  O75437   386        A   T     rs403356  Polymorphism\n",
       "75857   Q2VY69-546-K-E  Q2VY69   546        K   E    rs8113249  Polymorphism\n",
       "75858   Q2VY69-577-E-K  Q2VY69   577        E   K    rs8113249  Polymorphism\n",
       "76147   Q6V9R5-205-K-E  Q6V9R5   205        K   E    rs1059199  Polymorphism\n",
       "76148   Q6V9R5-260-E-K  Q6V9R5   260        E   K    rs1059199  Polymorphism\n",
       "76164   Q86YE8-186-G-A  Q86YE8   186        G   A    rs3752365  Polymorphism\n",
       "76165   Q86YE8-224-G-A  Q86YE8   224        G   A    rs3752365  Polymorphism\n",
       "76212    Q96SK3-70-R-H  Q96SK3    70        R   H    rs2385006  Polymorphism\n",
       "76216   Q96SK3-433-R-H  Q96SK3   433        R   H    rs2385006  Polymorphism\n",
       "76388   Q96N38-473-I-V  Q96N38   473        I   V   rs10427116  Polymorphism\n",
       "76389   Q96N38-472-I-V  Q96N38   472        I   V   rs10427116  Polymorphism\n",
       "76415   Q0D2J5-327-Y-H  Q0D2J5   327        Y   H    rs7254529  Polymorphism\n",
       "76416   Q0D2J5-324-Y-H  Q0D2J5   324        Y   H    rs7254529  Polymorphism\n",
       "76579   Q05481-386-A-T  Q05481   386        A   T     rs403356  Polymorphism\n",
       "\n",
       "[2871 rows x 7 columns]"
      ]
     },
     "execution_count": 11,
     "metadata": {},
     "output_type": "execute_result"
    }
   ],
   "source": [
    "hum_final[hum_final.dbSNP.duplicated(keep=False) & ~hum_final.dbSNP.isnull()]"
   ]
  },
  {
   "cell_type": "code",
   "execution_count": 12,
   "metadata": {
    "ExecuteTime": {
     "end_time": "2018-08-04T19:03:05.127304Z",
     "start_time": "2018-08-04T19:03:04.439589Z"
    },
    "collapsed": true
   },
   "outputs": [],
   "source": [
    "hum_final.to_csv(\"../data/interim/humsavar_full.csv.gz\", index=False, compression=\"gzip\")\n",
    "# hum_final.to_csv(\"../data/interim/humsavar_VEST.csv.gz\", index=False, compression=\"gzip\")"
   ]
  },
  {
   "cell_type": "code",
   "execution_count": 48,
   "metadata": {
    "ExecuteTime": {
     "end_time": "2018-08-04T19:13:26.244257Z",
     "start_time": "2018-08-04T19:13:26.079495Z"
    },
    "collapsed": true
   },
   "outputs": [],
   "source": [
    "hum_final = pd.read_csv(\"../data/interim/humsavar_full.csv.gz\")"
   ]
  },
  {
   "cell_type": "code",
   "execution_count": 49,
   "metadata": {
    "ExecuteTime": {
     "end_time": "2018-08-04T19:13:26.939842Z",
     "start_time": "2018-08-04T19:13:26.928953Z"
    }
   },
   "outputs": [
    {
     "data": {
      "text/plain": [
       "(75769, 7)"
      ]
     },
     "execution_count": 49,
     "metadata": {},
     "output_type": "execute_result"
    }
   ],
   "source": [
    "hum_final.shape"
   ]
  },
  {
   "cell_type": "markdown",
   "metadata": {},
   "source": [
    "## SNVBox Features "
   ]
  },
  {
   "cell_type": "markdown",
   "metadata": {},
   "source": [
    "### Genomic MSA (Genomic)"
   ]
  },
  {
   "cell_type": "code",
   "execution_count": 15,
   "metadata": {
    "ExecuteTime": {
     "end_time": "2018-08-04T19:03:22.550918Z",
     "start_time": "2018-08-04T19:03:19.654731Z"
    },
    "collapsed": true
   },
   "outputs": [],
   "source": [
    "genomic_msa = pd.read_csv(\"../data/external/snvbox_features/genomic_msa_features.csv\").drop_duplicates()\n",
    "genomic_msa = genomic_msa.groupby([\"UID\", \"Pos\"]).mean().reset_index()"
   ]
  },
  {
   "cell_type": "code",
   "execution_count": 16,
   "metadata": {
    "ExecuteTime": {
     "end_time": "2018-08-04T19:03:24.129594Z",
     "start_time": "2018-08-04T19:03:24.046802Z"
    },
    "collapsed": true,
    "scrolled": true
   },
   "outputs": [],
   "source": [
    "hum_final = hum_final.merge(genomic_msa, on=['UID', 'Pos'], how='left')"
   ]
  },
  {
   "cell_type": "markdown",
   "metadata": {},
   "source": [
    "### Exon Features (Genomic)"
   ]
  },
  {
   "cell_type": "code",
   "execution_count": 50,
   "metadata": {
    "ExecuteTime": {
     "end_time": "2018-08-04T19:13:40.453937Z",
     "start_time": "2018-08-04T19:13:40.132008Z"
    },
    "collapsed": true
   },
   "outputs": [],
   "source": [
    "exon_features = pd.read_csv(\"../data/external/snvbox_features/exon_features.csv\", delimiter=\"\\t\")\n",
    "exon_features.rename(columns={\"rsid\": \"dbSNP\"}, inplace=True)"
   ]
  },
  {
   "cell_type": "code",
   "execution_count": 51,
   "metadata": {
    "ExecuteTime": {
     "end_time": "2018-08-04T19:13:41.239140Z",
     "start_time": "2018-08-04T19:13:41.186165Z"
    }
   },
   "outputs": [
    {
     "data": {
      "text/html": [
       "<div>\n",
       "<table border=\"1\" class=\"dataframe\">\n",
       "  <thead>\n",
       "    <tr style=\"text-align: right;\">\n",
       "      <th></th>\n",
       "      <th>dbSNP</th>\n",
       "      <th>Cons</th>\n",
       "      <th>snp_den</th>\n",
       "      <th>hapmap_snp_den</th>\n",
       "    </tr>\n",
       "  </thead>\n",
       "  <tbody>\n",
       "    <tr>\n",
       "      <th>0</th>\n",
       "      <td>rs1800433</td>\n",
       "      <td>0.709708</td>\n",
       "      <td>0.045198</td>\n",
       "      <td>0.00565</td>\n",
       "    </tr>\n",
       "    <tr>\n",
       "      <th>1</th>\n",
       "      <td>rs669</td>\n",
       "      <td>0.709708</td>\n",
       "      <td>0.045198</td>\n",
       "      <td>0.00565</td>\n",
       "    </tr>\n",
       "    <tr>\n",
       "      <th>2</th>\n",
       "      <td>rs3180392</td>\n",
       "      <td>0.648678</td>\n",
       "      <td>0.034934</td>\n",
       "      <td>0.00000</td>\n",
       "    </tr>\n",
       "    <tr>\n",
       "      <th>3</th>\n",
       "      <td>rs1800434</td>\n",
       "      <td>0.541717</td>\n",
       "      <td>0.017857</td>\n",
       "      <td>0.00000</td>\n",
       "    </tr>\n",
       "    <tr>\n",
       "      <th>4</th>\n",
       "      <td>rs226405</td>\n",
       "      <td>0.635459</td>\n",
       "      <td>0.018519</td>\n",
       "      <td>0.00000</td>\n",
       "    </tr>\n",
       "  </tbody>\n",
       "</table>\n",
       "</div>"
      ],
      "text/plain": [
       "       dbSNP      Cons   snp_den  hapmap_snp_den\n",
       "0  rs1800433  0.709708  0.045198         0.00565\n",
       "1      rs669  0.709708  0.045198         0.00565\n",
       "2  rs3180392  0.648678  0.034934         0.00000\n",
       "3  rs1800434  0.541717  0.017857         0.00000\n",
       "4   rs226405  0.635459  0.018519         0.00000"
      ]
     },
     "execution_count": 51,
     "metadata": {},
     "output_type": "execute_result"
    }
   ],
   "source": [
    "exon_features.head()"
   ]
  },
  {
   "cell_type": "markdown",
   "metadata": {},
   "source": [
    "## Phylogenetic Features (Genomic)"
   ]
  },
  {
   "cell_type": "code",
   "execution_count": 52,
   "metadata": {
    "ExecuteTime": {
     "end_time": "2018-08-04T19:14:20.805613Z",
     "start_time": "2018-08-04T19:13:44.647577Z"
    },
    "collapsed": true
   },
   "outputs": [],
   "source": [
    "phyloP46way = pd.read_csv(\"../data/interim/phyloP46way.csv\").drop_duplicates(\"dbSNP\")\n",
    "hum_final = hum_final.merge(phyloP46way, on=\"dbSNP\", how=\"left\")\n",
    "\n",
    "phastCons46way = pd.read_csv(\"../data/interim/phastCons46way.csv\").drop_duplicates(\"dbSNP\")\n",
    "hum_final = hum_final.merge(phastCons46way, on=\"dbSNP\", how=\"left\")"
   ]
  },
  {
   "cell_type": "markdown",
   "metadata": {},
   "source": [
    "## Genomic Func Classes"
   ]
  },
  {
   "cell_type": "code",
   "execution_count": 53,
   "metadata": {
    "ExecuteTime": {
     "end_time": "2018-08-04T19:14:23.549107Z",
     "start_time": "2018-08-04T19:14:23.201734Z"
    },
    "collapsed": true,
    "scrolled": true
   },
   "outputs": [],
   "source": [
    "variables = [\"name\", \"intron\", \"missense\", \"near-gene\", \"ncRNA\", \"coding-synon\", \"untranslated\", \"nonsense\", \"splice\", \"frameshift\", \"cds-indel\", \"stop-loss\"]\n",
    "dummy = pd.read_csv(\"../data/interim/dbsnp150_humsavar_funcDummie.tsv\", sep=\"\\t\")\n",
    "dummy = dummy[variables].rename(columns={\"name\":\"dbSNP\"}).drop_duplicates(subset=\"dbSNP\")\n",
    "hum_final = hum_final.merge(dummy, on=\"dbSNP\", how=\"left\")"
   ]
  },
  {
   "cell_type": "markdown",
   "metadata": {},
   "source": [
    "## Create Train Test Sets"
   ]
  },
  {
   "cell_type": "code",
   "execution_count": 54,
   "metadata": {
    "ExecuteTime": {
     "end_time": "2018-08-04T19:14:25.564807Z",
     "start_time": "2018-08-04T19:14:25.552068Z"
    },
    "collapsed": true
   },
   "outputs": [],
   "source": [
    "hum_final.columns = hum_final.columns.str.upper()"
   ]
  },
  {
   "cell_type": "code",
   "execution_count": 55,
   "metadata": {
    "ExecuteTime": {
     "end_time": "2018-08-04T19:14:26.147960Z",
     "start_time": "2018-08-04T19:14:26.142176Z"
    }
   },
   "outputs": [
    {
     "data": {
      "text/plain": [
       "Index(['MUTANT', 'UID', 'POS', 'WILDTYPE', 'MUT', 'DBSNP', 'TYPE',\n",
       "       'PHYLOP46WAY', 'PHASTCONS46WAY', 'INTRON', 'MISSENSE', 'NEAR-GENE',\n",
       "       'NCRNA', 'CODING-SYNON', 'UNTRANSLATED', 'NONSENSE', 'SPLICE',\n",
       "       'FRAMESHIFT', 'CDS-INDEL', 'STOP-LOSS'],\n",
       "      dtype='object')"
      ]
     },
     "execution_count": 55,
     "metadata": {},
     "output_type": "execute_result"
    }
   ],
   "source": [
    "hum_final.columns"
   ]
  },
  {
   "cell_type": "code",
   "execution_count": 56,
   "metadata": {
    "ExecuteTime": {
     "end_time": "2018-08-04T19:14:27.254287Z",
     "start_time": "2018-08-04T19:14:27.224567Z"
    },
    "scrolled": true
   },
   "outputs": [
    {
     "data": {
      "text/plain": [
       "Polymorphism    39653\n",
       "Disease         28855\n",
       "Unclassified     7261\n",
       "Name: TYPE, dtype: int64"
      ]
     },
     "execution_count": 56,
     "metadata": {},
     "output_type": "execute_result"
    }
   ],
   "source": [
    "hum_final.TYPE.value_counts()"
   ]
  },
  {
   "cell_type": "code",
   "execution_count": 57,
   "metadata": {
    "ExecuteTime": {
     "end_time": "2018-08-04T19:14:31.467272Z",
     "start_time": "2018-08-04T19:14:29.847300Z"
    },
    "collapsed": true
   },
   "outputs": [],
   "source": [
    "hum_final.replace([np.inf,-np.inf], np.nan, inplace=True)\n",
    "hum_final.to_csv(\"../data/processed/genomic/humsavar_full_gt.csv.gz\", index=False, compression=\"gzip\")"
   ]
  },
  {
   "cell_type": "code",
   "execution_count": 58,
   "metadata": {
    "ExecuteTime": {
     "end_time": "2018-08-04T19:14:32.498189Z",
     "start_time": "2018-08-04T19:14:32.481006Z"
    }
   },
   "outputs": [
    {
     "data": {
      "text/plain": [
       "(20,)"
      ]
     },
     "execution_count": 58,
     "metadata": {},
     "output_type": "execute_result"
    }
   ],
   "source": [
    "hum_final.columns.shape"
   ]
  },
  {
   "cell_type": "code",
   "execution_count": 59,
   "metadata": {
    "ExecuteTime": {
     "end_time": "2018-08-04T19:14:33.312280Z",
     "start_time": "2018-08-04T19:14:33.062891Z"
    },
    "collapsed": true
   },
   "outputs": [],
   "source": [
    "hum_final = pd.read_csv(\"../data/processed/genomic/humsavar_full_gt.csv.gz\")"
   ]
  },
  {
   "cell_type": "code",
   "execution_count": 60,
   "metadata": {
    "ExecuteTime": {
     "end_time": "2018-08-04T19:14:34.047830Z",
     "start_time": "2018-08-04T19:14:34.037157Z"
    }
   },
   "outputs": [
    {
     "data": {
      "text/plain": [
       "(75769, 20)"
      ]
     },
     "execution_count": 60,
     "metadata": {},
     "output_type": "execute_result"
    }
   ],
   "source": [
    "hum_final.shape"
   ]
  },
  {
   "cell_type": "code",
   "execution_count": 61,
   "metadata": {
    "ExecuteTime": {
     "end_time": "2018-08-04T19:14:35.215911Z",
     "start_time": "2018-08-04T19:14:35.145724Z"
    }
   },
   "outputs": [
    {
     "data": {
      "text/plain": [
       "MUTANT                0\n",
       "UID                   0\n",
       "POS                   0\n",
       "WILDTYPE              0\n",
       "MUT                   0\n",
       "DBSNP             17590\n",
       "TYPE                  0\n",
       "PHYLOP46WAY       18603\n",
       "PHASTCONS46WAY    18603\n",
       "INTRON            18136\n",
       "MISSENSE          18136\n",
       "NEAR-GENE         18136\n",
       "NCRNA             18136\n",
       "CODING-SYNON      18136\n",
       "UNTRANSLATED      18136\n",
       "NONSENSE          18136\n",
       "SPLICE            18136\n",
       "FRAMESHIFT        18136\n",
       "CDS-INDEL         18136\n",
       "STOP-LOSS         18136\n",
       "dtype: int64"
      ]
     },
     "execution_count": 61,
     "metadata": {},
     "output_type": "execute_result"
    }
   ],
   "source": [
    "hum_final.isnull().sum()"
   ]
  },
  {
   "cell_type": "code",
   "execution_count": 62,
   "metadata": {
    "ExecuteTime": {
     "end_time": "2018-08-04T19:14:39.169807Z",
     "start_time": "2018-08-04T19:14:39.112880Z"
    },
    "collapsed": true
   },
   "outputs": [],
   "source": [
    "hum_final.drop([\"UID\", \"POS\",\"DBSNP\", \"WILDTYPE\", \"MUT\"], axis=1, inplace=True)\n",
    "\n",
    "dataset = hum_final.set_index(\"MUTANT\")\n",
    "unclassified_index = dataset[dataset.TYPE == \"Unclassified\"].index\n",
    "dataset_disease_index = dataset[dataset.TYPE == \"Disease\"].index\n",
    "dataset_poly_index = dataset[dataset.TYPE == \"Polymorphism\"].index"
   ]
  },
  {
   "cell_type": "code",
   "execution_count": 63,
   "metadata": {
    "ExecuteTime": {
     "end_time": "2018-08-04T19:14:44.100148Z",
     "start_time": "2018-08-04T19:14:42.842882Z"
    },
    "collapsed": true
   },
   "outputs": [],
   "source": [
    "dataset.to_csv(\"../data/processed/genomic/dataset.csv.gz\", index=True, compression=\"gzip\")"
   ]
  },
  {
   "cell_type": "code",
   "execution_count": 64,
   "metadata": {
    "ExecuteTime": {
     "end_time": "2018-08-04T19:14:44.565870Z",
     "start_time": "2018-08-04T19:14:44.436873Z"
    }
   },
   "outputs": [
    {
     "data": {
      "text/html": [
       "<div>\n",
       "<table border=\"1\" class=\"dataframe\">\n",
       "  <thead>\n",
       "    <tr style=\"text-align: right;\">\n",
       "      <th></th>\n",
       "      <th>PHYLOP46WAY</th>\n",
       "      <th>PHASTCONS46WAY</th>\n",
       "      <th>INTRON</th>\n",
       "      <th>MISSENSE</th>\n",
       "      <th>NEAR-GENE</th>\n",
       "      <th>NCRNA</th>\n",
       "      <th>CODING-SYNON</th>\n",
       "      <th>UNTRANSLATED</th>\n",
       "      <th>NONSENSE</th>\n",
       "      <th>SPLICE</th>\n",
       "      <th>FRAMESHIFT</th>\n",
       "      <th>CDS-INDEL</th>\n",
       "      <th>STOP-LOSS</th>\n",
       "    </tr>\n",
       "  </thead>\n",
       "  <tbody>\n",
       "    <tr>\n",
       "      <th>count</th>\n",
       "      <td>57166.000000</td>\n",
       "      <td>57166.000000</td>\n",
       "      <td>57633.000000</td>\n",
       "      <td>57633.000000</td>\n",
       "      <td>57633.000000</td>\n",
       "      <td>57633.000000</td>\n",
       "      <td>57633.000000</td>\n",
       "      <td>57633.000000</td>\n",
       "      <td>57633.000000</td>\n",
       "      <td>57633.000000</td>\n",
       "      <td>57633.000000</td>\n",
       "      <td>57633.000000</td>\n",
       "      <td>57633.000000</td>\n",
       "    </tr>\n",
       "    <tr>\n",
       "      <th>mean</th>\n",
       "      <td>2.197496</td>\n",
       "      <td>0.678389</td>\n",
       "      <td>0.136571</td>\n",
       "      <td>0.991099</td>\n",
       "      <td>0.060521</td>\n",
       "      <td>0.179029</td>\n",
       "      <td>0.020041</td>\n",
       "      <td>0.054170</td>\n",
       "      <td>0.005587</td>\n",
       "      <td>0.000486</td>\n",
       "      <td>0.000052</td>\n",
       "      <td>0.000069</td>\n",
       "      <td>0.000052</td>\n",
       "    </tr>\n",
       "    <tr>\n",
       "      <th>std</th>\n",
       "      <td>2.288608</td>\n",
       "      <td>0.435642</td>\n",
       "      <td>0.343397</td>\n",
       "      <td>0.093926</td>\n",
       "      <td>0.238451</td>\n",
       "      <td>0.383380</td>\n",
       "      <td>0.140140</td>\n",
       "      <td>0.226356</td>\n",
       "      <td>0.074538</td>\n",
       "      <td>0.022036</td>\n",
       "      <td>0.007215</td>\n",
       "      <td>0.008331</td>\n",
       "      <td>0.007215</td>\n",
       "    </tr>\n",
       "    <tr>\n",
       "      <th>min</th>\n",
       "      <td>-8.217000</td>\n",
       "      <td>0.000000</td>\n",
       "      <td>0.000000</td>\n",
       "      <td>0.000000</td>\n",
       "      <td>0.000000</td>\n",
       "      <td>0.000000</td>\n",
       "      <td>0.000000</td>\n",
       "      <td>0.000000</td>\n",
       "      <td>0.000000</td>\n",
       "      <td>0.000000</td>\n",
       "      <td>0.000000</td>\n",
       "      <td>0.000000</td>\n",
       "      <td>0.000000</td>\n",
       "    </tr>\n",
       "    <tr>\n",
       "      <th>25%</th>\n",
       "      <td>0.316000</td>\n",
       "      <td>0.070000</td>\n",
       "      <td>0.000000</td>\n",
       "      <td>1.000000</td>\n",
       "      <td>0.000000</td>\n",
       "      <td>0.000000</td>\n",
       "      <td>0.000000</td>\n",
       "      <td>0.000000</td>\n",
       "      <td>0.000000</td>\n",
       "      <td>0.000000</td>\n",
       "      <td>0.000000</td>\n",
       "      <td>0.000000</td>\n",
       "      <td>0.000000</td>\n",
       "    </tr>\n",
       "    <tr>\n",
       "      <th>50%</th>\n",
       "      <td>1.888000</td>\n",
       "      <td>0.996000</td>\n",
       "      <td>0.000000</td>\n",
       "      <td>1.000000</td>\n",
       "      <td>0.000000</td>\n",
       "      <td>0.000000</td>\n",
       "      <td>0.000000</td>\n",
       "      <td>0.000000</td>\n",
       "      <td>0.000000</td>\n",
       "      <td>0.000000</td>\n",
       "      <td>0.000000</td>\n",
       "      <td>0.000000</td>\n",
       "      <td>0.000000</td>\n",
       "    </tr>\n",
       "    <tr>\n",
       "      <th>75%</th>\n",
       "      <td>4.273000</td>\n",
       "      <td>1.000000</td>\n",
       "      <td>0.000000</td>\n",
       "      <td>1.000000</td>\n",
       "      <td>0.000000</td>\n",
       "      <td>0.000000</td>\n",
       "      <td>0.000000</td>\n",
       "      <td>0.000000</td>\n",
       "      <td>0.000000</td>\n",
       "      <td>0.000000</td>\n",
       "      <td>0.000000</td>\n",
       "      <td>0.000000</td>\n",
       "      <td>0.000000</td>\n",
       "    </tr>\n",
       "    <tr>\n",
       "      <th>max</th>\n",
       "      <td>6.424000</td>\n",
       "      <td>1.000000</td>\n",
       "      <td>1.000000</td>\n",
       "      <td>1.000000</td>\n",
       "      <td>1.000000</td>\n",
       "      <td>1.000000</td>\n",
       "      <td>1.000000</td>\n",
       "      <td>1.000000</td>\n",
       "      <td>1.000000</td>\n",
       "      <td>1.000000</td>\n",
       "      <td>1.000000</td>\n",
       "      <td>1.000000</td>\n",
       "      <td>1.000000</td>\n",
       "    </tr>\n",
       "  </tbody>\n",
       "</table>\n",
       "</div>"
      ],
      "text/plain": [
       "        PHYLOP46WAY  PHASTCONS46WAY        INTRON      MISSENSE     NEAR-GENE  \\\n",
       "count  57166.000000    57166.000000  57633.000000  57633.000000  57633.000000   \n",
       "mean       2.197496        0.678389      0.136571      0.991099      0.060521   \n",
       "std        2.288608        0.435642      0.343397      0.093926      0.238451   \n",
       "min       -8.217000        0.000000      0.000000      0.000000      0.000000   \n",
       "25%        0.316000        0.070000      0.000000      1.000000      0.000000   \n",
       "50%        1.888000        0.996000      0.000000      1.000000      0.000000   \n",
       "75%        4.273000        1.000000      0.000000      1.000000      0.000000   \n",
       "max        6.424000        1.000000      1.000000      1.000000      1.000000   \n",
       "\n",
       "              NCRNA  CODING-SYNON  UNTRANSLATED      NONSENSE        SPLICE  \\\n",
       "count  57633.000000  57633.000000  57633.000000  57633.000000  57633.000000   \n",
       "mean       0.179029      0.020041      0.054170      0.005587      0.000486   \n",
       "std        0.383380      0.140140      0.226356      0.074538      0.022036   \n",
       "min        0.000000      0.000000      0.000000      0.000000      0.000000   \n",
       "25%        0.000000      0.000000      0.000000      0.000000      0.000000   \n",
       "50%        0.000000      0.000000      0.000000      0.000000      0.000000   \n",
       "75%        0.000000      0.000000      0.000000      0.000000      0.000000   \n",
       "max        1.000000      1.000000      1.000000      1.000000      1.000000   \n",
       "\n",
       "         FRAMESHIFT     CDS-INDEL     STOP-LOSS  \n",
       "count  57633.000000  57633.000000  57633.000000  \n",
       "mean       0.000052      0.000069      0.000052  \n",
       "std        0.007215      0.008331      0.007215  \n",
       "min        0.000000      0.000000      0.000000  \n",
       "25%        0.000000      0.000000      0.000000  \n",
       "50%        0.000000      0.000000      0.000000  \n",
       "75%        0.000000      0.000000      0.000000  \n",
       "max        1.000000      1.000000      1.000000  "
      ]
     },
     "execution_count": 64,
     "metadata": {},
     "output_type": "execute_result"
    }
   ],
   "source": [
    "hum_final.describe()"
   ]
  },
  {
   "cell_type": "code",
   "execution_count": 65,
   "metadata": {
    "ExecuteTime": {
     "end_time": "2018-08-04T19:14:45.362674Z",
     "start_time": "2018-08-04T19:14:45.358383Z"
    }
   },
   "outputs": [
    {
     "data": {
      "text/plain": [
       "(75769, 15)"
      ]
     },
     "execution_count": 65,
     "metadata": {},
     "output_type": "execute_result"
    }
   ],
   "source": [
    "hum_final.shape"
   ]
  },
  {
   "cell_type": "code",
   "execution_count": 66,
   "metadata": {
    "ExecuteTime": {
     "end_time": "2018-08-04T19:14:47.213980Z",
     "start_time": "2018-08-04T19:14:47.194582Z"
    }
   },
   "outputs": [
    {
     "data": {
      "text/plain": [
       "Polymorphism    39653\n",
       "Disease         28855\n",
       "Unclassified     7261\n",
       "Name: TYPE, dtype: int64"
      ]
     },
     "execution_count": 66,
     "metadata": {},
     "output_type": "execute_result"
    }
   ],
   "source": [
    "hum_final.TYPE.value_counts()"
   ]
  },
  {
   "cell_type": "markdown",
   "metadata": {},
   "source": [
    "### Multiple Train Tests"
   ]
  },
  {
   "cell_type": "code",
   "execution_count": null,
   "metadata": {
    "ExecuteTime": {
     "end_time": "2018-05-05T23:09:12.611142Z",
     "start_time": "2018-05-05T23:07:16.244111Z"
    },
    "collapsed": true,
    "deletable": false,
    "editable": false
   },
   "outputs": [],
   "source": [
    "for i in range(20):\n",
    "    train = pd.concat([\n",
    "        dataset.loc[dataset_disease_index].sample(n=25000, random_state=i),\n",
    "        dataset.loc[dataset_poly_index].sample(n=25000, random_state=i)\n",
    "    ]).sample(frac=1)\n",
    "    \n",
    "    test = pd.concat([\n",
    "        dataset.loc[dataset_disease_index.difference(train.index)].sample(n=3855, random_state=i),\n",
    "        dataset.loc[dataset_poly_index.difference(train.index)].sample(n=14653, random_state=i)\n",
    "    ]).sample(frac=1)\n",
    "    train.to_csv(\"../data/processed/3/train_test_sets/train_{}.csv\".format(i), index=True, index_label=\"MUTANT\")\n",
    "    test.to_csv(\"../data/processed/3/train_test_sets/test_{}.csv\".format(i), index=True, index_label=\"MUTANT\")"
   ]
  },
  {
   "cell_type": "code",
   "execution_count": null,
   "metadata": {
    "collapsed": true
   },
   "outputs": [],
   "source": []
  }
 ],
 "metadata": {
  "kernelspec": {
   "display_name": "Python 3",
   "language": "python",
   "name": "python3"
  },
  "language_info": {
   "codemirror_mode": {
    "name": "ipython",
    "version": 3
   },
   "file_extension": ".py",
   "mimetype": "text/x-python",
   "name": "python",
   "nbconvert_exporter": "python",
   "pygments_lexer": "ipython3",
   "version": "3.6.3"
  },
  "varInspector": {
   "cols": {
    "lenName": 16,
    "lenType": 16,
    "lenVar": 40
   },
   "kernels_config": {
    "python": {
     "delete_cmd_postfix": "",
     "delete_cmd_prefix": "del ",
     "library": "var_list.py",
     "varRefreshCmd": "print(var_dic_list())"
    },
    "r": {
     "delete_cmd_postfix": ") ",
     "delete_cmd_prefix": "rm(",
     "library": "var_list.r",
     "varRefreshCmd": "cat(var_dic_list()) "
    }
   },
   "oldHeight": 221,
   "position": {
    "height": "243px",
    "left": "1040px",
    "right": "20px",
    "top": "214px",
    "width": "414px"
   },
   "types_to_exclude": [
    "module",
    "function",
    "builtin_function_or_method",
    "instance",
    "_Feature"
   ],
   "varInspector_section_display": "block",
   "window_display": false
  }
 },
 "nbformat": 4,
 "nbformat_minor": 2
}
