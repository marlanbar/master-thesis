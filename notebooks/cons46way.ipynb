{
 "cells": [
  {
   "cell_type": "code",
   "execution_count": 80,
   "metadata": {},
   "outputs": [],
   "source": [
    "import pandas as pd\n",
    "from time import time\n",
    "from glob import glob"
   ]
  },
  {
   "cell_type": "code",
   "execution_count": 2,
   "metadata": {},
   "outputs": [],
   "source": [
    "cons = pd.read_csv(\"../data/external/cons46way/phastConsElements46wayPrimates.csv\")"
   ]
  },
  {
   "cell_type": "code",
   "execution_count": 70,
   "metadata": {},
   "outputs": [
    {
     "data": {
      "text/plain": [
       "(66907, 6)"
      ]
     },
     "execution_count": 70,
     "metadata": {},
     "output_type": "execute_result"
    }
   ],
   "source": [
    "cons[cons.chrom == \"chr1\"].shape"
   ]
  },
  {
   "cell_type": "code",
   "execution_count": 56,
   "metadata": {},
   "outputs": [],
   "source": [
    "dataset = pd.read_csv(\"../data/processed/humsavar_protparam_gt.tab.gz\", sep=\"\\t\", usecols=[\"MUTANT\"]).squeeze() \\\n",
    "            .str.split(\"-\").apply(lambda x: x[0])"
   ]
  },
  {
   "cell_type": "code",
   "execution_count": 61,
   "metadata": {},
   "outputs": [],
   "source": [
    "hum_clean = pd.read_csv(\"../data/interim/humsavar_clean_201711.csv.gz\")\n",
    "hum_clean = hum_clean[hum_clean[\"Swiss Prot AC\"].isin(dataset)]\n",
    "hum_clean = hum_clean[~hum_clean.dbSNP.isnull()]\n",
    "hum_clean = hum_clean[[\"dbSNP\"]]"
   ]
  },
  {
   "cell_type": "code",
   "execution_count": 62,
   "metadata": {},
   "outputs": [],
   "source": [
    "dbsnp = pd.read_csv(\"../data/external/cons46way/dbsnp.csv.gz\")"
   ]
  },
  {
   "cell_type": "code",
   "execution_count": 63,
   "metadata": {},
   "outputs": [],
   "source": [
    "hum_clean = hum_clean.merge(dbsnp, right_on=\"name\", left_on=\"dbSNP\", how=\"left\")"
   ]
  },
  {
   "cell_type": "code",
   "execution_count": 67,
   "metadata": {},
   "outputs": [],
   "source": [
    "%xdel dbsnp"
   ]
  },
  {
   "cell_type": "code",
   "execution_count": 64,
   "metadata": {},
   "outputs": [],
   "source": [
    "hum_clean = hum_clean[(hum_clean.chromEnd - hum_clean.chromStart == 1)]"
   ]
  },
  {
   "cell_type": "code",
   "execution_count": 66,
   "metadata": {},
   "outputs": [],
   "source": [
    "hum_clean = hum_clean[[\"dbSNP\", \"chrom\", \"chromStart\", \"chromEnd\"]]"
   ]
  },
  {
   "cell_type": "code",
   "execution_count": 79,
   "metadata": {},
   "outputs": [
    {
     "name": "stdout",
     "output_type": "stream",
     "text": [
      "Chromosome: chr2\n",
      "Time elapsed: 50.1989004611969s\n",
      "Chromosome: chr11\n",
      "Time elapsed: 3.3955438137054443s\n",
      "Chromosome: chr16\n",
      "Time elapsed: 1.0275089740753174s\n",
      "Chromosome: chr1\n",
      "Time elapsed: 15.910726070404053s\n",
      "Chromosome: chr18\n",
      "Time elapsed: 0.9041519165039062s\n",
      "Chromosome: chr10\n",
      "Time elapsed: 1.3800997734069824s\n",
      "Chromosome: chr17\n",
      "Time elapsed: 1.269038438796997s\n",
      "Chromosome: chr9\n",
      "Time elapsed: 1.5352327823638916s\n",
      "Chromosome: chr5\n",
      "Time elapsed: 2.4422969818115234s\n",
      "Chromosome: chr14\n",
      "Time elapsed: 1.4965333938598633s\n",
      "Chromosome: chr7\n",
      "Time elapsed: 2.688612461090088s\n",
      "Chromosome: chr3\n",
      "Time elapsed: 6.544106483459473s\n",
      "Chromosome: chr4\n",
      "Time elapsed: 1.4155011177062988s\n",
      "Chromosome: chr20\n",
      "Time elapsed: 0.30748939514160156s\n",
      "Chromosome: chrX\n",
      "Time elapsed: 1.3936080932617188s\n",
      "Chromosome: chr6\n",
      "Time elapsed: 1.7238636016845703s\n",
      "Chromosome: chr19\n",
      "Time elapsed: 0.6064441204071045s\n",
      "Chromosome: chr15\n",
      "Time elapsed: 1.1361281871795654s\n",
      "Chromosome: chr8\n",
      "Time elapsed: 1.2732443809509277s\n",
      "Chromosome: chr22\n",
      "Time elapsed: 0.2596273422241211s\n",
      "Chromosome: chr12\n",
      "Time elapsed: 3.2039291858673096s\n",
      "Chromosome: chr13\n",
      "Time elapsed: 0.8936886787414551s\n",
      "Chromosome: chr6_dbb_hap3\n",
      "Time elapsed: 0.05530405044555664s\n",
      "Chromosome: chr6_qbl_hap6\n",
      "Time elapsed: 0.055409908294677734s\n",
      "Chromosome: chr6_ssto_hap7\n",
      "Time elapsed: 0.05594968795776367s\n",
      "Chromosome: chr6_mcf_hap5\n",
      "Time elapsed: 0.05464625358581543s\n",
      "Chromosome: chr21\n",
      "Time elapsed: 0.19419312477111816s\n",
      "Chromosome: chr6_cox_hap2\n",
      "Time elapsed: 0.06360864639282227s\n",
      "Chromosome: chr6_apd_hap1\n",
      "Time elapsed: 0.055730581283569336s\n",
      "Chromosome: chr6_mann_hap4\n",
      "Time elapsed: 0.054589033126831055s\n",
      "Chromosome: chrY\n",
      "Time elapsed: 0.059296369552612305s\n"
     ]
    }
   ],
   "source": [
    "for chrom in hum_clean.chrom.unique():\n",
    "    timeInit = time()\n",
    "    print(\"Chromosome: {}\".format(chrom))\n",
    "    cons_filtered = cons[cons.chrom == chrom]\n",
    "    hum_clean_filtered = hum_clean[hum_clean.chrom == chrom]\n",
    "    merging_chrom = cons_filtered.merge(hum_clean_filtered, on=\"chrom\")\n",
    "    merging_chrom = merging_chrom[(merging_chrom.chromStart_y >= merging_chrom.chromStart_x) &\n",
    "                                 (merging_chrom.chromEnd_y <= merging_chrom.chromEnd_x)]\n",
    "    merging_chrom.to_csv(\"../data/interim/chrom/{}.csv\".format(chrom), index=False)\n",
    "    timeEnd = time()\n",
    "    print(\"Time elapsed: {}s\".format(timeEnd - timeInit))"
   ]
  },
  {
   "cell_type": "code",
   "execution_count": 83,
   "metadata": {},
   "outputs": [],
   "source": [
    "res = []\n",
    "for f in glob(\"../data/interim/chrom/*\"):\n",
    "    df = pd.read_csv(f)\n",
    "    res.append(df)\n",
    "res = pd.concat(res)"
   ]
  },
  {
   "cell_type": "code",
   "execution_count": 90,
   "metadata": {},
   "outputs": [],
   "source": [
    "res = res[[\"dbSNP\", \"score\"]]"
   ]
  },
  {
   "cell_type": "code",
   "execution_count": 91,
   "metadata": {},
   "outputs": [
    {
     "data": {
      "text/html": [
       "<div>\n",
       "<table border=\"1\" class=\"dataframe\">\n",
       "  <thead>\n",
       "    <tr style=\"text-align: right;\">\n",
       "      <th></th>\n",
       "      <th>dbSNP</th>\n",
       "      <th>score</th>\n",
       "    </tr>\n",
       "  </thead>\n",
       "  <tbody>\n",
       "    <tr>\n",
       "      <th>0</th>\n",
       "      <td>rs35609073</td>\n",
       "      <td>389.0</td>\n",
       "    </tr>\n",
       "    <tr>\n",
       "      <th>1</th>\n",
       "      <td>rs34953021</td>\n",
       "      <td>342.0</td>\n",
       "    </tr>\n",
       "    <tr>\n",
       "      <th>2</th>\n",
       "      <td>rs774996232</td>\n",
       "      <td>347.0</td>\n",
       "    </tr>\n",
       "    <tr>\n",
       "      <th>3</th>\n",
       "      <td>rs758268804</td>\n",
       "      <td>347.0</td>\n",
       "    </tr>\n",
       "    <tr>\n",
       "      <th>4</th>\n",
       "      <td>rs34872409</td>\n",
       "      <td>337.0</td>\n",
       "    </tr>\n",
       "  </tbody>\n",
       "</table>\n",
       "</div>"
      ],
      "text/plain": [
       "         dbSNP  score\n",
       "0   rs35609073  389.0\n",
       "1   rs34953021  342.0\n",
       "2  rs774996232  347.0\n",
       "3  rs758268804  347.0\n",
       "4   rs34872409  337.0"
      ]
     },
     "execution_count": 91,
     "metadata": {},
     "output_type": "execute_result"
    }
   ],
   "source": [
    "res.head()"
   ]
  },
  {
   "cell_type": "code",
   "execution_count": 97,
   "metadata": {},
   "outputs": [],
   "source": [
    "for e, group in enumerate(res[res.dbSNP.duplicated(keep=False)].groupby(\"dbSNP\")[\"score\"]):\n",
    "    if group[1].value_counts().shape[0] != 1:\n",
    "        print(\"ERROR!\")"
   ]
  },
  {
   "cell_type": "code",
   "execution_count": 98,
   "metadata": {},
   "outputs": [],
   "source": [
    "res.drop_duplicates(inplace=True)"
   ]
  },
  {
   "cell_type": "code",
   "execution_count": 100,
   "metadata": {},
   "outputs": [
    {
     "data": {
      "text/plain": [
       "(5365, 2)"
      ]
     },
     "execution_count": 100,
     "metadata": {},
     "output_type": "execute_result"
    }
   ],
   "source": [
    "res.shape"
   ]
  },
  {
   "cell_type": "code",
   "execution_count": 101,
   "metadata": {},
   "outputs": [],
   "source": [
    "res.to_csv(\"../data/interim/cons46way.csv\", index=False)"
   ]
  },
  {
   "cell_type": "code",
   "execution_count": null,
   "metadata": {},
   "outputs": [],
   "source": []
  }
 ],
 "metadata": {
  "kernelspec": {
   "display_name": "Python 2",
   "language": "python",
   "name": "python2"
  },
  "language_info": {
   "codemirror_mode": {
    "name": "ipython",
    "version": 2
   },
   "file_extension": ".py",
   "mimetype": "text/x-python",
   "name": "python",
   "nbconvert_exporter": "python",
   "pygments_lexer": "ipython2",
   "version": "2.7.6"
  }
 },
 "nbformat": 4,
 "nbformat_minor": 2
}
