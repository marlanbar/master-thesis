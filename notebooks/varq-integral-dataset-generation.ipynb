{
 "cells": [
  {
   "cell_type": "code",
   "execution_count": 1,
   "metadata": {
    "ExecuteTime": {
     "end_time": "2019-01-14T00:19:01.098387Z",
     "start_time": "2019-01-14T00:19:00.453336Z"
    },
    "collapsed": true
   },
   "outputs": [],
   "source": [
    "import pandas as pd\n",
    "import matplotlib.pyplot as plt\n",
    "import seaborn as sns\n",
    "import numpy as np\n",
    "\n",
    "from IPython.core.pylabtools import figsize \n",
    "%matplotlib inline"
   ]
  },
  {
   "cell_type": "code",
   "execution_count": 3,
   "metadata": {
    "ExecuteTime": {
     "end_time": "2019-01-14T00:19:09.836518Z",
     "start_time": "2019-01-14T00:19:09.088407Z"
    }
   },
   "outputs": [],
   "source": [
    "integral = pd.read_csv(\"../data/processed/integral/dataset.csv.gz\", index_col=\"MUTANT\").drop(\"TYPE\", 1)\n",
    "\n",
    "# genomic = pd.read_csv(\"../data/processed/genomic/dataset.csv.gz\", index_col='MUTANT').drop(\"TYPE\", 1)\n",
    "varq = pd.read_csv(\"../data/processed/varq/dataset.csv.gz\", index_col=\"MUTANT\")\n",
    "\n",
    "full = varq.merge(integral, right_index=True, left_index=True, how=\"left\")"
   ]
  },
  {
   "cell_type": "code",
   "execution_count": 4,
   "metadata": {
    "ExecuteTime": {
     "end_time": "2019-01-14T00:25:06.292327Z",
     "start_time": "2019-01-14T00:25:06.275285Z"
    }
   },
   "outputs": [
    {
     "data": {
      "text/plain": [
       "(68508, 63)"
      ]
     },
     "execution_count": 4,
     "metadata": {},
     "output_type": "execute_result"
    }
   ],
   "source": [
    "integral.shape"
   ]
  },
  {
   "cell_type": "code",
   "execution_count": 5,
   "metadata": {
    "ExecuteTime": {
     "end_time": "2019-01-14T00:25:14.514390Z",
     "start_time": "2019-01-14T00:25:14.497541Z"
    }
   },
   "outputs": [
    {
     "data": {
      "text/plain": [
       "(7418, 10)"
      ]
     },
     "execution_count": 5,
     "metadata": {},
     "output_type": "execute_result"
    }
   ],
   "source": [
    "varq.shape"
   ]
  },
  {
   "cell_type": "code",
   "execution_count": 6,
   "metadata": {
    "ExecuteTime": {
     "end_time": "2019-01-14T00:25:35.300157Z",
     "start_time": "2019-01-14T00:25:35.288026Z"
    }
   },
   "outputs": [
    {
     "data": {
      "text/plain": [
       "(7418, 73)"
      ]
     },
     "execution_count": 6,
     "metadata": {},
     "output_type": "execute_result"
    }
   ],
   "source": [
    "full.shape"
   ]
  },
  {
   "cell_type": "code",
   "execution_count": 9,
   "metadata": {
    "ExecuteTime": {
     "end_time": "2019-01-14T00:27:56.528308Z",
     "start_time": "2019-01-14T00:27:56.497957Z"
    }
   },
   "outputs": [
    {
     "data": {
      "text/plain": [
       "(774, 10)"
      ]
     },
     "execution_count": 9,
     "metadata": {},
     "output_type": "execute_result"
    }
   ],
   "source": [
    "varq[~varq.index.isin(integral.index)].shape"
   ]
  },
  {
   "cell_type": "code",
   "execution_count": null,
   "metadata": {
    "collapsed": true
   },
   "outputs": [],
   "source": []
  }
 ],
 "metadata": {
  "kernelspec": {
   "display_name": "Python 3",
   "language": "python",
   "name": "python3"
  },
  "language_info": {
   "codemirror_mode": {
    "name": "ipython",
    "version": 3
   },
   "file_extension": ".py",
   "mimetype": "text/x-python",
   "name": "python",
   "nbconvert_exporter": "python",
   "pygments_lexer": "ipython3",
   "version": "3.6.6"
  },
  "varInspector": {
   "cols": {
    "lenName": 16,
    "lenType": 16,
    "lenVar": 40
   },
   "kernels_config": {
    "python": {
     "delete_cmd_postfix": "",
     "delete_cmd_prefix": "del ",
     "library": "var_list.py",
     "varRefreshCmd": "print(var_dic_list())"
    },
    "r": {
     "delete_cmd_postfix": ") ",
     "delete_cmd_prefix": "rm(",
     "library": "var_list.r",
     "varRefreshCmd": "cat(var_dic_list()) "
    }
   },
   "types_to_exclude": [
    "module",
    "function",
    "builtin_function_or_method",
    "instance",
    "_Feature"
   ],
   "window_display": false
  }
 },
 "nbformat": 4,
 "nbformat_minor": 2
}
