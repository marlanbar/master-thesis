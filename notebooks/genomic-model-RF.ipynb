{
 "cells": [
  {
   "cell_type": "code",
   "execution_count": 1,
   "metadata": {
    "ExecuteTime": {
     "end_time": "2018-08-04T19:05:34.313604Z",
     "start_time": "2018-08-04T19:05:31.957818Z"
    },
    "collapsed": true
   },
   "outputs": [],
   "source": [
    "import operator\n",
    "import pandas as pd\n",
    "import matplotlib.pyplot as plt\n",
    "import seaborn as sns\n",
    "import numpy as np\n",
    "\n",
    "from sklearn import feature_selection\n",
    "from sklearn.base import BaseEstimator, TransformerMixin\n",
    "from sklearn.ensemble import RandomForestClassifier, AdaBoostClassifier\n",
    "from sklearn.ensemble import GradientBoostingClassifier\n",
    "from sklearn.linear_model import LogisticRegression\n",
    "from sklearn.svm import SVC\n",
    "\n",
    "from sklearn.pipeline import Pipeline, make_pipeline\n",
    "from sklearn.pipeline import FeatureUnion\n",
    "from sklearn.preprocessing import StandardScaler, RobustScaler, Imputer, LabelEncoder\n",
    "from sklearn.model_selection import GridSearchCV, RandomizedSearchCV, train_test_split, StratifiedKFold\n",
    "from sklearn.metrics import confusion_matrix, classification_report, roc_curve, auc\n",
    "from sklearn.metrics import accuracy_score, f1_score, roc_auc_score\n",
    "\n",
    "from IPython.core.pylabtools import figsize \n",
    "%matplotlib inline"
   ]
  },
  {
   "cell_type": "code",
   "execution_count": 2,
   "metadata": {
    "ExecuteTime": {
     "end_time": "2018-08-04T19:05:34.334139Z",
     "start_time": "2018-08-04T19:05:34.327814Z"
    },
    "collapsed": true
   },
   "outputs": [],
   "source": [
    "class ItemSelector(BaseEstimator, TransformerMixin):\n",
    "    \"\"\"For data grouped by feature, select subset of data at a provided key.\n",
    "\n",
    "    The data is expected to be stored in a 2D data structure, where the first\n",
    "    index is over features and the second is over samples.  i.e.\n",
    "\n",
    "    >> len(data[key]) == n_samples\n",
    "\n",
    "    Please note that this is the opposite convention to scikit-learn feature\n",
    "    matrixes (where the first index corresponds to sample).\n",
    "\n",
    "    ItemSelector only requires that the collection implement getitem\n",
    "    (data[key]).  Examples include: a dict of lists, 2D numpy array, Pandas\n",
    "    DataFrame, numpy record array, etc.\n",
    "\n",
    "    >> data = {'a': [1, 5, 2, 5, 2, 8],\n",
    "               'b': [9, 4, 1, 4, 1, 3]}\n",
    "    >> ds = ItemSelector(key='a')\n",
    "    >> data['a'] == ds.transform(data)\n",
    "\n",
    "    ItemSelector is not designed to handle data grouped by sample.  (e.g. a\n",
    "    list of dicts).  If your data is structured this way, consider a\n",
    "    transformer along the lines of `sklearn.feature_extraction.DictVectorizer`.\n",
    "\n",
    "    Parameters\n",
    "    ----------\n",
    "    key : hashable, required\n",
    "        The key corresponding to the desired value in a mappable.\n",
    "    \"\"\"\n",
    "    def __init__(self, key):\n",
    "        self.key = key\n",
    "\n",
    "    def fit(self, x, y=None):\n",
    "        return self\n",
    "\n",
    "    def transform(self, data_dict):\n",
    "        return data_dict[self.key]"
   ]
  },
  {
   "cell_type": "code",
   "execution_count": 3,
   "metadata": {
    "ExecuteTime": {
     "end_time": "2018-08-04T19:05:34.362565Z",
     "start_time": "2018-08-04T19:05:34.347875Z"
    },
    "collapsed": true
   },
   "outputs": [],
   "source": [
    "RANDOM_STATE = 42"
   ]
  },
  {
   "cell_type": "code",
   "execution_count": 36,
   "metadata": {
    "ExecuteTime": {
     "end_time": "2018-08-04T19:14:52.779290Z",
     "start_time": "2018-08-04T19:14:52.595842Z"
    },
    "collapsed": true
   },
   "outputs": [],
   "source": [
    "genomic_dataset = pd.read_csv(\"../data/processed/genomic/dataset.csv.gz\", index_col=\"MUTANT\")\n",
    "genomic_dataset = genomic_dataset[genomic_dataset.TYPE != \"Unclassified\"]"
   ]
  },
  {
   "cell_type": "code",
   "execution_count": 37,
   "metadata": {
    "ExecuteTime": {
     "end_time": "2018-08-04T19:14:53.463001Z",
     "start_time": "2018-08-04T19:14:53.438895Z"
    }
   },
   "outputs": [
    {
     "data": {
      "text/plain": [
       "Index(['TYPE', 'PHYLOP46WAY', 'PHASTCONS46WAY', 'INTRON', 'MISSENSE',\n",
       "       'NEAR-GENE', 'NCRNA', 'CODING-SYNON', 'UNTRANSLATED', 'NONSENSE',\n",
       "       'SPLICE', 'FRAMESHIFT', 'CDS-INDEL', 'STOP-LOSS'],\n",
       "      dtype='object')"
      ]
     },
     "execution_count": 37,
     "metadata": {},
     "output_type": "execute_result"
    }
   ],
   "source": [
    "genomic_dataset.columns"
   ]
  },
  {
   "cell_type": "code",
   "execution_count": 38,
   "metadata": {
    "ExecuteTime": {
     "end_time": "2018-08-04T19:14:54.544554Z",
     "start_time": "2018-08-04T19:14:54.385185Z"
    }
   },
   "outputs": [
    {
     "data": {
      "text/html": [
       "<div>\n",
       "<table border=\"1\" class=\"dataframe\">\n",
       "  <thead>\n",
       "    <tr style=\"text-align: right;\">\n",
       "      <th></th>\n",
       "      <th>PHYLOP46WAY</th>\n",
       "      <th>PHASTCONS46WAY</th>\n",
       "      <th>INTRON</th>\n",
       "      <th>MISSENSE</th>\n",
       "      <th>NEAR-GENE</th>\n",
       "      <th>NCRNA</th>\n",
       "      <th>CODING-SYNON</th>\n",
       "      <th>UNTRANSLATED</th>\n",
       "      <th>NONSENSE</th>\n",
       "      <th>SPLICE</th>\n",
       "      <th>FRAMESHIFT</th>\n",
       "      <th>CDS-INDEL</th>\n",
       "      <th>STOP-LOSS</th>\n",
       "    </tr>\n",
       "  </thead>\n",
       "  <tbody>\n",
       "    <tr>\n",
       "      <th>count</th>\n",
       "      <td>54389.000000</td>\n",
       "      <td>54389.000000</td>\n",
       "      <td>54849.000000</td>\n",
       "      <td>54849.000000</td>\n",
       "      <td>54849.000000</td>\n",
       "      <td>54849.000000</td>\n",
       "      <td>54849.000000</td>\n",
       "      <td>54849.000000</td>\n",
       "      <td>54849.000000</td>\n",
       "      <td>54849.000000</td>\n",
       "      <td>54849.000000</td>\n",
       "      <td>54849.000000</td>\n",
       "      <td>54849.000000</td>\n",
       "    </tr>\n",
       "    <tr>\n",
       "      <th>mean</th>\n",
       "      <td>2.159356</td>\n",
       "      <td>0.671400</td>\n",
       "      <td>0.136101</td>\n",
       "      <td>0.990684</td>\n",
       "      <td>0.060730</td>\n",
       "      <td>0.174114</td>\n",
       "      <td>0.020092</td>\n",
       "      <td>0.053547</td>\n",
       "      <td>0.005397</td>\n",
       "      <td>0.000510</td>\n",
       "      <td>0.000055</td>\n",
       "      <td>0.000055</td>\n",
       "      <td>0.000055</td>\n",
       "    </tr>\n",
       "    <tr>\n",
       "      <th>std</th>\n",
       "      <td>2.291084</td>\n",
       "      <td>0.438167</td>\n",
       "      <td>0.342899</td>\n",
       "      <td>0.096072</td>\n",
       "      <td>0.238837</td>\n",
       "      <td>0.379211</td>\n",
       "      <td>0.140315</td>\n",
       "      <td>0.225124</td>\n",
       "      <td>0.073264</td>\n",
       "      <td>0.022589</td>\n",
       "      <td>0.007396</td>\n",
       "      <td>0.007396</td>\n",
       "      <td>0.007396</td>\n",
       "    </tr>\n",
       "    <tr>\n",
       "      <th>min</th>\n",
       "      <td>-8.217000</td>\n",
       "      <td>0.000000</td>\n",
       "      <td>0.000000</td>\n",
       "      <td>0.000000</td>\n",
       "      <td>0.000000</td>\n",
       "      <td>0.000000</td>\n",
       "      <td>0.000000</td>\n",
       "      <td>0.000000</td>\n",
       "      <td>0.000000</td>\n",
       "      <td>0.000000</td>\n",
       "      <td>0.000000</td>\n",
       "      <td>0.000000</td>\n",
       "      <td>0.000000</td>\n",
       "    </tr>\n",
       "    <tr>\n",
       "      <th>25%</th>\n",
       "      <td>0.287000</td>\n",
       "      <td>0.056000</td>\n",
       "      <td>0.000000</td>\n",
       "      <td>1.000000</td>\n",
       "      <td>0.000000</td>\n",
       "      <td>0.000000</td>\n",
       "      <td>0.000000</td>\n",
       "      <td>0.000000</td>\n",
       "      <td>0.000000</td>\n",
       "      <td>0.000000</td>\n",
       "      <td>0.000000</td>\n",
       "      <td>0.000000</td>\n",
       "      <td>0.000000</td>\n",
       "    </tr>\n",
       "    <tr>\n",
       "      <th>50%</th>\n",
       "      <td>1.816000</td>\n",
       "      <td>0.995000</td>\n",
       "      <td>0.000000</td>\n",
       "      <td>1.000000</td>\n",
       "      <td>0.000000</td>\n",
       "      <td>0.000000</td>\n",
       "      <td>0.000000</td>\n",
       "      <td>0.000000</td>\n",
       "      <td>0.000000</td>\n",
       "      <td>0.000000</td>\n",
       "      <td>0.000000</td>\n",
       "      <td>0.000000</td>\n",
       "      <td>0.000000</td>\n",
       "    </tr>\n",
       "    <tr>\n",
       "      <th>75%</th>\n",
       "      <td>4.235000</td>\n",
       "      <td>1.000000</td>\n",
       "      <td>0.000000</td>\n",
       "      <td>1.000000</td>\n",
       "      <td>0.000000</td>\n",
       "      <td>0.000000</td>\n",
       "      <td>0.000000</td>\n",
       "      <td>0.000000</td>\n",
       "      <td>0.000000</td>\n",
       "      <td>0.000000</td>\n",
       "      <td>0.000000</td>\n",
       "      <td>0.000000</td>\n",
       "      <td>0.000000</td>\n",
       "    </tr>\n",
       "    <tr>\n",
       "      <th>max</th>\n",
       "      <td>6.424000</td>\n",
       "      <td>1.000000</td>\n",
       "      <td>1.000000</td>\n",
       "      <td>1.000000</td>\n",
       "      <td>1.000000</td>\n",
       "      <td>1.000000</td>\n",
       "      <td>1.000000</td>\n",
       "      <td>1.000000</td>\n",
       "      <td>1.000000</td>\n",
       "      <td>1.000000</td>\n",
       "      <td>1.000000</td>\n",
       "      <td>1.000000</td>\n",
       "      <td>1.000000</td>\n",
       "    </tr>\n",
       "  </tbody>\n",
       "</table>\n",
       "</div>"
      ],
      "text/plain": [
       "        PHYLOP46WAY  PHASTCONS46WAY        INTRON      MISSENSE     NEAR-GENE  \\\n",
       "count  54389.000000    54389.000000  54849.000000  54849.000000  54849.000000   \n",
       "mean       2.159356        0.671400      0.136101      0.990684      0.060730   \n",
       "std        2.291084        0.438167      0.342899      0.096072      0.238837   \n",
       "min       -8.217000        0.000000      0.000000      0.000000      0.000000   \n",
       "25%        0.287000        0.056000      0.000000      1.000000      0.000000   \n",
       "50%        1.816000        0.995000      0.000000      1.000000      0.000000   \n",
       "75%        4.235000        1.000000      0.000000      1.000000      0.000000   \n",
       "max        6.424000        1.000000      1.000000      1.000000      1.000000   \n",
       "\n",
       "              NCRNA  CODING-SYNON  UNTRANSLATED      NONSENSE        SPLICE  \\\n",
       "count  54849.000000  54849.000000  54849.000000  54849.000000  54849.000000   \n",
       "mean       0.174114      0.020092      0.053547      0.005397      0.000510   \n",
       "std        0.379211      0.140315      0.225124      0.073264      0.022589   \n",
       "min        0.000000      0.000000      0.000000      0.000000      0.000000   \n",
       "25%        0.000000      0.000000      0.000000      0.000000      0.000000   \n",
       "50%        0.000000      0.000000      0.000000      0.000000      0.000000   \n",
       "75%        0.000000      0.000000      0.000000      0.000000      0.000000   \n",
       "max        1.000000      1.000000      1.000000      1.000000      1.000000   \n",
       "\n",
       "         FRAMESHIFT     CDS-INDEL     STOP-LOSS  \n",
       "count  54849.000000  54849.000000  54849.000000  \n",
       "mean       0.000055      0.000055      0.000055  \n",
       "std        0.007396      0.007396      0.007396  \n",
       "min        0.000000      0.000000      0.000000  \n",
       "25%        0.000000      0.000000      0.000000  \n",
       "50%        0.000000      0.000000      0.000000  \n",
       "75%        0.000000      0.000000      0.000000  \n",
       "max        1.000000      1.000000      1.000000  "
      ]
     },
     "execution_count": 38,
     "metadata": {},
     "output_type": "execute_result"
    }
   ],
   "source": [
    "genomic_dataset.describe()"
   ]
  },
  {
   "cell_type": "code",
   "execution_count": 39,
   "metadata": {
    "ExecuteTime": {
     "end_time": "2018-08-04T19:14:55.563303Z",
     "start_time": "2018-08-04T19:14:55.520321Z"
    }
   },
   "outputs": [
    {
     "data": {
      "text/plain": [
       "Polymorphism    39653\n",
       "Disease         28855\n",
       "Name: TYPE, dtype: int64"
      ]
     },
     "execution_count": 39,
     "metadata": {},
     "output_type": "execute_result"
    }
   ],
   "source": [
    "genomic_dataset.TYPE.value_counts()"
   ]
  },
  {
   "cell_type": "code",
   "execution_count": 40,
   "metadata": {
    "ExecuteTime": {
     "end_time": "2018-08-04T19:14:56.634076Z",
     "start_time": "2018-08-04T19:14:56.492808Z"
    },
    "collapsed": true
   },
   "outputs": [],
   "source": [
    "le = LabelEncoder()\n",
    "X = genomic_dataset[~genomic_dataset.TYPE.isnull()].drop(['TYPE'], 1)\n",
    "y = le.fit_transform(genomic_dataset[~genomic_dataset.TYPE.isnull()].TYPE)\n",
    "X_train, X_test, y_train, y_test = train_test_split(X, y, test_size=0.33, random_state=42, stratify=y)"
   ]
  },
  {
   "cell_type": "code",
   "execution_count": 41,
   "metadata": {
    "ExecuteTime": {
     "end_time": "2018-08-04T19:14:57.287016Z",
     "start_time": "2018-08-04T19:14:57.266005Z"
    }
   },
   "outputs": [
    {
     "data": {
      "text/plain": [
       "37"
      ]
     },
     "execution_count": 41,
     "metadata": {},
     "output_type": "execute_result"
    }
   ],
   "source": [
    "len(cat_vars) + len(cont_vars)"
   ]
  },
  {
   "cell_type": "code",
   "execution_count": 42,
   "metadata": {
    "ExecuteTime": {
     "end_time": "2018-08-04T19:14:57.955177Z",
     "start_time": "2018-08-04T19:14:57.928608Z"
    }
   },
   "outputs": [],
   "source": [
    "cat_vars = ['INTRON',\n",
    "       'MISSENSE', 'NEAR-GENE', 'NCRNA', 'CODING-SYNON', 'UNTRANSLATED',\n",
    "       'NONSENSE', 'SPLICE', 'FRAMESHIFT', 'CDS-INDEL', 'STOP-LOSS']\n",
    "cont_vars = genomic_dataset.columns.drop(cat_vars + [\"TYPE\"], 1).tolist()\n",
    "\n",
    "impute = ('union', \n",
    "          FeatureUnion(\n",
    "              transformer_list=[\n",
    "                  ('continuous', Pipeline([\n",
    "                      ('selector', ItemSelector(key=cont_vars)),\n",
    "                      ('imputer', Imputer(missing_values=\"NaN\", strategy=\"median\"))\n",
    "                  ])),\n",
    "                  ('categorical', Pipeline([\n",
    "                      ('selector', ItemSelector(key=cat_vars)),\n",
    "                      ('imputer', Imputer(missing_values=\"NaN\", strategy=\"most_frequent\"))\n",
    "                      \n",
    "                  ]))\n",
    "              ]))\n",
    "                  \n",
    "\n",
    "# impute = ('imputer', Imputer(missing_values=\"NaN\", strategy=\"median\"))\n",
    "\n",
    "scale = ('scaler', RobustScaler())\n",
    "\n",
    "model_dict = {\n",
    "    'lr':{'pipe':[impute, scale, ('lr', LogisticRegression())],\n",
    "        'params':[{'lr__C' : [.001, .01, .1, 1, 10, 100, 1000], 'lr__class_weight':[None, 'balanced']}],\n",
    "        'name':'LogisticRegression'\n",
    "    },\n",
    "    'rf':{'pipe':[impute, ('rf', RandomForestClassifier(random_state=RANDOM_STATE))],\n",
    "        'params':[{'rf__max_depth':[3,5,7], 'rf__n_estimators':[10,50,100], 'rf__max_features':[4,'sqrt',0.2]}],\n",
    "        'name':'Random Forest'\n",
    "    },\n",
    "    'svc':{'pipe': [impute, scale, ('svc', SVC(kernel='rbf'))],\n",
    "           'params':[{'svc__kernel': ['rbf'], 'svc__gamma': [1e-2, 1e-3, 1e-4, 1e-5],\n",
    "                'svc__C': [0.001, 0.10, 0.1, 10, 25, 50, 100, 1000]}]\n",
    "        \n",
    "    },\n",
    "}"
   ]
  },
  {
   "cell_type": "code",
   "execution_count": 43,
   "metadata": {
    "ExecuteTime": {
     "end_time": "2018-08-04T19:14:58.519422Z",
     "start_time": "2018-08-04T19:14:58.505242Z"
    }
   },
   "outputs": [
    {
     "data": {
      "text/plain": [
       "array([1, 0, 1, ..., 0, 1, 1])"
      ]
     },
     "execution_count": 43,
     "metadata": {},
     "output_type": "execute_result"
    }
   ],
   "source": [
    "y_train"
   ]
  },
  {
   "cell_type": "code",
   "execution_count": 44,
   "metadata": {
    "ExecuteTime": {
     "end_time": "2018-08-04T19:14:58.980570Z",
     "start_time": "2018-08-04T19:14:58.968540Z"
    },
    "collapsed": true
   },
   "outputs": [],
   "source": [
    "folds = 3\n",
    "skf = StratifiedKFold(n_splits=folds, shuffle=True, random_state=1001)\n",
    "algorithm = 'rf'\n",
    "model = Pipeline(model_dict[algorithm]['pipe'])\n",
    "param_list = [model_dict[algorithm]['params']][0]\n",
    "gs = GridSearchCV(model, param_list, cv=skf.split(X_train, y_train), n_jobs=2, \n",
    "                  scoring='roc_auc', verbose=1, refit=True)"
   ]
  },
  {
   "cell_type": "code",
   "execution_count": 45,
   "metadata": {
    "ExecuteTime": {
     "end_time": "2018-08-04T19:15:39.709983Z",
     "start_time": "2018-08-04T19:14:59.521320Z"
    }
   },
   "outputs": [
    {
     "name": "stdout",
     "output_type": "stream",
     "text": [
      "Fitting 3 folds for each of 27 candidates, totalling 81 fits\n"
     ]
    },
    {
     "name": "stderr",
     "output_type": "stream",
     "text": [
      "[Parallel(n_jobs=2)]: Done  46 tasks      | elapsed:   21.1s\n",
      "[Parallel(n_jobs=2)]: Done  81 out of  81 | elapsed:   38.0s finished\n"
     ]
    },
    {
     "data": {
      "text/plain": [
       "GridSearchCV(cv=<generator object _BaseKFold.split at 0x7f8c99c803b8>,\n",
       "       error_score='raise',\n",
       "       estimator=Pipeline(memory=None,\n",
       "     steps=[('union', FeatureUnion(n_jobs=1,\n",
       "       transformer_list=[('continuous', Pipeline(memory=None,\n",
       "     steps=[('selector', ItemSelector(key=['PHYLOP46WAY', 'PHASTCONS46WAY'])), ('imputer', Imputer(axis=0, copy=True, missing_values='NaN', strategy='median', verbose=0))])), ('categorical', Pipelin...stimators=10, n_jobs=1,\n",
       "            oob_score=False, random_state=42, verbose=0, warm_start=False))]),\n",
       "       fit_params=None, iid=True, n_jobs=2,\n",
       "       param_grid=[{'rf__max_depth': [3, 5, 7], 'rf__n_estimators': [10, 50, 100], 'rf__max_features': [4, 'sqrt', 0.2]}],\n",
       "       pre_dispatch='2*n_jobs', refit=True, return_train_score='warn',\n",
       "       scoring='roc_auc', verbose=1)"
      ]
     },
     "execution_count": 45,
     "metadata": {},
     "output_type": "execute_result"
    }
   ],
   "source": [
    "gs.fit(X_train, y_train)"
   ]
  },
  {
   "cell_type": "code",
   "execution_count": 51,
   "metadata": {
    "ExecuteTime": {
     "end_time": "2018-08-04T19:19:07.458240Z",
     "start_time": "2018-08-04T19:19:07.449697Z"
    },
    "collapsed": true
   },
   "outputs": [],
   "source": [
    "rf = gs.best_estimator_"
   ]
  },
  {
   "cell_type": "code",
   "execution_count": 52,
   "metadata": {
    "ExecuteTime": {
     "end_time": "2018-08-04T19:19:09.154344Z",
     "start_time": "2018-08-04T19:19:09.138615Z"
    }
   },
   "outputs": [
    {
     "data": {
      "text/plain": [
       "0.8569234769765762"
      ]
     },
     "execution_count": 52,
     "metadata": {},
     "output_type": "execute_result"
    }
   ],
   "source": [
    "gs.best_score_"
   ]
  },
  {
   "cell_type": "code",
   "execution_count": 57,
   "metadata": {
    "ExecuteTime": {
     "end_time": "2018-08-04T19:28:55.039425Z",
     "start_time": "2018-08-04T19:28:54.713011Z"
    }
   },
   "outputs": [
    {
     "data": {
      "image/png": "[encoded data removed]",
      "text/plain": [
       "<matplotlib.figure.Figure at 0x7f8c8f460908>"
      ]
     },
     "metadata": {},
     "output_type": "display_data"
    }
   ],
   "source": [
    "importances = [(X_train.columns[e], x) for e, x in enumerate(rf.steps[1][1].feature_importances_)]\n",
    "importances.sort(key=operator.itemgetter(1), reverse=True)\n",
    "importances = importances[:10][::-1]\n",
    "figsize(8, 5)\n",
    "plt.barh(np.arange(len(importances)), [y for x, y in importances], 0.3, color=\"g\", align=\"center\")\n",
    "plt.yticks(range(len(importances)), [x for x, y in importances], rotation='horizontal', fontsize=16)\n",
    "plt.xlabel(\"Score\",fontsize=16)\n",
    "plt.xticks(fontsize=16)\n",
    "plt.tight_layout()\n",
    "\n",
    "plt.savefig(\"/home/marlan/Desktop/importances_genomic.pdf\", bbox_inches='tight', pad_inches=0.1)\n"
   ]
  },
  {
   "cell_type": "code",
   "execution_count": 49,
   "metadata": {
    "ExecuteTime": {
     "end_time": "2018-08-04T19:15:40.915510Z",
     "start_time": "2018-08-04T19:15:40.681343Z"
    },
    "collapsed": true
   },
   "outputs": [],
   "source": [
    "fpr, tpr, _ = roc_curve(y_test, rf.predict_proba(X_test)[:, 1])\n",
    "roc_auc = auc(fpr, tpr)"
   ]
  },
  {
   "cell_type": "code",
   "execution_count": 56,
   "metadata": {
    "ExecuteTime": {
     "end_time": "2018-08-04T19:28:44.284146Z",
     "start_time": "2018-08-04T19:28:44.001216Z"
    }
   },
   "outputs": [
    {
     "data": {
      "image/png": "[encoded data removed]",
      "text/plain": [
       "<matplotlib.figure.Figure at 0x7f8c8e3ccd30>"
      ]
     },
     "metadata": {},
     "output_type": "display_data"
    }
   ],
   "source": [
    "figsize(7,7)\n",
    "\n",
    "lw = 2\n",
    "plt.plot(fpr, tpr, color='darkorange',\n",
    "         lw=lw, label='Curva ROC (area = %0.2f)' % roc_auc)\n",
    "plt.plot([0, 1], [0, 1], color='navy', lw=lw, linestyle='--', label='Random')\n",
    "plt.xlim([0.0, 1.0])\n",
    "plt.ylim([0.0, 1.05])\n",
    "plt.xlabel('False Positive Rate', fontsize=16)\n",
    "plt.ylabel('True Positive Rate', fontsize=16)\n",
    "plt.xticks(fontsize=16)\n",
    "plt.yticks(fontsize=16)\n",
    "# plt.title('AUC Curve')\n",
    "plt.legend(loc=\"lower right\", prop={'size': 16})\n",
    "\n",
    "plt.savefig(\"/home/marlan/Desktop/auc_genomic.pdf\", bbox_inches='tight', pad_inches=0.1)"
   ]
  },
  {
   "cell_type": "code",
   "execution_count": null,
   "metadata": {
    "collapsed": true
   },
   "outputs": [],
   "source": []
  }
 ],
 "metadata": {
  "kernelspec": {
   "display_name": "Python 3",
   "language": "python",
   "name": "python3"
  },
  "language_info": {
   "codemirror_mode": {
    "name": "ipython",
    "version": 3
   },
   "file_extension": ".py",
   "mimetype": "text/x-python",
   "name": "python",
   "nbconvert_exporter": "python",
   "pygments_lexer": "ipython3",
   "version": "3.6.3"
  },
  "varInspector": {
   "cols": {
    "lenName": 16,
    "lenType": 16,
    "lenVar": 40
   },
   "kernels_config": {
    "python": {
     "delete_cmd_postfix": "",
     "delete_cmd_prefix": "del ",
     "library": "var_list.py",
     "varRefreshCmd": "print(var_dic_list())"
    },
    "r": {
     "delete_cmd_postfix": ") ",
     "delete_cmd_prefix": "rm(",
     "library": "var_list.r",
     "varRefreshCmd": "cat(var_dic_list()) "
    }
   },
   "position": {
    "height": "439px",
    "left": "1107.7px",
    "right": "20px",
    "top": "120px",
    "width": "350px"
   },
   "types_to_exclude": [
    "module",
    "function",
    "builtin_function_or_method",
    "instance",
    "_Feature"
   ],
   "window_display": false
  }
 },
 "nbformat": 4,
 "nbformat_minor": 2
}
