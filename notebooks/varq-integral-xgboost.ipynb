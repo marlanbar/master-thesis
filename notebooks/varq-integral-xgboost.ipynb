{
 "cells": [
  {
   "cell_type": "code",
   "execution_count": 1,
   "metadata": {
    "ExecuteTime": {
     "end_time": "2018-12-17T08:54:05.821960Z",
     "start_time": "2018-12-17T08:54:05.081989Z"
    },
    "collapsed": true
   },
   "outputs": [],
   "source": [
    "import operator\n",
    "import pandas as pd\n",
    "import matplotlib.pyplot as plt\n",
    "import seaborn as sns\n",
    "import numpy as np\n",
    "\n",
    "import xgboost\n",
    "from xgboost import XGBClassifier\n",
    "from sklearn import feature_selection\n",
    "from sklearn.base import BaseEstimator, TransformerMixin\n",
    "from sklearn.ensemble import RandomForestClassifier, AdaBoostClassifier\n",
    "from sklearn.ensemble import GradientBoostingClassifier\n",
    "from sklearn.linear_model import LogisticRegression\n",
    "from sklearn.svm import SVC\n",
    "\n",
    "from sklearn.pipeline import Pipeline, make_pipeline\n",
    "from sklearn.pipeline import FeatureUnion\n",
    "from sklearn.preprocessing import StandardScaler, RobustScaler, Imputer, LabelEncoder\n",
    "from sklearn.model_selection import GridSearchCV, RandomizedSearchCV, train_test_split, StratifiedKFold\n",
    "from sklearn.metrics import confusion_matrix, classification_report, roc_curve, auc\n",
    "from sklearn.metrics import accuracy_score, f1_score, roc_auc_score\n",
    "from datetime import datetime\n",
    "\n",
    "\n",
    "from IPython.core.pylabtools import figsize \n",
    "%matplotlib inline\n",
    "\n",
    "def timer(start_time=None):\n",
    "    if not start_time:\n",
    "        start_time = datetime.now()\n",
    "        return start_time\n",
    "    elif start_time:\n",
    "        thour, temp_sec = divmod((datetime.now() - start_time).total_seconds(), 3600)\n",
    "        tmin, tsec = divmod(temp_sec, 60)\n",
    "        print('\\n Time taken: %i hours %i minutes and %s seconds.' % (thour, tmin, round(tsec, 2)))\n"
   ]
  },
  {
   "cell_type": "code",
   "execution_count": 2,
   "metadata": {
    "ExecuteTime": {
     "end_time": "2018-12-17T08:54:05.839738Z",
     "start_time": "2018-12-17T08:54:05.835186Z"
    },
    "collapsed": true
   },
   "outputs": [],
   "source": [
    "RANDOM_STATE = 42\n",
    "DATA_EXTERNAL = \"../data/external/\"\n",
    "DATA_PROCESSED = \"../data/processed/\"\n",
    "DATA_INTERIM = \"../data/interim/\""
   ]
  },
  {
   "cell_type": "code",
   "execution_count": 3,
   "metadata": {
    "ExecuteTime": {
     "end_time": "2018-12-17T08:54:06.737370Z",
     "start_time": "2018-12-17T08:54:06.609867Z"
    },
    "collapsed": true
   },
   "outputs": [],
   "source": [
    "full = pd.read_csv(\"../data/processed/varq_integral/dataset.csv.gz\", index_col=\"MUTANT\")"
   ]
  },
  {
   "cell_type": "code",
   "execution_count": 26,
   "metadata": {
    "ExecuteTime": {
     "end_time": "2018-12-17T09:15:18.939657Z",
     "start_time": "2018-12-17T09:15:18.931120Z"
    },
    "collapsed": true
   },
   "outputs": [],
   "source": [
    "model_dict = {\n",
    "    'xgb':{'pipe':('xgb', XGBClassifier(learning_rate=0.01, n_estimators=600, objective='binary:logistic',\n",
    "                    silent=True, nthread=1)),\n",
    "          'params':[{'min_child_weight': [1, 5, 10], 'gamma': [0.5, 1, 1.5, 2, 5], 'subsample': [0.6, 0.8, 1.0], \n",
    "                     'colsample_bytree': [0.6, 0.8, 1.0], 'max_depth': [3, 4, 5]\n",
    "        }],\n",
    "          'name':'Xtreme Gradient Boosting'\n",
    "    },\n",
    "}"
   ]
  },
  {
   "cell_type": "code",
   "execution_count": 27,
   "metadata": {
    "ExecuteTime": {
     "end_time": "2018-12-17T09:15:19.476486Z",
     "start_time": "2018-12-17T09:15:19.460737Z"
    },
    "collapsed": true
   },
   "outputs": [],
   "source": [
    "folds = 3\n",
    "param_comb = 10\n",
    "algorithm = 'xgb'\n",
    "model = model_dict[algorithm]['pipe'][1]\n",
    "param_list = model_dict[algorithm]['params'][0]\n",
    "rs = RandomizedSearchCV(model, param_distributions=param_list, n_iter=param_comb, scoring='roc_auc', \n",
    "                        n_jobs=4, cv=folds, verbose=2, random_state=RANDOM_STATE)"
   ]
  },
  {
   "cell_type": "code",
   "execution_count": 28,
   "metadata": {
    "ExecuteTime": {
     "end_time": "2018-12-17T09:15:24.565978Z",
     "start_time": "2018-12-17T09:15:24.534292Z"
    }
   },
   "outputs": [],
   "source": [
    "le = LabelEncoder()\n",
    "X = full[~full.TYPE.isnull()].drop(['TYPE'], 1)\n",
    "y = le.fit_transform(full[~full.TYPE.isnull()].TYPE)\n",
    "X_train, X_test, y_train, y_test = train_test_split(X, y, test_size=0.33, random_state=42, stratify=y)"
   ]
  },
  {
   "cell_type": "code",
   "execution_count": 29,
   "metadata": {
    "ExecuteTime": {
     "end_time": "2018-12-17T09:16:45.890950Z",
     "start_time": "2018-12-17T09:15:24.920365Z"
    }
   },
   "outputs": [
    {
     "name": "stdout",
     "output_type": "stream",
     "text": [
      "Fitting 3 folds for each of 10 candidates, totalling 30 fits\n",
      "[CV] subsample=0.8, min_child_weight=10, max_depth=4, gamma=1.5, colsample_bytree=0.6 \n",
      "[CV] subsample=0.8, min_child_weight=10, max_depth=4, gamma=1.5, colsample_bytree=0.6 \n",
      "[CV] subsample=0.8, min_child_weight=10, max_depth=4, gamma=1.5, colsample_bytree=0.6 \n",
      "[CV] subsample=1.0, min_child_weight=1, max_depth=3, gamma=2, colsample_bytree=0.8 \n",
      "[CV]  subsample=1.0, min_child_weight=1, max_depth=3, gamma=2, colsample_bytree=0.8, total=   7.3s\n",
      "[CV] subsample=1.0, min_child_weight=1, max_depth=3, gamma=2, colsample_bytree=0.8 \n",
      "[CV]  subsample=0.8, min_child_weight=10, max_depth=4, gamma=1.5, colsample_bytree=0.6, total=   7.5s\n",
      "[CV] subsample=1.0, min_child_weight=1, max_depth=3, gamma=2, colsample_bytree=0.8 \n",
      "[CV]  subsample=0.8, min_child_weight=10, max_depth=4, gamma=1.5, colsample_bytree=0.6, total=   8.0s\n",
      "[CV] subsample=0.8, min_child_weight=10, max_depth=3, gamma=5, colsample_bytree=1.0 \n",
      "[CV]  subsample=0.8, min_child_weight=10, max_depth=4, gamma=1.5, colsample_bytree=0.6, total=   8.4s\n",
      "[CV] subsample=0.8, min_child_weight=10, max_depth=3, gamma=5, colsample_bytree=1.0 \n",
      "[CV]  subsample=1.0, min_child_weight=1, max_depth=3, gamma=2, colsample_bytree=0.8, total=   9.3s\n",
      "[CV] subsample=0.8, min_child_weight=10, max_depth=3, gamma=5, colsample_bytree=1.0 \n",
      "[CV]  subsample=1.0, min_child_weight=1, max_depth=3, gamma=2, colsample_bytree=0.8, total=   9.7s\n",
      "[CV] subsample=0.6, min_child_weight=10, max_depth=3, gamma=1, colsample_bytree=0.6 \n",
      "[CV]  subsample=0.8, min_child_weight=10, max_depth=3, gamma=5, colsample_bytree=1.0, total=  12.3s\n",
      "[CV] subsample=0.6, min_child_weight=10, max_depth=3, gamma=1, colsample_bytree=0.6 \n",
      "[CV]  subsample=0.8, min_child_weight=10, max_depth=3, gamma=5, colsample_bytree=1.0, total=  12.0s\n",
      "[CV] subsample=0.6, min_child_weight=10, max_depth=3, gamma=1, colsample_bytree=0.6 \n",
      "[CV]  subsample=0.6, min_child_weight=10, max_depth=3, gamma=1, colsample_bytree=0.6, total=   7.5s\n",
      "[CV] subsample=0.6, min_child_weight=10, max_depth=4, gamma=1, colsample_bytree=0.6 \n",
      "[CV]  subsample=0.6, min_child_weight=10, max_depth=3, gamma=1, colsample_bytree=0.6, total=   6.3s\n",
      "[CV] subsample=0.6, min_child_weight=10, max_depth=4, gamma=1, colsample_bytree=0.6 \n",
      "[CV]  subsample=0.6, min_child_weight=10, max_depth=3, gamma=1, colsample_bytree=0.6, total=   6.8s\n",
      "[CV] subsample=0.6, min_child_weight=10, max_depth=4, gamma=1, colsample_bytree=0.6 \n",
      "[CV]  subsample=0.8, min_child_weight=10, max_depth=3, gamma=5, colsample_bytree=1.0, total=  11.0s\n",
      "[CV] subsample=1.0, min_child_weight=5, max_depth=5, gamma=1.5, colsample_bytree=0.6 \n",
      "[CV]  subsample=0.6, min_child_weight=10, max_depth=4, gamma=1, colsample_bytree=0.6, total=   9.1s\n",
      "[CV] subsample=1.0, min_child_weight=5, max_depth=5, gamma=1.5, colsample_bytree=0.6 \n",
      "[CV]  subsample=0.6, min_child_weight=10, max_depth=4, gamma=1, colsample_bytree=0.6, total=   9.2s\n",
      "[CV] subsample=1.0, min_child_weight=5, max_depth=5, gamma=1.5, colsample_bytree=0.6 \n",
      "[CV]  subsample=0.6, min_child_weight=10, max_depth=4, gamma=1, colsample_bytree=0.6, total=   9.2s\n",
      "[CV] subsample=1.0, min_child_weight=1, max_depth=3, gamma=0.5, colsample_bytree=0.8 \n",
      "[CV]  subsample=1.0, min_child_weight=5, max_depth=5, gamma=1.5, colsample_bytree=0.6, total=  10.4s\n",
      "[CV] subsample=1.0, min_child_weight=1, max_depth=3, gamma=0.5, colsample_bytree=0.8 \n",
      "[CV]  subsample=1.0, min_child_weight=5, max_depth=5, gamma=1.5, colsample_bytree=0.6, total=   8.3s\n",
      "[CV] subsample=1.0, min_child_weight=1, max_depth=3, gamma=0.5, colsample_bytree=0.8 \n",
      "[CV]  subsample=1.0, min_child_weight=1, max_depth=3, gamma=0.5, colsample_bytree=0.8, total=   6.9s\n",
      "[CV] subsample=1.0, min_child_weight=10, max_depth=3, gamma=1.5, colsample_bytree=1.0 \n",
      "[CV]  subsample=1.0, min_child_weight=5, max_depth=5, gamma=1.5, colsample_bytree=0.6, total=   8.9s\n",
      "[CV] subsample=1.0, min_child_weight=10, max_depth=3, gamma=1.5, colsample_bytree=1.0 \n",
      "[CV]  subsample=1.0, min_child_weight=1, max_depth=3, gamma=0.5, colsample_bytree=0.8, total=   7.3s\n",
      "[CV] subsample=1.0, min_child_weight=10, max_depth=3, gamma=1.5, colsample_bytree=1.0 \n",
      "[CV]  subsample=1.0, min_child_weight=1, max_depth=3, gamma=0.5, colsample_bytree=0.8, total=   6.5s\n",
      "[CV] subsample=0.8, min_child_weight=5, max_depth=4, gamma=2, colsample_bytree=1.0 \n",
      "[CV]  subsample=1.0, min_child_weight=10, max_depth=3, gamma=1.5, colsample_bytree=1.0, total=   7.8s\n",
      "[CV] subsample=0.8, min_child_weight=5, max_depth=4, gamma=2, colsample_bytree=1.0 \n",
      "[CV]  subsample=1.0, min_child_weight=10, max_depth=3, gamma=1.5, colsample_bytree=1.0, total=   7.9s\n",
      "[CV] subsample=0.8, min_child_weight=5, max_depth=4, gamma=2, colsample_bytree=1.0 \n",
      "[CV]  subsample=1.0, min_child_weight=10, max_depth=3, gamma=1.5, colsample_bytree=1.0, total=   8.3s\n",
      "[CV] subsample=0.8, min_child_weight=5, max_depth=5, gamma=5, colsample_bytree=0.8 \n",
      "[CV]  subsample=0.8, min_child_weight=5, max_depth=4, gamma=2, colsample_bytree=1.0, total=  11.1s\n",
      "[CV] subsample=0.8, min_child_weight=5, max_depth=5, gamma=5, colsample_bytree=0.8 \n",
      "[CV]  subsample=0.8, min_child_weight=5, max_depth=4, gamma=2, colsample_bytree=1.0, total=  10.9s\n",
      "[CV] subsample=0.8, min_child_weight=5, max_depth=5, gamma=5, colsample_bytree=0.8 \n",
      "[CV]  subsample=0.8, min_child_weight=5, max_depth=4, gamma=2, colsample_bytree=1.0, total=  11.5s\n",
      "[CV]  subsample=0.8, min_child_weight=5, max_depth=5, gamma=5, colsample_bytree=0.8, total=  11.2s\n",
      "[CV]  subsample=0.8, min_child_weight=5, max_depth=5, gamma=5, colsample_bytree=0.8, total=   9.8s\n",
      "[CV]  subsample=0.8, min_child_weight=5, max_depth=5, gamma=5, colsample_bytree=0.8, total=   9.3s\n"
     ]
    },
    {
     "name": "stderr",
     "output_type": "stream",
     "text": [
      "[Parallel(n_jobs=4)]: Done  30 out of  30 | elapsed:  1.2min finished\n"
     ]
    },
    {
     "name": "stdout",
     "output_type": "stream",
     "text": [
      "\n",
      " Time taken: 0 hours 1 minutes and 20.97 seconds.\n"
     ]
    }
   ],
   "source": [
    "#### Here we go\n",
    "start_time = timer(None) # timing starts from this point for \"start_time\" variable\n",
    "rs.fit(X_train, y_train)\n",
    "timer(start_time) # timing ends here for \"start_time\" variable"
   ]
  },
  {
   "cell_type": "code",
   "execution_count": 30,
   "metadata": {
    "ExecuteTime": {
     "end_time": "2018-12-17T09:17:47.344424Z",
     "start_time": "2018-12-17T09:17:47.340580Z"
    },
    "collapsed": true
   },
   "outputs": [],
   "source": [
    "xgb = rs.best_estimator_ "
   ]
  },
  {
   "cell_type": "code",
   "execution_count": 31,
   "metadata": {
    "ExecuteTime": {
     "end_time": "2018-12-17T09:17:48.033815Z",
     "start_time": "2018-12-17T09:17:48.015954Z"
    }
   },
   "outputs": [
    {
     "data": {
      "text/plain": [
       "XGBClassifier(base_score=0.5, booster='gbtree', colsample_bylevel=1,\n",
       "       colsample_bytree=0.6, gamma=1.5, learning_rate=0.01,\n",
       "       max_delta_step=0, max_depth=5, min_child_weight=5, missing=None,\n",
       "       n_estimators=600, n_jobs=1, nthread=1, objective='binary:logistic',\n",
       "       random_state=0, reg_alpha=0, reg_lambda=1, scale_pos_weight=1,\n",
       "       seed=None, silent=True, subsample=1.0)"
      ]
     },
     "execution_count": 31,
     "metadata": {},
     "output_type": "execute_result"
    }
   ],
   "source": [
    "xgb"
   ]
  },
  {
   "cell_type": "code",
   "execution_count": 32,
   "metadata": {
    "ExecuteTime": {
     "end_time": "2018-12-17T09:17:49.858750Z",
     "start_time": "2018-12-17T09:17:49.853620Z"
    },
    "collapsed": true
   },
   "outputs": [],
   "source": [
    "xgb_fixed = XGBClassifier(base_score=0.5, booster='gbtree', colsample_bylevel=1,\n",
    "       colsample_bytree=0.6, gamma=1.5, learning_rate=0.01,\n",
    "       max_delta_step=0, max_depth=5, min_child_weight=5, missing=None,\n",
    "       n_estimators=600, n_jobs=1, nthread=1, objective='binary:logistic',\n",
    "       random_state=0, reg_alpha=0, reg_lambda=1, scale_pos_weight=1,\n",
    "       seed=None, silent=True, subsample=1.0)"
   ]
  },
  {
   "cell_type": "code",
   "execution_count": 33,
   "metadata": {
    "ExecuteTime": {
     "end_time": "2018-12-17T09:17:56.886964Z",
     "start_time": "2018-12-17T09:17:50.213460Z"
    }
   },
   "outputs": [
    {
     "data": {
      "text/plain": [
       "XGBClassifier(base_score=0.5, booster='gbtree', colsample_bylevel=1,\n",
       "       colsample_bytree=0.6, gamma=1.5, learning_rate=0.01,\n",
       "       max_delta_step=0, max_depth=5, min_child_weight=5, missing=None,\n",
       "       n_estimators=600, n_jobs=1, nthread=1, objective='binary:logistic',\n",
       "       random_state=0, reg_alpha=0, reg_lambda=1, scale_pos_weight=1,\n",
       "       seed=None, silent=True, subsample=1.0)"
      ]
     },
     "execution_count": 33,
     "metadata": {},
     "output_type": "execute_result"
    }
   ],
   "source": [
    "xgb.fit(X_train, y_train)"
   ]
  },
  {
   "cell_type": "code",
   "execution_count": 34,
   "metadata": {
    "ExecuteTime": {
     "end_time": "2018-12-17T09:17:57.348330Z",
     "start_time": "2018-12-17T09:17:57.184039Z"
    }
   },
   "outputs": [],
   "source": [
    "fpr, tpr, _ = roc_curve(y_test, xgb.predict_proba(X_test)[:, 1])\n",
    "roc_auc = auc(fpr, tpr)"
   ]
  },
  {
   "cell_type": "code",
   "execution_count": 35,
   "metadata": {
    "ExecuteTime": {
     "end_time": "2018-12-17T09:17:57.665780Z",
     "start_time": "2018-12-17T09:17:57.658582Z"
    }
   },
   "outputs": [
    {
     "data": {
      "text/plain": [
       "0.8826249753277644"
      ]
     },
     "execution_count": 35,
     "metadata": {},
     "output_type": "execute_result"
    }
   ],
   "source": [
    "roc_auc"
   ]
  },
  {
   "cell_type": "code",
   "execution_count": 36,
   "metadata": {
    "ExecuteTime": {
     "end_time": "2018-12-17T09:18:21.537370Z",
     "start_time": "2018-12-17T09:18:21.524624Z"
    },
    "collapsed": true
   },
   "outputs": [],
   "source": [
    "roc_curve = pd.concat([pd.Series(fpr,name=\"fpr\"), pd.Series(tpr, name=\"tpr\")], axis=1)\n",
    "roc_curve.to_csv(\"../results/varq_integral/auc_xgboost.csv\", index=False)"
   ]
  },
  {
   "cell_type": "code",
   "execution_count": 37,
   "metadata": {
    "ExecuteTime": {
     "end_time": "2018-12-17T09:18:26.690176Z",
     "start_time": "2018-12-17T09:18:26.506465Z"
    }
   },
   "outputs": [
    {
     "data": {
      "text/plain": [
       "<matplotlib.legend.Legend at 0x7f938987dfd0>"
      ]
     },
     "execution_count": 37,
     "metadata": {},
     "output_type": "execute_result"
    },
    {
     "data": {
      "image/png": "[encoded data removed]",
      "text/plain": [
       "<matplotlib.figure.Figure at 0x7f938a02ffd0>"
      ]
     },
     "metadata": {},
     "output_type": "display_data"
    }
   ],
   "source": [
    "plt.figure(figsize=(7,7))\n",
    "\n",
    "lw = 2\n",
    "plt.plot(fpr, tpr, color='darkorange',\n",
    "         lw=lw, label='Curva ROC (area = %0.2f)' % roc_auc)\n",
    "plt.plot([0, 1], [0, 1], color='navy', lw=lw, linestyle='--', label='Random')\n",
    "plt.xlim([0.0, 1.0])\n",
    "plt.ylim([0.0, 1.05])\n",
    "plt.xlabel('False Positive Rate', fontsize=16)\n",
    "plt.ylabel('True Positive Rate', fontsize=16)\n",
    "plt.xticks(fontsize=16)\n",
    "plt.yticks(fontsize=16)\n",
    "# plt.title('AUC Curve')\n",
    "plt.legend(loc=\"lower right\", prop={'size': 16})"
   ]
  }
 ],
 "metadata": {
  "kernelspec": {
   "display_name": "Python 3",
   "language": "python",
   "name": "python3"
  },
  "language_info": {
   "codemirror_mode": {
    "name": "ipython",
    "version": 3
   },
   "file_extension": ".py",
   "mimetype": "text/x-python",
   "name": "python",
   "nbconvert_exporter": "python",
   "pygments_lexer": "ipython3",
   "version": "3.6.3"
  },
  "varInspector": {
   "cols": {
    "lenName": 16,
    "lenType": 16,
    "lenVar": 40
   },
   "kernels_config": {
    "python": {
     "delete_cmd_postfix": "",
     "delete_cmd_prefix": "del ",
     "library": "var_list.py",
     "varRefreshCmd": "print(var_dic_list())"
    },
    "r": {
     "delete_cmd_postfix": ") ",
     "delete_cmd_prefix": "rm(",
     "library": "var_list.r",
     "varRefreshCmd": "cat(var_dic_list()) "
    }
   },
   "types_to_exclude": [
    "module",
    "function",
    "builtin_function_or_method",
    "instance",
    "_Feature"
   ],
   "window_display": false
  }
 },
 "nbformat": 4,
 "nbformat_minor": 2
}
