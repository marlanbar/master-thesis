{
 "cells": [
  {
   "cell_type": "code",
   "execution_count": 129,
   "metadata": {
    "collapsed": true
   },
   "outputs": [],
   "source": [
    "import gzip\n",
    "import pandas as pd\n",
    "import numpy as np\n",
    "from Bio.SeqUtils.ProtParam import ProteinAnalysis\n",
    "from Bio import SwissProt\n",
    "from Bio import SeqIO\n",
    "\n",
    "from functools import partial"
   ]
  },
  {
   "cell_type": "code",
   "execution_count": null,
   "metadata": {
    "collapsed": true
   },
   "outputs": [],
   "source": [
    "DATA_FOLDER = \"../data/\""
   ]
  },
  {
   "cell_type": "code",
   "execution_count": 116,
   "metadata": {
    "collapsed": true
   },
   "outputs": [],
   "source": [
    "hum = pd.read_csv(DATA_FOLDER + \"humsavar_gt.tab.gz\", sep=\"\\t\", index_col=\"MUTANT\")\n",
    "uniprots = pd.DataFrame.from_items(zip(hum.index, hum.index.str.split(\"-\"))).T\n",
    "uniprots.columns = [\"uniprot\", \"position\", \"amino\", \"amino_var\"]\n",
    "uniprots.position = uniprots.position.astype(int)"
   ]
  },
  {
   "cell_type": "code",
   "execution_count": 117,
   "metadata": {
    "collapsed": true
   },
   "outputs": [],
   "source": [
    "sequences = open(DATA_FOLDER + \"human_prot_sequences.txt\", \"w\")\n",
    "for e, record in enumerate(SeqIO.parse(\"./data/uniprot-proteome%3AUP000005640.fasta\", \"fasta\")):\n",
    "    uni_id = record.id.split(\"|\")[1]\n",
    "    sequences.write(\"%s,%s\\n\" % (uni_id, record.seq))"
   ]
  },
  {
   "cell_type": "code",
   "execution_count": 118,
   "metadata": {
    "collapsed": true
   },
   "outputs": [],
   "source": [
    "sequences = pd.read_csv(DATA_FOLDER + \"human_prot_sequences.txt\", header=None, names=[\"uniprot\", \"sequence\"])"
   ]
  },
  {
   "cell_type": "code",
   "execution_count": 119,
   "metadata": {
    "collapsed": true
   },
   "outputs": [],
   "source": [
    "uniprots = uniprots.reset_index().merge(sequences, on=\"uniprot\").set_index(\"index\")"
   ]
  },
  {
   "cell_type": "code",
   "execution_count": 120,
   "metadata": {
    "collapsed": true
   },
   "outputs": [],
   "source": [
    "def get_subsequence(row, width=1):\n",
    "    seq = row['sequence']\n",
    "    pos = row['position']-1\n",
    "    return seq[pos-width:pos] + row['amino_var'] + seq[pos+1:pos+width+1]\n",
    "\n",
    "uniprots['var_slice'] = uniprots.apply(partial(get_subsequence, width=10), axis=1)"
   ]
  },
  {
   "cell_type": "code",
   "execution_count": 124,
   "metadata": {},
   "outputs": [
    {
     "data": {
      "text/html": [
       "<div>\n",
       "<table border=\"1\" class=\"dataframe\">\n",
       "  <thead>\n",
       "    <tr style=\"text-align: right;\">\n",
       "      <th></th>\n",
       "      <th>uniprot</th>\n",
       "      <th>position</th>\n",
       "      <th>amino</th>\n",
       "      <th>amino_var</th>\n",
       "      <th>sequence</th>\n",
       "      <th>var_slice</th>\n",
       "    </tr>\n",
       "    <tr>\n",
       "      <th>index</th>\n",
       "      <th></th>\n",
       "      <th></th>\n",
       "      <th></th>\n",
       "      <th></th>\n",
       "      <th></th>\n",
       "      <th></th>\n",
       "    </tr>\n",
       "  </thead>\n",
       "  <tbody>\n",
       "    <tr>\n",
       "      <th>P11362-174-V-A</th>\n",
       "      <td>P11362</td>\n",
       "      <td>174</td>\n",
       "      <td>V</td>\n",
       "      <td>A</td>\n",
       "      <td>MWSWKCLLFWAVLVTATLCTARPSPTLPEQAQPWGAPVEVESFLVH...</td>\n",
       "      <td>KLHAVPAAKTAKFKCPSSGTP</td>\n",
       "    </tr>\n",
       "    <tr>\n",
       "      <th>P11362-274-E-G</th>\n",
       "      <td>P11362</td>\n",
       "      <td>274</td>\n",
       "      <td>E</td>\n",
       "      <td>G</td>\n",
       "      <td>MWSWKCLLFWAVLVTATLCTARPSPTLPEQAQPWGAPVEVESFLVH...</td>\n",
       "      <td>NKTVALGSNVGFMCKVYSDPQ</td>\n",
       "    </tr>\n",
       "    <tr>\n",
       "      <th>P11362-330-N-I</th>\n",
       "      <td>P11362</td>\n",
       "      <td>330</td>\n",
       "      <td>N</td>\n",
       "      <td>I</td>\n",
       "      <td>MWSWKCLLFWAVLVTATLCTARPSPTLPEQAQPWGAPVEVESFLVH...</td>\n",
       "      <td>DKEMEVLHLRIVSFEDAGEYT</td>\n",
       "    </tr>\n",
       "    <tr>\n",
       "      <th>P11362-332-S-C</th>\n",
       "      <td>P11362</td>\n",
       "      <td>332</td>\n",
       "      <td>S</td>\n",
       "      <td>C</td>\n",
       "      <td>MWSWKCLLFWAVLVTATLCTARPSPTLPEQAQPWGAPVEVESFLVH...</td>\n",
       "      <td>EMEVLHLRNVCFEDAGEYTCL</td>\n",
       "    </tr>\n",
       "    <tr>\n",
       "      <th>P11362-719-M-V</th>\n",
       "      <td>P11362</td>\n",
       "      <td>719</td>\n",
       "      <td>M</td>\n",
       "      <td>V</td>\n",
       "      <td>MWSWKCLLFWAVLVTATLCTARPSPTLPEQAQPWGAPVEVESFLVH...</td>\n",
       "      <td>LFKLLKEGHRVDKPSNCTNEL</td>\n",
       "    </tr>\n",
       "  </tbody>\n",
       "</table>\n",
       "</div>"
      ],
      "text/plain": [
       "               uniprot  position amino amino_var  \\\n",
       "index                                              \n",
       "P11362-174-V-A  P11362       174     V         A   \n",
       "P11362-274-E-G  P11362       274     E         G   \n",
       "P11362-330-N-I  P11362       330     N         I   \n",
       "P11362-332-S-C  P11362       332     S         C   \n",
       "P11362-719-M-V  P11362       719     M         V   \n",
       "\n",
       "                                                         sequence  \\\n",
       "index                                                               \n",
       "P11362-174-V-A  MWSWKCLLFWAVLVTATLCTARPSPTLPEQAQPWGAPVEVESFLVH...   \n",
       "P11362-274-E-G  MWSWKCLLFWAVLVTATLCTARPSPTLPEQAQPWGAPVEVESFLVH...   \n",
       "P11362-330-N-I  MWSWKCLLFWAVLVTATLCTARPSPTLPEQAQPWGAPVEVESFLVH...   \n",
       "P11362-332-S-C  MWSWKCLLFWAVLVTATLCTARPSPTLPEQAQPWGAPVEVESFLVH...   \n",
       "P11362-719-M-V  MWSWKCLLFWAVLVTATLCTARPSPTLPEQAQPWGAPVEVESFLVH...   \n",
       "\n",
       "                            var_slice  \n",
       "index                                  \n",
       "P11362-174-V-A  KLHAVPAAKTAKFKCPSSGTP  \n",
       "P11362-274-E-G  NKTVALGSNVGFMCKVYSDPQ  \n",
       "P11362-330-N-I  DKEMEVLHLRIVSFEDAGEYT  \n",
       "P11362-332-S-C  EMEVLHLRNVCFEDAGEYTCL  \n",
       "P11362-719-M-V  LFKLLKEGHRVDKPSNCTNEL  "
      ]
     },
     "execution_count": 124,
     "metadata": {},
     "output_type": "execute_result"
    }
   ],
   "source": [
    "uniprots.head()"
   ]
  },
  {
   "cell_type": "code",
   "execution_count": 125,
   "metadata": {},
   "outputs": [
    {
     "data": {
      "text/plain": [
       "index        P18283-37-A-L                                                                                                                                                                                 \n",
       "uniprot      P18283                                                                                                                                                                                        \n",
       "position     37                                                                                                                                                                                            \n",
       "amino        A                                                                                                                                                                                             \n",
       "amino_var    L                                                                                                                                                                                             \n",
       "sequence     MAFIAKSFYDLSAISLDGEKVDFNTFRGRAVLIENVASLUGTTTRDFTQLNELQCRFPRRLVVLGFPCNQFGHQENCQNEEILNSLKYVRPGGGYQPTFTLVQKCEVNGQNEHPVFAYLKDKLPYPYDDPFSLMTDPKLIIWSPVRRSDVAWNFEKFLIGPEGEPFRRYSRTFPTINIEPDIKRLLKVAI\n",
       "var_slice    RGRAVLIENVLSLUGTTTRDF                                                                                                                                                                         \n",
       "Name: 6837, dtype: object"
      ]
     },
     "execution_count": 125,
     "metadata": {},
     "output_type": "execute_result"
    }
   ],
   "source": [
    "pd.set_option('display.max_colwidth', -1)\n",
    "uniprots.reset_index().iloc[6837]"
   ]
  },
  {
   "cell_type": "code",
   "execution_count": 96,
   "metadata": {
    "collapsed": true
   },
   "outputs": [],
   "source": [
    "uniprots[[\"var_slice\"]].to_csv(DATA_FOLDER + \"humsavar_gt_protein_slices.tab.gz\", sep=\"\\t\", index=True, index_label=\"MUTANT\", compression=\"gzip\")"
   ]
  },
  {
   "cell_type": "code",
   "execution_count": 135,
   "metadata": {
    "collapsed": true
   },
   "outputs": [],
   "source": [
    "uniprots = pd.read_csv(DATA_FOLDER + \"humsavar_gt_protein_slices.tab.gz\", sep=\"\\t\")\n",
    "\n",
    "\n",
    "def get_protparam(row, func_name):\n",
    "    protein_analysis = ProteinAnalysis(row)\n",
    "    try:\n",
    "        param = getattr(protein_analysis, func_name)()\n",
    "        return param\n",
    "    except:\n",
    "        return np.nan\n",
    "        \n",
    "\n",
    "params = [\"aromaticity\", \"isoelectric_point\", \"gravy\"]\n",
    "\n",
    "\n",
    "for param in params:\n",
    "    uniprots[param] = uniprots.var_slice.apply(partial(get_protparam, func_name=param))"
   ]
  },
  {
   "cell_type": "code",
   "execution_count": 136,
   "metadata": {},
   "outputs": [
    {
     "data": {
      "text/html": [
       "<div>\n",
       "<table border=\"1\" class=\"dataframe\">\n",
       "  <thead>\n",
       "    <tr style=\"text-align: right;\">\n",
       "      <th></th>\n",
       "      <th>MUTANT</th>\n",
       "      <th>var_slice</th>\n",
       "      <th>aromaticity</th>\n",
       "      <th>isoelectric_point</th>\n",
       "      <th>gravy</th>\n",
       "    </tr>\n",
       "  </thead>\n",
       "  <tbody>\n",
       "    <tr>\n",
       "      <th>0</th>\n",
       "      <td>P11362-174-V-A</td>\n",
       "      <td>KLHAVPAAKTAKFKCPSSGTP</td>\n",
       "      <td>0.047619</td>\n",
       "      <td>10.037781</td>\n",
       "      <td>-0.309524</td>\n",
       "    </tr>\n",
       "    <tr>\n",
       "      <th>1</th>\n",
       "      <td>P11362-274-E-G</td>\n",
       "      <td>NKTVALGSNVGFMCKVYSDPQ</td>\n",
       "      <td>0.095238</td>\n",
       "      <td>8.175232</td>\n",
       "      <td>-0.114286</td>\n",
       "    </tr>\n",
       "    <tr>\n",
       "      <th>2</th>\n",
       "      <td>P11362-330-N-I</td>\n",
       "      <td>DKEMEVLHLRIVSFEDAGEYT</td>\n",
       "      <td>0.095238</td>\n",
       "      <td>4.352844</td>\n",
       "      <td>-0.419048</td>\n",
       "    </tr>\n",
       "    <tr>\n",
       "      <th>3</th>\n",
       "      <td>P11362-332-S-C</td>\n",
       "      <td>EMEVLHLRNVCFEDAGEYTCL</td>\n",
       "      <td>0.095238</td>\n",
       "      <td>4.245789</td>\n",
       "      <td>0.009524</td>\n",
       "    </tr>\n",
       "    <tr>\n",
       "      <th>4</th>\n",
       "      <td>P11362-719-M-V</td>\n",
       "      <td>LFKLLKEGHRVDKPSNCTNEL</td>\n",
       "      <td>0.047619</td>\n",
       "      <td>8.184509</td>\n",
       "      <td>-0.747619</td>\n",
       "    </tr>\n",
       "  </tbody>\n",
       "</table>\n",
       "</div>"
      ],
      "text/plain": [
       "           MUTANT              var_slice  aromaticity  isoelectric_point  \\\n",
       "0  P11362-174-V-A  KLHAVPAAKTAKFKCPSSGTP  0.047619     10.037781           \n",
       "1  P11362-274-E-G  NKTVALGSNVGFMCKVYSDPQ  0.095238     8.175232            \n",
       "2  P11362-330-N-I  DKEMEVLHLRIVSFEDAGEYT  0.095238     4.352844            \n",
       "3  P11362-332-S-C  EMEVLHLRNVCFEDAGEYTCL  0.095238     4.245789            \n",
       "4  P11362-719-M-V  LFKLLKEGHRVDKPSNCTNEL  0.047619     8.184509            \n",
       "\n",
       "      gravy  \n",
       "0 -0.309524  \n",
       "1 -0.114286  \n",
       "2 -0.419048  \n",
       "3  0.009524  \n",
       "4 -0.747619  "
      ]
     },
     "execution_count": 136,
     "metadata": {},
     "output_type": "execute_result"
    }
   ],
   "source": [
    "uniprots.to_csv(DATA_FOLDER + \"protparam_features.tab.gz\", )"
   ]
  }
 ],
 "metadata": {
  "kernelspec": {
   "display_name": "Python 3",
   "language": "python",
   "name": "python3"
  },
  "language_info": {
   "codemirror_mode": {
    "name": "ipython",
    "version": 3
   },
   "file_extension": ".py",
   "mimetype": "text/x-python",
   "name": "python",
   "nbconvert_exporter": "python",
   "pygments_lexer": "ipython3",
   "version": "3.6.0"
  }
 },
 "nbformat": 4,
 "nbformat_minor": 2
}
