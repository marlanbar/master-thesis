{
 "cells": [
  {
   "cell_type": "code",
   "execution_count": 2,
   "metadata": {
    "ExecuteTime": {
     "end_time": "2018-02-17T18:25:27.329935Z",
     "start_time": "2018-02-17T18:25:26.810172Z"
    },
    "collapsed": true
   },
   "outputs": [],
   "source": [
    "import gzip\n",
    "import pandas as pd\n",
    "import numpy as np\n",
    "from Bio.SeqUtils.ProtParam import ProteinAnalysis\n",
    "from Bio import SwissProt\n",
    "from Bio import SeqIO\n",
    "\n",
    "from functools import partial"
   ]
  },
  {
   "cell_type": "code",
   "execution_count": 3,
   "metadata": {
    "ExecuteTime": {
     "end_time": "2018-02-17T18:25:27.870002Z",
     "start_time": "2018-02-17T18:25:27.857476Z"
    },
    "collapsed": true
   },
   "outputs": [],
   "source": [
    "DATA_EXTERNAL = \"../data/external/\"\n",
    "DATA_INTERIM = \"../data/interim/\""
   ]
  },
  {
   "cell_type": "code",
   "execution_count": 4,
   "metadata": {
    "ExecuteTime": {
     "end_time": "2018-02-17T18:25:32.288597Z",
     "start_time": "2018-02-17T18:25:28.428298Z"
    },
    "collapsed": true
   },
   "outputs": [],
   "source": [
    "humsavar = pd.read_csv(\"../data/interim/humsavar_full.csv.gz\", index_col=\"MUTANT\")\n",
    "uniprots = pd.DataFrame.from_items(zip(humsavar.index, humsavar.index.str.split(\"-\"))).T\n",
    "uniprots.columns = [\"uniprot\", \"position\", \"amino\", \"amino_var\"]\n",
    "uniprots.position = uniprots.position.astype(int)"
   ]
  },
  {
   "cell_type": "code",
   "execution_count": 5,
   "metadata": {
    "ExecuteTime": {
     "end_time": "2018-02-17T18:25:32.387961Z",
     "start_time": "2018-02-17T18:25:32.367892Z"
    }
   },
   "outputs": [
    {
     "data": {
      "text/html": [
       "<div>\n",
       "<table border=\"1\" class=\"dataframe\">\n",
       "  <thead>\n",
       "    <tr style=\"text-align: right;\">\n",
       "      <th></th>\n",
       "      <th>uniprot</th>\n",
       "      <th>position</th>\n",
       "      <th>amino</th>\n",
       "      <th>amino_var</th>\n",
       "    </tr>\n",
       "  </thead>\n",
       "  <tbody>\n",
       "    <tr>\n",
       "      <th>P04217-52-H-R</th>\n",
       "      <td>P04217</td>\n",
       "      <td>52</td>\n",
       "      <td>H</td>\n",
       "      <td>R</td>\n",
       "    </tr>\n",
       "    <tr>\n",
       "      <th>P04217-395-H-R</th>\n",
       "      <td>P04217</td>\n",
       "      <td>395</td>\n",
       "      <td>H</td>\n",
       "      <td>R</td>\n",
       "    </tr>\n",
       "    <tr>\n",
       "      <th>Q9NQ94-555-V-M</th>\n",
       "      <td>Q9NQ94</td>\n",
       "      <td>555</td>\n",
       "      <td>V</td>\n",
       "      <td>M</td>\n",
       "    </tr>\n",
       "    <tr>\n",
       "      <th>Q9NQ94-558-A-S</th>\n",
       "      <td>Q9NQ94</td>\n",
       "      <td>558</td>\n",
       "      <td>A</td>\n",
       "      <td>S</td>\n",
       "    </tr>\n",
       "    <tr>\n",
       "      <th>A8K2U0-207-G-R</th>\n",
       "      <td>A8K2U0</td>\n",
       "      <td>207</td>\n",
       "      <td>G</td>\n",
       "      <td>R</td>\n",
       "    </tr>\n",
       "  </tbody>\n",
       "</table>\n",
       "</div>"
      ],
      "text/plain": [
       "               uniprot  position amino amino_var\n",
       "P04217-52-H-R   P04217        52     H         R\n",
       "P04217-395-H-R  P04217       395     H         R\n",
       "Q9NQ94-555-V-M  Q9NQ94       555     V         M\n",
       "Q9NQ94-558-A-S  Q9NQ94       558     A         S\n",
       "A8K2U0-207-G-R  A8K2U0       207     G         R"
      ]
     },
     "execution_count": 5,
     "metadata": {},
     "output_type": "execute_result"
    }
   ],
   "source": [
    "uniprots.head()"
   ]
  },
  {
   "cell_type": "code",
   "execution_count": 10,
   "metadata": {
    "ExecuteTime": {
     "end_time": "2018-01-28T14:41:06.993723Z",
     "start_time": "2018-01-28T14:41:06.142463Z"
    },
    "collapsed": true
   },
   "outputs": [],
   "source": [
    "# Reads FASTA file with human proteome, and sequences a to file for easier Pandas reading.\n",
    "sequences = open(DATA_INTERIM + \"human_prot_sequences.txt\", \"w\")\n",
    "for e, record in enumerate(SeqIO.parse(DATA_EXTERNAL + \"uniprot-proteome%3AUP000005640.fasta\", \"fasta\")):\n",
    "    uni_id = record.id.split(\"|\")[1]\n",
    "    sequences.write(\"%s,%s\\n\" % (uni_id, record.seq))"
   ]
  },
  {
   "cell_type": "code",
   "execution_count": 6,
   "metadata": {
    "ExecuteTime": {
     "end_time": "2018-02-17T18:25:35.944177Z",
     "start_time": "2018-02-17T18:25:35.418197Z"
    },
    "collapsed": true
   },
   "outputs": [],
   "source": [
    "sequences = pd.read_csv(DATA_INTERIM + \"human_prot_sequences.txt\", header=None, names=[\"uniprot\", \"sequence\"])"
   ]
  },
  {
   "cell_type": "code",
   "execution_count": 7,
   "metadata": {
    "ExecuteTime": {
     "end_time": "2018-02-17T18:25:36.914834Z",
     "start_time": "2018-02-17T18:25:36.883945Z"
    }
   },
   "outputs": [
    {
     "data": {
      "text/html": [
       "<div>\n",
       "<table border=\"1\" class=\"dataframe\">\n",
       "  <thead>\n",
       "    <tr style=\"text-align: right;\">\n",
       "      <th></th>\n",
       "      <th>uniprot</th>\n",
       "      <th>sequence</th>\n",
       "    </tr>\n",
       "  </thead>\n",
       "  <tbody>\n",
       "    <tr>\n",
       "      <th>0</th>\n",
       "      <td>Q9Y3L3</td>\n",
       "      <td>MMKRQLHRMRQLAQTGSLGRTPETAEFLGEDLLQVEQRLEPAKRAA...</td>\n",
       "    </tr>\n",
       "    <tr>\n",
       "      <th>1</th>\n",
       "      <td>P04217</td>\n",
       "      <td>MSMLVVFLLLWGVTWGPVTEAAIFYETQPSLWAESESLLKPLANVT...</td>\n",
       "    </tr>\n",
       "    <tr>\n",
       "      <th>2</th>\n",
       "      <td>Q5SQ80</td>\n",
       "      <td>MKLFGFGSRRGQTAQGSIDHVYTGSGYRIRDSELQKIHRAAVKGDA...</td>\n",
       "    </tr>\n",
       "    <tr>\n",
       "      <th>3</th>\n",
       "      <td>Q4UJ75</td>\n",
       "      <td>MKLFGFGSRRGQTAQGSIDHVYTGSGYRIRDSELQKIHRAAVKGDA...</td>\n",
       "    </tr>\n",
       "    <tr>\n",
       "      <th>4</th>\n",
       "      <td>A0PJZ0</td>\n",
       "      <td>MKLFGFRSRRGQTVLGSIDHLYTGSGYRIRYSELQKIHKAAVKGDA...</td>\n",
       "    </tr>\n",
       "  </tbody>\n",
       "</table>\n",
       "</div>"
      ],
      "text/plain": [
       "  uniprot                                           sequence\n",
       "0  Q9Y3L3  MMKRQLHRMRQLAQTGSLGRTPETAEFLGEDLLQVEQRLEPAKRAA...\n",
       "1  P04217  MSMLVVFLLLWGVTWGPVTEAAIFYETQPSLWAESESLLKPLANVT...\n",
       "2  Q5SQ80  MKLFGFGSRRGQTAQGSIDHVYTGSGYRIRDSELQKIHRAAVKGDA...\n",
       "3  Q4UJ75  MKLFGFGSRRGQTAQGSIDHVYTGSGYRIRDSELQKIHRAAVKGDA...\n",
       "4  A0PJZ0  MKLFGFRSRRGQTVLGSIDHLYTGSGYRIRYSELQKIHKAAVKGDA..."
      ]
     },
     "execution_count": 7,
     "metadata": {},
     "output_type": "execute_result"
    }
   ],
   "source": [
    "sequences.head()"
   ]
  },
  {
   "cell_type": "code",
   "execution_count": 8,
   "metadata": {
    "ExecuteTime": {
     "end_time": "2018-02-17T18:25:37.825276Z",
     "start_time": "2018-02-17T18:25:37.647483Z"
    },
    "collapsed": true
   },
   "outputs": [],
   "source": [
    "uniprots = uniprots.reset_index().merge(sequences, on=\"uniprot\").set_index(\"index\")"
   ]
  },
  {
   "cell_type": "code",
   "execution_count": 9,
   "metadata": {
    "ExecuteTime": {
     "end_time": "2018-02-17T18:25:42.977265Z",
     "start_time": "2018-02-17T18:25:39.437876Z"
    },
    "collapsed": true
   },
   "outputs": [],
   "source": [
    "# Extracts subsequence and applies variation. \n",
    "# If var == False, it doesn't replace the aminoacid. \n",
    "# With width == -1, then the whole sequence is returned.\n",
    "def get_subsequence(row, width=1, var=True):\n",
    "    seq = row['sequence']\n",
    "    pos = row['position']-1\n",
    "    if (width != -1 and var):\n",
    "        return seq[pos-width:pos] + row['amino_var'] + seq[pos+1:pos+width+1]\n",
    "    if (width != -1 and  not var):\n",
    "        return seq[pos-width:pos] + seq[pos-1:pos+width+1]\n",
    "    if (width == -1 and var):\n",
    "        return seq[:pos] + row['amino_var'] + seq[pos+1:]\n",
    "    \n",
    "uniprots['slice'] = uniprots.apply(partial(get_subsequence, width=7, var=False), axis=1)\n",
    "uniprots['var_slice'] = uniprots.apply(partial(get_subsequence, width=7), axis=1)"
   ]
  },
  {
   "cell_type": "code",
   "execution_count": 9,
   "metadata": {
    "ExecuteTime": {
     "end_time": "2018-01-28T16:46:02.357473Z",
     "start_time": "2018-01-28T16:46:02.332652Z"
    }
   },
   "outputs": [
    {
     "data": {
      "text/html": [
       "<div>\n",
       "<table border=\"1\" class=\"dataframe\">\n",
       "  <thead>\n",
       "    <tr style=\"text-align: right;\">\n",
       "      <th></th>\n",
       "      <th>uniprot</th>\n",
       "      <th>position</th>\n",
       "      <th>amino</th>\n",
       "      <th>amino_var</th>\n",
       "      <th>sequence</th>\n",
       "      <th>slice</th>\n",
       "      <th>var_slice</th>\n",
       "    </tr>\n",
       "    <tr>\n",
       "      <th>index</th>\n",
       "      <th></th>\n",
       "      <th></th>\n",
       "      <th></th>\n",
       "      <th></th>\n",
       "      <th></th>\n",
       "      <th></th>\n",
       "      <th></th>\n",
       "    </tr>\n",
       "  </thead>\n",
       "  <tbody>\n",
       "    <tr>\n",
       "      <th>P04217-52-H-R</th>\n",
       "      <td>P04217</td>\n",
       "      <td>52</td>\n",
       "      <td>H</td>\n",
       "      <td>R</td>\n",
       "      <td>MSMLVVFLLLWGVTWGPVTEAAIFYETQPSLWAESESLLKPLANVT...</td>\n",
       "      <td>VTLTCQAAHLETPDFQ</td>\n",
       "      <td>VTLTCQARLETPDFQ</td>\n",
       "    </tr>\n",
       "    <tr>\n",
       "      <th>P04217-395-H-R</th>\n",
       "      <td>P04217</td>\n",
       "      <td>395</td>\n",
       "      <td>H</td>\n",
       "      <td>R</td>\n",
       "      <td>MSMLVVFLLLWGVTWGPVTEAAIFYETQPSLWAESESLLKPLANVT...</td>\n",
       "      <td>PSERLELLHVDGPPPR</td>\n",
       "      <td>PSERLELRVDGPPPR</td>\n",
       "    </tr>\n",
       "    <tr>\n",
       "      <th>Q9NQ94-555-V-M</th>\n",
       "      <td>Q9NQ94</td>\n",
       "      <td>555</td>\n",
       "      <td>V</td>\n",
       "      <td>M</td>\n",
       "      <td>MESNHKSGDGLSGTQKEAALRALVQRTGYSLVQENGQRKYGGPPPG...</td>\n",
       "      <td>VPNATAPPVSAAQLKQ</td>\n",
       "      <td>VPNATAPMSAAQLKQ</td>\n",
       "    </tr>\n",
       "    <tr>\n",
       "      <th>Q9NQ94-558-A-S</th>\n",
       "      <td>Q9NQ94</td>\n",
       "      <td>558</td>\n",
       "      <td>A</td>\n",
       "      <td>S</td>\n",
       "      <td>MESNHKSGDGLSGTQKEAALRALVQRTGYSLVQENGQRKYGGPPPG...</td>\n",
       "      <td>ATAPVSAAAQLKQAVT</td>\n",
       "      <td>ATAPVSASQLKQAVT</td>\n",
       "    </tr>\n",
       "    <tr>\n",
       "      <th>A8K2U0-207-G-R</th>\n",
       "      <td>A8K2U0</td>\n",
       "      <td>207</td>\n",
       "      <td>G</td>\n",
       "      <td>R</td>\n",
       "      <td>MWAQLLLGMLALSPAIAEELPNYLVTLPARLNFPSVQKVCLDLSPG...</td>\n",
       "      <td>VAEGKTFFGTFSVEEY</td>\n",
       "      <td>VAEGKTFRTFSVEEY</td>\n",
       "    </tr>\n",
       "  </tbody>\n",
       "</table>\n",
       "</div>"
      ],
      "text/plain": [
       "               uniprot  position amino amino_var  \\\n",
       "index                                              \n",
       "P04217-52-H-R   P04217        52     H         R   \n",
       "P04217-395-H-R  P04217       395     H         R   \n",
       "Q9NQ94-555-V-M  Q9NQ94       555     V         M   \n",
       "Q9NQ94-558-A-S  Q9NQ94       558     A         S   \n",
       "A8K2U0-207-G-R  A8K2U0       207     G         R   \n",
       "\n",
       "                                                         sequence  \\\n",
       "index                                                               \n",
       "P04217-52-H-R   MSMLVVFLLLWGVTWGPVTEAAIFYETQPSLWAESESLLKPLANVT...   \n",
       "P04217-395-H-R  MSMLVVFLLLWGVTWGPVTEAAIFYETQPSLWAESESLLKPLANVT...   \n",
       "Q9NQ94-555-V-M  MESNHKSGDGLSGTQKEAALRALVQRTGYSLVQENGQRKYGGPPPG...   \n",
       "Q9NQ94-558-A-S  MESNHKSGDGLSGTQKEAALRALVQRTGYSLVQENGQRKYGGPPPG...   \n",
       "A8K2U0-207-G-R  MWAQLLLGMLALSPAIAEELPNYLVTLPARLNFPSVQKVCLDLSPG...   \n",
       "\n",
       "                           slice        var_slice  \n",
       "index                                              \n",
       "P04217-52-H-R   VTLTCQAAHLETPDFQ  VTLTCQARLETPDFQ  \n",
       "P04217-395-H-R  PSERLELLHVDGPPPR  PSERLELRVDGPPPR  \n",
       "Q9NQ94-555-V-M  VPNATAPPVSAAQLKQ  VPNATAPMSAAQLKQ  \n",
       "Q9NQ94-558-A-S  ATAPVSAAAQLKQAVT  ATAPVSASQLKQAVT  \n",
       "A8K2U0-207-G-R  VAEGKTFFGTFSVEEY  VAEGKTFRTFSVEEY  "
      ]
     },
     "execution_count": 9,
     "metadata": {},
     "output_type": "execute_result"
    }
   ],
   "source": [
    "uniprots.head()"
   ]
  },
  {
   "cell_type": "code",
   "execution_count": 10,
   "metadata": {
    "ExecuteTime": {
     "end_time": "2018-02-17T18:25:46.305338Z",
     "start_time": "2018-02-17T18:25:45.934789Z"
    },
    "collapsed": true
   },
   "outputs": [],
   "source": [
    "uniprots[[\"var_slice\", \"slice\"]].to_csv(DATA_INTERIM + \"humsavar_full_protein_slices.csv.gz\", index=True, index_label=\"MUTANT\", compression=\"gzip\")"
   ]
  },
  {
   "cell_type": "code",
   "execution_count": 27,
   "metadata": {
    "ExecuteTime": {
     "end_time": "2018-02-17T19:23:06.660586Z",
     "start_time": "2018-02-17T19:22:28.402250Z"
    },
    "scrolled": true
   },
   "outputs": [
    {
     "name": "stderr",
     "output_type": "stream",
     "text": [
      "/home/marlan/anaconda3/lib/python3.6/site-packages/ipykernel/__main__.py:21: RuntimeWarning: divide by zero encountered in log\n",
      "/home/marlan/anaconda3/lib/python3.6/site-packages/ipykernel/__main__.py:21: RuntimeWarning: invalid value encountered in log\n",
      "/home/marlan/anaconda3/lib/python3.6/site-packages/numpy/core/_methods.py:59: RuntimeWarning: Mean of empty slice.\n",
      "  warnings.warn(\"Mean of empty slice.\", RuntimeWarning)\n"
     ]
    }
   ],
   "source": [
    "uniprots = pd.read_csv(DATA_INTERIM + \"humsavar_full_protein_slices.csv.gz\")\n",
    "\n",
    "def get_protparam(row, func_name):\n",
    "    protein_analysis = ProteinAnalysis(row)\n",
    "    try:\n",
    "        param = getattr(protein_analysis, func_name)()\n",
    "        if type(param) == list:\n",
    "            return np.average(param)\n",
    "        else:\n",
    "            return param\n",
    "    except:\n",
    "        return np.nan\n",
    "        \n",
    "\n",
    "params = [\"aromaticity\", \"isoelectric_point\", \"gravy\", \"instability_index\", \"flexibility\"]\n",
    "\n",
    "for param in params:\n",
    "    uniprots[('var_' + param)] = uniprots.var_slice.apply(partial(get_protparam, func_name=param))\n",
    "    uniprots[param] = uniprots.slice.apply(partial(get_protparam, func_name=param))\n",
    "    uniprots[param + \"_diff\"] =  abs(uniprots[param] - uniprots[('var_' + param)])\n",
    "    uniprots[param + \"_log_ratio\"] = np.log((uniprots[param]) / (uniprots[('var_' + param)]))\n",
    "    uniprots.drop([param, 'var_' + param], 1, inplace=True)\n",
    "    \n",
    "uniprots.columns = uniprots.columns.map(lambda x: x.upper())"
   ]
  },
  {
   "cell_type": "code",
   "execution_count": 28,
   "metadata": {
    "ExecuteTime": {
     "end_time": "2018-02-17T19:23:15.926330Z",
     "start_time": "2018-02-17T19:23:15.907903Z"
    }
   },
   "outputs": [
    {
     "data": {
      "text/plain": [
       "Index(['MUTANT', 'VAR_SLICE', 'SLICE', 'AROMATICITY_DIFF',\n",
       "       'AROMATICITY_LOG_RATIO', 'ISOELECTRIC_POINT_DIFF',\n",
       "       'ISOELECTRIC_POINT_LOG_RATIO', 'GRAVY_DIFF', 'GRAVY_LOG_RATIO',\n",
       "       'INSTABILITY_INDEX_DIFF', 'INSTABILITY_INDEX_LOG_RATIO',\n",
       "       'FLEXIBILITY_DIFF', 'FLEXIBILITY_LOG_RATIO'],\n",
       "      dtype='object')"
      ]
     },
     "execution_count": 28,
     "metadata": {},
     "output_type": "execute_result"
    }
   ],
   "source": [
    "uniprots.columns"
   ]
  },
  {
   "cell_type": "code",
   "execution_count": 29,
   "metadata": {
    "ExecuteTime": {
     "end_time": "2018-02-17T19:23:20.803151Z",
     "start_time": "2018-02-17T19:23:17.114100Z"
    },
    "collapsed": true
   },
   "outputs": [],
   "source": [
    "uniprots.drop([\"SLICE\", \"VAR_SLICE\"], 1).to_csv(DATA_INTERIM + \"protparam_features.csv.gz\", index=False, compression=\"gzip\")"
   ]
  },
  {
   "cell_type": "code",
   "execution_count": null,
   "metadata": {
    "collapsed": true
   },
   "outputs": [],
   "source": []
  }
 ],
 "metadata": {
  "kernelspec": {
   "display_name": "Python 3",
   "language": "python",
   "name": "python3"
  },
  "language_info": {
   "codemirror_mode": {
    "name": "ipython",
    "version": 3
   },
   "file_extension": ".py",
   "mimetype": "text/x-python",
   "name": "python",
   "nbconvert_exporter": "python",
   "pygments_lexer": "ipython3",
   "version": "3.6.3"
  },
  "varInspector": {
   "cols": {
    "lenName": 16,
    "lenType": 16,
    "lenVar": 40
   },
   "kernels_config": {
    "python": {
     "delete_cmd_postfix": "",
     "delete_cmd_prefix": "del ",
     "library": "var_list.py",
     "varRefreshCmd": "print(var_dic_list())"
    },
    "r": {
     "delete_cmd_postfix": ") ",
     "delete_cmd_prefix": "rm(",
     "library": "var_list.r",
     "varRefreshCmd": "cat(var_dic_list()) "
    }
   },
   "types_to_exclude": [
    "module",
    "function",
    "builtin_function_or_method",
    "instance",
    "_Feature"
   ],
   "window_display": false
  }
 },
 "nbformat": 4,
 "nbformat_minor": 2
}
