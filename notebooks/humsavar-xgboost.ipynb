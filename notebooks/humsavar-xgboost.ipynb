{
 "cells": [
  {
   "cell_type": "code",
   "execution_count": 2,
   "metadata": {
    "ExecuteTime": {
     "end_time": "2018-02-18T13:52:20.446229Z",
     "start_time": "2018-02-18T13:52:20.423441Z"
    },
    "collapsed": true
   },
   "outputs": [],
   "source": [
    "import pandas as pd\n",
    "import xgboost as xgb\n",
    "from xgboost import XGBClassifier\n",
    "from sklearn.model_selection import RandomizedSearchCV, GridSearchCV\n",
    "from sklearn.metrics import roc_auc_score\n",
    "from sklearn.pipeline import Pipeline, make_pipeline\n",
    "from sklearn.preprocessing import StandardScaler, RobustScaler, Imputer, LabelEncoder\n",
    "from datetime import datetime\n",
    "\n",
    "def timer(start_time=None):\n",
    "    if not start_time:\n",
    "        start_time = datetime.now()\n",
    "        return start_time\n",
    "    elif start_time:\n",
    "        thour, temp_sec = divmod((datetime.now() - start_time).total_seconds(), 3600)\n",
    "        tmin, tsec = divmod(temp_sec, 60)\n",
    "        print('\\n Time taken: %i hours %i minutes and %s seconds.' % (thour, tmin, round(tsec, 2)))\n"
   ]
  },
  {
   "cell_type": "code",
   "execution_count": 3,
   "metadata": {
    "ExecuteTime": {
     "end_time": "2018-02-18T13:52:20.807818Z",
     "start_time": "2018-02-18T13:52:20.795667Z"
    },
    "collapsed": true
   },
   "outputs": [],
   "source": [
    "RANDOM_STATE = 42\n",
    "DATA_EXTERNAL = \"../data/external/\"\n",
    "DATA_PROCESSED = \"../data/processed/\"\n",
    "DATA_INTERIM = \"../data/interim/\""
   ]
  },
  {
   "cell_type": "code",
   "execution_count": 4,
   "metadata": {
    "ExecuteTime": {
     "end_time": "2018-02-18T13:52:21.369063Z",
     "start_time": "2018-02-18T13:52:21.343775Z"
    },
    "collapsed": true
   },
   "outputs": [],
   "source": [
    "model_dict = {\n",
    "    'xgb':{'pipe':('xgb', XGBClassifier(learning_rate=0.01, n_estimators=600, objective='binary:logistic',\n",
    "                    silent=True, nthread=1)),\n",
    "          'params':[{'min_child_weight': [1, 5, 10], 'gamma': [0.5, 1, 1.5, 2, 5], 'subsample': [0.6, 0.8, 1.0], \n",
    "                     'colsample_bytree': [0.6, 0.8, 1.0], 'max_depth': [3, 4, 5]\n",
    "        }],\n",
    "          'name':'Xtreme Gradient Boosting'\n",
    "    },\n",
    "}"
   ]
  },
  {
   "cell_type": "code",
   "execution_count": 5,
   "metadata": {
    "ExecuteTime": {
     "end_time": "2018-02-18T13:52:22.002772Z",
     "start_time": "2018-02-18T13:52:21.981213Z"
    },
    "collapsed": true
   },
   "outputs": [],
   "source": [
    "folds = 5\n",
    "param_comb = 20\n",
    "algorithm = 'xgb'\n",
    "model = model_dict[algorithm]['pipe'][1]\n",
    "param_list = model_dict[algorithm]['params'][0]\n",
    "rs = RandomizedSearchCV(model, param_distributions=param_list, n_iter=param_comb, scoring='roc_auc', \n",
    "                        n_jobs=3, cv=folds, verbose=1, random_state=RANDOM_STATE)"
   ]
  },
  {
   "cell_type": "code",
   "execution_count": null,
   "metadata": {
    "ExecuteTime": {
     "start_time": "2018-02-18T16:52:23.601Z"
    }
   },
   "outputs": [
    {
     "name": "stdout",
     "output_type": "stream",
     "text": [
      "Fitting 5 folds for each of 20 candidates, totalling 100 fits\n"
     ]
    }
   ],
   "source": [
    "xgb_train_scores = []\n",
    "xgb_test_scores = []\n",
    "for i in range(20):\n",
    "    train = pd.read_csv(DATA_PROCESSED + \"train_test_sets/train_{}.csv\".format(i), index_col=\"MUTANT\")\n",
    "    test = pd.read_csv(DATA_PROCESSED + \"train_test_sets/test_{}.csv\".format(i), index_col=\"MUTANT\")\n",
    "    X_train = train.drop(\"TYPE\", 1)\n",
    "    y_train = train.TYPE\n",
    "    X_test = test.drop(\"TYPE\", 1)\n",
    "    y_test = test.TYPE\n",
    "    le = LabelEncoder().fit(y_train)\n",
    "    rs.fit(X_train, le.transform(y_train))\n",
    "    print(\"Parameters ({}): {}\".format(i, rs.best_params_))\n",
    "    print(\"Score train ({}): {}\".format(i, rs.best_score_))\n",
    "    xgb = rs.best_estimator_\n",
    "    y_pred = xgb.predict_proba(X_test)\n",
    "    test_score = roc_auc_score(le.transform(y_test), y_pred[:, 1])\n",
    "    print(\"Score test ({}): {}\".format(i, test_score))\n",
    "    xgb_train_scores.append(rs.best_score_)\n",
    "    xgb_test_scores.append(test_score)"
   ]
  },
  {
   "cell_type": "code",
   "execution_count": null,
   "metadata": {
    "collapsed": true
   },
   "outputs": [],
   "source": []
  }
 ],
 "metadata": {
  "kernelspec": {
   "display_name": "Python 3",
   "language": "python",
   "name": "python3"
  },
  "language_info": {
   "codemirror_mode": {
    "name": "ipython",
    "version": 3
   },
   "file_extension": ".py",
   "mimetype": "text/x-python",
   "name": "python",
   "nbconvert_exporter": "python",
   "pygments_lexer": "ipython3",
   "version": "3.6.3"
  },
  "varInspector": {
   "cols": {
    "lenName": 16,
    "lenType": 16,
    "lenVar": 40
   },
   "kernels_config": {
    "python": {
     "delete_cmd_postfix": "",
     "delete_cmd_prefix": "del ",
     "library": "var_list.py",
     "varRefreshCmd": "print(var_dic_list())"
    },
    "r": {
     "delete_cmd_postfix": ") ",
     "delete_cmd_prefix": "rm(",
     "library": "var_list.r",
     "varRefreshCmd": "cat(var_dic_list()) "
    }
   },
   "types_to_exclude": [
    "module",
    "function",
    "builtin_function_or_method",
    "instance",
    "_Feature"
   ],
   "window_display": false
  }
 },
 "nbformat": 4,
 "nbformat_minor": 2
}
