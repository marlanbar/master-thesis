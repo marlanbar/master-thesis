{
 "cells": [
  {
   "cell_type": "code",
   "execution_count": 1,
   "metadata": {
    "collapsed": true
   },
   "outputs": [],
   "source": [
    "import pandas as pd"
   ]
  },
  {
   "cell_type": "markdown",
   "metadata": {},
   "source": [
    "### Levanto la tabla de la pagina Humsavar sin el prologo y la coda"
   ]
  },
  {
   "cell_type": "code",
   "execution_count": 2,
   "metadata": {},
   "outputs": [],
   "source": [
    "hum = pd.read_csv(\"data/humsavar_clean.csv.gz\", sep=\",\")"
   ]
  },
  {
   "cell_type": "code",
   "execution_count": 3,
   "metadata": {},
   "outputs": [],
   "source": [
    "hum.columns = hum.columns.str.replace(\" \", \"_\")"
   ]
  },
  {
   "cell_type": "code",
   "execution_count": 4,
   "metadata": {},
   "outputs": [
    {
     "data": {
      "text/plain": [
       "(76730, 7)"
      ]
     },
     "execution_count": 4,
     "metadata": {},
     "output_type": "execute_result"
    }
   ],
   "source": [
    "hum.shape"
   ]
  },
  {
   "cell_type": "code",
   "execution_count": 5,
   "metadata": {},
   "outputs": [
    {
     "data": {
      "text/plain": [
       "Polymorphism    39655\n",
       "Disease         29726\n",
       "Unclassified     7349\n",
       "Name: Type_of_variant, dtype: int64"
      ]
     },
     "execution_count": 5,
     "metadata": {},
     "output_type": "execute_result"
    }
   ],
   "source": [
    "hum.Type_of_variant.value_counts()"
   ]
  },
  {
   "cell_type": "code",
   "execution_count": 6,
   "metadata": {},
   "outputs": [
    {
     "data": {
      "text/plain": [
       "Index([u'Main_gene_name', u'Swiss_Prot_AC', u'FTId', u'AA_Change',\n",
       "       u'Type_of_variant', u'dbSNP', u'Disease_Name'],\n",
       "      dtype='object')"
      ]
     },
     "execution_count": 6,
     "metadata": {},
     "output_type": "execute_result"
    }
   ],
   "source": [
    "hum.columns"
   ]
  },
  {
   "cell_type": "markdown",
   "metadata": {},
   "source": [
    "### Los duplicados de la tabla humsaVar varian en su dbSNP y Disease Name unicamente"
   ]
  },
  {
   "cell_type": "code",
   "execution_count": 7,
   "metadata": {
    "collapsed": true
   },
   "outputs": [
    {
     "data": {
      "text/html": [
       "<div>\n",
       "<table border=\"1\" class=\"dataframe\">\n",
       "  <thead>\n",
       "    <tr style=\"text-align: right;\">\n",
       "      <th></th>\n",
       "      <th>Main_gene_name</th>\n",
       "      <th>Swiss_Prot_AC</th>\n",
       "      <th>FTId</th>\n",
       "      <th>AA_Change</th>\n",
       "      <th>Type_of_variant</th>\n",
       "      <th>dbSNP</th>\n",
       "      <th>Disease_Name</th>\n",
       "    </tr>\n",
       "  </thead>\n",
       "  <tbody>\n",
       "    <tr>\n",
       "      <th>228</th>\n",
       "      <td>ABCA4</td>\n",
       "      <td>P78363</td>\n",
       "      <td>VAR_008401</td>\n",
       "      <td>p.Gly65Glu</td>\n",
       "      <td>Disease</td>\n",
       "      <td>rs62654395</td>\n",
       "      <td>Cone-rod dystrophy 3 (CORD3) [MIM:604116]</td>\n",
       "    </tr>\n",
       "    <tr>\n",
       "      <th>229</th>\n",
       "      <td>ABCA4</td>\n",
       "      <td>P78363</td>\n",
       "      <td>VAR_008401</td>\n",
       "      <td>p.Gly65Glu</td>\n",
       "      <td>Disease</td>\n",
       "      <td>rs62654395</td>\n",
       "      <td>Stargardt disease 1 (STGD1) [MIM:248200]</td>\n",
       "    </tr>\n",
       "    <tr>\n",
       "      <th>234</th>\n",
       "      <td>ABCA4</td>\n",
       "      <td>P78363</td>\n",
       "      <td>VAR_008406</td>\n",
       "      <td>p.Arg212Cys</td>\n",
       "      <td>Disease</td>\n",
       "      <td>rs61750200</td>\n",
       "      <td>Cone-rod dystrophy 3 (CORD3) [MIM:604116]</td>\n",
       "    </tr>\n",
       "    <tr>\n",
       "      <th>235</th>\n",
       "      <td>ABCA4</td>\n",
       "      <td>P78363</td>\n",
       "      <td>VAR_008406</td>\n",
       "      <td>p.Arg212Cys</td>\n",
       "      <td>Disease</td>\n",
       "      <td>rs61750200</td>\n",
       "      <td>Stargardt disease 1 (STGD1) [MIM:248200]</td>\n",
       "    </tr>\n",
       "    <tr>\n",
       "      <th>240</th>\n",
       "      <td>ABCA4</td>\n",
       "      <td>P78363</td>\n",
       "      <td>VAR_008411</td>\n",
       "      <td>p.Ala407Val</td>\n",
       "      <td>Disease</td>\n",
       "      <td>rs61751264</td>\n",
       "      <td>Cone-rod dystrophy 3 (CORD3) [MIM:604116]</td>\n",
       "    </tr>\n",
       "    <tr>\n",
       "      <th>241</th>\n",
       "      <td>ABCA4</td>\n",
       "      <td>P78363</td>\n",
       "      <td>VAR_008411</td>\n",
       "      <td>p.Ala407Val</td>\n",
       "      <td>Disease</td>\n",
       "      <td>rs61751264</td>\n",
       "      <td>Stargardt disease 1 (STGD1) [MIM:248200]</td>\n",
       "    </tr>\n",
       "    <tr>\n",
       "      <th>243</th>\n",
       "      <td>ABCA4</td>\n",
       "      <td>P78363</td>\n",
       "      <td>VAR_008413</td>\n",
       "      <td>p.Glu471Lys</td>\n",
       "      <td>Disease</td>\n",
       "      <td>rs1800548</td>\n",
       "      <td>Macular degeneration, age-related, 2 (ARMD2) [...</td>\n",
       "    </tr>\n",
       "    <tr>\n",
       "      <th>244</th>\n",
       "      <td>ABCA4</td>\n",
       "      <td>P78363</td>\n",
       "      <td>VAR_008413</td>\n",
       "      <td>p.Glu471Lys</td>\n",
       "      <td>Disease</td>\n",
       "      <td>rs1800548</td>\n",
       "      <td>Stargardt disease 1 (STGD1) [MIM:248200]</td>\n",
       "    </tr>\n",
       "    <tr>\n",
       "      <th>246</th>\n",
       "      <td>ABCA4</td>\n",
       "      <td>P78363</td>\n",
       "      <td>VAR_008415</td>\n",
       "      <td>p.Leu541Pro</td>\n",
       "      <td>Disease</td>\n",
       "      <td>rs61751392</td>\n",
       "      <td>Cone-rod dystrophy 3 (CORD3) [MIM:604116]</td>\n",
       "    </tr>\n",
       "    <tr>\n",
       "      <th>247</th>\n",
       "      <td>ABCA4</td>\n",
       "      <td>P78363</td>\n",
       "      <td>VAR_008415</td>\n",
       "      <td>p.Leu541Pro</td>\n",
       "      <td>Disease</td>\n",
       "      <td>rs61751392</td>\n",
       "      <td>Fundus flavimaculatus (FFM) [MIM:248200]</td>\n",
       "    </tr>\n",
       "    <tr>\n",
       "      <th>248</th>\n",
       "      <td>ABCA4</td>\n",
       "      <td>P78363</td>\n",
       "      <td>VAR_008415</td>\n",
       "      <td>p.Leu541Pro</td>\n",
       "      <td>Disease</td>\n",
       "      <td>rs61751392</td>\n",
       "      <td>Stargardt disease 1 (STGD1) [MIM:248200]</td>\n",
       "    </tr>\n",
       "    <tr>\n",
       "      <th>255</th>\n",
       "      <td>ABCA4</td>\n",
       "      <td>P78363</td>\n",
       "      <td>VAR_008422</td>\n",
       "      <td>p.Gly818Glu</td>\n",
       "      <td>Disease</td>\n",
       "      <td>rs61750202</td>\n",
       "      <td>Macular degeneration, age-related, 2 (ARMD2) [...</td>\n",
       "    </tr>\n",
       "    <tr>\n",
       "      <th>256</th>\n",
       "      <td>ABCA4</td>\n",
       "      <td>P78363</td>\n",
       "      <td>VAR_008422</td>\n",
       "      <td>p.Gly818Glu</td>\n",
       "      <td>Disease</td>\n",
       "      <td>rs61750202</td>\n",
       "      <td>Stargardt disease 1 (STGD1) [MIM:248200]</td>\n",
       "    </tr>\n",
       "    <tr>\n",
       "      <th>259</th>\n",
       "      <td>ABCA4</td>\n",
       "      <td>P78363</td>\n",
       "      <td>VAR_008425</td>\n",
       "      <td>p.Gly863Ala</td>\n",
       "      <td>Disease</td>\n",
       "      <td>rs76157638</td>\n",
       "      <td>Cone-rod dystrophy 3 (CORD3) [MIM:604116]</td>\n",
       "    </tr>\n",
       "    <tr>\n",
       "      <th>260</th>\n",
       "      <td>ABCA4</td>\n",
       "      <td>P78363</td>\n",
       "      <td>VAR_008425</td>\n",
       "      <td>p.Gly863Ala</td>\n",
       "      <td>Disease</td>\n",
       "      <td>rs76157638</td>\n",
       "      <td>Fundus flavimaculatus (FFM) [MIM:248200]</td>\n",
       "    </tr>\n",
       "    <tr>\n",
       "      <th>261</th>\n",
       "      <td>ABCA4</td>\n",
       "      <td>P78363</td>\n",
       "      <td>VAR_008425</td>\n",
       "      <td>p.Gly863Ala</td>\n",
       "      <td>Disease</td>\n",
       "      <td>rs76157638</td>\n",
       "      <td>Stargardt disease 1 (STGD1) [MIM:248200]</td>\n",
       "    </tr>\n",
       "    <tr>\n",
       "      <th>269</th>\n",
       "      <td>ABCA4</td>\n",
       "      <td>P78363</td>\n",
       "      <td>VAR_008433</td>\n",
       "      <td>p.Ala1038Val</td>\n",
       "      <td>Disease</td>\n",
       "      <td>rs61751374</td>\n",
       "      <td>Cone-rod dystrophy 3 (CORD3) [MIM:604116]</td>\n",
       "    </tr>\n",
       "    <tr>\n",
       "      <th>270</th>\n",
       "      <td>ABCA4</td>\n",
       "      <td>P78363</td>\n",
       "      <td>VAR_008433</td>\n",
       "      <td>p.Ala1038Val</td>\n",
       "      <td>Disease</td>\n",
       "      <td>rs61751374</td>\n",
       "      <td>Fundus flavimaculatus (FFM) [MIM:248200]</td>\n",
       "    </tr>\n",
       "    <tr>\n",
       "      <th>271</th>\n",
       "      <td>ABCA4</td>\n",
       "      <td>P78363</td>\n",
       "      <td>VAR_008433</td>\n",
       "      <td>p.Ala1038Val</td>\n",
       "      <td>Disease</td>\n",
       "      <td>rs61751374</td>\n",
       "      <td>Stargardt disease 1 (STGD1) [MIM:248200]</td>\n",
       "    </tr>\n",
       "    <tr>\n",
       "      <th>276</th>\n",
       "      <td>ABCA4</td>\n",
       "      <td>P78363</td>\n",
       "      <td>VAR_008438</td>\n",
       "      <td>p.Glu1122Lys</td>\n",
       "      <td>Disease</td>\n",
       "      <td>rs61751399</td>\n",
       "      <td>Cone-rod dystrophy 3 (CORD3) [MIM:604116]</td>\n",
       "    </tr>\n",
       "    <tr>\n",
       "      <th>277</th>\n",
       "      <td>ABCA4</td>\n",
       "      <td>P78363</td>\n",
       "      <td>VAR_008438</td>\n",
       "      <td>p.Glu1122Lys</td>\n",
       "      <td>Disease</td>\n",
       "      <td>rs61751399</td>\n",
       "      <td>Stargardt disease 1 (STGD1) [MIM:248200]</td>\n",
       "    </tr>\n",
       "    <tr>\n",
       "      <th>278</th>\n",
       "      <td>ABCA4</td>\n",
       "      <td>P78363</td>\n",
       "      <td>VAR_008439</td>\n",
       "      <td>p.Arg1129Leu</td>\n",
       "      <td>Disease</td>\n",
       "      <td>rs1801269</td>\n",
       "      <td>Macular degeneration, age-related, 2 (ARMD2) [...</td>\n",
       "    </tr>\n",
       "    <tr>\n",
       "      <th>279</th>\n",
       "      <td>ABCA4</td>\n",
       "      <td>P78363</td>\n",
       "      <td>VAR_008439</td>\n",
       "      <td>p.Arg1129Leu</td>\n",
       "      <td>Disease</td>\n",
       "      <td>rs1801269</td>\n",
       "      <td>Stargardt disease 1 (STGD1) [MIM:248200]</td>\n",
       "    </tr>\n",
       "    <tr>\n",
       "      <th>293</th>\n",
       "      <td>ABCA4</td>\n",
       "      <td>P78363</td>\n",
       "      <td>VAR_008453</td>\n",
       "      <td>p.Cys1488Arg</td>\n",
       "      <td>Disease</td>\n",
       "      <td>rs61750146</td>\n",
       "      <td>Fundus flavimaculatus (FFM) [MIM:248200]</td>\n",
       "    </tr>\n",
       "    <tr>\n",
       "      <th>294</th>\n",
       "      <td>ABCA4</td>\n",
       "      <td>P78363</td>\n",
       "      <td>VAR_008453</td>\n",
       "      <td>p.Cys1488Arg</td>\n",
       "      <td>Disease</td>\n",
       "      <td>rs61750146</td>\n",
       "      <td>Stargardt disease 1 (STGD1) [MIM:248200]</td>\n",
       "    </tr>\n",
       "    <tr>\n",
       "      <th>295</th>\n",
       "      <td>ABCA4</td>\n",
       "      <td>P78363</td>\n",
       "      <td>VAR_008454</td>\n",
       "      <td>p.Cys1490Tyr</td>\n",
       "      <td>Disease</td>\n",
       "      <td>rs61751402</td>\n",
       "      <td>Cone-rod dystrophy 3 (CORD3) [MIM:604116]</td>\n",
       "    </tr>\n",
       "    <tr>\n",
       "      <th>296</th>\n",
       "      <td>ABCA4</td>\n",
       "      <td>P78363</td>\n",
       "      <td>VAR_008454</td>\n",
       "      <td>p.Cys1490Tyr</td>\n",
       "      <td>Disease</td>\n",
       "      <td>rs61751402</td>\n",
       "      <td>Stargardt disease 1 (STGD1) [MIM:248200]</td>\n",
       "    </tr>\n",
       "    <tr>\n",
       "      <th>300</th>\n",
       "      <td>ABCA4</td>\n",
       "      <td>P78363</td>\n",
       "      <td>VAR_008458</td>\n",
       "      <td>p.Ile1562Thr</td>\n",
       "      <td>Disease</td>\n",
       "      <td>rs1762111</td>\n",
       "      <td>Cone-rod dystrophy 3 (CORD3) [MIM:604116]</td>\n",
       "    </tr>\n",
       "    <tr>\n",
       "      <th>301</th>\n",
       "      <td>ABCA4</td>\n",
       "      <td>P78363</td>\n",
       "      <td>VAR_008458</td>\n",
       "      <td>p.Ile1562Thr</td>\n",
       "      <td>Disease</td>\n",
       "      <td>rs1762111</td>\n",
       "      <td>Fundus flavimaculatus (FFM) [MIM:248200]</td>\n",
       "    </tr>\n",
       "    <tr>\n",
       "      <th>302</th>\n",
       "      <td>ABCA4</td>\n",
       "      <td>P78363</td>\n",
       "      <td>VAR_008458</td>\n",
       "      <td>p.Ile1562Thr</td>\n",
       "      <td>Disease</td>\n",
       "      <td>rs1762111</td>\n",
       "      <td>Macular degeneration, age-related, 2 (ARMD2) [...</td>\n",
       "    </tr>\n",
       "    <tr>\n",
       "      <th>...</th>\n",
       "      <td>...</td>\n",
       "      <td>...</td>\n",
       "      <td>...</td>\n",
       "      <td>...</td>\n",
       "      <td>...</td>\n",
       "      <td>...</td>\n",
       "      <td>...</td>\n",
       "    </tr>\n",
       "    <tr>\n",
       "      <th>74445</th>\n",
       "      <td>WAS</td>\n",
       "      <td>P42768</td>\n",
       "      <td>VAR_008106</td>\n",
       "      <td>p.Thr45Met</td>\n",
       "      <td>Disease</td>\n",
       "      <td>rs132630273</td>\n",
       "      <td>Thrombocytopenia 1 (THC1) [MIM:313900]</td>\n",
       "    </tr>\n",
       "    <tr>\n",
       "      <th>74446</th>\n",
       "      <td>WAS</td>\n",
       "      <td>P42768</td>\n",
       "      <td>VAR_008106</td>\n",
       "      <td>p.Thr45Met</td>\n",
       "      <td>Disease</td>\n",
       "      <td>rs132630273</td>\n",
       "      <td>Wiskott-Aldrich syndrome (WAS) [MIM:301000]</td>\n",
       "    </tr>\n",
       "    <tr>\n",
       "      <th>74507</th>\n",
       "      <td>WDR19</td>\n",
       "      <td>Q8NEZ3</td>\n",
       "      <td>VAR_067314</td>\n",
       "      <td>p.Leu710Ser</td>\n",
       "      <td>Disease</td>\n",
       "      <td>rs387906980</td>\n",
       "      <td>Cranioectodermal dysplasia 4 (CED4) [MIM:614378]</td>\n",
       "    </tr>\n",
       "    <tr>\n",
       "      <th>74508</th>\n",
       "      <td>WDR19</td>\n",
       "      <td>Q8NEZ3</td>\n",
       "      <td>VAR_067314</td>\n",
       "      <td>p.Leu710Ser</td>\n",
       "      <td>Disease</td>\n",
       "      <td>rs387906980</td>\n",
       "      <td>Senior-Loken syndrome 8 (SLSN8) [MIM:616307]</td>\n",
       "    </tr>\n",
       "    <tr>\n",
       "      <th>74805</th>\n",
       "      <td>WNT10A</td>\n",
       "      <td>Q9GZT5</td>\n",
       "      <td>VAR_062510</td>\n",
       "      <td>p.Arg128Gln</td>\n",
       "      <td>Disease</td>\n",
       "      <td>rs121908121</td>\n",
       "      <td>Odonto-onycho-dermal dysplasia (OODD) [MIM:257...</td>\n",
       "    </tr>\n",
       "    <tr>\n",
       "      <th>74806</th>\n",
       "      <td>WNT10A</td>\n",
       "      <td>Q9GZT5</td>\n",
       "      <td>VAR_062510</td>\n",
       "      <td>p.Arg128Gln</td>\n",
       "      <td>Disease</td>\n",
       "      <td>rs121908121</td>\n",
       "      <td>Tooth agenesis, selective, 4 (STHAG4) [MIM:150...</td>\n",
       "    </tr>\n",
       "    <tr>\n",
       "      <th>74807</th>\n",
       "      <td>WNT10A</td>\n",
       "      <td>Q9GZT5</td>\n",
       "      <td>VAR_062511</td>\n",
       "      <td>p.Phe228Ile</td>\n",
       "      <td>Disease</td>\n",
       "      <td>rs121908120</td>\n",
       "      <td>Odonto-onycho-dermal dysplasia (OODD) [MIM:257...</td>\n",
       "    </tr>\n",
       "    <tr>\n",
       "      <th>74808</th>\n",
       "      <td>WNT10A</td>\n",
       "      <td>Q9GZT5</td>\n",
       "      <td>VAR_062511</td>\n",
       "      <td>p.Phe228Ile</td>\n",
       "      <td>Disease</td>\n",
       "      <td>rs121908120</td>\n",
       "      <td>Tooth agenesis, selective, 4 (STHAG4) [MIM:150...</td>\n",
       "    </tr>\n",
       "    <tr>\n",
       "      <th>74821</th>\n",
       "      <td>WNT10A</td>\n",
       "      <td>Q9GZT5</td>\n",
       "      <td>VAR_077450</td>\n",
       "      <td>p.Gly213Ser</td>\n",
       "      <td>Unclassified</td>\n",
       "      <td>rs147680216</td>\n",
       "      <td>Odonto-onycho-dermal dysplasia (OODD) [MIM:257...</td>\n",
       "    </tr>\n",
       "    <tr>\n",
       "      <th>74822</th>\n",
       "      <td>WNT10A</td>\n",
       "      <td>Q9GZT5</td>\n",
       "      <td>VAR_077450</td>\n",
       "      <td>p.Gly213Ser</td>\n",
       "      <td>Unclassified</td>\n",
       "      <td>rs147680216</td>\n",
       "      <td>Tooth agenesis, selective, 4 (STHAG4) [MIM:150...</td>\n",
       "    </tr>\n",
       "    <tr>\n",
       "      <th>74913</th>\n",
       "      <td>WT1</td>\n",
       "      <td>P19544</td>\n",
       "      <td>VAR_007745</td>\n",
       "      <td>p.Arg366Cys</td>\n",
       "      <td>Disease</td>\n",
       "      <td>NaN</td>\n",
       "      <td>Denys-Drash syndrome (DDS) [MIM:194080]</td>\n",
       "    </tr>\n",
       "    <tr>\n",
       "      <th>74914</th>\n",
       "      <td>WT1</td>\n",
       "      <td>P19544</td>\n",
       "      <td>VAR_007745</td>\n",
       "      <td>p.Arg366Cys</td>\n",
       "      <td>Disease</td>\n",
       "      <td>NaN</td>\n",
       "      <td>Meacham syndrome (MEACHS) [MIM:608978]</td>\n",
       "    </tr>\n",
       "    <tr>\n",
       "      <th>74915</th>\n",
       "      <td>WT1</td>\n",
       "      <td>P19544</td>\n",
       "      <td>VAR_007745</td>\n",
       "      <td>p.Arg366Cys</td>\n",
       "      <td>Disease</td>\n",
       "      <td>NaN</td>\n",
       "      <td>Wilms tumor 1 (WT1) [MIM:194070]</td>\n",
       "    </tr>\n",
       "    <tr>\n",
       "      <th>74916</th>\n",
       "      <td>WT1</td>\n",
       "      <td>P19544</td>\n",
       "      <td>VAR_007746</td>\n",
       "      <td>p.Arg366His</td>\n",
       "      <td>Disease</td>\n",
       "      <td>NaN</td>\n",
       "      <td>Denys-Drash syndrome (DDS) [MIM:194080]</td>\n",
       "    </tr>\n",
       "    <tr>\n",
       "      <th>74917</th>\n",
       "      <td>WT1</td>\n",
       "      <td>P19544</td>\n",
       "      <td>VAR_007746</td>\n",
       "      <td>p.Arg366His</td>\n",
       "      <td>Disease</td>\n",
       "      <td>NaN</td>\n",
       "      <td>Wilms tumor 1 (WT1) [MIM:194070]</td>\n",
       "    </tr>\n",
       "    <tr>\n",
       "      <th>74918</th>\n",
       "      <td>WT1</td>\n",
       "      <td>P19544</td>\n",
       "      <td>VAR_007747</td>\n",
       "      <td>p.His373Gln</td>\n",
       "      <td>Disease</td>\n",
       "      <td>NaN</td>\n",
       "      <td>Denys-Drash syndrome (DDS) [MIM:194080]</td>\n",
       "    </tr>\n",
       "    <tr>\n",
       "      <th>74919</th>\n",
       "      <td>WT1</td>\n",
       "      <td>P19544</td>\n",
       "      <td>VAR_007747</td>\n",
       "      <td>p.His373Gln</td>\n",
       "      <td>Disease</td>\n",
       "      <td>NaN</td>\n",
       "      <td>Wilms tumor 1 (WT1) [MIM:194070]</td>\n",
       "    </tr>\n",
       "    <tr>\n",
       "      <th>74922</th>\n",
       "      <td>WT1</td>\n",
       "      <td>P19544</td>\n",
       "      <td>VAR_007750</td>\n",
       "      <td>p.Arg394Trp</td>\n",
       "      <td>Disease</td>\n",
       "      <td>NaN</td>\n",
       "      <td>Denys-Drash syndrome (DDS) [MIM:194080]</td>\n",
       "    </tr>\n",
       "    <tr>\n",
       "      <th>74923</th>\n",
       "      <td>WT1</td>\n",
       "      <td>P19544</td>\n",
       "      <td>VAR_007750</td>\n",
       "      <td>p.Arg394Trp</td>\n",
       "      <td>Disease</td>\n",
       "      <td>NaN</td>\n",
       "      <td>Meacham syndrome (MEACHS) [MIM:608978]</td>\n",
       "    </tr>\n",
       "    <tr>\n",
       "      <th>74924</th>\n",
       "      <td>WT1</td>\n",
       "      <td>P19544</td>\n",
       "      <td>VAR_007750</td>\n",
       "      <td>p.Arg394Trp</td>\n",
       "      <td>Disease</td>\n",
       "      <td>NaN</td>\n",
       "      <td>Wilms tumor 1 (WT1) [MIM:194070]</td>\n",
       "    </tr>\n",
       "    <tr>\n",
       "      <th>74925</th>\n",
       "      <td>WT1</td>\n",
       "      <td>P19544</td>\n",
       "      <td>VAR_007751</td>\n",
       "      <td>p.Asp396Asn</td>\n",
       "      <td>Disease</td>\n",
       "      <td>NaN</td>\n",
       "      <td>Denys-Drash syndrome (DDS) [MIM:194080]</td>\n",
       "    </tr>\n",
       "    <tr>\n",
       "      <th>74926</th>\n",
       "      <td>WT1</td>\n",
       "      <td>P19544</td>\n",
       "      <td>VAR_007751</td>\n",
       "      <td>p.Asp396Asn</td>\n",
       "      <td>Disease</td>\n",
       "      <td>NaN</td>\n",
       "      <td>Nephrotic syndrome 4 (NPHS4) [MIM:256370]</td>\n",
       "    </tr>\n",
       "    <tr>\n",
       "      <th>74968</th>\n",
       "      <td>WWOX</td>\n",
       "      <td>Q9NZC7</td>\n",
       "      <td>VAR_023918</td>\n",
       "      <td>p.Arg120Trp</td>\n",
       "      <td>Unclassified</td>\n",
       "      <td>rs141361080</td>\n",
       "      <td>A histiocytic lymphoma cell line</td>\n",
       "    </tr>\n",
       "    <tr>\n",
       "      <th>74969</th>\n",
       "      <td>WWOX</td>\n",
       "      <td>Q9NZC7</td>\n",
       "      <td>VAR_023918</td>\n",
       "      <td>p.Arg120Trp</td>\n",
       "      <td>Unclassified</td>\n",
       "      <td>rs141361080</td>\n",
       "      <td>A primary colorectal tumor</td>\n",
       "    </tr>\n",
       "    <tr>\n",
       "      <th>75490</th>\n",
       "      <td>ZFPM2</td>\n",
       "      <td>Q8WW38</td>\n",
       "      <td>VAR_017942</td>\n",
       "      <td>p.Glu30Gly</td>\n",
       "      <td>Disease</td>\n",
       "      <td>rs121908601</td>\n",
       "      <td>Conotruncal heart malformations (CTHM) [MIM:21...</td>\n",
       "    </tr>\n",
       "    <tr>\n",
       "      <th>75491</th>\n",
       "      <td>ZFPM2</td>\n",
       "      <td>Q8WW38</td>\n",
       "      <td>VAR_017942</td>\n",
       "      <td>p.Glu30Gly</td>\n",
       "      <td>Disease</td>\n",
       "      <td>rs121908601</td>\n",
       "      <td>Tetralogy of Fallot (TOF) [MIM:187500]</td>\n",
       "    </tr>\n",
       "    <tr>\n",
       "      <th>75499</th>\n",
       "      <td>ZFPM2</td>\n",
       "      <td>Q8WW38</td>\n",
       "      <td>VAR_072075</td>\n",
       "      <td>p.Met544Ile</td>\n",
       "      <td>Disease</td>\n",
       "      <td>rs187043152</td>\n",
       "      <td>46,XY sex reversal 9 (SRXY9) [MIM:616067]</td>\n",
       "    </tr>\n",
       "    <tr>\n",
       "      <th>75500</th>\n",
       "      <td>ZFPM2</td>\n",
       "      <td>Q8WW38</td>\n",
       "      <td>VAR_072075</td>\n",
       "      <td>p.Met544Ile</td>\n",
       "      <td>Disease</td>\n",
       "      <td>rs187043152</td>\n",
       "      <td>Tetralogy of Fallot (TOF) [MIM:187500]</td>\n",
       "    </tr>\n",
       "    <tr>\n",
       "      <th>75578</th>\n",
       "      <td>ZIC3</td>\n",
       "      <td>O60481</td>\n",
       "      <td>VAR_025632</td>\n",
       "      <td>p.Pro217Ala</td>\n",
       "      <td>Disease</td>\n",
       "      <td>rs104894963</td>\n",
       "      <td>Congenital heart defects, multiple types, 1, X...</td>\n",
       "    </tr>\n",
       "    <tr>\n",
       "      <th>75579</th>\n",
       "      <td>ZIC3</td>\n",
       "      <td>O60481</td>\n",
       "      <td>VAR_025632</td>\n",
       "      <td>p.Pro217Ala</td>\n",
       "      <td>Disease</td>\n",
       "      <td>rs104894963</td>\n",
       "      <td>Heterotaxy, visceral, 1, X-linked (HTX1) [MIM:...</td>\n",
       "    </tr>\n",
       "  </tbody>\n",
       "</table>\n",
       "<p>1813 rows × 7 columns</p>\n",
       "</div>"
      ],
      "text/plain": [
       "      Main_gene_name Swiss_Prot_AC        FTId     AA_Change Type_of_variant  \\\n",
       "228            ABCA4        P78363  VAR_008401    p.Gly65Glu         Disease   \n",
       "229            ABCA4        P78363  VAR_008401    p.Gly65Glu         Disease   \n",
       "234            ABCA4        P78363  VAR_008406   p.Arg212Cys         Disease   \n",
       "235            ABCA4        P78363  VAR_008406   p.Arg212Cys         Disease   \n",
       "240            ABCA4        P78363  VAR_008411   p.Ala407Val         Disease   \n",
       "241            ABCA4        P78363  VAR_008411   p.Ala407Val         Disease   \n",
       "243            ABCA4        P78363  VAR_008413   p.Glu471Lys         Disease   \n",
       "244            ABCA4        P78363  VAR_008413   p.Glu471Lys         Disease   \n",
       "246            ABCA4        P78363  VAR_008415   p.Leu541Pro         Disease   \n",
       "247            ABCA4        P78363  VAR_008415   p.Leu541Pro         Disease   \n",
       "248            ABCA4        P78363  VAR_008415   p.Leu541Pro         Disease   \n",
       "255            ABCA4        P78363  VAR_008422   p.Gly818Glu         Disease   \n",
       "256            ABCA4        P78363  VAR_008422   p.Gly818Glu         Disease   \n",
       "259            ABCA4        P78363  VAR_008425   p.Gly863Ala         Disease   \n",
       "260            ABCA4        P78363  VAR_008425   p.Gly863Ala         Disease   \n",
       "261            ABCA4        P78363  VAR_008425   p.Gly863Ala         Disease   \n",
       "269            ABCA4        P78363  VAR_008433  p.Ala1038Val         Disease   \n",
       "270            ABCA4        P78363  VAR_008433  p.Ala1038Val         Disease   \n",
       "271            ABCA4        P78363  VAR_008433  p.Ala1038Val         Disease   \n",
       "276            ABCA4        P78363  VAR_008438  p.Glu1122Lys         Disease   \n",
       "277            ABCA4        P78363  VAR_008438  p.Glu1122Lys         Disease   \n",
       "278            ABCA4        P78363  VAR_008439  p.Arg1129Leu         Disease   \n",
       "279            ABCA4        P78363  VAR_008439  p.Arg1129Leu         Disease   \n",
       "293            ABCA4        P78363  VAR_008453  p.Cys1488Arg         Disease   \n",
       "294            ABCA4        P78363  VAR_008453  p.Cys1488Arg         Disease   \n",
       "295            ABCA4        P78363  VAR_008454  p.Cys1490Tyr         Disease   \n",
       "296            ABCA4        P78363  VAR_008454  p.Cys1490Tyr         Disease   \n",
       "300            ABCA4        P78363  VAR_008458  p.Ile1562Thr         Disease   \n",
       "301            ABCA4        P78363  VAR_008458  p.Ile1562Thr         Disease   \n",
       "302            ABCA4        P78363  VAR_008458  p.Ile1562Thr         Disease   \n",
       "...              ...           ...         ...           ...             ...   \n",
       "74445            WAS        P42768  VAR_008106    p.Thr45Met         Disease   \n",
       "74446            WAS        P42768  VAR_008106    p.Thr45Met         Disease   \n",
       "74507          WDR19        Q8NEZ3  VAR_067314   p.Leu710Ser         Disease   \n",
       "74508          WDR19        Q8NEZ3  VAR_067314   p.Leu710Ser         Disease   \n",
       "74805         WNT10A        Q9GZT5  VAR_062510   p.Arg128Gln         Disease   \n",
       "74806         WNT10A        Q9GZT5  VAR_062510   p.Arg128Gln         Disease   \n",
       "74807         WNT10A        Q9GZT5  VAR_062511   p.Phe228Ile         Disease   \n",
       "74808         WNT10A        Q9GZT5  VAR_062511   p.Phe228Ile         Disease   \n",
       "74821         WNT10A        Q9GZT5  VAR_077450   p.Gly213Ser    Unclassified   \n",
       "74822         WNT10A        Q9GZT5  VAR_077450   p.Gly213Ser    Unclassified   \n",
       "74913            WT1        P19544  VAR_007745   p.Arg366Cys         Disease   \n",
       "74914            WT1        P19544  VAR_007745   p.Arg366Cys         Disease   \n",
       "74915            WT1        P19544  VAR_007745   p.Arg366Cys         Disease   \n",
       "74916            WT1        P19544  VAR_007746   p.Arg366His         Disease   \n",
       "74917            WT1        P19544  VAR_007746   p.Arg366His         Disease   \n",
       "74918            WT1        P19544  VAR_007747   p.His373Gln         Disease   \n",
       "74919            WT1        P19544  VAR_007747   p.His373Gln         Disease   \n",
       "74922            WT1        P19544  VAR_007750   p.Arg394Trp         Disease   \n",
       "74923            WT1        P19544  VAR_007750   p.Arg394Trp         Disease   \n",
       "74924            WT1        P19544  VAR_007750   p.Arg394Trp         Disease   \n",
       "74925            WT1        P19544  VAR_007751   p.Asp396Asn         Disease   \n",
       "74926            WT1        P19544  VAR_007751   p.Asp396Asn         Disease   \n",
       "74968           WWOX        Q9NZC7  VAR_023918   p.Arg120Trp    Unclassified   \n",
       "74969           WWOX        Q9NZC7  VAR_023918   p.Arg120Trp    Unclassified   \n",
       "75490          ZFPM2        Q8WW38  VAR_017942    p.Glu30Gly         Disease   \n",
       "75491          ZFPM2        Q8WW38  VAR_017942    p.Glu30Gly         Disease   \n",
       "75499          ZFPM2        Q8WW38  VAR_072075   p.Met544Ile         Disease   \n",
       "75500          ZFPM2        Q8WW38  VAR_072075   p.Met544Ile         Disease   \n",
       "75578           ZIC3        O60481  VAR_025632   p.Pro217Ala         Disease   \n",
       "75579           ZIC3        O60481  VAR_025632   p.Pro217Ala         Disease   \n",
       "\n",
       "             dbSNP                                       Disease_Name  \n",
       "228     rs62654395          Cone-rod dystrophy 3 (CORD3) [MIM:604116]  \n",
       "229     rs62654395           Stargardt disease 1 (STGD1) [MIM:248200]  \n",
       "234     rs61750200          Cone-rod dystrophy 3 (CORD3) [MIM:604116]  \n",
       "235     rs61750200           Stargardt disease 1 (STGD1) [MIM:248200]  \n",
       "240     rs61751264          Cone-rod dystrophy 3 (CORD3) [MIM:604116]  \n",
       "241     rs61751264           Stargardt disease 1 (STGD1) [MIM:248200]  \n",
       "243      rs1800548  Macular degeneration, age-related, 2 (ARMD2) [...  \n",
       "244      rs1800548           Stargardt disease 1 (STGD1) [MIM:248200]  \n",
       "246     rs61751392          Cone-rod dystrophy 3 (CORD3) [MIM:604116]  \n",
       "247     rs61751392           Fundus flavimaculatus (FFM) [MIM:248200]  \n",
       "248     rs61751392           Stargardt disease 1 (STGD1) [MIM:248200]  \n",
       "255     rs61750202  Macular degeneration, age-related, 2 (ARMD2) [...  \n",
       "256     rs61750202           Stargardt disease 1 (STGD1) [MIM:248200]  \n",
       "259     rs76157638          Cone-rod dystrophy 3 (CORD3) [MIM:604116]  \n",
       "260     rs76157638           Fundus flavimaculatus (FFM) [MIM:248200]  \n",
       "261     rs76157638           Stargardt disease 1 (STGD1) [MIM:248200]  \n",
       "269     rs61751374          Cone-rod dystrophy 3 (CORD3) [MIM:604116]  \n",
       "270     rs61751374           Fundus flavimaculatus (FFM) [MIM:248200]  \n",
       "271     rs61751374           Stargardt disease 1 (STGD1) [MIM:248200]  \n",
       "276     rs61751399          Cone-rod dystrophy 3 (CORD3) [MIM:604116]  \n",
       "277     rs61751399           Stargardt disease 1 (STGD1) [MIM:248200]  \n",
       "278      rs1801269  Macular degeneration, age-related, 2 (ARMD2) [...  \n",
       "279      rs1801269           Stargardt disease 1 (STGD1) [MIM:248200]  \n",
       "293     rs61750146           Fundus flavimaculatus (FFM) [MIM:248200]  \n",
       "294     rs61750146           Stargardt disease 1 (STGD1) [MIM:248200]  \n",
       "295     rs61751402          Cone-rod dystrophy 3 (CORD3) [MIM:604116]  \n",
       "296     rs61751402           Stargardt disease 1 (STGD1) [MIM:248200]  \n",
       "300      rs1762111          Cone-rod dystrophy 3 (CORD3) [MIM:604116]  \n",
       "301      rs1762111           Fundus flavimaculatus (FFM) [MIM:248200]  \n",
       "302      rs1762111  Macular degeneration, age-related, 2 (ARMD2) [...  \n",
       "...            ...                                                ...  \n",
       "74445  rs132630273             Thrombocytopenia 1 (THC1) [MIM:313900]  \n",
       "74446  rs132630273        Wiskott-Aldrich syndrome (WAS) [MIM:301000]  \n",
       "74507  rs387906980   Cranioectodermal dysplasia 4 (CED4) [MIM:614378]  \n",
       "74508  rs387906980       Senior-Loken syndrome 8 (SLSN8) [MIM:616307]  \n",
       "74805  rs121908121  Odonto-onycho-dermal dysplasia (OODD) [MIM:257...  \n",
       "74806  rs121908121  Tooth agenesis, selective, 4 (STHAG4) [MIM:150...  \n",
       "74807  rs121908120  Odonto-onycho-dermal dysplasia (OODD) [MIM:257...  \n",
       "74808  rs121908120  Tooth agenesis, selective, 4 (STHAG4) [MIM:150...  \n",
       "74821  rs147680216  Odonto-onycho-dermal dysplasia (OODD) [MIM:257...  \n",
       "74822  rs147680216  Tooth agenesis, selective, 4 (STHAG4) [MIM:150...  \n",
       "74913          NaN            Denys-Drash syndrome (DDS) [MIM:194080]  \n",
       "74914          NaN             Meacham syndrome (MEACHS) [MIM:608978]  \n",
       "74915          NaN                   Wilms tumor 1 (WT1) [MIM:194070]  \n",
       "74916          NaN            Denys-Drash syndrome (DDS) [MIM:194080]  \n",
       "74917          NaN                   Wilms tumor 1 (WT1) [MIM:194070]  \n",
       "74918          NaN            Denys-Drash syndrome (DDS) [MIM:194080]  \n",
       "74919          NaN                   Wilms tumor 1 (WT1) [MIM:194070]  \n",
       "74922          NaN            Denys-Drash syndrome (DDS) [MIM:194080]  \n",
       "74923          NaN             Meacham syndrome (MEACHS) [MIM:608978]  \n",
       "74924          NaN                   Wilms tumor 1 (WT1) [MIM:194070]  \n",
       "74925          NaN            Denys-Drash syndrome (DDS) [MIM:194080]  \n",
       "74926          NaN          Nephrotic syndrome 4 (NPHS4) [MIM:256370]  \n",
       "74968  rs141361080                   A histiocytic lymphoma cell line  \n",
       "74969  rs141361080                         A primary colorectal tumor  \n",
       "75490  rs121908601  Conotruncal heart malformations (CTHM) [MIM:21...  \n",
       "75491  rs121908601             Tetralogy of Fallot (TOF) [MIM:187500]  \n",
       "75499  rs187043152          46,XY sex reversal 9 (SRXY9) [MIM:616067]  \n",
       "75500  rs187043152             Tetralogy of Fallot (TOF) [MIM:187500]  \n",
       "75578  rs104894963  Congenital heart defects, multiple types, 1, X...  \n",
       "75579  rs104894963  Heterotaxy, visceral, 1, X-linked (HTX1) [MIM:...  \n",
       "\n",
       "[1813 rows x 7 columns]"
      ]
     },
     "execution_count": 7,
     "metadata": {},
     "output_type": "execute_result"
    }
   ],
   "source": [
    "hum[hum[[\"Main_gene_name\", \"Swiss_Prot_AC\", \"AA_Change\"]].duplicated(keep=False)]"
   ]
  },
  {
   "cell_type": "code",
   "execution_count": 8,
   "metadata": {
    "collapsed": true
   },
   "outputs": [],
   "source": [
    "#Correspondencia hecha por Santi\n",
    "AMINO_CODE = {\"Ala\": \"A\",\\\n",
    "              \"Arg\": \"R\",\\\n",
    "              \"Asn\": \"N\",\\\n",
    "              \"Asp\": \"D\",\\\n",
    "              \"Cys\": \"C\",\\\n",
    "              \"Gln\": \"Q\",\\\n",
    "              \"Glu\": \"E\",\\\n",
    "              \"Gly\": \"G\",\\\n",
    "              \"His\": \"H\",\\\n",
    "              \"Ile\": \"I\",\\\n",
    "              \"Leu\": \"L\",\\\n",
    "              \"Lys\": \"K\",\\\n",
    "              \"Met\": \"M\",\\\n",
    "              \"Phe\": \"F\",\\\n",
    "              \"Pro\": \"P\",\\\n",
    "              \"Ser\": \"S\",\\\n",
    "              \"Thr\": \"T\",\\\n",
    "              \"Trp\": \"W\",\\\n",
    "              \"Tyr\": \"Y\",\\\n",
    "              \"Val\": \"V\",\\\n",
    "              \"Sec\": \"U\"\n",
    "             }"
   ]
  },
  {
   "cell_type": "markdown",
   "metadata": {},
   "source": [
    "Formateo la tabla para coincidir con formato Uniprot-Pos-Amino1-Amino2"
   ]
  },
  {
   "cell_type": "code",
   "execution_count": 9,
   "metadata": {},
   "outputs": [],
   "source": [
    "df = pd.DataFrame(data=(hum[\"AA_Change\"].str[2:].str.split(r\"([0-9]+)\")).tolist(), columns=[\"C1\", \"C2\", \"C3\"])\n",
    "df[\"C1\"] = df.C1.map(AMINO_CODE)\n",
    "df[\"C3\"] = df.C3.map(AMINO_CODE)\n",
    "mutant = pd.Series(data=(hum[\"Swiss_Prot_AC\"] + \"-\" + df.C2 + \"-\" + df.C1 + \"-\" + df.C3).tolist(), name=\"MUTANT\")"
   ]
  },
  {
   "cell_type": "code",
   "execution_count": 10,
   "metadata": {},
   "outputs": [],
   "source": [
    "hum_final = pd.concat([hum, mutant], 1)[[\"Main_gene_name\", \"Type_of_variant\", \"MUTANT\", \"AA_Change\"]]"
   ]
  },
  {
   "cell_type": "code",
   "execution_count": 11,
   "metadata": {},
   "outputs": [
    {
     "data": {
      "text/plain": [
       "(76730, 4)"
      ]
     },
     "execution_count": 11,
     "metadata": {},
     "output_type": "execute_result"
    }
   ],
   "source": [
    "hum_final.shape"
   ]
  },
  {
   "cell_type": "code",
   "execution_count": 12,
   "metadata": {},
   "outputs": [
    {
     "data": {
      "text/plain": [
       "930"
      ]
     },
     "execution_count": 12,
     "metadata": {},
     "output_type": "execute_result"
    }
   ],
   "source": [
    "hum_final.duplicated().sum()"
   ]
  },
  {
   "cell_type": "code",
   "execution_count": 13,
   "metadata": {},
   "outputs": [
    {
     "data": {
      "text/plain": [
       "0"
      ]
     },
     "execution_count": 13,
     "metadata": {},
     "output_type": "execute_result"
    }
   ],
   "source": [
    "hum_final.Type_of_variant.isnull().sum()"
   ]
  },
  {
   "cell_type": "code",
   "execution_count": 14,
   "metadata": {
    "collapsed": true
   },
   "outputs": [],
   "source": [
    "hum_final.drop_duplicates(inplace=True)"
   ]
  },
  {
   "cell_type": "code",
   "execution_count": 15,
   "metadata": {},
   "outputs": [
    {
     "data": {
      "text/plain": [
       "(75800, 4)"
      ]
     },
     "execution_count": 15,
     "metadata": {},
     "output_type": "execute_result"
    }
   ],
   "source": [
    "hum_final.shape"
   ]
  },
  {
   "cell_type": "markdown",
   "metadata": {},
   "source": [
    "### Levanto tabla clinvar de Santi"
   ]
  },
  {
   "cell_type": "code",
   "execution_count": 16,
   "metadata": {},
   "outputs": [],
   "source": [
    "clinvar = pd.read_csv(\"data/mut-clinvar.tab.gz\", sep=\"\\t\", header=None, names=[\"MUTANT\", \"Type_of_variant\"])"
   ]
  },
  {
   "cell_type": "code",
   "execution_count": 17,
   "metadata": {},
   "outputs": [
    {
     "data": {
      "text/plain": [
       "(7631, 2)"
      ]
     },
     "execution_count": 17,
     "metadata": {},
     "output_type": "execute_result"
    }
   ],
   "source": [
    "clinvar.shape"
   ]
  },
  {
   "cell_type": "code",
   "execution_count": 18,
   "metadata": {},
   "outputs": [
    {
     "data": {
      "text/html": [
       "<div>\n",
       "<table border=\"1\" class=\"dataframe\">\n",
       "  <thead>\n",
       "    <tr style=\"text-align: right;\">\n",
       "      <th></th>\n",
       "      <th>MUTANT</th>\n",
       "      <th>Type_of_variant</th>\n",
       "    </tr>\n",
       "  </thead>\n",
       "  <tbody>\n",
       "    <tr>\n",
       "      <th>0</th>\n",
       "      <td>Q14896-432-A-T</td>\n",
       "      <td>Uncertain significance</td>\n",
       "    </tr>\n",
       "    <tr>\n",
       "      <th>1</th>\n",
       "      <td>Q86YC2-862-K-N</td>\n",
       "      <td>Uncertain significance</td>\n",
       "    </tr>\n",
       "    <tr>\n",
       "      <th>2</th>\n",
       "      <td>Q07889-663-I-V</td>\n",
       "      <td>Likely benign</td>\n",
       "    </tr>\n",
       "    <tr>\n",
       "      <th>3</th>\n",
       "      <td>Q14896-429-A-E</td>\n",
       "      <td>Uncertain significance</td>\n",
       "    </tr>\n",
       "    <tr>\n",
       "      <th>4</th>\n",
       "      <td>P12883-204-R-C</td>\n",
       "      <td>Pathogenic</td>\n",
       "    </tr>\n",
       "  </tbody>\n",
       "</table>\n",
       "</div>"
      ],
      "text/plain": [
       "           MUTANT         Type_of_variant\n",
       "0  Q14896-432-A-T  Uncertain significance\n",
       "1  Q86YC2-862-K-N  Uncertain significance\n",
       "2  Q07889-663-I-V           Likely benign\n",
       "3  Q14896-429-A-E  Uncertain significance\n",
       "4  P12883-204-R-C              Pathogenic"
      ]
     },
     "execution_count": 18,
     "metadata": {},
     "output_type": "execute_result"
    }
   ],
   "source": [
    "clinvar.head()"
   ]
  },
  {
   "cell_type": "code",
   "execution_count": 19,
   "metadata": {},
   "outputs": [
    {
     "data": {
      "text/plain": [
       "Uncertain significance                                           2722\n",
       "Pathogenic                                                       2435\n",
       "not provided                                                     1029\n",
       "Likely pathogenic                                                 627\n",
       "Likely benign                                                     154\n",
       "Likely pathogenic;Pathogenic                                      148\n",
       "Benign                                                            138\n",
       "Pathogenic;Uncertain significance                                  67\n",
       "Likely pathogenic;Uncertain significance                           64\n",
       "Likely benign;Uncertain significance                               57\n",
       "Benign;Likely benign                                               39\n",
       "risk factor                                                        38\n",
       "drug response                                                      19\n",
       "Likely pathogenic;Pathogenic;Uncertain significance                13\n",
       "Benign;Uncertain significance                                      12\n",
       "Pathogenic;drug response                                           10\n",
       "Pathogenic;risk factor                                              9\n",
       "Benign;Likely benign;Uncertain significance                         6\n",
       "Benign;Pathogenic                                                   6\n",
       "other                                                               5\n",
       "Likely benign;Pathogenic                                            4\n",
       "Affects                                                             3\n",
       "protective                                                          3\n",
       "Likely benign;Pathogenic;Uncertain significance                     3\n",
       "Benign;Likely benign;Pathogenic                                     3\n",
       "Benign;Pathogenic;Uncertain significance                            2\n",
       "association                                                         2\n",
       "Pathogenic;other                                                    2\n",
       "Benign;Likely benign;Pathogenic;Uncertain significance              1\n",
       "Likely pathogenic;Pathogenic;risk factor                            1\n",
       "Benign;Likely benign;Likely pathogenic;Uncertain significance       1\n",
       "Likely pathogenic;Pathogenic;other                                  1\n",
       "Likely benign;Likely pathogenic;Uncertain significance              1\n",
       "Benign;Uncertain significance;risk factor                           1\n",
       "Benign;protective                                                   1\n",
       "Uncertain significance;association                                  1\n",
       "Benign;Pathogenic;risk factor                                       1\n",
       "Benign;risk factor                                                  1\n",
       "Benign;Likely benign;risk factor                                    1\n",
       "Name: Type_of_variant, dtype: int64"
      ]
     },
     "execution_count": 19,
     "metadata": {},
     "output_type": "execute_result"
    }
   ],
   "source": [
    "clinvar.Type_of_variant.value_counts()"
   ]
  },
  {
   "cell_type": "code",
   "execution_count": 20,
   "metadata": {},
   "outputs": [],
   "source": [
    "clinvar.drop_duplicates(inplace=True)"
   ]
  },
  {
   "cell_type": "code",
   "execution_count": 21,
   "metadata": {},
   "outputs": [
    {
     "data": {
      "text/plain": [
       "(7580, 2)"
      ]
     },
     "execution_count": 21,
     "metadata": {},
     "output_type": "execute_result"
    }
   ],
   "source": [
    "clinvar.shape"
   ]
  },
  {
   "cell_type": "code",
   "execution_count": 22,
   "metadata": {},
   "outputs": [
    {
     "data": {
      "text/plain": [
       "0"
      ]
     },
     "execution_count": 22,
     "metadata": {},
     "output_type": "execute_result"
    }
   ],
   "source": [
    "clinvar.Type_of_variant.isnull().sum()"
   ]
  },
  {
   "cell_type": "markdown",
   "metadata": {},
   "source": [
    "### Combino la tabla humsavar y clinvar para ver clasificaciones"
   ]
  },
  {
   "cell_type": "code",
   "execution_count": 23,
   "metadata": {},
   "outputs": [],
   "source": [
    "combined = clinvar.merge(hum_final, right_on=\"MUTANT\", left_on=\"MUTANT\", suffixes=[\"_ClinVar\", \"_HumsaVar\"], how=\"outer\")"
   ]
  },
  {
   "cell_type": "code",
   "execution_count": 24,
   "metadata": {},
   "outputs": [
    {
     "data": {
      "text/html": [
       "<div>\n",
       "<table border=\"1\" class=\"dataframe\">\n",
       "  <thead>\n",
       "    <tr style=\"text-align: right;\">\n",
       "      <th></th>\n",
       "      <th>MUTANT</th>\n",
       "      <th>Type_of_variant_ClinVar</th>\n",
       "      <th>Main_gene_name</th>\n",
       "      <th>Type_of_variant_HumsaVar</th>\n",
       "      <th>AA_Change</th>\n",
       "    </tr>\n",
       "  </thead>\n",
       "  <tbody>\n",
       "    <tr>\n",
       "      <th>0</th>\n",
       "      <td>Q14896-432-A-T</td>\n",
       "      <td>Uncertain significance</td>\n",
       "      <td>NaN</td>\n",
       "      <td>NaN</td>\n",
       "      <td>NaN</td>\n",
       "    </tr>\n",
       "    <tr>\n",
       "      <th>1</th>\n",
       "      <td>Q86YC2-862-K-N</td>\n",
       "      <td>Uncertain significance</td>\n",
       "      <td>NaN</td>\n",
       "      <td>NaN</td>\n",
       "      <td>NaN</td>\n",
       "    </tr>\n",
       "    <tr>\n",
       "      <th>2</th>\n",
       "      <td>Q07889-663-I-V</td>\n",
       "      <td>Likely benign</td>\n",
       "      <td>NaN</td>\n",
       "      <td>NaN</td>\n",
       "      <td>NaN</td>\n",
       "    </tr>\n",
       "    <tr>\n",
       "      <th>3</th>\n",
       "      <td>Q14896-429-A-E</td>\n",
       "      <td>Uncertain significance</td>\n",
       "      <td>NaN</td>\n",
       "      <td>NaN</td>\n",
       "      <td>NaN</td>\n",
       "    </tr>\n",
       "    <tr>\n",
       "      <th>4</th>\n",
       "      <td>P12883-204-R-C</td>\n",
       "      <td>Pathogenic</td>\n",
       "      <td>NaN</td>\n",
       "      <td>NaN</td>\n",
       "      <td>NaN</td>\n",
       "    </tr>\n",
       "  </tbody>\n",
       "</table>\n",
       "</div>"
      ],
      "text/plain": [
       "           MUTANT Type_of_variant_ClinVar Main_gene_name  \\\n",
       "0  Q14896-432-A-T  Uncertain significance            NaN   \n",
       "1  Q86YC2-862-K-N  Uncertain significance            NaN   \n",
       "2  Q07889-663-I-V           Likely benign            NaN   \n",
       "3  Q14896-429-A-E  Uncertain significance            NaN   \n",
       "4  P12883-204-R-C              Pathogenic            NaN   \n",
       "\n",
       "  Type_of_variant_HumsaVar AA_Change  \n",
       "0                      NaN       NaN  \n",
       "1                      NaN       NaN  \n",
       "2                      NaN       NaN  \n",
       "3                      NaN       NaN  \n",
       "4                      NaN       NaN  "
      ]
     },
     "execution_count": 24,
     "metadata": {},
     "output_type": "execute_result"
    }
   ],
   "source": [
    "combined.head()"
   ]
  },
  {
   "cell_type": "markdown",
   "metadata": {},
   "source": [
    "#### Interseccion"
   ]
  },
  {
   "cell_type": "code",
   "execution_count": 25,
   "metadata": {},
   "outputs": [
    {
     "data": {
      "text/plain": [
       "(2831, 5)"
      ]
     },
     "execution_count": 25,
     "metadata": {},
     "output_type": "execute_result"
    }
   ],
   "source": [
    "combined[~combined.Type_of_variant_ClinVar.isnull() & ~combined.Type_of_variant_HumsaVar.isnull()].shape"
   ]
  },
  {
   "cell_type": "code",
   "execution_count": 29,
   "metadata": {},
   "outputs": [
    {
     "data": {
      "text/plain": [
       "Main_gene_name              684\n",
       "Type_of_variant_HumsaVar    684\n",
       "dtype: int64"
      ]
     },
     "execution_count": 29,
     "metadata": {},
     "output_type": "execute_result"
    }
   ],
   "source": [
    "combined[combined.Type_of_variant_ClinVar == \"not provided\"][[\"Main_gene_name\",\"Type_of_variant_HumsaVar\"]].isnull().sum()"
   ]
  },
  {
   "cell_type": "markdown",
   "metadata": {},
   "source": [
    "### Merge con tabla VarQ"
   ]
  },
  {
   "cell_type": "code",
   "execution_count": 30,
   "metadata": {},
   "outputs": [],
   "source": [
    "varq = pd.read_csv(\"data/properties-varq.tab.gz\", sep=\"\\t\")"
   ]
  },
  {
   "cell_type": "code",
   "execution_count": 31,
   "metadata": {},
   "outputs": [
    {
     "data": {
      "text/plain": [
       "(17869, 12)"
      ]
     },
     "execution_count": 31,
     "metadata": {},
     "output_type": "execute_result"
    }
   ],
   "source": [
    "varq.shape"
   ]
  },
  {
   "cell_type": "code",
   "execution_count": 32,
   "metadata": {},
   "outputs": [],
   "source": [
    "combined_varq = varq.merge(combined, left_on=\"MUTANT\", right_on=\"MUTANT\", how=\"left\")"
   ]
  },
  {
   "cell_type": "code",
   "execution_count": 33,
   "metadata": {},
   "outputs": [
    {
     "data": {
      "text/plain": [
       "Index([u'MUTANT', u'SASA', u'SASA_PERCENTAGE', u'BFACTOR', u'SWITCHBILITY',\n",
       "       u'AGGREGABILITY', u'CONSERVATION', u'3DID', u'PDB', u'ACTIVE_SITE',\n",
       "       u'VARIATION_ENERGY', u'TYPE', u'Type_of_variant_ClinVar',\n",
       "       u'Main_gene_name', u'Type_of_variant_HumsaVar', u'AA_Change'],\n",
       "      dtype='object')"
      ]
     },
     "execution_count": 33,
     "metadata": {},
     "output_type": "execute_result"
    }
   ],
   "source": [
    "combined_varq.columns"
   ]
  },
  {
   "cell_type": "code",
   "execution_count": 34,
   "metadata": {},
   "outputs": [
    {
     "data": {
      "text/plain": [
       "(17893, 16)"
      ]
     },
     "execution_count": 34,
     "metadata": {},
     "output_type": "execute_result"
    }
   ],
   "source": [
    "combined_varq.shape"
   ]
  },
  {
   "cell_type": "code",
   "execution_count": 35,
   "metadata": {},
   "outputs": [
    {
     "data": {
      "text/html": [
       "<div>\n",
       "<table border=\"1\" class=\"dataframe\">\n",
       "  <thead>\n",
       "    <tr style=\"text-align: right;\">\n",
       "      <th>TYPE</th>\n",
       "      <th>Benign</th>\n",
       "      <th>Pathogenic</th>\n",
       "    </tr>\n",
       "    <tr>\n",
       "      <th>Type_of_variant_HumsaVar</th>\n",
       "      <th></th>\n",
       "      <th></th>\n",
       "    </tr>\n",
       "  </thead>\n",
       "  <tbody>\n",
       "    <tr>\n",
       "      <th>Disease</th>\n",
       "      <td>0</td>\n",
       "      <td>4675</td>\n",
       "    </tr>\n",
       "    <tr>\n",
       "      <th>Polymorphism</th>\n",
       "      <td>1917</td>\n",
       "      <td>66</td>\n",
       "    </tr>\n",
       "    <tr>\n",
       "      <th>Unclassified</th>\n",
       "      <td>553</td>\n",
       "      <td>60</td>\n",
       "    </tr>\n",
       "  </tbody>\n",
       "</table>\n",
       "</div>"
      ],
      "text/plain": [
       "TYPE                      Benign  Pathogenic\n",
       "Type_of_variant_HumsaVar                    \n",
       "Disease                        0        4675\n",
       "Polymorphism                1917          66\n",
       "Unclassified                 553          60"
      ]
     },
     "execution_count": 35,
     "metadata": {},
     "output_type": "execute_result"
    }
   ],
   "source": [
    "combined_varq[~combined_varq.Type_of_variant_HumsaVar.isnull()][[\"Type_of_variant_HumsaVar\", \"TYPE\"]].groupby([\"Type_of_variant_HumsaVar\", \"TYPE\"]).size().unstack(fill_value=0)"
   ]
  },
  {
   "cell_type": "code",
   "execution_count": 36,
   "metadata": {},
   "outputs": [
    {
     "data": {
      "text/html": [
       "<div>\n",
       "<table border=\"1\" class=\"dataframe\">\n",
       "  <thead>\n",
       "    <tr style=\"text-align: right;\">\n",
       "      <th>TYPE</th>\n",
       "      <th>Benign</th>\n",
       "      <th>Pathogenic</th>\n",
       "    </tr>\n",
       "    <tr>\n",
       "      <th>Type_of_variant_ClinVar</th>\n",
       "      <th></th>\n",
       "      <th></th>\n",
       "    </tr>\n",
       "  </thead>\n",
       "  <tbody>\n",
       "    <tr>\n",
       "      <th>Affects</th>\n",
       "      <td>0</td>\n",
       "      <td>3</td>\n",
       "    </tr>\n",
       "    <tr>\n",
       "      <th>Benign</th>\n",
       "      <td>123</td>\n",
       "      <td>15</td>\n",
       "    </tr>\n",
       "    <tr>\n",
       "      <th>Benign;Likely benign</th>\n",
       "      <td>36</td>\n",
       "      <td>3</td>\n",
       "    </tr>\n",
       "    <tr>\n",
       "      <th>Benign;Likely benign;Likely pathogenic;Uncertain significance</th>\n",
       "      <td>0</td>\n",
       "      <td>1</td>\n",
       "    </tr>\n",
       "    <tr>\n",
       "      <th>Benign;Likely benign;Pathogenic</th>\n",
       "      <td>0</td>\n",
       "      <td>3</td>\n",
       "    </tr>\n",
       "    <tr>\n",
       "      <th>Benign;Likely benign;Pathogenic;Uncertain significance</th>\n",
       "      <td>0</td>\n",
       "      <td>1</td>\n",
       "    </tr>\n",
       "    <tr>\n",
       "      <th>Benign;Likely benign;Uncertain significance</th>\n",
       "      <td>6</td>\n",
       "      <td>0</td>\n",
       "    </tr>\n",
       "    <tr>\n",
       "      <th>Benign;Likely benign;risk factor</th>\n",
       "      <td>0</td>\n",
       "      <td>1</td>\n",
       "    </tr>\n",
       "    <tr>\n",
       "      <th>Benign;Pathogenic</th>\n",
       "      <td>0</td>\n",
       "      <td>6</td>\n",
       "    </tr>\n",
       "    <tr>\n",
       "      <th>Benign;Pathogenic;Uncertain significance</th>\n",
       "      <td>0</td>\n",
       "      <td>2</td>\n",
       "    </tr>\n",
       "    <tr>\n",
       "      <th>Benign;Pathogenic;risk factor</th>\n",
       "      <td>0</td>\n",
       "      <td>1</td>\n",
       "    </tr>\n",
       "    <tr>\n",
       "      <th>Benign;Uncertain significance</th>\n",
       "      <td>10</td>\n",
       "      <td>2</td>\n",
       "    </tr>\n",
       "    <tr>\n",
       "      <th>Benign;Uncertain significance;risk factor</th>\n",
       "      <td>0</td>\n",
       "      <td>1</td>\n",
       "    </tr>\n",
       "    <tr>\n",
       "      <th>Benign;protective</th>\n",
       "      <td>1</td>\n",
       "      <td>0</td>\n",
       "    </tr>\n",
       "    <tr>\n",
       "      <th>Benign;risk factor</th>\n",
       "      <td>0</td>\n",
       "      <td>1</td>\n",
       "    </tr>\n",
       "    <tr>\n",
       "      <th>Likely benign</th>\n",
       "      <td>146</td>\n",
       "      <td>8</td>\n",
       "    </tr>\n",
       "    <tr>\n",
       "      <th>Likely benign;Likely pathogenic;Uncertain significance</th>\n",
       "      <td>0</td>\n",
       "      <td>1</td>\n",
       "    </tr>\n",
       "    <tr>\n",
       "      <th>Likely benign;Pathogenic</th>\n",
       "      <td>0</td>\n",
       "      <td>4</td>\n",
       "    </tr>\n",
       "    <tr>\n",
       "      <th>Likely benign;Pathogenic;Uncertain significance</th>\n",
       "      <td>0</td>\n",
       "      <td>3</td>\n",
       "    </tr>\n",
       "    <tr>\n",
       "      <th>Likely benign;Uncertain significance</th>\n",
       "      <td>56</td>\n",
       "      <td>1</td>\n",
       "    </tr>\n",
       "    <tr>\n",
       "      <th>Likely pathogenic</th>\n",
       "      <td>0</td>\n",
       "      <td>625</td>\n",
       "    </tr>\n",
       "    <tr>\n",
       "      <th>Likely pathogenic;Pathogenic</th>\n",
       "      <td>0</td>\n",
       "      <td>149</td>\n",
       "    </tr>\n",
       "    <tr>\n",
       "      <th>Likely pathogenic;Pathogenic;Uncertain significance</th>\n",
       "      <td>0</td>\n",
       "      <td>13</td>\n",
       "    </tr>\n",
       "    <tr>\n",
       "      <th>Likely pathogenic;Pathogenic;other</th>\n",
       "      <td>0</td>\n",
       "      <td>1</td>\n",
       "    </tr>\n",
       "    <tr>\n",
       "      <th>Likely pathogenic;Pathogenic;risk factor</th>\n",
       "      <td>0</td>\n",
       "      <td>1</td>\n",
       "    </tr>\n",
       "    <tr>\n",
       "      <th>Likely pathogenic;Uncertain significance</th>\n",
       "      <td>0</td>\n",
       "      <td>64</td>\n",
       "    </tr>\n",
       "    <tr>\n",
       "      <th>Pathogenic</th>\n",
       "      <td>0</td>\n",
       "      <td>2404</td>\n",
       "    </tr>\n",
       "    <tr>\n",
       "      <th>Pathogenic;Uncertain significance</th>\n",
       "      <td>0</td>\n",
       "      <td>67</td>\n",
       "    </tr>\n",
       "    <tr>\n",
       "      <th>Pathogenic;drug response</th>\n",
       "      <td>0</td>\n",
       "      <td>9</td>\n",
       "    </tr>\n",
       "    <tr>\n",
       "      <th>Pathogenic;other</th>\n",
       "      <td>0</td>\n",
       "      <td>2</td>\n",
       "    </tr>\n",
       "    <tr>\n",
       "      <th>Pathogenic;risk factor</th>\n",
       "      <td>0</td>\n",
       "      <td>9</td>\n",
       "    </tr>\n",
       "    <tr>\n",
       "      <th>Uncertain significance</th>\n",
       "      <td>2614</td>\n",
       "      <td>101</td>\n",
       "    </tr>\n",
       "    <tr>\n",
       "      <th>Uncertain significance;association</th>\n",
       "      <td>1</td>\n",
       "      <td>0</td>\n",
       "    </tr>\n",
       "    <tr>\n",
       "      <th>association</th>\n",
       "      <td>2</td>\n",
       "      <td>0</td>\n",
       "    </tr>\n",
       "    <tr>\n",
       "      <th>drug response</th>\n",
       "      <td>17</td>\n",
       "      <td>2</td>\n",
       "    </tr>\n",
       "    <tr>\n",
       "      <th>not provided</th>\n",
       "      <td>722</td>\n",
       "      <td>307</td>\n",
       "    </tr>\n",
       "    <tr>\n",
       "      <th>other</th>\n",
       "      <td>5</td>\n",
       "      <td>0</td>\n",
       "    </tr>\n",
       "    <tr>\n",
       "      <th>protective</th>\n",
       "      <td>3</td>\n",
       "      <td>0</td>\n",
       "    </tr>\n",
       "    <tr>\n",
       "      <th>risk factor</th>\n",
       "      <td>0</td>\n",
       "      <td>37</td>\n",
       "    </tr>\n",
       "  </tbody>\n",
       "</table>\n",
       "</div>"
      ],
      "text/plain": [
       "TYPE                                                Benign  Pathogenic\n",
       "Type_of_variant_ClinVar                                               \n",
       "Affects                                                  0           3\n",
       "Benign                                                 123          15\n",
       "Benign;Likely benign                                    36           3\n",
       "Benign;Likely benign;Likely pathogenic;Uncertai...       0           1\n",
       "Benign;Likely benign;Pathogenic                          0           3\n",
       "Benign;Likely benign;Pathogenic;Uncertain signi...       0           1\n",
       "Benign;Likely benign;Uncertain significance              6           0\n",
       "Benign;Likely benign;risk factor                         0           1\n",
       "Benign;Pathogenic                                        0           6\n",
       "Benign;Pathogenic;Uncertain significance                 0           2\n",
       "Benign;Pathogenic;risk factor                            0           1\n",
       "Benign;Uncertain significance                           10           2\n",
       "Benign;Uncertain significance;risk factor                0           1\n",
       "Benign;protective                                        1           0\n",
       "Benign;risk factor                                       0           1\n",
       "Likely benign                                          146           8\n",
       "Likely benign;Likely pathogenic;Uncertain signi...       0           1\n",
       "Likely benign;Pathogenic                                 0           4\n",
       "Likely benign;Pathogenic;Uncertain significance          0           3\n",
       "Likely benign;Uncertain significance                    56           1\n",
       "Likely pathogenic                                        0         625\n",
       "Likely pathogenic;Pathogenic                             0         149\n",
       "Likely pathogenic;Pathogenic;Uncertain signific...       0          13\n",
       "Likely pathogenic;Pathogenic;other                       0           1\n",
       "Likely pathogenic;Pathogenic;risk factor                 0           1\n",
       "Likely pathogenic;Uncertain significance                 0          64\n",
       "Pathogenic                                               0        2404\n",
       "Pathogenic;Uncertain significance                        0          67\n",
       "Pathogenic;drug response                                 0           9\n",
       "Pathogenic;other                                         0           2\n",
       "Pathogenic;risk factor                                   0           9\n",
       "Uncertain significance                                2614         101\n",
       "Uncertain significance;association                       1           0\n",
       "association                                              2           0\n",
       "drug response                                           17           2\n",
       "not provided                                           722         307\n",
       "other                                                    5           0\n",
       "protective                                               3           0\n",
       "risk factor                                              0          37"
      ]
     },
     "execution_count": 36,
     "metadata": {},
     "output_type": "execute_result"
    }
   ],
   "source": [
    "combined_varq[~combined_varq.Type_of_variant_ClinVar.isnull()][[\"Type_of_variant_ClinVar\", \"TYPE\"]].groupby([\"Type_of_variant_ClinVar\", \"TYPE\"]).size().unstack(fill_value=0)"
   ]
  },
  {
   "cell_type": "code",
   "execution_count": 37,
   "metadata": {},
   "outputs": [],
   "source": [
    "unlabeled = combined_varq[combined_varq.Type_of_variant_ClinVar.isnull() & combined_varq.Type_of_variant_HumsaVar.isnull()]"
   ]
  },
  {
   "cell_type": "code",
   "execution_count": 38,
   "metadata": {},
   "outputs": [
    {
     "data": {
      "text/plain": [
       "(5863, 16)"
      ]
     },
     "execution_count": 38,
     "metadata": {},
     "output_type": "execute_result"
    }
   ],
   "source": [
    "unlabeled.shape # Cantidad de MUTANTS no clasificados"
   ]
  },
  {
   "cell_type": "code",
   "execution_count": 39,
   "metadata": {},
   "outputs": [
    {
     "data": {
      "text/plain": [
       "24"
      ]
     },
     "execution_count": 39,
     "metadata": {},
     "output_type": "execute_result"
    }
   ],
   "source": [
    "combined_varq.MUTANT.duplicated().sum()"
   ]
  },
  {
   "cell_type": "code",
   "execution_count": 44,
   "metadata": {
    "scrolled": true
   },
   "outputs": [
    {
     "data": {
      "text/plain": [
       "Disease         4675\n",
       "Polymorphism    1983\n",
       "Unclassified     613\n",
       "Name: Type_of_variant_HumsaVar, dtype: int64"
      ]
     },
     "execution_count": 44,
     "metadata": {},
     "output_type": "execute_result"
    }
   ],
   "source": [
    "combined_varq[~combined_varq[\"Type_of_variant_HumsaVar\"].isnull()][\"Type_of_variant_HumsaVar\"].value_counts()"
   ]
  },
  {
   "cell_type": "markdown",
   "metadata": {},
   "source": [
    "## Ver si los unlabeled aparecen en la tabla variants"
   ]
  },
  {
   "cell_type": "markdown",
   "metadata": {},
   "source": [
    "### Tabla de Variantes que encontre en el sitio ClinVar"
   ]
  },
  {
   "cell_type": "code",
   "execution_count": 3,
   "metadata": {
    "scrolled": true
   },
   "outputs": [
    {
     "name": "stderr",
     "output_type": "stream",
     "text": [
      "/home/marlan/venv/local/lib/python2.7/site-packages/IPython/core/interactiveshell.py:2717: DtypeWarning: Columns (18) have mixed types. Specify dtype option on import or set low_memory=False.\n",
      "  interactivity=interactivity, compiler=compiler, result=result)\n"
     ]
    }
   ],
   "source": [
    "variants = pd.read_csv(\"/home/marlan/Downloads/variant_summary.txt.gz\", sep=\"\\t\")"
   ]
  },
  {
   "cell_type": "code",
   "execution_count": 4,
   "metadata": {},
   "outputs": [
    {
     "data": {
      "text/plain": [
       "(668042, 30)"
      ]
     },
     "execution_count": 4,
     "metadata": {},
     "output_type": "execute_result"
    }
   ],
   "source": [
    "variants.shape"
   ]
  },
  {
   "cell_type": "code",
   "execution_count": 163,
   "metadata": {
    "scrolled": true
   },
   "outputs": [
    {
     "data": {
      "text/html": [
       "<div>\n",
       "<table border=\"1\" class=\"dataframe\">\n",
       "  <thead>\n",
       "    <tr style=\"text-align: right;\">\n",
       "      <th></th>\n",
       "      <th>#AlleleID</th>\n",
       "      <th>Type</th>\n",
       "      <th>Name</th>\n",
       "      <th>GeneID</th>\n",
       "      <th>GeneSymbol</th>\n",
       "      <th>HGNC_ID</th>\n",
       "      <th>ClinicalSignificance</th>\n",
       "      <th>ClinSigSimple</th>\n",
       "      <th>LastEvaluated</th>\n",
       "      <th>RS# (dbSNP)</th>\n",
       "      <th>...</th>\n",
       "      <th>Stop</th>\n",
       "      <th>ReferenceAllele</th>\n",
       "      <th>AlternateAllele</th>\n",
       "      <th>Cytogenetic</th>\n",
       "      <th>ReviewStatus</th>\n",
       "      <th>NumberSubmitters</th>\n",
       "      <th>Guidelines</th>\n",
       "      <th>TestedInGTR</th>\n",
       "      <th>OtherIDs</th>\n",
       "      <th>SubmitterCategories</th>\n",
       "    </tr>\n",
       "  </thead>\n",
       "  <tbody>\n",
       "    <tr>\n",
       "      <th>4</th>\n",
       "      <td>15043</td>\n",
       "      <td>single nucleotide variant</td>\n",
       "      <td>NM_014630.2(ZNF592):c.3136G&gt;A (p.Gly1046Arg)</td>\n",
       "      <td>9640</td>\n",
       "      <td>ZNF592</td>\n",
       "      <td>HGNC:28986</td>\n",
       "      <td>Uncertain significance</td>\n",
       "      <td>0</td>\n",
       "      <td>Jun 29, 2015</td>\n",
       "      <td>150829393</td>\n",
       "      <td>...</td>\n",
       "      <td>85342440</td>\n",
       "      <td>G</td>\n",
       "      <td>A</td>\n",
       "      <td>15q25</td>\n",
       "      <td>no assertion criteria provided</td>\n",
       "      <td>1</td>\n",
       "      <td>NaN</td>\n",
       "      <td>N</td>\n",
       "      <td>OMIM Allelic Variant:613624.0001,UniProtKB (protein):Q92610#VAR_064583</td>\n",
       "      <td>1</td>\n",
       "    </tr>\n",
       "    <tr>\n",
       "      <th>5</th>\n",
       "      <td>15043</td>\n",
       "      <td>single nucleotide variant</td>\n",
       "      <td>NM_014630.2(ZNF592):c.3136G&gt;A (p.Gly1046Arg)</td>\n",
       "      <td>9640</td>\n",
       "      <td>ZNF592</td>\n",
       "      <td>HGNC:28986</td>\n",
       "      <td>Uncertain significance</td>\n",
       "      <td>0</td>\n",
       "      <td>Jun 29, 2015</td>\n",
       "      <td>150829393</td>\n",
       "      <td>...</td>\n",
       "      <td>84799209</td>\n",
       "      <td>G</td>\n",
       "      <td>A</td>\n",
       "      <td>15q25.3</td>\n",
       "      <td>no assertion criteria provided</td>\n",
       "      <td>1</td>\n",
       "      <td>NaN</td>\n",
       "      <td>N</td>\n",
       "      <td>OMIM Allelic Variant:613624.0001,UniProtKB (protein):Q92610#VAR_064583</td>\n",
       "      <td>1</td>\n",
       "    </tr>\n",
       "    <tr>\n",
       "      <th>6</th>\n",
       "      <td>15044</td>\n",
       "      <td>single nucleotide variant</td>\n",
       "      <td>NM_017547.3(FOXRED1):c.694C&gt;T (p.Gln232Ter)</td>\n",
       "      <td>55572</td>\n",
       "      <td>FOXRED1</td>\n",
       "      <td>HGNC:26927</td>\n",
       "      <td>Pathogenic</td>\n",
       "      <td>1</td>\n",
       "      <td>Oct 01, 2010</td>\n",
       "      <td>267606829</td>\n",
       "      <td>...</td>\n",
       "      <td>126145284</td>\n",
       "      <td>C</td>\n",
       "      <td>T</td>\n",
       "      <td>11q24</td>\n",
       "      <td>no assertion criteria provided</td>\n",
       "      <td>1</td>\n",
       "      <td>NaN</td>\n",
       "      <td>N</td>\n",
       "      <td>OMIM Allelic Variant:613622.0001</td>\n",
       "      <td>1</td>\n",
       "    </tr>\n",
       "    <tr>\n",
       "      <th>7</th>\n",
       "      <td>15044</td>\n",
       "      <td>single nucleotide variant</td>\n",
       "      <td>NM_017547.3(FOXRED1):c.694C&gt;T (p.Gln232Ter)</td>\n",
       "      <td>55572</td>\n",
       "      <td>FOXRED1</td>\n",
       "      <td>HGNC:26927</td>\n",
       "      <td>Pathogenic</td>\n",
       "      <td>1</td>\n",
       "      <td>Oct 01, 2010</td>\n",
       "      <td>267606829</td>\n",
       "      <td>...</td>\n",
       "      <td>126275389</td>\n",
       "      <td>C</td>\n",
       "      <td>T</td>\n",
       "      <td>11q24.2</td>\n",
       "      <td>no assertion criteria provided</td>\n",
       "      <td>1</td>\n",
       "      <td>NaN</td>\n",
       "      <td>N</td>\n",
       "      <td>OMIM Allelic Variant:613622.0001</td>\n",
       "      <td>1</td>\n",
       "    </tr>\n",
       "    <tr>\n",
       "      <th>8</th>\n",
       "      <td>15045</td>\n",
       "      <td>single nucleotide variant</td>\n",
       "      <td>NM_017547.3(FOXRED1):c.1289A&gt;G (p.Asn430Ser)</td>\n",
       "      <td>55572</td>\n",
       "      <td>FOXRED1</td>\n",
       "      <td>HGNC:26927</td>\n",
       "      <td>Pathogenic</td>\n",
       "      <td>1</td>\n",
       "      <td>Oct 01, 2010</td>\n",
       "      <td>267606830</td>\n",
       "      <td>...</td>\n",
       "      <td>126147412</td>\n",
       "      <td>A</td>\n",
       "      <td>G</td>\n",
       "      <td>11q24</td>\n",
       "      <td>no assertion criteria provided</td>\n",
       "      <td>1</td>\n",
       "      <td>NaN</td>\n",
       "      <td>N</td>\n",
       "      <td>OMIM Allelic Variant:613622.0002,UniProtKB (protein):Q96CU9#VAR_064571</td>\n",
       "      <td>1</td>\n",
       "    </tr>\n",
       "  </tbody>\n",
       "</table>\n",
       "<p>5 rows × 30 columns</p>\n",
       "</div>"
      ],
      "text/plain": [
       "   #AlleleID                       Type  \\\n",
       "4  15043      single nucleotide variant   \n",
       "5  15043      single nucleotide variant   \n",
       "6  15044      single nucleotide variant   \n",
       "7  15044      single nucleotide variant   \n",
       "8  15045      single nucleotide variant   \n",
       "\n",
       "                                           Name  GeneID GeneSymbol  \\\n",
       "4  NM_014630.2(ZNF592):c.3136G>A (p.Gly1046Arg)  9640    ZNF592      \n",
       "5  NM_014630.2(ZNF592):c.3136G>A (p.Gly1046Arg)  9640    ZNF592      \n",
       "6  NM_017547.3(FOXRED1):c.694C>T (p.Gln232Ter)   55572   FOXRED1     \n",
       "7  NM_017547.3(FOXRED1):c.694C>T (p.Gln232Ter)   55572   FOXRED1     \n",
       "8  NM_017547.3(FOXRED1):c.1289A>G (p.Asn430Ser)  55572   FOXRED1     \n",
       "\n",
       "      HGNC_ID    ClinicalSignificance  ClinSigSimple LastEvaluated  \\\n",
       "4  HGNC:28986  Uncertain significance  0              Jun 29, 2015   \n",
       "5  HGNC:28986  Uncertain significance  0              Jun 29, 2015   \n",
       "6  HGNC:26927  Pathogenic              1              Oct 01, 2010   \n",
       "7  HGNC:26927  Pathogenic              1              Oct 01, 2010   \n",
       "8  HGNC:26927  Pathogenic              1              Oct 01, 2010   \n",
       "\n",
       "   RS# (dbSNP)         ...                Stop ReferenceAllele  \\\n",
       "4  150829393           ...           85342440   G                \n",
       "5  150829393           ...           84799209   G                \n",
       "6  267606829           ...           126145284  C                \n",
       "7  267606829           ...           126275389  C                \n",
       "8  267606830           ...           126147412  A                \n",
       "\n",
       "  AlternateAllele Cytogenetic                    ReviewStatus  \\\n",
       "4  A               15q25       no assertion criteria provided   \n",
       "5  A               15q25.3     no assertion criteria provided   \n",
       "6  T               11q24       no assertion criteria provided   \n",
       "7  T               11q24.2     no assertion criteria provided   \n",
       "8  G               11q24       no assertion criteria provided   \n",
       "\n",
       "  NumberSubmitters Guidelines TestedInGTR  \\\n",
       "4  1                NaN        N            \n",
       "5  1                NaN        N            \n",
       "6  1                NaN        N            \n",
       "7  1                NaN        N            \n",
       "8  1                NaN        N            \n",
       "\n",
       "                                                                 OtherIDs  \\\n",
       "4  OMIM Allelic Variant:613624.0001,UniProtKB (protein):Q92610#VAR_064583   \n",
       "5  OMIM Allelic Variant:613624.0001,UniProtKB (protein):Q92610#VAR_064583   \n",
       "6  OMIM Allelic Variant:613622.0001                                         \n",
       "7  OMIM Allelic Variant:613622.0001                                         \n",
       "8  OMIM Allelic Variant:613622.0002,UniProtKB (protein):Q96CU9#VAR_064571   \n",
       "\n",
       "   SubmitterCategories  \n",
       "4  1                    \n",
       "5  1                    \n",
       "6  1                    \n",
       "7  1                    \n",
       "8  1                    \n",
       "\n",
       "[5 rows x 30 columns]"
      ]
     },
     "execution_count": 163,
     "metadata": {},
     "output_type": "execute_result"
    }
   ],
   "source": [
    "pd.set_option('display.max_colwidth', -1)\n",
    "variants.head(5)"
   ]
  },
  {
   "cell_type": "code",
   "execution_count": 5,
   "metadata": {},
   "outputs": [
    {
     "data": {
      "text/plain": [
       "Uncertain significance                                                             261222\n",
       "Pathogenic                                                                         116513\n",
       "Likely benign                                                                      112252\n",
       "Benign                                                                              57708\n",
       "Likely pathogenic                                                                   32748\n",
       "Conflicting interpretations of pathogenicity                                        25643\n",
       "not provided                                                                        23265\n",
       "Benign/Likely benign                                                                22342\n",
       "Pathogenic/Likely pathogenic                                                         6616\n",
       "other                                                                                4673\n",
       "-                                                                                    1058\n",
       "risk factor                                                                           962\n",
       "drug response                                                                         592\n",
       "conflicting data from submitters                                                      500\n",
       "association                                                                           339\n",
       "Affects                                                                               225\n",
       "Pathogenic, other                                                                     204\n",
       "Pathogenic, risk factor                                                               186\n",
       "Conflicting interpretations of pathogenicity, risk factor                              94\n",
       "protective                                                                             71\n",
       "Benign, other                                                                          64\n",
       "Benign, risk factor                                                                    62\n",
       "Pathogenic, drug response                                                              53\n",
       "Likely pathogenic, risk factor                                                         49\n",
       "Likely benign, risk factor                                                             46\n",
       "Benign/Likely benign, risk factor                                                      42\n",
       "Pathogenic/Likely pathogenic, risk factor                                              42\n",
       "Conflicting interpretations of pathogenicity, other                                    36\n",
       "Uncertain significance, risk factor                                                    36\n",
       "Uncertain significance, other                                                          35\n",
       "                                                                                    ...  \n",
       "Benign/Likely benign, Affects                                                           4\n",
       "Likely benign, association                                                              4\n",
       "Conflicting interpretations of pathogenicity, association                               4\n",
       "Conflicting interpretations of pathogenicity, Affects, association, risk factor         4\n",
       "drug response, risk factor                                                              4\n",
       "Likely pathogenic, association                                                          4\n",
       "Conflicting interpretations of pathogenicity, protective                                4\n",
       "Benign, protective, risk factor                                                         2\n",
       "Benign, drug response, risk factor                                                      2\n",
       "Uncertain significance, association                                                     2\n",
       "Affects, risk factor                                                                    2\n",
       "Benign, association, protective                                                         2\n",
       "Pathogenic, association, protective                                                     2\n",
       "Likely benign, drug response                                                            2\n",
       "Benign/Likely benign, protective, risk factor                                           2\n",
       "Likely pathogenic, Affects                                                              2\n",
       "Benign, Affects                                                                         2\n",
       "Conflicting interpretations of pathogenicity, Affects, other                            2\n",
       "Benign, association, risk factor                                                        2\n",
       "Uncertain significance, Affects                                                         2\n",
       "Benign/Likely benign, drug response, risk factor                                        2\n",
       "Benign/Likely benign, drug response                                                     2\n",
       "Benign, drug response                                                                   2\n",
       "Conflicting interpretations of pathogenicity, other, risk factor                        2\n",
       "Likely benign, Affects                                                                  2\n",
       "Pathogenic/Likely pathogenic, Affects, risk factor                                      2\n",
       "Conflicting interpretations of pathogenicity, Affects, association, other               2\n",
       "association, protective                                                                 2\n",
       "Pathogenic, protective, risk factor                                                     2\n",
       "Uncertain significance, protective                                                      2\n",
       "Name: ClinicalSignificance, dtype: int64"
      ]
     },
     "execution_count": 5,
     "metadata": {},
     "output_type": "execute_result"
    }
   ],
   "source": [
    "variants.ClinicalSignificance.value_counts()"
   ]
  },
  {
   "cell_type": "code",
   "execution_count": 36,
   "metadata": {
    "scrolled": true
   },
   "outputs": [
    {
     "data": {
      "text/plain": [
       "Index([u'#AlleleID', u'Type', u'Name', u'GeneID', u'GeneSymbol', u'HGNC_ID',\n",
       "       u'ClinicalSignificance', u'ClinSigSimple', u'LastEvaluated',\n",
       "       u'RS# (dbSNP)', u'nsv/esv (dbVar)', u'RCVaccession', u'PhenotypeIDS',\n",
       "       u'PhenotypeList', u'Origin', u'OriginSimple', u'Assembly',\n",
       "       u'ChromosomeAccession', u'Chromosome', u'Start', u'Stop',\n",
       "       u'ReferenceAllele', u'AlternateAllele', u'Cytogenetic', u'ReviewStatus',\n",
       "       u'NumberSubmitters', u'Guidelines', u'TestedInGTR', u'OtherIDs',\n",
       "       u'SubmitterCategories'],\n",
       "      dtype='object')"
      ]
     },
     "execution_count": 36,
     "metadata": {},
     "output_type": "execute_result"
    }
   ],
   "source": [
    "variants.columns"
   ]
  },
  {
   "cell_type": "code",
   "execution_count": 182,
   "metadata": {},
   "outputs": [],
   "source": [
    "amino = variants.Name.str.extract('(?P<C1>[A-Z]{1}[a-z]{2})(?P<C2>\\d+)(?P<C3>[A-Z]{1}[a-z]{2})', expand=True)\n",
    "protein = variants.OtherIDs.str.extract('\\(protein\\):(?P<Protein>[A-Z,\\d]+)#', expand=True)\n",
    "amino[\"C1\"] = df.C1.map(AMINO_CODE)\n",
    "amino[\"C3\"] = df.C3.map(AMINO_CODE)\n",
    "mutant = pd.Series(data=(protein.Protein + \"-\" + df.C2 + \"-\" + df.C1 + \"-\" + df.C3).tolist(), name=\"MUTANT\")"
   ]
  },
  {
   "cell_type": "code",
   "execution_count": 192,
   "metadata": {},
   "outputs": [
    {
     "data": {
      "text/plain": [
       "0"
      ]
     },
     "execution_count": 192,
     "metadata": {},
     "output_type": "execute_result"
    }
   ],
   "source": [
    "unlabeled.MUTANT.isin(mutant).sum()"
   ]
  },
  {
   "cell_type": "markdown",
   "metadata": {},
   "source": [
    "### No, no hay ni un unlabeled que podamos clasificar usando variants."
   ]
  },
  {
   "cell_type": "code",
   "execution_count": 194,
   "metadata": {
    "collapsed": true
   },
   "outputs": [],
   "source": [
    "humsavar_GT = combined_varq[~combined_varq[\"Type of variant HumsaVar\"].isnull()]\n",
    "clinvar_GT = combined_varq[~combined_varq[\"Type of variant ClinVar\"].isnull()]"
   ]
  },
  {
   "cell_type": "code",
   "execution_count": 216,
   "metadata": {},
   "outputs": [],
   "source": [
    "cols = varq.columns.difference([\"TYPE\"]).tolist() + [\"Type of variant ClinVar\"]"
   ]
  },
  {
   "cell_type": "code",
   "execution_count": 209,
   "metadata": {},
   "outputs": [],
   "source": [
    "clinvar_GT[cols].set_index(\"MUTANT\").to_csv(\"clinvar_gt.tab.gz\", sep=\"\\t\", compression=\"gzip\", index=True)"
   ]
  },
  {
   "cell_type": "code",
   "execution_count": 213,
   "metadata": {
    "collapsed": true
   },
   "outputs": [],
   "source": [
    "humsavar_GT[cols].set_index(\"MUTANT\").to_csv(\"humsavar_gt.tab.gz\", sep=\"\\t\", compression=\"gzip\", index=True)"
   ]
  },
  {
   "cell_type": "code",
   "execution_count": 215,
   "metadata": {},
   "outputs": [
    {
     "data": {
      "text/plain": [
       "(7271, 11)"
      ]
     },
     "execution_count": 215,
     "metadata": {},
     "output_type": "execute_result"
    }
   ],
   "source": [
    "humsavar_GT[cols].set_index(\"MUTANT\").shape"
   ]
  },
  {
   "cell_type": "code",
   "execution_count": 217,
   "metadata": {},
   "outputs": [
    {
     "data": {
      "text/plain": [
       "(7590, 11)"
      ]
     },
     "execution_count": 217,
     "metadata": {},
     "output_type": "execute_result"
    }
   ],
   "source": [
    "clinvar_GT[cols].set_index(\"MUTANT\").shape"
   ]
  }
 ],
 "metadata": {
  "kernelspec": {
   "display_name": "Python 3",
   "language": "python",
   "name": "python3"
  },
  "language_info": {
   "codemirror_mode": {
    "name": "ipython",
    "version": 3
   },
   "file_extension": ".py",
   "mimetype": "text/x-python",
   "name": "python",
   "nbconvert_exporter": "python",
   "pygments_lexer": "ipython3",
   "version": "3.6.0"
  }
 },
 "nbformat": 4,
 "nbformat_minor": 2
}
