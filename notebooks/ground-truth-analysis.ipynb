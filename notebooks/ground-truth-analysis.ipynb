{
 "cells": [
  {
   "cell_type": "code",
   "execution_count": 1,
   "metadata": {
    "ExecuteTime": {
     "end_time": "2018-02-17T19:18:53.966536Z",
     "start_time": "2018-02-17T19:18:53.641645Z"
    },
    "collapsed": true
   },
   "outputs": [],
   "source": [
    "import pandas as pd"
   ]
  },
  {
   "cell_type": "markdown",
   "metadata": {},
   "source": [
    "### Levanto la tabla de la pagina Humsavar sin el prologo y la coda"
   ]
  },
  {
   "cell_type": "code",
   "execution_count": 2,
   "metadata": {
    "ExecuteTime": {
     "end_time": "2018-02-17T19:18:55.320572Z",
     "start_time": "2018-02-17T19:18:55.084321Z"
    },
    "collapsed": true
   },
   "outputs": [],
   "source": [
    "hum = pd.read_csv(\"../data/interim/humsavar_clean_201711.csv.gz\", sep=\",\")"
   ]
  },
  {
   "cell_type": "code",
   "execution_count": 3,
   "metadata": {
    "ExecuteTime": {
     "end_time": "2018-02-17T19:18:55.827127Z",
     "start_time": "2018-02-17T19:18:55.814933Z"
    },
    "collapsed": true
   },
   "outputs": [],
   "source": [
    "hum.columns = hum.columns.str.replace(\" \", \"_\")"
   ]
  },
  {
   "cell_type": "code",
   "execution_count": 4,
   "metadata": {
    "ExecuteTime": {
     "end_time": "2018-02-17T19:18:56.359987Z",
     "start_time": "2018-02-17T19:18:56.328071Z"
    }
   },
   "outputs": [
    {
     "data": {
      "text/plain": [
       "(76730, 7)"
      ]
     },
     "execution_count": 4,
     "metadata": {},
     "output_type": "execute_result"
    }
   ],
   "source": [
    "hum.shape"
   ]
  },
  {
   "cell_type": "code",
   "execution_count": 5,
   "metadata": {
    "ExecuteTime": {
     "end_time": "2018-02-17T19:18:56.860904Z",
     "start_time": "2018-02-17T19:18:56.832124Z"
    }
   },
   "outputs": [
    {
     "data": {
      "text/plain": [
       "Polymorphism    39655\n",
       "Disease         29726\n",
       "Unclassified     7349\n",
       "Name: Type_of_variant, dtype: int64"
      ]
     },
     "execution_count": 5,
     "metadata": {},
     "output_type": "execute_result"
    }
   ],
   "source": [
    "hum.Type_of_variant.value_counts()"
   ]
  },
  {
   "cell_type": "code",
   "execution_count": 6,
   "metadata": {
    "ExecuteTime": {
     "end_time": "2018-02-17T19:18:57.375645Z",
     "start_time": "2018-02-17T19:18:57.355247Z"
    }
   },
   "outputs": [
    {
     "data": {
      "text/plain": [
       "Index(['Main_gene_name', 'Swiss_Prot_AC', 'FTId', 'AA_Change',\n",
       "       'Type_of_variant', 'dbSNP', 'Disease_Name'],\n",
       "      dtype='object')"
      ]
     },
     "execution_count": 6,
     "metadata": {},
     "output_type": "execute_result"
    }
   ],
   "source": [
    "hum.columns"
   ]
  },
  {
   "cell_type": "markdown",
   "metadata": {},
   "source": [
    "### Los duplicados de la tabla humsaVar varian solo en su Disease Name"
   ]
  },
  {
   "cell_type": "code",
   "execution_count": 7,
   "metadata": {
    "ExecuteTime": {
     "end_time": "2018-02-17T19:19:01.428894Z",
     "start_time": "2018-02-17T19:19:01.357906Z"
    },
    "scrolled": true
   },
   "outputs": [
    {
     "data": {
      "text/html": [
       "<div>\n",
       "<table border=\"1\" class=\"dataframe\">\n",
       "  <thead>\n",
       "    <tr style=\"text-align: right;\">\n",
       "      <th></th>\n",
       "      <th>Main_gene_name</th>\n",
       "      <th>Swiss_Prot_AC</th>\n",
       "      <th>FTId</th>\n",
       "      <th>AA_Change</th>\n",
       "      <th>Type_of_variant</th>\n",
       "      <th>dbSNP</th>\n",
       "      <th>Disease_Name</th>\n",
       "    </tr>\n",
       "  </thead>\n",
       "  <tbody>\n",
       "    <tr>\n",
       "      <th>228</th>\n",
       "      <td>ABCA4</td>\n",
       "      <td>P78363</td>\n",
       "      <td>VAR_008401</td>\n",
       "      <td>p.Gly65Glu</td>\n",
       "      <td>Disease</td>\n",
       "      <td>rs62654395</td>\n",
       "      <td>Cone-rod dystrophy 3 (CORD3) [MIM:604116]</td>\n",
       "    </tr>\n",
       "    <tr>\n",
       "      <th>229</th>\n",
       "      <td>ABCA4</td>\n",
       "      <td>P78363</td>\n",
       "      <td>VAR_008401</td>\n",
       "      <td>p.Gly65Glu</td>\n",
       "      <td>Disease</td>\n",
       "      <td>rs62654395</td>\n",
       "      <td>Stargardt disease 1 (STGD1) [MIM:248200]</td>\n",
       "    </tr>\n",
       "    <tr>\n",
       "      <th>234</th>\n",
       "      <td>ABCA4</td>\n",
       "      <td>P78363</td>\n",
       "      <td>VAR_008406</td>\n",
       "      <td>p.Arg212Cys</td>\n",
       "      <td>Disease</td>\n",
       "      <td>rs61750200</td>\n",
       "      <td>Cone-rod dystrophy 3 (CORD3) [MIM:604116]</td>\n",
       "    </tr>\n",
       "    <tr>\n",
       "      <th>235</th>\n",
       "      <td>ABCA4</td>\n",
       "      <td>P78363</td>\n",
       "      <td>VAR_008406</td>\n",
       "      <td>p.Arg212Cys</td>\n",
       "      <td>Disease</td>\n",
       "      <td>rs61750200</td>\n",
       "      <td>Stargardt disease 1 (STGD1) [MIM:248200]</td>\n",
       "    </tr>\n",
       "    <tr>\n",
       "      <th>240</th>\n",
       "      <td>ABCA4</td>\n",
       "      <td>P78363</td>\n",
       "      <td>VAR_008411</td>\n",
       "      <td>p.Ala407Val</td>\n",
       "      <td>Disease</td>\n",
       "      <td>rs61751264</td>\n",
       "      <td>Cone-rod dystrophy 3 (CORD3) [MIM:604116]</td>\n",
       "    </tr>\n",
       "  </tbody>\n",
       "</table>\n",
       "</div>"
      ],
      "text/plain": [
       "    Main_gene_name Swiss_Prot_AC        FTId    AA_Change Type_of_variant  \\\n",
       "228          ABCA4        P78363  VAR_008401   p.Gly65Glu         Disease   \n",
       "229          ABCA4        P78363  VAR_008401   p.Gly65Glu         Disease   \n",
       "234          ABCA4        P78363  VAR_008406  p.Arg212Cys         Disease   \n",
       "235          ABCA4        P78363  VAR_008406  p.Arg212Cys         Disease   \n",
       "240          ABCA4        P78363  VAR_008411  p.Ala407Val         Disease   \n",
       "\n",
       "          dbSNP                               Disease_Name  \n",
       "228  rs62654395  Cone-rod dystrophy 3 (CORD3) [MIM:604116]  \n",
       "229  rs62654395   Stargardt disease 1 (STGD1) [MIM:248200]  \n",
       "234  rs61750200  Cone-rod dystrophy 3 (CORD3) [MIM:604116]  \n",
       "235  rs61750200   Stargardt disease 1 (STGD1) [MIM:248200]  \n",
       "240  rs61751264  Cone-rod dystrophy 3 (CORD3) [MIM:604116]  "
      ]
     },
     "execution_count": 7,
     "metadata": {},
     "output_type": "execute_result"
    }
   ],
   "source": [
    "hum[hum[[\"Main_gene_name\", \"Swiss_Prot_AC\", \"AA_Change\"]].duplicated(keep=False)].head()"
   ]
  },
  {
   "cell_type": "code",
   "execution_count": 8,
   "metadata": {
    "ExecuteTime": {
     "end_time": "2018-02-17T19:19:02.450296Z",
     "start_time": "2018-02-17T19:19:02.435355Z"
    },
    "collapsed": true
   },
   "outputs": [],
   "source": [
    "#Correspondencia hecha por Santi\n",
    "AMINO_CODE = {\"Ala\": \"A\",\\\n",
    "              \"Arg\": \"R\",\\\n",
    "              \"Asn\": \"N\",\\\n",
    "              \"Asp\": \"D\",\\\n",
    "              \"Cys\": \"C\",\\\n",
    "              \"Gln\": \"Q\",\\\n",
    "              \"Glu\": \"E\",\\\n",
    "              \"Gly\": \"G\",\\\n",
    "              \"His\": \"H\",\\\n",
    "              \"Ile\": \"I\",\\\n",
    "              \"Leu\": \"L\",\\\n",
    "              \"Lys\": \"K\",\\\n",
    "              \"Met\": \"M\",\\\n",
    "              \"Phe\": \"F\",\\\n",
    "              \"Pro\": \"P\",\\\n",
    "              \"Ser\": \"S\",\\\n",
    "              \"Thr\": \"T\",\\\n",
    "              \"Trp\": \"W\",\\\n",
    "              \"Tyr\": \"Y\",\\\n",
    "              \"Val\": \"V\",\\\n",
    "              \"Sec\": \"U\"\n",
    "             }"
   ]
  },
  {
   "cell_type": "markdown",
   "metadata": {},
   "source": [
    "Formateo la tabla para coincidir con formato Uniprot-Pos-Amino1-Amino2"
   ]
  },
  {
   "cell_type": "code",
   "execution_count": 9,
   "metadata": {
    "ExecuteTime": {
     "end_time": "2018-02-17T19:19:03.575414Z",
     "start_time": "2018-02-17T19:19:03.527462Z"
    }
   },
   "outputs": [
    {
     "data": {
      "text/html": [
       "<div>\n",
       "<table border=\"1\" class=\"dataframe\">\n",
       "  <thead>\n",
       "    <tr style=\"text-align: right;\">\n",
       "      <th></th>\n",
       "      <th>Main_gene_name</th>\n",
       "      <th>Swiss_Prot_AC</th>\n",
       "      <th>FTId</th>\n",
       "      <th>AA_Change</th>\n",
       "      <th>Type_of_variant</th>\n",
       "      <th>dbSNP</th>\n",
       "      <th>Disease_Name</th>\n",
       "    </tr>\n",
       "  </thead>\n",
       "  <tbody>\n",
       "    <tr>\n",
       "      <th>0</th>\n",
       "      <td>A1BG</td>\n",
       "      <td>P04217</td>\n",
       "      <td>VAR_018369</td>\n",
       "      <td>p.His52Arg</td>\n",
       "      <td>Polymorphism</td>\n",
       "      <td>rs893184</td>\n",
       "      <td>NaN</td>\n",
       "    </tr>\n",
       "    <tr>\n",
       "      <th>1</th>\n",
       "      <td>A1BG</td>\n",
       "      <td>P04217</td>\n",
       "      <td>VAR_018370</td>\n",
       "      <td>p.His395Arg</td>\n",
       "      <td>Polymorphism</td>\n",
       "      <td>rs2241788</td>\n",
       "      <td>NaN</td>\n",
       "    </tr>\n",
       "    <tr>\n",
       "      <th>2</th>\n",
       "      <td>A1CF</td>\n",
       "      <td>Q9NQ94</td>\n",
       "      <td>VAR_052201</td>\n",
       "      <td>p.Val555Met</td>\n",
       "      <td>Polymorphism</td>\n",
       "      <td>rs9073</td>\n",
       "      <td>NaN</td>\n",
       "    </tr>\n",
       "    <tr>\n",
       "      <th>3</th>\n",
       "      <td>A1CF</td>\n",
       "      <td>Q9NQ94</td>\n",
       "      <td>VAR_059821</td>\n",
       "      <td>p.Ala558Ser</td>\n",
       "      <td>Polymorphism</td>\n",
       "      <td>rs11817448</td>\n",
       "      <td>NaN</td>\n",
       "    </tr>\n",
       "    <tr>\n",
       "      <th>4</th>\n",
       "      <td>A2ML1</td>\n",
       "      <td>A8K2U0</td>\n",
       "      <td>VAR_055463</td>\n",
       "      <td>p.Gly207Arg</td>\n",
       "      <td>Polymorphism</td>\n",
       "      <td>rs11047499</td>\n",
       "      <td>NaN</td>\n",
       "    </tr>\n",
       "  </tbody>\n",
       "</table>\n",
       "</div>"
      ],
      "text/plain": [
       "  Main_gene_name Swiss_Prot_AC        FTId    AA_Change Type_of_variant  \\\n",
       "0           A1BG        P04217  VAR_018369   p.His52Arg    Polymorphism   \n",
       "1           A1BG        P04217  VAR_018370  p.His395Arg    Polymorphism   \n",
       "2           A1CF        Q9NQ94  VAR_052201  p.Val555Met    Polymorphism   \n",
       "3           A1CF        Q9NQ94  VAR_059821  p.Ala558Ser    Polymorphism   \n",
       "4          A2ML1        A8K2U0  VAR_055463  p.Gly207Arg    Polymorphism   \n",
       "\n",
       "        dbSNP Disease_Name  \n",
       "0    rs893184          NaN  \n",
       "1   rs2241788          NaN  \n",
       "2      rs9073          NaN  \n",
       "3  rs11817448          NaN  \n",
       "4  rs11047499          NaN  "
      ]
     },
     "execution_count": 9,
     "metadata": {},
     "output_type": "execute_result"
    }
   ],
   "source": [
    "hum.head()"
   ]
  },
  {
   "cell_type": "code",
   "execution_count": 10,
   "metadata": {
    "ExecuteTime": {
     "end_time": "2018-02-17T19:19:06.638493Z",
     "start_time": "2018-02-17T19:19:06.377336Z"
    },
    "collapsed": true
   },
   "outputs": [],
   "source": [
    "df = pd.DataFrame(data=(hum[\"AA_Change\"].str[2:].str.split(r\"([0-9]+)\")).tolist(), columns=[\"C1\", \"C2\", \"C3\"])\n",
    "df[\"C1\"] = df.C1.map(AMINO_CODE)\n",
    "df[\"C3\"] = df.C3.map(AMINO_CODE)\n",
    "mutant = pd.Series(data=(hum[\"Swiss_Prot_AC\"] + \"-\" + df.C2 + \"-\" + df.C1 + \"-\" + df.C3).tolist(), name=\"MUTANT\")"
   ]
  },
  {
   "cell_type": "code",
   "execution_count": 11,
   "metadata": {
    "ExecuteTime": {
     "end_time": "2018-02-17T19:19:06.910398Z",
     "start_time": "2018-02-17T19:19:06.856502Z"
    },
    "collapsed": true
   },
   "outputs": [],
   "source": [
    "hum_final = pd.concat([hum, mutant], 1)[[\"Main_gene_name\", \"Type_of_variant\", \"MUTANT\", \"AA_Change\", \"dbSNP\"]]"
   ]
  },
  {
   "cell_type": "code",
   "execution_count": 34,
   "metadata": {
    "ExecuteTime": {
     "end_time": "2018-01-28T23:41:43.179105Z",
     "start_time": "2018-01-28T23:41:43.147898Z"
    }
   },
   "outputs": [
    {
     "data": {
      "text/html": [
       "<div>\n",
       "<table border=\"1\" class=\"dataframe\">\n",
       "  <thead>\n",
       "    <tr style=\"text-align: right;\">\n",
       "      <th></th>\n",
       "      <th>Main_gene_name</th>\n",
       "      <th>Type_of_variant</th>\n",
       "      <th>MUTANT</th>\n",
       "      <th>AA_Change</th>\n",
       "      <th>dbSNP</th>\n",
       "    </tr>\n",
       "  </thead>\n",
       "  <tbody>\n",
       "    <tr>\n",
       "      <th>0</th>\n",
       "      <td>A1BG</td>\n",
       "      <td>Polymorphism</td>\n",
       "      <td>P04217-52-H-R</td>\n",
       "      <td>p.His52Arg</td>\n",
       "      <td>rs893184</td>\n",
       "    </tr>\n",
       "    <tr>\n",
       "      <th>1</th>\n",
       "      <td>A1BG</td>\n",
       "      <td>Polymorphism</td>\n",
       "      <td>P04217-395-H-R</td>\n",
       "      <td>p.His395Arg</td>\n",
       "      <td>rs2241788</td>\n",
       "    </tr>\n",
       "    <tr>\n",
       "      <th>2</th>\n",
       "      <td>A1CF</td>\n",
       "      <td>Polymorphism</td>\n",
       "      <td>Q9NQ94-555-V-M</td>\n",
       "      <td>p.Val555Met</td>\n",
       "      <td>rs9073</td>\n",
       "    </tr>\n",
       "    <tr>\n",
       "      <th>3</th>\n",
       "      <td>A1CF</td>\n",
       "      <td>Polymorphism</td>\n",
       "      <td>Q9NQ94-558-A-S</td>\n",
       "      <td>p.Ala558Ser</td>\n",
       "      <td>rs11817448</td>\n",
       "    </tr>\n",
       "    <tr>\n",
       "      <th>4</th>\n",
       "      <td>A2ML1</td>\n",
       "      <td>Polymorphism</td>\n",
       "      <td>A8K2U0-207-G-R</td>\n",
       "      <td>p.Gly207Arg</td>\n",
       "      <td>rs11047499</td>\n",
       "    </tr>\n",
       "  </tbody>\n",
       "</table>\n",
       "</div>"
      ],
      "text/plain": [
       "  Main_gene_name Type_of_variant          MUTANT    AA_Change       dbSNP\n",
       "0  A1BG           Polymorphism    P04217-52-H-R   p.His52Arg   rs893184  \n",
       "1  A1BG           Polymorphism    P04217-395-H-R  p.His395Arg  rs2241788 \n",
       "2  A1CF           Polymorphism    Q9NQ94-555-V-M  p.Val555Met  rs9073    \n",
       "3  A1CF           Polymorphism    Q9NQ94-558-A-S  p.Ala558Ser  rs11817448\n",
       "4  A2ML1          Polymorphism    A8K2U0-207-G-R  p.Gly207Arg  rs11047499"
      ]
     },
     "execution_count": 34,
     "metadata": {},
     "output_type": "execute_result"
    }
   ],
   "source": [
    "hum_final.head()"
   ]
  },
  {
   "cell_type": "code",
   "execution_count": 13,
   "metadata": {},
   "outputs": [
    {
     "data": {
      "text/plain": [
       "(76730, 5)"
      ]
     },
     "execution_count": 13,
     "metadata": {},
     "output_type": "execute_result"
    }
   ],
   "source": [
    "hum_final.shape"
   ]
  },
  {
   "cell_type": "code",
   "execution_count": 12,
   "metadata": {
    "ExecuteTime": {
     "end_time": "2018-02-17T19:19:13.651616Z",
     "start_time": "2018-02-17T19:19:13.221111Z"
    },
    "collapsed": true
   },
   "outputs": [],
   "source": [
    "for e, group in enumerate(hum_final[hum_final.duplicated(keep=False)].groupby(\"MUTANT\")[\"dbSNP\"]):\n",
    "    if group[1].value_counts().shape[0] > 1:\n",
    "        print(group[1].value_counts())\n",
    "        print(\"ERROR!\")"
   ]
  },
  {
   "cell_type": "code",
   "execution_count": 13,
   "metadata": {
    "ExecuteTime": {
     "end_time": "2018-02-17T19:19:14.324183Z",
     "start_time": "2018-02-17T19:19:14.288574Z"
    },
    "scrolled": true
   },
   "outputs": [
    {
     "data": {
      "text/plain": [
       "0"
      ]
     },
     "execution_count": 13,
     "metadata": {},
     "output_type": "execute_result"
    }
   ],
   "source": [
    "hum_final.Type_of_variant.isnull().sum()"
   ]
  },
  {
   "cell_type": "code",
   "execution_count": 14,
   "metadata": {
    "ExecuteTime": {
     "end_time": "2018-02-17T19:19:14.956241Z",
     "start_time": "2018-02-17T19:19:14.853038Z"
    },
    "collapsed": true
   },
   "outputs": [],
   "source": [
    "hum_final.drop_duplicates(inplace=True)"
   ]
  },
  {
   "cell_type": "code",
   "execution_count": 15,
   "metadata": {
    "ExecuteTime": {
     "end_time": "2018-02-17T19:19:15.468301Z",
     "start_time": "2018-02-17T19:19:15.454326Z"
    }
   },
   "outputs": [
    {
     "data": {
      "text/plain": [
       "(75802, 5)"
      ]
     },
     "execution_count": 15,
     "metadata": {},
     "output_type": "execute_result"
    }
   ],
   "source": [
    "hum_final.shape"
   ]
  },
  {
   "cell_type": "markdown",
   "metadata": {},
   "source": [
    "### Levanto tabla clinvar de Santi"
   ]
  },
  {
   "cell_type": "code",
   "execution_count": 16,
   "metadata": {
    "ExecuteTime": {
     "end_time": "2018-02-17T19:19:18.617106Z",
     "start_time": "2018-02-17T19:19:18.583119Z"
    },
    "collapsed": true
   },
   "outputs": [],
   "source": [
    "clinvar = pd.read_csv(\"../data/interim/mut-clinvar.tab.gz\", sep=\"\\t\", header=None, names=[\"MUTANT\", \"Type_of_variant\"])"
   ]
  },
  {
   "cell_type": "code",
   "execution_count": 17,
   "metadata": {
    "ExecuteTime": {
     "end_time": "2018-02-17T19:19:19.036815Z",
     "start_time": "2018-02-17T19:19:19.025389Z"
    }
   },
   "outputs": [
    {
     "data": {
      "text/plain": [
       "(7631, 2)"
      ]
     },
     "execution_count": 17,
     "metadata": {},
     "output_type": "execute_result"
    }
   ],
   "source": [
    "clinvar.shape"
   ]
  },
  {
   "cell_type": "code",
   "execution_count": 18,
   "metadata": {
    "ExecuteTime": {
     "end_time": "2018-02-17T19:19:19.321740Z",
     "start_time": "2018-02-17T19:19:19.311616Z"
    }
   },
   "outputs": [
    {
     "data": {
      "text/html": [
       "<div>\n",
       "<table border=\"1\" class=\"dataframe\">\n",
       "  <thead>\n",
       "    <tr style=\"text-align: right;\">\n",
       "      <th></th>\n",
       "      <th>MUTANT</th>\n",
       "      <th>Type_of_variant</th>\n",
       "    </tr>\n",
       "  </thead>\n",
       "  <tbody>\n",
       "    <tr>\n",
       "      <th>0</th>\n",
       "      <td>Q14896-432-A-T</td>\n",
       "      <td>Uncertain significance</td>\n",
       "    </tr>\n",
       "    <tr>\n",
       "      <th>1</th>\n",
       "      <td>Q86YC2-862-K-N</td>\n",
       "      <td>Uncertain significance</td>\n",
       "    </tr>\n",
       "    <tr>\n",
       "      <th>2</th>\n",
       "      <td>Q07889-663-I-V</td>\n",
       "      <td>Likely benign</td>\n",
       "    </tr>\n",
       "    <tr>\n",
       "      <th>3</th>\n",
       "      <td>Q14896-429-A-E</td>\n",
       "      <td>Uncertain significance</td>\n",
       "    </tr>\n",
       "    <tr>\n",
       "      <th>4</th>\n",
       "      <td>P12883-204-R-C</td>\n",
       "      <td>Pathogenic</td>\n",
       "    </tr>\n",
       "  </tbody>\n",
       "</table>\n",
       "</div>"
      ],
      "text/plain": [
       "           MUTANT         Type_of_variant\n",
       "0  Q14896-432-A-T  Uncertain significance\n",
       "1  Q86YC2-862-K-N  Uncertain significance\n",
       "2  Q07889-663-I-V           Likely benign\n",
       "3  Q14896-429-A-E  Uncertain significance\n",
       "4  P12883-204-R-C              Pathogenic"
      ]
     },
     "execution_count": 18,
     "metadata": {},
     "output_type": "execute_result"
    }
   ],
   "source": [
    "clinvar.head()"
   ]
  },
  {
   "cell_type": "code",
   "execution_count": 19,
   "metadata": {
    "ExecuteTime": {
     "end_time": "2018-02-17T19:19:19.778299Z",
     "start_time": "2018-02-17T19:19:19.760483Z"
    }
   },
   "outputs": [
    {
     "data": {
      "text/plain": [
       "Uncertain significance    2722\n",
       "Pathogenic                2435\n",
       "not provided              1029\n",
       "Likely pathogenic          627\n",
       "Likely benign              154\n",
       "Name: Type_of_variant, dtype: int64"
      ]
     },
     "execution_count": 19,
     "metadata": {},
     "output_type": "execute_result"
    }
   ],
   "source": [
    "clinvar.Type_of_variant.value_counts().head()"
   ]
  },
  {
   "cell_type": "code",
   "execution_count": 20,
   "metadata": {
    "ExecuteTime": {
     "end_time": "2018-02-17T19:19:26.503236Z",
     "start_time": "2018-02-17T19:19:26.495865Z"
    },
    "collapsed": true
   },
   "outputs": [],
   "source": [
    "clinvar.drop_duplicates(inplace=True)"
   ]
  },
  {
   "cell_type": "code",
   "execution_count": 21,
   "metadata": {
    "ExecuteTime": {
     "end_time": "2018-02-17T19:19:26.717626Z",
     "start_time": "2018-02-17T19:19:26.713207Z"
    }
   },
   "outputs": [
    {
     "data": {
      "text/plain": [
       "(7580, 2)"
      ]
     },
     "execution_count": 21,
     "metadata": {},
     "output_type": "execute_result"
    }
   ],
   "source": [
    "clinvar.shape"
   ]
  },
  {
   "cell_type": "code",
   "execution_count": 22,
   "metadata": {
    "ExecuteTime": {
     "end_time": "2018-02-17T19:19:27.070393Z",
     "start_time": "2018-02-17T19:19:27.058938Z"
    }
   },
   "outputs": [
    {
     "data": {
      "text/plain": [
       "0"
      ]
     },
     "execution_count": 22,
     "metadata": {},
     "output_type": "execute_result"
    }
   ],
   "source": [
    "clinvar.Type_of_variant.isnull().sum()"
   ]
  },
  {
   "cell_type": "markdown",
   "metadata": {},
   "source": [
    "### Combino la tabla humsavar y clinvar para ver clasificaciones"
   ]
  },
  {
   "cell_type": "code",
   "execution_count": 23,
   "metadata": {
    "ExecuteTime": {
     "end_time": "2018-02-17T19:19:27.982839Z",
     "start_time": "2018-02-17T19:19:27.877225Z"
    },
    "collapsed": true
   },
   "outputs": [],
   "source": [
    "combined = clinvar.merge(hum_final, right_on=\"MUTANT\", left_on=\"MUTANT\", suffixes=[\"_ClinVar\", \"_HumsaVar\"], how=\"outer\")"
   ]
  },
  {
   "cell_type": "code",
   "execution_count": 24,
   "metadata": {
    "ExecuteTime": {
     "end_time": "2018-02-17T19:19:28.536036Z",
     "start_time": "2018-02-17T19:19:28.511713Z"
    }
   },
   "outputs": [
    {
     "data": {
      "text/html": [
       "<div>\n",
       "<table border=\"1\" class=\"dataframe\">\n",
       "  <thead>\n",
       "    <tr style=\"text-align: right;\">\n",
       "      <th></th>\n",
       "      <th>MUTANT</th>\n",
       "      <th>Type_of_variant_ClinVar</th>\n",
       "      <th>Main_gene_name</th>\n",
       "      <th>Type_of_variant_HumsaVar</th>\n",
       "      <th>AA_Change</th>\n",
       "      <th>dbSNP</th>\n",
       "    </tr>\n",
       "  </thead>\n",
       "  <tbody>\n",
       "    <tr>\n",
       "      <th>0</th>\n",
       "      <td>Q14896-432-A-T</td>\n",
       "      <td>Uncertain significance</td>\n",
       "      <td>NaN</td>\n",
       "      <td>NaN</td>\n",
       "      <td>NaN</td>\n",
       "      <td>NaN</td>\n",
       "    </tr>\n",
       "    <tr>\n",
       "      <th>1</th>\n",
       "      <td>Q86YC2-862-K-N</td>\n",
       "      <td>Uncertain significance</td>\n",
       "      <td>NaN</td>\n",
       "      <td>NaN</td>\n",
       "      <td>NaN</td>\n",
       "      <td>NaN</td>\n",
       "    </tr>\n",
       "    <tr>\n",
       "      <th>2</th>\n",
       "      <td>Q07889-663-I-V</td>\n",
       "      <td>Likely benign</td>\n",
       "      <td>NaN</td>\n",
       "      <td>NaN</td>\n",
       "      <td>NaN</td>\n",
       "      <td>NaN</td>\n",
       "    </tr>\n",
       "    <tr>\n",
       "      <th>3</th>\n",
       "      <td>Q14896-429-A-E</td>\n",
       "      <td>Uncertain significance</td>\n",
       "      <td>NaN</td>\n",
       "      <td>NaN</td>\n",
       "      <td>NaN</td>\n",
       "      <td>NaN</td>\n",
       "    </tr>\n",
       "    <tr>\n",
       "      <th>4</th>\n",
       "      <td>P12883-204-R-C</td>\n",
       "      <td>Pathogenic</td>\n",
       "      <td>NaN</td>\n",
       "      <td>NaN</td>\n",
       "      <td>NaN</td>\n",
       "      <td>NaN</td>\n",
       "    </tr>\n",
       "  </tbody>\n",
       "</table>\n",
       "</div>"
      ],
      "text/plain": [
       "           MUTANT Type_of_variant_ClinVar Main_gene_name  \\\n",
       "0  Q14896-432-A-T  Uncertain significance            NaN   \n",
       "1  Q86YC2-862-K-N  Uncertain significance            NaN   \n",
       "2  Q07889-663-I-V           Likely benign            NaN   \n",
       "3  Q14896-429-A-E  Uncertain significance            NaN   \n",
       "4  P12883-204-R-C              Pathogenic            NaN   \n",
       "\n",
       "  Type_of_variant_HumsaVar AA_Change dbSNP  \n",
       "0                      NaN       NaN   NaN  \n",
       "1                      NaN       NaN   NaN  \n",
       "2                      NaN       NaN   NaN  \n",
       "3                      NaN       NaN   NaN  \n",
       "4                      NaN       NaN   NaN  "
      ]
     },
     "execution_count": 24,
     "metadata": {},
     "output_type": "execute_result"
    }
   ],
   "source": [
    "combined.head()"
   ]
  },
  {
   "cell_type": "markdown",
   "metadata": {},
   "source": [
    "#### Interseccion"
   ]
  },
  {
   "cell_type": "code",
   "execution_count": 25,
   "metadata": {
    "ExecuteTime": {
     "end_time": "2018-02-17T19:19:30.843558Z",
     "start_time": "2018-02-17T19:19:30.793025Z"
    }
   },
   "outputs": [
    {
     "data": {
      "text/plain": [
       "(2831, 6)"
      ]
     },
     "execution_count": 25,
     "metadata": {},
     "output_type": "execute_result"
    }
   ],
   "source": [
    "combined[~combined.Type_of_variant_ClinVar.isnull() & ~combined.Type_of_variant_HumsaVar.isnull()].shape"
   ]
  },
  {
   "cell_type": "code",
   "execution_count": 26,
   "metadata": {
    "ExecuteTime": {
     "end_time": "2018-02-17T19:19:31.110518Z",
     "start_time": "2018-02-17T19:19:31.087768Z"
    }
   },
   "outputs": [
    {
     "data": {
      "text/plain": [
       "Main_gene_name              684\n",
       "Type_of_variant_HumsaVar    684\n",
       "dtype: int64"
      ]
     },
     "execution_count": 26,
     "metadata": {},
     "output_type": "execute_result"
    }
   ],
   "source": [
    "combined[combined.Type_of_variant_ClinVar == \"not provided\"][[\"Main_gene_name\",\"Type_of_variant_HumsaVar\"]].isnull().sum()"
   ]
  },
  {
   "cell_type": "markdown",
   "metadata": {},
   "source": [
    "### Merge con tabla VarQ"
   ]
  },
  {
   "cell_type": "code",
   "execution_count": 27,
   "metadata": {
    "ExecuteTime": {
     "end_time": "2018-02-17T19:19:33.726366Z",
     "start_time": "2018-02-17T19:19:33.646448Z"
    },
    "collapsed": true
   },
   "outputs": [],
   "source": [
    "varq = pd.read_csv(\"../data/processed/properties-varq.tab.gz\", sep=\"\\t\")"
   ]
  },
  {
   "cell_type": "code",
   "execution_count": 28,
   "metadata": {
    "ExecuteTime": {
     "end_time": "2018-02-17T19:19:33.976046Z",
     "start_time": "2018-02-17T19:19:33.971590Z"
    },
    "scrolled": true
   },
   "outputs": [
    {
     "data": {
      "text/plain": [
       "(17869, 12)"
      ]
     },
     "execution_count": 28,
     "metadata": {},
     "output_type": "execute_result"
    }
   ],
   "source": [
    "varq.shape"
   ]
  },
  {
   "cell_type": "code",
   "execution_count": 29,
   "metadata": {
    "ExecuteTime": {
     "end_time": "2018-02-17T19:19:34.444012Z",
     "start_time": "2018-02-17T19:19:34.377120Z"
    },
    "collapsed": true
   },
   "outputs": [],
   "source": [
    "combined_varq = varq.merge(combined, left_on=\"MUTANT\", right_on=\"MUTANT\", how=\"left\")"
   ]
  },
  {
   "cell_type": "code",
   "execution_count": 30,
   "metadata": {
    "ExecuteTime": {
     "end_time": "2018-02-17T19:19:35.241262Z",
     "start_time": "2018-02-17T19:19:35.216923Z"
    }
   },
   "outputs": [
    {
     "data": {
      "text/plain": [
       "Index(['MUTANT', 'SASA', 'SASA_PERCENTAGE', 'BFACTOR', 'SWITCHBILITY',\n",
       "       'AGGREGABILITY', 'CONSERVATION', '3DID', 'PDB', 'ACTIVE_SITE',\n",
       "       'VARIATION_ENERGY', 'TYPE', 'Type_of_variant_ClinVar', 'Main_gene_name',\n",
       "       'Type_of_variant_HumsaVar', 'AA_Change', 'dbSNP'],\n",
       "      dtype='object')"
      ]
     },
     "execution_count": 30,
     "metadata": {},
     "output_type": "execute_result"
    }
   ],
   "source": [
    "combined_varq.columns"
   ]
  },
  {
   "cell_type": "code",
   "execution_count": 31,
   "metadata": {
    "ExecuteTime": {
     "end_time": "2018-02-17T19:19:35.829580Z",
     "start_time": "2018-02-17T19:19:35.803296Z"
    }
   },
   "outputs": [
    {
     "data": {
      "text/plain": [
       "(17893, 17)"
      ]
     },
     "execution_count": 31,
     "metadata": {},
     "output_type": "execute_result"
    }
   ],
   "source": [
    "combined_varq.shape"
   ]
  },
  {
   "cell_type": "code",
   "execution_count": 32,
   "metadata": {
    "ExecuteTime": {
     "end_time": "2018-02-17T19:19:36.606486Z",
     "start_time": "2018-02-17T19:19:36.530012Z"
    }
   },
   "outputs": [
    {
     "data": {
      "text/html": [
       "<div>\n",
       "<table border=\"1\" class=\"dataframe\">\n",
       "  <thead>\n",
       "    <tr style=\"text-align: right;\">\n",
       "      <th>TYPE</th>\n",
       "      <th>Benign</th>\n",
       "      <th>Pathogenic</th>\n",
       "    </tr>\n",
       "    <tr>\n",
       "      <th>Type_of_variant_HumsaVar</th>\n",
       "      <th></th>\n",
       "      <th></th>\n",
       "    </tr>\n",
       "  </thead>\n",
       "  <tbody>\n",
       "    <tr>\n",
       "      <th>Disease</th>\n",
       "      <td>0</td>\n",
       "      <td>4675</td>\n",
       "    </tr>\n",
       "    <tr>\n",
       "      <th>Polymorphism</th>\n",
       "      <td>1917</td>\n",
       "      <td>66</td>\n",
       "    </tr>\n",
       "    <tr>\n",
       "      <th>Unclassified</th>\n",
       "      <td>553</td>\n",
       "      <td>60</td>\n",
       "    </tr>\n",
       "  </tbody>\n",
       "</table>\n",
       "</div>"
      ],
      "text/plain": [
       "TYPE                      Benign  Pathogenic\n",
       "Type_of_variant_HumsaVar                    \n",
       "Disease                        0        4675\n",
       "Polymorphism                1917          66\n",
       "Unclassified                 553          60"
      ]
     },
     "execution_count": 32,
     "metadata": {},
     "output_type": "execute_result"
    }
   ],
   "source": [
    "combined_varq[~combined_varq.Type_of_variant_HumsaVar.isnull()][[\"Type_of_variant_HumsaVar\", \"TYPE\"]].groupby([\"Type_of_variant_HumsaVar\", \"TYPE\"]).size().unstack(fill_value=0)"
   ]
  },
  {
   "cell_type": "code",
   "execution_count": 33,
   "metadata": {
    "ExecuteTime": {
     "end_time": "2018-02-17T19:19:37.120653Z",
     "start_time": "2018-02-17T19:19:37.087190Z"
    }
   },
   "outputs": [
    {
     "data": {
      "text/html": [
       "<div>\n",
       "<table border=\"1\" class=\"dataframe\">\n",
       "  <thead>\n",
       "    <tr style=\"text-align: right;\">\n",
       "      <th>TYPE</th>\n",
       "      <th>Benign</th>\n",
       "      <th>Pathogenic</th>\n",
       "    </tr>\n",
       "    <tr>\n",
       "      <th>Type_of_variant_ClinVar</th>\n",
       "      <th></th>\n",
       "      <th></th>\n",
       "    </tr>\n",
       "  </thead>\n",
       "  <tbody>\n",
       "    <tr>\n",
       "      <th>Affects</th>\n",
       "      <td>0</td>\n",
       "      <td>3</td>\n",
       "    </tr>\n",
       "    <tr>\n",
       "      <th>Benign</th>\n",
       "      <td>123</td>\n",
       "      <td>15</td>\n",
       "    </tr>\n",
       "    <tr>\n",
       "      <th>Benign;Likely benign</th>\n",
       "      <td>36</td>\n",
       "      <td>3</td>\n",
       "    </tr>\n",
       "    <tr>\n",
       "      <th>Benign;Likely benign;Likely pathogenic;Uncertain significance</th>\n",
       "      <td>0</td>\n",
       "      <td>1</td>\n",
       "    </tr>\n",
       "    <tr>\n",
       "      <th>Benign;Likely benign;Pathogenic</th>\n",
       "      <td>0</td>\n",
       "      <td>3</td>\n",
       "    </tr>\n",
       "  </tbody>\n",
       "</table>\n",
       "</div>"
      ],
      "text/plain": [
       "TYPE                                                Benign  Pathogenic\n",
       "Type_of_variant_ClinVar                                               \n",
       "Affects                                                  0           3\n",
       "Benign                                                 123          15\n",
       "Benign;Likely benign                                    36           3\n",
       "Benign;Likely benign;Likely pathogenic;Uncertai...       0           1\n",
       "Benign;Likely benign;Pathogenic                          0           3"
      ]
     },
     "execution_count": 33,
     "metadata": {},
     "output_type": "execute_result"
    }
   ],
   "source": [
    "combined_varq[~combined_varq.Type_of_variant_ClinVar.isnull()][[\"Type_of_variant_ClinVar\", \"TYPE\"]].groupby([\"Type_of_variant_ClinVar\", \"TYPE\"]).size().unstack(fill_value=0).head()"
   ]
  },
  {
   "cell_type": "code",
   "execution_count": 34,
   "metadata": {
    "ExecuteTime": {
     "end_time": "2018-02-17T19:19:40.085248Z",
     "start_time": "2018-02-17T19:19:40.065612Z"
    },
    "collapsed": true
   },
   "outputs": [],
   "source": [
    "unlabeled = combined_varq[combined_varq.Type_of_variant_ClinVar.isnull() & combined_varq.Type_of_variant_HumsaVar.isnull()]"
   ]
  },
  {
   "cell_type": "code",
   "execution_count": 35,
   "metadata": {
    "ExecuteTime": {
     "end_time": "2018-02-17T19:19:40.455243Z",
     "start_time": "2018-02-17T19:19:40.449588Z"
    }
   },
   "outputs": [
    {
     "data": {
      "text/plain": [
       "(5863, 17)"
      ]
     },
     "execution_count": 35,
     "metadata": {},
     "output_type": "execute_result"
    }
   ],
   "source": [
    "unlabeled.shape # Cantidad de MUTANTS no clasificados"
   ]
  },
  {
   "cell_type": "code",
   "execution_count": 36,
   "metadata": {
    "ExecuteTime": {
     "end_time": "2018-02-17T19:19:40.763563Z",
     "start_time": "2018-02-17T19:19:40.754825Z"
    }
   },
   "outputs": [
    {
     "data": {
      "text/plain": [
       "24"
      ]
     },
     "execution_count": 36,
     "metadata": {},
     "output_type": "execute_result"
    }
   ],
   "source": [
    "combined_varq.MUTANT.duplicated().sum()"
   ]
  },
  {
   "cell_type": "code",
   "execution_count": 37,
   "metadata": {
    "ExecuteTime": {
     "end_time": "2018-02-17T19:19:41.345202Z",
     "start_time": "2018-02-17T19:19:41.325537Z"
    },
    "scrolled": true
   },
   "outputs": [
    {
     "data": {
      "text/plain": [
       "Disease         4675\n",
       "Polymorphism    1983\n",
       "Unclassified     613\n",
       "Name: Type_of_variant_HumsaVar, dtype: int64"
      ]
     },
     "execution_count": 37,
     "metadata": {},
     "output_type": "execute_result"
    }
   ],
   "source": [
    "combined_varq[~combined_varq[\"Type_of_variant_HumsaVar\"].isnull()][\"Type_of_variant_HumsaVar\"].value_counts()"
   ]
  },
  {
   "cell_type": "markdown",
   "metadata": {},
   "source": [
    "## Ver si los unlabeled aparecen en la tabla variants"
   ]
  },
  {
   "cell_type": "markdown",
   "metadata": {},
   "source": [
    "### Tabla de Variantes que encontre en el sitio ClinVar"
   ]
  },
  {
   "cell_type": "code",
   "execution_count": 3,
   "metadata": {
    "ExecuteTime": {
     "end_time": "2018-01-28T23:33:01.815616Z",
     "start_time": "2018-01-28T23:32:54.765072Z"
    },
    "scrolled": false
   },
   "outputs": [
    {
     "name": "stderr",
     "output_type": "stream",
     "text": [
      "/home/marlan/anaconda3/lib/python3.6/site-packages/IPython/core/interactiveshell.py:2717: DtypeWarning: Columns (18) have mixed types. Specify dtype option on import or set low_memory=False.\n",
      "  interactivity=interactivity, compiler=compiler, result=result)\n"
     ]
    }
   ],
   "source": [
    "variants = pd.read_csv(\"/home/marlan/Downloads/variant_summary.txt.gz\", sep=\"\\t\")"
   ]
  },
  {
   "cell_type": "code",
   "execution_count": 10,
   "metadata": {
    "ExecuteTime": {
     "end_time": "2018-01-28T23:39:15.928294Z",
     "start_time": "2018-01-28T23:39:15.715968Z"
    },
    "collapsed": true
   },
   "outputs": [],
   "source": [
    "variants = variants[variants.Type == \"single nucleotide variant\"]"
   ]
  },
  {
   "cell_type": "code",
   "execution_count": 45,
   "metadata": {
    "ExecuteTime": {
     "end_time": "2018-01-28T23:43:36.363033Z",
     "start_time": "2018-01-28T23:43:36.300914Z"
    },
    "scrolled": true
   },
   "outputs": [
    {
     "data": {
      "text/html": [
       "<div>\n",
       "<table border=\"1\" class=\"dataframe\">\n",
       "  <thead>\n",
       "    <tr style=\"text-align: right;\">\n",
       "      <th></th>\n",
       "      <th>#AlleleID</th>\n",
       "      <th>Type</th>\n",
       "      <th>Name</th>\n",
       "      <th>GeneID</th>\n",
       "      <th>GeneSymbol</th>\n",
       "      <th>HGNC_ID</th>\n",
       "      <th>ClinicalSignificance</th>\n",
       "      <th>ClinSigSimple</th>\n",
       "      <th>LastEvaluated</th>\n",
       "      <th>RS# (dbSNP)</th>\n",
       "      <th>...</th>\n",
       "      <th>Stop</th>\n",
       "      <th>ReferenceAllele</th>\n",
       "      <th>AlternateAllele</th>\n",
       "      <th>Cytogenetic</th>\n",
       "      <th>ReviewStatus</th>\n",
       "      <th>NumberSubmitters</th>\n",
       "      <th>Guidelines</th>\n",
       "      <th>TestedInGTR</th>\n",
       "      <th>OtherIDs</th>\n",
       "      <th>SubmitterCategories</th>\n",
       "    </tr>\n",
       "  </thead>\n",
       "  <tbody>\n",
       "    <tr>\n",
       "      <th>4</th>\n",
       "      <td>15043</td>\n",
       "      <td>single nucleotide variant</td>\n",
       "      <td>NM_014630.2(ZNF592):c.3136G&gt;A (p.Gly1046Arg)</td>\n",
       "      <td>9640</td>\n",
       "      <td>ZNF592</td>\n",
       "      <td>HGNC:28986</td>\n",
       "      <td>Uncertain significance</td>\n",
       "      <td>0</td>\n",
       "      <td>Jun 29, 2015</td>\n",
       "      <td>150829393</td>\n",
       "      <td>...</td>\n",
       "      <td>85342440</td>\n",
       "      <td>G</td>\n",
       "      <td>A</td>\n",
       "      <td>15q25</td>\n",
       "      <td>no assertion criteria provided</td>\n",
       "      <td>1</td>\n",
       "      <td>NaN</td>\n",
       "      <td>N</td>\n",
       "      <td>OMIM Allelic Variant:613624.0001,UniProtKB (protein):Q92610#VAR_064583</td>\n",
       "      <td>1</td>\n",
       "    </tr>\n",
       "    <tr>\n",
       "      <th>5</th>\n",
       "      <td>15043</td>\n",
       "      <td>single nucleotide variant</td>\n",
       "      <td>NM_014630.2(ZNF592):c.3136G&gt;A (p.Gly1046Arg)</td>\n",
       "      <td>9640</td>\n",
       "      <td>ZNF592</td>\n",
       "      <td>HGNC:28986</td>\n",
       "      <td>Uncertain significance</td>\n",
       "      <td>0</td>\n",
       "      <td>Jun 29, 2015</td>\n",
       "      <td>150829393</td>\n",
       "      <td>...</td>\n",
       "      <td>84799209</td>\n",
       "      <td>G</td>\n",
       "      <td>A</td>\n",
       "      <td>15q25.3</td>\n",
       "      <td>no assertion criteria provided</td>\n",
       "      <td>1</td>\n",
       "      <td>NaN</td>\n",
       "      <td>N</td>\n",
       "      <td>OMIM Allelic Variant:613624.0001,UniProtKB (protein):Q92610#VAR_064583</td>\n",
       "      <td>1</td>\n",
       "    </tr>\n",
       "    <tr>\n",
       "      <th>6</th>\n",
       "      <td>15044</td>\n",
       "      <td>single nucleotide variant</td>\n",
       "      <td>NM_017547.3(FOXRED1):c.694C&gt;T (p.Gln232Ter)</td>\n",
       "      <td>55572</td>\n",
       "      <td>FOXRED1</td>\n",
       "      <td>HGNC:26927</td>\n",
       "      <td>Pathogenic</td>\n",
       "      <td>1</td>\n",
       "      <td>Oct 01, 2010</td>\n",
       "      <td>267606829</td>\n",
       "      <td>...</td>\n",
       "      <td>126145284</td>\n",
       "      <td>C</td>\n",
       "      <td>T</td>\n",
       "      <td>11q24</td>\n",
       "      <td>no assertion criteria provided</td>\n",
       "      <td>1</td>\n",
       "      <td>NaN</td>\n",
       "      <td>N</td>\n",
       "      <td>OMIM Allelic Variant:613622.0001</td>\n",
       "      <td>1</td>\n",
       "    </tr>\n",
       "    <tr>\n",
       "      <th>7</th>\n",
       "      <td>15044</td>\n",
       "      <td>single nucleotide variant</td>\n",
       "      <td>NM_017547.3(FOXRED1):c.694C&gt;T (p.Gln232Ter)</td>\n",
       "      <td>55572</td>\n",
       "      <td>FOXRED1</td>\n",
       "      <td>HGNC:26927</td>\n",
       "      <td>Pathogenic</td>\n",
       "      <td>1</td>\n",
       "      <td>Oct 01, 2010</td>\n",
       "      <td>267606829</td>\n",
       "      <td>...</td>\n",
       "      <td>126275389</td>\n",
       "      <td>C</td>\n",
       "      <td>T</td>\n",
       "      <td>11q24.2</td>\n",
       "      <td>no assertion criteria provided</td>\n",
       "      <td>1</td>\n",
       "      <td>NaN</td>\n",
       "      <td>N</td>\n",
       "      <td>OMIM Allelic Variant:613622.0001</td>\n",
       "      <td>1</td>\n",
       "    </tr>\n",
       "    <tr>\n",
       "      <th>8</th>\n",
       "      <td>15045</td>\n",
       "      <td>single nucleotide variant</td>\n",
       "      <td>NM_017547.3(FOXRED1):c.1289A&gt;G (p.Asn430Ser)</td>\n",
       "      <td>55572</td>\n",
       "      <td>FOXRED1</td>\n",
       "      <td>HGNC:26927</td>\n",
       "      <td>Pathogenic</td>\n",
       "      <td>1</td>\n",
       "      <td>Oct 01, 2010</td>\n",
       "      <td>267606830</td>\n",
       "      <td>...</td>\n",
       "      <td>126147412</td>\n",
       "      <td>A</td>\n",
       "      <td>G</td>\n",
       "      <td>11q24</td>\n",
       "      <td>no assertion criteria provided</td>\n",
       "      <td>1</td>\n",
       "      <td>NaN</td>\n",
       "      <td>N</td>\n",
       "      <td>OMIM Allelic Variant:613622.0002,UniProtKB (protein):Q96CU9#VAR_064571</td>\n",
       "      <td>1</td>\n",
       "    </tr>\n",
       "    <tr>\n",
       "      <th>9</th>\n",
       "      <td>15045</td>\n",
       "      <td>single nucleotide variant</td>\n",
       "      <td>NM_017547.3(FOXRED1):c.1289A&gt;G (p.Asn430Ser)</td>\n",
       "      <td>55572</td>\n",
       "      <td>FOXRED1</td>\n",
       "      <td>HGNC:26927</td>\n",
       "      <td>Pathogenic</td>\n",
       "      <td>1</td>\n",
       "      <td>Oct 01, 2010</td>\n",
       "      <td>267606830</td>\n",
       "      <td>...</td>\n",
       "      <td>126277517</td>\n",
       "      <td>A</td>\n",
       "      <td>G</td>\n",
       "      <td>11q24.2</td>\n",
       "      <td>no assertion criteria provided</td>\n",
       "      <td>1</td>\n",
       "      <td>NaN</td>\n",
       "      <td>N</td>\n",
       "      <td>OMIM Allelic Variant:613622.0002,UniProtKB (protein):Q96CU9#VAR_064571</td>\n",
       "      <td>1</td>\n",
       "    </tr>\n",
       "    <tr>\n",
       "      <th>10</th>\n",
       "      <td>15046</td>\n",
       "      <td>single nucleotide variant</td>\n",
       "      <td>NM_025152.2(NUBPL):c.166G&gt;A (p.Gly56Arg)</td>\n",
       "      <td>80224</td>\n",
       "      <td>NUBPL</td>\n",
       "      <td>HGNC:20278</td>\n",
       "      <td>Uncertain significance</td>\n",
       "      <td>0</td>\n",
       "      <td>Feb 22, 2017</td>\n",
       "      <td>200401432</td>\n",
       "      <td>...</td>\n",
       "      <td>32031331</td>\n",
       "      <td>G</td>\n",
       "      <td>A</td>\n",
       "      <td>14q12</td>\n",
       "      <td>criteria provided, single submitter</td>\n",
       "      <td>3</td>\n",
       "      <td>NaN</td>\n",
       "      <td>N</td>\n",
       "      <td>OMIM Allelic Variant:613621.0001,UniProtKB (protein):Q8TB37#VAR_064570</td>\n",
       "      <td>3</td>\n",
       "    </tr>\n",
       "    <tr>\n",
       "      <th>11</th>\n",
       "      <td>15046</td>\n",
       "      <td>single nucleotide variant</td>\n",
       "      <td>NM_025152.2(NUBPL):c.166G&gt;A (p.Gly56Arg)</td>\n",
       "      <td>80224</td>\n",
       "      <td>NUBPL</td>\n",
       "      <td>HGNC:20278</td>\n",
       "      <td>Uncertain significance</td>\n",
       "      <td>0</td>\n",
       "      <td>Feb 22, 2017</td>\n",
       "      <td>200401432</td>\n",
       "      <td>...</td>\n",
       "      <td>31562125</td>\n",
       "      <td>G</td>\n",
       "      <td>A</td>\n",
       "      <td>14q12</td>\n",
       "      <td>criteria provided, single submitter</td>\n",
       "      <td>3</td>\n",
       "      <td>NaN</td>\n",
       "      <td>N</td>\n",
       "      <td>OMIM Allelic Variant:613621.0001,UniProtKB (protein):Q8TB37#VAR_064570</td>\n",
       "      <td>3</td>\n",
       "    </tr>\n",
       "    <tr>\n",
       "      <th>15</th>\n",
       "      <td>15053</td>\n",
       "      <td>single nucleotide variant</td>\n",
       "      <td>NM_000410.3(HFE):c.892+48G&gt;A</td>\n",
       "      <td>3077</td>\n",
       "      <td>HFE</td>\n",
       "      <td>HGNC:4886</td>\n",
       "      <td>Benign</td>\n",
       "      <td>0</td>\n",
       "      <td>Nov 01, 1999</td>\n",
       "      <td>1800758</td>\n",
       "      <td>...</td>\n",
       "      <td>26093236</td>\n",
       "      <td>G</td>\n",
       "      <td>A</td>\n",
       "      <td>6p22.2</td>\n",
       "      <td>no assertion criteria provided</td>\n",
       "      <td>1</td>\n",
       "      <td>NaN</td>\n",
       "      <td>N</td>\n",
       "      <td>OMIM Allelic Variant:613609.0004</td>\n",
       "      <td>1</td>\n",
       "    </tr>\n",
       "    <tr>\n",
       "      <th>16</th>\n",
       "      <td>15053</td>\n",
       "      <td>single nucleotide variant</td>\n",
       "      <td>NM_000410.3(HFE):c.892+48G&gt;A</td>\n",
       "      <td>3077</td>\n",
       "      <td>HFE</td>\n",
       "      <td>HGNC:4886</td>\n",
       "      <td>Benign</td>\n",
       "      <td>0</td>\n",
       "      <td>Nov 01, 1999</td>\n",
       "      <td>1800758</td>\n",
       "      <td>...</td>\n",
       "      <td>26093008</td>\n",
       "      <td>G</td>\n",
       "      <td>A</td>\n",
       "      <td>6p22.2</td>\n",
       "      <td>no assertion criteria provided</td>\n",
       "      <td>1</td>\n",
       "      <td>NaN</td>\n",
       "      <td>N</td>\n",
       "      <td>OMIM Allelic Variant:613609.0004</td>\n",
       "      <td>1</td>\n",
       "    </tr>\n",
       "    <tr>\n",
       "      <th>17</th>\n",
       "      <td>15054</td>\n",
       "      <td>single nucleotide variant</td>\n",
       "      <td>NM_000410.3(HFE):c.157G&gt;A (p.Val53Met)</td>\n",
       "      <td>3077</td>\n",
       "      <td>HFE</td>\n",
       "      <td>HGNC:4886</td>\n",
       "      <td>Benign</td>\n",
       "      <td>0</td>\n",
       "      <td>Aug 01, 1999</td>\n",
       "      <td>28934889</td>\n",
       "      <td>...</td>\n",
       "      <td>26091149</td>\n",
       "      <td>G</td>\n",
       "      <td>A</td>\n",
       "      <td>6p22.2</td>\n",
       "      <td>no assertion criteria provided</td>\n",
       "      <td>1</td>\n",
       "      <td>NaN</td>\n",
       "      <td>N</td>\n",
       "      <td>OMIM Allelic Variant:613609.0005,UniProtKB (protein):Q30201#VAR_008111</td>\n",
       "      <td>1</td>\n",
       "    </tr>\n",
       "    <tr>\n",
       "      <th>18</th>\n",
       "      <td>15048</td>\n",
       "      <td>single nucleotide variant</td>\n",
       "      <td>NM_000410.3(HFE):c.845G&gt;A (p.Cys282Tyr)</td>\n",
       "      <td>3077</td>\n",
       "      <td>HFE</td>\n",
       "      <td>HGNC:4886</td>\n",
       "      <td>Conflicting interpretations of pathogenicity, association, other, risk factor</td>\n",
       "      <td>1</td>\n",
       "      <td>Aug 16, 2017</td>\n",
       "      <td>1800562</td>\n",
       "      <td>...</td>\n",
       "      <td>26093141</td>\n",
       "      <td>G</td>\n",
       "      <td>A</td>\n",
       "      <td>6p22.2</td>\n",
       "      <td>criteria provided, conflicting interpretations</td>\n",
       "      <td>13</td>\n",
       "      <td>NaN</td>\n",
       "      <td>Y</td>\n",
       "      <td>OMIM Allelic Variant:613609.0001,UniProtKB (protein):Q30201#VAR_004398</td>\n",
       "      <td>3</td>\n",
       "    </tr>\n",
       "    <tr>\n",
       "      <th>19</th>\n",
       "      <td>15048</td>\n",
       "      <td>single nucleotide variant</td>\n",
       "      <td>NM_000410.3(HFE):c.845G&gt;A (p.Cys282Tyr)</td>\n",
       "      <td>3077</td>\n",
       "      <td>HFE</td>\n",
       "      <td>HGNC:4886</td>\n",
       "      <td>Conflicting interpretations of pathogenicity, association, other, risk factor</td>\n",
       "      <td>1</td>\n",
       "      <td>Aug 16, 2017</td>\n",
       "      <td>1800562</td>\n",
       "      <td>...</td>\n",
       "      <td>26092913</td>\n",
       "      <td>G</td>\n",
       "      <td>A</td>\n",
       "      <td>6p22.2</td>\n",
       "      <td>criteria provided, conflicting interpretations</td>\n",
       "      <td>13</td>\n",
       "      <td>NaN</td>\n",
       "      <td>Y</td>\n",
       "      <td>OMIM Allelic Variant:613609.0001,UniProtKB (protein):Q30201#VAR_004398</td>\n",
       "      <td>3</td>\n",
       "    </tr>\n",
       "    <tr>\n",
       "      <th>20</th>\n",
       "      <td>15049</td>\n",
       "      <td>single nucleotide variant</td>\n",
       "      <td>NM_000410.3(HFE):c.187C&gt;G (p.His63Asp)</td>\n",
       "      <td>3077</td>\n",
       "      <td>HFE</td>\n",
       "      <td>HGNC:4886</td>\n",
       "      <td>Conflicting interpretations of pathogenicity, other, risk factor</td>\n",
       "      <td>1</td>\n",
       "      <td>Feb 21, 2017</td>\n",
       "      <td>1799945</td>\n",
       "      <td>...</td>\n",
       "      <td>26091179</td>\n",
       "      <td>C</td>\n",
       "      <td>G</td>\n",
       "      <td>6p22.2</td>\n",
       "      <td>criteria provided, conflicting interpretations</td>\n",
       "      <td>11</td>\n",
       "      <td>NaN</td>\n",
       "      <td>Y</td>\n",
       "      <td>OMIM Allelic Variant:613609.0002,UniProtKB (protein):Q30201#VAR_004396</td>\n",
       "      <td>3</td>\n",
       "    </tr>\n",
       "    <tr>\n",
       "      <th>21</th>\n",
       "      <td>15049</td>\n",
       "      <td>single nucleotide variant</td>\n",
       "      <td>NM_000410.3(HFE):c.187C&gt;G (p.His63Asp)</td>\n",
       "      <td>3077</td>\n",
       "      <td>HFE</td>\n",
       "      <td>HGNC:4886</td>\n",
       "      <td>Conflicting interpretations of pathogenicity, other, risk factor</td>\n",
       "      <td>1</td>\n",
       "      <td>Feb 21, 2017</td>\n",
       "      <td>1799945</td>\n",
       "      <td>...</td>\n",
       "      <td>26090951</td>\n",
       "      <td>C</td>\n",
       "      <td>G</td>\n",
       "      <td>6p22.2</td>\n",
       "      <td>criteria provided, conflicting interpretations</td>\n",
       "      <td>11</td>\n",
       "      <td>NaN</td>\n",
       "      <td>Y</td>\n",
       "      <td>OMIM Allelic Variant:613609.0002,UniProtKB (protein):Q30201#VAR_004396</td>\n",
       "      <td>3</td>\n",
       "    </tr>\n",
       "    <tr>\n",
       "      <th>22</th>\n",
       "      <td>15050</td>\n",
       "      <td>single nucleotide variant</td>\n",
       "      <td>NM_000410.3(HFE):c.193A&gt;T (p.Ser65Cys)</td>\n",
       "      <td>3077</td>\n",
       "      <td>HFE</td>\n",
       "      <td>HGNC:4886</td>\n",
       "      <td>Conflicting interpretations of pathogenicity</td>\n",
       "      <td>1</td>\n",
       "      <td>Jun 21, 2016</td>\n",
       "      <td>1800730</td>\n",
       "      <td>...</td>\n",
       "      <td>26091185</td>\n",
       "      <td>A</td>\n",
       "      <td>T</td>\n",
       "      <td>6p22.2</td>\n",
       "      <td>criteria provided, conflicting interpretations</td>\n",
       "      <td>5</td>\n",
       "      <td>NaN</td>\n",
       "      <td>Y</td>\n",
       "      <td>OMIM Allelic Variant:613609.0003,UniProtKB (protein):Q30201#VAR_004397</td>\n",
       "      <td>3</td>\n",
       "    </tr>\n",
       "    <tr>\n",
       "      <th>23</th>\n",
       "      <td>15050</td>\n",
       "      <td>single nucleotide variant</td>\n",
       "      <td>NM_000410.3(HFE):c.193A&gt;T (p.Ser65Cys)</td>\n",
       "      <td>3077</td>\n",
       "      <td>HFE</td>\n",
       "      <td>HGNC:4886</td>\n",
       "      <td>Conflicting interpretations of pathogenicity</td>\n",
       "      <td>1</td>\n",
       "      <td>Jun 21, 2016</td>\n",
       "      <td>1800730</td>\n",
       "      <td>...</td>\n",
       "      <td>26090957</td>\n",
       "      <td>A</td>\n",
       "      <td>T</td>\n",
       "      <td>6p22.2</td>\n",
       "      <td>criteria provided, conflicting interpretations</td>\n",
       "      <td>5</td>\n",
       "      <td>NaN</td>\n",
       "      <td>Y</td>\n",
       "      <td>OMIM Allelic Variant:613609.0003,UniProtKB (protein):Q30201#VAR_004397</td>\n",
       "      <td>3</td>\n",
       "    </tr>\n",
       "    <tr>\n",
       "      <th>24</th>\n",
       "      <td>15051</td>\n",
       "      <td>single nucleotide variant</td>\n",
       "      <td>NM_000410.3(HFE):c.314T&gt;C (p.Ile105Thr)</td>\n",
       "      <td>3077</td>\n",
       "      <td>HFE</td>\n",
       "      <td>HGNC:4886</td>\n",
       "      <td>Pathogenic</td>\n",
       "      <td>1</td>\n",
       "      <td>Jun 01, 1999</td>\n",
       "      <td>28934596</td>\n",
       "      <td>...</td>\n",
       "      <td>26091306</td>\n",
       "      <td>T</td>\n",
       "      <td>C</td>\n",
       "      <td>6p22.2</td>\n",
       "      <td>no assertion criteria provided</td>\n",
       "      <td>1</td>\n",
       "      <td>NaN</td>\n",
       "      <td>N</td>\n",
       "      <td>OMIM Allelic Variant:613609.0009,UniProtKB (protein):Q30201#VAR_008730</td>\n",
       "      <td>1</td>\n",
       "    </tr>\n",
       "    <tr>\n",
       "      <th>25</th>\n",
       "      <td>15051</td>\n",
       "      <td>single nucleotide variant</td>\n",
       "      <td>NM_000410.3(HFE):c.314T&gt;C (p.Ile105Thr)</td>\n",
       "      <td>3077</td>\n",
       "      <td>HFE</td>\n",
       "      <td>HGNC:4886</td>\n",
       "      <td>Pathogenic</td>\n",
       "      <td>1</td>\n",
       "      <td>Jun 01, 1999</td>\n",
       "      <td>28934596</td>\n",
       "      <td>...</td>\n",
       "      <td>26091078</td>\n",
       "      <td>T</td>\n",
       "      <td>C</td>\n",
       "      <td>6p22.2</td>\n",
       "      <td>no assertion criteria provided</td>\n",
       "      <td>1</td>\n",
       "      <td>NaN</td>\n",
       "      <td>N</td>\n",
       "      <td>OMIM Allelic Variant:613609.0009,UniProtKB (protein):Q30201#VAR_008730</td>\n",
       "      <td>1</td>\n",
       "    </tr>\n",
       "    <tr>\n",
       "      <th>26</th>\n",
       "      <td>15052</td>\n",
       "      <td>single nucleotide variant</td>\n",
       "      <td>NM_000410.3(HFE):c.277G&gt;C (p.Gly93Arg)</td>\n",
       "      <td>3077</td>\n",
       "      <td>HFE</td>\n",
       "      <td>HGNC:4886</td>\n",
       "      <td>Pathogenic</td>\n",
       "      <td>1</td>\n",
       "      <td>Jun 01, 1999</td>\n",
       "      <td>28934597</td>\n",
       "      <td>...</td>\n",
       "      <td>26091269</td>\n",
       "      <td>G</td>\n",
       "      <td>C</td>\n",
       "      <td>6p22.2</td>\n",
       "      <td>no assertion criteria provided</td>\n",
       "      <td>1</td>\n",
       "      <td>NaN</td>\n",
       "      <td>N</td>\n",
       "      <td>OMIM Allelic Variant:613609.0010,UniProtKB (protein):Q30201#VAR_008729</td>\n",
       "      <td>1</td>\n",
       "    </tr>\n",
       "    <tr>\n",
       "      <th>27</th>\n",
       "      <td>15052</td>\n",
       "      <td>single nucleotide variant</td>\n",
       "      <td>NM_000410.3(HFE):c.277G&gt;C (p.Gly93Arg)</td>\n",
       "      <td>3077</td>\n",
       "      <td>HFE</td>\n",
       "      <td>HGNC:4886</td>\n",
       "      <td>Pathogenic</td>\n",
       "      <td>1</td>\n",
       "      <td>Jun 01, 1999</td>\n",
       "      <td>28934597</td>\n",
       "      <td>...</td>\n",
       "      <td>26091041</td>\n",
       "      <td>G</td>\n",
       "      <td>C</td>\n",
       "      <td>6p22.2</td>\n",
       "      <td>no assertion criteria provided</td>\n",
       "      <td>1</td>\n",
       "      <td>NaN</td>\n",
       "      <td>N</td>\n",
       "      <td>OMIM Allelic Variant:613609.0010,UniProtKB (protein):Q30201#VAR_008729</td>\n",
       "      <td>1</td>\n",
       "    </tr>\n",
       "    <tr>\n",
       "      <th>28</th>\n",
       "      <td>15054</td>\n",
       "      <td>single nucleotide variant</td>\n",
       "      <td>NM_000410.3(HFE):c.157G&gt;A (p.Val53Met)</td>\n",
       "      <td>3077</td>\n",
       "      <td>HFE</td>\n",
       "      <td>HGNC:4886</td>\n",
       "      <td>Benign</td>\n",
       "      <td>0</td>\n",
       "      <td>Aug 01, 1999</td>\n",
       "      <td>28934889</td>\n",
       "      <td>...</td>\n",
       "      <td>26090921</td>\n",
       "      <td>G</td>\n",
       "      <td>A</td>\n",
       "      <td>6p22.2</td>\n",
       "      <td>no assertion criteria provided</td>\n",
       "      <td>1</td>\n",
       "      <td>NaN</td>\n",
       "      <td>N</td>\n",
       "      <td>OMIM Allelic Variant:613609.0005,UniProtKB (protein):Q30201#VAR_008111</td>\n",
       "      <td>1</td>\n",
       "    </tr>\n",
       "    <tr>\n",
       "      <th>29</th>\n",
       "      <td>15055</td>\n",
       "      <td>single nucleotide variant</td>\n",
       "      <td>NM_000410.3(HFE):c.175G&gt;A (p.Val59Met)</td>\n",
       "      <td>3077</td>\n",
       "      <td>HFE</td>\n",
       "      <td>HGNC:4886</td>\n",
       "      <td>Benign</td>\n",
       "      <td>0</td>\n",
       "      <td>Aug 01, 1999</td>\n",
       "      <td>111033557</td>\n",
       "      <td>...</td>\n",
       "      <td>26091167</td>\n",
       "      <td>G</td>\n",
       "      <td>A</td>\n",
       "      <td>6p22.2</td>\n",
       "      <td>no assertion criteria provided</td>\n",
       "      <td>1</td>\n",
       "      <td>NaN</td>\n",
       "      <td>N</td>\n",
       "      <td>OMIM Allelic Variant:613609.0006,UniProtKB (protein):Q30201#VAR_008112</td>\n",
       "      <td>1</td>\n",
       "    </tr>\n",
       "    <tr>\n",
       "      <th>30</th>\n",
       "      <td>15055</td>\n",
       "      <td>single nucleotide variant</td>\n",
       "      <td>NM_000410.3(HFE):c.175G&gt;A (p.Val59Met)</td>\n",
       "      <td>3077</td>\n",
       "      <td>HFE</td>\n",
       "      <td>HGNC:4886</td>\n",
       "      <td>Benign</td>\n",
       "      <td>0</td>\n",
       "      <td>Aug 01, 1999</td>\n",
       "      <td>111033557</td>\n",
       "      <td>...</td>\n",
       "      <td>26090939</td>\n",
       "      <td>G</td>\n",
       "      <td>A</td>\n",
       "      <td>6p22.2</td>\n",
       "      <td>no assertion criteria provided</td>\n",
       "      <td>1</td>\n",
       "      <td>NaN</td>\n",
       "      <td>N</td>\n",
       "      <td>OMIM Allelic Variant:613609.0006,UniProtKB (protein):Q30201#VAR_008112</td>\n",
       "      <td>1</td>\n",
       "    </tr>\n",
       "    <tr>\n",
       "      <th>31</th>\n",
       "      <td>15056</td>\n",
       "      <td>single nucleotide variant</td>\n",
       "      <td>NM_000410.3(HFE):c.381A&gt;C (p.Gln127His)</td>\n",
       "      <td>3077</td>\n",
       "      <td>HFE</td>\n",
       "      <td>HGNC:4886</td>\n",
       "      <td>Pathogenic</td>\n",
       "      <td>1</td>\n",
       "      <td>Aug 01, 1999</td>\n",
       "      <td>28934595</td>\n",
       "      <td>...</td>\n",
       "      <td>26091582</td>\n",
       "      <td>A</td>\n",
       "      <td>C</td>\n",
       "      <td>6p22.2</td>\n",
       "      <td>no assertion criteria provided</td>\n",
       "      <td>1</td>\n",
       "      <td>NaN</td>\n",
       "      <td>N</td>\n",
       "      <td>OMIM Allelic Variant:613609.0007,UniProtKB (protein):Q30201#VAR_008113</td>\n",
       "      <td>1</td>\n",
       "    </tr>\n",
       "  </tbody>\n",
       "</table>\n",
       "<p>25 rows × 30 columns</p>\n",
       "</div>"
      ],
      "text/plain": [
       "    #AlleleID                       Type  \\\n",
       "4   15043      single nucleotide variant   \n",
       "5   15043      single nucleotide variant   \n",
       "6   15044      single nucleotide variant   \n",
       "7   15044      single nucleotide variant   \n",
       "8   15045      single nucleotide variant   \n",
       "9   15045      single nucleotide variant   \n",
       "10  15046      single nucleotide variant   \n",
       "11  15046      single nucleotide variant   \n",
       "15  15053      single nucleotide variant   \n",
       "16  15053      single nucleotide variant   \n",
       "17  15054      single nucleotide variant   \n",
       "18  15048      single nucleotide variant   \n",
       "19  15048      single nucleotide variant   \n",
       "20  15049      single nucleotide variant   \n",
       "21  15049      single nucleotide variant   \n",
       "22  15050      single nucleotide variant   \n",
       "23  15050      single nucleotide variant   \n",
       "24  15051      single nucleotide variant   \n",
       "25  15051      single nucleotide variant   \n",
       "26  15052      single nucleotide variant   \n",
       "27  15052      single nucleotide variant   \n",
       "28  15054      single nucleotide variant   \n",
       "29  15055      single nucleotide variant   \n",
       "30  15055      single nucleotide variant   \n",
       "31  15056      single nucleotide variant   \n",
       "\n",
       "                                            Name  GeneID GeneSymbol  \\\n",
       "4   NM_014630.2(ZNF592):c.3136G>A (p.Gly1046Arg)  9640    ZNF592      \n",
       "5   NM_014630.2(ZNF592):c.3136G>A (p.Gly1046Arg)  9640    ZNF592      \n",
       "6   NM_017547.3(FOXRED1):c.694C>T (p.Gln232Ter)   55572   FOXRED1     \n",
       "7   NM_017547.3(FOXRED1):c.694C>T (p.Gln232Ter)   55572   FOXRED1     \n",
       "8   NM_017547.3(FOXRED1):c.1289A>G (p.Asn430Ser)  55572   FOXRED1     \n",
       "9   NM_017547.3(FOXRED1):c.1289A>G (p.Asn430Ser)  55572   FOXRED1     \n",
       "10  NM_025152.2(NUBPL):c.166G>A (p.Gly56Arg)      80224   NUBPL       \n",
       "11  NM_025152.2(NUBPL):c.166G>A (p.Gly56Arg)      80224   NUBPL       \n",
       "15  NM_000410.3(HFE):c.892+48G>A                  3077    HFE         \n",
       "16  NM_000410.3(HFE):c.892+48G>A                  3077    HFE         \n",
       "17  NM_000410.3(HFE):c.157G>A (p.Val53Met)        3077    HFE         \n",
       "18  NM_000410.3(HFE):c.845G>A (p.Cys282Tyr)       3077    HFE         \n",
       "19  NM_000410.3(HFE):c.845G>A (p.Cys282Tyr)       3077    HFE         \n",
       "20  NM_000410.3(HFE):c.187C>G (p.His63Asp)        3077    HFE         \n",
       "21  NM_000410.3(HFE):c.187C>G (p.His63Asp)        3077    HFE         \n",
       "22  NM_000410.3(HFE):c.193A>T (p.Ser65Cys)        3077    HFE         \n",
       "23  NM_000410.3(HFE):c.193A>T (p.Ser65Cys)        3077    HFE         \n",
       "24  NM_000410.3(HFE):c.314T>C (p.Ile105Thr)       3077    HFE         \n",
       "25  NM_000410.3(HFE):c.314T>C (p.Ile105Thr)       3077    HFE         \n",
       "26  NM_000410.3(HFE):c.277G>C (p.Gly93Arg)        3077    HFE         \n",
       "27  NM_000410.3(HFE):c.277G>C (p.Gly93Arg)        3077    HFE         \n",
       "28  NM_000410.3(HFE):c.157G>A (p.Val53Met)        3077    HFE         \n",
       "29  NM_000410.3(HFE):c.175G>A (p.Val59Met)        3077    HFE         \n",
       "30  NM_000410.3(HFE):c.175G>A (p.Val59Met)        3077    HFE         \n",
       "31  NM_000410.3(HFE):c.381A>C (p.Gln127His)       3077    HFE         \n",
       "\n",
       "       HGNC_ID  \\\n",
       "4   HGNC:28986   \n",
       "5   HGNC:28986   \n",
       "6   HGNC:26927   \n",
       "7   HGNC:26927   \n",
       "8   HGNC:26927   \n",
       "9   HGNC:26927   \n",
       "10  HGNC:20278   \n",
       "11  HGNC:20278   \n",
       "15  HGNC:4886    \n",
       "16  HGNC:4886    \n",
       "17  HGNC:4886    \n",
       "18  HGNC:4886    \n",
       "19  HGNC:4886    \n",
       "20  HGNC:4886    \n",
       "21  HGNC:4886    \n",
       "22  HGNC:4886    \n",
       "23  HGNC:4886    \n",
       "24  HGNC:4886    \n",
       "25  HGNC:4886    \n",
       "26  HGNC:4886    \n",
       "27  HGNC:4886    \n",
       "28  HGNC:4886    \n",
       "29  HGNC:4886    \n",
       "30  HGNC:4886    \n",
       "31  HGNC:4886    \n",
       "\n",
       "                                                             ClinicalSignificance  \\\n",
       "4   Uncertain significance                                                          \n",
       "5   Uncertain significance                                                          \n",
       "6   Pathogenic                                                                      \n",
       "7   Pathogenic                                                                      \n",
       "8   Pathogenic                                                                      \n",
       "9   Pathogenic                                                                      \n",
       "10  Uncertain significance                                                          \n",
       "11  Uncertain significance                                                          \n",
       "15  Benign                                                                          \n",
       "16  Benign                                                                          \n",
       "17  Benign                                                                          \n",
       "18  Conflicting interpretations of pathogenicity, association, other, risk factor   \n",
       "19  Conflicting interpretations of pathogenicity, association, other, risk factor   \n",
       "20  Conflicting interpretations of pathogenicity, other, risk factor                \n",
       "21  Conflicting interpretations of pathogenicity, other, risk factor                \n",
       "22  Conflicting interpretations of pathogenicity                                    \n",
       "23  Conflicting interpretations of pathogenicity                                    \n",
       "24  Pathogenic                                                                      \n",
       "25  Pathogenic                                                                      \n",
       "26  Pathogenic                                                                      \n",
       "27  Pathogenic                                                                      \n",
       "28  Benign                                                                          \n",
       "29  Benign                                                                          \n",
       "30  Benign                                                                          \n",
       "31  Pathogenic                                                                      \n",
       "\n",
       "    ClinSigSimple LastEvaluated  RS# (dbSNP)         ...                Stop  \\\n",
       "4   0              Jun 29, 2015  150829393           ...           85342440    \n",
       "5   0              Jun 29, 2015  150829393           ...           84799209    \n",
       "6   1              Oct 01, 2010  267606829           ...           126145284   \n",
       "7   1              Oct 01, 2010  267606829           ...           126275389   \n",
       "8   1              Oct 01, 2010  267606830           ...           126147412   \n",
       "9   1              Oct 01, 2010  267606830           ...           126277517   \n",
       "10  0              Feb 22, 2017  200401432           ...           32031331    \n",
       "11  0              Feb 22, 2017  200401432           ...           31562125    \n",
       "15  0              Nov 01, 1999  1800758             ...           26093236    \n",
       "16  0              Nov 01, 1999  1800758             ...           26093008    \n",
       "17  0              Aug 01, 1999  28934889            ...           26091149    \n",
       "18  1              Aug 16, 2017  1800562             ...           26093141    \n",
       "19  1              Aug 16, 2017  1800562             ...           26092913    \n",
       "20  1              Feb 21, 2017  1799945             ...           26091179    \n",
       "21  1              Feb 21, 2017  1799945             ...           26090951    \n",
       "22  1              Jun 21, 2016  1800730             ...           26091185    \n",
       "23  1              Jun 21, 2016  1800730             ...           26090957    \n",
       "24  1              Jun 01, 1999  28934596            ...           26091306    \n",
       "25  1              Jun 01, 1999  28934596            ...           26091078    \n",
       "26  1              Jun 01, 1999  28934597            ...           26091269    \n",
       "27  1              Jun 01, 1999  28934597            ...           26091041    \n",
       "28  0              Aug 01, 1999  28934889            ...           26090921    \n",
       "29  0              Aug 01, 1999  111033557           ...           26091167    \n",
       "30  0              Aug 01, 1999  111033557           ...           26090939    \n",
       "31  1              Aug 01, 1999  28934595            ...           26091582    \n",
       "\n",
       "   ReferenceAllele AlternateAllele Cytogenetic  \\\n",
       "4   G               A               15q25        \n",
       "5   G               A               15q25.3      \n",
       "6   C               T               11q24        \n",
       "7   C               T               11q24.2      \n",
       "8   A               G               11q24        \n",
       "9   A               G               11q24.2      \n",
       "10  G               A               14q12        \n",
       "11  G               A               14q12        \n",
       "15  G               A               6p22.2       \n",
       "16  G               A               6p22.2       \n",
       "17  G               A               6p22.2       \n",
       "18  G               A               6p22.2       \n",
       "19  G               A               6p22.2       \n",
       "20  C               G               6p22.2       \n",
       "21  C               G               6p22.2       \n",
       "22  A               T               6p22.2       \n",
       "23  A               T               6p22.2       \n",
       "24  T               C               6p22.2       \n",
       "25  T               C               6p22.2       \n",
       "26  G               C               6p22.2       \n",
       "27  G               C               6p22.2       \n",
       "28  G               A               6p22.2       \n",
       "29  G               A               6p22.2       \n",
       "30  G               A               6p22.2       \n",
       "31  A               C               6p22.2       \n",
       "\n",
       "                                      ReviewStatus NumberSubmitters  \\\n",
       "4   no assertion criteria provided                  1                 \n",
       "5   no assertion criteria provided                  1                 \n",
       "6   no assertion criteria provided                  1                 \n",
       "7   no assertion criteria provided                  1                 \n",
       "8   no assertion criteria provided                  1                 \n",
       "9   no assertion criteria provided                  1                 \n",
       "10  criteria provided, single submitter             3                 \n",
       "11  criteria provided, single submitter             3                 \n",
       "15  no assertion criteria provided                  1                 \n",
       "16  no assertion criteria provided                  1                 \n",
       "17  no assertion criteria provided                  1                 \n",
       "18  criteria provided, conflicting interpretations  13                \n",
       "19  criteria provided, conflicting interpretations  13                \n",
       "20  criteria provided, conflicting interpretations  11                \n",
       "21  criteria provided, conflicting interpretations  11                \n",
       "22  criteria provided, conflicting interpretations  5                 \n",
       "23  criteria provided, conflicting interpretations  5                 \n",
       "24  no assertion criteria provided                  1                 \n",
       "25  no assertion criteria provided                  1                 \n",
       "26  no assertion criteria provided                  1                 \n",
       "27  no assertion criteria provided                  1                 \n",
       "28  no assertion criteria provided                  1                 \n",
       "29  no assertion criteria provided                  1                 \n",
       "30  no assertion criteria provided                  1                 \n",
       "31  no assertion criteria provided                  1                 \n",
       "\n",
       "   Guidelines TestedInGTR  \\\n",
       "4   NaN        N            \n",
       "5   NaN        N            \n",
       "6   NaN        N            \n",
       "7   NaN        N            \n",
       "8   NaN        N            \n",
       "9   NaN        N            \n",
       "10  NaN        N            \n",
       "11  NaN        N            \n",
       "15  NaN        N            \n",
       "16  NaN        N            \n",
       "17  NaN        N            \n",
       "18  NaN        Y            \n",
       "19  NaN        Y            \n",
       "20  NaN        Y            \n",
       "21  NaN        Y            \n",
       "22  NaN        Y            \n",
       "23  NaN        Y            \n",
       "24  NaN        N            \n",
       "25  NaN        N            \n",
       "26  NaN        N            \n",
       "27  NaN        N            \n",
       "28  NaN        N            \n",
       "29  NaN        N            \n",
       "30  NaN        N            \n",
       "31  NaN        N            \n",
       "\n",
       "                                                                  OtherIDs  \\\n",
       "4   OMIM Allelic Variant:613624.0001,UniProtKB (protein):Q92610#VAR_064583   \n",
       "5   OMIM Allelic Variant:613624.0001,UniProtKB (protein):Q92610#VAR_064583   \n",
       "6   OMIM Allelic Variant:613622.0001                                         \n",
       "7   OMIM Allelic Variant:613622.0001                                         \n",
       "8   OMIM Allelic Variant:613622.0002,UniProtKB (protein):Q96CU9#VAR_064571   \n",
       "9   OMIM Allelic Variant:613622.0002,UniProtKB (protein):Q96CU9#VAR_064571   \n",
       "10  OMIM Allelic Variant:613621.0001,UniProtKB (protein):Q8TB37#VAR_064570   \n",
       "11  OMIM Allelic Variant:613621.0001,UniProtKB (protein):Q8TB37#VAR_064570   \n",
       "15  OMIM Allelic Variant:613609.0004                                         \n",
       "16  OMIM Allelic Variant:613609.0004                                         \n",
       "17  OMIM Allelic Variant:613609.0005,UniProtKB (protein):Q30201#VAR_008111   \n",
       "18  OMIM Allelic Variant:613609.0001,UniProtKB (protein):Q30201#VAR_004398   \n",
       "19  OMIM Allelic Variant:613609.0001,UniProtKB (protein):Q30201#VAR_004398   \n",
       "20  OMIM Allelic Variant:613609.0002,UniProtKB (protein):Q30201#VAR_004396   \n",
       "21  OMIM Allelic Variant:613609.0002,UniProtKB (protein):Q30201#VAR_004396   \n",
       "22  OMIM Allelic Variant:613609.0003,UniProtKB (protein):Q30201#VAR_004397   \n",
       "23  OMIM Allelic Variant:613609.0003,UniProtKB (protein):Q30201#VAR_004397   \n",
       "24  OMIM Allelic Variant:613609.0009,UniProtKB (protein):Q30201#VAR_008730   \n",
       "25  OMIM Allelic Variant:613609.0009,UniProtKB (protein):Q30201#VAR_008730   \n",
       "26  OMIM Allelic Variant:613609.0010,UniProtKB (protein):Q30201#VAR_008729   \n",
       "27  OMIM Allelic Variant:613609.0010,UniProtKB (protein):Q30201#VAR_008729   \n",
       "28  OMIM Allelic Variant:613609.0005,UniProtKB (protein):Q30201#VAR_008111   \n",
       "29  OMIM Allelic Variant:613609.0006,UniProtKB (protein):Q30201#VAR_008112   \n",
       "30  OMIM Allelic Variant:613609.0006,UniProtKB (protein):Q30201#VAR_008112   \n",
       "31  OMIM Allelic Variant:613609.0007,UniProtKB (protein):Q30201#VAR_008113   \n",
       "\n",
       "    SubmitterCategories  \n",
       "4   1                    \n",
       "5   1                    \n",
       "6   1                    \n",
       "7   1                    \n",
       "8   1                    \n",
       "9   1                    \n",
       "10  3                    \n",
       "11  3                    \n",
       "15  1                    \n",
       "16  1                    \n",
       "17  1                    \n",
       "18  3                    \n",
       "19  3                    \n",
       "20  3                    \n",
       "21  3                    \n",
       "22  3                    \n",
       "23  3                    \n",
       "24  1                    \n",
       "25  1                    \n",
       "26  1                    \n",
       "27  1                    \n",
       "28  1                    \n",
       "29  1                    \n",
       "30  1                    \n",
       "31  1                    \n",
       "\n",
       "[25 rows x 30 columns]"
      ]
     },
     "execution_count": 45,
     "metadata": {},
     "output_type": "execute_result"
    }
   ],
   "source": [
    "pd.set_option('display.max_colwidth', -1)\n",
    "variants.head(25)"
   ]
  },
  {
   "cell_type": "code",
   "execution_count": 12,
   "metadata": {
    "ExecuteTime": {
     "end_time": "2018-01-28T23:39:21.976642Z",
     "start_time": "2018-01-28T23:39:21.889508Z"
    },
    "scrolled": true
   },
   "outputs": [
    {
     "data": {
      "text/plain": [
       "7568"
      ]
     },
     "execution_count": 12,
     "metadata": {},
     "output_type": "execute_result"
    }
   ],
   "source": [
    "((variants[\"RS# (dbSNP)\"] == -1) & (variants[\"Type\"] == \"single nucleotide variant\")).sum()"
   ]
  },
  {
   "cell_type": "code",
   "execution_count": 13,
   "metadata": {
    "ExecuteTime": {
     "end_time": "2018-01-28T23:39:25.731160Z",
     "start_time": "2018-01-28T23:39:25.715658Z"
    }
   },
   "outputs": [
    {
     "data": {
      "text/plain": [
       "(533427, 30)"
      ]
     },
     "execution_count": 13,
     "metadata": {},
     "output_type": "execute_result"
    }
   ],
   "source": [
    "variants.shape"
   ]
  },
  {
   "cell_type": "code",
   "execution_count": 14,
   "metadata": {
    "ExecuteTime": {
     "end_time": "2018-01-28T23:39:28.298416Z",
     "start_time": "2018-01-28T23:39:28.216699Z"
    }
   },
   "outputs": [
    {
     "data": {
      "text/plain": [
       "Uncertain significance                          226504\n",
       "Likely benign                                   99855 \n",
       "Pathogenic                                      62303 \n",
       "Benign                                          43962 \n",
       "Conflicting interpretations of pathogenicity    24331 \n",
       "Name: ClinicalSignificance, dtype: int64"
      ]
     },
     "execution_count": 14,
     "metadata": {},
     "output_type": "execute_result"
    }
   ],
   "source": [
    "variants.ClinicalSignificance.value_counts().head()"
   ]
  },
  {
   "cell_type": "code",
   "execution_count": 15,
   "metadata": {
    "ExecuteTime": {
     "end_time": "2018-01-28T23:39:34.993461Z",
     "start_time": "2018-01-28T23:39:34.986186Z"
    },
    "scrolled": true
   },
   "outputs": [
    {
     "data": {
      "text/plain": [
       "Index(['#AlleleID', 'Type', 'Name', 'GeneID', 'GeneSymbol', 'HGNC_ID',\n",
       "       'ClinicalSignificance', 'ClinSigSimple', 'LastEvaluated', 'RS# (dbSNP)',\n",
       "       'nsv/esv (dbVar)', 'RCVaccession', 'PhenotypeIDS', 'PhenotypeList',\n",
       "       'Origin', 'OriginSimple', 'Assembly', 'ChromosomeAccession',\n",
       "       'Chromosome', 'Start', 'Stop', 'ReferenceAllele', 'AlternateAllele',\n",
       "       'Cytogenetic', 'ReviewStatus', 'NumberSubmitters', 'Guidelines',\n",
       "       'TestedInGTR', 'OtherIDs', 'SubmitterCategories'],\n",
       "      dtype='object')"
      ]
     },
     "execution_count": 15,
     "metadata": {},
     "output_type": "execute_result"
    }
   ],
   "source": [
    "variants.columns"
   ]
  },
  {
   "cell_type": "code",
   "execution_count": 41,
   "metadata": {
    "ExecuteTime": {
     "end_time": "2018-01-28T23:42:57.827741Z",
     "start_time": "2018-01-28T23:42:55.673881Z"
    },
    "collapsed": true
   },
   "outputs": [],
   "source": [
    "amino = variants.Name.str.extract('(?P<C1>[A-Z]{1}[a-z]{2})(?P<C2>\\d+)(?P<C3>[A-Z]{1}[a-z]{2})', expand=True)\n",
    "protein = variants.OtherIDs.str.extract('\\(protein\\):(?P<Protein>[A-Z,\\d]+)#', expand=True)\n",
    "amino[\"C1\"] = amino.C1.map(AMINO_CODE)\n",
    "amino[\"C3\"] = amino.C3.map(AMINO_CODE)\n",
    "mutant = pd.Series(data=(protein.Protein + \"-\" + amino.C2 + \"-\" + amino.C1 + \"-\" + amino.C3).tolist(), name=\"MUTANT\")"
   ]
  },
  {
   "cell_type": "code",
   "execution_count": 42,
   "metadata": {
    "ExecuteTime": {
     "end_time": "2018-01-28T23:43:00.349672Z",
     "start_time": "2018-01-28T23:43:00.319651Z"
    },
    "collapsed": true
   },
   "outputs": [],
   "source": [
    "mutant = mutant[~mutant.isnull()]"
   ]
  },
  {
   "cell_type": "code",
   "execution_count": 43,
   "metadata": {
    "ExecuteTime": {
     "end_time": "2018-01-28T23:43:01.066138Z",
     "start_time": "2018-01-28T23:43:01.046660Z"
    }
   },
   "outputs": [
    {
     "data": {
      "text/plain": [
       "(34519,)"
      ]
     },
     "execution_count": 43,
     "metadata": {},
     "output_type": "execute_result"
    }
   ],
   "source": [
    "mutant.shape"
   ]
  },
  {
   "cell_type": "code",
   "execution_count": 39,
   "metadata": {
    "ExecuteTime": {
     "end_time": "2018-01-28T23:42:31.222436Z",
     "start_time": "2018-01-28T23:42:31.188804Z"
    }
   },
   "outputs": [
    {
     "data": {
      "text/plain": [
       "(75769,)"
      ]
     },
     "execution_count": 39,
     "metadata": {},
     "output_type": "execute_result"
    }
   ],
   "source": [
    "hum_final.MUTANT.drop_duplicates().shape"
   ]
  },
  {
   "cell_type": "code",
   "execution_count": 44,
   "metadata": {
    "ExecuteTime": {
     "end_time": "2018-01-28T23:43:02.936231Z",
     "start_time": "2018-01-28T23:43:02.899966Z"
    }
   },
   "outputs": [
    {
     "data": {
      "text/plain": [
       "17866"
      ]
     },
     "execution_count": 44,
     "metadata": {},
     "output_type": "execute_result"
    }
   ],
   "source": [
    "hum_final.MUTANT.isin(mutant).sum()"
   ]
  },
  {
   "cell_type": "markdown",
   "metadata": {},
   "source": [
    "### No, no hay ni un unlabeled que podamos clasificar usando variants."
   ]
  },
  {
   "cell_type": "markdown",
   "metadata": {},
   "source": [
    "## Genero Ground Truth para ClinVar y para HumsaVar"
   ]
  },
  {
   "cell_type": "code",
   "execution_count": 38,
   "metadata": {
    "ExecuteTime": {
     "end_time": "2018-02-17T19:19:51.504156Z",
     "start_time": "2018-02-17T19:19:51.489471Z"
    },
    "collapsed": true
   },
   "outputs": [],
   "source": [
    "humsavar_GT = combined_varq[~combined_varq[\"Type_of_variant_HumsaVar\"].isnull()]\n",
    "clinvar_GT = combined_varq[~combined_varq[\"Type_of_variant_ClinVar\"].isnull()]"
   ]
  },
  {
   "cell_type": "code",
   "execution_count": 39,
   "metadata": {
    "ExecuteTime": {
     "end_time": "2018-02-17T19:19:52.864221Z",
     "start_time": "2018-02-17T19:19:52.853100Z"
    },
    "collapsed": true
   },
   "outputs": [],
   "source": [
    "cols = varq.columns.difference([\"TYPE\"]).tolist() + [\"Type_of_variant_HumsaVar\", \"dbSNP\"] "
   ]
  },
  {
   "cell_type": "code",
   "execution_count": 40,
   "metadata": {
    "ExecuteTime": {
     "end_time": "2018-02-17T19:19:53.376450Z",
     "start_time": "2018-02-17T19:19:53.370100Z"
    }
   },
   "outputs": [
    {
     "data": {
      "text/plain": [
       "Index(['MUTANT', 'SASA', 'SASA_PERCENTAGE', 'BFACTOR', 'SWITCHBILITY',\n",
       "       'AGGREGABILITY', 'CONSERVATION', '3DID', 'PDB', 'ACTIVE_SITE',\n",
       "       'VARIATION_ENERGY', 'TYPE'],\n",
       "      dtype='object')"
      ]
     },
     "execution_count": 40,
     "metadata": {},
     "output_type": "execute_result"
    }
   ],
   "source": [
    "varq.columns"
   ]
  },
  {
   "cell_type": "code",
   "execution_count": 41,
   "metadata": {
    "ExecuteTime": {
     "end_time": "2018-02-17T19:19:54.339128Z",
     "start_time": "2018-02-17T19:19:54.268609Z"
    },
    "collapsed": true
   },
   "outputs": [],
   "source": [
    "humsavar_GT = humsavar_GT[cols]\n",
    "humsavar_GT.rename(columns={\"Type_of_variant_HumsaVar\": \"TYPE\"}, inplace=True)"
   ]
  },
  {
   "cell_type": "code",
   "execution_count": 42,
   "metadata": {
    "ExecuteTime": {
     "end_time": "2018-02-17T19:19:57.313373Z",
     "start_time": "2018-02-17T19:19:57.079341Z"
    },
    "collapsed": true
   },
   "outputs": [],
   "source": [
    "clinvar_GT[cols].set_index(\"MUTANT\").to_csv(\"../data/processed/clinvar_gt.tab.gz\", sep=\"\\t\", compression=\"gzip\", index=True)"
   ]
  },
  {
   "cell_type": "code",
   "execution_count": 43,
   "metadata": {
    "ExecuteTime": {
     "end_time": "2018-02-17T19:20:14.086184Z",
     "start_time": "2018-02-17T19:20:13.889721Z"
    },
    "collapsed": true
   },
   "outputs": [],
   "source": [
    "humsavar_GT.set_index(\"MUTANT\").to_csv(\"../data/processed/humsavar_varq_gt.csv.gz\", compression=\"gzip\", index=True)"
   ]
  },
  {
   "cell_type": "code",
   "execution_count": 44,
   "metadata": {
    "ExecuteTime": {
     "end_time": "2018-02-17T19:20:15.254673Z",
     "start_time": "2018-02-17T19:20:15.227932Z"
    },
    "scrolled": true
   },
   "outputs": [
    {
     "data": {
      "text/plain": [
       "(7271, 12)"
      ]
     },
     "execution_count": 44,
     "metadata": {},
     "output_type": "execute_result"
    }
   ],
   "source": [
    "humsavar_GT.set_index(\"MUTANT\").shape"
   ]
  },
  {
   "cell_type": "code",
   "execution_count": 51,
   "metadata": {},
   "outputs": [
    {
     "data": {
      "text/plain": [
       "(7590, 11)"
      ]
     },
     "execution_count": 51,
     "metadata": {},
     "output_type": "execute_result"
    }
   ],
   "source": [
    "clinvar_GT[cols].set_index(\"MUTANT\").shape"
   ]
  },
  {
   "cell_type": "code",
   "execution_count": null,
   "metadata": {
    "collapsed": true
   },
   "outputs": [],
   "source": []
  }
 ],
 "metadata": {
  "kernelspec": {
   "display_name": "Python 3",
   "language": "python",
   "name": "python3"
  },
  "language_info": {
   "codemirror_mode": {
    "name": "ipython",
    "version": 3
   },
   "file_extension": ".py",
   "mimetype": "text/x-python",
   "name": "python",
   "nbconvert_exporter": "python",
   "pygments_lexer": "ipython3",
   "version": "3.6.3"
  },
  "varInspector": {
   "cols": {
    "lenName": 16,
    "lenType": 16,
    "lenVar": 40
   },
   "kernels_config": {
    "python": {
     "delete_cmd_postfix": "",
     "delete_cmd_prefix": "del ",
     "library": "var_list.py",
     "varRefreshCmd": "print(var_dic_list())"
    },
    "r": {
     "delete_cmd_postfix": ") ",
     "delete_cmd_prefix": "rm(",
     "library": "var_list.r",
     "varRefreshCmd": "cat(var_dic_list()) "
    }
   },
   "types_to_exclude": [
    "module",
    "function",
    "builtin_function_or_method",
    "instance",
    "_Feature"
   ],
   "window_display": false
  }
 },
 "nbformat": 4,
 "nbformat_minor": 2
}
