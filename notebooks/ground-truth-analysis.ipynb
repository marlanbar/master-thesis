{
 "cells": [
  {
   "cell_type": "code",
   "execution_count": 2,
   "metadata": {
    "collapsed": true
   },
   "outputs": [],
   "source": [
    "import pandas as pd"
   ]
  },
  {
   "cell_type": "markdown",
   "metadata": {},
   "source": [
    "### Levanto la tabla de la pagina Humsavar sin el prologo y la coda"
   ]
  },
  {
   "cell_type": "code",
   "execution_count": 3,
   "metadata": {},
   "outputs": [],
   "source": [
    "hum = pd.read_csv(\"../data/interim/humsavar_clean_201711.csv.gz\", sep=\",\")"
   ]
  },
  {
   "cell_type": "code",
   "execution_count": 4,
   "metadata": {
    "collapsed": true
   },
   "outputs": [],
   "source": [
    "hum.columns = hum.columns.str.replace(\" \", \"_\")"
   ]
  },
  {
   "cell_type": "code",
   "execution_count": 5,
   "metadata": {},
   "outputs": [
    {
     "data": {
      "text/plain": [
       "(76730, 7)"
      ]
     },
     "execution_count": 5,
     "metadata": {},
     "output_type": "execute_result"
    }
   ],
   "source": [
    "hum.shape"
   ]
  },
  {
   "cell_type": "code",
   "execution_count": 6,
   "metadata": {},
   "outputs": [
    {
     "data": {
      "text/plain": [
       "Polymorphism    39655\n",
       "Disease         29726\n",
       "Unclassified     7349\n",
       "Name: Type_of_variant, dtype: int64"
      ]
     },
     "execution_count": 6,
     "metadata": {},
     "output_type": "execute_result"
    }
   ],
   "source": [
    "hum.Type_of_variant.value_counts()"
   ]
  },
  {
   "cell_type": "code",
   "execution_count": 7,
   "metadata": {},
   "outputs": [
    {
     "data": {
      "text/plain": [
       "Index(['Main_gene_name', 'Swiss_Prot_AC', 'FTId', 'AA_Change',\n",
       "       'Type_of_variant', 'dbSNP', 'Disease_Name'],\n",
       "      dtype='object')"
      ]
     },
     "execution_count": 7,
     "metadata": {},
     "output_type": "execute_result"
    }
   ],
   "source": [
    "hum.columns"
   ]
  },
  {
   "cell_type": "markdown",
   "metadata": {},
   "source": [
    "### Los duplicados de la tabla humsaVar varian solo en su Disease Name"
   ]
  },
  {
   "cell_type": "code",
   "execution_count": 8,
   "metadata": {
    "scrolled": true
   },
   "outputs": [
    {
     "data": {
      "text/html": [
       "<div>\n",
       "<table border=\"1\" class=\"dataframe\">\n",
       "  <thead>\n",
       "    <tr style=\"text-align: right;\">\n",
       "      <th></th>\n",
       "      <th>Main_gene_name</th>\n",
       "      <th>Swiss_Prot_AC</th>\n",
       "      <th>FTId</th>\n",
       "      <th>AA_Change</th>\n",
       "      <th>Type_of_variant</th>\n",
       "      <th>dbSNP</th>\n",
       "      <th>Disease_Name</th>\n",
       "    </tr>\n",
       "  </thead>\n",
       "  <tbody>\n",
       "    <tr>\n",
       "      <th>228</th>\n",
       "      <td>ABCA4</td>\n",
       "      <td>P78363</td>\n",
       "      <td>VAR_008401</td>\n",
       "      <td>p.Gly65Glu</td>\n",
       "      <td>Disease</td>\n",
       "      <td>rs62654395</td>\n",
       "      <td>Cone-rod dystrophy 3 (CORD3) [MIM:604116]</td>\n",
       "    </tr>\n",
       "    <tr>\n",
       "      <th>229</th>\n",
       "      <td>ABCA4</td>\n",
       "      <td>P78363</td>\n",
       "      <td>VAR_008401</td>\n",
       "      <td>p.Gly65Glu</td>\n",
       "      <td>Disease</td>\n",
       "      <td>rs62654395</td>\n",
       "      <td>Stargardt disease 1 (STGD1) [MIM:248200]</td>\n",
       "    </tr>\n",
       "    <tr>\n",
       "      <th>234</th>\n",
       "      <td>ABCA4</td>\n",
       "      <td>P78363</td>\n",
       "      <td>VAR_008406</td>\n",
       "      <td>p.Arg212Cys</td>\n",
       "      <td>Disease</td>\n",
       "      <td>rs61750200</td>\n",
       "      <td>Cone-rod dystrophy 3 (CORD3) [MIM:604116]</td>\n",
       "    </tr>\n",
       "    <tr>\n",
       "      <th>235</th>\n",
       "      <td>ABCA4</td>\n",
       "      <td>P78363</td>\n",
       "      <td>VAR_008406</td>\n",
       "      <td>p.Arg212Cys</td>\n",
       "      <td>Disease</td>\n",
       "      <td>rs61750200</td>\n",
       "      <td>Stargardt disease 1 (STGD1) [MIM:248200]</td>\n",
       "    </tr>\n",
       "    <tr>\n",
       "      <th>240</th>\n",
       "      <td>ABCA4</td>\n",
       "      <td>P78363</td>\n",
       "      <td>VAR_008411</td>\n",
       "      <td>p.Ala407Val</td>\n",
       "      <td>Disease</td>\n",
       "      <td>rs61751264</td>\n",
       "      <td>Cone-rod dystrophy 3 (CORD3) [MIM:604116]</td>\n",
       "    </tr>\n",
       "  </tbody>\n",
       "</table>\n",
       "</div>"
      ],
      "text/plain": [
       "    Main_gene_name Swiss_Prot_AC        FTId    AA_Change Type_of_variant  \\\n",
       "228          ABCA4        P78363  VAR_008401   p.Gly65Glu         Disease   \n",
       "229          ABCA4        P78363  VAR_008401   p.Gly65Glu         Disease   \n",
       "234          ABCA4        P78363  VAR_008406  p.Arg212Cys         Disease   \n",
       "235          ABCA4        P78363  VAR_008406  p.Arg212Cys         Disease   \n",
       "240          ABCA4        P78363  VAR_008411  p.Ala407Val         Disease   \n",
       "\n",
       "          dbSNP                               Disease_Name  \n",
       "228  rs62654395  Cone-rod dystrophy 3 (CORD3) [MIM:604116]  \n",
       "229  rs62654395   Stargardt disease 1 (STGD1) [MIM:248200]  \n",
       "234  rs61750200  Cone-rod dystrophy 3 (CORD3) [MIM:604116]  \n",
       "235  rs61750200   Stargardt disease 1 (STGD1) [MIM:248200]  \n",
       "240  rs61751264  Cone-rod dystrophy 3 (CORD3) [MIM:604116]  "
      ]
     },
     "execution_count": 8,
     "metadata": {},
     "output_type": "execute_result"
    }
   ],
   "source": [
    "hum[hum[[\"Main_gene_name\", \"Swiss_Prot_AC\", \"AA_Change\"]].duplicated(keep=False)].head()"
   ]
  },
  {
   "cell_type": "code",
   "execution_count": 9,
   "metadata": {
    "collapsed": true
   },
   "outputs": [],
   "source": [
    "#Correspondencia hecha por Santi\n",
    "AMINO_CODE = {\"Ala\": \"A\",\\\n",
    "              \"Arg\": \"R\",\\\n",
    "              \"Asn\": \"N\",\\\n",
    "              \"Asp\": \"D\",\\\n",
    "              \"Cys\": \"C\",\\\n",
    "              \"Gln\": \"Q\",\\\n",
    "              \"Glu\": \"E\",\\\n",
    "              \"Gly\": \"G\",\\\n",
    "              \"His\": \"H\",\\\n",
    "              \"Ile\": \"I\",\\\n",
    "              \"Leu\": \"L\",\\\n",
    "              \"Lys\": \"K\",\\\n",
    "              \"Met\": \"M\",\\\n",
    "              \"Phe\": \"F\",\\\n",
    "              \"Pro\": \"P\",\\\n",
    "              \"Ser\": \"S\",\\\n",
    "              \"Thr\": \"T\",\\\n",
    "              \"Trp\": \"W\",\\\n",
    "              \"Tyr\": \"Y\",\\\n",
    "              \"Val\": \"V\",\\\n",
    "              \"Sec\": \"U\"\n",
    "             }"
   ]
  },
  {
   "cell_type": "markdown",
   "metadata": {},
   "source": [
    "Formateo la tabla para coincidir con formato Uniprot-Pos-Amino1-Amino2"
   ]
  },
  {
   "cell_type": "code",
   "execution_count": 10,
   "metadata": {
    "collapsed": true
   },
   "outputs": [],
   "source": [
    "df = pd.DataFrame(data=(hum[\"AA_Change\"].str[2:].str.split(r\"([0-9]+)\")).tolist(), columns=[\"C1\", \"C2\", \"C3\"])\n",
    "df[\"C1\"] = df.C1.map(AMINO_CODE)\n",
    "df[\"C3\"] = df.C3.map(AMINO_CODE)\n",
    "mutant = pd.Series(data=(hum[\"Swiss_Prot_AC\"] + \"-\" + df.C2 + \"-\" + df.C1 + \"-\" + df.C3).tolist(), name=\"MUTANT\")"
   ]
  },
  {
   "cell_type": "code",
   "execution_count": 11,
   "metadata": {
    "collapsed": true
   },
   "outputs": [],
   "source": [
    "hum_final = pd.concat([hum, mutant], 1)[[\"Main_gene_name\", \"Type_of_variant\", \"MUTANT\", \"AA_Change\", \"dbSNP\"]]"
   ]
  },
  {
   "cell_type": "code",
   "execution_count": 12,
   "metadata": {},
   "outputs": [
    {
     "data": {
      "text/html": [
       "<div>\n",
       "<table border=\"1\" class=\"dataframe\">\n",
       "  <thead>\n",
       "    <tr style=\"text-align: right;\">\n",
       "      <th></th>\n",
       "      <th>Main_gene_name</th>\n",
       "      <th>Type_of_variant</th>\n",
       "      <th>MUTANT</th>\n",
       "      <th>AA_Change</th>\n",
       "      <th>dbSNP</th>\n",
       "    </tr>\n",
       "  </thead>\n",
       "  <tbody>\n",
       "    <tr>\n",
       "      <th>0</th>\n",
       "      <td>A1BG</td>\n",
       "      <td>Polymorphism</td>\n",
       "      <td>P04217-52-H-R</td>\n",
       "      <td>p.His52Arg</td>\n",
       "      <td>rs893184</td>\n",
       "    </tr>\n",
       "    <tr>\n",
       "      <th>1</th>\n",
       "      <td>A1BG</td>\n",
       "      <td>Polymorphism</td>\n",
       "      <td>P04217-395-H-R</td>\n",
       "      <td>p.His395Arg</td>\n",
       "      <td>rs2241788</td>\n",
       "    </tr>\n",
       "    <tr>\n",
       "      <th>2</th>\n",
       "      <td>A1CF</td>\n",
       "      <td>Polymorphism</td>\n",
       "      <td>Q9NQ94-555-V-M</td>\n",
       "      <td>p.Val555Met</td>\n",
       "      <td>rs9073</td>\n",
       "    </tr>\n",
       "    <tr>\n",
       "      <th>3</th>\n",
       "      <td>A1CF</td>\n",
       "      <td>Polymorphism</td>\n",
       "      <td>Q9NQ94-558-A-S</td>\n",
       "      <td>p.Ala558Ser</td>\n",
       "      <td>rs11817448</td>\n",
       "    </tr>\n",
       "    <tr>\n",
       "      <th>4</th>\n",
       "      <td>A2ML1</td>\n",
       "      <td>Polymorphism</td>\n",
       "      <td>A8K2U0-207-G-R</td>\n",
       "      <td>p.Gly207Arg</td>\n",
       "      <td>rs11047499</td>\n",
       "    </tr>\n",
       "  </tbody>\n",
       "</table>\n",
       "</div>"
      ],
      "text/plain": [
       "  Main_gene_name Type_of_variant          MUTANT    AA_Change       dbSNP\n",
       "0           A1BG    Polymorphism   P04217-52-H-R   p.His52Arg    rs893184\n",
       "1           A1BG    Polymorphism  P04217-395-H-R  p.His395Arg   rs2241788\n",
       "2           A1CF    Polymorphism  Q9NQ94-555-V-M  p.Val555Met      rs9073\n",
       "3           A1CF    Polymorphism  Q9NQ94-558-A-S  p.Ala558Ser  rs11817448\n",
       "4          A2ML1    Polymorphism  A8K2U0-207-G-R  p.Gly207Arg  rs11047499"
      ]
     },
     "execution_count": 12,
     "metadata": {},
     "output_type": "execute_result"
    }
   ],
   "source": [
    "hum_final.head()"
   ]
  },
  {
   "cell_type": "code",
   "execution_count": 13,
   "metadata": {},
   "outputs": [
    {
     "data": {
      "text/plain": [
       "(76730, 5)"
      ]
     },
     "execution_count": 13,
     "metadata": {},
     "output_type": "execute_result"
    }
   ],
   "source": [
    "hum_final.shape"
   ]
  },
  {
   "cell_type": "code",
   "execution_count": 18,
   "metadata": {},
   "outputs": [],
   "source": [
    "for e, group in enumerate(hum_final[hum_final.duplicated(keep=False)].groupby(\"MUTANT\")[\"dbSNP\"]):\n",
    "    if group[1].value_counts().shape[0] > 1:\n",
    "        print(group[1].value_counts())\n",
    "        print(\"ERROR!\")"
   ]
  },
  {
   "cell_type": "code",
   "execution_count": 16,
   "metadata": {
    "scrolled": true
   },
   "outputs": [
    {
     "data": {
      "text/plain": [
       "0"
      ]
     },
     "execution_count": 16,
     "metadata": {},
     "output_type": "execute_result"
    }
   ],
   "source": [
    "hum_final.Type_of_variant.isnull().sum()"
   ]
  },
  {
   "cell_type": "code",
   "execution_count": 17,
   "metadata": {
    "collapsed": true
   },
   "outputs": [],
   "source": [
    "hum_final.drop_duplicates(inplace=True)"
   ]
  },
  {
   "cell_type": "code",
   "execution_count": 18,
   "metadata": {},
   "outputs": [
    {
     "data": {
      "text/plain": [
       "(75802, 5)"
      ]
     },
     "execution_count": 18,
     "metadata": {},
     "output_type": "execute_result"
    }
   ],
   "source": [
    "hum_final.shape"
   ]
  },
  {
   "cell_type": "markdown",
   "metadata": {},
   "source": [
    "### Levanto tabla clinvar de Santi"
   ]
  },
  {
   "cell_type": "code",
   "execution_count": 19,
   "metadata": {
    "collapsed": true
   },
   "outputs": [],
   "source": [
    "clinvar = pd.read_csv(\"../data/interim/mut-clinvar.tab.gz\", sep=\"\\t\", header=None, names=[\"MUTANT\", \"Type_of_variant\"])"
   ]
  },
  {
   "cell_type": "code",
   "execution_count": 20,
   "metadata": {},
   "outputs": [
    {
     "data": {
      "text/plain": [
       "(7631, 2)"
      ]
     },
     "execution_count": 20,
     "metadata": {},
     "output_type": "execute_result"
    }
   ],
   "source": [
    "clinvar.shape"
   ]
  },
  {
   "cell_type": "code",
   "execution_count": 21,
   "metadata": {},
   "outputs": [
    {
     "data": {
      "text/html": [
       "<div>\n",
       "<table border=\"1\" class=\"dataframe\">\n",
       "  <thead>\n",
       "    <tr style=\"text-align: right;\">\n",
       "      <th></th>\n",
       "      <th>MUTANT</th>\n",
       "      <th>Type_of_variant</th>\n",
       "    </tr>\n",
       "  </thead>\n",
       "  <tbody>\n",
       "    <tr>\n",
       "      <th>0</th>\n",
       "      <td>Q14896-432-A-T</td>\n",
       "      <td>Uncertain significance</td>\n",
       "    </tr>\n",
       "    <tr>\n",
       "      <th>1</th>\n",
       "      <td>Q86YC2-862-K-N</td>\n",
       "      <td>Uncertain significance</td>\n",
       "    </tr>\n",
       "    <tr>\n",
       "      <th>2</th>\n",
       "      <td>Q07889-663-I-V</td>\n",
       "      <td>Likely benign</td>\n",
       "    </tr>\n",
       "    <tr>\n",
       "      <th>3</th>\n",
       "      <td>Q14896-429-A-E</td>\n",
       "      <td>Uncertain significance</td>\n",
       "    </tr>\n",
       "    <tr>\n",
       "      <th>4</th>\n",
       "      <td>P12883-204-R-C</td>\n",
       "      <td>Pathogenic</td>\n",
       "    </tr>\n",
       "  </tbody>\n",
       "</table>\n",
       "</div>"
      ],
      "text/plain": [
       "           MUTANT         Type_of_variant\n",
       "0  Q14896-432-A-T  Uncertain significance\n",
       "1  Q86YC2-862-K-N  Uncertain significance\n",
       "2  Q07889-663-I-V           Likely benign\n",
       "3  Q14896-429-A-E  Uncertain significance\n",
       "4  P12883-204-R-C              Pathogenic"
      ]
     },
     "execution_count": 21,
     "metadata": {},
     "output_type": "execute_result"
    }
   ],
   "source": [
    "clinvar.head()"
   ]
  },
  {
   "cell_type": "code",
   "execution_count": 22,
   "metadata": {},
   "outputs": [
    {
     "data": {
      "text/plain": [
       "Uncertain significance    2722\n",
       "Pathogenic                2435\n",
       "not provided              1029\n",
       "Likely pathogenic          627\n",
       "Likely benign              154\n",
       "Name: Type_of_variant, dtype: int64"
      ]
     },
     "execution_count": 22,
     "metadata": {},
     "output_type": "execute_result"
    }
   ],
   "source": [
    "clinvar.Type_of_variant.value_counts().head()"
   ]
  },
  {
   "cell_type": "code",
   "execution_count": 23,
   "metadata": {
    "collapsed": true
   },
   "outputs": [],
   "source": [
    "clinvar.drop_duplicates(inplace=True)"
   ]
  },
  {
   "cell_type": "code",
   "execution_count": 24,
   "metadata": {},
   "outputs": [
    {
     "data": {
      "text/plain": [
       "(7580, 2)"
      ]
     },
     "execution_count": 24,
     "metadata": {},
     "output_type": "execute_result"
    }
   ],
   "source": [
    "clinvar.shape"
   ]
  },
  {
   "cell_type": "code",
   "execution_count": 25,
   "metadata": {},
   "outputs": [
    {
     "data": {
      "text/plain": [
       "0"
      ]
     },
     "execution_count": 25,
     "metadata": {},
     "output_type": "execute_result"
    }
   ],
   "source": [
    "clinvar.Type_of_variant.isnull().sum()"
   ]
  },
  {
   "cell_type": "markdown",
   "metadata": {},
   "source": [
    "### Combino la tabla humsavar y clinvar para ver clasificaciones"
   ]
  },
  {
   "cell_type": "code",
   "execution_count": 26,
   "metadata": {
    "collapsed": true
   },
   "outputs": [],
   "source": [
    "combined = clinvar.merge(hum_final, right_on=\"MUTANT\", left_on=\"MUTANT\", suffixes=[\"_ClinVar\", \"_HumsaVar\"], how=\"outer\")"
   ]
  },
  {
   "cell_type": "code",
   "execution_count": 27,
   "metadata": {},
   "outputs": [
    {
     "data": {
      "text/html": [
       "<div>\n",
       "<table border=\"1\" class=\"dataframe\">\n",
       "  <thead>\n",
       "    <tr style=\"text-align: right;\">\n",
       "      <th></th>\n",
       "      <th>MUTANT</th>\n",
       "      <th>Type_of_variant_ClinVar</th>\n",
       "      <th>Main_gene_name</th>\n",
       "      <th>Type_of_variant_HumsaVar</th>\n",
       "      <th>AA_Change</th>\n",
       "      <th>dbSNP</th>\n",
       "    </tr>\n",
       "  </thead>\n",
       "  <tbody>\n",
       "    <tr>\n",
       "      <th>0</th>\n",
       "      <td>Q14896-432-A-T</td>\n",
       "      <td>Uncertain significance</td>\n",
       "      <td>NaN</td>\n",
       "      <td>NaN</td>\n",
       "      <td>NaN</td>\n",
       "      <td>NaN</td>\n",
       "    </tr>\n",
       "    <tr>\n",
       "      <th>1</th>\n",
       "      <td>Q86YC2-862-K-N</td>\n",
       "      <td>Uncertain significance</td>\n",
       "      <td>NaN</td>\n",
       "      <td>NaN</td>\n",
       "      <td>NaN</td>\n",
       "      <td>NaN</td>\n",
       "    </tr>\n",
       "    <tr>\n",
       "      <th>2</th>\n",
       "      <td>Q07889-663-I-V</td>\n",
       "      <td>Likely benign</td>\n",
       "      <td>NaN</td>\n",
       "      <td>NaN</td>\n",
       "      <td>NaN</td>\n",
       "      <td>NaN</td>\n",
       "    </tr>\n",
       "    <tr>\n",
       "      <th>3</th>\n",
       "      <td>Q14896-429-A-E</td>\n",
       "      <td>Uncertain significance</td>\n",
       "      <td>NaN</td>\n",
       "      <td>NaN</td>\n",
       "      <td>NaN</td>\n",
       "      <td>NaN</td>\n",
       "    </tr>\n",
       "    <tr>\n",
       "      <th>4</th>\n",
       "      <td>P12883-204-R-C</td>\n",
       "      <td>Pathogenic</td>\n",
       "      <td>NaN</td>\n",
       "      <td>NaN</td>\n",
       "      <td>NaN</td>\n",
       "      <td>NaN</td>\n",
       "    </tr>\n",
       "  </tbody>\n",
       "</table>\n",
       "</div>"
      ],
      "text/plain": [
       "           MUTANT Type_of_variant_ClinVar Main_gene_name  \\\n",
       "0  Q14896-432-A-T  Uncertain significance            NaN   \n",
       "1  Q86YC2-862-K-N  Uncertain significance            NaN   \n",
       "2  Q07889-663-I-V           Likely benign            NaN   \n",
       "3  Q14896-429-A-E  Uncertain significance            NaN   \n",
       "4  P12883-204-R-C              Pathogenic            NaN   \n",
       "\n",
       "  Type_of_variant_HumsaVar AA_Change dbSNP  \n",
       "0                      NaN       NaN   NaN  \n",
       "1                      NaN       NaN   NaN  \n",
       "2                      NaN       NaN   NaN  \n",
       "3                      NaN       NaN   NaN  \n",
       "4                      NaN       NaN   NaN  "
      ]
     },
     "execution_count": 27,
     "metadata": {},
     "output_type": "execute_result"
    }
   ],
   "source": [
    "combined.head()"
   ]
  },
  {
   "cell_type": "markdown",
   "metadata": {},
   "source": [
    "#### Interseccion"
   ]
  },
  {
   "cell_type": "code",
   "execution_count": 28,
   "metadata": {},
   "outputs": [
    {
     "data": {
      "text/plain": [
       "(2831, 6)"
      ]
     },
     "execution_count": 28,
     "metadata": {},
     "output_type": "execute_result"
    }
   ],
   "source": [
    "combined[~combined.Type_of_variant_ClinVar.isnull() & ~combined.Type_of_variant_HumsaVar.isnull()].shape"
   ]
  },
  {
   "cell_type": "code",
   "execution_count": 29,
   "metadata": {},
   "outputs": [
    {
     "data": {
      "text/plain": [
       "Main_gene_name              684\n",
       "Type_of_variant_HumsaVar    684\n",
       "dtype: int64"
      ]
     },
     "execution_count": 29,
     "metadata": {},
     "output_type": "execute_result"
    }
   ],
   "source": [
    "combined[combined.Type_of_variant_ClinVar == \"not provided\"][[\"Main_gene_name\",\"Type_of_variant_HumsaVar\"]].isnull().sum()"
   ]
  },
  {
   "cell_type": "markdown",
   "metadata": {},
   "source": [
    "### Merge con tabla VarQ"
   ]
  },
  {
   "cell_type": "code",
   "execution_count": 30,
   "metadata": {},
   "outputs": [],
   "source": [
    "varq = pd.read_csv(\"../data/processed/properties-varq.tab.gz\", sep=\"\\t\")"
   ]
  },
  {
   "cell_type": "code",
   "execution_count": 31,
   "metadata": {
    "scrolled": true
   },
   "outputs": [
    {
     "data": {
      "text/plain": [
       "(17869, 12)"
      ]
     },
     "execution_count": 31,
     "metadata": {},
     "output_type": "execute_result"
    }
   ],
   "source": [
    "varq.shape"
   ]
  },
  {
   "cell_type": "code",
   "execution_count": 32,
   "metadata": {
    "collapsed": true
   },
   "outputs": [],
   "source": [
    "combined_varq = varq.merge(combined, left_on=\"MUTANT\", right_on=\"MUTANT\", how=\"left\")"
   ]
  },
  {
   "cell_type": "code",
   "execution_count": 33,
   "metadata": {},
   "outputs": [
    {
     "data": {
      "text/plain": [
       "Index(['MUTANT', 'SASA', 'SASA_PERCENTAGE', 'BFACTOR', 'SWITCHBILITY',\n",
       "       'AGGREGABILITY', 'CONSERVATION', '3DID', 'PDB', 'ACTIVE_SITE',\n",
       "       'VARIATION_ENERGY', 'TYPE', 'Type_of_variant_ClinVar', 'Main_gene_name',\n",
       "       'Type_of_variant_HumsaVar', 'AA_Change', 'dbSNP'],\n",
       "      dtype='object')"
      ]
     },
     "execution_count": 33,
     "metadata": {},
     "output_type": "execute_result"
    }
   ],
   "source": [
    "combined_varq.columns"
   ]
  },
  {
   "cell_type": "code",
   "execution_count": 34,
   "metadata": {},
   "outputs": [
    {
     "data": {
      "text/plain": [
       "(17893, 17)"
      ]
     },
     "execution_count": 34,
     "metadata": {},
     "output_type": "execute_result"
    }
   ],
   "source": [
    "combined_varq.shape"
   ]
  },
  {
   "cell_type": "code",
   "execution_count": 35,
   "metadata": {},
   "outputs": [
    {
     "data": {
      "text/html": [
       "<div>\n",
       "<table border=\"1\" class=\"dataframe\">\n",
       "  <thead>\n",
       "    <tr style=\"text-align: right;\">\n",
       "      <th>TYPE</th>\n",
       "      <th>Benign</th>\n",
       "      <th>Pathogenic</th>\n",
       "    </tr>\n",
       "    <tr>\n",
       "      <th>Type_of_variant_HumsaVar</th>\n",
       "      <th></th>\n",
       "      <th></th>\n",
       "    </tr>\n",
       "  </thead>\n",
       "  <tbody>\n",
       "    <tr>\n",
       "      <th>Disease</th>\n",
       "      <td>0</td>\n",
       "      <td>4675</td>\n",
       "    </tr>\n",
       "    <tr>\n",
       "      <th>Polymorphism</th>\n",
       "      <td>1917</td>\n",
       "      <td>66</td>\n",
       "    </tr>\n",
       "    <tr>\n",
       "      <th>Unclassified</th>\n",
       "      <td>553</td>\n",
       "      <td>60</td>\n",
       "    </tr>\n",
       "  </tbody>\n",
       "</table>\n",
       "</div>"
      ],
      "text/plain": [
       "TYPE                      Benign  Pathogenic\n",
       "Type_of_variant_HumsaVar                    \n",
       "Disease                        0        4675\n",
       "Polymorphism                1917          66\n",
       "Unclassified                 553          60"
      ]
     },
     "execution_count": 35,
     "metadata": {},
     "output_type": "execute_result"
    }
   ],
   "source": [
    "combined_varq[~combined_varq.Type_of_variant_HumsaVar.isnull()][[\"Type_of_variant_HumsaVar\", \"TYPE\"]].groupby([\"Type_of_variant_HumsaVar\", \"TYPE\"]).size().unstack(fill_value=0)"
   ]
  },
  {
   "cell_type": "code",
   "execution_count": 36,
   "metadata": {},
   "outputs": [
    {
     "data": {
      "text/html": [
       "<div>\n",
       "<table border=\"1\" class=\"dataframe\">\n",
       "  <thead>\n",
       "    <tr style=\"text-align: right;\">\n",
       "      <th>TYPE</th>\n",
       "      <th>Benign</th>\n",
       "      <th>Pathogenic</th>\n",
       "    </tr>\n",
       "    <tr>\n",
       "      <th>Type_of_variant_ClinVar</th>\n",
       "      <th></th>\n",
       "      <th></th>\n",
       "    </tr>\n",
       "  </thead>\n",
       "  <tbody>\n",
       "    <tr>\n",
       "      <th>Affects</th>\n",
       "      <td>0</td>\n",
       "      <td>3</td>\n",
       "    </tr>\n",
       "    <tr>\n",
       "      <th>Benign</th>\n",
       "      <td>123</td>\n",
       "      <td>15</td>\n",
       "    </tr>\n",
       "    <tr>\n",
       "      <th>Benign;Likely benign</th>\n",
       "      <td>36</td>\n",
       "      <td>3</td>\n",
       "    </tr>\n",
       "    <tr>\n",
       "      <th>Benign;Likely benign;Likely pathogenic;Uncertain significance</th>\n",
       "      <td>0</td>\n",
       "      <td>1</td>\n",
       "    </tr>\n",
       "    <tr>\n",
       "      <th>Benign;Likely benign;Pathogenic</th>\n",
       "      <td>0</td>\n",
       "      <td>3</td>\n",
       "    </tr>\n",
       "  </tbody>\n",
       "</table>\n",
       "</div>"
      ],
      "text/plain": [
       "TYPE                                                Benign  Pathogenic\n",
       "Type_of_variant_ClinVar                                               \n",
       "Affects                                                  0           3\n",
       "Benign                                                 123          15\n",
       "Benign;Likely benign                                    36           3\n",
       "Benign;Likely benign;Likely pathogenic;Uncertai...       0           1\n",
       "Benign;Likely benign;Pathogenic                          0           3"
      ]
     },
     "execution_count": 36,
     "metadata": {},
     "output_type": "execute_result"
    }
   ],
   "source": [
    "combined_varq[~combined_varq.Type_of_variant_ClinVar.isnull()][[\"Type_of_variant_ClinVar\", \"TYPE\"]].groupby([\"Type_of_variant_ClinVar\", \"TYPE\"]).size().unstack(fill_value=0).head()"
   ]
  },
  {
   "cell_type": "code",
   "execution_count": 37,
   "metadata": {
    "collapsed": true
   },
   "outputs": [],
   "source": [
    "unlabeled = combined_varq[combined_varq.Type_of_variant_ClinVar.isnull() & combined_varq.Type_of_variant_HumsaVar.isnull()]"
   ]
  },
  {
   "cell_type": "code",
   "execution_count": 38,
   "metadata": {},
   "outputs": [
    {
     "data": {
      "text/plain": [
       "(5863, 17)"
      ]
     },
     "execution_count": 38,
     "metadata": {},
     "output_type": "execute_result"
    }
   ],
   "source": [
    "unlabeled.shape # Cantidad de MUTANTS no clasificados"
   ]
  },
  {
   "cell_type": "code",
   "execution_count": 39,
   "metadata": {},
   "outputs": [
    {
     "data": {
      "text/plain": [
       "24"
      ]
     },
     "execution_count": 39,
     "metadata": {},
     "output_type": "execute_result"
    }
   ],
   "source": [
    "combined_varq.MUTANT.duplicated().sum()"
   ]
  },
  {
   "cell_type": "code",
   "execution_count": 40,
   "metadata": {
    "scrolled": true
   },
   "outputs": [
    {
     "data": {
      "text/plain": [
       "Disease         4675\n",
       "Polymorphism    1983\n",
       "Unclassified     613\n",
       "Name: Type_of_variant_HumsaVar, dtype: int64"
      ]
     },
     "execution_count": 40,
     "metadata": {},
     "output_type": "execute_result"
    }
   ],
   "source": [
    "combined_varq[~combined_varq[\"Type_of_variant_HumsaVar\"].isnull()][\"Type_of_variant_HumsaVar\"].value_counts()"
   ]
  },
  {
   "cell_type": "markdown",
   "metadata": {},
   "source": [
    "## Ver si los unlabeled aparecen en la tabla variants"
   ]
  },
  {
   "cell_type": "markdown",
   "metadata": {},
   "source": [
    "### Tabla de Variantes que encontre en el sitio ClinVar"
   ]
  },
  {
   "cell_type": "code",
   "execution_count": 41,
   "metadata": {
    "scrolled": true
   },
   "outputs": [
    {
     "name": "stderr",
     "output_type": "stream",
     "text": [
      "/home/marlan/anaconda3/lib/python3.6/site-packages/IPython/core/interactiveshell.py:2717: DtypeWarning: Columns (18) have mixed types. Specify dtype option on import or set low_memory=False.\n",
      "  interactivity=interactivity, compiler=compiler, result=result)\n"
     ]
    }
   ],
   "source": [
    "variants = pd.read_csv(\"/home/marlan/Downloads/variant_summary.txt.gz\", sep=\"\\t\")"
   ]
  },
  {
   "cell_type": "code",
   "execution_count": 42,
   "metadata": {},
   "outputs": [
    {
     "data": {
      "text/plain": [
       "(668042, 30)"
      ]
     },
     "execution_count": 42,
     "metadata": {},
     "output_type": "execute_result"
    }
   ],
   "source": [
    "variants.shape"
   ]
  },
  {
   "cell_type": "code",
   "execution_count": 43,
   "metadata": {
    "scrolled": true
   },
   "outputs": [
    {
     "data": {
      "text/html": [
       "<div>\n",
       "<table border=\"1\" class=\"dataframe\">\n",
       "  <thead>\n",
       "    <tr style=\"text-align: right;\">\n",
       "      <th></th>\n",
       "      <th>#AlleleID</th>\n",
       "      <th>Type</th>\n",
       "      <th>Name</th>\n",
       "      <th>GeneID</th>\n",
       "      <th>GeneSymbol</th>\n",
       "      <th>HGNC_ID</th>\n",
       "      <th>ClinicalSignificance</th>\n",
       "      <th>ClinSigSimple</th>\n",
       "      <th>LastEvaluated</th>\n",
       "      <th>RS# (dbSNP)</th>\n",
       "      <th>...</th>\n",
       "      <th>Stop</th>\n",
       "      <th>ReferenceAllele</th>\n",
       "      <th>AlternateAllele</th>\n",
       "      <th>Cytogenetic</th>\n",
       "      <th>ReviewStatus</th>\n",
       "      <th>NumberSubmitters</th>\n",
       "      <th>Guidelines</th>\n",
       "      <th>TestedInGTR</th>\n",
       "      <th>OtherIDs</th>\n",
       "      <th>SubmitterCategories</th>\n",
       "    </tr>\n",
       "  </thead>\n",
       "  <tbody>\n",
       "    <tr>\n",
       "      <th>0</th>\n",
       "      <td>15041</td>\n",
       "      <td>indel</td>\n",
       "      <td>NM_014855.2(AP5Z1):c.80_83delGGATinsTGCTGTAAACTGTAACTGTAAA (p.Arg27_Ala362delinsLeuLeuTer)</td>\n",
       "      <td>9907</td>\n",
       "      <td>AP5Z1</td>\n",
       "      <td>HGNC:22197</td>\n",
       "      <td>Pathogenic</td>\n",
       "      <td>1</td>\n",
       "      <td>Jun 29, 2010</td>\n",
       "      <td>397704705</td>\n",
       "      <td>...</td>\n",
       "      <td>4820847</td>\n",
       "      <td>GGAT</td>\n",
       "      <td>TGCTGTAAACTGTAACTGTAAA</td>\n",
       "      <td>7p22.1</td>\n",
       "      <td>no assertion criteria provided</td>\n",
       "      <td>1</td>\n",
       "      <td>NaN</td>\n",
       "      <td>N</td>\n",
       "      <td>OMIM Allelic Variant:613653.0001</td>\n",
       "      <td>1</td>\n",
       "    </tr>\n",
       "    <tr>\n",
       "      <th>1</th>\n",
       "      <td>15041</td>\n",
       "      <td>indel</td>\n",
       "      <td>NM_014855.2(AP5Z1):c.80_83delGGATinsTGCTGTAAACTGTAACTGTAAA (p.Arg27_Ala362delinsLeuLeuTer)</td>\n",
       "      <td>9907</td>\n",
       "      <td>AP5Z1</td>\n",
       "      <td>HGNC:22197</td>\n",
       "      <td>Pathogenic</td>\n",
       "      <td>1</td>\n",
       "      <td>Jun 29, 2010</td>\n",
       "      <td>397704705</td>\n",
       "      <td>...</td>\n",
       "      <td>4781216</td>\n",
       "      <td>GGAT</td>\n",
       "      <td>TGCTGTAAACTGTAACTGTAAA</td>\n",
       "      <td>7p22.1</td>\n",
       "      <td>no assertion criteria provided</td>\n",
       "      <td>1</td>\n",
       "      <td>NaN</td>\n",
       "      <td>N</td>\n",
       "      <td>OMIM Allelic Variant:613653.0001</td>\n",
       "      <td>1</td>\n",
       "    </tr>\n",
       "    <tr>\n",
       "      <th>2</th>\n",
       "      <td>15042</td>\n",
       "      <td>deletion</td>\n",
       "      <td>NM_014855.2(AP5Z1):c.1413_1426delGGACCTGCCCTGCT (p.Leu473Glyfs)</td>\n",
       "      <td>9907</td>\n",
       "      <td>AP5Z1</td>\n",
       "      <td>HGNC:22197</td>\n",
       "      <td>Pathogenic</td>\n",
       "      <td>1</td>\n",
       "      <td>Jun 29, 2010</td>\n",
       "      <td>397704709</td>\n",
       "      <td>...</td>\n",
       "      <td>4827379</td>\n",
       "      <td>GGACCTGCCCTGCT</td>\n",
       "      <td>-</td>\n",
       "      <td>7p22.1</td>\n",
       "      <td>no assertion criteria provided</td>\n",
       "      <td>1</td>\n",
       "      <td>NaN</td>\n",
       "      <td>N</td>\n",
       "      <td>OMIM Allelic Variant:613653.0002</td>\n",
       "      <td>1</td>\n",
       "    </tr>\n",
       "    <tr>\n",
       "      <th>3</th>\n",
       "      <td>15042</td>\n",
       "      <td>deletion</td>\n",
       "      <td>NM_014855.2(AP5Z1):c.1413_1426delGGACCTGCCCTGCT (p.Leu473Glyfs)</td>\n",
       "      <td>9907</td>\n",
       "      <td>AP5Z1</td>\n",
       "      <td>HGNC:22197</td>\n",
       "      <td>Pathogenic</td>\n",
       "      <td>1</td>\n",
       "      <td>Jun 29, 2010</td>\n",
       "      <td>397704709</td>\n",
       "      <td>...</td>\n",
       "      <td>4787748</td>\n",
       "      <td>GGACCTGCCCTGCT</td>\n",
       "      <td>-</td>\n",
       "      <td>7p22.1</td>\n",
       "      <td>no assertion criteria provided</td>\n",
       "      <td>1</td>\n",
       "      <td>NaN</td>\n",
       "      <td>N</td>\n",
       "      <td>OMIM Allelic Variant:613653.0002</td>\n",
       "      <td>1</td>\n",
       "    </tr>\n",
       "    <tr>\n",
       "      <th>4</th>\n",
       "      <td>15043</td>\n",
       "      <td>single nucleotide variant</td>\n",
       "      <td>NM_014630.2(ZNF592):c.3136G&gt;A (p.Gly1046Arg)</td>\n",
       "      <td>9640</td>\n",
       "      <td>ZNF592</td>\n",
       "      <td>HGNC:28986</td>\n",
       "      <td>Uncertain significance</td>\n",
       "      <td>0</td>\n",
       "      <td>Jun 29, 2015</td>\n",
       "      <td>150829393</td>\n",
       "      <td>...</td>\n",
       "      <td>85342440</td>\n",
       "      <td>G</td>\n",
       "      <td>A</td>\n",
       "      <td>15q25</td>\n",
       "      <td>no assertion criteria provided</td>\n",
       "      <td>1</td>\n",
       "      <td>NaN</td>\n",
       "      <td>N</td>\n",
       "      <td>OMIM Allelic Variant:613624.0001,UniProtKB (protein):Q92610#VAR_064583</td>\n",
       "      <td>1</td>\n",
       "    </tr>\n",
       "  </tbody>\n",
       "</table>\n",
       "<p>5 rows × 30 columns</p>\n",
       "</div>"
      ],
      "text/plain": [
       "   #AlleleID                       Type  \\\n",
       "0  15041      indel                       \n",
       "1  15041      indel                       \n",
       "2  15042      deletion                    \n",
       "3  15042      deletion                    \n",
       "4  15043      single nucleotide variant   \n",
       "\n",
       "                                                                                         Name  \\\n",
       "0  NM_014855.2(AP5Z1):c.80_83delGGATinsTGCTGTAAACTGTAACTGTAAA (p.Arg27_Ala362delinsLeuLeuTer)   \n",
       "1  NM_014855.2(AP5Z1):c.80_83delGGATinsTGCTGTAAACTGTAACTGTAAA (p.Arg27_Ala362delinsLeuLeuTer)   \n",
       "2  NM_014855.2(AP5Z1):c.1413_1426delGGACCTGCCCTGCT (p.Leu473Glyfs)                              \n",
       "3  NM_014855.2(AP5Z1):c.1413_1426delGGACCTGCCCTGCT (p.Leu473Glyfs)                              \n",
       "4  NM_014630.2(ZNF592):c.3136G>A (p.Gly1046Arg)                                                 \n",
       "\n",
       "   GeneID GeneSymbol     HGNC_ID    ClinicalSignificance  ClinSigSimple  \\\n",
       "0  9907    AP5Z1      HGNC:22197  Pathogenic              1               \n",
       "1  9907    AP5Z1      HGNC:22197  Pathogenic              1               \n",
       "2  9907    AP5Z1      HGNC:22197  Pathogenic              1               \n",
       "3  9907    AP5Z1      HGNC:22197  Pathogenic              1               \n",
       "4  9640    ZNF592     HGNC:28986  Uncertain significance  0               \n",
       "\n",
       "  LastEvaluated  RS# (dbSNP)         ...               Stop ReferenceAllele  \\\n",
       "0  Jun 29, 2010  397704705           ...           4820847   GGAT             \n",
       "1  Jun 29, 2010  397704705           ...           4781216   GGAT             \n",
       "2  Jun 29, 2010  397704709           ...           4827379   GGACCTGCCCTGCT   \n",
       "3  Jun 29, 2010  397704709           ...           4787748   GGACCTGCCCTGCT   \n",
       "4  Jun 29, 2015  150829393           ...           85342440  G                \n",
       "\n",
       "          AlternateAllele Cytogenetic                    ReviewStatus  \\\n",
       "0  TGCTGTAAACTGTAACTGTAAA  7p22.1      no assertion criteria provided   \n",
       "1  TGCTGTAAACTGTAACTGTAAA  7p22.1      no assertion criteria provided   \n",
       "2  -                       7p22.1      no assertion criteria provided   \n",
       "3  -                       7p22.1      no assertion criteria provided   \n",
       "4  A                       15q25       no assertion criteria provided   \n",
       "\n",
       "  NumberSubmitters Guidelines TestedInGTR  \\\n",
       "0  1                NaN        N            \n",
       "1  1                NaN        N            \n",
       "2  1                NaN        N            \n",
       "3  1                NaN        N            \n",
       "4  1                NaN        N            \n",
       "\n",
       "                                                                 OtherIDs  \\\n",
       "0  OMIM Allelic Variant:613653.0001                                         \n",
       "1  OMIM Allelic Variant:613653.0001                                         \n",
       "2  OMIM Allelic Variant:613653.0002                                         \n",
       "3  OMIM Allelic Variant:613653.0002                                         \n",
       "4  OMIM Allelic Variant:613624.0001,UniProtKB (protein):Q92610#VAR_064583   \n",
       "\n",
       "   SubmitterCategories  \n",
       "0  1                    \n",
       "1  1                    \n",
       "2  1                    \n",
       "3  1                    \n",
       "4  1                    \n",
       "\n",
       "[5 rows x 30 columns]"
      ]
     },
     "execution_count": 43,
     "metadata": {},
     "output_type": "execute_result"
    }
   ],
   "source": [
    "pd.set_option('display.max_colwidth', -1)\n",
    "variants.head(5)"
   ]
  },
  {
   "cell_type": "code",
   "execution_count": 67,
   "metadata": {},
   "outputs": [
    {
     "data": {
      "text/plain": [
       "7568"
      ]
     },
     "execution_count": 67,
     "metadata": {},
     "output_type": "execute_result"
    }
   ],
   "source": [
    "((variants[\"RS# (dbSNP)\"] == -1) & (variants[\"Type\"] == \"single nucleotide variant\")).sum()"
   ]
  },
  {
   "cell_type": "code",
   "execution_count": 65,
   "metadata": {},
   "outputs": [
    {
     "data": {
      "text/plain": [
       "(668042, 30)"
      ]
     },
     "execution_count": 65,
     "metadata": {},
     "output_type": "execute_result"
    }
   ],
   "source": [
    "variants.shape"
   ]
  },
  {
   "cell_type": "code",
   "execution_count": 77,
   "metadata": {},
   "outputs": [
    {
     "data": {
      "text/plain": [
       "Uncertain significance    261222\n",
       "Pathogenic                116513\n",
       "Likely benign             112252\n",
       "Benign                    57708 \n",
       "Likely pathogenic         32748 \n",
       "Name: ClinicalSignificance, dtype: int64"
      ]
     },
     "execution_count": 77,
     "metadata": {},
     "output_type": "execute_result"
    }
   ],
   "source": [
    "variants.ClinicalSignificance.value_counts().head()"
   ]
  },
  {
   "cell_type": "code",
   "execution_count": 78,
   "metadata": {
    "scrolled": true
   },
   "outputs": [
    {
     "data": {
      "text/plain": [
       "Index(['#AlleleID', 'Type', 'Name', 'GeneID', 'GeneSymbol', 'HGNC_ID',\n",
       "       'ClinicalSignificance', 'ClinSigSimple', 'LastEvaluated', 'RS# (dbSNP)',\n",
       "       'nsv/esv (dbVar)', 'RCVaccession', 'PhenotypeIDS', 'PhenotypeList',\n",
       "       'Origin', 'OriginSimple', 'Assembly', 'ChromosomeAccession',\n",
       "       'Chromosome', 'Start', 'Stop', 'ReferenceAllele', 'AlternateAllele',\n",
       "       'Cytogenetic', 'ReviewStatus', 'NumberSubmitters', 'Guidelines',\n",
       "       'TestedInGTR', 'OtherIDs', 'SubmitterCategories'],\n",
       "      dtype='object')"
      ]
     },
     "execution_count": 78,
     "metadata": {},
     "output_type": "execute_result"
    }
   ],
   "source": [
    "variants.columns"
   ]
  },
  {
   "cell_type": "code",
   "execution_count": 79,
   "metadata": {
    "collapsed": true
   },
   "outputs": [],
   "source": [
    "amino = variants.Name.str.extract('(?P<C1>[A-Z]{1}[a-z]{2})(?P<C2>\\d+)(?P<C3>[A-Z]{1}[a-z]{2})', expand=True)\n",
    "protein = variants.OtherIDs.str.extract('\\(protein\\):(?P<Protein>[A-Z,\\d]+)#', expand=True)\n",
    "amino[\"C1\"] = df.C1.map(AMINO_CODE)\n",
    "amino[\"C3\"] = df.C3.map(AMINO_CODE)\n",
    "mutant = pd.Series(data=(protein.Protein + \"-\" + df.C2 + \"-\" + df.C1 + \"-\" + df.C3).tolist(), name=\"MUTANT\")"
   ]
  },
  {
   "cell_type": "code",
   "execution_count": 80,
   "metadata": {},
   "outputs": [
    {
     "data": {
      "text/plain": [
       "0"
      ]
     },
     "execution_count": 80,
     "metadata": {},
     "output_type": "execute_result"
    }
   ],
   "source": [
    "unlabeled.MUTANT.isin(mutant).sum()"
   ]
  },
  {
   "cell_type": "markdown",
   "metadata": {},
   "source": [
    "### No, no hay ni un unlabeled que podamos clasificar usando variants."
   ]
  },
  {
   "cell_type": "markdown",
   "metadata": {},
   "source": [
    "## Genero Ground Truth para ClinVar y para HumsaVar"
   ]
  },
  {
   "cell_type": "code",
   "execution_count": 52,
   "metadata": {},
   "outputs": [],
   "source": [
    "humsavar_GT = combined_varq[~combined_varq[\"Type_of_variant_HumsaVar\"].isnull()]\n",
    "clinvar_GT = combined_varq[~combined_varq[\"Type_of_variant_ClinVar\"].isnull()]"
   ]
  },
  {
   "cell_type": "code",
   "execution_count": 59,
   "metadata": {},
   "outputs": [],
   "source": [
    "cols = varq.columns.difference([\"TYPE\"]).tolist() + [\"Type_of_variant_HumsaVar\", \"dbSNP\"] "
   ]
  },
  {
   "cell_type": "code",
   "execution_count": 55,
   "metadata": {},
   "outputs": [
    {
     "data": {
      "text/plain": [
       "Index(['MUTANT', 'SASA', 'SASA_PERCENTAGE', 'BFACTOR', 'SWITCHBILITY',\n",
       "       'AGGREGABILITY', 'CONSERVATION', '3DID', 'PDB', 'ACTIVE_SITE',\n",
       "       'VARIATION_ENERGY', 'TYPE'],\n",
       "      dtype='object')"
      ]
     },
     "execution_count": 55,
     "metadata": {},
     "output_type": "execute_result"
    }
   ],
   "source": [
    "varq.columns"
   ]
  },
  {
   "cell_type": "code",
   "execution_count": 56,
   "metadata": {},
   "outputs": [],
   "source": [
    "humsavar_GT = humsavar_GT[cols]\n",
    "humsavar_GT.rename(columns={\"Type_of_variant_HumsaVar\": \"TYPE\"}, inplace=True)"
   ]
  },
  {
   "cell_type": "code",
   "execution_count": 57,
   "metadata": {
    "collapsed": true
   },
   "outputs": [],
   "source": [
    "clinvar_GT[cols].set_index(\"MUTANT\").to_csv(\"../data/processed/clinvar_gt.tab.gz\", sep=\"\\t\", compression=\"gzip\", index=True)"
   ]
  },
  {
   "cell_type": "code",
   "execution_count": 58,
   "metadata": {},
   "outputs": [],
   "source": [
    "humsavar_GT.set_index(\"MUTANT\").to_csv(\"../data/processed/humsavar_gt.tab.gz\", sep=\"\\t\", compression=\"gzip\", index=True)"
   ]
  },
  {
   "cell_type": "code",
   "execution_count": 50,
   "metadata": {
    "scrolled": true
   },
   "outputs": [
    {
     "data": {
      "text/plain": [
       "(7271, 11)"
      ]
     },
     "execution_count": 50,
     "metadata": {},
     "output_type": "execute_result"
    }
   ],
   "source": [
    "humsavar_GT.set_index(\"MUTANT\").shape"
   ]
  },
  {
   "cell_type": "code",
   "execution_count": 51,
   "metadata": {},
   "outputs": [
    {
     "data": {
      "text/plain": [
       "(7590, 11)"
      ]
     },
     "execution_count": 51,
     "metadata": {},
     "output_type": "execute_result"
    }
   ],
   "source": [
    "clinvar_GT[cols].set_index(\"MUTANT\").shape"
   ]
  },
  {
   "cell_type": "code",
   "execution_count": null,
   "metadata": {},
   "outputs": [],
   "source": []
  }
 ],
 "metadata": {
  "kernelspec": {
   "display_name": "Python 3",
   "language": "python",
   "name": "python3"
  },
  "language_info": {
   "codemirror_mode": {
    "name": "ipython",
    "version": 3
   },
   "file_extension": ".py",
   "mimetype": "text/x-python",
   "name": "python",
   "nbconvert_exporter": "python",
   "pygments_lexer": "ipython3",
   "version": "3.6.3"
  }
 },
 "nbformat": 4,
 "nbformat_minor": 2
}
