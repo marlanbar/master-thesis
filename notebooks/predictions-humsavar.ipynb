{
 "cells": [
  {
   "cell_type": "code",
   "execution_count": 1,
   "metadata": {
    "ExecuteTime": {
     "end_time": "2018-01-17T09:37:13.770668Z",
     "start_time": "2018-01-17T09:37:09.701858Z"
    },
    "collapsed": true
   },
   "outputs": [],
   "source": [
    "import operator\n",
    "import pandas as pd\n",
    "import matplotlib.pyplot as plt\n",
    "import seaborn as sns\n",
    "import numpy as np\n",
    "\n",
    "from sklearn import feature_selection\n",
    "from sklearn.ensemble import RandomForestClassifier, AdaBoostClassifier\n",
    "from sklearn.ensemble import GradientBoostingClassifier\n",
    "from sklearn.svm import SVC\n",
    "from sklearn.linear_model import LogisticRegression\n",
    "from sklearn.pipeline import Pipeline, make_pipeline\n",
    "from sklearn.pipeline import FeatureUnion\n",
    "from sklearn.preprocessing import StandardScaler, RobustScaler, Imputer, LabelEncoder\n",
    "from sklearn.model_selection import GridSearchCV, RandomizedSearchCV, train_test_split\n",
    "from sklearn.metrics import confusion_matrix, classification_report, roc_curve\n",
    "from sklearn.metrics import accuracy_score, f1_score, roc_auc_score\n",
    "\n",
    "from IPython.core.pylabtools import figsize \n",
    "%matplotlib inline"
   ]
  },
  {
   "cell_type": "code",
   "execution_count": 2,
   "metadata": {
    "ExecuteTime": {
     "end_time": "2018-01-17T09:37:14.955566Z",
     "start_time": "2018-01-17T09:37:14.950607Z"
    },
    "collapsed": true
   },
   "outputs": [],
   "source": [
    "RANDOM_STATE = 42\n",
    "DATA_EXTERNAL = \"../data/external/\"\n",
    "DATA_PROCESSED = \"../data/processed/\"\n",
    "DATA_INTERIM = \"../data/interim/\""
   ]
  },
  {
   "cell_type": "code",
   "execution_count": 17,
   "metadata": {
    "ExecuteTime": {
     "end_time": "2018-01-17T09:55:00.019108Z",
     "start_time": "2018-01-17T09:54:59.887597Z"
    },
    "collapsed": true
   },
   "outputs": [],
   "source": [
    "hum = pd.read_csv(DATA_PROCESSED + \"humsavar_gt.tab.gz\", sep=\"\\t\")\n",
    "# hum[\"MUTANT\"] = hum.MUTANT.str.rstrip()\n",
    "hum.drop_duplicates(inplace=True)\n",
    "hum.drop_duplicates(subset=\"MUTANT\", keep=False, inplace=True)\n",
    "protparam = pd.read_csv(DATA_INTERIM + \"protparam_features.tab.gz\", sep=\"\\t\")\n",
    "hum = hum.merge(protparam, on=\"MUTANT\", how=\"left\")\n",
    "cons46way = pd.read_csv(\"../data/interim/cons46way.csv\")\n",
    "hum = hum.merge(cons46way, on=\"dbSNP\", how=\"left\")\n",
    "# hum.drop(\"dbSNP\", axis=1, inplace=True)\n",
    "hum.rename(columns={\"score\": \"CONS46WAY\"}, inplace=True)"
   ]
  },
  {
   "cell_type": "code",
   "execution_count": 27,
   "metadata": {
    "collapsed": true
   },
   "outputs": [],
   "source": [
    "hum.to_csv(DATA_PROCESSED + \"humsavar_gt.csv.gz\", index=False, sep=\"\\t\", compression=\"gzip\")"
   ]
  },
  {
   "cell_type": "code",
   "execution_count": 5,
   "metadata": {
    "ExecuteTime": {
     "end_time": "2018-01-17T09:38:23.132867Z",
     "start_time": "2018-01-17T09:38:23.045642Z"
    },
    "collapsed": true
   },
   "outputs": [],
   "source": [
    "hum = pd.read_csv(DATA_PROCESSED + \"humsavar_gt.csv.gz\")"
   ]
  },
  {
   "cell_type": "code",
   "execution_count": 13,
   "metadata": {
    "ExecuteTime": {
     "end_time": "2018-01-17T09:41:08.791917Z",
     "start_time": "2018-01-17T09:41:08.782049Z"
    }
   },
   "outputs": [
    {
     "data": {
      "text/html": [
       "<div>\n",
       "<table border=\"1\" class=\"dataframe\">\n",
       "  <thead>\n",
       "    <tr style=\"text-align: right;\">\n",
       "      <th></th>\n",
       "      <th>dbSNP</th>\n",
       "      <th>CONS46WAY</th>\n",
       "    </tr>\n",
       "  </thead>\n",
       "  <tbody>\n",
       "    <tr>\n",
       "      <th>0</th>\n",
       "      <td>rs2125739</td>\n",
       "      <td>375.0</td>\n",
       "    </tr>\n",
       "    <tr>\n",
       "      <th>1</th>\n",
       "      <td>rs543267101</td>\n",
       "      <td>342.0</td>\n",
       "    </tr>\n",
       "    <tr>\n",
       "      <th>2</th>\n",
       "      <td>rs35783144</td>\n",
       "      <td>306.0</td>\n",
       "    </tr>\n",
       "    <tr>\n",
       "      <th>3</th>\n",
       "      <td>rs35623954</td>\n",
       "      <td>300.0</td>\n",
       "    </tr>\n",
       "    <tr>\n",
       "      <th>4</th>\n",
       "      <td>rs138119149</td>\n",
       "      <td>239.0</td>\n",
       "    </tr>\n",
       "  </tbody>\n",
       "</table>\n",
       "</div>"
      ],
      "text/plain": [
       "         dbSNP  CONS46WAY\n",
       "0    rs2125739      375.0\n",
       "1  rs543267101      342.0\n",
       "2   rs35783144      306.0\n",
       "3   rs35623954      300.0\n",
       "4  rs138119149      239.0"
      ]
     },
     "execution_count": 13,
     "metadata": {},
     "output_type": "execute_result"
    }
   ],
   "source": [
    "cons46way.head()"
   ]
  },
  {
   "cell_type": "code",
   "execution_count": 18,
   "metadata": {
    "ExecuteTime": {
     "end_time": "2018-01-17T09:55:09.896409Z",
     "start_time": "2018-01-17T09:55:09.883712Z"
    }
   },
   "outputs": [
    {
     "data": {
      "text/html": [
       "<div>\n",
       "<table border=\"1\" class=\"dataframe\">\n",
       "  <thead>\n",
       "    <tr style=\"text-align: right;\">\n",
       "      <th></th>\n",
       "      <th>dbSNP</th>\n",
       "      <th>CONS46WAY</th>\n",
       "    </tr>\n",
       "  </thead>\n",
       "  <tbody>\n",
       "    <tr>\n",
       "      <th>0</th>\n",
       "      <td>NaN</td>\n",
       "      <td>NaN</td>\n",
       "    </tr>\n",
       "    <tr>\n",
       "      <th>1</th>\n",
       "      <td>rs17102066</td>\n",
       "      <td>396.0</td>\n",
       "    </tr>\n",
       "    <tr>\n",
       "      <th>2</th>\n",
       "      <td>NaN</td>\n",
       "      <td>NaN</td>\n",
       "    </tr>\n",
       "    <tr>\n",
       "      <th>3</th>\n",
       "      <td>rs11574115</td>\n",
       "      <td>393.0</td>\n",
       "    </tr>\n",
       "    <tr>\n",
       "      <th>4</th>\n",
       "      <td>rs12753610</td>\n",
       "      <td>450.0</td>\n",
       "    </tr>\n",
       "  </tbody>\n",
       "</table>\n",
       "</div>"
      ],
      "text/plain": [
       "        dbSNP  CONS46WAY\n",
       "0         NaN        NaN\n",
       "1  rs17102066      396.0\n",
       "2         NaN        NaN\n",
       "3  rs11574115      393.0\n",
       "4  rs12753610      450.0"
      ]
     },
     "execution_count": 18,
     "metadata": {},
     "output_type": "execute_result"
    }
   ],
   "source": [
    "hum[[\"dbSNP\", \"CONS46WAY\"]].head()"
   ]
  },
  {
   "cell_type": "code",
   "execution_count": null,
   "metadata": {
    "collapsed": true
   },
   "outputs": [],
   "source": []
  },
  {
   "cell_type": "code",
   "execution_count": 11,
   "metadata": {
    "ExecuteTime": {
     "end_time": "2018-01-17T09:39:18.825750Z",
     "start_time": "2018-01-17T09:39:18.817849Z"
    }
   },
   "outputs": [
    {
     "data": {
      "text/plain": [
       "2214"
      ]
     },
     "execution_count": 11,
     "metadata": {},
     "output_type": "execute_result"
    }
   ],
   "source": [
    "hum.dbSNP.isnull().sum()"
   ]
  },
  {
   "cell_type": "code",
   "execution_count": 8,
   "metadata": {
    "ExecuteTime": {
     "end_time": "2018-01-17T09:38:37.069662Z",
     "start_time": "2018-01-17T09:38:36.973500Z"
    }
   },
   "outputs": [
    {
     "data": {
      "text/html": [
       "<div>\n",
       "<table border=\"1\" class=\"dataframe\">\n",
       "  <thead>\n",
       "    <tr style=\"text-align: right;\">\n",
       "      <th></th>\n",
       "      <th>SASA</th>\n",
       "      <th>SASA_PERCENTAGE</th>\n",
       "      <th>BFACTOR</th>\n",
       "      <th>SWITCHBILITY</th>\n",
       "      <th>AGGREGABILITY</th>\n",
       "      <th>CONSERVATION</th>\n",
       "      <th>VARIATION_ENERGY</th>\n",
       "      <th>VAR_AROMATICITY</th>\n",
       "      <th>AROMATICITY</th>\n",
       "      <th>AROMATICITY_DIFF</th>\n",
       "      <th>...</th>\n",
       "      <th>ISOELECTRIC_POINT_LOG_RATIO</th>\n",
       "      <th>VAR_GRAVY</th>\n",
       "      <th>GRAVY</th>\n",
       "      <th>GRAVY_DIFF</th>\n",
       "      <th>GRAVY_LOG_RATIO</th>\n",
       "      <th>VAR_INSTABILITY_INDEX</th>\n",
       "      <th>INSTABILITY_INDEX</th>\n",
       "      <th>INSTABILITY_INDEX_DIFF</th>\n",
       "      <th>INSTABILITY_INDEX_LOG_RATIO</th>\n",
       "      <th>score</th>\n",
       "    </tr>\n",
       "  </thead>\n",
       "  <tbody>\n",
       "    <tr>\n",
       "      <th>count</th>\n",
       "      <td>7048.000000</td>\n",
       "      <td>7048.000000</td>\n",
       "      <td>7048.000000</td>\n",
       "      <td>6671.000000</td>\n",
       "      <td>5218.000000</td>\n",
       "      <td>2654.000000</td>\n",
       "      <td>7410.000000</td>\n",
       "      <td>7410.000000</td>\n",
       "      <td>7410.000000</td>\n",
       "      <td>7410.000000</td>\n",
       "      <td>...</td>\n",
       "      <td>7410.000000</td>\n",
       "      <td>7409.000000</td>\n",
       "      <td>7409.000000</td>\n",
       "      <td>7409.000000</td>\n",
       "      <td>6866.000000</td>\n",
       "      <td>7409.000000</td>\n",
       "      <td>7409.000000</td>\n",
       "      <td>7409.000000</td>\n",
       "      <td>6909.000000</td>\n",
       "      <td>3683.000000</td>\n",
       "    </tr>\n",
       "    <tr>\n",
       "      <th>mean</th>\n",
       "      <td>32.702895</td>\n",
       "      <td>0.153846</td>\n",
       "      <td>56.263755</td>\n",
       "      <td>0.377457</td>\n",
       "      <td>4.979459</td>\n",
       "      <td>0.330573</td>\n",
       "      <td>2.877740</td>\n",
       "      <td>0.096341</td>\n",
       "      <td>0.095370</td>\n",
       "      <td>0.019367</td>\n",
       "      <td>...</td>\n",
       "      <td>0.004007</td>\n",
       "      <td>-0.207650</td>\n",
       "      <td>-0.208688</td>\n",
       "      <td>0.234352</td>\n",
       "      <td>NaN</td>\n",
       "      <td>37.185198</td>\n",
       "      <td>41.025746</td>\n",
       "      <td>13.432278</td>\n",
       "      <td>0.072018</td>\n",
       "      <td>393.699158</td>\n",
       "    </tr>\n",
       "    <tr>\n",
       "      <th>std</th>\n",
       "      <td>39.396009</td>\n",
       "      <td>0.178437</td>\n",
       "      <td>70.326824</td>\n",
       "      <td>0.878123</td>\n",
       "      <td>17.649479</td>\n",
       "      <td>0.190226</td>\n",
       "      <td>4.876730</td>\n",
       "      <td>0.079048</td>\n",
       "      <td>0.080453</td>\n",
       "      <td>0.026049</td>\n",
       "      <td>...</td>\n",
       "      <td>0.153169</td>\n",
       "      <td>0.777717</td>\n",
       "      <td>0.787648</td>\n",
       "      <td>0.172299</td>\n",
       "      <td>NaN</td>\n",
       "      <td>31.802558</td>\n",
       "      <td>32.787401</td>\n",
       "      <td>12.816648</td>\n",
       "      <td>0.714295</td>\n",
       "      <td>96.341700</td>\n",
       "    </tr>\n",
       "    <tr>\n",
       "      <th>min</th>\n",
       "      <td>0.000000</td>\n",
       "      <td>0.000000</td>\n",
       "      <td>0.000000</td>\n",
       "      <td>0.000000</td>\n",
       "      <td>0.000000</td>\n",
       "      <td>0.130000</td>\n",
       "      <td>-8.746030</td>\n",
       "      <td>0.000000</td>\n",
       "      <td>0.000000</td>\n",
       "      <td>0.000000</td>\n",
       "      <td>...</td>\n",
       "      <td>-0.683566</td>\n",
       "      <td>-2.740000</td>\n",
       "      <td>-2.875000</td>\n",
       "      <td>0.000000</td>\n",
       "      <td>-inf</td>\n",
       "      <td>-47.066667</td>\n",
       "      <td>-38.193750</td>\n",
       "      <td>0.001250</td>\n",
       "      <td>-7.221495</td>\n",
       "      <td>209.000000</td>\n",
       "    </tr>\n",
       "    <tr>\n",
       "      <th>25%</th>\n",
       "      <td>0.725000</td>\n",
       "      <td>0.000000</td>\n",
       "      <td>20.148125</td>\n",
       "      <td>0.000000</td>\n",
       "      <td>0.000000</td>\n",
       "      <td>0.250000</td>\n",
       "      <td>0.233566</td>\n",
       "      <td>0.066667</td>\n",
       "      <td>0.062500</td>\n",
       "      <td>0.004167</td>\n",
       "      <td>...</td>\n",
       "      <td>-0.026302</td>\n",
       "      <td>-0.726667</td>\n",
       "      <td>-0.737500</td>\n",
       "      <td>0.094167</td>\n",
       "      <td>-0.225511</td>\n",
       "      <td>14.306667</td>\n",
       "      <td>16.712500</td>\n",
       "      <td>3.830000</td>\n",
       "      <td>-0.181444</td>\n",
       "      <td>328.000000</td>\n",
       "    </tr>\n",
       "    <tr>\n",
       "      <th>50%</th>\n",
       "      <td>16.116500</td>\n",
       "      <td>0.080000</td>\n",
       "      <td>37.798750</td>\n",
       "      <td>0.007580</td>\n",
       "      <td>0.000000</td>\n",
       "      <td>0.300000</td>\n",
       "      <td>1.464775</td>\n",
       "      <td>0.066667</td>\n",
       "      <td>0.062500</td>\n",
       "      <td>0.008333</td>\n",
       "      <td>...</td>\n",
       "      <td>0.000000</td>\n",
       "      <td>-0.233333</td>\n",
       "      <td>-0.237500</td>\n",
       "      <td>0.202917</td>\n",
       "      <td>0.005326</td>\n",
       "      <td>33.613333</td>\n",
       "      <td>37.412500</td>\n",
       "      <td>9.607500</td>\n",
       "      <td>0.024517</td>\n",
       "      <td>389.000000</td>\n",
       "    </tr>\n",
       "    <tr>\n",
       "      <th>75%</th>\n",
       "      <td>54.097000</td>\n",
       "      <td>0.270000</td>\n",
       "      <td>61.146250</td>\n",
       "      <td>0.261000</td>\n",
       "      <td>0.152000</td>\n",
       "      <td>0.360000</td>\n",
       "      <td>3.745210</td>\n",
       "      <td>0.133333</td>\n",
       "      <td>0.125000</td>\n",
       "      <td>0.020833</td>\n",
       "      <td>...</td>\n",
       "      <td>0.044765</td>\n",
       "      <td>0.286667</td>\n",
       "      <td>0.281250</td>\n",
       "      <td>0.340833</td>\n",
       "      <td>0.240843</td>\n",
       "      <td>56.746667</td>\n",
       "      <td>61.400000</td>\n",
       "      <td>19.267083</td>\n",
       "      <td>0.336641</td>\n",
       "      <td>445.000000</td>\n",
       "    </tr>\n",
       "    <tr>\n",
       "      <th>max</th>\n",
       "      <td>246.410000</td>\n",
       "      <td>0.750000</td>\n",
       "      <td>755.610000</td>\n",
       "      <td>8.720000</td>\n",
       "      <td>100.000000</td>\n",
       "      <td>4.770000</td>\n",
       "      <td>57.513400</td>\n",
       "      <td>0.466667</td>\n",
       "      <td>0.500000</td>\n",
       "      <td>0.222222</td>\n",
       "      <td>...</td>\n",
       "      <td>0.761106</td>\n",
       "      <td>3.386667</td>\n",
       "      <td>3.275000</td>\n",
       "      <td>1.272222</td>\n",
       "      <td>inf</td>\n",
       "      <td>183.067333</td>\n",
       "      <td>195.775000</td>\n",
       "      <td>105.460417</td>\n",
       "      <td>4.830811</td>\n",
       "      <td>864.000000</td>\n",
       "    </tr>\n",
       "  </tbody>\n",
       "</table>\n",
       "<p>8 rows × 24 columns</p>\n",
       "</div>"
      ],
      "text/plain": [
       "              SASA  SASA_PERCENTAGE      BFACTOR  SWITCHBILITY  AGGREGABILITY  \\\n",
       "count  7048.000000      7048.000000  7048.000000   6671.000000    5218.000000   \n",
       "mean     32.702895         0.153846    56.263755      0.377457       4.979459   \n",
       "std      39.396009         0.178437    70.326824      0.878123      17.649479   \n",
       "min       0.000000         0.000000     0.000000      0.000000       0.000000   \n",
       "25%       0.725000         0.000000    20.148125      0.000000       0.000000   \n",
       "50%      16.116500         0.080000    37.798750      0.007580       0.000000   \n",
       "75%      54.097000         0.270000    61.146250      0.261000       0.152000   \n",
       "max     246.410000         0.750000   755.610000      8.720000     100.000000   \n",
       "\n",
       "       CONSERVATION  VARIATION_ENERGY  VAR_AROMATICITY  AROMATICITY  \\\n",
       "count   2654.000000       7410.000000      7410.000000  7410.000000   \n",
       "mean       0.330573          2.877740         0.096341     0.095370   \n",
       "std        0.190226          4.876730         0.079048     0.080453   \n",
       "min        0.130000         -8.746030         0.000000     0.000000   \n",
       "25%        0.250000          0.233566         0.066667     0.062500   \n",
       "50%        0.300000          1.464775         0.066667     0.062500   \n",
       "75%        0.360000          3.745210         0.133333     0.125000   \n",
       "max        4.770000         57.513400         0.466667     0.500000   \n",
       "\n",
       "       AROMATICITY_DIFF     ...       ISOELECTRIC_POINT_LOG_RATIO  \\\n",
       "count       7410.000000     ...                       7410.000000   \n",
       "mean           0.019367     ...                          0.004007   \n",
       "std            0.026049     ...                          0.153169   \n",
       "min            0.000000     ...                         -0.683566   \n",
       "25%            0.004167     ...                         -0.026302   \n",
       "50%            0.008333     ...                          0.000000   \n",
       "75%            0.020833     ...                          0.044765   \n",
       "max            0.222222     ...                          0.761106   \n",
       "\n",
       "         VAR_GRAVY        GRAVY   GRAVY_DIFF  GRAVY_LOG_RATIO  \\\n",
       "count  7409.000000  7409.000000  7409.000000      6866.000000   \n",
       "mean     -0.207650    -0.208688     0.234352              NaN   \n",
       "std       0.777717     0.787648     0.172299              NaN   \n",
       "min      -2.740000    -2.875000     0.000000             -inf   \n",
       "25%      -0.726667    -0.737500     0.094167        -0.225511   \n",
       "50%      -0.233333    -0.237500     0.202917         0.005326   \n",
       "75%       0.286667     0.281250     0.340833         0.240843   \n",
       "max       3.386667     3.275000     1.272222              inf   \n",
       "\n",
       "       VAR_INSTABILITY_INDEX  INSTABILITY_INDEX  INSTABILITY_INDEX_DIFF  \\\n",
       "count            7409.000000        7409.000000             7409.000000   \n",
       "mean               37.185198          41.025746               13.432278   \n",
       "std                31.802558          32.787401               12.816648   \n",
       "min               -47.066667         -38.193750                0.001250   \n",
       "25%                14.306667          16.712500                3.830000   \n",
       "50%                33.613333          37.412500                9.607500   \n",
       "75%                56.746667          61.400000               19.267083   \n",
       "max               183.067333         195.775000              105.460417   \n",
       "\n",
       "       INSTABILITY_INDEX_LOG_RATIO        score  \n",
       "count                  6909.000000  3683.000000  \n",
       "mean                      0.072018   393.699158  \n",
       "std                       0.714295    96.341700  \n",
       "min                      -7.221495   209.000000  \n",
       "25%                      -0.181444   328.000000  \n",
       "50%                       0.024517   389.000000  \n",
       "75%                       0.336641   445.000000  \n",
       "max                       4.830811   864.000000  \n",
       "\n",
       "[8 rows x 24 columns]"
      ]
     },
     "execution_count": 8,
     "metadata": {},
     "output_type": "execute_result"
    }
   ],
   "source": [
    "hum.describe()"
   ]
  },
  {
   "cell_type": "code",
   "execution_count": 32,
   "metadata": {
    "collapsed": true
   },
   "outputs": [],
   "source": [
    "hum.replace([np.inf,-np.inf], np.nan, inplace=True)"
   ]
  },
  {
   "cell_type": "code",
   "execution_count": 33,
   "metadata": {
    "collapsed": true
   },
   "outputs": [],
   "source": [
    "model_dict = {\n",
    "    'lr':{'pipe':('lr', LogisticRegression(random_state=RANDOM_STATE)),\n",
    "          'params':[{'lr__C' : [.001, .01, .1, 1, 10, 100, 1000], 'lr__class_weight':[None, 'balanced']}],\n",
    "          'name':'LogisticRegression'\n",
    "    },\n",
    "    'rf':{'pipe':('rf', RandomForestClassifier(random_state=RANDOM_STATE)),\n",
    "          'params':[{'rf__max_depth':[3,5,7], 'rf__n_estimators':[10,50,100], 'rf__max_features':[4,'sqrt',0.2]}],\n",
    "          'name':'Random Forest'\n",
    "    },\n",
    "    'svc':{'pipe':('svc', SVC(kernel='rbf', random_state=RANDOM_STATE, probability=True)),\n",
    "           'params':[{'svc__C':[0.001, 0.01, 0.1, 1, 10], 'svc__gamma':[0.001, 0.01, 0.1, 1]}],\n",
    "           'name': 'Support Vector Classifier'\n",
    "    }\n",
    "}"
   ]
  },
  {
   "cell_type": "code",
   "execution_count": 34,
   "metadata": {
    "collapsed": true
   },
   "outputs": [],
   "source": [
    "dataset = hum.drop(['3DID', 'PDB'], 1) \\\n",
    "    .replace({\"ACTIVE_SITE\": {\"BINDING\": 1, np.nan: 0}}) \\\n",
    "    .set_index(\"MUTANT\")\n",
    "\n",
    "unclassified_index = dataset[dataset.TYPE == \"Unclassified\"].index\n",
    "dataset_disease_index = dataset[dataset.TYPE == \"Disease\"].index\n",
    "dataset_poly_index = dataset[dataset.TYPE == \"Polymorphism\"].index"
   ]
  },
  {
   "cell_type": "markdown",
   "metadata": {},
   "source": [
    "#### 50-50% en el set de entrenamiento y 60-40% en set de evaluación respetando humsavar"
   ]
  },
  {
   "cell_type": "code",
   "execution_count": 35,
   "metadata": {
    "collapsed": true
   },
   "outputs": [],
   "source": [
    "for i in range(20):\n",
    "    train = pd.concat([\n",
    "        dataset.loc[dataset_disease_index].sample(n=1500, random_state=i),\n",
    "        dataset.loc[dataset_poly_index].sample(n=1500, random_state=i)\n",
    "    ])\n",
    "\n",
    "    test = pd.concat([\n",
    "        dataset.loc[dataset_disease_index.difference(train.index)].sample(n=320, random_state=i),\n",
    "        dataset.loc[dataset_poly_index.difference(train.index)].sample(n=483, random_state=i)\n",
    "    ])\n",
    "    train.to_csv(DATA_PROCESSED + \"train_test_sets/train_{}.tab.csv\".format(i), sep=\"\\t\", index=True, index_label=\"MUTANT\")\n",
    "    test.to_csv(DATA_PROCESSED + \"train_test_sets/test_{}.tab.csv\".format(i), sep=\"\\t\", index=True, index_label=\"MUTANT\")"
   ]
  },
  {
   "cell_type": "markdown",
   "metadata": {},
   "source": [
    "#### Random Forest"
   ]
  },
  {
   "cell_type": "code",
   "execution_count": 36,
   "metadata": {
    "collapsed": true
   },
   "outputs": [],
   "source": [
    "algorithm = 'rf'\n",
    "model = Pipeline([('imputer', Imputer(missing_values=\"NaN\", strategy=\"median\")), \n",
    "                  model_dict[algorithm]['pipe']])\n",
    "param_list = [model_dict[algorithm]['params']][0]\n",
    "gs = GridSearchCV(model, param_list, cv=3, n_jobs=2, scoring='roc_auc', verbose=1, refit=True)"
   ]
  },
  {
   "cell_type": "code",
   "execution_count": 37,
   "metadata": {
    "collapsed": true
   },
   "outputs": [
    {
     "name": "stdout",
     "output_type": "stream",
     "text": [
      "Fitting 3 folds for each of 27 candidates, totalling 81 fits\n"
     ]
    },
    {
     "name": "stderr",
     "output_type": "stream",
     "text": [
      "[Parallel(n_jobs=2)]: Done  81 out of  81 | elapsed:    8.5s finished\n"
     ]
    },
    {
     "name": "stdout",
     "output_type": "stream",
     "text": [
      "Fitting 3 folds for each of 27 candidates, totalling 81 fits\n"
     ]
    },
    {
     "name": "stderr",
     "output_type": "stream",
     "text": [
      "[Parallel(n_jobs=2)]: Done  81 out of  81 | elapsed:    8.7s finished\n"
     ]
    },
    {
     "name": "stdout",
     "output_type": "stream",
     "text": [
      "Fitting 3 folds for each of 27 candidates, totalling 81 fits\n"
     ]
    },
    {
     "name": "stderr",
     "output_type": "stream",
     "text": [
      "[Parallel(n_jobs=2)]: Done  81 out of  81 | elapsed:    9.4s finished\n"
     ]
    },
    {
     "name": "stdout",
     "output_type": "stream",
     "text": [
      "Fitting 3 folds for each of 27 candidates, totalling 81 fits\n"
     ]
    },
    {
     "name": "stderr",
     "output_type": "stream",
     "text": [
      "[Parallel(n_jobs=2)]: Done  81 out of  81 | elapsed:    9.2s finished\n"
     ]
    },
    {
     "name": "stdout",
     "output_type": "stream",
     "text": [
      "Fitting 3 folds for each of 27 candidates, totalling 81 fits\n"
     ]
    },
    {
     "name": "stderr",
     "output_type": "stream",
     "text": [
      "[Parallel(n_jobs=2)]: Done  78 out of  81 | elapsed:   10.1s remaining:    0.4s\n",
      "[Parallel(n_jobs=2)]: Done  81 out of  81 | elapsed:   10.6s finished\n"
     ]
    },
    {
     "name": "stdout",
     "output_type": "stream",
     "text": [
      "Fitting 3 folds for each of 27 candidates, totalling 81 fits\n"
     ]
    },
    {
     "name": "stderr",
     "output_type": "stream",
     "text": [
      "[Parallel(n_jobs=2)]: Done  81 out of  81 | elapsed:   10.1s finished\n"
     ]
    },
    {
     "name": "stdout",
     "output_type": "stream",
     "text": [
      "Fitting 3 folds for each of 27 candidates, totalling 81 fits\n"
     ]
    },
    {
     "name": "stderr",
     "output_type": "stream",
     "text": [
      "[Parallel(n_jobs=2)]: Done  81 out of  81 | elapsed:    8.6s finished\n"
     ]
    },
    {
     "name": "stdout",
     "output_type": "stream",
     "text": [
      "Fitting 3 folds for each of 27 candidates, totalling 81 fits\n"
     ]
    },
    {
     "name": "stderr",
     "output_type": "stream",
     "text": [
      "[Parallel(n_jobs=2)]: Done  81 out of  81 | elapsed:    8.9s finished\n"
     ]
    },
    {
     "name": "stdout",
     "output_type": "stream",
     "text": [
      "Fitting 3 folds for each of 27 candidates, totalling 81 fits\n"
     ]
    },
    {
     "name": "stderr",
     "output_type": "stream",
     "text": [
      "[Parallel(n_jobs=2)]: Done  81 out of  81 | elapsed:    8.9s finished\n"
     ]
    },
    {
     "name": "stdout",
     "output_type": "stream",
     "text": [
      "Fitting 3 folds for each of 27 candidates, totalling 81 fits\n"
     ]
    },
    {
     "name": "stderr",
     "output_type": "stream",
     "text": [
      "[Parallel(n_jobs=2)]: Done  78 out of  81 | elapsed:   11.2s remaining:    0.4s\n",
      "[Parallel(n_jobs=2)]: Done  81 out of  81 | elapsed:   12.1s finished\n"
     ]
    },
    {
     "name": "stdout",
     "output_type": "stream",
     "text": [
      "Fitting 3 folds for each of 27 candidates, totalling 81 fits\n"
     ]
    },
    {
     "name": "stderr",
     "output_type": "stream",
     "text": [
      "[Parallel(n_jobs=2)]: Done  81 out of  81 | elapsed:   11.4s finished\n"
     ]
    },
    {
     "name": "stdout",
     "output_type": "stream",
     "text": [
      "Fitting 3 folds for each of 27 candidates, totalling 81 fits\n"
     ]
    },
    {
     "name": "stderr",
     "output_type": "stream",
     "text": [
      "[Parallel(n_jobs=2)]: Done  81 out of  81 | elapsed:    9.7s finished\n"
     ]
    },
    {
     "name": "stdout",
     "output_type": "stream",
     "text": [
      "Fitting 3 folds for each of 27 candidates, totalling 81 fits\n"
     ]
    },
    {
     "name": "stderr",
     "output_type": "stream",
     "text": [
      "[Parallel(n_jobs=2)]: Done  78 out of  81 | elapsed:    9.7s remaining:    0.4s\n",
      "[Parallel(n_jobs=2)]: Done  81 out of  81 | elapsed:    9.7s finished\n"
     ]
    },
    {
     "name": "stdout",
     "output_type": "stream",
     "text": [
      "Fitting 3 folds for each of 27 candidates, totalling 81 fits\n"
     ]
    },
    {
     "name": "stderr",
     "output_type": "stream",
     "text": [
      "[Parallel(n_jobs=2)]: Done  81 out of  81 | elapsed:    9.3s finished\n"
     ]
    },
    {
     "name": "stdout",
     "output_type": "stream",
     "text": [
      "Fitting 3 folds for each of 27 candidates, totalling 81 fits\n"
     ]
    },
    {
     "name": "stderr",
     "output_type": "stream",
     "text": [
      "[Parallel(n_jobs=2)]: Done  81 out of  81 | elapsed:   10.1s finished\n"
     ]
    },
    {
     "name": "stdout",
     "output_type": "stream",
     "text": [
      "Fitting 3 folds for each of 27 candidates, totalling 81 fits\n"
     ]
    },
    {
     "name": "stderr",
     "output_type": "stream",
     "text": [
      "[Parallel(n_jobs=2)]: Done  81 out of  81 | elapsed:    8.8s finished\n"
     ]
    },
    {
     "name": "stdout",
     "output_type": "stream",
     "text": [
      "Fitting 3 folds for each of 27 candidates, totalling 81 fits\n"
     ]
    },
    {
     "name": "stderr",
     "output_type": "stream",
     "text": [
      "[Parallel(n_jobs=2)]: Done  81 out of  81 | elapsed:    8.4s finished\n"
     ]
    },
    {
     "name": "stdout",
     "output_type": "stream",
     "text": [
      "Fitting 3 folds for each of 27 candidates, totalling 81 fits\n"
     ]
    },
    {
     "name": "stderr",
     "output_type": "stream",
     "text": [
      "[Parallel(n_jobs=2)]: Done  81 out of  81 | elapsed:    8.8s finished\n"
     ]
    },
    {
     "name": "stdout",
     "output_type": "stream",
     "text": [
      "Fitting 3 folds for each of 27 candidates, totalling 81 fits\n"
     ]
    },
    {
     "name": "stderr",
     "output_type": "stream",
     "text": [
      "[Parallel(n_jobs=2)]: Done  81 out of  81 | elapsed:    9.8s finished\n"
     ]
    },
    {
     "name": "stdout",
     "output_type": "stream",
     "text": [
      "Fitting 3 folds for each of 27 candidates, totalling 81 fits\n"
     ]
    },
    {
     "name": "stderr",
     "output_type": "stream",
     "text": [
      "[Parallel(n_jobs=2)]: Done  81 out of  81 | elapsed:    9.0s finished\n"
     ]
    }
   ],
   "source": [
    "train_scores = []\n",
    "test_scores = []\n",
    "for i in range(20):\n",
    "    train = pd.read_csv(DATA_PROCESSED + \"train_test_sets/train_{}.tab.csv\".format(i), sep=\"\\t\", index_col=\"MUTANT\")\n",
    "    test = pd.read_csv(DATA_PROCESSED + \"train_test_sets/test_{}.tab.csv\".format(i), sep=\"\\t\", index_col=\"MUTANT\")\n",
    "    X_train = train.drop(\"TYPE\", 1)\n",
    "    y_train = train.TYPE\n",
    "    X_test = test.drop(\"TYPE\", 1)\n",
    "    y_test = test.TYPE\n",
    "    le = LabelEncoder().fit(y_train)\n",
    "    gs.fit(X_train, le.transform(y_train))\n",
    "#     print(\"Score train ({}): {}\".format(i, gs.best_score_))\n",
    "    rf = gs.best_estimator_\n",
    "    y_pred = rf.predict(X_test)\n",
    "    test_score = roc_auc_score(le.transform(y_test), y_pred)\n",
    "#     print(\"Score test ({}): {}\".format(i, score))\n",
    "    test_scores.append(test_score)\n",
    "    train_scores.append(gs.best_score_)"
   ]
  },
  {
   "cell_type": "code",
   "execution_count": 32,
   "metadata": {},
   "outputs": [
    {
     "name": "stdout",
     "output_type": "stream",
     "text": [
      "MEAN:  0.686163625776\n",
      "STDDEV:  0.0153715857644\n"
     ]
    }
   ],
   "source": [
    "print(\"MEAN: \", np.mean(test_scores))\n",
    "print(\"STDDEV: \", np.std(test_scores))"
   ]
  },
  {
   "cell_type": "code",
   "execution_count": 39,
   "metadata": {
    "scrolled": false
   },
   "outputs": [
    {
     "data": {
      "image/png": "[encoded data removed]",
      "text/plain": [
       "<matplotlib.figure.Figure at 0x7ff3dea847f0>"
      ]
     },
     "metadata": {},
     "output_type": "display_data"
    }
   ],
   "source": [
    "importances = [(X_train.columns[e], x) for e, x in enumerate(rf.steps[1][1].feature_importances_)]\n",
    "importances.sort(key=operator.itemgetter(1), reverse=True)\n",
    "figsize(20,6)\n",
    "plt.title(\"Feature importances\", fontsize=16)\n",
    "plt.bar(np.arange(len(importances)), [y for x, y in importances], color=\"g\", align=\"center\")\n",
    "plt.xticks(range(len(importances)), [x for x, y in importances], rotation='vertical', fontsize=16)\n",
    "# plt.xlim([0, range(len(importances))])\n",
    "plt.show()"
   ]
  },
  {
   "cell_type": "markdown",
   "metadata": {},
   "source": [
    "#### Y los unclassified?"
   ]
  },
  {
   "cell_type": "code",
   "execution_count": 40,
   "metadata": {},
   "outputs": [
    {
     "data": {
      "text/plain": [
       "Polymorphism    327\n",
       "Disease         277\n",
       "dtype: int64"
      ]
     },
     "execution_count": 40,
     "metadata": {},
     "output_type": "execute_result"
    }
   ],
   "source": [
    "pd.Series(le.inverse_transform(rf.predict(dataset.loc[unclassified_index].drop(\"TYPE\", 1)))).value_counts()"
   ]
  },
  {
   "cell_type": "markdown",
   "metadata": {},
   "source": [
    "#### Support Vector Classifier"
   ]
  },
  {
   "cell_type": "code",
   "execution_count": 41,
   "metadata": {
    "collapsed": true
   },
   "outputs": [],
   "source": [
    "algorithm = 'svc'\n",
    "model = Pipeline([('imputer', Imputer(missing_values=\"NaN\", strategy=\"median\")), \n",
    "                  ('scale', RobustScaler()), \n",
    "                  model_dict[algorithm]['pipe']])\n",
    "param_list = [model_dict[algorithm]['params']][0]\n",
    "gs = GridSearchCV(model, param_list, cv=3, n_jobs=2, scoring='roc_auc', verbose=1, refit=True)"
   ]
  },
  {
   "cell_type": "code",
   "execution_count": 44,
   "metadata": {},
   "outputs": [
    {
     "name": "stdout",
     "output_type": "stream",
     "text": [
      "Fitting 3 folds for each of 20 candidates, totalling 60 fits\n"
     ]
    },
    {
     "name": "stderr",
     "output_type": "stream",
     "text": [
      "[Parallel(n_jobs=2)]: Done  46 tasks      | elapsed:   45.9s\n",
      "[Parallel(n_jobs=2)]: Done  60 out of  60 | elapsed:   59.8s finished\n"
     ]
    },
    {
     "name": "stdout",
     "output_type": "stream",
     "text": [
      "Fitting 3 folds for each of 20 candidates, totalling 60 fits\n"
     ]
    },
    {
     "name": "stderr",
     "output_type": "stream",
     "text": [
      "[Parallel(n_jobs=2)]: Done  46 tasks      | elapsed:   44.6s\n",
      "[Parallel(n_jobs=2)]: Done  60 out of  60 | elapsed:   58.4s finished\n"
     ]
    },
    {
     "name": "stdout",
     "output_type": "stream",
     "text": [
      "Fitting 3 folds for each of 20 candidates, totalling 60 fits\n"
     ]
    },
    {
     "name": "stderr",
     "output_type": "stream",
     "text": [
      "[Parallel(n_jobs=2)]: Done  46 tasks      | elapsed:   49.9s\n",
      "[Parallel(n_jobs=2)]: Done  60 out of  60 | elapsed:  1.1min finished\n"
     ]
    },
    {
     "name": "stdout",
     "output_type": "stream",
     "text": [
      "Fitting 3 folds for each of 20 candidates, totalling 60 fits\n"
     ]
    },
    {
     "name": "stderr",
     "output_type": "stream",
     "text": [
      "[Parallel(n_jobs=2)]: Done  46 tasks      | elapsed:   49.7s\n",
      "[Parallel(n_jobs=2)]: Done  60 out of  60 | elapsed:  1.1min finished\n"
     ]
    },
    {
     "name": "stdout",
     "output_type": "stream",
     "text": [
      "Fitting 3 folds for each of 20 candidates, totalling 60 fits\n"
     ]
    },
    {
     "name": "stderr",
     "output_type": "stream",
     "text": [
      "[Parallel(n_jobs=2)]: Done  46 tasks      | elapsed:   48.9s\n",
      "[Parallel(n_jobs=2)]: Done  60 out of  60 | elapsed:  1.1min finished\n"
     ]
    },
    {
     "name": "stdout",
     "output_type": "stream",
     "text": [
      "Fitting 3 folds for each of 20 candidates, totalling 60 fits\n"
     ]
    },
    {
     "name": "stderr",
     "output_type": "stream",
     "text": [
      "[Parallel(n_jobs=2)]: Done  46 tasks      | elapsed:   47.1s\n",
      "[Parallel(n_jobs=2)]: Done  60 out of  60 | elapsed:  1.0min finished\n"
     ]
    },
    {
     "name": "stdout",
     "output_type": "stream",
     "text": [
      "Fitting 3 folds for each of 20 candidates, totalling 60 fits\n"
     ]
    },
    {
     "name": "stderr",
     "output_type": "stream",
     "text": [
      "[Parallel(n_jobs=2)]: Done  46 tasks      | elapsed:   45.5s\n",
      "[Parallel(n_jobs=2)]: Done  60 out of  60 | elapsed:  1.0min finished\n"
     ]
    },
    {
     "name": "stdout",
     "output_type": "stream",
     "text": [
      "Fitting 3 folds for each of 20 candidates, totalling 60 fits\n"
     ]
    },
    {
     "name": "stderr",
     "output_type": "stream",
     "text": [
      "[Parallel(n_jobs=2)]: Done  46 tasks      | elapsed:   44.7s\n",
      "[Parallel(n_jobs=2)]: Done  60 out of  60 | elapsed:   59.3s finished\n"
     ]
    },
    {
     "name": "stdout",
     "output_type": "stream",
     "text": [
      "Fitting 3 folds for each of 20 candidates, totalling 60 fits\n"
     ]
    },
    {
     "name": "stderr",
     "output_type": "stream",
     "text": [
      "[Parallel(n_jobs=2)]: Done  46 tasks      | elapsed:   45.8s\n",
      "[Parallel(n_jobs=2)]: Done  60 out of  60 | elapsed:   60.0s finished\n"
     ]
    },
    {
     "name": "stdout",
     "output_type": "stream",
     "text": [
      "Fitting 3 folds for each of 20 candidates, totalling 60 fits\n"
     ]
    },
    {
     "name": "stderr",
     "output_type": "stream",
     "text": [
      "[Parallel(n_jobs=2)]: Done  46 tasks      | elapsed:   44.8s\n",
      "[Parallel(n_jobs=2)]: Done  60 out of  60 | elapsed:   59.8s finished\n"
     ]
    },
    {
     "name": "stdout",
     "output_type": "stream",
     "text": [
      "Fitting 3 folds for each of 20 candidates, totalling 60 fits\n"
     ]
    },
    {
     "name": "stderr",
     "output_type": "stream",
     "text": [
      "[Parallel(n_jobs=2)]: Done  46 tasks      | elapsed:   48.3s\n",
      "[Parallel(n_jobs=2)]: Done  60 out of  60 | elapsed:  1.1min finished\n"
     ]
    },
    {
     "name": "stdout",
     "output_type": "stream",
     "text": [
      "Fitting 3 folds for each of 20 candidates, totalling 60 fits\n"
     ]
    },
    {
     "name": "stderr",
     "output_type": "stream",
     "text": [
      "[Parallel(n_jobs=2)]: Done  46 tasks      | elapsed:   45.2s\n",
      "[Parallel(n_jobs=2)]: Done  60 out of  60 | elapsed:   58.6s finished\n"
     ]
    },
    {
     "name": "stdout",
     "output_type": "stream",
     "text": [
      "Fitting 3 folds for each of 20 candidates, totalling 60 fits\n"
     ]
    },
    {
     "name": "stderr",
     "output_type": "stream",
     "text": [
      "[Parallel(n_jobs=2)]: Done  46 tasks      | elapsed:   43.0s\n",
      "[Parallel(n_jobs=2)]: Done  60 out of  60 | elapsed:   56.5s finished\n"
     ]
    },
    {
     "name": "stdout",
     "output_type": "stream",
     "text": [
      "Fitting 3 folds for each of 20 candidates, totalling 60 fits\n"
     ]
    },
    {
     "name": "stderr",
     "output_type": "stream",
     "text": [
      "[Parallel(n_jobs=2)]: Done  46 tasks      | elapsed:   43.0s\n",
      "[Parallel(n_jobs=2)]: Done  60 out of  60 | elapsed:   56.6s finished\n"
     ]
    },
    {
     "name": "stdout",
     "output_type": "stream",
     "text": [
      "Fitting 3 folds for each of 20 candidates, totalling 60 fits\n"
     ]
    },
    {
     "name": "stderr",
     "output_type": "stream",
     "text": [
      "[Parallel(n_jobs=2)]: Done  46 tasks      | elapsed:   43.5s\n",
      "[Parallel(n_jobs=2)]: Done  60 out of  60 | elapsed:   57.2s finished\n"
     ]
    },
    {
     "name": "stdout",
     "output_type": "stream",
     "text": [
      "Fitting 3 folds for each of 20 candidates, totalling 60 fits\n"
     ]
    },
    {
     "name": "stderr",
     "output_type": "stream",
     "text": [
      "[Parallel(n_jobs=2)]: Done  46 tasks      | elapsed:   43.2s\n",
      "[Parallel(n_jobs=2)]: Done  60 out of  60 | elapsed:   56.9s finished\n"
     ]
    },
    {
     "name": "stdout",
     "output_type": "stream",
     "text": [
      "Fitting 3 folds for each of 20 candidates, totalling 60 fits\n"
     ]
    },
    {
     "name": "stderr",
     "output_type": "stream",
     "text": [
      "[Parallel(n_jobs=2)]: Done  46 tasks      | elapsed:   42.8s\n",
      "[Parallel(n_jobs=2)]: Done  60 out of  60 | elapsed:   56.3s finished\n"
     ]
    },
    {
     "name": "stdout",
     "output_type": "stream",
     "text": [
      "Fitting 3 folds for each of 20 candidates, totalling 60 fits\n"
     ]
    },
    {
     "name": "stderr",
     "output_type": "stream",
     "text": [
      "[Parallel(n_jobs=2)]: Done  46 tasks      | elapsed:   51.8s\n",
      "[Parallel(n_jobs=2)]: Done  60 out of  60 | elapsed:  1.1min finished\n"
     ]
    },
    {
     "name": "stdout",
     "output_type": "stream",
     "text": [
      "Fitting 3 folds for each of 20 candidates, totalling 60 fits\n"
     ]
    },
    {
     "name": "stderr",
     "output_type": "stream",
     "text": [
      "[Parallel(n_jobs=2)]: Done  46 tasks      | elapsed:   47.0s\n",
      "[Parallel(n_jobs=2)]: Done  60 out of  60 | elapsed:  1.0min finished\n"
     ]
    },
    {
     "name": "stdout",
     "output_type": "stream",
     "text": [
      "Fitting 3 folds for each of 20 candidates, totalling 60 fits\n"
     ]
    },
    {
     "name": "stderr",
     "output_type": "stream",
     "text": [
      "[Parallel(n_jobs=2)]: Done  46 tasks      | elapsed:   47.7s\n",
      "[Parallel(n_jobs=2)]: Done  60 out of  60 | elapsed:  1.0min finished\n"
     ]
    }
   ],
   "source": [
    "train_scores = []\n",
    "test_scores = []\n",
    "for i in range(20):\n",
    "    train = pd.read_csv(DATA_PROCESSED + \"train_test_sets/train_{}.tab.csv\".format(i), sep=\"\\t\", index_col=\"MUTANT\")\n",
    "    test = pd.read_csv(DATA_PROCESSED + \"train_test_sets/test_{}.tab.csv\".format(i), sep=\"\\t\", index_col=\"MUTANT\")\n",
    "    X_train = train.drop(\"TYPE\", 1)\n",
    "    y_train = train.TYPE\n",
    "    X_test = test.drop(\"TYPE\", 1)\n",
    "    y_test = test.TYPE\n",
    "    le = LabelEncoder().fit(y_train)\n",
    "    gs.fit(X_train, le.transform(y_train))\n",
    "#     print(\"Score train ({}): {}\".format(i, gs.best_score_))\n",
    "    svc = gs.best_estimator_\n",
    "    y_pred = svc.predict(X_test)\n",
    "    score = roc_auc_score(le.transform(y_test), y_pred)\n",
    "#     print(\"Score test ({}): {}\".format(i, score))\n",
    "    train_scores.append(gs.best_score_)\n",
    "    test_scores.append(score)"
   ]
  },
  {
   "cell_type": "code",
   "execution_count": 46,
   "metadata": {},
   "outputs": [
    {
     "name": "stdout",
     "output_type": "stream",
     "text": [
      "MEAN:  0.715766533333\n",
      "STDDEV:  0.0063637597678\n"
     ]
    }
   ],
   "source": [
    "print(\"MEAN: \", np.mean(train_scores))\n",
    "print(\"STDDEV: \", np.std(train_scores))"
   ]
  },
  {
   "cell_type": "code",
   "execution_count": 45,
   "metadata": {
    "scrolled": true
   },
   "outputs": [
    {
     "name": "stdout",
     "output_type": "stream",
     "text": [
      "MEAN:  0.667607078157\n",
      "STDDEV:  0.0184516735429\n"
     ]
    }
   ],
   "source": [
    "print(\"MEAN: \", np.mean(test_scores))\n",
    "print(\"STDDEV: \", np.std(test_scores))"
   ]
  },
  {
   "cell_type": "code",
   "execution_count": 62,
   "metadata": {
    "collapsed": true
   },
   "outputs": [],
   "source": [
    "y_proba = pd.DataFrame(svc.predict_proba(X_test))[0]"
   ]
  },
  {
   "cell_type": "code",
   "execution_count": 64,
   "metadata": {
    "collapsed": true
   },
   "outputs": [],
   "source": [
    "svc_results = pd.DataFrame({\"y_pred\": y_pred, \"y_true\": le.transform(y_test), \"score\": y_proba})"
   ]
  },
  {
   "cell_type": "code",
   "execution_count": 65,
   "metadata": {
    "collapsed": true
   },
   "outputs": [],
   "source": [
    "svc_results.to_csv(\"../results/svc_results.csv\", index=False)"
   ]
  }
 ],
 "metadata": {
  "kernelspec": {
   "display_name": "Python 3",
   "language": "python",
   "name": "python3"
  },
  "language_info": {
   "codemirror_mode": {
    "name": "ipython",
    "version": 3
   },
   "file_extension": ".py",
   "mimetype": "text/x-python",
   "name": "python",
   "nbconvert_exporter": "python",
   "pygments_lexer": "ipython3",
   "version": "3.6.3"
  }
 },
 "nbformat": 4,
 "nbformat_minor": 2
}
