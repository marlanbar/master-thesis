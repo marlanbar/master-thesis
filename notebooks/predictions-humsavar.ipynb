{
 "cells": [
  {
   "cell_type": "code",
   "execution_count": 1,
   "metadata": {
    "ExecuteTime": {
     "end_time": "2018-01-25T20:34:04.320961Z",
     "start_time": "2018-01-25T20:34:02.759402Z"
    },
    "collapsed": true
   },
   "outputs": [],
   "source": [
    "import operator\n",
    "import pandas as pd\n",
    "import matplotlib.pyplot as plt\n",
    "import seaborn as sns\n",
    "import numpy as np\n",
    "\n",
    "from sklearn import feature_selection\n",
    "from sklearn.ensemble import RandomForestClassifier, AdaBoostClassifier\n",
    "from sklearn.ensemble import GradientBoostingClassifier\n",
    "from sklearn.svm import SVC\n",
    "from sklearn.linear_model import LogisticRegression\n",
    "from sklearn.pipeline import Pipeline, make_pipeline\n",
    "from sklearn.pipeline import FeatureUnion\n",
    "from sklearn.preprocessing import StandardScaler, RobustScaler, Imputer, LabelEncoder\n",
    "from sklearn.model_selection import GridSearchCV, RandomizedSearchCV, train_test_split\n",
    "from sklearn.metrics import confusion_matrix, classification_report, roc_curve\n",
    "from sklearn.metrics import accuracy_score, f1_score, roc_auc_score\n",
    "\n",
    "from IPython.core.pylabtools import figsize \n",
    "%matplotlib inline"
   ]
  },
  {
   "cell_type": "code",
   "execution_count": 2,
   "metadata": {
    "ExecuteTime": {
     "end_time": "2018-01-25T20:34:04.325752Z",
     "start_time": "2018-01-25T20:34:04.322220Z"
    },
    "collapsed": true
   },
   "outputs": [],
   "source": [
    "RANDOM_STATE = 42\n",
    "DATA_EXTERNAL = \"../data/external/\"\n",
    "DATA_PROCESSED = \"../data/processed/\"\n",
    "DATA_INTERIM = \"../data/interim/\""
   ]
  },
  {
   "cell_type": "code",
   "execution_count": 3,
   "metadata": {
    "ExecuteTime": {
     "end_time": "2018-01-25T20:35:48.738077Z",
     "start_time": "2018-01-25T20:35:48.597496Z"
    }
   },
   "outputs": [],
   "source": [
    "hum = pd.read_csv(DATA_PROCESSED + \"humsavar_gt.tab.gz\", sep=\"\\t\")\n",
    "# hum[\"MUTANT\"] = hum.MUTANT.str.rstrip()\n",
    "hum.drop_duplicates(inplace=True)\n",
    "hum.drop_duplicates(subset=\"MUTANT\", keep=False, inplace=True)\n",
    "protparam = pd.read_csv(DATA_INTERIM + \"protparam_features.tab.gz\", sep=\"\\t\")\n",
    "hum = hum.merge(protparam, on=\"MUTANT\", how=\"left\")\n",
    "phastCons46way = pd.read_csv(\"../data/interim/phastCons46way.csv\")\n",
    "phastCons46way.rename(columns={\"name\": \"dbSNP\"}, inplace=True)\n",
    "phyloP46way = pd.read_csv(\"../data/interim/phyloP46way.csv\")\n",
    "phyloP46way.rename(columns={\"name\": \"dbSNP\"}, inplace=True)\n",
    "\n",
    "hum = hum.merge(phastCons46way, on=\"dbSNP\", how=\"left\")\n",
    "hum = hum.merge(phyloP46way, on=\"dbSNP\", how=\"left\")\n",
    "hum.drop(\"dbSNP\", axis=1, inplace=True)\n",
    "hum.rename(columns={\"phastCons46way\": \"PHASTCONS46WAY\"}, inplace=True)\n",
    "hum.rename(columns={\"phyloP46way\": \"PHYLOP46WAY\"}, inplace=True)"
   ]
  },
  {
   "cell_type": "code",
   "execution_count": 4,
   "metadata": {
    "ExecuteTime": {
     "end_time": "2018-01-25T20:35:52.220941Z",
     "start_time": "2018-01-25T20:35:51.590005Z"
    },
    "collapsed": true
   },
   "outputs": [],
   "source": [
    "hum.to_csv(DATA_PROCESSED + \"humsavar_gt.csv.gz\", sep=\",\", index=False, compression=\"gzip\")"
   ]
  },
  {
   "cell_type": "code",
   "execution_count": 5,
   "metadata": {
    "ExecuteTime": {
     "end_time": "2018-01-25T20:35:54.180513Z",
     "start_time": "2018-01-25T20:35:54.089137Z"
    },
    "collapsed": true
   },
   "outputs": [],
   "source": [
    "hum = pd.read_csv(DATA_PROCESSED + \"humsavar_gt.csv.gz\", sep=\",\")"
   ]
  },
  {
   "cell_type": "code",
   "execution_count": 6,
   "metadata": {
    "ExecuteTime": {
     "end_time": "2018-01-25T20:35:55.265727Z",
     "start_time": "2018-01-25T20:35:55.219795Z"
    }
   },
   "outputs": [
    {
     "data": {
      "text/html": [
       "<div>\n",
       "<table border=\"1\" class=\"dataframe\">\n",
       "  <thead>\n",
       "    <tr style=\"text-align: right;\">\n",
       "      <th></th>\n",
       "      <th>MUTANT</th>\n",
       "      <th>3DID</th>\n",
       "      <th>ACTIVE_SITE</th>\n",
       "      <th>AGGREGABILITY</th>\n",
       "      <th>BFACTOR</th>\n",
       "      <th>CONSERVATION</th>\n",
       "      <th>PDB</th>\n",
       "      <th>SASA</th>\n",
       "      <th>SASA_PERCENTAGE</th>\n",
       "      <th>SWITCHBILITY</th>\n",
       "      <th>...</th>\n",
       "      <th>VAR_GRAVY</th>\n",
       "      <th>GRAVY</th>\n",
       "      <th>GRAVY_DIFF</th>\n",
       "      <th>GRAVY_LOG_RATIO</th>\n",
       "      <th>VAR_INSTABILITY_INDEX</th>\n",
       "      <th>INSTABILITY_INDEX</th>\n",
       "      <th>INSTABILITY_INDEX_DIFF</th>\n",
       "      <th>INSTABILITY_INDEX_LOG_RATIO</th>\n",
       "      <th>PHASTCONS46WAY</th>\n",
       "      <th>PHYLOP46WAY</th>\n",
       "    </tr>\n",
       "  </thead>\n",
       "  <tbody>\n",
       "    <tr>\n",
       "      <th>0</th>\n",
       "      <td>P11362-174-V-A</td>\n",
       "      <td>False</td>\n",
       "      <td>NaN</td>\n",
       "      <td>0.0</td>\n",
       "      <td>32.280</td>\n",
       "      <td>NaN</td>\n",
       "      <td>False</td>\n",
       "      <td>6.038</td>\n",
       "      <td>0.03</td>\n",
       "      <td>NaN</td>\n",
       "      <td>...</td>\n",
       "      <td>-0.033333</td>\n",
       "      <td>0.07500</td>\n",
       "      <td>0.108333</td>\n",
       "      <td>0.106222</td>\n",
       "      <td>63.513333</td>\n",
       "      <td>58.36875</td>\n",
       "      <td>5.144583</td>\n",
       "      <td>-0.083104</td>\n",
       "      <td>NaN</td>\n",
       "      <td>NaN</td>\n",
       "    </tr>\n",
       "    <tr>\n",
       "      <th>1</th>\n",
       "      <td>Q8WZA1-504-V-I</td>\n",
       "      <td>False</td>\n",
       "      <td>NaN</td>\n",
       "      <td>NaN</td>\n",
       "      <td>67.465</td>\n",
       "      <td>NaN</td>\n",
       "      <td>False</td>\n",
       "      <td>90.814</td>\n",
       "      <td>0.51</td>\n",
       "      <td>0.0000</td>\n",
       "      <td>...</td>\n",
       "      <td>-0.120000</td>\n",
       "      <td>0.15000</td>\n",
       "      <td>0.270000</td>\n",
       "      <td>0.267595</td>\n",
       "      <td>18.600000</td>\n",
       "      <td>7.45000</td>\n",
       "      <td>11.150000</td>\n",
       "      <td>-0.841363</td>\n",
       "      <td>0.997</td>\n",
       "      <td>2.987</td>\n",
       "    </tr>\n",
       "    <tr>\n",
       "      <th>2</th>\n",
       "      <td>P46100-243-C-F</td>\n",
       "      <td>False</td>\n",
       "      <td>BINDING</td>\n",
       "      <td>NaN</td>\n",
       "      <td>0.000</td>\n",
       "      <td>NaN</td>\n",
       "      <td>False</td>\n",
       "      <td>1.143</td>\n",
       "      <td>0.00</td>\n",
       "      <td>0.0661</td>\n",
       "      <td>...</td>\n",
       "      <td>-0.360000</td>\n",
       "      <td>-0.60000</td>\n",
       "      <td>0.240000</td>\n",
       "      <td>-0.470004</td>\n",
       "      <td>59.026667</td>\n",
       "      <td>55.96250</td>\n",
       "      <td>3.064167</td>\n",
       "      <td>-0.052396</td>\n",
       "      <td>NaN</td>\n",
       "      <td>NaN</td>\n",
       "    </tr>\n",
       "    <tr>\n",
       "      <th>3</th>\n",
       "      <td>P11473-362-T-I</td>\n",
       "      <td>False</td>\n",
       "      <td>NaN</td>\n",
       "      <td>NaN</td>\n",
       "      <td>11.290</td>\n",
       "      <td>NaN</td>\n",
       "      <td>False</td>\n",
       "      <td>0.214</td>\n",
       "      <td>0.00</td>\n",
       "      <td>0.0000</td>\n",
       "      <td>...</td>\n",
       "      <td>-0.146667</td>\n",
       "      <td>-0.68125</td>\n",
       "      <td>0.534583</td>\n",
       "      <td>-0.984743</td>\n",
       "      <td>81.013333</td>\n",
       "      <td>31.76875</td>\n",
       "      <td>49.244583</td>\n",
       "      <td>-0.917407</td>\n",
       "      <td>0.814</td>\n",
       "      <td>1.194</td>\n",
       "    </tr>\n",
       "    <tr>\n",
       "      <th>4</th>\n",
       "      <td>Q9NXN4-106-G-S</td>\n",
       "      <td>True</td>\n",
       "      <td>NaN</td>\n",
       "      <td>0.0</td>\n",
       "      <td>37.430</td>\n",
       "      <td>0.24</td>\n",
       "      <td>False</td>\n",
       "      <td>0.000</td>\n",
       "      <td>0.00</td>\n",
       "      <td>0.0410</td>\n",
       "      <td>...</td>\n",
       "      <td>-1.346667</td>\n",
       "      <td>-1.48125</td>\n",
       "      <td>0.134583</td>\n",
       "      <td>0.328023</td>\n",
       "      <td>43.633333</td>\n",
       "      <td>15.85000</td>\n",
       "      <td>27.783333</td>\n",
       "      <td>-0.974130</td>\n",
       "      <td>1.000</td>\n",
       "      <td>5.583</td>\n",
       "    </tr>\n",
       "  </tbody>\n",
       "</table>\n",
       "<p>5 rows × 30 columns</p>\n",
       "</div>"
      ],
      "text/plain": [
       "           MUTANT   3DID ACTIVE_SITE  AGGREGABILITY  BFACTOR  CONSERVATION  \\\n",
       "0  P11362-174-V-A  False         NaN            0.0   32.280           NaN   \n",
       "1  Q8WZA1-504-V-I  False         NaN            NaN   67.465           NaN   \n",
       "2  P46100-243-C-F  False     BINDING            NaN    0.000           NaN   \n",
       "3  P11473-362-T-I  False         NaN            NaN   11.290           NaN   \n",
       "4  Q9NXN4-106-G-S   True         NaN            0.0   37.430          0.24   \n",
       "\n",
       "     PDB    SASA  SASA_PERCENTAGE  SWITCHBILITY     ...       VAR_GRAVY  \\\n",
       "0  False   6.038             0.03           NaN     ...       -0.033333   \n",
       "1  False  90.814             0.51        0.0000     ...       -0.120000   \n",
       "2  False   1.143             0.00        0.0661     ...       -0.360000   \n",
       "3  False   0.214             0.00        0.0000     ...       -0.146667   \n",
       "4  False   0.000             0.00        0.0410     ...       -1.346667   \n",
       "\n",
       "     GRAVY  GRAVY_DIFF  GRAVY_LOG_RATIO  VAR_INSTABILITY_INDEX  \\\n",
       "0  0.07500    0.108333         0.106222              63.513333   \n",
       "1  0.15000    0.270000         0.267595              18.600000   \n",
       "2 -0.60000    0.240000        -0.470004              59.026667   \n",
       "3 -0.68125    0.534583        -0.984743              81.013333   \n",
       "4 -1.48125    0.134583         0.328023              43.633333   \n",
       "\n",
       "   INSTABILITY_INDEX  INSTABILITY_INDEX_DIFF  INSTABILITY_INDEX_LOG_RATIO  \\\n",
       "0           58.36875                5.144583                    -0.083104   \n",
       "1            7.45000               11.150000                    -0.841363   \n",
       "2           55.96250                3.064167                    -0.052396   \n",
       "3           31.76875               49.244583                    -0.917407   \n",
       "4           15.85000               27.783333                    -0.974130   \n",
       "\n",
       "   PHASTCONS46WAY  PHYLOP46WAY  \n",
       "0             NaN          NaN  \n",
       "1           0.997        2.987  \n",
       "2             NaN          NaN  \n",
       "3           0.814        1.194  \n",
       "4           1.000        5.583  \n",
       "\n",
       "[5 rows x 30 columns]"
      ]
     },
     "execution_count": 6,
     "metadata": {},
     "output_type": "execute_result"
    }
   ],
   "source": [
    "hum.head()"
   ]
  },
  {
   "cell_type": "code",
   "execution_count": 7,
   "metadata": {
    "ExecuteTime": {
     "end_time": "2018-01-25T20:35:56.101659Z",
     "start_time": "2018-01-25T20:35:56.002094Z"
    }
   },
   "outputs": [
    {
     "data": {
      "text/html": [
       "<div>\n",
       "<table border=\"1\" class=\"dataframe\">\n",
       "  <thead>\n",
       "    <tr style=\"text-align: right;\">\n",
       "      <th></th>\n",
       "      <th>AGGREGABILITY</th>\n",
       "      <th>BFACTOR</th>\n",
       "      <th>CONSERVATION</th>\n",
       "      <th>SASA</th>\n",
       "      <th>SASA_PERCENTAGE</th>\n",
       "      <th>SWITCHBILITY</th>\n",
       "      <th>VARIATION_ENERGY</th>\n",
       "      <th>VAR_AROMATICITY</th>\n",
       "      <th>AROMATICITY</th>\n",
       "      <th>AROMATICITY_DIFF</th>\n",
       "      <th>...</th>\n",
       "      <th>VAR_GRAVY</th>\n",
       "      <th>GRAVY</th>\n",
       "      <th>GRAVY_DIFF</th>\n",
       "      <th>GRAVY_LOG_RATIO</th>\n",
       "      <th>VAR_INSTABILITY_INDEX</th>\n",
       "      <th>INSTABILITY_INDEX</th>\n",
       "      <th>INSTABILITY_INDEX_DIFF</th>\n",
       "      <th>INSTABILITY_INDEX_LOG_RATIO</th>\n",
       "      <th>PHASTCONS46WAY</th>\n",
       "      <th>PHYLOP46WAY</th>\n",
       "    </tr>\n",
       "  </thead>\n",
       "  <tbody>\n",
       "    <tr>\n",
       "      <th>count</th>\n",
       "      <td>5136.000000</td>\n",
       "      <td>7000.000000</td>\n",
       "      <td>2600.000000</td>\n",
       "      <td>7000.000000</td>\n",
       "      <td>7000.00000</td>\n",
       "      <td>6559.000000</td>\n",
       "      <td>7427.000000</td>\n",
       "      <td>7427.000000</td>\n",
       "      <td>7427.000000</td>\n",
       "      <td>7427.000000</td>\n",
       "      <td>...</td>\n",
       "      <td>7426.000000</td>\n",
       "      <td>7426.000000</td>\n",
       "      <td>7426.000000</td>\n",
       "      <td>6873.000000</td>\n",
       "      <td>7426.000000</td>\n",
       "      <td>7426.000000</td>\n",
       "      <td>7426.000000</td>\n",
       "      <td>6885.000000</td>\n",
       "      <td>5172.000000</td>\n",
       "      <td>5172.000000</td>\n",
       "    </tr>\n",
       "    <tr>\n",
       "      <th>mean</th>\n",
       "      <td>5.009965</td>\n",
       "      <td>57.097037</td>\n",
       "      <td>0.331554</td>\n",
       "      <td>32.785369</td>\n",
       "      <td>0.15468</td>\n",
       "      <td>0.381191</td>\n",
       "      <td>2.820931</td>\n",
       "      <td>0.096264</td>\n",
       "      <td>0.095211</td>\n",
       "      <td>0.019058</td>\n",
       "      <td>...</td>\n",
       "      <td>-0.209155</td>\n",
       "      <td>-0.210446</td>\n",
       "      <td>0.233199</td>\n",
       "      <td>NaN</td>\n",
       "      <td>37.134868</td>\n",
       "      <td>41.019175</td>\n",
       "      <td>13.458861</td>\n",
       "      <td>0.070223</td>\n",
       "      <td>0.855227</td>\n",
       "      <td>3.283833</td>\n",
       "    </tr>\n",
       "    <tr>\n",
       "      <th>std</th>\n",
       "      <td>17.702566</td>\n",
       "      <td>70.447180</td>\n",
       "      <td>0.191846</td>\n",
       "      <td>39.433521</td>\n",
       "      <td>0.17928</td>\n",
       "      <td>0.881307</td>\n",
       "      <td>4.797885</td>\n",
       "      <td>0.078765</td>\n",
       "      <td>0.080456</td>\n",
       "      <td>0.025838</td>\n",
       "      <td>...</td>\n",
       "      <td>0.768189</td>\n",
       "      <td>0.779319</td>\n",
       "      <td>0.174817</td>\n",
       "      <td>NaN</td>\n",
       "      <td>31.851082</td>\n",
       "      <td>32.925821</td>\n",
       "      <td>12.899362</td>\n",
       "      <td>0.714906</td>\n",
       "      <td>0.322805</td>\n",
       "      <td>2.192184</td>\n",
       "    </tr>\n",
       "    <tr>\n",
       "      <th>min</th>\n",
       "      <td>0.000000</td>\n",
       "      <td>0.000000</td>\n",
       "      <td>0.130000</td>\n",
       "      <td>0.000000</td>\n",
       "      <td>0.00000</td>\n",
       "      <td>0.000000</td>\n",
       "      <td>-8.746030</td>\n",
       "      <td>0.000000</td>\n",
       "      <td>0.000000</td>\n",
       "      <td>0.000000</td>\n",
       "      <td>...</td>\n",
       "      <td>-2.740000</td>\n",
       "      <td>-2.875000</td>\n",
       "      <td>0.000000</td>\n",
       "      <td>-inf</td>\n",
       "      <td>-47.066667</td>\n",
       "      <td>-38.193750</td>\n",
       "      <td>0.001250</td>\n",
       "      <td>-7.221495</td>\n",
       "      <td>0.000000</td>\n",
       "      <td>-7.452000</td>\n",
       "    </tr>\n",
       "    <tr>\n",
       "      <th>25%</th>\n",
       "      <td>0.000000</td>\n",
       "      <td>20.426875</td>\n",
       "      <td>0.250000</td>\n",
       "      <td>0.676000</td>\n",
       "      <td>0.00000</td>\n",
       "      <td>0.000000</td>\n",
       "      <td>0.237110</td>\n",
       "      <td>0.066667</td>\n",
       "      <td>0.062500</td>\n",
       "      <td>0.004167</td>\n",
       "      <td>...</td>\n",
       "      <td>-0.720000</td>\n",
       "      <td>-0.731250</td>\n",
       "      <td>0.090521</td>\n",
       "      <td>-0.221459</td>\n",
       "      <td>14.143333</td>\n",
       "      <td>16.573438</td>\n",
       "      <td>3.852500</td>\n",
       "      <td>-0.181444</td>\n",
       "      <td>0.987000</td>\n",
       "      <td>1.377000</td>\n",
       "    </tr>\n",
       "    <tr>\n",
       "      <th>50%</th>\n",
       "      <td>0.000000</td>\n",
       "      <td>38.357500</td>\n",
       "      <td>0.300000</td>\n",
       "      <td>16.036500</td>\n",
       "      <td>0.08000</td>\n",
       "      <td>0.008020</td>\n",
       "      <td>1.449850</td>\n",
       "      <td>0.066667</td>\n",
       "      <td>0.062500</td>\n",
       "      <td>0.008333</td>\n",
       "      <td>...</td>\n",
       "      <td>-0.240000</td>\n",
       "      <td>-0.243750</td>\n",
       "      <td>0.199583</td>\n",
       "      <td>0.000442</td>\n",
       "      <td>33.353333</td>\n",
       "      <td>37.065625</td>\n",
       "      <td>9.692917</td>\n",
       "      <td>0.017865</td>\n",
       "      <td>1.000000</td>\n",
       "      <td>3.746000</td>\n",
       "    </tr>\n",
       "    <tr>\n",
       "      <th>75%</th>\n",
       "      <td>0.146250</td>\n",
       "      <td>62.500000</td>\n",
       "      <td>0.370000</td>\n",
       "      <td>54.582750</td>\n",
       "      <td>0.27000</td>\n",
       "      <td>0.274000</td>\n",
       "      <td>3.686540</td>\n",
       "      <td>0.133333</td>\n",
       "      <td>0.125000</td>\n",
       "      <td>0.016667</td>\n",
       "      <td>...</td>\n",
       "      <td>0.273333</td>\n",
       "      <td>0.275000</td>\n",
       "      <td>0.340000</td>\n",
       "      <td>0.237328</td>\n",
       "      <td>56.746667</td>\n",
       "      <td>61.150000</td>\n",
       "      <td>19.145833</td>\n",
       "      <td>0.334560</td>\n",
       "      <td>1.000000</td>\n",
       "      <td>5.140000</td>\n",
       "    </tr>\n",
       "    <tr>\n",
       "      <th>max</th>\n",
       "      <td>100.000000</td>\n",
       "      <td>755.610000</td>\n",
       "      <td>4.770000</td>\n",
       "      <td>246.410000</td>\n",
       "      <td>0.75000</td>\n",
       "      <td>8.720000</td>\n",
       "      <td>57.513400</td>\n",
       "      <td>0.466667</td>\n",
       "      <td>0.500000</td>\n",
       "      <td>0.222222</td>\n",
       "      <td>...</td>\n",
       "      <td>3.386667</td>\n",
       "      <td>3.275000</td>\n",
       "      <td>1.272222</td>\n",
       "      <td>inf</td>\n",
       "      <td>183.067333</td>\n",
       "      <td>195.775000</td>\n",
       "      <td>105.460417</td>\n",
       "      <td>4.830811</td>\n",
       "      <td>1.000000</td>\n",
       "      <td>6.424000</td>\n",
       "    </tr>\n",
       "  </tbody>\n",
       "</table>\n",
       "<p>8 rows × 25 columns</p>\n",
       "</div>"
      ],
      "text/plain": [
       "       AGGREGABILITY      BFACTOR  CONSERVATION         SASA  SASA_PERCENTAGE  \\\n",
       "count    5136.000000  7000.000000   2600.000000  7000.000000       7000.00000   \n",
       "mean        5.009965    57.097037      0.331554    32.785369          0.15468   \n",
       "std        17.702566    70.447180      0.191846    39.433521          0.17928   \n",
       "min         0.000000     0.000000      0.130000     0.000000          0.00000   \n",
       "25%         0.000000    20.426875      0.250000     0.676000          0.00000   \n",
       "50%         0.000000    38.357500      0.300000    16.036500          0.08000   \n",
       "75%         0.146250    62.500000      0.370000    54.582750          0.27000   \n",
       "max       100.000000   755.610000      4.770000   246.410000          0.75000   \n",
       "\n",
       "       SWITCHBILITY  VARIATION_ENERGY  VAR_AROMATICITY  AROMATICITY  \\\n",
       "count   6559.000000       7427.000000      7427.000000  7427.000000   \n",
       "mean       0.381191          2.820931         0.096264     0.095211   \n",
       "std        0.881307          4.797885         0.078765     0.080456   \n",
       "min        0.000000         -8.746030         0.000000     0.000000   \n",
       "25%        0.000000          0.237110         0.066667     0.062500   \n",
       "50%        0.008020          1.449850         0.066667     0.062500   \n",
       "75%        0.274000          3.686540         0.133333     0.125000   \n",
       "max        8.720000         57.513400         0.466667     0.500000   \n",
       "\n",
       "       AROMATICITY_DIFF     ...         VAR_GRAVY        GRAVY   GRAVY_DIFF  \\\n",
       "count       7427.000000     ...       7426.000000  7426.000000  7426.000000   \n",
       "mean           0.019058     ...         -0.209155    -0.210446     0.233199   \n",
       "std            0.025838     ...          0.768189     0.779319     0.174817   \n",
       "min            0.000000     ...         -2.740000    -2.875000     0.000000   \n",
       "25%            0.004167     ...         -0.720000    -0.731250     0.090521   \n",
       "50%            0.008333     ...         -0.240000    -0.243750     0.199583   \n",
       "75%            0.016667     ...          0.273333     0.275000     0.340000   \n",
       "max            0.222222     ...          3.386667     3.275000     1.272222   \n",
       "\n",
       "       GRAVY_LOG_RATIO  VAR_INSTABILITY_INDEX  INSTABILITY_INDEX  \\\n",
       "count      6873.000000            7426.000000        7426.000000   \n",
       "mean               NaN              37.134868          41.019175   \n",
       "std                NaN              31.851082          32.925821   \n",
       "min               -inf             -47.066667         -38.193750   \n",
       "25%          -0.221459              14.143333          16.573438   \n",
       "50%           0.000442              33.353333          37.065625   \n",
       "75%           0.237328              56.746667          61.150000   \n",
       "max                inf             183.067333         195.775000   \n",
       "\n",
       "       INSTABILITY_INDEX_DIFF  INSTABILITY_INDEX_LOG_RATIO  PHASTCONS46WAY  \\\n",
       "count             7426.000000                  6885.000000     5172.000000   \n",
       "mean                13.458861                     0.070223        0.855227   \n",
       "std                 12.899362                     0.714906        0.322805   \n",
       "min                  0.001250                    -7.221495        0.000000   \n",
       "25%                  3.852500                    -0.181444        0.987000   \n",
       "50%                  9.692917                     0.017865        1.000000   \n",
       "75%                 19.145833                     0.334560        1.000000   \n",
       "max                105.460417                     4.830811        1.000000   \n",
       "\n",
       "       PHYLOP46WAY  \n",
       "count  5172.000000  \n",
       "mean      3.283833  \n",
       "std       2.192184  \n",
       "min      -7.452000  \n",
       "25%       1.377000  \n",
       "50%       3.746000  \n",
       "75%       5.140000  \n",
       "max       6.424000  \n",
       "\n",
       "[8 rows x 25 columns]"
      ]
     },
     "execution_count": 7,
     "metadata": {},
     "output_type": "execute_result"
    }
   ],
   "source": [
    "hum.describe()"
   ]
  },
  {
   "cell_type": "code",
   "execution_count": 8,
   "metadata": {
    "ExecuteTime": {
     "end_time": "2018-01-25T20:36:08.112463Z",
     "start_time": "2018-01-25T20:36:08.104636Z"
    },
    "collapsed": true
   },
   "outputs": [],
   "source": [
    "hum.replace([np.inf,-np.inf], np.nan, inplace=True)"
   ]
  },
  {
   "cell_type": "code",
   "execution_count": 176,
   "metadata": {
    "ExecuteTime": {
     "end_time": "2018-01-25T22:38:44.275207Z",
     "start_time": "2018-01-25T22:38:44.248329Z"
    },
    "collapsed": true
   },
   "outputs": [],
   "source": [
    "model_dict = {\n",
    "    'lr':{'pipe':('lr', LogisticRegression(random_state=RANDOM_STATE)),\n",
    "          'params':[{'lr__C' : [.001, .01, .1, 1, 10, 100, 1000], 'lr__class_weight':[None, 'balanced']}],\n",
    "          'name':'LogisticRegression'\n",
    "    },\n",
    "    'rf':{'pipe':('rf', RandomForestClassifier(random_state=RANDOM_STATE)),\n",
    "          'params':[{'rf__max_depth':[3,5,7, 10], 'rf__n_estimators':[5, 7, 10], 'rf__max_features':[4,'sqrt',0.2, 10, 15]}],\n",
    "          'name':'Random Forest'\n",
    "    },\n",
    "    'svc':{'pipe':('svc', SVC(kernel='rbf', random_state=RANDOM_STATE, probability=True)),\n",
    "           'params':[{'svc__C':[0.001, 0.01, 0.1, 1, 10], 'svc__gamma':[0.001, 0.01, 0.1, 1]}],\n",
    "           'name': 'Support Vector Classifier'\n",
    "    }\n",
    "}"
   ]
  },
  {
   "cell_type": "code",
   "execution_count": 10,
   "metadata": {
    "ExecuteTime": {
     "end_time": "2018-01-25T20:36:09.913901Z",
     "start_time": "2018-01-25T20:36:09.835078Z"
    },
    "collapsed": true
   },
   "outputs": [],
   "source": [
    "dataset = hum.drop(['3DID', 'PDB'], 1) \\\n",
    "    .replace({\"ACTIVE_SITE\": {\"BINDING\": 1, np.nan: 0}}) \\\n",
    "    .set_index(\"MUTANT\")\n",
    "\n",
    "unclassified_index = dataset[dataset.TYPE == \"Unclassified\"].index\n",
    "dataset_disease_index = dataset[dataset.TYPE == \"Disease\"].index\n",
    "dataset_poly_index = dataset[dataset.TYPE == \"Polymorphism\"].index"
   ]
  },
  {
   "cell_type": "markdown",
   "metadata": {},
   "source": [
    "#### 50-50% en el set de entrenamiento y 60-40% en set de evaluación respetando humsavar"
   ]
  },
  {
   "cell_type": "code",
   "execution_count": 22,
   "metadata": {
    "ExecuteTime": {
     "end_time": "2018-01-25T21:45:08.962871Z",
     "start_time": "2018-01-25T21:45:08.947726Z"
    }
   },
   "outputs": [
    {
     "data": {
      "text/plain": [
       "(7427, 27)"
      ]
     },
     "execution_count": 22,
     "metadata": {},
     "output_type": "execute_result"
    }
   ],
   "source": [
    "dataset.shape"
   ]
  },
  {
   "cell_type": "code",
   "execution_count": 23,
   "metadata": {
    "ExecuteTime": {
     "end_time": "2018-01-25T21:45:26.314591Z",
     "start_time": "2018-01-25T21:45:26.296515Z"
    }
   },
   "outputs": [
    {
     "data": {
      "text/plain": [
       "Disease         4664\n",
       "Polymorphism    2161\n",
       "Unclassified     602\n",
       "Name: TYPE, dtype: int64"
      ]
     },
     "execution_count": 23,
     "metadata": {},
     "output_type": "execute_result"
    }
   ],
   "source": [
    "dataset.TYPE.value_counts()"
   ]
  },
  {
   "cell_type": "code",
   "execution_count": 158,
   "metadata": {
    "ExecuteTime": {
     "end_time": "2018-01-25T22:08:38.625400Z",
     "start_time": "2018-01-25T22:08:35.455270Z"
    },
    "collapsed": true
   },
   "outputs": [],
   "source": [
    "for i in range(20):\n",
    "    train = pd.concat([\n",
    "        dataset.loc[dataset_disease_index].sample(n=1300, random_state=i),\n",
    "        dataset.loc[dataset_poly_index].sample(n=1300, random_state=i)\n",
    "    ]).sample(frac=1)\n",
    "\n",
    "    test = pd.concat([\n",
    "        dataset.loc[dataset_disease_index.difference(train.index)].sample(n=1291, random_state=i),\n",
    "        dataset.loc[dataset_poly_index.difference(train.index)].sample(n=861, random_state=i)\n",
    "    ]).sample(frac=1)\n",
    "    train.to_csv(DATA_PROCESSED + \"train_test_sets/train_{}.tab.csv\".format(i), sep=\"\\t\", index=True, index_label=\"MUTANT\")\n",
    "    test.to_csv(DATA_PROCESSED + \"train_test_sets/test_{}.tab.csv\".format(i), sep=\"\\t\", index=True, index_label=\"MUTANT\")"
   ]
  },
  {
   "cell_type": "markdown",
   "metadata": {},
   "source": [
    "#### Random Forest"
   ]
  },
  {
   "cell_type": "code",
   "execution_count": 177,
   "metadata": {
    "ExecuteTime": {
     "end_time": "2018-01-25T22:38:50.114709Z",
     "start_time": "2018-01-25T22:38:50.109324Z"
    },
    "collapsed": true
   },
   "outputs": [],
   "source": [
    "algorithm = 'rf'\n",
    "model = Pipeline([('imputer', Imputer(missing_values=\"NaN\", strategy=\"median\")), \n",
    "                  model_dict[algorithm]['pipe']])\n",
    "param_list = [model_dict[algorithm]['params']][0]\n",
    "gs = GridSearchCV(model, param_list, cv=3, n_jobs=2, scoring='roc_auc', verbose=1, refit=True)"
   ]
  },
  {
   "cell_type": "code",
   "execution_count": 178,
   "metadata": {
    "ExecuteTime": {
     "end_time": "2018-01-25T22:40:10.768865Z",
     "start_time": "2018-01-25T22:38:50.611040Z"
    }
   },
   "outputs": [
    {
     "name": "stdout",
     "output_type": "stream",
     "text": [
      "Fitting 3 folds for each of 60 candidates, totalling 180 fits\n"
     ]
    },
    {
     "name": "stderr",
     "output_type": "stream",
     "text": [
      "[Parallel(n_jobs=2)]: Done 180 out of 180 | elapsed:    4.0s finished\n"
     ]
    },
    {
     "name": "stdout",
     "output_type": "stream",
     "text": [
      "Parameters:  {'rf__max_depth': 5, 'rf__max_features': 10, 'rf__n_estimators': 10}\n",
      "Fitting 3 folds for each of 60 candidates, totalling 180 fits\n"
     ]
    },
    {
     "name": "stderr",
     "output_type": "stream",
     "text": [
      "[Parallel(n_jobs=2)]: Done 180 out of 180 | elapsed:    3.7s finished\n"
     ]
    },
    {
     "name": "stdout",
     "output_type": "stream",
     "text": [
      "Parameters:  {'rf__max_depth': 5, 'rf__max_features': 15, 'rf__n_estimators': 10}\n",
      "Fitting 3 folds for each of 60 candidates, totalling 180 fits\n",
      "Parameters:  {'rf__max_depth': 5, 'rf__max_features': 15, 'rf__n_estimators': 10}\n",
      "Fitting 3 folds for each of 60 candidates, totalling 180 fits\n"
     ]
    },
    {
     "name": "stderr",
     "output_type": "stream",
     "text": [
      "[Parallel(n_jobs=2)]: Done 180 out of 180 | elapsed:    4.1s finished\n",
      "[Parallel(n_jobs=2)]: Done 180 out of 180 | elapsed:    3.5s finished\n"
     ]
    },
    {
     "name": "stdout",
     "output_type": "stream",
     "text": [
      "Parameters:  {'rf__max_depth': 5, 'rf__max_features': 15, 'rf__n_estimators': 10}\n",
      "Fitting 3 folds for each of 60 candidates, totalling 180 fits\n"
     ]
    },
    {
     "name": "stderr",
     "output_type": "stream",
     "text": [
      "[Parallel(n_jobs=2)]: Done 180 out of 180 | elapsed:    3.5s finished\n"
     ]
    },
    {
     "name": "stdout",
     "output_type": "stream",
     "text": [
      "Parameters:  {'rf__max_depth': 7, 'rf__max_features': 10, 'rf__n_estimators': 7}\n",
      "Fitting 3 folds for each of 60 candidates, totalling 180 fits\n"
     ]
    },
    {
     "name": "stderr",
     "output_type": "stream",
     "text": [
      "[Parallel(n_jobs=2)]: Done 180 out of 180 | elapsed:    3.4s finished\n"
     ]
    },
    {
     "name": "stdout",
     "output_type": "stream",
     "text": [
      "Parameters:  {'rf__max_depth': 5, 'rf__max_features': 15, 'rf__n_estimators': 10}\n",
      "Fitting 3 folds for each of 60 candidates, totalling 180 fits\n"
     ]
    },
    {
     "name": "stderr",
     "output_type": "stream",
     "text": [
      "[Parallel(n_jobs=2)]: Done 180 out of 180 | elapsed:    4.2s finished\n"
     ]
    },
    {
     "name": "stdout",
     "output_type": "stream",
     "text": [
      "Parameters:  {'rf__max_depth': 5, 'rf__max_features': 10, 'rf__n_estimators': 10}\n",
      "Fitting 3 folds for each of 60 candidates, totalling 180 fits\n"
     ]
    },
    {
     "name": "stderr",
     "output_type": "stream",
     "text": [
      "[Parallel(n_jobs=2)]: Done 180 out of 180 | elapsed:    3.5s finished\n"
     ]
    },
    {
     "name": "stdout",
     "output_type": "stream",
     "text": [
      "Parameters:  {'rf__max_depth': 5, 'rf__max_features': 15, 'rf__n_estimators': 10}\n",
      "Fitting 3 folds for each of 60 candidates, totalling 180 fits\n"
     ]
    },
    {
     "name": "stderr",
     "output_type": "stream",
     "text": [
      "[Parallel(n_jobs=2)]: Done 180 out of 180 | elapsed:    3.7s finished\n"
     ]
    },
    {
     "name": "stdout",
     "output_type": "stream",
     "text": [
      "Parameters:  {'rf__max_depth': 5, 'rf__max_features': 15, 'rf__n_estimators': 10}\n",
      "Fitting 3 folds for each of 60 candidates, totalling 180 fits\n"
     ]
    },
    {
     "name": "stderr",
     "output_type": "stream",
     "text": [
      "[Parallel(n_jobs=2)]: Done 180 out of 180 | elapsed:    3.8s finished\n"
     ]
    },
    {
     "name": "stdout",
     "output_type": "stream",
     "text": [
      "Parameters:  {'rf__max_depth': 5, 'rf__max_features': 10, 'rf__n_estimators': 10}\n",
      "Fitting 3 folds for each of 60 candidates, totalling 180 fits\n"
     ]
    },
    {
     "name": "stderr",
     "output_type": "stream",
     "text": [
      "[Parallel(n_jobs=2)]: Done 180 out of 180 | elapsed:    3.5s finished\n"
     ]
    },
    {
     "name": "stdout",
     "output_type": "stream",
     "text": [
      "Parameters:  {'rf__max_depth': 5, 'rf__max_features': 10, 'rf__n_estimators': 10}\n",
      "Fitting 3 folds for each of 60 candidates, totalling 180 fits\n",
      "Parameters:  {'rf__max_depth': 7, 'rf__max_features': 10, 'rf__n_estimators': 7}\n",
      "Fitting 3 folds for each of 60 candidates, totalling 180 fits\n"
     ]
    },
    {
     "name": "stderr",
     "output_type": "stream",
     "text": [
      "[Parallel(n_jobs=2)]: Done 180 out of 180 | elapsed:    3.9s finished\n"
     ]
    },
    {
     "name": "stdout",
     "output_type": "stream",
     "text": [
      "Parameters:  {'rf__max_depth': 5, 'rf__max_features': 10, 'rf__n_estimators': 10}\n",
      "Fitting 3 folds for each of 60 candidates, totalling 180 fits\n"
     ]
    },
    {
     "name": "stderr",
     "output_type": "stream",
     "text": [
      "[Parallel(n_jobs=2)]: Done 180 out of 180 | elapsed:    4.2s finished\n"
     ]
    },
    {
     "name": "stdout",
     "output_type": "stream",
     "text": [
      "Parameters:  {'rf__max_depth': 5, 'rf__max_features': 10, 'rf__n_estimators': 10}\n",
      "Fitting 3 folds for each of 60 candidates, totalling 180 fits\n"
     ]
    },
    {
     "name": "stderr",
     "output_type": "stream",
     "text": [
      "[Parallel(n_jobs=2)]: Done 180 out of 180 | elapsed:    3.6s finished\n",
      "[Parallel(n_jobs=2)]: Done 180 out of 180 | elapsed:    3.6s finished\n"
     ]
    },
    {
     "name": "stdout",
     "output_type": "stream",
     "text": [
      "Parameters:  {'rf__max_depth': 5, 'rf__max_features': 15, 'rf__n_estimators': 10}\n",
      "Fitting 3 folds for each of 60 candidates, totalling 180 fits\n"
     ]
    },
    {
     "name": "stderr",
     "output_type": "stream",
     "text": [
      "[Parallel(n_jobs=2)]: Done 180 out of 180 | elapsed:    3.4s finished\n"
     ]
    },
    {
     "name": "stdout",
     "output_type": "stream",
     "text": [
      "Parameters:  {'rf__max_depth': 5, 'rf__max_features': 15, 'rf__n_estimators': 10}\n",
      "Fitting 3 folds for each of 60 candidates, totalling 180 fits\n"
     ]
    },
    {
     "name": "stderr",
     "output_type": "stream",
     "text": [
      "[Parallel(n_jobs=2)]: Done 180 out of 180 | elapsed:    3.5s finished\n"
     ]
    },
    {
     "name": "stdout",
     "output_type": "stream",
     "text": [
      "Parameters:  {'rf__max_depth': 5, 'rf__max_features': 15, 'rf__n_estimators': 10}\n",
      "Fitting 3 folds for each of 60 candidates, totalling 180 fits\n"
     ]
    },
    {
     "name": "stderr",
     "output_type": "stream",
     "text": [
      "[Parallel(n_jobs=2)]: Done 180 out of 180 | elapsed:    4.3s finished\n"
     ]
    },
    {
     "name": "stdout",
     "output_type": "stream",
     "text": [
      "Parameters:  {'rf__max_depth': 5, 'rf__max_features': 15, 'rf__n_estimators': 10}\n",
      "Fitting 3 folds for each of 60 candidates, totalling 180 fits\n",
      "Parameters:  {'rf__max_depth': 7, 'rf__max_features': 10, 'rf__n_estimators': 10}\n",
      "Fitting 3 folds for each of 60 candidates, totalling 180 fits\n"
     ]
    },
    {
     "name": "stderr",
     "output_type": "stream",
     "text": [
      "[Parallel(n_jobs=2)]: Done 180 out of 180 | elapsed:    3.8s finished\n"
     ]
    },
    {
     "name": "stdout",
     "output_type": "stream",
     "text": [
      "Parameters:  {'rf__max_depth': 5, 'rf__max_features': 15, 'rf__n_estimators': 10}\n"
     ]
    },
    {
     "name": "stderr",
     "output_type": "stream",
     "text": [
      "[Parallel(n_jobs=2)]: Done 180 out of 180 | elapsed:    3.7s finished\n"
     ]
    }
   ],
   "source": [
    "rf_train_scores = []\n",
    "rf_test_scores = []\n",
    "for i in range(20):\n",
    "    train = pd.read_csv(DATA_PROCESSED + \"train_test_sets/train_{}.tab.csv\".format(i), sep=\"\\t\", index_col=\"MUTANT\")\n",
    "    test = pd.read_csv(DATA_PROCESSED + \"train_test_sets/test_{}.tab.csv\".format(i), sep=\"\\t\", index_col=\"MUTANT\")\n",
    "    X_train = train.drop(\"TYPE\", 1)\n",
    "    y_train = train.TYPE\n",
    "    X_test = test.drop(\"TYPE\", 1)\n",
    "    y_test = test.TYPE\n",
    "    le = LabelEncoder().fit(y_train)\n",
    "    gs.fit(X_train, le.transform(y_train))\n",
    "    print(\"Parameters: \", gs.best_params_)\n",
    "#     print(\"Score train ({}): {}\".format(i, gs.best_score_))\n",
    "    rf = gs.best_estimator_\n",
    "    y_pred = rf.predict(X_test)\n",
    "    test_score = roc_auc_score(le.transform(y_test), y_pred)\n",
    "#     print(\"Score test ({}): {}\".format(i, score))\n",
    "    rf_test_scores.append(test_score)\n",
    "    rf_train_scores.append(gs.best_score_)"
   ]
  },
  {
   "cell_type": "code",
   "execution_count": 179,
   "metadata": {
    "ExecuteTime": {
     "end_time": "2018-01-25T22:43:33.561392Z",
     "start_time": "2018-01-25T22:43:33.541691Z"
    }
   },
   "outputs": [
    {
     "name": "stdout",
     "output_type": "stream",
     "text": [
      "MEAN:  0.947033968369\n",
      "STDDEV:  0.00373221597079\n"
     ]
    }
   ],
   "source": [
    "print(\"MEAN: \", np.mean(rf_train_scores))\n",
    "print(\"STDDEV: \", np.std(rf_train_scores))"
   ]
  },
  {
   "cell_type": "code",
   "execution_count": 180,
   "metadata": {
    "ExecuteTime": {
     "end_time": "2018-01-25T22:43:36.456235Z",
     "start_time": "2018-01-25T22:43:36.450070Z"
    }
   },
   "outputs": [
    {
     "name": "stdout",
     "output_type": "stream",
     "text": [
      "MEAN:  0.654076848476\n",
      "STDDEV:  0.00971862763065\n"
     ]
    }
   ],
   "source": [
    "print(\"MEAN: \", np.mean(rf_test_scores))\n",
    "print(\"STDDEV: \", np.std(rf_test_scores))"
   ]
  },
  {
   "cell_type": "code",
   "execution_count": 37,
   "metadata": {},
   "outputs": [
    {
     "name": "stdout",
     "output_type": "stream",
     "text": [
      "('MEAN: ', 0.72969057324016551)\n",
      "('STDDEV: ', 0.015551354855780321)\n"
     ]
    }
   ],
   "source": [
    "print(\"MEAN: \", np.mean(rf_test_scores))\n",
    "print(\"STDDEV: \", np.std(rf_test_scores))"
   ]
  },
  {
   "cell_type": "code",
   "execution_count": 32,
   "metadata": {},
   "outputs": [
    {
     "name": "stdout",
     "output_type": "stream",
     "text": [
      "MEAN:  0.686163625776\n",
      "STDDEV:  0.0153715857644\n"
     ]
    }
   ],
   "source": [
    "print(\"MEAN: \", np.mean(test_scores))\n",
    "print(\"STDDEV: \", np.std(test_scores))"
   ]
  },
  {
   "cell_type": "code",
   "execution_count": 181,
   "metadata": {
    "ExecuteTime": {
     "end_time": "2018-01-25T22:43:39.338803Z",
     "start_time": "2018-01-25T22:43:39.044857Z"
    },
    "scrolled": false
   },
   "outputs": [
    {
     "data": {
      "image/png": "[encoded data removed]",
      "text/plain": [
       "<matplotlib.figure.Figure at 0x7fc97c58c8d0>"
      ]
     },
     "metadata": {},
     "output_type": "display_data"
    }
   ],
   "source": [
    "importances = [(X_train.columns[e], x) for e, x in enumerate(rf.steps[1][1].feature_importances_)]\n",
    "importances.sort(key=operator.itemgetter(1), reverse=True)\n",
    "figsize(20,6)\n",
    "plt.title(\"Feature importances\", fontsize=16)\n",
    "plt.bar(np.arange(len(importances)), [y for x, y in importances], color=\"g\", align=\"center\")\n",
    "plt.xticks(range(len(importances)), [x for x, y in importances], rotation='vertical', fontsize=16)\n",
    "# plt.xlim([0, range(len(importances))])\n",
    "plt.show()"
   ]
  },
  {
   "cell_type": "markdown",
   "metadata": {},
   "source": [
    "#### Y los unclassified?"
   ]
  },
  {
   "cell_type": "code",
   "execution_count": 39,
   "metadata": {
    "scrolled": true
   },
   "outputs": [
    {
     "data": {
      "text/plain": [
       "Disease         434\n",
       "Polymorphism    170\n",
       "dtype: int64"
      ]
     },
     "execution_count": 39,
     "metadata": {},
     "output_type": "execute_result"
    }
   ],
   "source": [
    "pd.Series(le.inverse_transform(rf.predict(dataset.loc[unclassified_index].drop(\"TYPE\", 1)))).value_counts()"
   ]
  },
  {
   "cell_type": "markdown",
   "metadata": {},
   "source": [
    "#### Support Vector Classifier"
   ]
  },
  {
   "cell_type": "code",
   "execution_count": 18,
   "metadata": {
    "ExecuteTime": {
     "end_time": "2018-01-25T20:40:31.151015Z",
     "start_time": "2018-01-25T20:40:31.141677Z"
    },
    "collapsed": true
   },
   "outputs": [],
   "source": [
    "algorithm = 'svc'\n",
    "model = Pipeline([('imputer', Imputer(missing_values=\"NaN\", strategy=\"median\")), \n",
    "                  ('scale', StandardScaler()), \n",
    "                  model_dict[algorithm]['pipe']])\n",
    "param_list = [model_dict[algorithm]['params']][0]\n",
    "gs = GridSearchCV(model, param_list, cv=3, n_jobs=2, scoring='roc_auc', verbose=1, refit=True)"
   ]
  },
  {
   "cell_type": "code",
   "execution_count": 19,
   "metadata": {
    "ExecuteTime": {
     "end_time": "2018-01-25T20:57:36.437877Z",
     "start_time": "2018-01-25T20:40:31.822532Z"
    }
   },
   "outputs": [
    {
     "name": "stdout",
     "output_type": "stream",
     "text": [
      "Fitting 3 folds for each of 20 candidates, totalling 60 fits\n"
     ]
    },
    {
     "name": "stderr",
     "output_type": "stream",
     "text": [
      "[Parallel(n_jobs=2)]: Done  46 tasks      | elapsed:   36.8s\n",
      "[Parallel(n_jobs=2)]: Done  60 out of  60 | elapsed:   44.9s finished\n"
     ]
    },
    {
     "name": "stdout",
     "output_type": "stream",
     "text": [
      "Fitting 3 folds for each of 20 candidates, totalling 60 fits\n"
     ]
    },
    {
     "name": "stderr",
     "output_type": "stream",
     "text": [
      "[Parallel(n_jobs=2)]: Done  46 tasks      | elapsed:   35.4s\n",
      "[Parallel(n_jobs=2)]: Done  60 out of  60 | elapsed:   43.6s finished\n"
     ]
    },
    {
     "name": "stdout",
     "output_type": "stream",
     "text": [
      "Fitting 3 folds for each of 20 candidates, totalling 60 fits\n"
     ]
    },
    {
     "name": "stderr",
     "output_type": "stream",
     "text": [
      "[Parallel(n_jobs=2)]: Done  46 tasks      | elapsed:   38.4s\n",
      "[Parallel(n_jobs=2)]: Done  60 out of  60 | elapsed:   47.1s finished\n"
     ]
    },
    {
     "name": "stdout",
     "output_type": "stream",
     "text": [
      "Fitting 3 folds for each of 20 candidates, totalling 60 fits\n"
     ]
    },
    {
     "name": "stderr",
     "output_type": "stream",
     "text": [
      "[Parallel(n_jobs=2)]: Done  46 tasks      | elapsed:   37.9s\n",
      "[Parallel(n_jobs=2)]: Done  60 out of  60 | elapsed:   46.4s finished\n"
     ]
    },
    {
     "name": "stdout",
     "output_type": "stream",
     "text": [
      "Fitting 3 folds for each of 20 candidates, totalling 60 fits\n"
     ]
    },
    {
     "name": "stderr",
     "output_type": "stream",
     "text": [
      "[Parallel(n_jobs=2)]: Done  46 tasks      | elapsed:   38.7s\n",
      "[Parallel(n_jobs=2)]: Done  60 out of  60 | elapsed:   46.8s finished\n"
     ]
    },
    {
     "name": "stdout",
     "output_type": "stream",
     "text": [
      "Fitting 3 folds for each of 20 candidates, totalling 60 fits\n"
     ]
    },
    {
     "name": "stderr",
     "output_type": "stream",
     "text": [
      "[Parallel(n_jobs=2)]: Done  46 tasks      | elapsed:   39.8s\n",
      "[Parallel(n_jobs=2)]: Done  60 out of  60 | elapsed:   48.5s finished\n"
     ]
    },
    {
     "name": "stdout",
     "output_type": "stream",
     "text": [
      "Fitting 3 folds for each of 20 candidates, totalling 60 fits\n"
     ]
    },
    {
     "name": "stderr",
     "output_type": "stream",
     "text": [
      "[Parallel(n_jobs=2)]: Done  46 tasks      | elapsed:   38.6s\n",
      "[Parallel(n_jobs=2)]: Done  60 out of  60 | elapsed:   47.8s finished\n"
     ]
    },
    {
     "name": "stdout",
     "output_type": "stream",
     "text": [
      "Fitting 3 folds for each of 20 candidates, totalling 60 fits\n"
     ]
    },
    {
     "name": "stderr",
     "output_type": "stream",
     "text": [
      "[Parallel(n_jobs=2)]: Done  46 tasks      | elapsed:   42.3s\n",
      "[Parallel(n_jobs=2)]: Done  60 out of  60 | elapsed:   51.8s finished\n"
     ]
    },
    {
     "name": "stdout",
     "output_type": "stream",
     "text": [
      "Fitting 3 folds for each of 20 candidates, totalling 60 fits\n"
     ]
    },
    {
     "name": "stderr",
     "output_type": "stream",
     "text": [
      "[Parallel(n_jobs=2)]: Done  46 tasks      | elapsed:   39.4s\n",
      "[Parallel(n_jobs=2)]: Done  60 out of  60 | elapsed:   50.0s finished\n"
     ]
    },
    {
     "name": "stdout",
     "output_type": "stream",
     "text": [
      "Fitting 3 folds for each of 20 candidates, totalling 60 fits\n"
     ]
    },
    {
     "name": "stderr",
     "output_type": "stream",
     "text": [
      "[Parallel(n_jobs=2)]: Done  46 tasks      | elapsed:   51.6s\n",
      "[Parallel(n_jobs=2)]: Done  60 out of  60 | elapsed:  1.0min finished\n"
     ]
    },
    {
     "name": "stdout",
     "output_type": "stream",
     "text": [
      "Fitting 3 folds for each of 20 candidates, totalling 60 fits\n"
     ]
    },
    {
     "name": "stderr",
     "output_type": "stream",
     "text": [
      "[Parallel(n_jobs=2)]: Done  46 tasks      | elapsed:   37.1s\n",
      "[Parallel(n_jobs=2)]: Done  60 out of  60 | elapsed:   47.3s finished\n"
     ]
    },
    {
     "name": "stdout",
     "output_type": "stream",
     "text": [
      "Fitting 3 folds for each of 20 candidates, totalling 60 fits\n"
     ]
    },
    {
     "name": "stderr",
     "output_type": "stream",
     "text": [
      "[Parallel(n_jobs=2)]: Done  46 tasks      | elapsed:   50.5s\n",
      "[Parallel(n_jobs=2)]: Done  60 out of  60 | elapsed:   59.0s finished\n"
     ]
    },
    {
     "name": "stdout",
     "output_type": "stream",
     "text": [
      "Fitting 3 folds for each of 20 candidates, totalling 60 fits\n"
     ]
    },
    {
     "name": "stderr",
     "output_type": "stream",
     "text": [
      "[Parallel(n_jobs=2)]: Done  46 tasks      | elapsed:   37.9s\n",
      "[Parallel(n_jobs=2)]: Done  60 out of  60 | elapsed:   47.7s finished\n"
     ]
    },
    {
     "name": "stdout",
     "output_type": "stream",
     "text": [
      "Fitting 3 folds for each of 20 candidates, totalling 60 fits\n"
     ]
    },
    {
     "name": "stderr",
     "output_type": "stream",
     "text": [
      "[Parallel(n_jobs=2)]: Done  46 tasks      | elapsed:   36.1s\n",
      "[Parallel(n_jobs=2)]: Done  60 out of  60 | elapsed:   44.4s finished\n"
     ]
    },
    {
     "name": "stdout",
     "output_type": "stream",
     "text": [
      "Fitting 3 folds for each of 20 candidates, totalling 60 fits\n"
     ]
    },
    {
     "name": "stderr",
     "output_type": "stream",
     "text": [
      "[Parallel(n_jobs=2)]: Done  46 tasks      | elapsed:   39.0s\n",
      "[Parallel(n_jobs=2)]: Done  60 out of  60 | elapsed:   47.7s finished\n"
     ]
    },
    {
     "name": "stdout",
     "output_type": "stream",
     "text": [
      "Fitting 3 folds for each of 20 candidates, totalling 60 fits\n"
     ]
    },
    {
     "name": "stderr",
     "output_type": "stream",
     "text": [
      "[Parallel(n_jobs=2)]: Done  46 tasks      | elapsed:   43.9s\n",
      "[Parallel(n_jobs=2)]: Done  60 out of  60 | elapsed:   54.0s finished\n"
     ]
    },
    {
     "name": "stdout",
     "output_type": "stream",
     "text": [
      "Fitting 3 folds for each of 20 candidates, totalling 60 fits\n"
     ]
    },
    {
     "name": "stderr",
     "output_type": "stream",
     "text": [
      "[Parallel(n_jobs=2)]: Done  46 tasks      | elapsed:   46.1s\n",
      "[Parallel(n_jobs=2)]: Done  60 out of  60 | elapsed:   56.8s finished\n"
     ]
    },
    {
     "name": "stdout",
     "output_type": "stream",
     "text": [
      "Fitting 3 folds for each of 20 candidates, totalling 60 fits\n"
     ]
    },
    {
     "name": "stderr",
     "output_type": "stream",
     "text": [
      "[Parallel(n_jobs=2)]: Done  46 tasks      | elapsed:   38.1s\n",
      "[Parallel(n_jobs=2)]: Done  60 out of  60 | elapsed:   47.2s finished\n"
     ]
    },
    {
     "name": "stdout",
     "output_type": "stream",
     "text": [
      "Fitting 3 folds for each of 20 candidates, totalling 60 fits\n"
     ]
    },
    {
     "name": "stderr",
     "output_type": "stream",
     "text": [
      "[Parallel(n_jobs=2)]: Done  46 tasks      | elapsed:   41.2s\n",
      "[Parallel(n_jobs=2)]: Done  60 out of  60 | elapsed:   49.3s finished\n"
     ]
    },
    {
     "name": "stdout",
     "output_type": "stream",
     "text": [
      "Fitting 3 folds for each of 20 candidates, totalling 60 fits\n"
     ]
    },
    {
     "name": "stderr",
     "output_type": "stream",
     "text": [
      "[Parallel(n_jobs=2)]: Done  46 tasks      | elapsed:   35.5s\n",
      "[Parallel(n_jobs=2)]: Done  60 out of  60 | elapsed:   43.3s finished\n"
     ]
    }
   ],
   "source": [
    "svc_train_scores = []\n",
    "svc_test_scores = []\n",
    "for i in range(20):\n",
    "    train = pd.read_csv(DATA_PROCESSED + \"train_test_sets/train_{}.tab.csv\".format(i), sep=\"\\t\", index_col=\"MUTANT\")\n",
    "    test = pd.read_csv(DATA_PROCESSED + \"train_test_sets/test_{}.tab.csv\".format(i), sep=\"\\t\", index_col=\"MUTANT\")\n",
    "    X_train = train.drop(\"TYPE\", 1)\n",
    "    y_train = train.TYPE\n",
    "    X_test = test.drop(\"TYPE\", 1)\n",
    "    y_test = test.TYPE\n",
    "    le = LabelEncoder().fit(y_train)\n",
    "    gs.fit(X_train, le.transform(y_train))\n",
    "#     print(\"Score train ({}): {}\".format(i, gs.best_score_))\n",
    "    svc = gs.best_estimator_\n",
    "    y_pred = svc.predict(X_test)\n",
    "    score = roc_auc_score(le.transform(y_test), y_pred)\n",
    "#     print(\"Score test ({}): {}\".format(i, score))\n",
    "    svc_train_scores.append(gs.best_score_)\n",
    "    svc_test_scores.append(score)"
   ]
  },
  {
   "cell_type": "code",
   "execution_count": 20,
   "metadata": {
    "ExecuteTime": {
     "end_time": "2018-01-25T21:02:41.592395Z",
     "start_time": "2018-01-25T21:02:41.586070Z"
    }
   },
   "outputs": [
    {
     "name": "stdout",
     "output_type": "stream",
     "text": [
      "MEAN:  0.926119033333\n",
      "STDDEV:  0.00312282080089\n"
     ]
    }
   ],
   "source": [
    "print(\"MEAN: \", np.mean(svc_train_scores))\n",
    "print(\"STDDEV: \", np.std(svc_train_scores))"
   ]
  },
  {
   "cell_type": "code",
   "execution_count": 42,
   "metadata": {},
   "outputs": [
    {
     "name": "stdout",
     "output_type": "stream",
     "text": [
      "('MEAN: ', 0.78233960000000002)\n",
      "('STDDEV: ', 0.0054555224473310905)\n"
     ]
    }
   ],
   "source": [
    "print(\"MEAN: \", np.mean(svc_train_scores))\n",
    "print(\"STDDEV: \", np.std(svc_train_scores))"
   ]
  },
  {
   "cell_type": "code",
   "execution_count": 46,
   "metadata": {},
   "outputs": [
    {
     "name": "stdout",
     "output_type": "stream",
     "text": [
      "MEAN:  0.715766533333\n",
      "STDDEV:  0.0063637597678\n"
     ]
    }
   ],
   "source": [
    "print(\"MEAN: \", np.mean(svc_train_scores))\n",
    "print(\"STDDEV: \", np.std(svc_train_scores))"
   ]
  },
  {
   "cell_type": "code",
   "execution_count": 21,
   "metadata": {
    "ExecuteTime": {
     "end_time": "2018-01-25T21:02:55.379324Z",
     "start_time": "2018-01-25T21:02:55.372991Z"
    },
    "scrolled": false
   },
   "outputs": [
    {
     "name": "stdout",
     "output_type": "stream",
     "text": [
      "MEAN:  0.620360701346\n",
      "STDDEV:  0.019505474099\n"
     ]
    }
   ],
   "source": [
    "print(\"MEAN: \", np.mean(svc_test_scores))\n",
    "print(\"STDDEV: \", np.std(svc_test_scores))"
   ]
  },
  {
   "cell_type": "code",
   "execution_count": 62,
   "metadata": {
    "collapsed": true
   },
   "outputs": [],
   "source": [
    "y_proba = pd.DataFrame(svc.predict_proba(X_test))[0]"
   ]
  },
  {
   "cell_type": "code",
   "execution_count": 64,
   "metadata": {
    "collapsed": true
   },
   "outputs": [],
   "source": [
    "svc_results = pd.DataFrame({\"y_pred\": y_pred, \"y_true\": le.transform(y_test), \"score\": y_proba})"
   ]
  },
  {
   "cell_type": "code",
   "execution_count": 65,
   "metadata": {
    "collapsed": true
   },
   "outputs": [],
   "source": [
    "svc_results.to_csv(\"../results/svc_results.csv\", index=False)"
   ]
  }
 ],
 "metadata": {
  "kernelspec": {
   "display_name": "Python 3",
   "language": "python",
   "name": "python3"
  },
  "language_info": {
   "codemirror_mode": {
    "name": "ipython",
    "version": 3
   },
   "file_extension": ".py",
   "mimetype": "text/x-python",
   "name": "python",
   "nbconvert_exporter": "python",
   "pygments_lexer": "ipython3",
   "version": "3.6.3"
  }
 },
 "nbformat": 4,
 "nbformat_minor": 2
}
