{
 "cells": [
  {
   "cell_type": "code",
   "execution_count": 1,
   "metadata": {
    "ExecuteTime": {
     "end_time": "2018-09-02T14:21:58.511937Z",
     "start_time": "2018-09-02T14:21:57.748739Z"
    },
    "collapsed": true
   },
   "outputs": [],
   "source": [
    "import operator\n",
    "import pandas as pd\n",
    "import matplotlib.pyplot as plt\n",
    "import seaborn as sns\n",
    "import numpy as np\n",
    "\n",
    "from sklearn import feature_selection\n",
    "from sklearn.base import BaseEstimator, TransformerMixin\n",
    "from sklearn.ensemble import RandomForestClassifier, AdaBoostClassifier\n",
    "from sklearn.ensemble import GradientBoostingClassifier\n",
    "from sklearn.linear_model import LogisticRegression\n",
    "from sklearn.svm import SVC\n",
    "\n",
    "from sklearn.pipeline import Pipeline, make_pipeline\n",
    "from sklearn.pipeline import FeatureUnion\n",
    "from sklearn.preprocessing import StandardScaler, RobustScaler, Imputer, LabelEncoder\n",
    "from sklearn.model_selection import GridSearchCV, RandomizedSearchCV, train_test_split, StratifiedKFold\n",
    "from sklearn.metrics import confusion_matrix, classification_report, roc_curve, auc\n",
    "from sklearn.metrics import accuracy_score, f1_score, roc_auc_score\n",
    "\n",
    "from IPython.core.pylabtools import figsize \n",
    "%matplotlib inline"
   ]
  },
  {
   "cell_type": "code",
   "execution_count": 2,
   "metadata": {
    "ExecuteTime": {
     "end_time": "2018-09-02T14:22:02.772247Z",
     "start_time": "2018-09-02T14:22:02.766455Z"
    },
    "collapsed": true
   },
   "outputs": [],
   "source": [
    "class ItemSelector(BaseEstimator, TransformerMixin):\n",
    "    def __init__(self, key):\n",
    "        self.key = key\n",
    "\n",
    "    def fit(self, x, y=None):\n",
    "        return self\n",
    "\n",
    "    def transform(self, data_dict):\n",
    "        return data_dict[self.key]"
   ]
  },
  {
   "cell_type": "code",
   "execution_count": 3,
   "metadata": {
    "ExecuteTime": {
     "end_time": "2018-09-02T14:22:03.499414Z",
     "start_time": "2018-09-02T14:22:03.495231Z"
    },
    "collapsed": true
   },
   "outputs": [],
   "source": [
    "RANDOM_STATE = 42"
   ]
  },
  {
   "cell_type": "code",
   "execution_count": 4,
   "metadata": {
    "ExecuteTime": {
     "end_time": "2018-09-02T14:22:05.517802Z",
     "start_time": "2018-09-02T14:22:04.615496Z"
    },
    "collapsed": true
   },
   "outputs": [],
   "source": [
    "integral = pd.read_csv(\"../data/processed/integral/dataset.csv.gz\", index_col=\"MUTANT\").drop(\"TYPE\", 1)\n",
    "\n",
    "# genomic = pd.read_csv(\"../data/processed/genomic/dataset.csv.gz\", index_col='MUTANT').drop(\"TYPE\", 1)\n",
    "varq = pd.read_csv(\"../data/processed/varq/dataset.csv.gz\", index_col=\"MUTANT\")\n",
    "\n",
    "full = varq.merge(integral, right_index=True, left_index=True, how=\"left\")"
   ]
  },
  {
   "cell_type": "code",
   "execution_count": 5,
   "metadata": {
    "ExecuteTime": {
     "end_time": "2018-09-02T14:22:06.323935Z",
     "start_time": "2018-09-02T14:22:06.309894Z"
    },
    "scrolled": true
   },
   "outputs": [
    {
     "data": {
      "text/plain": [
       "(68508, 64)"
      ]
     },
     "execution_count": 5,
     "metadata": {},
     "output_type": "execute_result"
    }
   ],
   "source": [
    "integral.shape"
   ]
  },
  {
   "cell_type": "code",
   "execution_count": 6,
   "metadata": {
    "ExecuteTime": {
     "end_time": "2018-09-02T14:22:07.123056Z",
     "start_time": "2018-09-02T14:22:07.118520Z"
    }
   },
   "outputs": [
    {
     "data": {
      "text/plain": [
       "(7418, 74)"
      ]
     },
     "execution_count": 6,
     "metadata": {},
     "output_type": "execute_result"
    }
   ],
   "source": [
    "full.shape"
   ]
  },
  {
   "cell_type": "code",
   "execution_count": 7,
   "metadata": {
    "ExecuteTime": {
     "end_time": "2018-09-02T14:22:07.738695Z",
     "start_time": "2018-09-02T14:22:07.730316Z"
    },
    "scrolled": true
   },
   "outputs": [
    {
     "data": {
      "text/plain": [
       "(7418, 74)"
      ]
     },
     "execution_count": 7,
     "metadata": {},
     "output_type": "execute_result"
    }
   ],
   "source": [
    "full.shape"
   ]
  },
  {
   "cell_type": "code",
   "execution_count": 8,
   "metadata": {
    "ExecuteTime": {
     "end_time": "2018-09-02T14:22:08.535848Z",
     "start_time": "2018-09-02T14:22:08.529010Z"
    }
   },
   "outputs": [
    {
     "data": {
      "text/plain": [
       "Pathogenic    5377\n",
       "Benign        2041\n",
       "Name: TYPE, dtype: int64"
      ]
     },
     "execution_count": 8,
     "metadata": {},
     "output_type": "execute_result"
    }
   ],
   "source": [
    "full.TYPE.value_counts()"
   ]
  },
  {
   "cell_type": "code",
   "execution_count": 9,
   "metadata": {
    "ExecuteTime": {
     "end_time": "2018-09-02T14:22:09.379292Z",
     "start_time": "2018-09-02T14:22:09.137832Z"
    }
   },
   "outputs": [
    {
     "data": {
      "text/html": [
       "<div>\n",
       "<table border=\"1\" class=\"dataframe\">\n",
       "  <thead>\n",
       "    <tr style=\"text-align: right;\">\n",
       "      <th></th>\n",
       "      <th>SASA</th>\n",
       "      <th>SASA_PERCENTAGE</th>\n",
       "      <th>BFACTOR</th>\n",
       "      <th>SWITCHBILITY</th>\n",
       "      <th>AGGREGABILITY</th>\n",
       "      <th>CONSERVATION</th>\n",
       "      <th>VARIATION_ENERGY</th>\n",
       "      <th>CONS</th>\n",
       "      <th>SNP_DEN</th>\n",
       "      <th>HAPMAP_SNP_DEN</th>\n",
       "      <th>...</th>\n",
       "      <th>AROMATICITY_LOG_RATIO</th>\n",
       "      <th>ISOELECTRIC_POINT_DIFF</th>\n",
       "      <th>ISOELECTRIC_POINT_LOG_RATIO</th>\n",
       "      <th>GRAVY_DIFF</th>\n",
       "      <th>GRAVY_LOG_RATIO</th>\n",
       "      <th>INSTABILITY_INDEX_DIFF</th>\n",
       "      <th>INSTABILITY_INDEX_LOG_RATIO</th>\n",
       "      <th>FLEXIBILITY_DIFF</th>\n",
       "      <th>FLEXIBILITY_LOG_RATIO</th>\n",
       "      <th>random</th>\n",
       "    </tr>\n",
       "  </thead>\n",
       "  <tbody>\n",
       "    <tr>\n",
       "      <th>count</th>\n",
       "      <td>7070.000000</td>\n",
       "      <td>7070.000000</td>\n",
       "      <td>7070.000000</td>\n",
       "      <td>6704.000000</td>\n",
       "      <td>5335.000000</td>\n",
       "      <td>2742.000000</td>\n",
       "      <td>7418.000000</td>\n",
       "      <td>4744.000000</td>\n",
       "      <td>4744.000000</td>\n",
       "      <td>4744.000000</td>\n",
       "      <td>...</td>\n",
       "      <td>5118.000000</td>\n",
       "      <td>6644.000000</td>\n",
       "      <td>6644.000000</td>\n",
       "      <td>6644.000000</td>\n",
       "      <td>5.435000e+03</td>\n",
       "      <td>6644.000000</td>\n",
       "      <td>5846.000000</td>\n",
       "      <td>6613.000000</td>\n",
       "      <td>6613.000000</td>\n",
       "      <td>6644.000000</td>\n",
       "    </tr>\n",
       "    <tr>\n",
       "      <th>mean</th>\n",
       "      <td>32.105675</td>\n",
       "      <td>0.150610</td>\n",
       "      <td>56.445569</td>\n",
       "      <td>0.384835</td>\n",
       "      <td>5.017957</td>\n",
       "      <td>0.330460</td>\n",
       "      <td>2.914977</td>\n",
       "      <td>0.686224</td>\n",
       "      <td>0.076982</td>\n",
       "      <td>0.000110</td>\n",
       "      <td>...</td>\n",
       "      <td>1.985775</td>\n",
       "      <td>0.735431</td>\n",
       "      <td>2.005113</td>\n",
       "      <td>0.234660</td>\n",
       "      <td>2.364199e+12</td>\n",
       "      <td>13.451748</td>\n",
       "      <td>2.040824</td>\n",
       "      <td>0.009634</td>\n",
       "      <td>2.000381</td>\n",
       "      <td>0.497603</td>\n",
       "    </tr>\n",
       "    <tr>\n",
       "      <th>std</th>\n",
       "      <td>39.148405</td>\n",
       "      <td>0.176877</td>\n",
       "      <td>71.760154</td>\n",
       "      <td>0.890387</td>\n",
       "      <td>17.607171</td>\n",
       "      <td>0.188785</td>\n",
       "      <td>4.842729</td>\n",
       "      <td>0.089664</td>\n",
       "      <td>0.087754</td>\n",
       "      <td>0.000839</td>\n",
       "      <td>...</td>\n",
       "      <td>0.326575</td>\n",
       "      <td>0.981368</td>\n",
       "      <td>0.077378</td>\n",
       "      <td>0.173779</td>\n",
       "      <td>1.094083e+14</td>\n",
       "      <td>12.849963</td>\n",
       "      <td>1.012928</td>\n",
       "      <td>0.006929</td>\n",
       "      <td>0.008591</td>\n",
       "      <td>0.289586</td>\n",
       "    </tr>\n",
       "    <tr>\n",
       "      <th>min</th>\n",
       "      <td>0.000000</td>\n",
       "      <td>0.000000</td>\n",
       "      <td>0.000000</td>\n",
       "      <td>0.000000</td>\n",
       "      <td>0.000000</td>\n",
       "      <td>0.130000</td>\n",
       "      <td>-12.642100</td>\n",
       "      <td>0.388350</td>\n",
       "      <td>0.000000</td>\n",
       "      <td>0.000000</td>\n",
       "      <td>...</td>\n",
       "      <td>1.000000</td>\n",
       "      <td>0.000000</td>\n",
       "      <td>1.706712</td>\n",
       "      <td>0.000000</td>\n",
       "      <td>-1.416794e+02</td>\n",
       "      <td>0.001250</td>\n",
       "      <td>-35.097991</td>\n",
       "      <td>0.000003</td>\n",
       "      <td>1.972809</td>\n",
       "      <td>0.000132</td>\n",
       "    </tr>\n",
       "    <tr>\n",
       "      <th>25%</th>\n",
       "      <td>0.670000</td>\n",
       "      <td>0.000000</td>\n",
       "      <td>19.765000</td>\n",
       "      <td>0.000000</td>\n",
       "      <td>0.000000</td>\n",
       "      <td>0.250000</td>\n",
       "      <td>0.257785</td>\n",
       "      <td>0.623586</td>\n",
       "      <td>0.032110</td>\n",
       "      <td>0.000000</td>\n",
       "      <td>...</td>\n",
       "      <td>1.939356</td>\n",
       "      <td>0.000000</td>\n",
       "      <td>1.986984</td>\n",
       "      <td>0.093333</td>\n",
       "      <td>1.368368e+00</td>\n",
       "      <td>3.778750</td>\n",
       "      <td>1.958330</td>\n",
       "      <td>0.004088</td>\n",
       "      <td>1.994288</td>\n",
       "      <td>0.241831</td>\n",
       "    </tr>\n",
       "    <tr>\n",
       "      <th>50%</th>\n",
       "      <td>15.208000</td>\n",
       "      <td>0.070000</td>\n",
       "      <td>37.342500</td>\n",
       "      <td>0.009150</td>\n",
       "      <td>0.000000</td>\n",
       "      <td>0.300000</td>\n",
       "      <td>1.512550</td>\n",
       "      <td>0.700991</td>\n",
       "      <td>0.049020</td>\n",
       "      <td>0.000000</td>\n",
       "      <td>...</td>\n",
       "      <td>1.941036</td>\n",
       "      <td>0.237854</td>\n",
       "      <td>2.000000</td>\n",
       "      <td>0.202500</td>\n",
       "      <td>1.908269e+00</td>\n",
       "      <td>9.599583</td>\n",
       "      <td>2.006283</td>\n",
       "      <td>0.008247</td>\n",
       "      <td>2.000324</td>\n",
       "      <td>0.497808</td>\n",
       "    </tr>\n",
       "    <tr>\n",
       "      <th>75%</th>\n",
       "      <td>52.149250</td>\n",
       "      <td>0.270000</td>\n",
       "      <td>61.138125</td>\n",
       "      <td>0.277000</td>\n",
       "      <td>0.163000</td>\n",
       "      <td>0.370000</td>\n",
       "      <td>3.885900</td>\n",
       "      <td>0.757558</td>\n",
       "      <td>0.075804</td>\n",
       "      <td>0.000000</td>\n",
       "      <td>...</td>\n",
       "      <td>1.942567</td>\n",
       "      <td>1.341888</td>\n",
       "      <td>2.023071</td>\n",
       "      <td>0.341250</td>\n",
       "      <td>2.423760e+00</td>\n",
       "      <td>19.269896</td>\n",
       "      <td>2.092317</td>\n",
       "      <td>0.013802</td>\n",
       "      <td>2.006216</td>\n",
       "      <td>0.751297</td>\n",
       "    </tr>\n",
       "    <tr>\n",
       "      <th>max</th>\n",
       "      <td>246.410000</td>\n",
       "      <td>0.750000</td>\n",
       "      <td>755.610000</td>\n",
       "      <td>8.720000</td>\n",
       "      <td>100.000000</td>\n",
       "      <td>4.770000</td>\n",
       "      <td>57.513400</td>\n",
       "      <td>0.892079</td>\n",
       "      <td>0.536765</td>\n",
       "      <td>0.014085</td>\n",
       "      <td>...</td>\n",
       "      <td>3.662755</td>\n",
       "      <td>6.305908</td>\n",
       "      <td>2.445119</td>\n",
       "      <td>1.272222</td>\n",
       "      <td>7.318295e+15</td>\n",
       "      <td>105.402778</td>\n",
       "      <td>20.143583</td>\n",
       "      <td>0.038935</td>\n",
       "      <td>2.025499</td>\n",
       "      <td>0.999653</td>\n",
       "    </tr>\n",
       "  </tbody>\n",
       "</table>\n",
       "<p>8 rows × 71 columns</p>\n",
       "</div>"
      ],
      "text/plain": [
       "              SASA  SASA_PERCENTAGE      BFACTOR  SWITCHBILITY  AGGREGABILITY  \\\n",
       "count  7070.000000      7070.000000  7070.000000   6704.000000    5335.000000   \n",
       "mean     32.105675         0.150610    56.445569      0.384835       5.017957   \n",
       "std      39.148405         0.176877    71.760154      0.890387      17.607171   \n",
       "min       0.000000         0.000000     0.000000      0.000000       0.000000   \n",
       "25%       0.670000         0.000000    19.765000      0.000000       0.000000   \n",
       "50%      15.208000         0.070000    37.342500      0.009150       0.000000   \n",
       "75%      52.149250         0.270000    61.138125      0.277000       0.163000   \n",
       "max     246.410000         0.750000   755.610000      8.720000     100.000000   \n",
       "\n",
       "       CONSERVATION  VARIATION_ENERGY         CONS      SNP_DEN  \\\n",
       "count   2742.000000       7418.000000  4744.000000  4744.000000   \n",
       "mean       0.330460          2.914977     0.686224     0.076982   \n",
       "std        0.188785          4.842729     0.089664     0.087754   \n",
       "min        0.130000        -12.642100     0.388350     0.000000   \n",
       "25%        0.250000          0.257785     0.623586     0.032110   \n",
       "50%        0.300000          1.512550     0.700991     0.049020   \n",
       "75%        0.370000          3.885900     0.757558     0.075804   \n",
       "max        4.770000         57.513400     0.892079     0.536765   \n",
       "\n",
       "       HAPMAP_SNP_DEN     ...       AROMATICITY_LOG_RATIO  \\\n",
       "count     4744.000000     ...                 5118.000000   \n",
       "mean         0.000110     ...                    1.985775   \n",
       "std          0.000839     ...                    0.326575   \n",
       "min          0.000000     ...                    1.000000   \n",
       "25%          0.000000     ...                    1.939356   \n",
       "50%          0.000000     ...                    1.941036   \n",
       "75%          0.000000     ...                    1.942567   \n",
       "max          0.014085     ...                    3.662755   \n",
       "\n",
       "       ISOELECTRIC_POINT_DIFF  ISOELECTRIC_POINT_LOG_RATIO   GRAVY_DIFF  \\\n",
       "count             6644.000000                  6644.000000  6644.000000   \n",
       "mean                 0.735431                     2.005113     0.234660   \n",
       "std                  0.981368                     0.077378     0.173779   \n",
       "min                  0.000000                     1.706712     0.000000   \n",
       "25%                  0.000000                     1.986984     0.093333   \n",
       "50%                  0.237854                     2.000000     0.202500   \n",
       "75%                  1.341888                     2.023071     0.341250   \n",
       "max                  6.305908                     2.445119     1.272222   \n",
       "\n",
       "       GRAVY_LOG_RATIO  INSTABILITY_INDEX_DIFF  INSTABILITY_INDEX_LOG_RATIO  \\\n",
       "count     5.435000e+03             6644.000000                  5846.000000   \n",
       "mean      2.364199e+12               13.451748                     2.040824   \n",
       "std       1.094083e+14               12.849963                     1.012928   \n",
       "min      -1.416794e+02                0.001250                   -35.097991   \n",
       "25%       1.368368e+00                3.778750                     1.958330   \n",
       "50%       1.908269e+00                9.599583                     2.006283   \n",
       "75%       2.423760e+00               19.269896                     2.092317   \n",
       "max       7.318295e+15              105.402778                    20.143583   \n",
       "\n",
       "       FLEXIBILITY_DIFF  FLEXIBILITY_LOG_RATIO       random  \n",
       "count       6613.000000            6613.000000  6644.000000  \n",
       "mean           0.009634               2.000381     0.497603  \n",
       "std            0.006929               0.008591     0.289586  \n",
       "min            0.000003               1.972809     0.000132  \n",
       "25%            0.004088               1.994288     0.241831  \n",
       "50%            0.008247               2.000324     0.497808  \n",
       "75%            0.013802               2.006216     0.751297  \n",
       "max            0.038935               2.025499     0.999653  \n",
       "\n",
       "[8 rows x 71 columns]"
      ]
     },
     "execution_count": 9,
     "metadata": {},
     "output_type": "execute_result"
    }
   ],
   "source": [
    "full.describe()"
   ]
  },
  {
   "cell_type": "code",
   "execution_count": 10,
   "metadata": {
    "ExecuteTime": {
     "end_time": "2018-09-02T14:22:10.274105Z",
     "start_time": "2018-09-02T14:22:10.210036Z"
    },
    "collapsed": true
   },
   "outputs": [],
   "source": [
    "le = LabelEncoder()\n",
    "X = full[~full.TYPE.isnull()].drop(['TYPE'], 1)\n",
    "y = le.fit_transform(full[~full.TYPE.isnull()].TYPE)\n",
    "\n",
    "X_train, X_test, y_train, y_test = train_test_split(X, y, test_size=0.33, random_state=42, stratify=y)\n",
    "\n",
    "cat_vars_genomic = ['INTRON','MISSENSE', 'NEAR-GENE', 'NCRNA', 'CODING-SYNON', 'UNTRANSLATED',\n",
    "       'NONSENSE', 'SPLICE', 'STOP-LOSS']\n",
    "\n",
    "cat_vars_structural = ['BINDING','ACT_SITE','SITE','LIPID','METAL','CARBOHYD',\n",
    "                       'DNA_BIND','NP_BIND','CA_BIND','DISULFID','SE_CYS','MOD_RES','PROPEP','SIGNALP',\n",
    "                       'TRANSMEM','COMPBIAS','REP','MOTIF','ZN_FING','REGIONS','PPI','RNABD','TF','LOC',\n",
    "                       'MMBRBD','CHROM','POSTMODREC','POSTMODENZ']\n",
    "\n",
    "cat_vars_varq = [\"PDB\", \"3DID\"]\n",
    "\n",
    "cat_vars  = cat_vars_genomic + cat_vars_structural + cat_vars_varq\n",
    "cont_vars = X.columns.drop(cat_vars, 1).tolist()\n",
    "\n"
   ]
  },
  {
   "cell_type": "code",
   "execution_count": 11,
   "metadata": {
    "ExecuteTime": {
     "end_time": "2018-09-02T14:22:25.359034Z",
     "start_time": "2018-09-02T14:22:25.335382Z"
    },
    "collapsed": true
   },
   "outputs": [],
   "source": [
    "impute = ('union', \n",
    "          FeatureUnion(\n",
    "              transformer_list=[\n",
    "                  ('continuous', Pipeline([\n",
    "                      ('selector', ItemSelector(key=cont_vars)),\n",
    "                      ('imputer', Imputer(missing_values=\"NaN\", strategy=\"median\"))\n",
    "                  ])),\n",
    "                  ('categorical', Pipeline([\n",
    "                      ('selector', ItemSelector(key=cat_vars)),\n",
    "                      ('imputer', Imputer(missing_values=\"NaN\", strategy=\"most_frequent\"))\n",
    "                      \n",
    "                  ]))\n",
    "              ]))\n",
    "                  \n",
    "\n",
    "# impute = ('imputer', Imputer(missing_values=\"NaN\", strategy=\"median\"))\n",
    "scale = ('scaler', RobustScaler())\n",
    "\n",
    "model_dict = {\n",
    "    'lr':{'pipe':[impute, scale, ('lr', LogisticRegression())],\n",
    "        'params':[{'lr__C' : [.001, .01, .1, 1, 10, 100, 1000], 'lr__class_weight':[None, 'balanced']}],\n",
    "        'name':'LogisticRegression'\n",
    "    },\n",
    "    'rf':{'pipe':[impute, ('rf', RandomForestClassifier(random_state=RANDOM_STATE))],\n",
    "        'params':[{'rf__max_depth':[3,5,7], 'rf__n_estimators':[10,50,100], 'rf__max_features':[4,'sqrt',0.2]}],\n",
    "        'name':'Random Forest'\n",
    "    },\n",
    "    'svc':{'pipe': [impute, scale, ('svc', SVC(kernel='rbf'))],\n",
    "           'params':[{'svc__kernel': ['rbf'], 'svc__gamma': [1e-2, 1e-3, 1e-4, 1e-5],\n",
    "                'svc__C': [0.001, 0.10, 0.1, 10, 25, 50, 100, 1000]}]\n",
    "        \n",
    "    },\n",
    "}"
   ]
  },
  {
   "cell_type": "code",
   "execution_count": 13,
   "metadata": {
    "ExecuteTime": {
     "end_time": "2018-09-02T14:22:36.149276Z",
     "start_time": "2018-09-02T14:22:36.143365Z"
    },
    "collapsed": true
   },
   "outputs": [],
   "source": [
    "folds = 3\n",
    "skf = StratifiedKFold(n_splits=folds, shuffle=True, random_state=1001)\n",
    "algorithm = 'rf'\n",
    "model = Pipeline(model_dict[algorithm]['pipe'])\n",
    "param_list = [model_dict[algorithm]['params']][0]\n",
    "gs = GridSearchCV(model, param_list, cv=skf.split(X_train, y_train), n_jobs=3, \n",
    "                  scoring='roc_auc', verbose=1, refit=True)"
   ]
  },
  {
   "cell_type": "code",
   "execution_count": 14,
   "metadata": {
    "ExecuteTime": {
     "end_time": "2018-09-02T14:22:55.856954Z",
     "start_time": "2018-09-02T14:22:36.756512Z"
    }
   },
   "outputs": [
    {
     "name": "stdout",
     "output_type": "stream",
     "text": [
      "Fitting 3 folds for each of 27 candidates, totalling 81 fits\n"
     ]
    },
    {
     "name": "stderr",
     "output_type": "stream",
     "text": [
      "[Parallel(n_jobs=3)]: Done  65 tasks      | elapsed:   12.0s\n",
      "[Parallel(n_jobs=3)]: Done  81 out of  81 | elapsed:   17.3s finished\n"
     ]
    },
    {
     "data": {
      "text/plain": [
       "GridSearchCV(cv=<generator object _BaseKFold.split at 0x7f7df29344c0>,\n",
       "       error_score='raise',\n",
       "       estimator=Pipeline(memory=None,\n",
       "     steps=[('union', FeatureUnion(n_jobs=1,\n",
       "       transformer_list=[('continuous', Pipeline(memory=None,\n",
       "     steps=[('selector', ItemSelector(key=['SASA', 'SASA_PERCENTAGE', 'BFACTOR', 'SWITCHBILITY', 'AGGREGABILITY', 'CONSERVATION', 'VARIATION_ENERGY', 'CONS', 'SNP_DEN', 'HAPMAP_SNP_DEN', 'PHYLOP46WA...stimators=10, n_jobs=1,\n",
       "            oob_score=False, random_state=42, verbose=0, warm_start=False))]),\n",
       "       fit_params=None, iid=True, n_jobs=3,\n",
       "       param_grid=[{'rf__max_depth': [3, 5, 7], 'rf__n_estimators': [10, 50, 100], 'rf__max_features': [4, 'sqrt', 0.2]}],\n",
       "       pre_dispatch='2*n_jobs', refit=True, return_train_score='warn',\n",
       "       scoring='roc_auc', verbose=1)"
      ]
     },
     "execution_count": 14,
     "metadata": {},
     "output_type": "execute_result"
    }
   ],
   "source": [
    "gs.fit(X_train, y_train)"
   ]
  },
  {
   "cell_type": "code",
   "execution_count": 15,
   "metadata": {
    "ExecuteTime": {
     "end_time": "2018-09-02T14:23:36.047372Z",
     "start_time": "2018-09-02T14:23:36.044627Z"
    },
    "collapsed": true
   },
   "outputs": [],
   "source": [
    "rf = gs.best_estimator_"
   ]
  },
  {
   "cell_type": "code",
   "execution_count": 16,
   "metadata": {
    "ExecuteTime": {
     "end_time": "2018-09-02T14:23:36.678132Z",
     "start_time": "2018-09-02T14:23:36.672042Z"
    }
   },
   "outputs": [
    {
     "data": {
      "text/plain": [
       "0.8575028614245147"
      ]
     },
     "execution_count": 16,
     "metadata": {},
     "output_type": "execute_result"
    }
   ],
   "source": [
    "gs.best_score_"
   ]
  },
  {
   "cell_type": "code",
   "execution_count": 17,
   "metadata": {
    "ExecuteTime": {
     "end_time": "2018-09-02T14:23:41.235986Z",
     "start_time": "2018-09-02T14:23:40.886502Z"
    }
   },
   "outputs": [
    {
     "data": {
      "image/png": "[encoded data removed]",
      "text/plain": [
       "<matplotlib.figure.Figure at 0x7f7df2939668>"
      ]
     },
     "metadata": {},
     "output_type": "display_data"
    }
   ],
   "source": [
    "cols = (cont_vars + cat_vars)\n",
    "ranking_size = 10\n",
    "forest = rf.steps[1][1]\n",
    "\n",
    "importances = [(cols[e], x) for e, x in enumerate(forest.feature_importances_)]\n",
    "importances.sort(key=operator.itemgetter(1), reverse=True)\n",
    "indices = np.argsort(forest.feature_importances_)[:ranking_size]\n",
    "importances = importances[:ranking_size][::-1]\n",
    "std = np.std([tree.feature_importances_ for tree in forest.estimators_],axis=0)\n",
    "plt.figure(figsize=(8,6))\n",
    "plt.barh(np.arange(len(importances)), [y for x, y in importances], 0.6, color=\"green\", align=\"center\", \n",
    "         xerr=std[indices], ecolor=\"black\", error_kw={\"capthick\":2, \"capsize\":2})\n",
    "plt.yticks(range(len(importances)), [x for x, y in importances], rotation='horizontal', fontsize=16)\n",
    "plt.xlabel(\"Score\",fontsize=16)\n",
    "plt.xticks(fontsize=14)\n",
    "plt.tight_layout()\n",
    "\n",
    "plt.savefig(\"/home/marlan/Desktop/importances_varq_integral.pdf\", bbox_inches='tight', pad_inches=0.1)"
   ]
  },
  {
   "cell_type": "code",
   "execution_count": 18,
   "metadata": {
    "ExecuteTime": {
     "end_time": "2018-09-02T14:23:51.133127Z",
     "start_time": "2018-09-02T14:23:47.488181Z"
    },
    "collapsed": true
   },
   "outputs": [],
   "source": [
    "from rfpimp import importances, plot_importances\n",
    "imp = importances(rf, X_test, y_test) # permutation"
   ]
  },
  {
   "cell_type": "code",
   "execution_count": 20,
   "metadata": {
    "ExecuteTime": {
     "end_time": "2018-09-02T14:24:40.499566Z",
     "start_time": "2018-09-02T14:24:40.324288Z"
    }
   },
   "outputs": [
    {
     "data": {
      "image/png": "[encoded data removed]",
      "text/plain": [
       "<matplotlib.figure.Figure at 0x7f7df2268da0>"
      ]
     },
     "metadata": {},
     "output_type": "display_data"
    }
   ],
   "source": [
    "plot_importances(imp[:15])"
   ]
  },
  {
   "cell_type": "code",
   "execution_count": 21,
   "metadata": {
    "ExecuteTime": {
     "end_time": "2018-09-02T14:24:52.787918Z",
     "start_time": "2018-09-02T14:24:52.457838Z"
    }
   },
   "outputs": [
    {
     "data": {
      "image/png": "[encoded data removed]",
      "text/plain": [
       "<matplotlib.figure.Figure at 0x7f7df0665ef0>"
      ]
     },
     "metadata": {},
     "output_type": "display_data"
    }
   ],
   "source": [
    "fpr, tpr, _ = roc_curve(y_test, rf.predict_proba(X_test)[:, 1])\n",
    "roc_auc = auc(fpr, tpr)\n",
    "\n",
    "figsize(7,7)\n",
    "\n",
    "lw = 2\n",
    "plt.plot(fpr, tpr, color='darkorange',\n",
    "         lw=lw, label='Curva ROC (area = %0.2f)' % roc_auc)\n",
    "plt.plot([0, 1], [0, 1], color='navy', lw=lw, linestyle='--', label='Random')\n",
    "plt.xlim([0.0, 1.0])\n",
    "plt.ylim([0.0, 1.05])\n",
    "plt.xlabel('False Positive Rate', fontsize=16)\n",
    "plt.ylabel('True Positive Rate', fontsize=16)\n",
    "plt.xticks(fontsize=16)\n",
    "plt.yticks(fontsize=16)\n",
    "# plt.title('AUC Curve')\n",
    "plt.legend(loc=\"lower right\", prop={'size': 16})\n",
    "\n",
    "plt.savefig(\"/home/marlan/Desktop/auc_varq_integral.pdf\", bbox_inches='tight', pad_inches=0.1)"
   ]
  }
 ],
 "metadata": {
  "kernelspec": {
   "display_name": "Python 3",
   "language": "python",
   "name": "python3"
  },
  "language_info": {
   "codemirror_mode": {
    "name": "ipython",
    "version": 3
   },
   "file_extension": ".py",
   "mimetype": "text/x-python",
   "name": "python",
   "nbconvert_exporter": "python",
   "pygments_lexer": "ipython3",
   "version": "3.6.3"
  },
  "varInspector": {
   "cols": {
    "lenName": 16,
    "lenType": 16,
    "lenVar": 40
   },
   "kernels_config": {
    "python": {
     "delete_cmd_postfix": "",
     "delete_cmd_prefix": "del ",
     "library": "var_list.py",
     "varRefreshCmd": "print(var_dic_list())"
    },
    "r": {
     "delete_cmd_postfix": ") ",
     "delete_cmd_prefix": "rm(",
     "library": "var_list.r",
     "varRefreshCmd": "cat(var_dic_list()) "
    }
   },
   "types_to_exclude": [
    "module",
    "function",
    "builtin_function_or_method",
    "instance",
    "_Feature"
   ],
   "window_display": false
  }
 },
 "nbformat": 4,
 "nbformat_minor": 2
}
