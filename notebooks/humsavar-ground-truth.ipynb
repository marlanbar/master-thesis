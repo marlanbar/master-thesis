{
 "cells": [
  {
   "cell_type": "code",
   "execution_count": 1,
   "metadata": {
    "ExecuteTime": {
     "end_time": "2018-05-13T19:03:13.621171Z",
     "start_time": "2018-05-13T19:03:13.314868Z"
    },
    "collapsed": true
   },
   "outputs": [],
   "source": [
    "import pandas as pd\n",
    "import numpy as np"
   ]
  },
  {
   "cell_type": "markdown",
   "metadata": {},
   "source": [
    "## Humsavar Table"
   ]
  },
  {
   "cell_type": "code",
   "execution_count": null,
   "metadata": {
    "ExecuteTime": {
     "end_time": "2018-05-13T19:02:54.806446Z",
     "start_time": "2018-05-13T19:02:54.601170Z"
    },
    "collapsed": true
   },
   "outputs": [],
   "source": [
    "hum = pd.read_csv(\"../data/interim/humsavar_clean_201711.csv.gz\", sep=\",\")\n",
    "hum.columns = hum.columns.str.replace(\" \", \"_\")"
   ]
  },
  {
   "cell_type": "code",
   "execution_count": null,
   "metadata": {
    "ExecuteTime": {
     "end_time": "2018-05-13T19:02:55.586382Z",
     "start_time": "2018-05-13T19:02:55.565148Z"
    },
    "collapsed": true
   },
   "outputs": [],
   "source": [
    "#Correspondencia hecha por Santi\n",
    "AMINO_CODE = {\"Ala\": \"A\",\\\n",
    "              \"Arg\": \"R\",\\\n",
    "              \"Asn\": \"N\",\\\n",
    "              \"Asp\": \"D\",\\\n",
    "              \"Cys\": \"C\",\\\n",
    "              \"Gln\": \"Q\",\\\n",
    "              \"Glu\": \"E\",\\\n",
    "              \"Gly\": \"G\",\\\n",
    "              \"His\": \"H\",\\\n",
    "              \"Ile\": \"I\",\\\n",
    "              \"Leu\": \"L\",\\\n",
    "              \"Lys\": \"K\",\\\n",
    "              \"Met\": \"M\",\\\n",
    "              \"Phe\": \"F\",\\\n",
    "              \"Pro\": \"P\",\\\n",
    "              \"Ser\": \"S\",\\\n",
    "              \"Thr\": \"T\",\\\n",
    "              \"Trp\": \"W\",\\\n",
    "              \"Tyr\": \"Y\",\\\n",
    "              \"Val\": \"V\",\\\n",
    "              \"Sec\": \"U\"\n",
    "             }"
   ]
  },
  {
   "cell_type": "code",
   "execution_count": null,
   "metadata": {
    "ExecuteTime": {
     "end_time": "2018-05-13T19:02:56.313885Z",
     "start_time": "2018-05-13T19:02:56.294919Z"
    }
   },
   "outputs": [],
   "source": [
    "hum.columns"
   ]
  },
  {
   "cell_type": "code",
   "execution_count": null,
   "metadata": {
    "ExecuteTime": {
     "end_time": "2018-05-13T19:02:57.349394Z",
     "start_time": "2018-05-13T19:02:57.073942Z"
    },
    "collapsed": true
   },
   "outputs": [],
   "source": [
    "df = pd.DataFrame(data=(hum[\"AA_Change\"].str[2:].str.split(r\"([0-9]+)\")).tolist(), columns=[\"C1\", \"C2\", \"C3\"])\n",
    "df[\"C1\"] = df.C1.map(AMINO_CODE)\n",
    "df[\"C3\"] = df.C3.map(AMINO_CODE)\n",
    "mutant = pd.Series(data=(hum[\"Swiss_Prot_AC\"] + \"-\"+ df.C2 + \"-\" + df.C1 + \"-\" + df.C3).tolist(), name=\"MUTANT\")\n",
    "# mutant = pd.Series(data=(df.C1 + df.C2 + df.C3).tolist(), name=\"MUTANT\")"
   ]
  },
  {
   "cell_type": "code",
   "execution_count": null,
   "metadata": {
    "ExecuteTime": {
     "end_time": "2018-05-13T19:02:58.800549Z",
     "start_time": "2018-05-13T19:02:58.693651Z"
    },
    "collapsed": true
   },
   "outputs": [],
   "source": [
    "hum_final = pd.concat([hum, mutant, df], 1)[[\"MUTANT\", \"Swiss_Prot_AC\", \"C2\", \"C1\", \"C3\",\"dbSNP\", \"Type_of_variant\"]]\n",
    "hum_final.rename(columns={\"C1\": \"WildType\", \"C3\": \"Mut\", \"Swiss_Prot_AC\": \"UID\", \"C2\": \"Pos\"}, inplace=True)\n",
    "# hum_final = pd.concat([hum, mutant], 1)[[\"FTId\", \"MUTANT\"]]"
   ]
  },
  {
   "cell_type": "code",
   "execution_count": null,
   "metadata": {
    "ExecuteTime": {
     "end_time": "2018-05-13T19:02:59.032533Z",
     "start_time": "2018-05-13T19:02:59.016891Z"
    }
   },
   "outputs": [],
   "source": [
    "hum_final.head()"
   ]
  },
  {
   "cell_type": "code",
   "execution_count": null,
   "metadata": {
    "ExecuteTime": {
     "end_time": "2018-05-13T19:02:59.592101Z",
     "start_time": "2018-05-13T19:02:59.576019Z"
    }
   },
   "outputs": [],
   "source": [
    "hum_final.shape"
   ]
  },
  {
   "cell_type": "code",
   "execution_count": null,
   "metadata": {
    "ExecuteTime": {
     "end_time": "2018-05-13T19:03:00.286199Z",
     "start_time": "2018-05-13T19:03:00.176354Z"
    },
    "collapsed": true
   },
   "outputs": [],
   "source": [
    "hum_final.drop_duplicates(\"MUTANT\", inplace=True)\n",
    "# hum_final.drop_duplicates(\"dbSNP\", inplace=True)\n",
    "hum_final.rename(columns={\"Type_of_variant\": \"TYPE\"}, inplace=True)"
   ]
  },
  {
   "cell_type": "code",
   "execution_count": null,
   "metadata": {
    "ExecuteTime": {
     "end_time": "2018-05-13T19:03:00.546640Z",
     "start_time": "2018-05-13T19:03:00.529153Z"
    }
   },
   "outputs": [],
   "source": [
    "hum_final.head(3)"
   ]
  },
  {
   "cell_type": "code",
   "execution_count": null,
   "metadata": {
    "ExecuteTime": {
     "end_time": "2018-04-30T18:58:55.561183Z",
     "start_time": "2018-04-30T18:58:55.505516Z"
    },
    "scrolled": true
   },
   "outputs": [],
   "source": [
    "hum_final[hum_final.dbSNP.duplicated(keep=False) & ~hum_final.dbSNP.isnull()]"
   ]
  },
  {
   "cell_type": "code",
   "execution_count": null,
   "metadata": {
    "ExecuteTime": {
     "end_time": "2018-04-30T18:58:56.770474Z",
     "start_time": "2018-04-30T18:58:56.142019Z"
    },
    "collapsed": true
   },
   "outputs": [],
   "source": [
    "hum_final.to_csv(\"../data/interim/humsavar_full.csv.gz\", index=False, compression=\"gzip\")\n",
    "# hum_final.to_csv(\"../data/interim/humsavar_VEST.csv.gz\", index=False, compression=\"gzip\")"
   ]
  },
  {
   "cell_type": "code",
   "execution_count": 2,
   "metadata": {
    "ExecuteTime": {
     "end_time": "2018-05-13T19:03:18.423113Z",
     "start_time": "2018-05-13T19:03:18.277424Z"
    },
    "collapsed": true
   },
   "outputs": [],
   "source": [
    "hum_final = pd.read_csv(\"../data/interim/humsavar_full.csv.gz\")"
   ]
  },
  {
   "cell_type": "code",
   "execution_count": null,
   "metadata": {
    "ExecuteTime": {
     "end_time": "2018-05-13T18:24:17.247256Z",
     "start_time": "2018-05-13T18:24:17.235083Z"
    }
   },
   "outputs": [],
   "source": [
    "hum_final.shape"
   ]
  },
  {
   "cell_type": "markdown",
   "metadata": {},
   "source": [
    "## SNVBox Features "
   ]
  },
  {
   "cell_type": "markdown",
   "metadata": {},
   "source": [
    "### AA Features (Protein)"
   ]
  },
  {
   "cell_type": "code",
   "execution_count": 3,
   "metadata": {
    "ExecuteTime": {
     "end_time": "2018-05-13T19:03:21.145963Z",
     "start_time": "2018-05-13T19:03:21.136441Z"
    },
    "collapsed": true
   },
   "outputs": [],
   "source": [
    "AA_Features = pd.read_csv(\"../data/external/snvbox_features/AA_Features_snvbox.csv\")"
   ]
  },
  {
   "cell_type": "code",
   "execution_count": 4,
   "metadata": {
    "ExecuteTime": {
     "end_time": "2018-05-13T19:03:21.722938Z",
     "start_time": "2018-05-13T19:03:21.646849Z"
    }
   },
   "outputs": [
    {
     "data": {
      "text/html": [
       "<div>\n",
       "<table border=\"1\" class=\"dataframe\">\n",
       "  <thead>\n",
       "    <tr style=\"text-align: right;\">\n",
       "      <th></th>\n",
       "      <th>WildType</th>\n",
       "      <th>Mut</th>\n",
       "      <th>Charge</th>\n",
       "      <th>Volume</th>\n",
       "      <th>Hydrophobicity</th>\n",
       "      <th>Grantham</th>\n",
       "      <th>Polarity</th>\n",
       "      <th>Ex</th>\n",
       "      <th>PAM250</th>\n",
       "      <th>BLOSUM</th>\n",
       "      <th>JM</th>\n",
       "      <th>HGMD2003</th>\n",
       "      <th>VB</th>\n",
       "      <th>Transition</th>\n",
       "      <th>COSMIC</th>\n",
       "      <th>COSMICvsSWISSPROT</th>\n",
       "      <th>HAPMAP</th>\n",
       "      <th>COSMICvsHAPMAP</th>\n",
       "    </tr>\n",
       "  </thead>\n",
       "  <tbody>\n",
       "    <tr>\n",
       "      <th>0</th>\n",
       "      <td>A</td>\n",
       "      <td>C</td>\n",
       "      <td>0</td>\n",
       "      <td>-0.663333</td>\n",
       "      <td>-0.4</td>\n",
       "      <td>195</td>\n",
       "      <td>-2.6</td>\n",
       "      <td>39</td>\n",
       "      <td>0.3</td>\n",
       "      <td>0</td>\n",
       "      <td>-0.20</td>\n",
       "      <td>0</td>\n",
       "      <td>0</td>\n",
       "      <td>0.0014</td>\n",
       "      <td>-10.586231</td>\n",
       "      <td>-13.556968</td>\n",
       "      <td>-9.012255</td>\n",
       "      <td>-1.573976</td>\n",
       "    </tr>\n",
       "    <tr>\n",
       "      <th>1</th>\n",
       "      <td>A</td>\n",
       "      <td>D</td>\n",
       "      <td>1</td>\n",
       "      <td>-0.750000</td>\n",
       "      <td>10.8</td>\n",
       "      <td>126</td>\n",
       "      <td>4.9</td>\n",
       "      <td>19</td>\n",
       "      <td>-0.3</td>\n",
       "      <td>-2</td>\n",
       "      <td>0.22</td>\n",
       "      <td>111</td>\n",
       "      <td>5</td>\n",
       "      <td>0.0028</td>\n",
       "      <td>-7.408177</td>\n",
       "      <td>-10.378914</td>\n",
       "      <td>-5.183614</td>\n",
       "      <td>-2.224563</td>\n",
       "    </tr>\n",
       "    <tr>\n",
       "      <th>2</th>\n",
       "      <td>A</td>\n",
       "      <td>E</td>\n",
       "      <td>1</td>\n",
       "      <td>-1.660000</td>\n",
       "      <td>9.8</td>\n",
       "      <td>107</td>\n",
       "      <td>4.2</td>\n",
       "      <td>27</td>\n",
       "      <td>-0.1</td>\n",
       "      <td>-1</td>\n",
       "      <td>0.21</td>\n",
       "      <td>54</td>\n",
       "      <td>0</td>\n",
       "      <td>0.0047</td>\n",
       "      <td>-6.715030</td>\n",
       "      <td>-9.685767</td>\n",
       "      <td>-6.447306</td>\n",
       "      <td>-0.267724</td>\n",
       "    </tr>\n",
       "    <tr>\n",
       "      <th>3</th>\n",
       "      <td>A</td>\n",
       "      <td>F</td>\n",
       "      <td>0</td>\n",
       "      <td>-3.376667</td>\n",
       "      <td>-2.1</td>\n",
       "      <td>113</td>\n",
       "      <td>-2.9</td>\n",
       "      <td>31</td>\n",
       "      <td>-2.6</td>\n",
       "      <td>-2</td>\n",
       "      <td>-0.49</td>\n",
       "      <td>0</td>\n",
       "      <td>0</td>\n",
       "      <td>0.0028</td>\n",
       "      <td>-8.976793</td>\n",
       "      <td>-11.947530</td>\n",
       "      <td>-7.913643</td>\n",
       "      <td>-1.063150</td>\n",
       "    </tr>\n",
       "    <tr>\n",
       "      <th>4</th>\n",
       "      <td>A</td>\n",
       "      <td>G</td>\n",
       "      <td>0</td>\n",
       "      <td>0.950000</td>\n",
       "      <td>0.6</td>\n",
       "      <td>60</td>\n",
       "      <td>0.9</td>\n",
       "      <td>39</td>\n",
       "      <td>0.6</td>\n",
       "      <td>0</td>\n",
       "      <td>1.66</td>\n",
       "      <td>34</td>\n",
       "      <td>10</td>\n",
       "      <td>0.0049</td>\n",
       "      <td>-7.641792</td>\n",
       "      <td>-10.612529</td>\n",
       "      <td>-5.004922</td>\n",
       "      <td>-2.636870</td>\n",
       "    </tr>\n",
       "  </tbody>\n",
       "</table>\n",
       "</div>"
      ],
      "text/plain": [
       "  WildType Mut  Charge    Volume  Hydrophobicity  Grantham  Polarity  Ex  \\\n",
       "0        A   C       0 -0.663333            -0.4       195      -2.6  39   \n",
       "1        A   D       1 -0.750000            10.8       126       4.9  19   \n",
       "2        A   E       1 -1.660000             9.8       107       4.2  27   \n",
       "3        A   F       0 -3.376667            -2.1       113      -2.9  31   \n",
       "4        A   G       0  0.950000             0.6        60       0.9  39   \n",
       "\n",
       "   PAM250  BLOSUM    JM  HGMD2003  VB  Transition     COSMIC  \\\n",
       "0     0.3       0 -0.20         0   0      0.0014 -10.586231   \n",
       "1    -0.3      -2  0.22       111   5      0.0028  -7.408177   \n",
       "2    -0.1      -1  0.21        54   0      0.0047  -6.715030   \n",
       "3    -2.6      -2 -0.49         0   0      0.0028  -8.976793   \n",
       "4     0.6       0  1.66        34  10      0.0049  -7.641792   \n",
       "\n",
       "   COSMICvsSWISSPROT    HAPMAP  COSMICvsHAPMAP  \n",
       "0         -13.556968 -9.012255       -1.573976  \n",
       "1         -10.378914 -5.183614       -2.224563  \n",
       "2          -9.685767 -6.447306       -0.267724  \n",
       "3         -11.947530 -7.913643       -1.063150  \n",
       "4         -10.612529 -5.004922       -2.636870  "
      ]
     },
     "execution_count": 4,
     "metadata": {},
     "output_type": "execute_result"
    }
   ],
   "source": [
    "AA_Features.head()"
   ]
  },
  {
   "cell_type": "code",
   "execution_count": 5,
   "metadata": {
    "ExecuteTime": {
     "end_time": "2018-05-13T19:03:23.277054Z",
     "start_time": "2018-05-13T19:03:23.208174Z"
    },
    "collapsed": true
   },
   "outputs": [],
   "source": [
    "hum_final = hum_final.merge(AA_Features, on=['WildType', 'Mut'], how='left')"
   ]
  },
  {
   "cell_type": "markdown",
   "metadata": {},
   "source": [
    "### Uniprot Features (Protein)"
   ]
  },
  {
   "cell_type": "code",
   "execution_count": 6,
   "metadata": {
    "ExecuteTime": {
     "end_time": "2018-05-13T19:03:40.291544Z",
     "start_time": "2018-05-13T19:03:26.330401Z"
    },
    "collapsed": true
   },
   "outputs": [],
   "source": [
    "Uniprot_Features = pd.read_csv(\"../data/external/snvbox_features/uniprot_features.csv\")\n",
    "Uniprot_Features.rename(columns={\"Acc\": \"UID\"}, inplace=True)"
   ]
  },
  {
   "cell_type": "code",
   "execution_count": 7,
   "metadata": {
    "ExecuteTime": {
     "end_time": "2018-05-13T19:03:43.544751Z",
     "start_time": "2018-05-13T19:03:42.322660Z"
    },
    "collapsed": true
   },
   "outputs": [],
   "source": [
    "hum_final = hum_final.merge(Uniprot_Features, on=['UID', 'Pos'], how='left')"
   ]
  },
  {
   "cell_type": "markdown",
   "metadata": {},
   "source": [
    "### Genomic MSA (Genomic)"
   ]
  },
  {
   "cell_type": "code",
   "execution_count": null,
   "metadata": {
    "ExecuteTime": {
     "end_time": "2018-05-13T18:24:26.996645Z",
     "start_time": "2018-05-13T18:24:24.282666Z"
    },
    "collapsed": true
   },
   "outputs": [],
   "source": [
    "genomic_msa = pd.read_csv(\"../data/external/snvbox_features/genomic_msa_features.csv\").drop_duplicates()\n",
    "genomic_msa = genomic_msa.groupby([\"UID\", \"Pos\"]).mean().reset_index()"
   ]
  },
  {
   "cell_type": "code",
   "execution_count": null,
   "metadata": {
    "ExecuteTime": {
     "end_time": "2018-05-05T23:05:45.491639Z",
     "start_time": "2018-05-05T23:05:45.432805Z"
    },
    "collapsed": true,
    "scrolled": true
   },
   "outputs": [],
   "source": [
    "hum_final = hum_final.merge(genomic_msa, on=['UID', 'Pos'], how='left')"
   ]
  },
  {
   "cell_type": "markdown",
   "metadata": {},
   "source": [
    "### Exon Features (Genomic)"
   ]
  },
  {
   "cell_type": "code",
   "execution_count": null,
   "metadata": {
    "ExecuteTime": {
     "end_time": "2018-05-13T18:24:41.158098Z",
     "start_time": "2018-05-13T18:24:40.944523Z"
    },
    "collapsed": true
   },
   "outputs": [],
   "source": [
    "exon_features = pd.read_csv(\"../data/external/snvbox_features/exon_features.csv\", delimiter=\"\\t\")\n",
    "exon_features.rename(columns={\"rsid\": \"dbSNP\"}, inplace=True)"
   ]
  },
  {
   "cell_type": "code",
   "execution_count": null,
   "metadata": {
    "ExecuteTime": {
     "end_time": "2018-05-13T18:24:42.177595Z",
     "start_time": "2018-05-13T18:24:42.156573Z"
    }
   },
   "outputs": [],
   "source": [
    "exon_features.head()"
   ]
  },
  {
   "cell_type": "markdown",
   "metadata": {},
   "source": [
    "## Protparam (Protein)"
   ]
  },
  {
   "cell_type": "code",
   "execution_count": 8,
   "metadata": {
    "ExecuteTime": {
     "end_time": "2018-05-13T19:03:47.852202Z",
     "start_time": "2018-05-13T19:03:47.550955Z"
    },
    "collapsed": true
   },
   "outputs": [],
   "source": [
    "protparam = pd.read_csv(\"../data/interim/protparam_features.csv.gz\")"
   ]
  },
  {
   "cell_type": "code",
   "execution_count": 9,
   "metadata": {
    "ExecuteTime": {
     "end_time": "2018-05-13T19:03:50.762456Z",
     "start_time": "2018-05-13T19:03:50.683014Z"
    },
    "collapsed": true
   },
   "outputs": [],
   "source": [
    "hum_final = hum_final.merge(protparam, on=\"MUTANT\", how=\"left\")"
   ]
  },
  {
   "cell_type": "markdown",
   "metadata": {},
   "source": [
    "## Phylogenetic Features (Genomic)"
   ]
  },
  {
   "cell_type": "code",
   "execution_count": null,
   "metadata": {
    "ExecuteTime": {
     "end_time": "2018-05-05T23:06:16.794925Z",
     "start_time": "2018-05-05T23:05:49.655508Z"
    },
    "collapsed": true
   },
   "outputs": [],
   "source": [
    "phyloP46way = pd.read_csv(\"../data/interim/phyloP46way.csv\").drop_duplicates(\"dbSNP\")\n",
    "hum_final = hum_final.merge(phyloP46way, on=\"dbSNP\", how=\"left\")\n",
    "\n",
    "phastCons46way = pd.read_csv(\"../data/interim/phastCons46way.csv\").drop_duplicates(\"dbSNP\")\n",
    "hum_final = hum_final.merge(phastCons46way, on=\"dbSNP\", how=\"left\")"
   ]
  },
  {
   "cell_type": "markdown",
   "metadata": {},
   "source": [
    "## Genomic Func Classes)"
   ]
  },
  {
   "cell_type": "code",
   "execution_count": null,
   "metadata": {
    "ExecuteTime": {
     "end_time": "2018-05-05T23:06:17.906697Z",
     "start_time": "2018-05-05T23:06:17.572827Z"
    },
    "collapsed": true,
    "scrolled": true
   },
   "outputs": [],
   "source": [
    "variables = [\"name\", \"intron\", \"missense\", \"near-gene\", \"ncRNA\", \"coding-synon\", \"untranslated\", \"nonsense\", \"splice\", \"frameshift\", \"cds-indel\", \"stop-loss\"]\n",
    "dummy = pd.read_csv(\"../data/interim/dbsnp150_humsavar_funcDummie.tsv\", sep=\"\\t\")\n",
    "dummy = dummy[variables].rename(columns={\"name\":\"dbSNP\"}).drop_duplicates(subset=\"dbSNP\")\n",
    "hum_final = hum_final.merge(dummy, on=\"dbSNP\", how=\"left\")"
   ]
  },
  {
   "cell_type": "markdown",
   "metadata": {},
   "source": [
    "## Create Train Test Sets"
   ]
  },
  {
   "cell_type": "code",
   "execution_count": 10,
   "metadata": {
    "ExecuteTime": {
     "end_time": "2018-05-13T19:04:09.461966Z",
     "start_time": "2018-05-13T19:04:09.458135Z"
    },
    "collapsed": true
   },
   "outputs": [],
   "source": [
    "hum_final.columns = hum_final.columns.str.upper()"
   ]
  },
  {
   "cell_type": "code",
   "execution_count": 11,
   "metadata": {
    "ExecuteTime": {
     "end_time": "2018-05-13T19:04:11.564951Z",
     "start_time": "2018-05-13T19:04:11.560014Z"
    }
   },
   "outputs": [
    {
     "data": {
      "text/plain": [
       "Index(['MUTANT', 'UID', 'POS', 'WILDTYPE', 'MUT', 'DBSNP', 'TYPE', 'CHARGE',\n",
       "       'VOLUME', 'HYDROPHOBICITY', 'GRANTHAM', 'POLARITY', 'EX', 'PAM250',\n",
       "       'BLOSUM', 'JM', 'HGMD2003', 'VB', 'TRANSITION', 'COSMIC',\n",
       "       'COSMICVSSWISSPROT', 'HAPMAP', 'COSMICVSHAPMAP', 'BINDING', 'ACT_SITE',\n",
       "       'SITE', 'LIPID', 'METAL', 'CARBOHYD', 'DNA_BIND', 'NP_BIND', 'CA_BIND',\n",
       "       'DISULFID', 'SE_CYS', 'MOD_RES', 'PROPEP', 'SIGNALP', 'TRANSMEM',\n",
       "       'COMPBIAS', 'REP', 'MOTIF', 'ZN_FING', 'REGIONS', 'PPI', 'RNABD', 'TF',\n",
       "       'LOC', 'MMBRBD', 'CHROM', 'POSTMODREC', 'POSTMODENZ',\n",
       "       'AROMATICITY_DIFF', 'AROMATICITY_LOG_RATIO', 'ISOELECTRIC_POINT_DIFF',\n",
       "       'ISOELECTRIC_POINT_LOG_RATIO', 'GRAVY_DIFF', 'GRAVY_LOG_RATIO',\n",
       "       'INSTABILITY_INDEX_DIFF', 'INSTABILITY_INDEX_LOG_RATIO',\n",
       "       'FLEXIBILITY_DIFF', 'FLEXIBILITY_LOG_RATIO'],\n",
       "      dtype='object')"
      ]
     },
     "execution_count": 11,
     "metadata": {},
     "output_type": "execute_result"
    }
   ],
   "source": [
    "hum_final.columns"
   ]
  },
  {
   "cell_type": "code",
   "execution_count": 12,
   "metadata": {
    "ExecuteTime": {
     "end_time": "2018-05-13T19:04:13.701300Z",
     "start_time": "2018-05-13T19:04:13.691299Z"
    },
    "scrolled": true
   },
   "outputs": [
    {
     "data": {
      "text/plain": [
       "Polymorphism    39653\n",
       "Disease         28855\n",
       "Unclassified     7261\n",
       "Name: TYPE, dtype: int64"
      ]
     },
     "execution_count": 12,
     "metadata": {},
     "output_type": "execute_result"
    }
   ],
   "source": [
    "hum_final.TYPE.value_counts()"
   ]
  },
  {
   "cell_type": "code",
   "execution_count": null,
   "metadata": {
    "ExecuteTime": {
     "end_time": "2018-05-05T23:06:33.164533Z",
     "start_time": "2018-05-05T23:06:21.340214Z"
    },
    "collapsed": true
   },
   "outputs": [],
   "source": [
    "hum_final.replace([np.inf,-np.inf], np.nan, inplace=True)\n",
    "hum_final.to_csv(\"../data/processed/3/humsavar_full_gt.csv.gz\", index=False, compression=\"gzip\")"
   ]
  },
  {
   "cell_type": "code",
   "execution_count": null,
   "metadata": {
    "ExecuteTime": {
     "end_time": "2018-05-05T23:06:55.092356Z",
     "start_time": "2018-05-05T23:06:55.075852Z"
    }
   },
   "outputs": [],
   "source": [
    "hum_final.columns.shape"
   ]
  },
  {
   "cell_type": "code",
   "execution_count": 13,
   "metadata": {
    "ExecuteTime": {
     "end_time": "2018-05-13T19:04:19.620874Z",
     "start_time": "2018-05-13T19:04:18.676641Z"
    },
    "collapsed": true
   },
   "outputs": [],
   "source": [
    "hum_final = pd.read_csv(\"../data/processed/1/humsavar_full_gt.csv.gz\")"
   ]
  },
  {
   "cell_type": "code",
   "execution_count": 14,
   "metadata": {
    "ExecuteTime": {
     "end_time": "2018-05-13T19:04:21.652918Z",
     "start_time": "2018-05-13T19:04:21.649203Z"
    }
   },
   "outputs": [
    {
     "data": {
      "text/plain": [
       "(75769, 61)"
      ]
     },
     "execution_count": 14,
     "metadata": {},
     "output_type": "execute_result"
    }
   ],
   "source": [
    "hum_final.shape"
   ]
  },
  {
   "cell_type": "code",
   "execution_count": null,
   "metadata": {
    "ExecuteTime": {
     "end_time": "2018-05-05T23:07:00.269236Z",
     "start_time": "2018-05-05T23:07:00.117108Z"
    }
   },
   "outputs": [],
   "source": [
    "hum_final.isnull().sum()"
   ]
  },
  {
   "cell_type": "code",
   "execution_count": 15,
   "metadata": {
    "ExecuteTime": {
     "end_time": "2018-05-13T19:04:24.784455Z",
     "start_time": "2018-05-13T19:04:24.701121Z"
    },
    "collapsed": true
   },
   "outputs": [],
   "source": [
    "hum_final.drop([\"UID\", \"POS\",\"DBSNP\", \"WILDTYPE\", \"MUT\"], axis=1, inplace=True)\n",
    "\n",
    "dataset = hum_final.set_index(\"MUTANT\")\n",
    "unclassified_index = dataset[dataset.TYPE == \"Unclassified\"].index\n",
    "dataset_disease_index = dataset[dataset.TYPE == \"Disease\"].index\n",
    "dataset_poly_index = dataset[dataset.TYPE == \"Polymorphism\"].index"
   ]
  },
  {
   "cell_type": "code",
   "execution_count": null,
   "metadata": {
    "ExecuteTime": {
     "end_time": "2018-05-05T23:07:12.384455Z",
     "start_time": "2018-05-05T23:07:01.879249Z"
    },
    "collapsed": true
   },
   "outputs": [],
   "source": [
    "dataset.to_csv(\"../data/processed/3/dataset.csv.gz\", index=True, compression=\"gzip\")"
   ]
  },
  {
   "cell_type": "code",
   "execution_count": null,
   "metadata": {
    "ExecuteTime": {
     "end_time": "2018-05-05T23:07:13.736567Z",
     "start_time": "2018-05-05T23:07:13.123420Z"
    }
   },
   "outputs": [],
   "source": [
    "hum_final.describe()"
   ]
  },
  {
   "cell_type": "code",
   "execution_count": null,
   "metadata": {
    "ExecuteTime": {
     "end_time": "2018-05-05T23:07:14.493039Z",
     "start_time": "2018-05-05T23:07:14.489164Z"
    }
   },
   "outputs": [],
   "source": [
    "hum_final.shape"
   ]
  },
  {
   "cell_type": "code",
   "execution_count": null,
   "metadata": {
    "ExecuteTime": {
     "end_time": "2018-05-05T23:07:15.334971Z",
     "start_time": "2018-05-05T23:07:15.323647Z"
    }
   },
   "outputs": [],
   "source": [
    "hum_final.TYPE.value_counts()"
   ]
  },
  {
   "cell_type": "markdown",
   "metadata": {},
   "source": [
    "### Single Train Test"
   ]
  },
  {
   "cell_type": "code",
   "execution_count": null,
   "metadata": {
    "collapsed": true
   },
   "outputs": [],
   "source": []
  },
  {
   "cell_type": "markdown",
   "metadata": {},
   "source": [
    "### Multiple Train Tests"
   ]
  },
  {
   "cell_type": "code",
   "execution_count": null,
   "metadata": {
    "ExecuteTime": {
     "end_time": "2018-05-05T23:09:12.611142Z",
     "start_time": "2018-05-05T23:07:16.244111Z"
    },
    "collapsed": true,
    "deletable": false,
    "editable": false
   },
   "outputs": [],
   "source": [
    "for i in range(20):\n",
    "    train = pd.concat([\n",
    "        dataset.loc[dataset_disease_index].sample(n=25000, random_state=i),\n",
    "        dataset.loc[dataset_poly_index].sample(n=25000, random_state=i)\n",
    "    ]).sample(frac=1)\n",
    "    \n",
    "    test = pd.concat([\n",
    "        dataset.loc[dataset_disease_index.difference(train.index)].sample(n=3855, random_state=i),\n",
    "        dataset.loc[dataset_poly_index.difference(train.index)].sample(n=14653, random_state=i)\n",
    "    ]).sample(frac=1)\n",
    "    train.to_csv(\"../data/processed/3/train_test_sets/train_{}.csv\".format(i), index=True, index_label=\"MUTANT\")\n",
    "    test.to_csv(\"../data/processed/3/train_test_sets/test_{}.csv\".format(i), index=True, index_label=\"MUTANT\")"
   ]
  },
  {
   "cell_type": "code",
   "execution_count": null,
   "metadata": {
    "collapsed": true
   },
   "outputs": [],
   "source": []
  }
 ],
 "metadata": {
  "kernelspec": {
   "display_name": "Python 3",
   "language": "python",
   "name": "python3"
  },
  "language_info": {
   "codemirror_mode": {
    "name": "ipython",
    "version": 3
   },
   "file_extension": ".py",
   "mimetype": "text/x-python",
   "name": "python",
   "nbconvert_exporter": "python",
   "pygments_lexer": "ipython3",
   "version": "3.6.3"
  },
  "varInspector": {
   "cols": {
    "lenName": 16,
    "lenType": 16,
    "lenVar": 40
   },
   "kernels_config": {
    "python": {
     "delete_cmd_postfix": "",
     "delete_cmd_prefix": "del ",
     "library": "var_list.py",
     "varRefreshCmd": "print(var_dic_list())"
    },
    "r": {
     "delete_cmd_postfix": ") ",
     "delete_cmd_prefix": "rm(",
     "library": "var_list.r",
     "varRefreshCmd": "cat(var_dic_list()) "
    }
   },
   "oldHeight": 221,
   "position": {
    "height": "243px",
    "left": "1040px",
    "right": "20px",
    "top": "214px",
    "width": "414px"
   },
   "types_to_exclude": [
    "module",
    "function",
    "builtin_function_or_method",
    "instance",
    "_Feature"
   ],
   "varInspector_section_display": "block",
   "window_display": false
  }
 },
 "nbformat": 4,
 "nbformat_minor": 2
}
