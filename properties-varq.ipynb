{
 "cells": [
  {
   "cell_type": "markdown",
   "metadata": {
    "deletable": true,
    "editable": true
   },
   "source": [
    "### Imports"
   ]
  },
  {
   "cell_type": "code",
   "execution_count": 1,
   "metadata": {
    "collapsed": true,
    "deletable": true,
    "editable": true
   },
   "outputs": [],
   "source": [
    "import operator\n",
    "import pandas as pd\n",
    "import matplotlib.pyplot as plt\n",
    "import seaborn as sns\n",
    "import numpy as np\n",
    "from sklearn import feature_selection\n",
    "from sklearn.ensemble import RandomForestClassifier, AdaBoostClassifier\n",
    "from sklearn.ensemble import GradientBoostingClassifier\n",
    "from sklearn.linear_model import LogisticRegression\n",
    "from sklearn.pipeline import Pipeline, make_pipeline\n",
    "from sklearn.pipeline import FeatureUnion\n",
    "from sklearn.preprocessing import StandardScaler, RobustScaler, Imputer, LabelEncoder\n",
    "from sklearn.model_selection import GridSearchCV, RandomizedSearchCV\n",
    "from sklearn.metrics import accuracy_score, f1_score, confusion_matrix, classification_report\n",
    "from IPython.core.pylabtools import figsize \n",
    "%matplotlib inline"
   ]
  },
  {
   "cell_type": "markdown",
   "metadata": {
    "deletable": true,
    "editable": true
   },
   "source": [
    "### Aux Functions"
   ]
  },
  {
   "cell_type": "markdown",
   "metadata": {
    "deletable": true,
    "editable": true
   },
   "source": [
    "### Analysis"
   ]
  },
  {
   "cell_type": "code",
   "execution_count": 3,
   "metadata": {
    "collapsed": false,
    "deletable": true,
    "editable": true
   },
   "outputs": [],
   "source": [
    "varq = pd.read_csv(\"data/properties-varq.tab.gz\", sep=\"\\t\")"
   ]
  },
  {
   "cell_type": "code",
   "execution_count": 5,
   "metadata": {
    "collapsed": false,
    "deletable": true,
    "editable": true
   },
   "outputs": [
    {
     "data": {
      "text/plain": [
       "Index([u'MUTANT', u'SASA', u'SASA_PERCENTAGE', u'BFACTOR', u'SWITCHBILITY',\n",
       "       u'AGGREGABILITY', u'CONSERVATION', u'3DID', u'PDB', u'ACTIVE_SITE',\n",
       "       u'VARIATION_ENERGY', u'TYPE'],\n",
       "      dtype='object')"
      ]
     },
     "execution_count": 5,
     "metadata": {},
     "output_type": "execute_result"
    }
   ],
   "source": [
    "varq.columns"
   ]
  },
  {
   "cell_type": "code",
   "execution_count": 4,
   "metadata": {
    "collapsed": false,
    "deletable": true,
    "editable": true
   },
   "outputs": [
    {
     "data": {
      "text/plain": [
       "(17869,)"
      ]
     },
     "execution_count": 4,
     "metadata": {},
     "output_type": "execute_result"
    }
   ],
   "source": [
    "varq.AGGREGABILITY.shape"
   ]
  },
  {
   "cell_type": "code",
   "execution_count": 6,
   "metadata": {
    "collapsed": false,
    "deletable": true,
    "editable": true
   },
   "outputs": [
    {
     "data": {
      "text/plain": [
       "5570"
      ]
     },
     "execution_count": 6,
     "metadata": {},
     "output_type": "execute_result"
    }
   ],
   "source": [
    "varq.AGGREGABILITY.isnull().sum()"
   ]
  },
  {
   "cell_type": "code",
   "execution_count": 10,
   "metadata": {
    "collapsed": false,
    "deletable": true,
    "editable": true
   },
   "outputs": [
    {
     "data": {
      "text/plain": [
       "0"
      ]
     },
     "execution_count": 10,
     "metadata": {},
     "output_type": "execute_result"
    }
   ],
   "source": [
    "varq.VARIATION_ENERGY.isnull().sum()"
   ]
  },
  {
   "cell_type": "code",
   "execution_count": 12,
   "metadata": {
    "collapsed": false,
    "deletable": true,
    "editable": true
   },
   "outputs": [
    {
     "data": {
      "text/plain": [
       "(17869,)"
      ]
     },
     "execution_count": 12,
     "metadata": {},
     "output_type": "execute_result"
    }
   ],
   "source": [
    "varq.MUTANT.unique().shape"
   ]
  },
  {
   "cell_type": "code",
   "execution_count": 14,
   "metadata": {
    "collapsed": false,
    "deletable": true,
    "editable": true
   },
   "outputs": [
    {
     "name": "stdout",
     "output_type": "stream",
     "text": [
      "Size: \n",
      "(17869, 12)\n",
      "\n",
      "Value counts of TYPE: \n",
      "Benign        11763\n",
      "Pathogenic     6106\n",
      "Name: TYPE, dtype: int64\n"
     ]
    }
   ],
   "source": [
    "print \"Size: \\n\", varq.shape\n",
    "print \"\\nValue counts of TYPE: \\n\", varq.TYPE.value_counts()"
   ]
  },
  {
   "cell_type": "code",
   "execution_count": 15,
   "metadata": {
    "collapsed": false,
    "deletable": true,
    "editable": true
   },
   "outputs": [
    {
     "data": {
      "text/html": [
       "<div>\n",
       "<table border=\"1\" class=\"dataframe\">\n",
       "  <thead>\n",
       "    <tr style=\"text-align: right;\">\n",
       "      <th></th>\n",
       "      <th>SASA</th>\n",
       "      <th>SASA_PERCENTAGE</th>\n",
       "      <th>BFACTOR</th>\n",
       "      <th>SWITCHBILITY</th>\n",
       "      <th>AGGREGABILITY</th>\n",
       "      <th>CONSERVATION</th>\n",
       "      <th>VARIATION_ENERGY</th>\n",
       "    </tr>\n",
       "  </thead>\n",
       "  <tbody>\n",
       "    <tr>\n",
       "      <th>count</th>\n",
       "      <td>16798.000000</td>\n",
       "      <td>16798.000000</td>\n",
       "      <td>16798.000000</td>\n",
       "      <td>15651.000000</td>\n",
       "      <td>12299.000000</td>\n",
       "      <td>6099.000000</td>\n",
       "      <td>17869.000000</td>\n",
       "    </tr>\n",
       "    <tr>\n",
       "      <th>mean</th>\n",
       "      <td>36.869348</td>\n",
       "      <td>0.172637</td>\n",
       "      <td>54.651370</td>\n",
       "      <td>0.403744</td>\n",
       "      <td>4.983431</td>\n",
       "      <td>0.353983</td>\n",
       "      <td>2.250763</td>\n",
       "    </tr>\n",
       "    <tr>\n",
       "      <th>std</th>\n",
       "      <td>40.633632</td>\n",
       "      <td>0.181814</td>\n",
       "      <td>65.762465</td>\n",
       "      <td>0.935355</td>\n",
       "      <td>17.533670</td>\n",
       "      <td>0.359287</td>\n",
       "      <td>4.056646</td>\n",
       "    </tr>\n",
       "    <tr>\n",
       "      <th>min</th>\n",
       "      <td>0.000000</td>\n",
       "      <td>0.000000</td>\n",
       "      <td>0.000000</td>\n",
       "      <td>0.000000</td>\n",
       "      <td>0.000000</td>\n",
       "      <td>0.130000</td>\n",
       "      <td>-13.530900</td>\n",
       "    </tr>\n",
       "    <tr>\n",
       "      <th>25%</th>\n",
       "      <td>2.187000</td>\n",
       "      <td>0.010000</td>\n",
       "      <td>19.905625</td>\n",
       "      <td>0.000000</td>\n",
       "      <td>0.000000</td>\n",
       "      <td>0.250000</td>\n",
       "      <td>0.133057</td>\n",
       "    </tr>\n",
       "    <tr>\n",
       "      <th>50%</th>\n",
       "      <td>22.220000</td>\n",
       "      <td>0.110000</td>\n",
       "      <td>37.853750</td>\n",
       "      <td>0.008850</td>\n",
       "      <td>0.000000</td>\n",
       "      <td>0.300000</td>\n",
       "      <td>1.134230</td>\n",
       "    </tr>\n",
       "    <tr>\n",
       "      <th>75%</th>\n",
       "      <td>60.210250</td>\n",
       "      <td>0.300000</td>\n",
       "      <td>62.090000</td>\n",
       "      <td>0.303500</td>\n",
       "      <td>0.131000</td>\n",
       "      <td>0.370000</td>\n",
       "      <td>3.056210</td>\n",
       "    </tr>\n",
       "    <tr>\n",
       "      <th>max</th>\n",
       "      <td>254.526000</td>\n",
       "      <td>0.750000</td>\n",
       "      <td>755.610000</td>\n",
       "      <td>9.720000</td>\n",
       "      <td>100.000000</td>\n",
       "      <td>11.700000</td>\n",
       "      <td>57.513400</td>\n",
       "    </tr>\n",
       "  </tbody>\n",
       "</table>\n",
       "</div>"
      ],
      "text/plain": [
       "               SASA  SASA_PERCENTAGE       BFACTOR  SWITCHBILITY  \\\n",
       "count  16798.000000     16798.000000  16798.000000  15651.000000   \n",
       "mean      36.869348         0.172637     54.651370      0.403744   \n",
       "std       40.633632         0.181814     65.762465      0.935355   \n",
       "min        0.000000         0.000000      0.000000      0.000000   \n",
       "25%        2.187000         0.010000     19.905625      0.000000   \n",
       "50%       22.220000         0.110000     37.853750      0.008850   \n",
       "75%       60.210250         0.300000     62.090000      0.303500   \n",
       "max      254.526000         0.750000    755.610000      9.720000   \n",
       "\n",
       "       AGGREGABILITY  CONSERVATION  VARIATION_ENERGY  \n",
       "count   12299.000000   6099.000000      17869.000000  \n",
       "mean        4.983431      0.353983          2.250763  \n",
       "std        17.533670      0.359287          4.056646  \n",
       "min         0.000000      0.130000        -13.530900  \n",
       "25%         0.000000      0.250000          0.133057  \n",
       "50%         0.000000      0.300000          1.134230  \n",
       "75%         0.131000      0.370000          3.056210  \n",
       "max       100.000000     11.700000         57.513400  "
      ]
     },
     "execution_count": 15,
     "metadata": {},
     "output_type": "execute_result"
    }
   ],
   "source": [
    "varq.describe()"
   ]
  },
  {
   "cell_type": "code",
   "execution_count": 17,
   "metadata": {
    "collapsed": false,
    "deletable": true,
    "editable": true
   },
   "outputs": [],
   "source": [
    "corr = varq.drop(['3DID', 'PDB', 'MUTANT'], axis=1).corr()"
   ]
  },
  {
   "cell_type": "code",
   "execution_count": 18,
   "metadata": {
    "collapsed": false,
    "deletable": true,
    "editable": true
   },
   "outputs": [
    {
     "data": {
      "text/html": [
       "<div>\n",
       "<table border=\"1\" class=\"dataframe\">\n",
       "  <thead>\n",
       "    <tr style=\"text-align: right;\">\n",
       "      <th></th>\n",
       "      <th>SASA</th>\n",
       "      <th>SASA_PERCENTAGE</th>\n",
       "      <th>BFACTOR</th>\n",
       "      <th>SWITCHBILITY</th>\n",
       "      <th>AGGREGABILITY</th>\n",
       "      <th>CONSERVATION</th>\n",
       "      <th>VARIATION_ENERGY</th>\n",
       "    </tr>\n",
       "  </thead>\n",
       "  <tbody>\n",
       "    <tr>\n",
       "      <th>SASA</th>\n",
       "      <td>1.000000</td>\n",
       "      <td>0.962449</td>\n",
       "      <td>0.060265</td>\n",
       "      <td>-0.042781</td>\n",
       "      <td>-0.017759</td>\n",
       "      <td>0.008619</td>\n",
       "      <td>-0.306423</td>\n",
       "    </tr>\n",
       "    <tr>\n",
       "      <th>SASA_PERCENTAGE</th>\n",
       "      <td>0.962449</td>\n",
       "      <td>1.000000</td>\n",
       "      <td>0.091254</td>\n",
       "      <td>-0.050652</td>\n",
       "      <td>-0.014159</td>\n",
       "      <td>0.015112</td>\n",
       "      <td>-0.329032</td>\n",
       "    </tr>\n",
       "    <tr>\n",
       "      <th>BFACTOR</th>\n",
       "      <td>0.060265</td>\n",
       "      <td>0.091254</td>\n",
       "      <td>1.000000</td>\n",
       "      <td>0.051770</td>\n",
       "      <td>0.106277</td>\n",
       "      <td>-0.030563</td>\n",
       "      <td>-0.067454</td>\n",
       "    </tr>\n",
       "    <tr>\n",
       "      <th>SWITCHBILITY</th>\n",
       "      <td>-0.042781</td>\n",
       "      <td>-0.050652</td>\n",
       "      <td>0.051770</td>\n",
       "      <td>1.000000</td>\n",
       "      <td>0.047975</td>\n",
       "      <td>-0.002319</td>\n",
       "      <td>-0.014635</td>\n",
       "    </tr>\n",
       "    <tr>\n",
       "      <th>AGGREGABILITY</th>\n",
       "      <td>-0.017759</td>\n",
       "      <td>-0.014159</td>\n",
       "      <td>0.106277</td>\n",
       "      <td>0.047975</td>\n",
       "      <td>1.000000</td>\n",
       "      <td>0.001127</td>\n",
       "      <td>-0.003761</td>\n",
       "    </tr>\n",
       "    <tr>\n",
       "      <th>CONSERVATION</th>\n",
       "      <td>0.008619</td>\n",
       "      <td>0.015112</td>\n",
       "      <td>-0.030563</td>\n",
       "      <td>-0.002319</td>\n",
       "      <td>0.001127</td>\n",
       "      <td>1.000000</td>\n",
       "      <td>0.027866</td>\n",
       "    </tr>\n",
       "    <tr>\n",
       "      <th>VARIATION_ENERGY</th>\n",
       "      <td>-0.306423</td>\n",
       "      <td>-0.329032</td>\n",
       "      <td>-0.067454</td>\n",
       "      <td>-0.014635</td>\n",
       "      <td>-0.003761</td>\n",
       "      <td>0.027866</td>\n",
       "      <td>1.000000</td>\n",
       "    </tr>\n",
       "  </tbody>\n",
       "</table>\n",
       "</div>"
      ],
      "text/plain": [
       "                      SASA  SASA_PERCENTAGE   BFACTOR  SWITCHBILITY  \\\n",
       "SASA              1.000000         0.962449  0.060265     -0.042781   \n",
       "SASA_PERCENTAGE   0.962449         1.000000  0.091254     -0.050652   \n",
       "BFACTOR           0.060265         0.091254  1.000000      0.051770   \n",
       "SWITCHBILITY     -0.042781        -0.050652  0.051770      1.000000   \n",
       "AGGREGABILITY    -0.017759        -0.014159  0.106277      0.047975   \n",
       "CONSERVATION      0.008619         0.015112 -0.030563     -0.002319   \n",
       "VARIATION_ENERGY -0.306423        -0.329032 -0.067454     -0.014635   \n",
       "\n",
       "                  AGGREGABILITY  CONSERVATION  VARIATION_ENERGY  \n",
       "SASA                  -0.017759      0.008619         -0.306423  \n",
       "SASA_PERCENTAGE       -0.014159      0.015112         -0.329032  \n",
       "BFACTOR                0.106277     -0.030563         -0.067454  \n",
       "SWITCHBILITY           0.047975     -0.002319         -0.014635  \n",
       "AGGREGABILITY          1.000000      0.001127         -0.003761  \n",
       "CONSERVATION           0.001127      1.000000          0.027866  \n",
       "VARIATION_ENERGY      -0.003761      0.027866          1.000000  "
      ]
     },
     "execution_count": 18,
     "metadata": {},
     "output_type": "execute_result"
    }
   ],
   "source": [
    "corr"
   ]
  },
  {
   "cell_type": "code",
   "execution_count": 19,
   "metadata": {
    "collapsed": false,
    "deletable": true,
    "editable": true,
    "scrolled": true
   },
   "outputs": [
    {
     "data": {
      "image/png": "[encoded data removed]",
      "text/plain": [
       "<matplotlib.figure.Figure at 0x7fc583e77dd0>"
      ]
     },
     "metadata": {},
     "output_type": "display_data"
    }
   ],
   "source": [
    "plot = sns.heatmap(corr)\n",
    "figure = plot.get_figure()"
   ]
  },
  {
   "cell_type": "code",
   "execution_count": 24,
   "metadata": {
    "collapsed": false,
    "deletable": true,
    "editable": true
   },
   "outputs": [],
   "source": [
    "varq['UNIPROT'] = varq.MUTANT.str.split(\"-\").apply(lambda x: x[0])"
   ]
  },
  {
   "cell_type": "code",
   "execution_count": 37,
   "metadata": {
    "collapsed": false,
    "deletable": true,
    "editable": true
   },
   "outputs": [],
   "source": [
    "grouped_varq_describe = varq.groupby(varq['UNIPROT']).describe()"
   ]
  },
  {
   "cell_type": "code",
   "execution_count": 41,
   "metadata": {
    "collapsed": false,
    "deletable": true,
    "editable": true
   },
   "outputs": [],
   "source": [
    "grouped_varq_type = varq.groupby(varq['UNIPROT']).TYPE.value_counts(normalize=True)"
   ]
  },
  {
   "cell_type": "code",
   "execution_count": 54,
   "metadata": {
    "collapsed": false,
    "deletable": true,
    "editable": true
   },
   "outputs": [
    {
     "data": {
      "text/plain": [
       "UNIPROT\n",
       "O60216    1.0\n",
       "Q15436    1.0\n",
       "O15119    1.0\n",
       "P07237    1.0\n",
       "P07738    1.0\n",
       "Q13835    1.0\n",
       "P08842    1.0\n",
       "P40259    1.0\n",
       "Q14623    1.0\n",
       "Q14807    1.0\n",
       "Q92979    1.0\n",
       "Q92859    1.0\n",
       "P11277    1.0\n",
       "O15520    1.0\n",
       "Q9UJV9    1.0\n",
       "P13929    1.0\n",
       "P32929    1.0\n",
       "P46976    1.0\n",
       "O14746    1.0\n",
       "Q9Y243    1.0\n",
       "Q8TD30    1.0\n",
       "Q15910    1.0\n",
       "Q9Y223    1.0\n",
       "Q8TCG5    1.0\n",
       "Q8NI22    1.0\n",
       "P15104    1.0\n",
       "P15882    1.0\n",
       "Q5TBB1    1.0\n",
       "Q63ZY3    1.0\n",
       "Q8IWV7    1.0\n",
       "         ... \n",
       "Q86US8    0.0\n",
       "Q86UT6    0.0\n",
       "Q86UY6    0.0\n",
       "Q86VN1    0.0\n",
       "Q86VP6    0.0\n",
       "Q7L804    0.0\n",
       "Q7L266    0.0\n",
       "Q71SY5    0.0\n",
       "Q6UWW0    0.0\n",
       "Q6NZ36    0.0\n",
       "Q6P3W2    0.0\n",
       "Q6P587    0.0\n",
       "Q6P6C2    0.0\n",
       "Q6P988    0.0\n",
       "Q6PIF6    0.0\n",
       "Q6PJP8    0.0\n",
       "Q6UVW9    0.0\n",
       "Q6UWV6    0.0\n",
       "Q6UWY2    0.0\n",
       "Q6ZW49    0.0\n",
       "Q6UWZ7    0.0\n",
       "Q6UXN8    0.0\n",
       "Q6W2J9    0.0\n",
       "Q6XQN6    0.0\n",
       "Q6ZMJ4    0.0\n",
       "Q6ZNL6    0.0\n",
       "Q6ZRY4    0.0\n",
       "Q6ZSG1    0.0\n",
       "Q6ZT98    0.0\n",
       "A1Z1Q3    0.0\n",
       "Name: Pathogenic, dtype: float64"
      ]
     },
     "execution_count": 54,
     "metadata": {},
     "output_type": "execute_result"
    }
   ],
   "source": [
    "grouped_varq_type.unstack().replace({'Pathogenic': {np.nan: 0}})['Pathogenic'].sort_values(ascending=False)"
   ]
  },
  {
   "cell_type": "code",
   "execution_count": null,
   "metadata": {
    "collapsed": true,
    "deletable": true,
    "editable": true
   },
   "outputs": [],
   "source": [
    "grouped_varq_type.unstack().replace({'Pathogenic': {np.nan: 0}})['Pathogenic'].sort_values"
   ]
  },
  {
   "cell_type": "code",
   "execution_count": null,
   "metadata": {
    "collapsed": true,
    "deletable": true,
    "editable": true
   },
   "outputs": [],
   "source": [
    "grouped_varq_type.unstack().replace({'Pathogenic': {np.nan: 0}}).Pathogenic.sort_values"
   ]
  },
  {
   "cell_type": "code",
   "execution_count": null,
   "metadata": {
    "collapsed": true,
    "deletable": true,
    "editable": true
   },
   "outputs": [],
   "source": [
    "grouped_varq_type.unstack().replace({'Pathogenic': {np.nan: 0}}).Pathogenic.sort_values"
   ]
  },
  {
   "cell_type": "markdown",
   "metadata": {
    "deletable": true,
    "editable": true
   },
   "source": [
    "### Feature Selection"
   ]
  },
  {
   "cell_type": "code",
   "execution_count": 3,
   "metadata": {
    "collapsed": true,
    "deletable": true,
    "editable": true
   },
   "outputs": [],
   "source": [
    "feature_selection.SelectKBest?"
   ]
  },
  {
   "cell_type": "code",
   "execution_count": 80,
   "metadata": {
    "collapsed": false,
    "deletable": true,
    "editable": true
   },
   "outputs": [],
   "source": [
    "model_dict = {\n",
    "    'lr':{'pipe':('lr', LogisticRegression()),\n",
    "        'params':[{'lr__C' : [.001, .01, .1, 1, 10, 100, 1000], 'lr__class_weight':[None, 'balanced']}],\n",
    "        'name':'LogisticRegression'\n",
    "       },\n",
    "    'rf':{'pipe':('rf', RandomForestClassifier(random_state = 100)),\n",
    "        'params':[{'rf__max_depth':[3,5,7], 'rf__n_estimators':[10,50,100], 'rf__max_features':[4,'sqrt',0.2]}],\n",
    "        'name':'Random Forest'\n",
    "       },\n",
    "}"
   ]
  },
  {
   "cell_type": "markdown",
   "metadata": {
    "deletable": true,
    "editable": true
   },
   "source": [
    "#### Random Forest"
   ]
  },
  {
   "cell_type": "code",
   "execution_count": 161,
   "metadata": {
    "collapsed": true,
    "deletable": true,
    "editable": true
   },
   "outputs": [],
   "source": [
    "algorithm = 'rf'\n",
    "model = Pipeline([('imputer', Imputer(missing_values=\"NaN\", strategy=\"median\")), ('scale', RobustScaler()),\n",
    "                  model_dict[algorithm]['pipe']])\n",
    "param_list = [model_dict[algorithm]['params']][0]\n",
    "gs = GridSearchCV(model, param_list, cv=3, n_jobs=2, scoring='roc_auc', verbose=1, refit=True)\n",
    "le = LabelEncoder()"
   ]
  },
  {
   "cell_type": "code",
   "execution_count": 162,
   "metadata": {
    "collapsed": false,
    "deletable": true,
    "editable": true
   },
   "outputs": [],
   "source": [
    "train = varq[~varq.TYPE.isnull()]\n",
    "train = train.drop(['3DID', 'PDB'], 1).replace({\"ACTIVE_SITE\": {\"BINDING\": 1, np.nan: 0}}).set_index(\"MUTANT\")\n",
    "x_train = train.drop('TYPE',1)\n",
    "y_train = le.fit_transform(train['TYPE'])"
   ]
  },
  {
   "cell_type": "code",
   "execution_count": 163,
   "metadata": {
    "collapsed": false,
    "deletable": true,
    "editable": true
   },
   "outputs": [
    {
     "name": "stdout",
     "output_type": "stream",
     "text": [
      "Fitting 3 folds for each of 27 candidates, totalling 81 fits\n"
     ]
    },
    {
     "name": "stderr",
     "output_type": "stream",
     "text": [
      "[Parallel(n_jobs=2)]: Done  46 tasks      | elapsed:   14.8s\n",
      "[Parallel(n_jobs=2)]: Done  81 out of  81 | elapsed:   27.2s finished\n"
     ]
    },
    {
     "data": {
      "text/plain": [
       "GridSearchCV(cv=3, error_score='raise',\n",
       "       estimator=Pipeline(steps=[('imputer', Imputer(axis=0, copy=True, missing_values='NaN', strategy='median', verbose=0)), ('scale', RobustScaler(copy=True, quantile_range=(25.0, 75.0), with_centering=True,\n",
       "       with_scaling=True)), ('rf', RandomForestClassifier(bootstrap=True, class_weight=None, criterion='gini',\n",
       "     ...timators=10, n_jobs=1, oob_score=False, random_state=100,\n",
       "            verbose=0, warm_start=False))]),\n",
       "       fit_params={}, iid=True, n_jobs=2,\n",
       "       param_grid=[{'rf__max_depth': [3, 5, 7], 'rf__max_features': [4, 'sqrt', 0.2], 'rf__n_estimators': [10, 50, 100]}],\n",
       "       pre_dispatch='2*n_jobs', refit=True, return_train_score=True,\n",
       "       scoring='roc_auc', verbose=1)"
      ]
     },
     "execution_count": 163,
     "metadata": {},
     "output_type": "execute_result"
    }
   ],
   "source": [
    "gs.fit(x_train, y_train)"
   ]
  },
  {
   "cell_type": "code",
   "execution_count": 164,
   "metadata": {
    "collapsed": false,
    "deletable": true,
    "editable": true
   },
   "outputs": [],
   "source": [
    "rf = gs.best_estimator_"
   ]
  },
  {
   "cell_type": "code",
   "execution_count": 166,
   "metadata": {
    "collapsed": false,
    "deletable": true,
    "editable": true
   },
   "outputs": [
    {
     "data": {
      "text/plain": [
       "0.6752462886207361"
      ]
     },
     "execution_count": 166,
     "metadata": {},
     "output_type": "execute_result"
    }
   ],
   "source": [
    "gs.best_score_"
   ]
  },
  {
   "cell_type": "code",
   "execution_count": 167,
   "metadata": {
    "collapsed": false,
    "deletable": true,
    "editable": true
   },
   "outputs": [
    {
     "data": {
      "image/png": "[encoded data removed]",
      "text/plain": [
       "<matplotlib.figure.Figure at 0x7fecdd6579d0>"
      ]
     },
     "metadata": {},
     "output_type": "display_data"
    }
   ],
   "source": [
    "importances = [(x_train.columns[e], x) for e, x in enumerate(rf.steps[2][1].feature_importances_)]\n",
    "importances.sort(key=operator.itemgetter(1))\n",
    "figsize(20,6)\n",
    "plt.title(\"Feature importances\", fontsize=16)\n",
    "plt.bar(np.arange(len(importances)), [y for x, y in importances], color=\"g\", align=\"center\")\n",
    "plt.xticks(range(len(importances)), [x for x, y in importances], rotation='vertical', fontsize=16)\n",
    "# plt.xlim([0, range(len(importances))])\n",
    "plt.show()"
   ]
  },
  {
   "cell_type": "markdown",
   "metadata": {
    "deletable": true,
    "editable": true
   },
   "source": [
    "#### Logistic Regression"
   ]
  },
  {
   "cell_type": "code",
   "execution_count": 173,
   "metadata": {
    "collapsed": true,
    "deletable": true,
    "editable": true
   },
   "outputs": [],
   "source": [
    "algorithm = 'lr'\n",
    "model = Pipeline([('imputer', Imputer(missing_values=\"NaN\", strategy=\"median\")), ('scale', RobustScaler()),\n",
    "                  model_dict[algorithm]['pipe']])\n",
    "param_list = [model_dict[algorithm]['params']][0]\n",
    "gs = GridSearchCV(model, param_list, cv=3, n_jobs=2, scoring='roc_auc', verbose=1, refit=True)\n",
    "le = LabelEncoder()"
   ]
  },
  {
   "cell_type": "code",
   "execution_count": 174,
   "metadata": {
    "collapsed": false,
    "deletable": true,
    "editable": true,
    "scrolled": true
   },
   "outputs": [
    {
     "name": "stdout",
     "output_type": "stream",
     "text": [
      "Fitting 3 folds for each of 14 candidates, totalling 42 fits\n"
     ]
    },
    {
     "name": "stderr",
     "output_type": "stream",
     "text": [
      "[Parallel(n_jobs=2)]: Done  42 out of  42 | elapsed:    3.8s finished\n"
     ]
    },
    {
     "data": {
      "text/plain": [
       "GridSearchCV(cv=3, error_score='raise',\n",
       "       estimator=Pipeline(steps=[('imputer', Imputer(axis=0, copy=True, missing_values='NaN', strategy='median', verbose=0)), ('scale', RobustScaler(copy=True, quantile_range=(25.0, 75.0), with_centering=True,\n",
       "       with_scaling=True)), ('lr', LogisticRegression(C=1.0, class_weight=None, dual=False, fit_i...y='l2', random_state=None, solver='liblinear', tol=0.0001,\n",
       "          verbose=0, warm_start=False))]),\n",
       "       fit_params={}, iid=True, n_jobs=2,\n",
       "       param_grid=[{'lr__class_weight': [None, 'balanced'], 'lr__C': [0.001, 0.01, 0.1, 1, 10, 100, 1000]}],\n",
       "       pre_dispatch='2*n_jobs', refit=True, return_train_score=True,\n",
       "       scoring='roc_auc', verbose=1)"
      ]
     },
     "execution_count": 174,
     "metadata": {},
     "output_type": "execute_result"
    }
   ],
   "source": [
    "gs.fit(x_train, y_train)"
   ]
  },
  {
   "cell_type": "code",
   "execution_count": 175,
   "metadata": {
    "collapsed": false,
    "deletable": true,
    "editable": true
   },
   "outputs": [],
   "source": [
    "lr = gs.best_estimator_"
   ]
  },
  {
   "cell_type": "code",
   "execution_count": 176,
   "metadata": {
    "collapsed": false,
    "deletable": true,
    "editable": true
   },
   "outputs": [
    {
     "data": {
      "text/plain": [
       "0.64938157909589589"
      ]
     },
     "execution_count": 176,
     "metadata": {},
     "output_type": "execute_result"
    }
   ],
   "source": [
    "gs.best_score_"
   ]
  },
  {
   "cell_type": "code",
   "execution_count": 177,
   "metadata": {
    "collapsed": false,
    "deletable": true,
    "editable": true,
    "scrolled": true
   },
   "outputs": [],
   "source": [
    "importances = zip(x_train.columns.tolist(), lr.steps[2][1].coef_[0].tolist())"
   ]
  },
  {
   "cell_type": "code",
   "execution_count": 186,
   "metadata": {
    "collapsed": false,
    "deletable": true,
    "editable": true
   },
   "outputs": [
    {
     "data": {
      "image/png": "[encoded data removed]",
      "text/plain": [
       "<matplotlib.figure.Figure at 0x7fecdd4ae410>"
      ]
     },
     "metadata": {},
     "output_type": "display_data"
    }
   ],
   "source": [
    "figsize(20,6)\n",
    "plt.title(\"Logistic Regression Coefficients\", fontsize=16)\n",
    "plt.barh(np.arange(len(importances)), [y for x, y in importances], color=\"g\", align=\"center\")\n",
    "plt.yticks(range(len(importances)), [x for x, y in importances], rotation='horizontal', fontsize=16)\n",
    "plt.xticks(np.arange(-1.1,.7,.05))\n",
    "plt.show()"
   ]
  },
  {
   "cell_type": "code",
   "execution_count": null,
   "metadata": {
    "collapsed": true,
    "deletable": true,
    "editable": true
   },
   "outputs": [],
   "source": []
  },
  {
   "cell_type": "code",
   "execution_count": null,
   "metadata": {
    "collapsed": true,
    "deletable": true,
    "editable": true
   },
   "outputs": [],
   "source": []
  }
 ],
 "metadata": {
  "kernelspec": {
   "display_name": "Python 2",
   "language": "python",
   "name": "python2"
  },
  "language_info": {
   "codemirror_mode": {
    "name": "ipython",
    "version": 2
   },
   "file_extension": ".py",
   "mimetype": "text/x-python",
   "name": "python",
   "nbconvert_exporter": "python",
   "pygments_lexer": "ipython2",
   "version": "2.7.12"
  }
 },
 "nbformat": 4,
 "nbformat_minor": 2
}
